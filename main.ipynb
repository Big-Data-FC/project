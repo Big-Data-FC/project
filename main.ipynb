{
 "cells": [
  {
   "cell_type": "markdown",
   "metadata": {},
   "source": [
    "# Wall of imports"
   ]
  },
  {
   "cell_type": "code",
   "execution_count": 1,
   "metadata": {},
   "outputs": [],
   "source": [
    "from pyspark.sql import *\n",
    "from pyspark.sql.types import *\n",
    "from pyspark.sql.functions import *\n",
    "from pyspark import SparkContext, SparkConf\n",
    "\n",
    "import itertools\n",
    "\n",
    "import pandas as pd\n",
    "\n",
    "import numpy as np\n",
    "\n",
    "import copy\n",
    "\n",
    "from pyspark.ml.feature import VectorAssembler\n",
    "from pyspark.ml.feature import StringIndexer\n",
    "from pyspark.ml.feature import StandardScaler\n",
    "from pyspark.ml.feature import PCA\n",
    "\n",
    "import matplotlib.pyplot as plt\n",
    "import seaborn as sns\n",
    "# %matplotlib inline\n",
    "%matplotlib widget\n",
    "\n",
    "from tqdm import tqdm\n",
    "\n",
    "from pyspark.ml.clustering import KMeans\n",
    "from pyspark.ml.feature import Normalizer\n",
    "\n",
    "RANDOM_SEED = None\n",
    "\n",
    "from pyspark.ml.evaluation import ClusteringEvaluator\n",
    "\n",
    "from pyspark.ml.linalg import Vectors\n",
    "\n",
    "from functools import reduce\n",
    "\n",
    "import json\n",
    "\n",
    "from pyspark.ml.regression import LinearRegression\n",
    "\n",
    "from pyspark_dist_explore import hist\n",
    "\n",
    "from pyspark.ml.regression import RandomForestRegressor\n",
    "\n",
    "from pyspark.ml.regression import DecisionTreeRegressor\n",
    "\n",
    "from pyspark.ml import Pipeline\n",
    "\n",
    "from pyspark.ml.tuning import ParamGridBuilder\n",
    "\n",
    "from pyspark.ml.tuning import CrossValidator\n",
    "from pyspark.ml.evaluation import RegressionEvaluator\n",
    "\n",
    "from pyspark.ml.regression import GBTRegressor\n",
    "\n",
    "from pyspark.ml.classification import MultilayerPerceptronClassifier\n",
    "\n",
    "from pyspark.ml.classification import LogisticRegression\n",
    "\n",
    "from pyspark.ml.classification import LinearSVC, OneVsRest\n",
    "from pyspark.ml.evaluation import MulticlassClassificationEvaluator\n",
    "\n",
    "from pyspark.ml.classification import DecisionTreeClassifier\n",
    "from pyspark.ml.classification import RandomForestClassifier\n",
    "\n",
    "from operator import itemgetter\n",
    "\n",
    "from pyspark.ml.feature import MinMaxScaler\n",
    "\n",
    "from pyspark.ml.linalg import Vectors, VectorUDT\n",
    "\n",
    "from pyspark.ml.stat import Summarizer\n",
    "\n",
    "from sklearn.manifold import TSNE\n",
    "\n",
    "from sklearn.decomposition import KernelPCA\n",
    "\n",
    "from pyspark.ml.feature import UnivariateFeatureSelector\n",
    "from pyspark.ml.linalg import DenseVector\n",
    "import numpy as np\n",
    "import pandas as pd\n",
    "import matplotlib.pyplot as plt \n",
    "import seaborn as sns\n",
    "import re\n",
    "\n",
    "import sklearn\n",
    "from sklearn.model_selection import train_test_split\n",
    "# from sklearn.preprocessing import MinMaxScaler\n",
    "from sklearn.preprocessing import PolynomialFeatures\n",
    "from sklearn.preprocessing import scale\n",
    "from sklearn.feature_selection import RFE\n",
    "# from sklearn.linear_model import LinearRegression\n",
    "from sklearn.model_selection import cross_val_score\n",
    "from sklearn.model_selection import KFold\n",
    "from sklearn.model_selection import GridSearchCV\n",
    "from sklearn.pipeline import make_pipeline\n",
    "\n",
    "from sklearn.model_selection import cross_val_score\n",
    "\n",
    "from sklearn.linear_model import Ridge\n",
    "from sklearn.linear_model import Lasso\n",
    "# from sklearn.tree import DecisionTreeRegressor\n",
    "from sklearn.ensemble import GradientBoostingRegressor\n",
    "# from sklearn.ensemble import RandomForestRegressor\n",
    "\n",
    "from sklearn.preprocessing import FunctionTransformer\n",
    "\n",
    "\n",
    "import warnings # supress warnings\n",
    "warnings.filterwarnings('ignore')"
   ]
  },
  {
   "cell_type": "markdown",
   "metadata": {},
   "source": [
    "# Spark"
   ]
  },
  {
   "cell_type": "code",
   "execution_count": 2,
   "metadata": {},
   "outputs": [
    {
     "name": "stderr",
     "output_type": "stream",
     "text": [
      "22/06/15 17:38:48 WARN Utils: Your hostname, RTX-2070-Rig resolves to a loopback address: 127.0.1.1; using 192.168.1.189 instead (on interface wlp7s0)\n",
      "22/06/15 17:38:48 WARN Utils: Set SPARK_LOCAL_IP if you need to bind to another address\n",
      "Using Spark's default log4j profile: org/apache/spark/log4j-defaults.properties\n",
      "Setting default log level to \"WARN\".\n",
      "To adjust logging level use sc.setLogLevel(newLevel). For SparkR, use setLogLevel(newLevel).\n",
      "22/06/15 17:38:49 WARN NativeCodeLoader: Unable to load native-hadoop library for your platform... using builtin-java classes where applicable\n"
     ]
    }
   ],
   "source": [
    "conf = (\n",
    "    SparkConf()\n",
    "    .set(\"spark.ui.port\", \"4050\")\n",
    "    .set(\"spark.executor.memory\", \"4G\")\n",
    "    .set(\"spark.driver.memory\", \"20G\")\n",
    "    .set(\"spark.driver.maxResultSize\", \"10G\")\n",
    ")\n",
    "# .set(\"spark.master\", \"spark://192.168.1.189:4050\")\n",
    "\n",
    "\n",
    "# create the context\n",
    "sc = SparkContext(conf=conf)\n",
    "sc.setLogLevel(\"ERROR\")\n",
    "\n",
    "\n",
    "spark = SparkSession.builder.getOrCreate()"
   ]
  },
  {
   "cell_type": "markdown",
   "metadata": {},
   "source": [
    "# Loading football players"
   ]
  },
  {
   "cell_type": "code",
   "execution_count": 3,
   "metadata": {},
   "outputs": [
    {
     "name": "stderr",
     "output_type": "stream",
     "text": [
      "                                                                                \r"
     ]
    }
   ],
   "source": [
    "modern_df = spark.read.csv(\n",
    "    \"data/players_*.csv\", sep=\",\", inferSchema=True, header=True, multiLine=True\n",
    ")\n",
    "\n",
    "legacy_df = spark.read.csv(\n",
    "    \"data/scraped_players_*.csv\", sep=\",\", inferSchema=True, header=True, \n",
    "    multiLine=True\n",
    ")"
   ]
  },
  {
   "cell_type": "markdown",
   "metadata": {},
   "source": [
    "# Pre-processing football players"
   ]
  },
  {
   "cell_type": "code",
   "execution_count": 4,
   "metadata": {},
   "outputs": [],
   "source": [
    "leagues = [\n",
    "    \"Spain Primera Division\",\n",
    "    # \"German 1. Bundesliga\",\n",
    "    # \"French Ligue 1\",\n",
    "    # \"English Premier League\",\n",
    "    # \"Italian Serie A\",\n",
    "    # \"Holland Eredivisie\",\n",
    "]\n",
    "\n",
    "# seasons_modern = [\"20\", \"19\", \"18\", \"17\", \"16\", \"15\", \"14\"] \n",
    "seasons_modern = [\"20\", \"19\"] \n",
    "# seasons_legacy = [\"13\", \"12\", \"11\", \"10\", \"09\", \"08\", \"07\"]\n",
    "seasons_legacy = [ ]\n",
    "seasons = seasons_legacy + seasons_modern\n",
    "\n",
    "# football_teams = [\n",
    "#     row[\"club_name\"] for row in modern_df.select(\n",
    "#         \"club_name\"\n",
    "#     ).distinct().collect()\n",
    "# ]\n",
    "\n",
    "macro_roles = [\"0.0\", \"1.0\", \"2.0\", \"3.0\", \"4.0\", \"5.0\", \"6.0\", \"7.0\"]\n",
    "\n",
    "roles_to_macro_roles_dict = {\n",
    "    \"GK\": \"0\",\n",
    "    \"LB\": \"1\",\n",
    "    \"RB\": \"1\",\n",
    "    \"RWB\": \"1\",\n",
    "    \"LWB\": \"1\",\n",
    "    \"CB\": \"2\",\n",
    "    \"CDM\": \"3\",\n",
    "    \"CM\": \"4\",\n",
    "    \"RM\": \"4\",\n",
    "    \"LM\": \"4\",\n",
    "    \"CAM\": \"5\",\n",
    "    \"RW\": \"6\",\n",
    "    \"LW\": \"6\",\n",
    "    \"ST\": \"7\",\n",
    "    \"LF\": \"7\",\n",
    "    \"RF\": \"7\",\n",
    "    \"CF\": \"7\",\n",
    "}\n",
    "NUM_MACRO_ROLES = 8\n",
    "\n",
    "columns = [\n",
    "    \"short_name\",\n",
    "    \"club_name\",\n",
    "    \"league_name\",\n",
    "    \"season\",\n",
    "    \"player_positions\",\n",
    "    \"macro_role\",\n",
    "    \"overall\",\n",
    "    \"value\",\n",
    "    \"pace\",\n",
    "    \"shooting\",\n",
    "    \"passing\",\n",
    "    \"dribbling\",\n",
    "    \"defending\",\n",
    "    \"physic\",\n",
    "    \"attacking_crossing\",\n",
    "    \"attacking_finishing\",\n",
    "    \"attacking_heading_accuracy\",\n",
    "    \"attacking_short_passing\",\n",
    "    \"skill_dribbling\",\n",
    "    \"skill_fk_accuracy\",\n",
    "    \"skill_long_passing\",\n",
    "    \"skill_ball_control\",\n",
    "    \"movement_acceleration\",\n",
    "    \"movement_sprint_speed\",\n",
    "    \"movement_reactions\",\n",
    "    \"power_shot_power\",\n",
    "    \"power_stamina\",\n",
    "    \"power_strength\",\n",
    "    \"power_long_shots\",\n",
    "    \"mentality_aggression\",\n",
    "    \"mentality_penalties\",\n",
    "    \"defending_standing_tackle\"\n",
    "]\n",
    "\n",
    "def get_season(url):\n",
    "    url_split = url.split(\"/\")\n",
    "\n",
    "    # -1 to scale FIFA years down, to have compatibility with all_tables_fixed\n",
    "    return str(\n",
    "        (int(url_split[-2 if url_split[-1] == \"\" else -1][0:2]) - 1)\n",
    "    ).zfill(2)\n",
    "\n",
    "\n",
    "get_season_UDF = udf(lambda url: get_season(url), StringType())\n",
    "\n",
    "roles_to_macro_role_UDF = udf(\n",
    "    lambda roles: float(roles_to_macro_roles_dict[roles.split(\",\")[0]]), StringType()\n",
    ")"
   ]
  },
  {
   "cell_type": "code",
   "execution_count": 5,
   "metadata": {},
   "outputs": [],
   "source": [
    "pre_processed_modern_df = modern_df.dropDuplicates([\"player_url\"])\n",
    "pre_processed_legacy_df = legacy_df.dropDuplicates([\"player_url\"])\n",
    "\n",
    "pre_processed_modern_df = pre_processed_modern_df.na.fill(0)\n",
    "pre_processed_legacy_df = pre_processed_legacy_df.na.fill(0)\n",
    "\n",
    "pre_processed_modern_df = pre_processed_modern_df.withColumn(\n",
    "    \"season\", get_season_UDF(col(\"player_url\"))\n",
    ")\n",
    "pre_processed_legacy_df = pre_processed_legacy_df.withColumn(\n",
    "    \"season\", get_season_UDF(col(\"player_url\"))\n",
    ")\n",
    "\n",
    "pre_processed_modern_df = pre_processed_modern_df.withColumn(\n",
    "    \"macro_role\", roles_to_macro_role_UDF(col(\"player_positions\"))\n",
    ")\n",
    "pre_processed_legacy_df = pre_processed_legacy_df.withColumn(\n",
    "    \"macro_role\", roles_to_macro_role_UDF(col(\"player_positions\"))\n",
    ")\n",
    "\n",
    "pre_processed_modern_df = pre_processed_modern_df.withColumnRenamed(\n",
    "    \"value_eur\", \"value\"\n",
    ")\n",
    "\n",
    "pre_processed_modern_df = pre_processed_modern_df.where(\n",
    "    (pre_processed_modern_df.league_name.isin(leagues))\n",
    "    &\n",
    "    (pre_processed_modern_df.season.isin(seasons_modern))\n",
    ")\n",
    "pre_processed_legacy_df = pre_processed_legacy_df.where(\n",
    "    (pre_processed_legacy_df.league_name.isin(leagues))\n",
    "    &\n",
    "    (pre_processed_legacy_df.season.isin(seasons_legacy))\n",
    ")\n",
    "\n",
    "pre_processed_modern_df = pre_processed_modern_df.select(columns)\n",
    "\n",
    "# TODO use a for loop\n",
    "pre_processed_legacy_df = pre_processed_legacy_df.withColumnRenamed(\n",
    "    \"pas\", \"passing\"\n",
    ")\n",
    "pre_processed_legacy_df = pre_processed_legacy_df.withColumnRenamed(\n",
    "    \"dri\", \"dribbling\"\n",
    ")\n",
    "pre_processed_legacy_df = pre_processed_legacy_df.drop(col(\"defending\"))\n",
    "\n",
    "pre_processed_legacy_df = pre_processed_legacy_df.withColumnRenamed(\n",
    "    \"def\", \"defending\"\n",
    ")\n",
    "pre_processed_legacy_df = pre_processed_legacy_df.withColumnRenamed(\n",
    "    \"phy\", \"physic\"\n",
    ")\n",
    "\n",
    "pre_processed_legacy_df = pre_processed_legacy_df.withColumnRenamed(\n",
    "    \"sho\", \"shooting\"\n",
    ")\n",
    "pre_processed_legacy_df = pre_processed_legacy_df.withColumnRenamed(\n",
    "    \"pac\", \"pace\"\n",
    ")\n",
    "pre_processed_legacy_df = pre_processed_legacy_df.withColumnRenamed(\n",
    "    \"bov\", \"overall\"\n",
    ")\n",
    "\n",
    "pre_processed_legacy_df = pre_processed_legacy_df.select(columns)"
   ]
  },
  {
   "cell_type": "code",
   "execution_count": 6,
   "metadata": {},
   "outputs": [],
   "source": [
    "pre_processed_df = pre_processed_modern_df.unionByName(\n",
    "    pre_processed_legacy_df\n",
    ")\n"
   ]
  },
  {
   "cell_type": "markdown",
   "metadata": {},
   "source": [
    "# Building football teams"
   ]
  },
  {
   "cell_type": "code",
   "execution_count": 7,
   "metadata": {},
   "outputs": [],
   "source": [
    "football_teams_df = pre_processed_df"
   ]
  },
  {
   "cell_type": "code",
   "execution_count": 8,
   "metadata": {},
   "outputs": [],
   "source": [
    "PLAYER_FEATURES = [\n",
    "    \"overall\",\n",
    "    \"value\",\n",
    "    \"pace\",\n",
    "    \"shooting\",\n",
    "    \"passing\",\n",
    "    \"dribbling\",\n",
    "    \"defending\",\n",
    "    \"physic\",\n",
    "    \"attacking_crossing\",\n",
    "    \"attacking_finishing\",\n",
    "    \"attacking_heading_accuracy\",\n",
    "    \"attacking_short_passing\",\n",
    "    \"skill_dribbling\",\n",
    "    \"skill_fk_accuracy\",\n",
    "    \"skill_long_passing\",\n",
    "    \"skill_ball_control\",\n",
    "    \"movement_acceleration\",\n",
    "    \"movement_sprint_speed\",\n",
    "    \"movement_reactions\",\n",
    "    \"power_shot_power\",\n",
    "    \"power_stamina\",\n",
    "    \"power_strength\",\n",
    "    \"power_long_shots\",\n",
    "    \"mentality_aggression\",\n",
    "    \"mentality_penalties\",\n",
    "    \"defending_standing_tackle\"\n",
    "]\n",
    "\n",
    "PLAYER_FEATURES_AVG = [\n",
    "    \"avg(\" + player_feature + \")\" for player_feature in PLAYER_FEATURES\n",
    "]\n",
    "\n",
    "TARGET_VARIABLE = \"points\""
   ]
  },
  {
   "cell_type": "code",
   "execution_count": null,
   "metadata": {},
   "outputs": [],
   "source": [
    "football_teams_df = football_teams_df.select(\n",
    "    \"season\", \"club_name\", *PLAYER_FEATURES\n",
    ").groupBy(\n",
    "    [\"season\", \"club_name\"]\n",
    ").agg(\n",
    "    { player_feature: \"avg\" for player_feature in PLAYER_FEATURES }\n",
    ")"
   ]
  },
  {
   "cell_type": "markdown",
   "metadata": {},
   "source": [
    "# Loading football teams seasonal scores"
   ]
  },
  {
   "cell_type": "code",
   "execution_count": null,
   "metadata": {},
   "outputs": [],
   "source": [
    "seasonal_scores_df = (\n",
    "    spark.read.csv(\n",
    "        \"data/all_tables_fixed_renamed_leagues.csv\",\n",
    "        sep=\",\",\n",
    "        inferSchema=True,\n",
    "        header=True,\n",
    "        multiLine=True,\n",
    "    )\n",
    "    .withColumnRenamed(\"Year\", \"year\")\n",
    "    .withColumnRenamed(\"Team\", \"club_name_abbr\")\n",
    "    .withColumnRenamed(\"P\", \"points\")\n",
    "    .withColumnRenamed(\"Place\", \"place\")\n",
    "    .withColumnRenamed(\"League\", \"league\")\n",
    ")"
   ]
  },
  {
   "cell_type": "markdown",
   "metadata": {},
   "source": [
    "# Pre-processing football teams seasonal scores"
   ]
  },
  {
   "cell_type": "code",
   "execution_count": null,
   "metadata": {},
   "outputs": [],
   "source": [
    "seasonal_scores_columns = [\n",
    "    \"year\", \"club_name_abbr\", \"points\", \"place\", \"league\"\n",
    "]\n",
    "\n",
    "f = open(\"data/clubs_map.json\")\n",
    "club_name_abbr_to_ext = json.load(f)\n",
    "f.close()\n",
    "\n",
    "abbreviate_season_UDF = udf(\n",
    "    lambda season: str(season)[-2:],\n",
    "    StringType(),\n",
    ")\n",
    "\n",
    "def extend_club_name(club_name_abbr):\n",
    "    try:\n",
    "        return club_name_abbr_to_ext[club_name_abbr]\n",
    "    except KeyError as e:\n",
    "        return \"NOT_FOUND\"\n",
    "    except Exception as e:\n",
    "        return \"GENERAL_EXCEPTION\"\n",
    "\n",
    "extend_club_name_UDF = udf(\n",
    "    lambda club_name_abbr: extend_club_name(str(club_name_abbr)),\n",
    "    StringType(),\n",
    ")"
   ]
  },
  {
   "cell_type": "code",
   "execution_count": null,
   "metadata": {},
   "outputs": [],
   "source": [
    "pre_processed_seasonal_scores_df = seasonal_scores_df\n",
    "\n",
    "pre_processed_seasonal_scores_df = pre_processed_seasonal_scores_df.dropDuplicates(\n",
    "    seasonal_scores_columns\n",
    ")\n",
    "\n",
    "pre_processed_seasonal_scores_df = pre_processed_seasonal_scores_df.na.fill(0)\n",
    "\n",
    "pre_processed_seasonal_scores_df = pre_processed_seasonal_scores_df.select(\n",
    "    seasonal_scores_columns\n",
    ")\n",
    "\n",
    "pre_processed_seasonal_scores_df = pre_processed_seasonal_scores_df.withColumn(\n",
    "    \"year\", abbreviate_season_UDF(col(\"year\"))\n",
    ")\n",
    "\n",
    "pre_processed_seasonal_scores_df = pre_processed_seasonal_scores_df.withColumn(\n",
    "    \"club_name_ext\", extend_club_name_UDF(col(\"club_name_abbr\"))\n",
    ")\n",
    "\n",
    "pre_processed_seasonal_scores_df = pre_processed_seasonal_scores_df.withColumn(\n",
    "    \"points\", pre_processed_seasonal_scores_df.points.cast(DoubleType())\n",
    ")\n",
    "\n",
    "if pre_processed_seasonal_scores_df.filter(\n",
    "    col(\"club_name_ext\") == \"NOT_FOUND\"\n",
    ").count() > 0:\n",
    "    print(\"WARN: some clubs have NOT been found\")\n",
    "    print(\"Please check your data\")"
   ]
  },
  {
   "cell_type": "code",
   "execution_count": null,
   "metadata": {},
   "outputs": [],
   "source": [
    "pre_processed_seasonal_scores_df = pre_processed_seasonal_scores_df.where(\n",
    "    (pre_processed_seasonal_scores_df.year.isin(seasons))\n",
    "    & (pre_processed_seasonal_scores_df.league.isin(leagues))\n",
    ")"
   ]
  },
  {
   "cell_type": "code",
   "execution_count": null,
   "metadata": {},
   "outputs": [],
   "source": [
    "seasonal_scores_pre_join_columns = [\n",
    "    \"year\", \"league\", \"club_name_ext\", \"points\", \"place\"\n",
    "]\n",
    "\n",
    "pre_processed_seasonal_scores_df = pre_processed_seasonal_scores_df.select(\n",
    "    seasonal_scores_pre_join_columns\n",
    ")"
   ]
  },
  {
   "cell_type": "markdown",
   "metadata": {},
   "source": [
    "# Joining football teams features with their seasonal scores"
   ]
  },
  {
   "cell_type": "code",
   "execution_count": null,
   "metadata": {},
   "outputs": [],
   "source": [
    "df = football_teams_df.join(\n",
    "    pre_processed_seasonal_scores_df,\n",
    "    (football_teams_df.season == pre_processed_seasonal_scores_df.year)\n",
    "    & (\n",
    "        football_teams_df.club_name\n",
    "        == pre_processed_seasonal_scores_df.club_name_ext\n",
    "    ),\n",
    ")"
   ]
  },
  {
   "cell_type": "code",
   "execution_count": null,
   "metadata": {},
   "outputs": [],
   "source": [
    "if pre_processed_seasonal_scores_df.select(\"club_name_ext\").distinct().subtract(\n",
    "    df.select(\"club_name_ext\").distinct()\n",
    ").count() > 0:\n",
    "    print(\"WARN: Some football teams have been left out the join (pre_processed_seasonal_scores_df)\")\n",
    "    print(\"Please, check your data!\")\n",
    "\n",
    "if football_teams_df.select(\"club_name\").distinct().subtract(\n",
    "    df.select(\"club_name_ext\").distinct()\n",
    ").count() > 0:\n",
    "    print(\"WARN: Some football teams have been left out the join (football_teams_df)\")\n",
    "    print(\"Please, check your data!\")"
   ]
  },
  {
   "cell_type": "markdown",
   "metadata": {},
   "source": [
    "# Attempt 1: \"naive\" player features\n",
    "\n",
    "Naive --> simply take the given features and NOT crafting them from other learning processes (i.e. NO clustering or stuff)"
   ]
  },
  {
   "cell_type": "code",
   "execution_count": null,
   "metadata": {},
   "outputs": [],
   "source": [
    "ALL_FEATURES = PLAYER_FEATURES_AVG\n",
    "ALL_FEATURES.remove(\"avg(overall)\")\n",
    "ALL_FEATURES.remove(\"avg(value)\")\n"
   ]
  },
  {
   "cell_type": "code",
   "execution_count": null,
   "metadata": {},
   "outputs": [],
   "source": [
    "assembler = VectorAssembler(\n",
    "    inputCols=ALL_FEATURES, outputCol=\"all_vec\"\n",
    ")\n",
    "\n",
    "df = assembler.transform(df)"
   ]
  },
  {
   "cell_type": "code",
   "execution_count": null,
   "metadata": {},
   "outputs": [],
   "source": [
    "def plot_feature_target_relation(\n",
    "    data, x, y, n_rows = 12, n_cols = 2, figsize = (20, 40), color = \"#000000\"\n",
    "):\n",
    "\n",
    "    fig, axes = plt.subplots(n_rows, n_cols, figsize=figsize)\n",
    "\n",
    "    for x_ind, x_value in enumerate(x):\n",
    "        ax = sns.regplot(\n",
    "            data=pdf,\n",
    "            x=x_value,\n",
    "            y=y,\n",
    "            color = color,\n",
    "            ax=axes[x_ind // n_cols, x_ind % n_cols],\n",
    "        )\n",
    "\n",
    "\n",
    "    fig.tight_layout(pad=1.5)"
   ]
  },
  {
   "cell_type": "code",
   "execution_count": null,
   "metadata": {},
   "outputs": [],
   "source": [
    "def plot_feature_distribution(\n",
    "    data, features, figsize = (20, 40), \n",
    "    color = \"#000000\"\n",
    "):\n",
    "\n",
    "    n_cols = 2\n",
    "    n_rows = int(len(features) / n_cols) if len(features) >= n_cols else n_cols\n",
    "\n",
    "    fig, axes = plt.subplots(n_rows, n_cols, figsize=(10, 30))\n",
    "\n",
    "    for feature_ind, feature in enumerate(features):\n",
    "        _ = sns.histplot(\n",
    "            data[feature],\n",
    "            kde=True,\n",
    "            color=color,\n",
    "            facecolor=color,\n",
    "            ax=axes[feature_ind // n_cols, feature_ind % n_cols],\n",
    "        )\n",
    "\n",
    "    fig.tight_layout(pad=1.5)"
   ]
  },
  {
   "cell_type": "code",
   "execution_count": null,
   "metadata": {},
   "outputs": [],
   "source": [
    "def plot_correlation_matrix(\n",
    "    data, features, title = \"Pearson Correlation Matrix\", figsize = (16,12)\n",
    "):\n",
    "\n",
    "    mask = np.zeros_like(data[features].corr(), dtype=bool)\n",
    "    mask[np.triu_indices_from(mask)] = True\n",
    "\n",
    "    with sns.axes_style(\"white\"):  # Temporarily set the background to white\n",
    "        fig, ax = plt.subplots(figsize=figsize)\n",
    "        plt.title(title, fontsize=24)\n",
    "\n",
    "        cmap = sns.diverging_palette(220, 10, as_cmap=True)\n",
    "\n",
    "        _ = sns.heatmap(\n",
    "            data[features].corr(),\n",
    "            linewidths=0.25,\n",
    "            vmax=0.7,\n",
    "            square=True,\n",
    "            ax=ax,\n",
    "            cmap=cmap,\n",
    "            linecolor=\"w\",\n",
    "            annot=True,\n",
    "            annot_kws={\"size\": 8},\n",
    "            mask=mask,\n",
    "            cbar_kws={\"shrink\": 0.9},\n",
    "        )"
   ]
  },
  {
   "cell_type": "markdown",
   "metadata": {},
   "source": [
    "## Raw data"
   ]
  },
  {
   "cell_type": "markdown",
   "metadata": {},
   "source": [
    "*[explain what does \"raw\" mean]*"
   ]
  },
  {
   "cell_type": "code",
   "execution_count": null,
   "metadata": {},
   "outputs": [],
   "source": [
    "COLOR_RAW = \"#332FD0\""
   ]
  },
  {
   "cell_type": "code",
   "execution_count": null,
   "metadata": {},
   "outputs": [],
   "source": [
    "pdf = df.toPandas()"
   ]
  },
  {
   "cell_type": "markdown",
   "metadata": {},
   "source": [
    "### Feature-target correlation"
   ]
  },
  {
   "cell_type": "code",
   "execution_count": null,
   "metadata": {},
   "outputs": [],
   "source": [
    "#TODO set an appropriate figsize for Google Colab\n",
    "plot_feature_target_relation(\n",
    "    pdf, ALL_FEATURES, TARGET_VARIABLE, figsize=(4,4), color=COLOR_RAW\n",
    ")"
   ]
  },
  {
   "cell_type": "markdown",
   "metadata": {},
   "source": [
    "### Feature distribution"
   ]
  },
  {
   "cell_type": "code",
   "execution_count": null,
   "metadata": {},
   "outputs": [],
   "source": [
    "plot_feature_distribution(pdf, ALL_FEATURES, color = COLOR_RAW, figsize=(4,4))"
   ]
  },
  {
   "cell_type": "markdown",
   "metadata": {},
   "source": [
    "### Pearson Correlation Matrix"
   ]
  },
  {
   "cell_type": "code",
   "execution_count": null,
   "metadata": {},
   "outputs": [],
   "source": [
    "plot_correlation_matrix(pdf, ALL_FEATURES)"
   ]
  },
  {
   "cell_type": "markdown",
   "metadata": {},
   "source": [
    "## Standardization"
   ]
  },
  {
   "cell_type": "markdown",
   "metadata": {},
   "source": [
    "Since we have some features with skewed distributions, we'll try to standardize, to see whether it helps with feature skewness or not"
   ]
  },
  {
   "cell_type": "code",
   "execution_count": null,
   "metadata": {},
   "outputs": [],
   "source": [
    "# standardized_df = df"
   ]
  },
  {
   "cell_type": "code",
   "execution_count": null,
   "metadata": {},
   "outputs": [],
   "source": [
    "scaler = StandardScaler(\n",
    "    inputCol=\"all_vec\", \n",
    "    outputCol=\"all_vec_std\", \n",
    "    withStd=True, \n",
    "    withMean=True\n",
    ")"
   ]
  },
  {
   "cell_type": "code",
   "execution_count": null,
   "metadata": {},
   "outputs": [],
   "source": [
    "# standardized_df = scaler.fit(standardized_df).transform(standardized_df)\n",
    "df = scaler.fit(df).transform(df)"
   ]
  },
  {
   "cell_type": "code",
   "execution_count": null,
   "metadata": {},
   "outputs": [],
   "source": [
    "COLOR_STD = \"#9254C8\"\n",
    "\n",
    "ALL_FEATURES_STD = [\n",
    "    player_feature + \"_std\" for player_feature in ALL_FEATURES\n",
    "]"
   ]
  },
  {
   "cell_type": "code",
   "execution_count": null,
   "metadata": {},
   "outputs": [],
   "source": [
    "# pdf = standardized_df.toPandas()\n",
    "pdf = df.toPandas()"
   ]
  },
  {
   "cell_type": "code",
   "execution_count": null,
   "metadata": {},
   "outputs": [],
   "source": [
    "#TODO make a commodity function, because it will be used in other normalizations as well\n",
    "\n",
    "pdf = pdf.reindex(\n",
    "    columns=list(pdf.columns) + ALL_FEATURES_STD\n",
    ")\n",
    "\n",
    "pdf[ALL_FEATURES_STD] = pdf[\n",
    "    \"all_vec_std\"\n",
    "].transform(\n",
    "    {\n",
    "        ALL_FEATURES_STD[i]: itemgetter(i) for i, p in enumerate(ALL_FEATURES_STD)\n",
    "    }\n",
    "\n",
    "    \n",
    ")"
   ]
  },
  {
   "cell_type": "markdown",
   "metadata": {},
   "source": [
    "### Feature-target correlation"
   ]
  },
  {
   "cell_type": "code",
   "execution_count": null,
   "metadata": {},
   "outputs": [],
   "source": [
    "#TODO set an appropriate figsize for Google Colab\n",
    "plot_feature_target_relation(\n",
    "    pdf, ALL_FEATURES_STD, TARGET_VARIABLE, figsize=(4,4), color=COLOR_STD\n",
    ")"
   ]
  },
  {
   "cell_type": "markdown",
   "metadata": {},
   "source": [
    "#### Feature distribution"
   ]
  },
  {
   "cell_type": "code",
   "execution_count": null,
   "metadata": {},
   "outputs": [],
   "source": [
    "plot_feature_distribution(\n",
    "    pdf, ALL_FEATURES_STD, color = COLOR_STD, figsize=(10,10)\n",
    ")"
   ]
  },
  {
   "cell_type": "markdown",
   "metadata": {},
   "source": [
    "*[state why pearson correlation matrix does NOT make sense to be plotted again]*"
   ]
  },
  {
   "cell_type": "markdown",
   "metadata": {},
   "source": [
    "## Log transformation"
   ]
  },
  {
   "cell_type": "code",
   "execution_count": null,
   "metadata": {},
   "outputs": [],
   "source": [
    "# log_df = df"
   ]
  },
  {
   "cell_type": "code",
   "execution_count": null,
   "metadata": {},
   "outputs": [],
   "source": [
    "ALL_FEATURES_LOG = [\n",
    "    player_feature + \"_log\" for player_feature in ALL_FEATURES\n",
    "]\n",
    "\n",
    "COLOR_LOG = \"#E15FED\""
   ]
  },
  {
   "cell_type": "code",
   "execution_count": null,
   "metadata": {},
   "outputs": [],
   "source": [
    "to_log_UDF = udf(\n",
    "    lambda value: float(np.log2(value)), DoubleType()\n",
    ")"
   ]
  },
  {
   "cell_type": "code",
   "execution_count": null,
   "metadata": {},
   "outputs": [],
   "source": [
    "for f, fl in zip(ALL_FEATURES, ALL_FEATURES_LOG):\n",
    "    # log_df = log_df.withColumn(fl, to_log_UDF(col(f)))\n",
    "    df = df.withColumn(fl, to_log_UDF(col(f)))"
   ]
  },
  {
   "cell_type": "code",
   "execution_count": null,
   "metadata": {},
   "outputs": [],
   "source": [
    "# pdf = log_df.toPandas()\n",
    "pdf = df.toPandas()"
   ]
  },
  {
   "cell_type": "markdown",
   "metadata": {},
   "source": [
    "### Feature-target correlation"
   ]
  },
  {
   "cell_type": "code",
   "execution_count": null,
   "metadata": {},
   "outputs": [],
   "source": [
    "#TODO set an appropriate figsize for Google Colab\n",
    "plot_feature_target_relation(\n",
    "    pdf, ALL_FEATURES_LOG, TARGET_VARIABLE, figsize=(4,4), color=COLOR_LOG\n",
    ")"
   ]
  },
  {
   "cell_type": "markdown",
   "metadata": {},
   "source": [
    "### Feature distribution"
   ]
  },
  {
   "cell_type": "code",
   "execution_count": null,
   "metadata": {},
   "outputs": [],
   "source": [
    "plot_feature_distribution(pdf, ALL_FEATURES_LOG, color = COLOR_LOG, figsize=(10,10))"
   ]
  },
  {
   "cell_type": "markdown",
   "metadata": {},
   "source": [
    "## Min-max transformation"
   ]
  },
  {
   "cell_type": "code",
   "execution_count": null,
   "metadata": {},
   "outputs": [],
   "source": [
    "# min_max_df = df"
   ]
  },
  {
   "cell_type": "code",
   "execution_count": null,
   "metadata": {},
   "outputs": [],
   "source": [
    "ALL_FEATURES_MIN_MAX = [\n",
    "    player_feature + \"_min_max\" for player_feature in ALL_FEATURES\n",
    "]\n",
    "\n",
    "COLOR_MIN_MAX = \"#6EDCD9\""
   ]
  },
  {
   "cell_type": "code",
   "execution_count": null,
   "metadata": {},
   "outputs": [],
   "source": [
    "scaler = MinMaxScaler(\n",
    "    inputCol=\"all_vec\", \n",
    "    outputCol=\"all_vec_min_max\"\n",
    ")"
   ]
  },
  {
   "cell_type": "code",
   "execution_count": null,
   "metadata": {},
   "outputs": [],
   "source": [
    "# min_max_df = scaler.fit(min_max_df).transform(min_max_df)\n",
    "df = scaler.fit(df).transform(df)"
   ]
  },
  {
   "cell_type": "code",
   "execution_count": null,
   "metadata": {},
   "outputs": [],
   "source": [
    "# pdf = min_max_df.toPandas()\n",
    "pdf = df.toPandas()"
   ]
  },
  {
   "cell_type": "code",
   "execution_count": null,
   "metadata": {},
   "outputs": [],
   "source": [
    "#TODO make a commodity function, because it will be used in other normalizations as well\n",
    "\n",
    "pdf = pdf.reindex(\n",
    "    columns=list(pdf.columns) + ALL_FEATURES_MIN_MAX\n",
    ")\n",
    "\n",
    "pdf[ALL_FEATURES_MIN_MAX] = pdf[\n",
    "    \"all_vec_min_max\"\n",
    "].transform(\n",
    "    {\n",
    "        ALL_FEATURES_MIN_MAX[i]: itemgetter(i) for i, p in enumerate(ALL_FEATURES_MIN_MAX)\n",
    "    }\n",
    ")"
   ]
  },
  {
   "cell_type": "markdown",
   "metadata": {},
   "source": [
    "### Feature-target relationship"
   ]
  },
  {
   "cell_type": "code",
   "execution_count": null,
   "metadata": {},
   "outputs": [],
   "source": [
    "#TODO set an appropriate figsize for Google Colab\n",
    "plot_feature_target_relation(\n",
    "    pdf, ALL_FEATURES_MIN_MAX, TARGET_VARIABLE, figsize=(4,4), color=COLOR_MIN_MAX\n",
    ")"
   ]
  },
  {
   "cell_type": "markdown",
   "metadata": {},
   "source": [
    "### Feature distribution"
   ]
  },
  {
   "cell_type": "code",
   "execution_count": null,
   "metadata": {},
   "outputs": [],
   "source": [
    "plot_feature_distribution(pdf, ALL_FEATURES_MIN_MAX, color = COLOR_MIN_MAX, figsize=(10,10))"
   ]
  },
  {
   "cell_type": "code",
   "execution_count": null,
   "metadata": {},
   "outputs": [],
   "source": [
    "#TODO place learning on ## titles here"
   ]
  },
  {
   "cell_type": "markdown",
   "metadata": {},
   "source": [
    "# Attempt 2: \"less is more\"\n",
    "\n",
    "Ok, considering all features gives trash results.\n",
    "\n",
    "What if we embrace the \"less is more idea\" and try to improve the results by means of using less features?\n",
    "\n",
    "Nevertheless, feature correlation is very high, so, intrinsicly, it already did NOT make much sense to consider them all."
   ]
  },
  {
   "cell_type": "markdown",
   "metadata": {},
   "source": [
    "## PCA (on min-max normalized data)"
   ]
  },
  {
   "cell_type": "code",
   "execution_count": null,
   "metadata": {},
   "outputs": [],
   "source": [
    "# pca_df = min_max_df\n",
    "# pca_df = df\n",
    "\n",
    "PCA_NUM_COMPONENTS = 5\n",
    "PCA_NUM_COMPONENTS_TO_PLOT = 2\n",
    "\n",
    "pca = PCA(\n",
    "    k=PCA_NUM_COMPONENTS, \n",
    "    inputCol=\"all_vec_min_max\", \n",
    "    outputCol=\"all_vec_min_max_pcs\"\n",
    ")\n",
    "\n",
    "# pca_model = pca.fit(pca_df)\n",
    "# pca_df = pca_model.transform(pca_df)\n",
    "pca_model = pca.fit(df)\n",
    "df = pca_model.transform(df)"
   ]
  },
  {
   "cell_type": "code",
   "execution_count": null,
   "metadata": {},
   "outputs": [],
   "source": [
    "fig, ax = plt.subplots(1, 1, figsize=(8, 6))\n",
    "_ = sns.barplot(\n",
    "    x=[i for i in range(PCA_NUM_COMPONENTS_TO_PLOT)],\n",
    "    y=pca_model.explainedVariance.values[0:PCA_NUM_COMPONENTS_TO_PLOT],\n",
    "    ax=ax,\n",
    ")\n",
    "\n",
    "_ = ax.set_xlabel(\"Eigenvalues\", labelpad=16, fontsize=16)\n",
    "_ = ax.set_ylabel(\"Proportion of Variance\", fontsize=16)\n",
    "_ = ax.set_xticklabels(\n",
    "    [f\"Principal Component {i}\" for i in range(PCA_NUM_COMPONENTS_TO_PLOT)], \n",
    "    rotation=0\n",
    ")\n",
    "_ = ax.set_title(\"Explained variance of each Principal Component\")"
   ]
  },
  {
   "cell_type": "code",
   "execution_count": null,
   "metadata": {},
   "outputs": [],
   "source": [
    "def scatter_plot(data, x, y, c, x_label, y_label):\n",
    "\n",
    "    fig, ax = plt.subplots(1, 1, figsize=(12, 8))\n",
    "\n",
    "    _ = plt.scatter(\n",
    "        x = x,\n",
    "        y = y,\n",
    "        c = c,\n",
    "        edgecolor=\"none\",\n",
    "        alpha=1,\n",
    "        cmap=\"rainbow\",\n",
    "        axes=ax\n",
    "    )\n",
    "\n",
    "    _ = ax.set_xlabel(x_label, labelpad=20, fontsize=16)\n",
    "    _ = ax.set_ylabel(y_label, fontsize=16)\n",
    "\n",
    "    plt.colorbar()\n",
    "    plt.show()"
   ]
  },
  {
   "cell_type": "code",
   "execution_count": null,
   "metadata": {},
   "outputs": [],
   "source": [
    "# pca_pdf = pca_df.toPandas()\n",
    "pca_pdf = df.toPandas()"
   ]
  },
  {
   "cell_type": "code",
   "execution_count": null,
   "metadata": {},
   "outputs": [],
   "source": [
    "scatter_plot(\n",
    "    pca_pdf, \n",
    "    pca_pdf.all_vec_min_max_pcs.map(lambda x: x[0]),\n",
    "    pca_pdf.all_vec_min_max_pcs.map(lambda x: x[1]),\n",
    "    pca_pdf.points,\n",
    "    \"Principal Component 0\",\n",
    "    \"Principal Component 1\"\n",
    ")"
   ]
  },
  {
   "cell_type": "code",
   "execution_count": null,
   "metadata": {},
   "outputs": [],
   "source": [
    "# TODO evaluate whether points should be normlized to same scale as PCA values\n",
    "scatter_plot(\n",
    "    pca_pdf, \n",
    "    pca_pdf.all_vec_min_max_pcs.map(lambda x: x[0]),\n",
    "    pca_pdf.points,\n",
    "    pca_pdf.points,\n",
    "    \"Principal Component 0\",\n",
    "    \"Points\"\n",
    ")"
   ]
  },
  {
   "cell_type": "code",
   "execution_count": null,
   "metadata": {},
   "outputs": [],
   "source": [
    "# TODO evaluate whether points should be normlized to same scale as PCA values\n",
    "scatter_plot(\n",
    "    pca_pdf, \n",
    "    pca_pdf.all_vec_min_max_pcs.map(lambda x: x[1]),\n",
    "    pca_pdf.points,\n",
    "    pca_pdf.points,\n",
    "    \"Principal Component 1\",\n",
    "    \"Points\"\n",
    ")"
   ]
  },
  {
   "cell_type": "markdown",
   "metadata": {},
   "source": [
    "### Feature-target relationship"
   ]
  },
  {
   "cell_type": "markdown",
   "metadata": {},
   "source": [
    "### Feature distribution"
   ]
  },
  {
   "cell_type": "markdown",
   "metadata": {},
   "source": [
    "*[bridge between this and Feature selection]*"
   ]
  },
  {
   "cell_type": "markdown",
   "metadata": {},
   "source": [
    "## Chi-squared"
   ]
  },
  {
   "cell_type": "markdown",
   "metadata": {},
   "source": [
    "## TNSE"
   ]
  },
  {
   "cell_type": "markdown",
   "metadata": {},
   "source": [
    "## Univariate Feature Selection"
   ]
  },
  {
   "cell_type": "markdown",
   "metadata": {},
   "source": [
    "Log scaling reduces skewedness of \"avg(mentality_penalties)\" feature BUT it increases the skewedness of all the other features.\n",
    "The other scalings (z-score and min-max) do NOT appear to be different than the \"raw\" data distribution.\n",
    "\n",
    "For this reason and due to the limited amount of resources available on Google Colab, we decided to stick with the min-max scaled data.\n",
    "In fact, the min-max scaling places \"for free\" all the features in the same scale, which is a very important consideration for SVM, which will be used in the upcoming sections"
   ]
  },
  {
   "cell_type": "code",
   "execution_count": null,
   "metadata": {},
   "outputs": [],
   "source": [
    "# feature_selection_df = min_max_df"
   ]
  },
  {
   "cell_type": "code",
   "execution_count": null,
   "metadata": {},
   "outputs": [],
   "source": [
    "selector = UnivariateFeatureSelector(\n",
    "    featuresCol=\"all_vec\",\n",
    "    labelCol=TARGET_VARIABLE, \n",
    "    selectionMode=\"percentile\"\n",
    ").setFeatureType(\"continuous\").setLabelType(\"categorical\").setSelectionThreshold(0.08)"
   ]
  },
  {
   "cell_type": "code",
   "execution_count": null,
   "metadata": {},
   "outputs": [],
   "source": [
    "NUM_FEATURES = 2"
   ]
  },
  {
   "cell_type": "code",
   "execution_count": null,
   "metadata": {},
   "outputs": [],
   "source": [
    "fit_result = dict()\n",
    "\n",
    "# for thr in range(0.1, 1.1, 0.1):\n",
    "# for thr in np.linspace(1, 1, 1):\n",
    "for thr in [0.1]:\n",
    "\n",
    "    selector.setSelectionThreshold(thr)\n",
    "    selector.setOutputCol(\"ufs_\" + str(thr).replace(\".\", \"-\")),\n",
    "    fit_result[str(thr)] = selector.fit(df)\n",
    "    # feature_selection_df = fit_result[str(thr)].transform(\n",
    "    #     feature_selection_df\n",
    "    # )\n",
    "    df = fit_result[str(thr)].transform(df)\n"
   ]
  },
  {
   "cell_type": "code",
   "execution_count": null,
   "metadata": {},
   "outputs": [],
   "source": [
    "# feature_selection_pdf = feature_selection_df.toPandas()\n",
    "feature_selection_pdf = df.toPandas()"
   ]
  },
  {
   "cell_type": "code",
   "execution_count": null,
   "metadata": {},
   "outputs": [],
   "source": [
    "scatter_plot(\n",
    "    feature_selection_pdf,\n",
    "    feature_selection_pdf[\"ufs_0-1\"].map(lambda x: x[0]),\n",
    "    feature_selection_pdf[\"ufs_0-1\"].map(lambda x: x[1]),\n",
    "    feature_selection_pdf.points,\n",
    "    \"Feature 0\",\n",
    "    \"Feature 1\"\n",
    "    \n",
    ")"
   ]
  },
  {
   "cell_type": "code",
   "execution_count": null,
   "metadata": {},
   "outputs": [],
   "source": [
    "scatter_plot(\n",
    "    feature_selection_pdf,\n",
    "    feature_selection_pdf[\"ufs_0-1\"].map(lambda x: x[0]),\n",
    "    feature_selection_pdf.points,\n",
    "    feature_selection_pdf.points,\n",
    "    \"Feature 0\",\n",
    "    \"Points\"\n",
    "    \n",
    ")"
   ]
  },
  {
   "cell_type": "code",
   "execution_count": null,
   "metadata": {},
   "outputs": [],
   "source": [
    "scatter_plot(\n",
    "    feature_selection_pdf,\n",
    "    feature_selection_pdf[\"ufs_0-1\"].map(lambda x: x[1]),\n",
    "    feature_selection_pdf.points,\n",
    "    feature_selection_pdf.points,\n",
    "    \"Feature 1\",\n",
    "    \"Points\"\n",
    "    \n",
    ")"
   ]
  },
  {
   "cell_type": "code",
   "execution_count": null,
   "metadata": {},
   "outputs": [],
   "source": [
    "pdf = df.toPandas()"
   ]
  },
  {
   "cell_type": "code",
   "execution_count": null,
   "metadata": {},
   "outputs": [],
   "source": [
    "selected_features = list(\n",
    "    map(\n",
    "        lambda i: ALL_FEATURES[i], fit_result[\"0.1\"].selectedFeatures\n",
    "    )\n",
    ")"
   ]
  },
  {
   "cell_type": "markdown",
   "metadata": {},
   "source": [
    "### Feature-target relationship"
   ]
  },
  {
   "cell_type": "code",
   "execution_count": null,
   "metadata": {},
   "outputs": [],
   "source": [
    "#TODO set an appropriate figsize for Google Colab\n",
    "plot_feature_target_relation(\n",
    "    pdf, selected_features, TARGET_VARIABLE, figsize=(4,4), \n",
    "    color=COLOR_MIN_MAX\n",
    ")"
   ]
  },
  {
   "cell_type": "markdown",
   "metadata": {},
   "source": [
    "### Feature correlation"
   ]
  },
  {
   "cell_type": "markdown",
   "metadata": {},
   "source": [
    "look at it from the original pearson matrix"
   ]
  },
  {
   "cell_type": "markdown",
   "metadata": {},
   "source": [
    "state that these data distribs are trash.\n",
    "\n",
    "So, for this reason, talk about overall and value."
   ]
  },
  {
   "cell_type": "markdown",
   "metadata": {},
   "source": [
    "## Overall as feature (min-max normalized)"
   ]
  },
  {
   "cell_type": "markdown",
   "metadata": {},
   "source": [
    "Since the features are so correlated and performances of attempt 1 are trash, why not considering just the overall as a feature?\n",
    "\n",
    "Maybe, we're lucky and the overall captures some other characteristics thay may steer the prediction a little bit more"
   ]
  },
  {
   "cell_type": "code",
   "execution_count": null,
   "metadata": {},
   "outputs": [],
   "source": [
    "OVERALL = [\"avg(overall)\"]\n",
    "\n",
    "COLOR_OVERALL_MIN_MAX = \"green\""
   ]
  },
  {
   "cell_type": "code",
   "execution_count": null,
   "metadata": {},
   "outputs": [],
   "source": [
    "assembler = VectorAssembler(\n",
    "    inputCols=OVERALL, outputCol=\"overall_vec\"\n",
    ")\n",
    "\n",
    "# min_max_df = assembler.transform(min_max_df)\n",
    "df = assembler.transform(df)"
   ]
  },
  {
   "cell_type": "code",
   "execution_count": null,
   "metadata": {},
   "outputs": [],
   "source": [
    "OVERALL_MIN_MAX = [\"avg(overall)_min_max\"]"
   ]
  },
  {
   "cell_type": "code",
   "execution_count": null,
   "metadata": {},
   "outputs": [],
   "source": [
    "scaler = MinMaxScaler(\n",
    "    inputCol=\"overall_vec\", \n",
    "    outputCol=\"overall_vec_min_max\"\n",
    ")"
   ]
  },
  {
   "cell_type": "code",
   "execution_count": null,
   "metadata": {},
   "outputs": [],
   "source": [
    "# min_max_df = scaler.fit(min_max_df).transform(min_max_df)\n",
    "df = scaler.fit(df).transform(df)"
   ]
  },
  {
   "cell_type": "code",
   "execution_count": null,
   "metadata": {},
   "outputs": [],
   "source": [
    "# pdf = min_max_df.toPandas()\n",
    "pdf = df.toPandas()"
   ]
  },
  {
   "cell_type": "code",
   "execution_count": null,
   "metadata": {},
   "outputs": [],
   "source": [
    "#TODO make a commodity function, because it will be used in other normalizations as well\n",
    "\n",
    "pdf = pdf.reindex(\n",
    "    columns=list(pdf.columns) + OVERALL_MIN_MAX\n",
    ")\n",
    "\n",
    "pdf[OVERALL_MIN_MAX] = pdf[\n",
    "    \"overall_vec_min_max\"\n",
    "].transform(\n",
    "    {\n",
    "        OVERALL_MIN_MAX[i]: itemgetter(i) for i, p in enumerate(OVERALL_MIN_MAX)\n",
    "    }\n",
    ")"
   ]
  },
  {
   "cell_type": "markdown",
   "metadata": {},
   "source": [
    "### Feature-target relationship"
   ]
  },
  {
   "cell_type": "code",
   "execution_count": null,
   "metadata": {},
   "outputs": [],
   "source": [
    "#TODO set an appropriate figsize for Google Colab\n",
    "plot_feature_target_relation(\n",
    "    pdf, OVERALL_MIN_MAX, TARGET_VARIABLE, figsize=(4,4), color=COLOR_OVERALL_MIN_MAX\n",
    ")"
   ]
  },
  {
   "cell_type": "markdown",
   "metadata": {},
   "source": [
    "Look, they are basically the same. In fact, if we check their correlation, we get... [high correlation on pearson]"
   ]
  },
  {
   "cell_type": "markdown",
   "metadata": {},
   "source": [
    "### Feature distribution"
   ]
  },
  {
   "cell_type": "code",
   "execution_count": null,
   "metadata": {},
   "outputs": [],
   "source": [
    "plot_feature_distribution(pdf, OVERALL_MIN_MAX, color = COLOR_OVERALL_MIN_MAX, figsize=(10,10))"
   ]
  },
  {
   "cell_type": "markdown",
   "metadata": {},
   "source": [
    "## Value as feature (min-max normalized)"
   ]
  },
  {
   "cell_type": "markdown",
   "metadata": {},
   "source": [
    "Oh, we found this paper: \n",
    "\n",
    "So, why not try their approach as well?"
   ]
  },
  {
   "cell_type": "code",
   "execution_count": null,
   "metadata": {},
   "outputs": [],
   "source": [
    "VALUE = [\"avg(value)\"]\n",
    "\n",
    "COLOR_VALUE_MIN_MAX = \"lime\""
   ]
  },
  {
   "cell_type": "code",
   "execution_count": null,
   "metadata": {},
   "outputs": [],
   "source": [
    "assembler = VectorAssembler(\n",
    "    inputCols=VALUE, outputCol=\"value_vec\"\n",
    ")\n",
    "\n",
    "# min_max_df = assembler.transform(min_max_df)\n",
    "df = assembler.transform(df)"
   ]
  },
  {
   "cell_type": "code",
   "execution_count": null,
   "metadata": {},
   "outputs": [],
   "source": [
    "# IT BREAKS HERE, if using legacy data as well :C\n",
    "\n",
    "# TODO handle value attribute in legacy datasets\n",
    "# in legacy datasets it's encoded as \"ValueMagnitudeCurrency\" (i.e. 70M€)\n",
    "# gotta convert it to full length, to be compatible with modern (and actually usable!)\n",
    "\n",
    "# df.show() "
   ]
  },
  {
   "cell_type": "code",
   "execution_count": null,
   "metadata": {},
   "outputs": [],
   "source": [
    "VALUE_MIN_MAX = [\"avg(value)_min_max\"]"
   ]
  },
  {
   "cell_type": "code",
   "execution_count": null,
   "metadata": {},
   "outputs": [],
   "source": [
    "scaler = MinMaxScaler(\n",
    "    inputCol=\"value_vec\", \n",
    "    outputCol=\"value_vec_min_max\"\n",
    ")"
   ]
  },
  {
   "cell_type": "code",
   "execution_count": null,
   "metadata": {},
   "outputs": [],
   "source": [
    "# min_max_df = scaler.fit(min_max_df).transform(min_max_df)\n",
    "df = scaler.fit(df).transform(df)"
   ]
  },
  {
   "cell_type": "code",
   "execution_count": null,
   "metadata": {},
   "outputs": [],
   "source": [
    "# pdf = min_max_df.toPandas()\n",
    "# NOTE keep the following line disabled!\n",
    "# gotta accumulate overall and value in the same pandas DF, so as we can use it\n",
    "# for the Pearson correlation matrix!\n",
    "pdf = df.toPandas()"
   ]
  },
  {
   "cell_type": "code",
   "execution_count": null,
   "metadata": {},
   "outputs": [],
   "source": [
    "#TODO make a commodity function, because it will be used in other normalizations as well\n",
    "\n",
    "pdf = pdf.reindex(\n",
    "    columns=list(pdf.columns) + VALUE_MIN_MAX\n",
    ")\n",
    "\n",
    "pdf[VALUE_MIN_MAX] = pdf[\n",
    "    \"value_vec_min_max\"\n",
    "].transform(\n",
    "    {\n",
    "        VALUE_MIN_MAX[i]: itemgetter(i) for i, p in enumerate(VALUE_MIN_MAX)\n",
    "    }\n",
    ")"
   ]
  },
  {
   "cell_type": "markdown",
   "metadata": {},
   "source": [
    "### Feature-target relationship"
   ]
  },
  {
   "cell_type": "code",
   "execution_count": null,
   "metadata": {},
   "outputs": [],
   "source": [
    "#TODO set an appropriate figsize for Google Colab\n",
    "plot_feature_target_relation(\n",
    "    pdf, VALUE_MIN_MAX, TARGET_VARIABLE, figsize=(4,4), color=COLOR_VALUE_MIN_MAX\n",
    ")"
   ]
  },
  {
   "cell_type": "markdown",
   "metadata": {},
   "source": [
    "### Feature distribution"
   ]
  },
  {
   "cell_type": "code",
   "execution_count": null,
   "metadata": {},
   "outputs": [],
   "source": [
    "plot_feature_distribution(pdf, VALUE_MIN_MAX, color = COLOR_VALUE_MIN_MAX, figsize=(10,10))"
   ]
  },
  {
   "cell_type": "markdown",
   "metadata": {},
   "source": [
    "Hint at a very high correlation, then show it with pearson matrix..."
   ]
  },
  {
   "cell_type": "code",
   "execution_count": null,
   "metadata": {},
   "outputs": [],
   "source": [
    "pdf = df.select(\"overall_vec_min_max\", \"value_vec_min_max\").toPandas()\n",
    "\n",
    "# need to flat every element of the columns, because they are in vectors\n",
    "pdf[\"overall_vec_min_max\"] = pdf[\"overall_vec_min_max\"].map(\n",
    "    lambda x: x[0]\n",
    ")\n",
    "pdf[\"value_vec_min_max\"] = pdf[\"value_vec_min_max\"].map(\n",
    "    lambda x: x[0]\n",
    ")\n",
    "\n",
    "plot_correlation_matrix(\n",
    "    pdf, \n",
    "    [\"overall_vec_min_max\", \"value_vec_min_max\"]\n",
    ")"
   ]
  },
  {
   "cell_type": "markdown",
   "metadata": {},
   "source": [
    "Comment this correlation, and move on with life"
   ]
  },
  {
   "cell_type": "markdown",
   "metadata": {},
   "source": [
    "## Learning for attempt 2"
   ]
  },
  {
   "cell_type": "markdown",
   "metadata": {},
   "source": [
    "*[\n",
    "    state that via hyperparam grid we'll set the feature column, meaning that we'll try to train the models on all of the attemps\n",
    "\n",
    "[state expected results, according to correlations and similar stuff]\n",
    "\n",
    "]"
   ]
  },
  {
   "cell_type": "code",
   "execution_count": null,
   "metadata": {},
   "outputs": [],
   "source": [
    "# feature_selection_learning_df = feature_selection_df"
   ]
  },
  {
   "cell_type": "code",
   "execution_count": null,
   "metadata": {},
   "outputs": [],
   "source": [
    "# feature_selection_train_df, feature_selection_test_df = feature_selection_learning_df.randomSplit(\n",
    "#     # [0.9, 0.1]\n",
    "#     [0.7, 0.3]\n",
    "# )\n",
    "\n",
    "learning_train_df, learning_test_df = df.randomSplit(\n",
    "    # [0.9,0.1]\n",
    "    # NOTE reactive 90/10 split, keep 70/30 just when using one league\n",
    "    [0.7,0.3]\n",
    ")"
   ]
  },
  {
   "cell_type": "code",
   "execution_count": null,
   "metadata": {},
   "outputs": [],
   "source": [
    "NUM_FOLDS_CV = 4"
   ]
  },
  {
   "cell_type": "code",
   "execution_count": null,
   "metadata": {},
   "outputs": [],
   "source": [
    "def find_best_regressor(\n",
    "    train_df,\n",
    "    test_df,\n",
    "    regressor,\n",
    "    regressor_evaluation_metrics,\n",
    "    cv_evaluation_metrics,\n",
    "    hyperparams_grid\n",
    "):\n",
    "\n",
    "    cv_evaluators = {\n",
    "        metric: RegressionEvaluator(\n",
    "            labelCol=\"points\",\n",
    "            metricName=metric,\n",
    "        )\n",
    "        for metric in cv_evaluation_metrics\n",
    "    }\n",
    "\n",
    "    regressor_evaluators = {\n",
    "        metric: RegressionEvaluator(\n",
    "            labelCol=\"points\",\n",
    "            metricName=metric,\n",
    "        )\n",
    "        for metric in regressor_evaluation_metrics\n",
    "    }\n",
    "\n",
    "    cross_validations = {\n",
    "        metric: CrossValidator(\n",
    "            estimator=regressor,\n",
    "            estimatorParamMaps=hyperparams_grid,\n",
    "            evaluator=cv_evaluators[metric],\n",
    "            numFolds=NUM_FOLDS_CV,\n",
    "            collectSubModels=True\n",
    "        )\n",
    "        for metric in cv_evaluation_metrics\n",
    "    }\n",
    "\n",
    "    cross_validated = dict()\n",
    "\n",
    "    for metric in cv_evaluation_metrics:\n",
    "\n",
    "        cross_validated[metric] = cross_validations[\n",
    "            metric\n",
    "        ].fit(train_df)\n",
    "\n",
    "    if (isinstance(regressor, LinearRegression)):\n",
    "        \n",
    "        for metric in cv_evaluation_metrics:\n",
    "\n",
    "            training_result = cross_validated[\n",
    "                metric\n",
    "            ].bestModel.summary\n",
    "\n",
    "            print(\n",
    "                \"***** Evaluating Training Set, (Linear Regression, best model according to metric {}) *****\".format(\n",
    "                    metric\n",
    "                )\n",
    "            )\n",
    "            print(\"RMSE: {:.3f}\".format(training_result.rootMeanSquaredError))\n",
    "            print(\"R2: {:.3f}\".format(training_result.r2))\n",
    "            print(\"Adjusted R2: {:.3f}\".format(training_result.r2adj))\n",
    "            print()\n",
    "\n",
    "        predictions = {\n",
    "            metric: cross_validated[\n",
    "                metric\n",
    "            ].bestModel.transform(test_df)\n",
    "            for metric in cv_evaluation_metrics\n",
    "        }\n",
    "\n",
    "        for m, model in cross_validated.items():\n",
    "\n",
    "                print(\n",
    "                    \"*** {} Set, (rf, best model elected by {}) ***\".format(\n",
    "                        \"Test\", m\n",
    "                    )\n",
    "                )\n",
    "\n",
    "                for e, evaluator in regressor_evaluators.items():\n",
    "\n",
    "                    print(\n",
    "                        \"{}: {}\".format(\n",
    "                            evaluator.getMetricName(), evaluator.evaluate(\n",
    "                                predictions[m]\n",
    "                            )\n",
    "                        )\n",
    "                    )\n",
    "\n",
    "                print(\"*******************************\")\n",
    "\n",
    "    else:\n",
    "\n",
    "        for stage_name, stage_df in zip([\"Train\", \"Test\"], [train_df, test_df]):\n",
    "            predictions = {\n",
    "                metric: cross_validated[\n",
    "                    metric\n",
    "                ].bestModel.transform(stage_df)\n",
    "                for metric in cv_evaluation_metrics\n",
    "            }\n",
    "\n",
    "            for m, model in cross_validated.items():\n",
    "\n",
    "                print(\n",
    "                    \"*** {} Set, (rf, best model elected by {}) ***\".format(\n",
    "                        stage_name, m\n",
    "                    )\n",
    "                )\n",
    "\n",
    "                for e, evaluator in regressor_evaluators.items():\n",
    "\n",
    "                    print(\n",
    "                        \"{}: {}\".format(\n",
    "                            evaluator.getMetricName(), evaluator.evaluate(\n",
    "                                predictions[m]\n",
    "                            )\n",
    "                        )\n",
    "                    )\n",
    "\n",
    "                print(\"*******************************\")\n",
    "\n"
   ]
  },
  {
   "cell_type": "code",
   "execution_count": null,
   "metadata": {},
   "outputs": [],
   "source": [
    "def find_best_classifier(\n",
    "    train_df,\n",
    "    test_df,\n",
    "    classifier,\n",
    "    classifier_evaluation_metrics,\n",
    "    cv_evaluation_metrics,\n",
    "    hyperparams_grid\n",
    "):\n",
    "\n",
    "    cv_evaluators = {\n",
    "        metric: MulticlassClassificationEvaluator(\n",
    "            labelCol=\"macro_place\",\n",
    "            metricName=metric,\n",
    "        )\n",
    "        for metric in cv_evaluation_metrics\n",
    "    }\n",
    "\n",
    "    classifier_evaluators = {\n",
    "        metric: MulticlassClassificationEvaluator(\n",
    "            labelCol=\"macro_place\",\n",
    "            metricName=metric,\n",
    "        )\n",
    "        for metric in classifier_evaluation_metrics\n",
    "    }\n",
    "\n",
    "    cross_validations = {\n",
    "        metric: CrossValidator(\n",
    "            estimator=classifier,\n",
    "            estimatorParamMaps=hyperparams_grid,\n",
    "            evaluator=cv_evaluators[metric],\n",
    "            numFolds=NUM_FOLDS_CV,\n",
    "            collectSubModels=True\n",
    "        )\n",
    "        for metric in cv_evaluation_metrics\n",
    "    }\n",
    "\n",
    "    cross_validated = dict()\n",
    "\n",
    "    for metric in cv_evaluation_metrics:\n",
    "\n",
    "        cross_validated[metric] = cross_validations[\n",
    "            metric\n",
    "        ].fit(train_df)\n",
    "\n",
    "    if (isinstance(classifier, LinearRegression)):\n",
    "        \n",
    "        for metric in cv_evaluation_metrics:\n",
    "\n",
    "            training_result = cross_validated[\n",
    "                metric\n",
    "            ].bestModel.summary\n",
    "\n",
    "            print(\n",
    "                \"***** Evaluating Training Set, (Linear Regression, best model according to metric {}) *****\".format(\n",
    "                    metric\n",
    "                )\n",
    "            )\n",
    "            print(\"RMSE: {:.3f}\".format(training_result.rootMeanSquaredError))\n",
    "            print(\"R2: {:.3f}\".format(training_result.r2))\n",
    "            print(\"Adjusted R2: {:.3f}\".format(training_result.r2adj))\n",
    "            print()\n",
    "\n",
    "        predictions = {\n",
    "            metric: cross_validated[\n",
    "                metric\n",
    "            ].bestModel.transform(test_df)\n",
    "            for metric in cv_evaluation_metrics\n",
    "        }\n",
    "\n",
    "        for m, model in cross_validated.items():\n",
    "\n",
    "                print(\n",
    "                    \"*** {} Set, (rf, best model elected by {}) ***\".format(\n",
    "                        \"Test\", m\n",
    "                    )\n",
    "                )\n",
    "\n",
    "                for e, evaluator in classifier_evaluators.items():\n",
    "\n",
    "                    print(\n",
    "                        \"{}: {}\".format(\n",
    "                            evaluator.getMetricName(), evaluator.evaluate(\n",
    "                                predictions[m]\n",
    "                            )\n",
    "                        )\n",
    "                    )\n",
    "\n",
    "                print(\"*******************************\")\n",
    "\n",
    "    else:\n",
    "\n",
    "        for stage_name, stage_df in zip([\"Train\", \"Test\"], [train_df, test_df]):\n",
    "            predictions = {\n",
    "                metric: cross_validated[\n",
    "                    metric\n",
    "                ].bestModel.transform(stage_df)\n",
    "                for metric in cv_evaluation_metrics\n",
    "            }\n",
    "\n",
    "            for m, model in cross_validated.items():\n",
    "\n",
    "                print(\n",
    "                    \"*** {} Set, (rf, best model elected by {}) ***\".format(\n",
    "                        stage_name, m\n",
    "                    )\n",
    "                )\n",
    "\n",
    "                for e, evaluator in classifier_evaluators.items():\n",
    "\n",
    "                    print(\n",
    "                        \"{}: {}\".format(\n",
    "                            evaluator.getMetricName(), evaluator.evaluate(\n",
    "                                predictions[m]\n",
    "                            )\n",
    "                        )\n",
    "                    )\n",
    "\n",
    "                print(\"*******************************\")\n",
    "\n"
   ]
  },
  {
   "cell_type": "markdown",
   "metadata": {},
   "source": [
    "### Regression"
   ]
  },
  {
   "cell_type": "markdown",
   "metadata": {},
   "source": [
    "#### Linear Regression"
   ]
  },
  {
   "cell_type": "code",
   "execution_count": null,
   "metadata": {},
   "outputs": [],
   "source": [
    "# lr_train_df, lr_test_df = feature_selection_train_df, feature_selection_test_df\n",
    "lr_train_df, lr_test_df = learning_train_df, learning_test_df"
   ]
  },
  {
   "cell_type": "code",
   "execution_count": null,
   "metadata": {},
   "outputs": [],
   "source": [
    "lr = LinearRegression(\n",
    "    # featuresCol=\"feature_vec_ufs_0.1\", \n",
    "    labelCol=\"points\"\n",
    ")\n",
    "\n",
    "lr_evaluation_metrics = [\"r2\", \"mse\"]\n",
    "lr_evaluation_metrics_cv = [\"r2\"]\n",
    "\n",
    "lr_param_grid = (\n",
    "    ParamGridBuilder()\n",
    "    .addGrid(\n",
    "        lr.featuresCol, [\n",
    "            \"ufs_0-1\", \n",
    "            # \"value_vec_min_max\",\n",
    "            # \"all_vec_min_max_pcs\",\n",
    "            # \"all_vec_min_max\"\n",
    "        ]\n",
    "    )\n",
    "    #TODO add intermediate values: prof uses [0.0, 0.5, 1]\n",
    "    .addGrid(lr.elasticNetParam, [0.0, 1])\n",
    "    #TODO add intermediate values: prof uses [0.0, 0.05, 0.1]\n",
    "    # .addGrid(lr.regParam, [0.0, 0.1])\n",
    "    # .addGrid(lr.fitIntercept, [True, False])\n",
    "    .build()\n",
    ")\n",
    "\n",
    "find_best_regressor(\n",
    "    train_df=lr_train_df, \n",
    "    test_df=lr_test_df, \n",
    "    regressor=lr,\n",
    "    regressor_evaluation_metrics=lr_evaluation_metrics,\n",
    "    cv_evaluation_metrics=lr_evaluation_metrics_cv,\n",
    "    hyperparams_grid=lr_param_grid\n",
    ")"
   ]
  },
  {
   "cell_type": "markdown",
   "metadata": {},
   "source": [
    "#### Decision Tree Regressor"
   ]
  },
  {
   "cell_type": "code",
   "execution_count": null,
   "metadata": {},
   "outputs": [],
   "source": [
    "# dt_train_df, dt_test_df = feature_selection_train_df, feature_selection_test_df\n",
    "dt_train_df, dt_test_df = learning_train_df, learning_test_df"
   ]
  },
  {
   "cell_type": "code",
   "execution_count": null,
   "metadata": {},
   "outputs": [],
   "source": [
    "dt = DecisionTreeRegressor(\n",
    "    # featuresCol=\"feature_vec\", \n",
    "    labelCol=\"points\"\n",
    ")\n",
    "\n",
    "dt_evaluation_metrics = [\"r2\", \"mse\"]\n",
    "dt_evaluation_metrics_cv = [\"r2\"]\n",
    "\n",
    "dt_param_grid = (\n",
    "    ParamGridBuilder()\n",
    "    .addGrid(\n",
    "        dt.featuresCol, [\n",
    "            \"ufs_0-1\", \n",
    "            # \"value_vec_min_max\",\n",
    "            # \"all_vec_min_max_pcs\",\n",
    "            # \"all_vec_min_max\"\n",
    "        ]\n",
    "    )\n",
    "    # .addGrid(dt.standardization, [True, False])\n",
    "    .build()\n",
    ")\n",
    "\n",
    "find_best_regressor(\n",
    "    train_df=dt_train_df, \n",
    "    test_df=dt_test_df, \n",
    "    regressor=dt,\n",
    "    regressor_evaluation_metrics=dt_evaluation_metrics,\n",
    "    cv_evaluation_metrics=dt_evaluation_metrics_cv,\n",
    "    hyperparams_grid=dt_param_grid\n",
    ")"
   ]
  },
  {
   "cell_type": "markdown",
   "metadata": {},
   "source": [
    "#### Random Forest Regressor"
   ]
  },
  {
   "cell_type": "code",
   "execution_count": null,
   "metadata": {},
   "outputs": [],
   "source": [
    "rf_train_df, rf_test_df = learning_train_df, learning_test_df"
   ]
  },
  {
   "cell_type": "code",
   "execution_count": null,
   "metadata": {},
   "outputs": [],
   "source": [
    "rf = RandomForestRegressor(\n",
    "    # featuresCol=\"feature_vec\", \n",
    "    labelCol=\"points\"\n",
    ")\n",
    "\n",
    "rf_evaluation_metrics = [\"r2\", \"mse\"]\n",
    "rf_evaluation_metrics_cv = [\"r2\"]\n",
    "\n",
    "rf_param_grid = (\n",
    "    ParamGridBuilder()\n",
    "    .addGrid(\n",
    "        rf.featuresCol, [\n",
    "            \"ufs_0-1\", \n",
    "            # \"value_vec_min_max\",\n",
    "            # \"all_vec_min_max_pcs\",\n",
    "            # \"all_vec_min_max\"\n",
    "        ]\n",
    "    )\n",
    "    # .addGrid(rf.standardization, [True, False])\n",
    "    .build()\n",
    ")\n"
   ]
  },
  {
   "cell_type": "code",
   "execution_count": null,
   "metadata": {},
   "outputs": [],
   "source": [
    "find_best_regressor(\n",
    "    train_df=rf_train_df, \n",
    "    test_df=rf_test_df, \n",
    "    regressor=rf,\n",
    "    regressor_evaluation_metrics=rf_evaluation_metrics,\n",
    "    cv_evaluation_metrics=rf_evaluation_metrics_cv,\n",
    "    hyperparams_grid=rf_param_grid\n",
    ")"
   ]
  },
  {
   "cell_type": "markdown",
   "metadata": {},
   "source": [
    "#### Gradient Boosted Tree Regressor"
   ]
  },
  {
   "cell_type": "code",
   "execution_count": null,
   "metadata": {},
   "outputs": [],
   "source": [
    "gbt_train_df, gbt_test_df = learning_train_df, learning_test_df"
   ]
  },
  {
   "cell_type": "code",
   "execution_count": null,
   "metadata": {},
   "outputs": [],
   "source": [
    "gbt = GBTRegressor(\n",
    "    # featuresCol=\"feature_vec\", \n",
    "    labelCol=\"points\"\n",
    ")\n",
    "\n",
    "gbt_evaluation_metrics = [\"r2\", \"mse\"]\n",
    "gbt_evaluation_metrics_cv = [\"r2\"]\n",
    "\n",
    "gbt_param_grid = (\n",
    "    ParamGridBuilder()\n",
    "    .addGrid(\n",
    "        gbt.featuresCol, [\n",
    "            \"ufs_0-1\", \n",
    "            # \"value_vec_min_max\",\n",
    "            # \"all_vec_min_max_pcs\",\n",
    "            # \"all_vec_min_max\"\n",
    "        ]\n",
    "    )\n",
    "    # .addGrid(gbt.standardization, [True, False])\n",
    "    .build()\n",
    ")\n"
   ]
  },
  {
   "cell_type": "code",
   "execution_count": null,
   "metadata": {},
   "outputs": [],
   "source": [
    "find_best_regressor(\n",
    "    train_df=gbt_train_df, \n",
    "    test_df=gbt_test_df, \n",
    "    regressor=gbt,\n",
    "    regressor_evaluation_metrics=gbt_evaluation_metrics,\n",
    "    cv_evaluation_metrics=gbt_evaluation_metrics_cv,\n",
    "    hyperparams_grid=gbt_param_grid\n",
    ")"
   ]
  },
  {
   "cell_type": "markdown",
   "metadata": {},
   "source": [
    "### Classification"
   ]
  },
  {
   "cell_type": "code",
   "execution_count": null,
   "metadata": {},
   "outputs": [],
   "source": [
    "# TODO evaluate more advanced, dynamic macro placements\n",
    "def get_macro_place(place, league):\n",
    "\n",
    "    if league == \"German Bundesliga\":\n",
    "        if 1 <= place <= 4:\n",
    "            return 0.0\n",
    "        if 5 <= place <= 7:\n",
    "            return 1.0\n",
    "        if 8 <= place <= 10:\n",
    "            return 2.0\n",
    "        if 11 <= place <= 15:\n",
    "            return 3.0\n",
    "        if 16 <= place <= 18:\n",
    "            return 4.0\n",
    "\n",
    "    elif league == \"Holland Eredivise\":\n",
    "        if place == 1:\n",
    "            return 0.0\n",
    "        if 2 <= place <= 3:\n",
    "            return 1.0\n",
    "        if 4 <= place <= 9:\n",
    "            return 2.0\n",
    "        if 10 <= place <= 15:\n",
    "            return 3.0\n",
    "        if 16 <= place <= 18:\n",
    "            return 4.0\n",
    "\n",
    "\n",
    "    elif league == \"French League 1\":\n",
    "        if 1 <= place <= 2:\n",
    "            return 0.0\n",
    "        if 3 <= place <= 5:\n",
    "            return 1.0\n",
    "        if 6 <= place <= 11:\n",
    "            return 2.0\n",
    "        if 12 <= place <= 17:\n",
    "            return 3.0\n",
    "        if 18 <= place <= 20:\n",
    "            return  4.0\n",
    "    \n",
    "    else: #It, Sp, En\n",
    "        if 1 <= place <= 4:\n",
    "            return 0.0\n",
    "        if 5 <= place <= 7:\n",
    "            return 1.0\n",
    "        if 8 <= place <= 12:\n",
    "            return 2.0\n",
    "        if 13 <= place <= 17:\n",
    "            return 3.0\n",
    "        if 18 <= place <= 20:\n",
    "            return 4.0\n",
    "\n",
    "    return None\n",
    "\n",
    "get_macro_place_UDF = udf(\n",
    "    lambda place, league: get_macro_place(float(place), league),\n",
    "    DoubleType(),\n",
    ")\n",
    "\n",
    "NUM_MACRO_PLACES = 5"
   ]
  },
  {
   "cell_type": "code",
   "execution_count": null,
   "metadata": {},
   "outputs": [],
   "source": [
    "# classification_df = feature_selection_learning_df\n",
    "classification_df = df"
   ]
  },
  {
   "cell_type": "code",
   "execution_count": null,
   "metadata": {},
   "outputs": [],
   "source": [
    "classification_df = classification_df.withColumn(\n",
    "    \"macro_place\", get_macro_place_UDF(col(\"place\"), col(\"League\"))\n",
    ")"
   ]
  },
  {
   "cell_type": "code",
   "execution_count": null,
   "metadata": {},
   "outputs": [],
   "source": [
    "classification_train_df, classification_test_df = classification_df.randomSplit(\n",
    "    # [0.9,0.1]\n",
    "    # NOTE reactive 90/10 split, keep 70/30 just when using one league\n",
    "    [0.7,0.3]\n",
    ")"
   ]
  },
  {
   "cell_type": "markdown",
   "metadata": {},
   "source": [
    "#### Data visualizations"
   ]
  },
  {
   "cell_type": "code",
   "execution_count": null,
   "metadata": {},
   "outputs": [],
   "source": [
    "plot_feature_distribution(\n",
    "    classification_df.toPandas(), \n",
    "    [\"macro_place\"], \n",
    "    color = \"teal\", \n",
    "    figsize=(10,10)\n",
    ")"
   ]
  },
  {
   "cell_type": "markdown",
   "metadata": {},
   "source": [
    "#### SVM Classifier"
   ]
  },
  {
   "cell_type": "code",
   "execution_count": null,
   "metadata": {},
   "outputs": [],
   "source": [
    "svm_train_df, svm_test_df = classification_train_df, classification_test_df"
   ]
  },
  {
   "cell_type": "code",
   "execution_count": null,
   "metadata": {},
   "outputs": [],
   "source": [
    "svm = LinearSVC(\n",
    "    featuresCol=\"ufs_0-1\", \n",
    "    labelCol=\"macro_place\"\n",
    ")\n",
    "\n",
    "ovr = OneVsRest(\n",
    "    classifier=svm,\n",
    "    featuresCol=\"feature_vec_ufs_0-1\", \n",
    "    labelCol=\"macro_place\"\n",
    ")\n",
    "\n",
    "svm_evaluation_metrics = [\"accuracy\"]\n",
    "svm_evaluation_metrics_cv = [\"accuracy\"]\n",
    "\n",
    "svm_param_grid = (\n",
    "    ParamGridBuilder()\n",
    "    .addGrid(\n",
    "        ovr.featuresCol, [\n",
    "            \"ufs_0-1\", \n",
    "            \"value_vec_min_max\",\n",
    "            # \"all_vec_min_max_pcs\",\n",
    "            # \"all_vec_min_max\"\n",
    "        ]\n",
    "    )\n",
    "    .build()\n",
    ")\n"
   ]
  },
  {
   "cell_type": "code",
   "execution_count": null,
   "metadata": {},
   "outputs": [],
   "source": [
    "# find_best_classifier(\n",
    "#     train_df=svm_train_df, \n",
    "#     test_df=svm_test_df, \n",
    "#     classifier=ovr,\n",
    "#     classifier_evaluation_metrics=svm_evaluation_metrics,\n",
    "#     cv_evaluation_metrics=svm_evaluation_metrics_cv,\n",
    "#     hyperparams_grid=svm_param_grid\n",
    "# )"
   ]
  },
  {
   "cell_type": "markdown",
   "metadata": {},
   "source": [
    "#### Logistic Regression"
   ]
  },
  {
   "cell_type": "code",
   "execution_count": null,
   "metadata": {},
   "outputs": [],
   "source": [
    "lor_train_df, lor_test_df = classification_train_df, classification_test_df"
   ]
  },
  {
   "cell_type": "code",
   "execution_count": null,
   "metadata": {},
   "outputs": [],
   "source": [
    "# TODO same as SVM\n",
    "\n",
    "lor = LogisticRegression(\n",
    "    # featuresCol=\"ufs_0-1\", \n",
    "    labelCol=\"macro_place\"\n",
    ")\n",
    "\n",
    "ovr = OneVsRest(\n",
    "    classifier=lor,\n",
    "    # featuresCol=\"ufs_0-1\", \n",
    "    labelCol=\"macro_place\"\n",
    ")\n",
    "\n",
    "lor_evaluation_metrics = [\"accuracy\"]\n",
    "lor_evaluation_metrics_cv = [\"accuracy\"]\n",
    "\n",
    "lor_param_grid = (\n",
    "    ParamGridBuilder()\n",
    "    .addGrid(\n",
    "        ovr.featuresCol, [\n",
    "            \"ufs_0-1\", \n",
    "            \"value_vec_min_max\",\n",
    "            # \"all_vec_min_max_pcs\",\n",
    "            # \"all_vec_min_max\"\n",
    "        ]\n",
    "    )\n",
    "    .build()\n",
    ")\n"
   ]
  },
  {
   "cell_type": "code",
   "execution_count": null,
   "metadata": {},
   "outputs": [],
   "source": [
    "find_best_classifier(\n",
    "    train_df=lor_train_df, \n",
    "    test_df=lor_test_df, \n",
    "    classifier=ovr,\n",
    "    classifier_evaluation_metrics=lor_evaluation_metrics,\n",
    "    cv_evaluation_metrics=lor_evaluation_metrics_cv,\n",
    "    hyperparams_grid=lor_param_grid\n",
    ")"
   ]
  },
  {
   "cell_type": "markdown",
   "metadata": {},
   "source": [
    "#### Classification Tree"
   ]
  },
  {
   "cell_type": "code",
   "execution_count": null,
   "metadata": {},
   "outputs": [],
   "source": [
    "ct_train_df, ct_test_df = classification_train_df, classification_test_df"
   ]
  },
  {
   "cell_type": "code",
   "execution_count": null,
   "metadata": {},
   "outputs": [],
   "source": [
    "ct = DecisionTreeClassifier(\n",
    "    # featuresCol=\"ufs_0-1\", \n",
    "    labelCol=\"macro_place\"\n",
    ")\n",
    "\n",
    "# ovr = OneVsRest(\n",
    "#     classifier=ct,\n",
    "#     featuresCol=\"feature_vec_ufs_0-1\", \n",
    "#     labelCol=\"macro_place\"\n",
    "# )\n",
    "\n",
    "ct_evaluation_metrics = [\"accuracy\"]\n",
    "ct_evaluation_metrics_cv = [\"accuracy\"]\n",
    "\n",
    "ct_param_grid = (\n",
    "    ParamGridBuilder()\n",
    "    .addGrid(\n",
    "        ct.featuresCol, [\n",
    "            \"ufs_0-1\", \n",
    "            # \"value_vec_min_max\",\n",
    "            # \"all_vec_min_max_pcs\",\n",
    "            # \"all_vec_min_max\"\n",
    "        ]\n",
    "    )\n",
    "    .build()\n",
    ")\n"
   ]
  },
  {
   "cell_type": "code",
   "execution_count": null,
   "metadata": {},
   "outputs": [],
   "source": [
    "find_best_classifier(\n",
    "    train_df=ct_train_df, \n",
    "    test_df=ct_test_df, \n",
    "    classifier=ct,\n",
    "    classifier_evaluation_metrics=ct_evaluation_metrics,\n",
    "    cv_evaluation_metrics=ct_evaluation_metrics_cv,\n",
    "    hyperparams_grid=ct_param_grid\n",
    ")\n"
   ]
  },
  {
   "cell_type": "markdown",
   "metadata": {},
   "source": [
    "#### Random Forest"
   ]
  },
  {
   "cell_type": "code",
   "execution_count": null,
   "metadata": {},
   "outputs": [],
   "source": [
    "rfc_train_df, rfc_test_df = classification_train_df, classification_test_df"
   ]
  },
  {
   "cell_type": "code",
   "execution_count": null,
   "metadata": {},
   "outputs": [],
   "source": [
    "rfc = RandomForestClassifier(\n",
    "    # featuresCol=\"feature_vec_ufs_0-1\", \n",
    "    labelCol=\"macro_place\"\n",
    ")\n",
    "\n",
    "# ovr = OneVsRest(\n",
    "#     classifier=rfc,\n",
    "#     featuresCol=\"feature_vec_ufs_0-1\", \n",
    "#     labelCol=\"macro_place\"\n",
    "# )\n",
    "\n",
    "rfc_evaluation_metrics = [\"accuracy\"]\n",
    "rfc_evaluation_metrics_cv = [\"accuracy\"]\n",
    "\n",
    "rfc_param_grid = (\n",
    "    ParamGridBuilder()\n",
    "    .addGrid(\n",
    "        rfc.featuresCol, [\n",
    "            \"ufs_0-1\", \n",
    "            # \"value_vec_min_max\",\n",
    "            # \"all_vec_min_max_pcs\",\n",
    "            # \"all_vec_min_max\"\n",
    "        ]\n",
    "    )\n",
    "    .build()\n",
    ")\n"
   ]
  },
  {
   "cell_type": "code",
   "execution_count": null,
   "metadata": {},
   "outputs": [],
   "source": [
    "find_best_classifier(\n",
    "    train_df=rfc_train_df, \n",
    "    test_df=rfc_test_df, \n",
    "    classifier=rfc,\n",
    "    classifier_evaluation_metrics=rfc_evaluation_metrics,\n",
    "    cv_evaluation_metrics=rfc_evaluation_metrics_cv,\n",
    "    hyperparams_grid=rfc_param_grid\n",
    ")"
   ]
  },
  {
   "cell_type": "markdown",
   "metadata": {},
   "source": [
    "#### MLP"
   ]
  },
  {
   "cell_type": "code",
   "execution_count": null,
   "metadata": {},
   "outputs": [],
   "source": [
    "mlp_train_df, mlp_test_df = classification_train_df, classification_test_df"
   ]
  },
  {
   "cell_type": "code",
   "execution_count": null,
   "metadata": {},
   "outputs": [],
   "source": [
    "mlp = MultilayerPerceptronClassifier(\n",
    "    # featuresCol=\"feature_vec_ufs_0-1\", \n",
    "    labelCol=\"macro_place\"\n",
    ")\n",
    "\n",
    "# ovr = OneVsRest(\n",
    "#     classifier=mlp,\n",
    "#     featuresCol=\"feature_vec_ufs_0-1\", \n",
    "#     labelCol=\"macro_place\"\n",
    "# )\n",
    "\n",
    "mlp_evaluation_metrics = [\"accuracy\"]\n",
    "mlp_evaluation_metrics_cv = [\"accuracy\"]\n",
    "\n",
    "mlp_param_grid = (\n",
    "    ParamGridBuilder()\n",
    "    .addGrid(mlp.layers, [[NUM_FEATURES, 4, 4, 2, NUM_MACRO_PLACES]])\n",
    "    .addGrid(\n",
    "        mlp.featuresCol, [\n",
    "            \"ufs_0-1\", \n",
    "            # \"value_vec_min_max\",\n",
    "            # \"all_vec_min_max_pcs\",\n",
    "            # \"all_vec_min_max\"\n",
    "        ]\n",
    "    )\n",
    "    .build()\n",
    ")\n"
   ]
  },
  {
   "cell_type": "code",
   "execution_count": null,
   "metadata": {},
   "outputs": [],
   "source": [
    "find_best_classifier(\n",
    "    train_df=mlp_train_df, \n",
    "    test_df=mlp_test_df, \n",
    "    classifier=mlp,\n",
    "    classifier_evaluation_metrics=mlp_evaluation_metrics,\n",
    "    cv_evaluation_metrics=mlp_evaluation_metrics_cv,\n",
    "    hyperparams_grid=mlp_param_grid\n",
    ")"
   ]
  },
  {
   "cell_type": "markdown",
   "metadata": {},
   "source": [
    "## Custom ranking-based evaluation"
   ]
  },
  {
   "cell_type": "code",
   "execution_count": null,
   "metadata": {},
   "outputs": [],
   "source": [
    "## compare ranking of prediction value with actual ranking"
   ]
  },
  {
   "cell_type": "markdown",
   "metadata": {},
   "source": [
    "# Attempt 3: clustering"
   ]
  },
  {
   "cell_type": "code",
   "execution_count": 9,
   "metadata": {},
   "outputs": [
    {
     "name": "stderr",
     "output_type": "stream",
     "text": [
      "                                                                                \r"
     ]
    }
   ],
   "source": [
    "clustering_df = pre_processed_df\n",
    "\n",
    "CLUSTERING_FEATURES = copy.deepcopy(PLAYER_FEATURES)\n",
    "CLUSTERING_FEATURES.remove(\"overall\")\n",
    "CLUSTERING_FEATURES.remove(\"value\")\n",
    "\n",
    "\n",
    "assembler = VectorAssembler(\n",
    "    inputCols=CLUSTERING_FEATURES, outputCol=\"all_vec\"\n",
    ")\n",
    "\n",
    "clustering_df = assembler.transform(clustering_df)\n",
    "\n",
    "scaler = MinMaxScaler(\n",
    "    inputCol=\"all_vec\", outputCol=\"all_vec_min_max\"\n",
    ")\n",
    "\n",
    "clustering_df = scaler.fit(clustering_df).transform(clustering_df)"
   ]
  },
  {
   "cell_type": "code",
   "execution_count": 10,
   "metadata": {},
   "outputs": [],
   "source": [
    "def k_means(\n",
    "    dataset,\n",
    "    n_clusters,\n",
    "    distance_measure=\"euclidean\",\n",
    "    max_iter=20,\n",
    "    features_col=\"features\",\n",
    "    prediction_col=\"cluster\",\n",
    "    random_seed=RANDOM_SEED,\n",
    "):\n",
    "\n",
    "    print(\n",
    "        f\"\"\"Training K-means clustering using the following parameters: \n",
    "        - K (n. of clusters) = {n_clusters}\n",
    "        - max_iter (max n. of iterations) = {max_iter}\n",
    "        - distance measure = {distance_measure}\n",
    "        - random seed = {random_seed if random_seed is not None else \"NONE USED!\"}\n",
    "        \"\"\"\n",
    "    )\n",
    "\n",
    "    # if distance_measure == \"cosine\":\n",
    "\n",
    "        # NOTE we already start from normalized/std data, so, NO need to do it\n",
    "\n",
    "        # Normalize inputs to unit-length vectors\n",
    "        # dataset = Normalizer(\n",
    "        #     inputCol=features_col, outputCol=features_col + \"_norm\", p=1\n",
    "        # ).transform(dataset)\n",
    "\n",
    "        # features_col = features_col + \"_norm\"\n",
    "\n",
    "    # Train a K-means model\n",
    "    kmeans = KMeans(\n",
    "        featuresCol=features_col,\n",
    "        predictionCol=prediction_col,\n",
    "        k=n_clusters,\n",
    "        initMode=\"k-means||\",\n",
    "        initSteps=5,\n",
    "        tol=0.000001,\n",
    "        maxIter=max_iter,\n",
    "        # seed=random_seed,\n",
    "        distanceMeasure=distance_measure,\n",
    "    )\n",
    "\n",
    "    model = kmeans.fit(dataset)\n",
    "    # here there are all the relevant clustering information\n",
    "\n",
    "    # Make clusters\n",
    "    clusters_df = model.transform(dataset)\n",
    "\n",
    "    return model, clusters_df\n",
    "\n",
    "\n",
    "def evaluate_k_means(\n",
    "    clusters,\n",
    "    metric_name=\"silhouette\",\n",
    "    distance_measure=\"squaredEuclidean\",  # cosine\n",
    "    prediction_col=\"cluster\",\n",
    "    featuresCol = \"features\"\n",
    "):\n",
    "\n",
    "    # Evaluate clustering by computing Silhouette score\n",
    "    evaluator = ClusteringEvaluator(\n",
    "        metricName=metric_name,\n",
    "        distanceMeasure=distance_measure,\n",
    "        predictionCol=prediction_col,\n",
    "        featuresCol=featuresCol\n",
    "    )\n",
    "\n",
    "    return evaluator.evaluate(clusters)\n",
    "\n",
    "\n",
    "def do_clustering(\n",
    "    k_range, \n",
    "    input_df, \n",
    "    max_iter,\n",
    "    featuresCol,\n",
    "    clusterCol\n",
    "):\n",
    "    clustering_results = {}\n",
    "\n",
    "    clusters_df = input_df\n",
    "\n",
    "    # for k in tqdm( range(5, max_k_clusters + 1, 5), desc = \"Performing clustering\" ):\n",
    "    # for k in tqdm(range(2, max_k_clusters + 1, 4), desc=\"Performing clustering\"):\n",
    "    for k in tqdm(k_range, desc=\"Performing clustering\"):\n",
    "\n",
    "        print(f\"Running K-means using K = {k}\")\n",
    "\n",
    "        # model, clusters_df = k_means(tf_idf_df, k, max_iter=50, distance_measure=\"cosine\") # Alternatively, distance_measure=\"euclidean\"\n",
    "        # model, clusters_df = k_means(input_df, k, max_iter=max_iter, distance_measure=\"cosine\") # Alternatively, distance_measure=\"euclidean\"\n",
    "        model, clusters_df = k_means(\n",
    "            # input_df,\n",
    "            clusters_df, \n",
    "            k, \n",
    "            max_iter=max_iter, \n",
    "            distance_measure=\"cosine\", \n",
    "            features_col=featuresCol,\n",
    "            prediction_col=clusterCol + \"_k_\" + str(k),\n",
    "        )  # Alternatively, distance_measure=\"euclidean\"\n",
    "        # silhouette_k = evaluate_k_means(clusters_df, distance_measure=\"cosine\") # Alternatively, distance_measure=\"squaredEuclidean\"\n",
    "        silhouette_k = evaluate_k_means(\n",
    "            clusters_df, \n",
    "            distance_measure=\"cosine\",\n",
    "            prediction_col=clusterCol + \"_k_\" + str(k),\n",
    "            featuresCol=featuresCol\n",
    "\n",
    "        )  # Alternatively, distance_measure=\"squaredEuclidean\"\n",
    "        # wssd_k = model.summary.trainingCost\n",
    "        wssd_k = model.summary\n",
    "\n",
    "        print(\n",
    "            \"Silhouette coefficient computed with cosine distance: {:.3f}\".format(\n",
    "                silhouette_k\n",
    "            )\n",
    "        )\n",
    "        print(\n",
    "            \"Within-cluster Sum of Squared Distances (using cosine distance): {:.3f}\".format(\n",
    "                wssd_k.trainingCost\n",
    "            )\n",
    "        )\n",
    "        print(\n",
    "            \"--------------------------------------------------------------------------------------\"\n",
    "        )\n",
    "\n",
    "        l = list(\n",
    "            enumerate(\n",
    "                model.clusterCenters()\n",
    "            )\n",
    "        )\n",
    "        l = [(ind, DenseVector(c)) for ind, c in l]\n",
    "        # print(l)\n",
    "        schema = [\"cluster_id\"  + \"_k_\" + str(k), \"centroid\"  + \"_k_\" + str(k)]\n",
    "\n",
    "        schema = StructType([ \n",
    "            StructField(\"cluster_id\" + \"_k_\" + str(k),IntegerType(),True), \n",
    "            StructField(\"centroid\" + \"_k_\" + str(k),VectorUDT(),True), \n",
    "        ])\n",
    "        centr_df = spark.createDataFrame(data=l, schema=schema)\n",
    "\n",
    "        # centr_df.show()\n",
    "\n",
    "        # df_with_centroids = clusters_df.join(\n",
    "        #     centr_df, on=[\"cluster_id\"]\n",
    "        # )\n",
    "\n",
    "        clusters_df = clusters_df.join(\n",
    "            centr_df, on=[\"cluster_id\" + \"_k_\" + str(k)]\n",
    "        )\n",
    "\n",
    "\n",
    "\n",
    "        clustering_results[str(k)] = {\n",
    "            \"silhouette_k\"      : silhouette_k,\n",
    "            \"wssd_k\"            : wssd_k,\n",
    "            \"model\"             : model,\n",
    "            \"df\"                : clusters_df,\n",
    "            # \"cluster_centroids\" : model.clusterCenters(),\n",
    "            # \"centr_df\" : centr_df,\n",
    "            # \"df_with_centroids\" : df_with_centroids\n",
    "        }\n",
    "\n",
    "        \n",
    "        \n",
    "\n",
    "        # Free up memory space at the end of each iteration\n",
    "        # del model\n",
    "        # del clusters_df\n",
    "        # gc.collect() # garbage collector\n",
    "    \n",
    "    clustering_results[\"df_with_centroid_full\"] = clusters_df\n",
    "\n",
    "    return clustering_results\n",
    "\n",
    "\n",
    "def plot_clustering_results(clustering_results):\n",
    "\n",
    "    # print(clustering_results)\n",
    "\n",
    "    k_col = list(clustering_results.keys())[:-1]\n",
    "    wssd_col = [\n",
    "        clustering_results[k][\"wssd_k\"].trainingCost for k in k_col \n",
    "    ]\n",
    "    silhouette_col = [\n",
    "        clustering_results[k][\"silhouette_k\"] for k in k_col \n",
    "    ]\n",
    "\n",
    "    # print(k_col)\n",
    "    # print(wssd_col)\n",
    "    # print(silhouette_col)\n",
    "\n",
    "    plot_df_temp = pd.DataFrame([k_col, wssd_col, silhouette_col]).transpose()\n",
    "    plot_df_temp.columns = [\"K\", \"WSSD\", \"Silhouette\"]\n",
    "    # print(plot_df_temp)\n",
    "\n",
    "    # Create a 1x1 figure\n",
    "    fig, ax = plt.subplots(1, 1, figsize=(8, 6))\n",
    "\n",
    "    _ = sns.pointplot(\n",
    "        data=plot_df_temp, x=\"K\", y=\"WSSD\", ax=ax, color=\"orangered\"\n",
    "    )\n",
    "    _ = ax.set_xlabel(\"K\")\n",
    "    _ = ax.set_ylabel(\"WSSD\")\n",
    "    \n",
    "    # Create a 1x1 figure\n",
    "    fig, ax = plt.subplots(1, 1, figsize=(8, 6))\n",
    "\n",
    "    _ = sns.pointplot(\n",
    "        data=plot_df_temp, x=\"K\", y=\"Silhouette\", ax=ax, color=\"orangered\"\n",
    "    )\n",
    "    _ = ax.set_xlabel(\"K\")\n",
    "    _ = ax.set_ylabel(\"Silhouette\")"
   ]
  },
  {
   "cell_type": "code",
   "execution_count": 12,
   "metadata": {},
   "outputs": [],
   "source": [
    "clustering_df_dict = {\n",
    "    s: clustering_df.filter(col(\"season\") == s) for s in seasons\n",
    "}\n",
    "\n",
    "MAX_K_CLUSTERS = 16\n",
    "MAX_ITER = 20\n",
    "\n",
    "k_range = range(2, MAX_K_CLUSTERS, 4)"
   ]
  },
  {
   "cell_type": "code",
   "execution_count": 13,
   "metadata": {},
   "outputs": [
    {
     "name": "stderr",
     "output_type": "stream",
     "text": [
      "Performing clustering:   0%|          | 0/4 [00:00<?, ?it/s]"
     ]
    },
    {
     "name": "stdout",
     "output_type": "stream",
     "text": [
      "Running K-means using K = 2\n",
      "Training K-means clustering using the following parameters: \n",
      "        - K (n. of clusters) = 2\n",
      "        - max_iter (max n. of iterations) = 20\n",
      "        - distance measure = cosine\n",
      "        - random seed = NONE USED!\n",
      "        \n"
     ]
    },
    {
     "name": "stderr",
     "output_type": "stream",
     "text": [
      "Performing clustering:  25%|██▌       | 1/4 [00:07<00:21,  7.26s/it]            "
     ]
    },
    {
     "name": "stdout",
     "output_type": "stream",
     "text": [
      "Silhouette coefficient computed with cosine distance: 0.863\n",
      "Within-cluster Sum of Squared Distances (using cosine distance): 16.271\n",
      "--------------------------------------------------------------------------------------\n",
      "Running K-means using K = 6\n",
      "Training K-means clustering using the following parameters: \n",
      "        - K (n. of clusters) = 6\n",
      "        - max_iter (max n. of iterations) = 20\n",
      "        - distance measure = cosine\n",
      "        - random seed = NONE USED!\n",
      "        \n"
     ]
    },
    {
     "name": "stderr",
     "output_type": "stream",
     "text": [
      "Performing clustering:  50%|█████     | 2/4 [00:13<00:13,  6.63s/it]            "
     ]
    },
    {
     "name": "stdout",
     "output_type": "stream",
     "text": [
      "Silhouette coefficient computed with cosine distance: 0.389\n",
      "Within-cluster Sum of Squared Distances (using cosine distance): 8.845\n",
      "--------------------------------------------------------------------------------------\n",
      "Running K-means using K = 10\n",
      "Training K-means clustering using the following parameters: \n",
      "        - K (n. of clusters) = 10\n",
      "        - max_iter (max n. of iterations) = 20\n",
      "        - distance measure = cosine\n",
      "        - random seed = NONE USED!\n",
      "        \n"
     ]
    },
    {
     "name": "stderr",
     "output_type": "stream",
     "text": [
      "Performing clustering:  75%|███████▌  | 3/4 [00:19<00:06,  6.15s/it]"
     ]
    },
    {
     "name": "stdout",
     "output_type": "stream",
     "text": [
      "Silhouette coefficient computed with cosine distance: 0.263\n",
      "Within-cluster Sum of Squared Distances (using cosine distance): 7.478\n",
      "--------------------------------------------------------------------------------------\n",
      "Running K-means using K = 14\n",
      "Training K-means clustering using the following parameters: \n",
      "        - K (n. of clusters) = 14\n",
      "        - max_iter (max n. of iterations) = 20\n",
      "        - distance measure = cosine\n",
      "        - random seed = NONE USED!\n",
      "        \n"
     ]
    },
    {
     "name": "stderr",
     "output_type": "stream",
     "text": [
      "Performing clustering: 100%|██████████| 4/4 [00:24<00:00,  6.19s/it]"
     ]
    },
    {
     "name": "stdout",
     "output_type": "stream",
     "text": [
      "Silhouette coefficient computed with cosine distance: 0.224\n",
      "Within-cluster Sum of Squared Distances (using cosine distance): 7.014\n",
      "--------------------------------------------------------------------------------------\n"
     ]
    },
    {
     "name": "stderr",
     "output_type": "stream",
     "text": [
      "\n"
     ]
    }
   ],
   "source": [
    "clustering_results_dict = dict()\n",
    "\n",
    "for s in [\"20\"]:\n",
    "    clustering_results_dict[s] = do_clustering(\n",
    "        k_range, \n",
    "        clustering_df_dict[s], \n",
    "        MAX_ITER,\n",
    "        \"all_vec_min_max\",\n",
    "        \"cluster_id\"\n",
    "    )\n"
   ]
  },
  {
   "cell_type": "code",
   "execution_count": 14,
   "metadata": {},
   "outputs": [],
   "source": [
    "all_together_df = reduce(\n",
    "    DataFrame.unionAll, \n",
    "    [\n",
    "        clustering_results_dict[s][\"df_with_centroid_full\"] for s in [\"20\"]\n",
    "    ]\n",
    ")"
   ]
  },
  {
   "cell_type": "markdown",
   "metadata": {},
   "source": [
    "## Clustering evaluation"
   ]
  },
  {
   "cell_type": "markdown",
   "metadata": {},
   "source": [
    "### Evalutating single seasons"
   ]
  },
  {
   "cell_type": "code",
   "execution_count": 15,
   "metadata": {},
   "outputs": [
    {
     "data": {
      "application/vnd.jupyter.widget-view+json": {
       "model_id": "b75e5f0c990046249c7f0b6662136fe8",
       "version_major": 2,
       "version_minor": 0
      },
      "image/png": "[encoded data removed]",
      "text/html": [
       "\n",
       "            <div style=\"display: inline-block;\">\n",
       "                <div class=\"jupyter-widgets widget-label\" style=\"text-align: center;\">\n",
       "                    Figure\n",
       "                </div>\n",
       "                <img src='data:image/png;base64,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' width=800.0/>\n",
       "            </div>\n",
       "        "
      ],
      "text/plain": [
       "Canvas(toolbar=Toolbar(toolitems=[('Home', 'Reset original view', 'home', 'home'), ('Back', 'Back to previous …"
      ]
     },
     "metadata": {},
     "output_type": "display_data"
    },
    {
     "data": {
      "application/vnd.jupyter.widget-view+json": {
       "model_id": "95cd39458f8b45dbb97e7b6d1148ede6",
       "version_major": 2,
       "version_minor": 0
      },
      "image/png": "[encoded data removed]",
      "text/html": [
       "\n",
       "            <div style=\"display: inline-block;\">\n",
       "                <div class=\"jupyter-widgets widget-label\" style=\"text-align: center;\">\n",
       "                    Figure\n",
       "                </div>\n",
       "                <img src='data:image/png;base64,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' width=800.0/>\n",
       "            </div>\n",
       "        "
      ],
      "text/plain": [
       "Canvas(toolbar=Toolbar(toolitems=[('Home', 'Reset original view', 'home', 'home'), ('Back', 'Back to previous …"
      ]
     },
     "metadata": {},
     "output_type": "display_data"
    }
   ],
   "source": [
    "for s in [\"20\"]:\n",
    "    plot_clustering_results(clustering_results_dict[s])\n",
    "    \n",
    "    "
   ]
  },
  {
   "cell_type": "markdown",
   "metadata": {},
   "source": [
    "### Evaluating seasons all together"
   ]
  },
  {
   "cell_type": "markdown",
   "metadata": {},
   "source": [
    "## Dataset composition"
   ]
  },
  {
   "cell_type": "code",
   "execution_count": 25,
   "metadata": {},
   "outputs": [],
   "source": [
    "# TODO select K according to clustering evaluation\n",
    "K = [str(k) for k in k_range]\n",
    "# K = [\"2\",\"6\"]"
   ]
  },
  {
   "cell_type": "markdown",
   "metadata": {},
   "source": [
    "### Compute distance between player and centroid of its cluster"
   ]
  },
  {
   "cell_type": "code",
   "execution_count": 26,
   "metadata": {},
   "outputs": [],
   "source": [
    "compute_distance_from_centroid_UDF = udf(\n",
    "    lambda player, centroid: float(\n",
    "        Vectors.squared_distance(\n",
    "            player, centroid\n",
    "        )\n",
    "    ), FloatType()\n",
    ")"
   ]
  },
  {
   "cell_type": "code",
   "execution_count": 27,
   "metadata": {},
   "outputs": [],
   "source": [
    "for k in K:\n",
    "    all_together_df = all_together_df.withColumn(\n",
    "        \"distance_from_centroid\" + \"_k_\" + str(k),\n",
    "        compute_distance_from_centroid_UDF(\n",
    "            col(\"all_vec_min_max\"),\n",
    "            col(\"centroid\" + \"_k_\" + str(k))\n",
    "        )\n",
    "    )\n",
    "        "
   ]
  },
  {
   "cell_type": "markdown",
   "metadata": {},
   "source": [
    "### From players to teams"
   ]
  },
  {
   "cell_type": "code",
   "execution_count": 28,
   "metadata": {},
   "outputs": [],
   "source": [
    "teams_df = all_together_df.groupBy(\n",
    "    [\"season\", \"club_name\", \"macro_role\"]\n",
    ").agg(\n",
    "    { \n",
    "        \"distance_from_centroid\" + \"_k_\" + str(k): \"avg\" for k in K \n",
    "    }\n",
    ")\n",
    "\n",
    "for k in K:\n",
    "    teams_df = teams_df.withColumnRenamed(\n",
    "        \"avg(distance_from_centroid\" + \"_k_\" + str(k) + \")\",\n",
    "        \"avg_distance_from_centroid\" + \"_k_\" + str(k)\n",
    "    )"
   ]
  },
  {
   "cell_type": "code",
   "execution_count": 29,
   "metadata": {},
   "outputs": [],
   "source": [
    "def generate_subquery(macro_role, k):\n",
    "    return f\"\"\"(\n",
    "        case\n",
    "            when macro_role='{macro_role}' then avg_distance_from_centroid_k_{k} \n",
    "        else NULL\n",
    "        end\n",
    "    ) as avg_dist_macro_role_{int(macro_role)}_k_{k}\n",
    "    \"\"\""
   ]
  },
  {
   "cell_type": "code",
   "execution_count": 30,
   "metadata": {},
   "outputs": [],
   "source": [
    "teams_df.createOrReplaceTempView(\"t\")\n",
    "\n",
    "temp = dict()\n",
    "\n",
    "for k in K:\n",
    "\n",
    "    temp[k] = (\n",
    "        spark.sql(\n",
    "            f\"\"\"\n",
    "                select season, club_name, {generate_subquery(0.0, k)}, {generate_subquery(1.0, k)}, {generate_subquery(2.0, k)}, {generate_subquery(3.0, k)}, {generate_subquery(4.0, k)}, {generate_subquery(5.0, k)}, {generate_subquery(6.0, k)}, {generate_subquery(7.0, k)}\n",
    "                from t\n",
    "            \"\"\"\n",
    "        )\n",
    "        .groupBy(\"season\", \"club_name\")\n",
    "        .agg(\n",
    "            # TODO use for loop as in second cell of \"from players to teams\"\n",
    "            sum(f\"avg_dist_macro_role_0_k_{k}\").alias(f\"avg_dist_macro_role_0_k_{k}\"),\n",
    "            sum(f\"avg_dist_macro_role_1_k_{k}\").alias(f\"avg_dist_macro_role_1_k_{k}\"),\n",
    "            sum(f\"avg_dist_macro_role_2_k_{k}\").alias(f\"avg_dist_macro_role_2_k_{k}\"),\n",
    "            sum(f\"avg_dist_macro_role_3_k_{k}\").alias(f\"avg_dist_macro_role_3_k_{k}\"),\n",
    "            sum(f\"avg_dist_macro_role_4_k_{k}\").alias(f\"avg_dist_macro_role_4_k_{k}\"),\n",
    "            sum(f\"avg_dist_macro_role_5_k_{k}\").alias(f\"avg_dist_macro_role_5_k_{k}\"),\n",
    "            sum(f\"avg_dist_macro_role_6_k_{k}\").alias(f\"avg_dist_macro_role_6_k_{k}\"),\n",
    "            sum(f\"avg_dist_macro_role_7_k_{k}\").alias(f\"avg_dist_macro_role_7_k_{k}\"),\n",
    "        )\n",
    "    )"
   ]
  },
  {
   "cell_type": "code",
   "execution_count": 31,
   "metadata": {},
   "outputs": [
    {
     "data": {
      "text/plain": [
       "{'2': DataFrame[season: string, club_name: string, avg_dist_macro_role_0_k_2: double, avg_dist_macro_role_1_k_2: double, avg_dist_macro_role_2_k_2: double, avg_dist_macro_role_3_k_2: double, avg_dist_macro_role_4_k_2: double, avg_dist_macro_role_5_k_2: double, avg_dist_macro_role_6_k_2: double, avg_dist_macro_role_7_k_2: double],\n",
       " '6': DataFrame[season: string, club_name: string, avg_dist_macro_role_0_k_6: double, avg_dist_macro_role_1_k_6: double, avg_dist_macro_role_2_k_6: double, avg_dist_macro_role_3_k_6: double, avg_dist_macro_role_4_k_6: double, avg_dist_macro_role_5_k_6: double, avg_dist_macro_role_6_k_6: double, avg_dist_macro_role_7_k_6: double],\n",
       " '10': DataFrame[season: string, club_name: string, avg_dist_macro_role_0_k_10: double, avg_dist_macro_role_1_k_10: double, avg_dist_macro_role_2_k_10: double, avg_dist_macro_role_3_k_10: double, avg_dist_macro_role_4_k_10: double, avg_dist_macro_role_5_k_10: double, avg_dist_macro_role_6_k_10: double, avg_dist_macro_role_7_k_10: double],\n",
       " '14': DataFrame[season: string, club_name: string, avg_dist_macro_role_0_k_14: double, avg_dist_macro_role_1_k_14: double, avg_dist_macro_role_2_k_14: double, avg_dist_macro_role_3_k_14: double, avg_dist_macro_role_4_k_14: double, avg_dist_macro_role_5_k_14: double, avg_dist_macro_role_6_k_14: double, avg_dist_macro_role_7_k_14: double]}"
      ]
     },
     "execution_count": 31,
     "metadata": {},
     "output_type": "execute_result"
    }
   ],
   "source": [
    "temp"
   ]
  },
  {
   "cell_type": "code",
   "execution_count": 32,
   "metadata": {},
   "outputs": [],
   "source": [
    "# NOTE executing this cell n times, w/o restoring teams_df --> \n",
    "# n copies of avg_dist_macro_role_[0:7]_k_[2, 6]\n",
    "\n",
    "teams_df = temp[str(K[0])]\n",
    "\n",
    "for i in range(1, len(K)):\n",
    "    teams_df = teams_df.join(\n",
    "        temp[str(K[i])], on=[\"season\", \"club_name\"]\n",
    "    )"
   ]
  },
  {
   "cell_type": "code",
   "execution_count": 33,
   "metadata": {},
   "outputs": [],
   "source": [
    "avg_distances_dict = dict()\n",
    "\n",
    "for k in K:\n",
    "    \n",
    "    avg_distances_dict[k] = [\n",
    "        f\"avg_dist_macro_role_{i}_k_{k}\" for i in range(0, NUM_MACRO_ROLES)\n",
    "    ]"
   ]
  },
  {
   "cell_type": "code",
   "execution_count": 34,
   "metadata": {},
   "outputs": [
    {
     "name": "stderr",
     "output_type": "stream",
     "text": [
      "                                                                                \r"
     ]
    }
   ],
   "source": [
    "import builtins\n",
    "\n",
    "global_max = teams_df.select(\n",
    "    greatest(\n",
    "        *list(\n",
    "            itertools.chain.from_iterable(\n",
    "                avg_distances_dict.values()\n",
    "            )\n",
    "        )\n",
    "    ).alias(\"row_wise_max\")\n",
    ").collect()\n",
    "\n",
    "global_max = [row[\"row_wise_max\"] for row in global_max]\n",
    "\n",
    "global_max = builtins.max(global_max)\n"
   ]
  },
  {
   "cell_type": "code",
   "execution_count": 35,
   "metadata": {},
   "outputs": [],
   "source": [
    "teams_df = teams_df.fillna(global_max * 1.5)    "
   ]
  },
  {
   "cell_type": "code",
   "execution_count": 36,
   "metadata": {},
   "outputs": [],
   "source": [
    "for k in K:\n",
    "\n",
    "    assembler = VectorAssembler(\n",
    "        inputCols=avg_distances_dict[k], outputCol=f\"avg_dist_vec_k_{k}\"\n",
    "    )\n",
    "\n",
    "    teams_df = assembler.transform(teams_df)"
   ]
  },
  {
   "cell_type": "markdown",
   "metadata": {},
   "source": [
    "## Learning from clustering"
   ]
  },
  {
   "cell_type": "markdown",
   "metadata": {},
   "source": [
    "## Clustering-learning cross evaluation\n",
    "\n",
    "Classic left-right plot, with:\n",
    "Left Y --> elbow result\n",
    "Right Y --> accuracy\n",
    "X axis --> # clusters"
   ]
  },
  {
   "cell_type": "markdown",
   "metadata": {},
   "source": []
  },
  {
   "cell_type": "markdown",
   "metadata": {},
   "source": [
    "# Attempt 4: thinking \"Deep\", shallow injecting some priors"
   ]
  },
  {
   "cell_type": "markdown",
   "metadata": {},
   "source": [
    "## Computing the prior (RP coefficient)"
   ]
  },
  {
   "cell_type": "markdown",
   "metadata": {},
   "source": [
    "## Learning"
   ]
  },
  {
   "cell_type": "markdown",
   "metadata": {},
   "source": [
    "## RP impact\n",
    "\n",
    "plot showing that the more the weight of the RP coefficient is increased, the more the accuracy ofc goes up"
   ]
  },
  {
   "cell_type": "markdown",
   "metadata": {},
   "source": []
  }
 ],
 "metadata": {
  "interpreter": {
   "hash": "7d6993cb2f9ce9a59d5d7380609d9cb5192a9dedd2735a011418ad9e827eb538"
  },
  "kernelspec": {
   "display_name": "Python 3.9.7 64-bit",
   "language": "python",
   "name": "python3"
  },
  "language_info": {
   "codemirror_mode": {
    "name": "ipython",
    "version": 3
   },
   "file_extension": ".py",
   "mimetype": "text/x-python",
   "name": "python",
   "nbconvert_exporter": "python",
   "pygments_lexer": "ipython3",
   "version": "3.9.7"
  },
  "orig_nbformat": 4
 },
 "nbformat": 4,
 "nbformat_minor": 2
}
