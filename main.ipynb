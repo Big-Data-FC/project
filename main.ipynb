{
 "cells": [
  {
   "cell_type": "markdown",
   "metadata": {},
   "source": [
    "# Wall of imports"
   ]
  },
  {
   "cell_type": "code",
   "execution_count": 64,
   "metadata": {},
   "outputs": [],
   "source": [
    "from pyspark.sql import *\n",
    "from pyspark.sql.types import *\n",
    "from pyspark.sql.functions import *\n",
    "from pyspark import SparkContext, SparkConf\n",
    "\n",
    "import itertools\n",
    "\n",
    "import pandas as pd\n",
    "\n",
    "import numpy as np\n",
    "\n",
    "import copy\n",
    "\n",
    "from pyspark.ml.feature import VectorAssembler\n",
    "from pyspark.ml.feature import StringIndexer\n",
    "from pyspark.ml.feature import StandardScaler\n",
    "from pyspark.ml.feature import PCA\n",
    "\n",
    "import matplotlib.pyplot as plt\n",
    "import seaborn as sns\n",
    "# %matplotlib inline\n",
    "%matplotlib widget\n",
    "\n",
    "from tqdm import tqdm\n",
    "\n",
    "from pyspark.ml.clustering import KMeans\n",
    "from pyspark.ml.feature import Normalizer\n",
    "\n",
    "RANDOM_SEED = None\n",
    "\n",
    "from pyspark.ml.evaluation import ClusteringEvaluator\n",
    "\n",
    "from pyspark.ml.linalg import Vectors\n",
    "\n",
    "from functools import reduce\n",
    "\n",
    "import json\n",
    "\n",
    "from pyspark.ml.regression import LinearRegression\n",
    "\n",
    "from pyspark_dist_explore import hist\n",
    "\n",
    "from pyspark.ml.regression import RandomForestRegressor\n",
    "\n",
    "from pyspark.ml.regression import DecisionTreeRegressor\n",
    "\n",
    "from pyspark.ml import Pipeline\n",
    "\n",
    "from pyspark.ml.tuning import ParamGridBuilder\n",
    "\n",
    "from pyspark.ml.tuning import CrossValidator\n",
    "from pyspark.ml.evaluation import RegressionEvaluator\n",
    "\n",
    "from pyspark.ml.regression import GBTRegressor\n",
    "\n",
    "from pyspark.ml.classification import MultilayerPerceptronClassifier\n",
    "\n",
    "from pyspark.ml.classification import LogisticRegression\n",
    "\n",
    "from pyspark.ml.classification import LinearSVC, OneVsRest\n",
    "from pyspark.ml.evaluation import MulticlassClassificationEvaluator\n",
    "\n",
    "from pyspark.ml.classification import DecisionTreeClassifier\n",
    "from pyspark.ml.classification import RandomForestClassifier\n",
    "\n",
    "from operator import itemgetter\n",
    "\n",
    "from pyspark.ml.feature import MinMaxScaler\n",
    "\n",
    "from pyspark.ml.linalg import Vectors, VectorUDT\n",
    "\n",
    "from pyspark.ml.stat import Summarizer\n",
    "\n",
    "from sklearn.manifold import TSNE\n",
    "\n",
    "from sklearn.decomposition import KernelPCA\n",
    "\n",
    "from pyspark.ml.feature import UnivariateFeatureSelector\n",
    "from pyspark.ml.linalg import DenseVector\n",
    "import numpy as np\n",
    "import pandas as pd\n",
    "import matplotlib.pyplot as plt \n",
    "import seaborn as sns\n",
    "import re\n",
    "\n",
    "import sklearn\n",
    "from sklearn.model_selection import train_test_split\n",
    "# from sklearn.preprocessing import MinMaxScaler\n",
    "from sklearn.preprocessing import PolynomialFeatures\n",
    "from sklearn.preprocessing import scale\n",
    "from sklearn.feature_selection import RFE\n",
    "# from sklearn.linear_model import LinearRegression\n",
    "from sklearn.model_selection import cross_val_score\n",
    "from sklearn.model_selection import KFold\n",
    "from sklearn.model_selection import GridSearchCV\n",
    "from sklearn.pipeline import make_pipeline\n",
    "\n",
    "from sklearn.model_selection import cross_val_score\n",
    "\n",
    "from sklearn.linear_model import Ridge\n",
    "from sklearn.linear_model import Lasso\n",
    "# from sklearn.tree import DecisionTreeRegressor\n",
    "from sklearn.ensemble import GradientBoostingRegressor\n",
    "# from sklearn.ensemble import RandomForestRegressor\n",
    "\n",
    "from sklearn.preprocessing import FunctionTransformer\n",
    "\n",
    "\n",
    "import warnings # supress warnings\n",
    "warnings.filterwarnings('ignore')"
   ]
  },
  {
   "cell_type": "markdown",
   "metadata": {},
   "source": [
    "# Spark"
   ]
  },
  {
   "cell_type": "code",
   "execution_count": 2,
   "metadata": {},
   "outputs": [
    {
     "name": "stderr",
     "output_type": "stream",
     "text": [
      "22/06/15 14:02:33 WARN Utils: Your hostname, RTX-2070-Rig resolves to a loopback address: 127.0.1.1; using 192.168.1.189 instead (on interface wlp7s0)\n",
      "22/06/15 14:02:33 WARN Utils: Set SPARK_LOCAL_IP if you need to bind to another address\n",
      "Using Spark's default log4j profile: org/apache/spark/log4j-defaults.properties\n",
      "Setting default log level to \"WARN\".\n",
      "To adjust logging level use sc.setLogLevel(newLevel). For SparkR, use setLogLevel(newLevel).\n",
      "22/06/15 14:02:33 WARN NativeCodeLoader: Unable to load native-hadoop library for your platform... using builtin-java classes where applicable\n"
     ]
    }
   ],
   "source": [
    "conf = (\n",
    "    SparkConf()\n",
    "    .set(\"spark.ui.port\", \"4050\")\n",
    "    .set(\"spark.executor.memory\", \"4G\")\n",
    "    .set(\"spark.driver.memory\", \"20G\")\n",
    "    .set(\"spark.driver.maxResultSize\", \"10G\")\n",
    ")\n",
    "# .set(\"spark.master\", \"spark://192.168.1.189:4050\")\n",
    "\n",
    "\n",
    "# create the context\n",
    "sc = SparkContext(conf=conf)\n",
    "sc.setLogLevel(\"ERROR\")\n",
    "\n",
    "\n",
    "spark = SparkSession.builder.getOrCreate()"
   ]
  },
  {
   "cell_type": "markdown",
   "metadata": {},
   "source": [
    "# Loading football players"
   ]
  },
  {
   "cell_type": "code",
   "execution_count": 3,
   "metadata": {},
   "outputs": [
    {
     "name": "stderr",
     "output_type": "stream",
     "text": [
      "                                                                                \r"
     ]
    }
   ],
   "source": [
    "modern_df = spark.read.csv(\n",
    "    \"data/players_*.csv\", sep=\",\", inferSchema=True, header=True, multiLine=True\n",
    ")\n",
    "\n",
    "legacy_df = spark.read.csv(\n",
    "    \"data/scraped_players_*.csv\", sep=\",\", inferSchema=True, header=True, \n",
    "    multiLine=True\n",
    ")"
   ]
  },
  {
   "cell_type": "markdown",
   "metadata": {},
   "source": [
    "# Pre-processing football players"
   ]
  },
  {
   "cell_type": "code",
   "execution_count": 4,
   "metadata": {},
   "outputs": [],
   "source": [
    "leagues = [\n",
    "    \"Spain Primera Division\",\n",
    "    # \"German 1. Bundesliga\",\n",
    "    # \"French Ligue 1\",\n",
    "    # \"English Premier League\",\n",
    "    # \"Italian Serie A\",\n",
    "    # \"Holland Eredivisie\",\n",
    "]\n",
    "\n",
    "# seasons_modern = [\"20\", \"19\", \"18\", \"17\", \"16\", \"15\", \"14\"] \n",
    "seasons_modern = [\"20\", \"19\"] \n",
    "# seasons_legacy = [\"13\", \"12\", \"11\", \"10\", \"09\", \"08\", \"07\"]\n",
    "seasons_legacy = [ ]\n",
    "seasons = seasons_legacy + seasons_modern\n",
    "\n",
    "# football_teams = [\n",
    "#     row[\"club_name\"] for row in modern_df.select(\n",
    "#         \"club_name\"\n",
    "#     ).distinct().collect()\n",
    "# ]\n",
    "\n",
    "macro_roles = [\"0.0\", \"1.0\", \"2.0\", \"3.0\", \"4.0\", \"5.0\", \"6.0\", \"7.0\"]\n",
    "\n",
    "roles_to_macro_roles_dict = {\n",
    "    \"GK\": \"0\",\n",
    "    \"LB\": \"1\",\n",
    "    \"RB\": \"1\",\n",
    "    \"RWB\": \"1\",\n",
    "    \"LWB\": \"1\",\n",
    "    \"CB\": \"2\",\n",
    "    \"CDM\": \"3\",\n",
    "    \"CM\": \"4\",\n",
    "    \"RM\": \"4\",\n",
    "    \"LM\": \"4\",\n",
    "    \"CAM\": \"5\",\n",
    "    \"RW\": \"6\",\n",
    "    \"LW\": \"6\",\n",
    "    \"ST\": \"7\",\n",
    "    \"LF\": \"7\",\n",
    "    \"RF\": \"7\",\n",
    "    \"CF\": \"7\",\n",
    "}\n",
    "NUM_MACRO_ROLES = 8\n",
    "\n",
    "columns = [\n",
    "    \"short_name\",\n",
    "    \"club_name\",\n",
    "    \"league_name\",\n",
    "    \"season\",\n",
    "    \"player_positions\",\n",
    "    \"macro_role\",\n",
    "    \"overall\",\n",
    "    \"value\",\n",
    "    \"pace\",\n",
    "    \"shooting\",\n",
    "    \"passing\",\n",
    "    \"dribbling\",\n",
    "    \"defending\",\n",
    "    \"physic\",\n",
    "    \"attacking_crossing\",\n",
    "    \"attacking_finishing\",\n",
    "    \"attacking_heading_accuracy\",\n",
    "    \"attacking_short_passing\",\n",
    "    \"skill_dribbling\",\n",
    "    \"skill_fk_accuracy\",\n",
    "    \"skill_long_passing\",\n",
    "    \"skill_ball_control\",\n",
    "    \"movement_acceleration\",\n",
    "    \"movement_sprint_speed\",\n",
    "    \"movement_reactions\",\n",
    "    \"power_shot_power\",\n",
    "    \"power_stamina\",\n",
    "    \"power_strength\",\n",
    "    \"power_long_shots\",\n",
    "    \"mentality_aggression\",\n",
    "    \"mentality_penalties\",\n",
    "    \"defending_standing_tackle\"\n",
    "]\n",
    "\n",
    "def get_season(url):\n",
    "    url_split = url.split(\"/\")\n",
    "\n",
    "    # -1 to scale FIFA years down, to have compatibility with all_tables_fixed\n",
    "    return str(\n",
    "        (int(url_split[-2 if url_split[-1] == \"\" else -1][0:2]) - 1)\n",
    "    ).zfill(2)\n",
    "\n",
    "\n",
    "get_season_UDF = udf(lambda url: get_season(url), StringType())\n",
    "\n",
    "roles_to_macro_role_UDF = udf(\n",
    "    lambda roles: float(roles_to_macro_roles_dict[roles.split(\",\")[0]]), StringType()\n",
    ")"
   ]
  },
  {
   "cell_type": "code",
   "execution_count": 5,
   "metadata": {},
   "outputs": [],
   "source": [
    "pre_processed_modern_df = modern_df.dropDuplicates([\"player_url\"])\n",
    "pre_processed_legacy_df = legacy_df.dropDuplicates([\"player_url\"])\n",
    "\n",
    "pre_processed_modern_df = pre_processed_modern_df.na.fill(0)\n",
    "pre_processed_legacy_df = pre_processed_legacy_df.na.fill(0)\n",
    "\n",
    "pre_processed_modern_df = pre_processed_modern_df.withColumn(\n",
    "    \"season\", get_season_UDF(col(\"player_url\"))\n",
    ")\n",
    "pre_processed_legacy_df = pre_processed_legacy_df.withColumn(\n",
    "    \"season\", get_season_UDF(col(\"player_url\"))\n",
    ")\n",
    "\n",
    "pre_processed_modern_df = pre_processed_modern_df.withColumn(\n",
    "    \"macro_role\", roles_to_macro_role_UDF(col(\"player_positions\"))\n",
    ")\n",
    "pre_processed_legacy_df = pre_processed_legacy_df.withColumn(\n",
    "    \"macro_role\", roles_to_macro_role_UDF(col(\"player_positions\"))\n",
    ")\n",
    "\n",
    "pre_processed_modern_df = pre_processed_modern_df.withColumnRenamed(\n",
    "    \"value_eur\", \"value\"\n",
    ")\n",
    "\n",
    "pre_processed_modern_df = pre_processed_modern_df.where(\n",
    "    (pre_processed_modern_df.league_name.isin(leagues))\n",
    "    &\n",
    "    (pre_processed_modern_df.season.isin(seasons_modern))\n",
    ")\n",
    "pre_processed_legacy_df = pre_processed_legacy_df.where(\n",
    "    (pre_processed_legacy_df.league_name.isin(leagues))\n",
    "    &\n",
    "    (pre_processed_legacy_df.season.isin(seasons_legacy))\n",
    ")\n",
    "\n",
    "pre_processed_modern_df = pre_processed_modern_df.select(columns)\n",
    "\n",
    "# TODO use a for loop\n",
    "pre_processed_legacy_df = pre_processed_legacy_df.withColumnRenamed(\n",
    "    \"pas\", \"passing\"\n",
    ")\n",
    "pre_processed_legacy_df = pre_processed_legacy_df.withColumnRenamed(\n",
    "    \"dri\", \"dribbling\"\n",
    ")\n",
    "pre_processed_legacy_df = pre_processed_legacy_df.drop(col(\"defending\"))\n",
    "\n",
    "pre_processed_legacy_df = pre_processed_legacy_df.withColumnRenamed(\n",
    "    \"def\", \"defending\"\n",
    ")\n",
    "pre_processed_legacy_df = pre_processed_legacy_df.withColumnRenamed(\n",
    "    \"phy\", \"physic\"\n",
    ")\n",
    "\n",
    "pre_processed_legacy_df = pre_processed_legacy_df.withColumnRenamed(\n",
    "    \"sho\", \"shooting\"\n",
    ")\n",
    "pre_processed_legacy_df = pre_processed_legacy_df.withColumnRenamed(\n",
    "    \"pac\", \"pace\"\n",
    ")\n",
    "pre_processed_legacy_df = pre_processed_legacy_df.withColumnRenamed(\n",
    "    \"bov\", \"overall\"\n",
    ")\n",
    "\n",
    "pre_processed_legacy_df = pre_processed_legacy_df.select(columns)"
   ]
  },
  {
   "cell_type": "code",
   "execution_count": 6,
   "metadata": {},
   "outputs": [],
   "source": [
    "pre_processed_df = pre_processed_modern_df.unionByName(\n",
    "    pre_processed_legacy_df\n",
    ")\n"
   ]
  },
  {
   "cell_type": "markdown",
   "metadata": {},
   "source": [
    "# Building football teams"
   ]
  },
  {
   "cell_type": "code",
   "execution_count": 7,
   "metadata": {},
   "outputs": [],
   "source": [
    "football_teams_df = pre_processed_df"
   ]
  },
  {
   "cell_type": "code",
   "execution_count": 8,
   "metadata": {},
   "outputs": [],
   "source": [
    "PLAYER_FEATURES = [\n",
    "    \"overall\",\n",
    "    \"value\",\n",
    "    \"pace\",\n",
    "    \"shooting\",\n",
    "    \"passing\",\n",
    "    \"dribbling\",\n",
    "    \"defending\",\n",
    "    \"physic\",\n",
    "    \"attacking_crossing\",\n",
    "    \"attacking_finishing\",\n",
    "    \"attacking_heading_accuracy\",\n",
    "    \"attacking_short_passing\",\n",
    "    \"skill_dribbling\",\n",
    "    \"skill_fk_accuracy\",\n",
    "    \"skill_long_passing\",\n",
    "    \"skill_ball_control\",\n",
    "    \"movement_acceleration\",\n",
    "    \"movement_sprint_speed\",\n",
    "    \"movement_reactions\",\n",
    "    \"power_shot_power\",\n",
    "    \"power_stamina\",\n",
    "    \"power_strength\",\n",
    "    \"power_long_shots\",\n",
    "    \"mentality_aggression\",\n",
    "    \"mentality_penalties\",\n",
    "    \"defending_standing_tackle\"\n",
    "]\n",
    "\n",
    "PLAYER_FEATURES_AVG = [\n",
    "    \"avg(\" + player_feature + \")\" for player_feature in PLAYER_FEATURES\n",
    "]\n",
    "\n",
    "TARGET_VARIABLE = \"points\""
   ]
  },
  {
   "cell_type": "code",
   "execution_count": null,
   "metadata": {},
   "outputs": [],
   "source": [
    "football_teams_df = football_teams_df.select(\n",
    "    \"season\", \"club_name\", *PLAYER_FEATURES\n",
    ").groupBy(\n",
    "    [\"season\", \"club_name\"]\n",
    ").agg(\n",
    "    { player_feature: \"avg\" for player_feature in PLAYER_FEATURES }\n",
    ")"
   ]
  },
  {
   "cell_type": "markdown",
   "metadata": {},
   "source": [
    "# Loading football teams seasonal scores"
   ]
  },
  {
   "cell_type": "code",
   "execution_count": null,
   "metadata": {},
   "outputs": [],
   "source": [
    "seasonal_scores_df = (\n",
    "    spark.read.csv(\n",
    "        \"data/all_tables_fixed_renamed_leagues.csv\",\n",
    "        sep=\",\",\n",
    "        inferSchema=True,\n",
    "        header=True,\n",
    "        multiLine=True,\n",
    "    )\n",
    "    .withColumnRenamed(\"Year\", \"year\")\n",
    "    .withColumnRenamed(\"Team\", \"club_name_abbr\")\n",
    "    .withColumnRenamed(\"P\", \"points\")\n",
    "    .withColumnRenamed(\"Place\", \"place\")\n",
    "    .withColumnRenamed(\"League\", \"league\")\n",
    ")"
   ]
  },
  {
   "cell_type": "markdown",
   "metadata": {},
   "source": [
    "# Pre-processing football teams seasonal scores"
   ]
  },
  {
   "cell_type": "code",
   "execution_count": null,
   "metadata": {},
   "outputs": [],
   "source": [
    "seasonal_scores_columns = [\n",
    "    \"year\", \"club_name_abbr\", \"points\", \"place\", \"league\"\n",
    "]\n",
    "\n",
    "f = open(\"data/clubs_map.json\")\n",
    "club_name_abbr_to_ext = json.load(f)\n",
    "f.close()\n",
    "\n",
    "abbreviate_season_UDF = udf(\n",
    "    lambda season: str(season)[-2:],\n",
    "    StringType(),\n",
    ")\n",
    "\n",
    "def extend_club_name(club_name_abbr):\n",
    "    try:\n",
    "        return club_name_abbr_to_ext[club_name_abbr]\n",
    "    except KeyError as e:\n",
    "        return \"NOT_FOUND\"\n",
    "    except Exception as e:\n",
    "        return \"GENERAL_EXCEPTION\"\n",
    "\n",
    "extend_club_name_UDF = udf(\n",
    "    lambda club_name_abbr: extend_club_name(str(club_name_abbr)),\n",
    "    StringType(),\n",
    ")"
   ]
  },
  {
   "cell_type": "code",
   "execution_count": null,
   "metadata": {},
   "outputs": [],
   "source": [
    "pre_processed_seasonal_scores_df = seasonal_scores_df\n",
    "\n",
    "pre_processed_seasonal_scores_df = pre_processed_seasonal_scores_df.dropDuplicates(\n",
    "    seasonal_scores_columns\n",
    ")\n",
    "\n",
    "pre_processed_seasonal_scores_df = pre_processed_seasonal_scores_df.na.fill(0)\n",
    "\n",
    "pre_processed_seasonal_scores_df = pre_processed_seasonal_scores_df.select(\n",
    "    seasonal_scores_columns\n",
    ")\n",
    "\n",
    "pre_processed_seasonal_scores_df = pre_processed_seasonal_scores_df.withColumn(\n",
    "    \"year\", abbreviate_season_UDF(col(\"year\"))\n",
    ")\n",
    "\n",
    "pre_processed_seasonal_scores_df = pre_processed_seasonal_scores_df.withColumn(\n",
    "    \"club_name_ext\", extend_club_name_UDF(col(\"club_name_abbr\"))\n",
    ")\n",
    "\n",
    "pre_processed_seasonal_scores_df = pre_processed_seasonal_scores_df.withColumn(\n",
    "    \"points\", pre_processed_seasonal_scores_df.points.cast(DoubleType())\n",
    ")\n",
    "\n",
    "if pre_processed_seasonal_scores_df.filter(\n",
    "    col(\"club_name_ext\") == \"NOT_FOUND\"\n",
    ").count() > 0:\n",
    "    print(\"WARN: some clubs have NOT been found\")\n",
    "    print(\"Please check your data\")"
   ]
  },
  {
   "cell_type": "code",
   "execution_count": null,
   "metadata": {},
   "outputs": [],
   "source": [
    "pre_processed_seasonal_scores_df = pre_processed_seasonal_scores_df.where(\n",
    "    (pre_processed_seasonal_scores_df.year.isin(seasons))\n",
    "    & (pre_processed_seasonal_scores_df.league.isin(leagues))\n",
    ")"
   ]
  },
  {
   "cell_type": "code",
   "execution_count": null,
   "metadata": {},
   "outputs": [],
   "source": [
    "seasonal_scores_pre_join_columns = [\n",
    "    \"year\", \"league\", \"club_name_ext\", \"points\", \"place\"\n",
    "]\n",
    "\n",
    "pre_processed_seasonal_scores_df = pre_processed_seasonal_scores_df.select(\n",
    "    seasonal_scores_pre_join_columns\n",
    ")"
   ]
  },
  {
   "cell_type": "markdown",
   "metadata": {},
   "source": [
    "# Joining football teams features with their seasonal scores"
   ]
  },
  {
   "cell_type": "code",
   "execution_count": null,
   "metadata": {},
   "outputs": [],
   "source": [
    "df = football_teams_df.join(\n",
    "    pre_processed_seasonal_scores_df,\n",
    "    (football_teams_df.season == pre_processed_seasonal_scores_df.year)\n",
    "    & (\n",
    "        football_teams_df.club_name\n",
    "        == pre_processed_seasonal_scores_df.club_name_ext\n",
    "    ),\n",
    ")"
   ]
  },
  {
   "cell_type": "code",
   "execution_count": null,
   "metadata": {},
   "outputs": [],
   "source": [
    "if pre_processed_seasonal_scores_df.select(\"club_name_ext\").distinct().subtract(\n",
    "    df.select(\"club_name_ext\").distinct()\n",
    ").count() > 0:\n",
    "    print(\"WARN: Some football teams have been left out the join (pre_processed_seasonal_scores_df)\")\n",
    "    print(\"Please, check your data!\")\n",
    "\n",
    "if football_teams_df.select(\"club_name\").distinct().subtract(\n",
    "    df.select(\"club_name_ext\").distinct()\n",
    ").count() > 0:\n",
    "    print(\"WARN: Some football teams have been left out the join (football_teams_df)\")\n",
    "    print(\"Please, check your data!\")"
   ]
  },
  {
   "cell_type": "markdown",
   "metadata": {},
   "source": [
    "# Attempt 1: \"naive\" player features\n",
    "\n",
    "Naive --> simply take the given features and NOT crafting them from other learning processes (i.e. NO clustering or stuff)"
   ]
  },
  {
   "cell_type": "code",
   "execution_count": null,
   "metadata": {},
   "outputs": [],
   "source": [
    "ALL_FEATURES = PLAYER_FEATURES_AVG\n",
    "ALL_FEATURES.remove(\"avg(overall)\")\n",
    "ALL_FEATURES.remove(\"avg(value)\")\n"
   ]
  },
  {
   "cell_type": "code",
   "execution_count": null,
   "metadata": {},
   "outputs": [],
   "source": [
    "assembler = VectorAssembler(\n",
    "    inputCols=ALL_FEATURES, outputCol=\"all_vec\"\n",
    ")\n",
    "\n",
    "df = assembler.transform(df)"
   ]
  },
  {
   "cell_type": "code",
   "execution_count": null,
   "metadata": {},
   "outputs": [],
   "source": [
    "def plot_feature_target_relation(\n",
    "    data, x, y, n_rows = 12, n_cols = 2, figsize = (20, 40), color = \"#000000\"\n",
    "):\n",
    "\n",
    "    fig, axes = plt.subplots(n_rows, n_cols, figsize=figsize)\n",
    "\n",
    "    for x_ind, x_value in enumerate(x):\n",
    "        ax = sns.regplot(\n",
    "            data=pdf,\n",
    "            x=x_value,\n",
    "            y=y,\n",
    "            color = color,\n",
    "            ax=axes[x_ind // n_cols, x_ind % n_cols],\n",
    "        )\n",
    "\n",
    "\n",
    "    fig.tight_layout(pad=1.5)"
   ]
  },
  {
   "cell_type": "code",
   "execution_count": null,
   "metadata": {},
   "outputs": [],
   "source": [
    "def plot_feature_distribution(\n",
    "    data, features, figsize = (20, 40), \n",
    "    color = \"#000000\"\n",
    "):\n",
    "\n",
    "    n_cols = 2\n",
    "    n_rows = int(len(features) / n_cols) if len(features) >= n_cols else n_cols\n",
    "\n",
    "    fig, axes = plt.subplots(n_rows, n_cols, figsize=(10, 30))\n",
    "\n",
    "    for feature_ind, feature in enumerate(features):\n",
    "        _ = sns.histplot(\n",
    "            data[feature],\n",
    "            kde=True,\n",
    "            color=color,\n",
    "            facecolor=color,\n",
    "            ax=axes[feature_ind // n_cols, feature_ind % n_cols],\n",
    "        )\n",
    "\n",
    "    fig.tight_layout(pad=1.5)"
   ]
  },
  {
   "cell_type": "code",
   "execution_count": null,
   "metadata": {},
   "outputs": [],
   "source": [
    "def plot_correlation_matrix(\n",
    "    data, features, title = \"Pearson Correlation Matrix\", figsize = (16,12)\n",
    "):\n",
    "\n",
    "    mask = np.zeros_like(data[features].corr(), dtype=bool)\n",
    "    mask[np.triu_indices_from(mask)] = True\n",
    "\n",
    "    with sns.axes_style(\"white\"):  # Temporarily set the background to white\n",
    "        fig, ax = plt.subplots(figsize=figsize)\n",
    "        plt.title(title, fontsize=24)\n",
    "\n",
    "        cmap = sns.diverging_palette(220, 10, as_cmap=True)\n",
    "\n",
    "        _ = sns.heatmap(\n",
    "            data[features].corr(),\n",
    "            linewidths=0.25,\n",
    "            vmax=0.7,\n",
    "            square=True,\n",
    "            ax=ax,\n",
    "            cmap=cmap,\n",
    "            linecolor=\"w\",\n",
    "            annot=True,\n",
    "            annot_kws={\"size\": 8},\n",
    "            mask=mask,\n",
    "            cbar_kws={\"shrink\": 0.9},\n",
    "        )"
   ]
  },
  {
   "cell_type": "markdown",
   "metadata": {},
   "source": [
    "## Raw data"
   ]
  },
  {
   "cell_type": "markdown",
   "metadata": {},
   "source": [
    "*[explain what does \"raw\" mean]*"
   ]
  },
  {
   "cell_type": "code",
   "execution_count": null,
   "metadata": {},
   "outputs": [],
   "source": [
    "COLOR_RAW = \"#332FD0\""
   ]
  },
  {
   "cell_type": "code",
   "execution_count": null,
   "metadata": {},
   "outputs": [],
   "source": [
    "pdf = df.toPandas()"
   ]
  },
  {
   "cell_type": "markdown",
   "metadata": {},
   "source": [
    "### Feature-target correlation"
   ]
  },
  {
   "cell_type": "code",
   "execution_count": null,
   "metadata": {},
   "outputs": [],
   "source": [
    "#TODO set an appropriate figsize for Google Colab\n",
    "plot_feature_target_relation(\n",
    "    pdf, ALL_FEATURES, TARGET_VARIABLE, figsize=(4,4), color=COLOR_RAW\n",
    ")"
   ]
  },
  {
   "cell_type": "markdown",
   "metadata": {},
   "source": [
    "### Feature distribution"
   ]
  },
  {
   "cell_type": "code",
   "execution_count": null,
   "metadata": {},
   "outputs": [],
   "source": [
    "plot_feature_distribution(pdf, ALL_FEATURES, color = COLOR_RAW, figsize=(4,4))"
   ]
  },
  {
   "cell_type": "markdown",
   "metadata": {},
   "source": [
    "### Pearson Correlation Matrix"
   ]
  },
  {
   "cell_type": "code",
   "execution_count": null,
   "metadata": {},
   "outputs": [],
   "source": [
    "plot_correlation_matrix(pdf, ALL_FEATURES)"
   ]
  },
  {
   "cell_type": "markdown",
   "metadata": {},
   "source": [
    "## Standardization"
   ]
  },
  {
   "cell_type": "markdown",
   "metadata": {},
   "source": [
    "Since we have some features with skewed distributions, we'll try to standardize, to see whether it helps with feature skewness or not"
   ]
  },
  {
   "cell_type": "code",
   "execution_count": null,
   "metadata": {},
   "outputs": [],
   "source": [
    "# standardized_df = df"
   ]
  },
  {
   "cell_type": "code",
   "execution_count": null,
   "metadata": {},
   "outputs": [],
   "source": [
    "scaler = StandardScaler(\n",
    "    inputCol=\"all_vec\", \n",
    "    outputCol=\"all_vec_std\", \n",
    "    withStd=True, \n",
    "    withMean=True\n",
    ")"
   ]
  },
  {
   "cell_type": "code",
   "execution_count": null,
   "metadata": {},
   "outputs": [],
   "source": [
    "# standardized_df = scaler.fit(standardized_df).transform(standardized_df)\n",
    "df = scaler.fit(df).transform(df)"
   ]
  },
  {
   "cell_type": "code",
   "execution_count": null,
   "metadata": {},
   "outputs": [],
   "source": [
    "COLOR_STD = \"#9254C8\"\n",
    "\n",
    "ALL_FEATURES_STD = [\n",
    "    player_feature + \"_std\" for player_feature in ALL_FEATURES\n",
    "]"
   ]
  },
  {
   "cell_type": "code",
   "execution_count": null,
   "metadata": {},
   "outputs": [],
   "source": [
    "# pdf = standardized_df.toPandas()\n",
    "pdf = df.toPandas()"
   ]
  },
  {
   "cell_type": "code",
   "execution_count": null,
   "metadata": {},
   "outputs": [],
   "source": [
    "#TODO make a commodity function, because it will be used in other normalizations as well\n",
    "\n",
    "pdf = pdf.reindex(\n",
    "    columns=list(pdf.columns) + ALL_FEATURES_STD\n",
    ")\n",
    "\n",
    "pdf[ALL_FEATURES_STD] = pdf[\n",
    "    \"all_vec_std\"\n",
    "].transform(\n",
    "    {\n",
    "        ALL_FEATURES_STD[i]: itemgetter(i) for i, p in enumerate(ALL_FEATURES_STD)\n",
    "    }\n",
    "\n",
    "    \n",
    ")"
   ]
  },
  {
   "cell_type": "markdown",
   "metadata": {},
   "source": [
    "### Feature-target correlation"
   ]
  },
  {
   "cell_type": "code",
   "execution_count": null,
   "metadata": {},
   "outputs": [],
   "source": [
    "#TODO set an appropriate figsize for Google Colab\n",
    "plot_feature_target_relation(\n",
    "    pdf, ALL_FEATURES_STD, TARGET_VARIABLE, figsize=(4,4), color=COLOR_STD\n",
    ")"
   ]
  },
  {
   "cell_type": "markdown",
   "metadata": {},
   "source": [
    "#### Feature distribution"
   ]
  },
  {
   "cell_type": "code",
   "execution_count": null,
   "metadata": {},
   "outputs": [],
   "source": [
    "plot_feature_distribution(\n",
    "    pdf, ALL_FEATURES_STD, color = COLOR_STD, figsize=(10,10)\n",
    ")"
   ]
  },
  {
   "cell_type": "markdown",
   "metadata": {},
   "source": [
    "*[state why pearson correlation matrix does NOT make sense to be plotted again]*"
   ]
  },
  {
   "cell_type": "markdown",
   "metadata": {},
   "source": [
    "## Log transformation"
   ]
  },
  {
   "cell_type": "code",
   "execution_count": null,
   "metadata": {},
   "outputs": [],
   "source": [
    "# log_df = df"
   ]
  },
  {
   "cell_type": "code",
   "execution_count": null,
   "metadata": {},
   "outputs": [],
   "source": [
    "ALL_FEATURES_LOG = [\n",
    "    player_feature + \"_log\" for player_feature in ALL_FEATURES\n",
    "]\n",
    "\n",
    "COLOR_LOG = \"#E15FED\""
   ]
  },
  {
   "cell_type": "code",
   "execution_count": null,
   "metadata": {},
   "outputs": [],
   "source": [
    "to_log_UDF = udf(\n",
    "    lambda value: float(np.log2(value)), DoubleType()\n",
    ")"
   ]
  },
  {
   "cell_type": "code",
   "execution_count": null,
   "metadata": {},
   "outputs": [],
   "source": [
    "for f, fl in zip(ALL_FEATURES, ALL_FEATURES_LOG):\n",
    "    # log_df = log_df.withColumn(fl, to_log_UDF(col(f)))\n",
    "    df = df.withColumn(fl, to_log_UDF(col(f)))"
   ]
  },
  {
   "cell_type": "code",
   "execution_count": null,
   "metadata": {},
   "outputs": [],
   "source": [
    "# pdf = log_df.toPandas()\n",
    "pdf = df.toPandas()"
   ]
  },
  {
   "cell_type": "markdown",
   "metadata": {},
   "source": [
    "### Feature-target correlation"
   ]
  },
  {
   "cell_type": "code",
   "execution_count": null,
   "metadata": {},
   "outputs": [],
   "source": [
    "#TODO set an appropriate figsize for Google Colab\n",
    "plot_feature_target_relation(\n",
    "    pdf, ALL_FEATURES_LOG, TARGET_VARIABLE, figsize=(4,4), color=COLOR_LOG\n",
    ")"
   ]
  },
  {
   "cell_type": "markdown",
   "metadata": {},
   "source": [
    "### Feature distribution"
   ]
  },
  {
   "cell_type": "code",
   "execution_count": null,
   "metadata": {},
   "outputs": [],
   "source": [
    "plot_feature_distribution(pdf, ALL_FEATURES_LOG, color = COLOR_LOG, figsize=(10,10))"
   ]
  },
  {
   "cell_type": "markdown",
   "metadata": {},
   "source": [
    "## Min-max transformation"
   ]
  },
  {
   "cell_type": "code",
   "execution_count": null,
   "metadata": {},
   "outputs": [],
   "source": [
    "# min_max_df = df"
   ]
  },
  {
   "cell_type": "code",
   "execution_count": null,
   "metadata": {},
   "outputs": [],
   "source": [
    "ALL_FEATURES_MIN_MAX = [\n",
    "    player_feature + \"_min_max\" for player_feature in ALL_FEATURES\n",
    "]\n",
    "\n",
    "COLOR_MIN_MAX = \"#6EDCD9\""
   ]
  },
  {
   "cell_type": "code",
   "execution_count": null,
   "metadata": {},
   "outputs": [],
   "source": [
    "scaler = MinMaxScaler(\n",
    "    inputCol=\"all_vec\", \n",
    "    outputCol=\"all_vec_min_max\"\n",
    ")"
   ]
  },
  {
   "cell_type": "code",
   "execution_count": null,
   "metadata": {},
   "outputs": [],
   "source": [
    "# min_max_df = scaler.fit(min_max_df).transform(min_max_df)\n",
    "df = scaler.fit(df).transform(df)"
   ]
  },
  {
   "cell_type": "code",
   "execution_count": null,
   "metadata": {},
   "outputs": [],
   "source": [
    "# pdf = min_max_df.toPandas()\n",
    "pdf = df.toPandas()"
   ]
  },
  {
   "cell_type": "code",
   "execution_count": null,
   "metadata": {},
   "outputs": [],
   "source": [
    "#TODO make a commodity function, because it will be used in other normalizations as well\n",
    "\n",
    "pdf = pdf.reindex(\n",
    "    columns=list(pdf.columns) + ALL_FEATURES_MIN_MAX\n",
    ")\n",
    "\n",
    "pdf[ALL_FEATURES_MIN_MAX] = pdf[\n",
    "    \"all_vec_min_max\"\n",
    "].transform(\n",
    "    {\n",
    "        ALL_FEATURES_MIN_MAX[i]: itemgetter(i) for i, p in enumerate(ALL_FEATURES_MIN_MAX)\n",
    "    }\n",
    ")"
   ]
  },
  {
   "cell_type": "markdown",
   "metadata": {},
   "source": [
    "### Feature-target relationship"
   ]
  },
  {
   "cell_type": "code",
   "execution_count": null,
   "metadata": {},
   "outputs": [],
   "source": [
    "#TODO set an appropriate figsize for Google Colab\n",
    "plot_feature_target_relation(\n",
    "    pdf, ALL_FEATURES_MIN_MAX, TARGET_VARIABLE, figsize=(4,4), color=COLOR_MIN_MAX\n",
    ")"
   ]
  },
  {
   "cell_type": "markdown",
   "metadata": {},
   "source": [
    "### Feature distribution"
   ]
  },
  {
   "cell_type": "code",
   "execution_count": null,
   "metadata": {},
   "outputs": [],
   "source": [
    "plot_feature_distribution(pdf, ALL_FEATURES_MIN_MAX, color = COLOR_MIN_MAX, figsize=(10,10))"
   ]
  },
  {
   "cell_type": "code",
   "execution_count": null,
   "metadata": {},
   "outputs": [],
   "source": [
    "#TODO place learning on ## titles here"
   ]
  },
  {
   "cell_type": "markdown",
   "metadata": {},
   "source": [
    "# Attempt 2: \"less is more\"\n",
    "\n",
    "Ok, considering all features gives trash results.\n",
    "\n",
    "What if we embrace the \"less is more idea\" and try to improve the results by means of using less features?\n",
    "\n",
    "Nevertheless, feature correlation is very high, so, intrinsicly, it already did NOT make much sense to consider them all."
   ]
  },
  {
   "cell_type": "markdown",
   "metadata": {},
   "source": [
    "## PCA (on min-max normalized data)"
   ]
  },
  {
   "cell_type": "code",
   "execution_count": null,
   "metadata": {},
   "outputs": [],
   "source": [
    "# pca_df = min_max_df\n",
    "# pca_df = df\n",
    "\n",
    "PCA_NUM_COMPONENTS = 5\n",
    "PCA_NUM_COMPONENTS_TO_PLOT = 2\n",
    "\n",
    "pca = PCA(\n",
    "    k=PCA_NUM_COMPONENTS, \n",
    "    inputCol=\"all_vec_min_max\", \n",
    "    outputCol=\"all_vec_min_max_pcs\"\n",
    ")\n",
    "\n",
    "# pca_model = pca.fit(pca_df)\n",
    "# pca_df = pca_model.transform(pca_df)\n",
    "pca_model = pca.fit(df)\n",
    "df = pca_model.transform(df)"
   ]
  },
  {
   "cell_type": "code",
   "execution_count": null,
   "metadata": {},
   "outputs": [],
   "source": [
    "fig, ax = plt.subplots(1, 1, figsize=(8, 6))\n",
    "_ = sns.barplot(\n",
    "    x=[i for i in range(PCA_NUM_COMPONENTS_TO_PLOT)],\n",
    "    y=pca_model.explainedVariance.values[0:PCA_NUM_COMPONENTS_TO_PLOT],\n",
    "    ax=ax,\n",
    ")\n",
    "\n",
    "_ = ax.set_xlabel(\"Eigenvalues\", labelpad=16, fontsize=16)\n",
    "_ = ax.set_ylabel(\"Proportion of Variance\", fontsize=16)\n",
    "_ = ax.set_xticklabels(\n",
    "    [f\"Principal Component {i}\" for i in range(PCA_NUM_COMPONENTS_TO_PLOT)], \n",
    "    rotation=0\n",
    ")\n",
    "_ = ax.set_title(\"Explained variance of each Principal Component\")"
   ]
  },
  {
   "cell_type": "code",
   "execution_count": null,
   "metadata": {},
   "outputs": [],
   "source": [
    "def scatter_plot(data, x, y, c, x_label, y_label):\n",
    "\n",
    "    fig, ax = plt.subplots(1, 1, figsize=(12, 8))\n",
    "\n",
    "    _ = plt.scatter(\n",
    "        x = x,\n",
    "        y = y,\n",
    "        c = c,\n",
    "        edgecolor=\"none\",\n",
    "        alpha=1,\n",
    "        cmap=\"rainbow\",\n",
    "        axes=ax\n",
    "    )\n",
    "\n",
    "    _ = ax.set_xlabel(x_label, labelpad=20, fontsize=16)\n",
    "    _ = ax.set_ylabel(y_label, fontsize=16)\n",
    "\n",
    "    plt.colorbar()\n",
    "    plt.show()"
   ]
  },
  {
   "cell_type": "code",
   "execution_count": null,
   "metadata": {},
   "outputs": [],
   "source": [
    "# pca_pdf = pca_df.toPandas()\n",
    "pca_pdf = df.toPandas()"
   ]
  },
  {
   "cell_type": "code",
   "execution_count": null,
   "metadata": {},
   "outputs": [],
   "source": [
    "scatter_plot(\n",
    "    pca_pdf, \n",
    "    pca_pdf.all_vec_min_max_pcs.map(lambda x: x[0]),\n",
    "    pca_pdf.all_vec_min_max_pcs.map(lambda x: x[1]),\n",
    "    pca_pdf.points,\n",
    "    \"Principal Component 0\",\n",
    "    \"Principal Component 1\"\n",
    ")"
   ]
  },
  {
   "cell_type": "code",
   "execution_count": null,
   "metadata": {},
   "outputs": [],
   "source": [
    "# TODO evaluate whether points should be normlized to same scale as PCA values\n",
    "scatter_plot(\n",
    "    pca_pdf, \n",
    "    pca_pdf.all_vec_min_max_pcs.map(lambda x: x[0]),\n",
    "    pca_pdf.points,\n",
    "    pca_pdf.points,\n",
    "    \"Principal Component 0\",\n",
    "    \"Points\"\n",
    ")"
   ]
  },
  {
   "cell_type": "code",
   "execution_count": null,
   "metadata": {},
   "outputs": [],
   "source": [
    "# TODO evaluate whether points should be normlized to same scale as PCA values\n",
    "scatter_plot(\n",
    "    pca_pdf, \n",
    "    pca_pdf.all_vec_min_max_pcs.map(lambda x: x[1]),\n",
    "    pca_pdf.points,\n",
    "    pca_pdf.points,\n",
    "    \"Principal Component 1\",\n",
    "    \"Points\"\n",
    ")"
   ]
  },
  {
   "cell_type": "markdown",
   "metadata": {},
   "source": [
    "### Feature-target relationship"
   ]
  },
  {
   "cell_type": "markdown",
   "metadata": {},
   "source": [
    "### Feature distribution"
   ]
  },
  {
   "cell_type": "markdown",
   "metadata": {},
   "source": [
    "*[bridge between this and Feature selection]*"
   ]
  },
  {
   "cell_type": "markdown",
   "metadata": {},
   "source": [
    "## Chi-squared"
   ]
  },
  {
   "cell_type": "markdown",
   "metadata": {},
   "source": [
    "## TNSE"
   ]
  },
  {
   "cell_type": "markdown",
   "metadata": {},
   "source": [
    "## Univariate Feature Selection"
   ]
  },
  {
   "cell_type": "markdown",
   "metadata": {},
   "source": [
    "Log scaling reduces skewedness of \"avg(mentality_penalties)\" feature BUT it increases the skewedness of all the other features.\n",
    "The other scalings (z-score and min-max) do NOT appear to be different than the \"raw\" data distribution.\n",
    "\n",
    "For this reason and due to the limited amount of resources available on Google Colab, we decided to stick with the min-max scaled data.\n",
    "In fact, the min-max scaling places \"for free\" all the features in the same scale, which is a very important consideration for SVM, which will be used in the upcoming sections"
   ]
  },
  {
   "cell_type": "code",
   "execution_count": null,
   "metadata": {},
   "outputs": [],
   "source": [
    "# feature_selection_df = min_max_df"
   ]
  },
  {
   "cell_type": "code",
   "execution_count": null,
   "metadata": {},
   "outputs": [],
   "source": [
    "selector = UnivariateFeatureSelector(\n",
    "    featuresCol=\"all_vec\",\n",
    "    labelCol=TARGET_VARIABLE, \n",
    "    selectionMode=\"percentile\"\n",
    ").setFeatureType(\"continuous\").setLabelType(\"categorical\").setSelectionThreshold(0.08)"
   ]
  },
  {
   "cell_type": "code",
   "execution_count": null,
   "metadata": {},
   "outputs": [],
   "source": [
    "NUM_FEATURES = 2"
   ]
  },
  {
   "cell_type": "code",
   "execution_count": null,
   "metadata": {},
   "outputs": [],
   "source": [
    "fit_result = dict()\n",
    "\n",
    "# for thr in range(0.1, 1.1, 0.1):\n",
    "# for thr in np.linspace(1, 1, 1):\n",
    "for thr in [0.1]:\n",
    "\n",
    "    selector.setSelectionThreshold(thr)\n",
    "    selector.setOutputCol(\"ufs_\" + str(thr).replace(\".\", \"-\")),\n",
    "    fit_result[str(thr)] = selector.fit(df)\n",
    "    # feature_selection_df = fit_result[str(thr)].transform(\n",
    "    #     feature_selection_df\n",
    "    # )\n",
    "    df = fit_result[str(thr)].transform(df)\n"
   ]
  },
  {
   "cell_type": "code",
   "execution_count": null,
   "metadata": {},
   "outputs": [],
   "source": [
    "# feature_selection_pdf = feature_selection_df.toPandas()\n",
    "feature_selection_pdf = df.toPandas()"
   ]
  },
  {
   "cell_type": "code",
   "execution_count": null,
   "metadata": {},
   "outputs": [],
   "source": [
    "scatter_plot(\n",
    "    feature_selection_pdf,\n",
    "    feature_selection_pdf[\"ufs_0-1\"].map(lambda x: x[0]),\n",
    "    feature_selection_pdf[\"ufs_0-1\"].map(lambda x: x[1]),\n",
    "    feature_selection_pdf.points,\n",
    "    \"Feature 0\",\n",
    "    \"Feature 1\"\n",
    "    \n",
    ")"
   ]
  },
  {
   "cell_type": "code",
   "execution_count": null,
   "metadata": {},
   "outputs": [],
   "source": [
    "scatter_plot(\n",
    "    feature_selection_pdf,\n",
    "    feature_selection_pdf[\"ufs_0-1\"].map(lambda x: x[0]),\n",
    "    feature_selection_pdf.points,\n",
    "    feature_selection_pdf.points,\n",
    "    \"Feature 0\",\n",
    "    \"Points\"\n",
    "    \n",
    ")"
   ]
  },
  {
   "cell_type": "code",
   "execution_count": null,
   "metadata": {},
   "outputs": [],
   "source": [
    "scatter_plot(\n",
    "    feature_selection_pdf,\n",
    "    feature_selection_pdf[\"ufs_0-1\"].map(lambda x: x[1]),\n",
    "    feature_selection_pdf.points,\n",
    "    feature_selection_pdf.points,\n",
    "    \"Feature 1\",\n",
    "    \"Points\"\n",
    "    \n",
    ")"
   ]
  },
  {
   "cell_type": "code",
   "execution_count": null,
   "metadata": {},
   "outputs": [],
   "source": [
    "pdf = df.toPandas()"
   ]
  },
  {
   "cell_type": "code",
   "execution_count": null,
   "metadata": {},
   "outputs": [],
   "source": [
    "selected_features = list(\n",
    "    map(\n",
    "        lambda i: ALL_FEATURES[i], fit_result[\"0.1\"].selectedFeatures\n",
    "    )\n",
    ")"
   ]
  },
  {
   "cell_type": "markdown",
   "metadata": {},
   "source": [
    "### Feature-target relationship"
   ]
  },
  {
   "cell_type": "code",
   "execution_count": null,
   "metadata": {},
   "outputs": [],
   "source": [
    "#TODO set an appropriate figsize for Google Colab\n",
    "plot_feature_target_relation(\n",
    "    pdf, selected_features, TARGET_VARIABLE, figsize=(4,4), \n",
    "    color=COLOR_MIN_MAX\n",
    ")"
   ]
  },
  {
   "cell_type": "markdown",
   "metadata": {},
   "source": [
    "### Feature correlation"
   ]
  },
  {
   "cell_type": "markdown",
   "metadata": {},
   "source": [
    "look at it from the original pearson matrix"
   ]
  },
  {
   "cell_type": "markdown",
   "metadata": {},
   "source": [
    "state that these data distribs are trash.\n",
    "\n",
    "So, for this reason, talk about overall and value."
   ]
  },
  {
   "cell_type": "markdown",
   "metadata": {},
   "source": [
    "## Overall as feature (min-max normalized)"
   ]
  },
  {
   "cell_type": "markdown",
   "metadata": {},
   "source": [
    "Since the features are so correlated and performances of attempt 1 are trash, why not considering just the overall as a feature?\n",
    "\n",
    "Maybe, we're lucky and the overall captures some other characteristics thay may steer the prediction a little bit more"
   ]
  },
  {
   "cell_type": "code",
   "execution_count": null,
   "metadata": {},
   "outputs": [],
   "source": [
    "OVERALL = [\"avg(overall)\"]\n",
    "\n",
    "COLOR_OVERALL_MIN_MAX = \"green\""
   ]
  },
  {
   "cell_type": "code",
   "execution_count": null,
   "metadata": {},
   "outputs": [],
   "source": [
    "assembler = VectorAssembler(\n",
    "    inputCols=OVERALL, outputCol=\"overall_vec\"\n",
    ")\n",
    "\n",
    "# min_max_df = assembler.transform(min_max_df)\n",
    "df = assembler.transform(df)"
   ]
  },
  {
   "cell_type": "code",
   "execution_count": null,
   "metadata": {},
   "outputs": [],
   "source": [
    "OVERALL_MIN_MAX = [\"avg(overall)_min_max\"]"
   ]
  },
  {
   "cell_type": "code",
   "execution_count": null,
   "metadata": {},
   "outputs": [],
   "source": [
    "scaler = MinMaxScaler(\n",
    "    inputCol=\"overall_vec\", \n",
    "    outputCol=\"overall_vec_min_max\"\n",
    ")"
   ]
  },
  {
   "cell_type": "code",
   "execution_count": null,
   "metadata": {},
   "outputs": [],
   "source": [
    "# min_max_df = scaler.fit(min_max_df).transform(min_max_df)\n",
    "df = scaler.fit(df).transform(df)"
   ]
  },
  {
   "cell_type": "code",
   "execution_count": null,
   "metadata": {},
   "outputs": [],
   "source": [
    "# pdf = min_max_df.toPandas()\n",
    "pdf = df.toPandas()"
   ]
  },
  {
   "cell_type": "code",
   "execution_count": null,
   "metadata": {},
   "outputs": [],
   "source": [
    "#TODO make a commodity function, because it will be used in other normalizations as well\n",
    "\n",
    "pdf = pdf.reindex(\n",
    "    columns=list(pdf.columns) + OVERALL_MIN_MAX\n",
    ")\n",
    "\n",
    "pdf[OVERALL_MIN_MAX] = pdf[\n",
    "    \"overall_vec_min_max\"\n",
    "].transform(\n",
    "    {\n",
    "        OVERALL_MIN_MAX[i]: itemgetter(i) for i, p in enumerate(OVERALL_MIN_MAX)\n",
    "    }\n",
    ")"
   ]
  },
  {
   "cell_type": "markdown",
   "metadata": {},
   "source": [
    "### Feature-target relationship"
   ]
  },
  {
   "cell_type": "code",
   "execution_count": null,
   "metadata": {},
   "outputs": [],
   "source": [
    "#TODO set an appropriate figsize for Google Colab\n",
    "plot_feature_target_relation(\n",
    "    pdf, OVERALL_MIN_MAX, TARGET_VARIABLE, figsize=(4,4), color=COLOR_OVERALL_MIN_MAX\n",
    ")"
   ]
  },
  {
   "cell_type": "markdown",
   "metadata": {},
   "source": [
    "Look, they are basically the same. In fact, if we check their correlation, we get... [high correlation on pearson]"
   ]
  },
  {
   "cell_type": "markdown",
   "metadata": {},
   "source": [
    "### Feature distribution"
   ]
  },
  {
   "cell_type": "code",
   "execution_count": null,
   "metadata": {},
   "outputs": [],
   "source": [
    "plot_feature_distribution(pdf, OVERALL_MIN_MAX, color = COLOR_OVERALL_MIN_MAX, figsize=(10,10))"
   ]
  },
  {
   "cell_type": "markdown",
   "metadata": {},
   "source": [
    "## Value as feature (min-max normalized)"
   ]
  },
  {
   "cell_type": "markdown",
   "metadata": {},
   "source": [
    "Oh, we found this paper: \n",
    "\n",
    "So, why not try their approach as well?"
   ]
  },
  {
   "cell_type": "code",
   "execution_count": null,
   "metadata": {},
   "outputs": [],
   "source": [
    "VALUE = [\"avg(value)\"]\n",
    "\n",
    "COLOR_VALUE_MIN_MAX = \"lime\""
   ]
  },
  {
   "cell_type": "code",
   "execution_count": null,
   "metadata": {},
   "outputs": [],
   "source": [
    "assembler = VectorAssembler(\n",
    "    inputCols=VALUE, outputCol=\"value_vec\"\n",
    ")\n",
    "\n",
    "# min_max_df = assembler.transform(min_max_df)\n",
    "df = assembler.transform(df)"
   ]
  },
  {
   "cell_type": "code",
   "execution_count": null,
   "metadata": {},
   "outputs": [],
   "source": [
    "# IT BREAKS HERE, if using legacy data as well :C\n",
    "\n",
    "# TODO handle value attribute in legacy datasets\n",
    "# in legacy datasets it's encoded as \"ValueMagnitudeCurrency\" (i.e. 70M€)\n",
    "# gotta convert it to full length, to be compatible with modern (and actually usable!)\n",
    "\n",
    "# df.show() "
   ]
  },
  {
   "cell_type": "code",
   "execution_count": null,
   "metadata": {},
   "outputs": [],
   "source": [
    "VALUE_MIN_MAX = [\"avg(value)_min_max\"]"
   ]
  },
  {
   "cell_type": "code",
   "execution_count": null,
   "metadata": {},
   "outputs": [],
   "source": [
    "scaler = MinMaxScaler(\n",
    "    inputCol=\"value_vec\", \n",
    "    outputCol=\"value_vec_min_max\"\n",
    ")"
   ]
  },
  {
   "cell_type": "code",
   "execution_count": null,
   "metadata": {},
   "outputs": [],
   "source": [
    "# min_max_df = scaler.fit(min_max_df).transform(min_max_df)\n",
    "df = scaler.fit(df).transform(df)"
   ]
  },
  {
   "cell_type": "code",
   "execution_count": null,
   "metadata": {},
   "outputs": [],
   "source": [
    "# pdf = min_max_df.toPandas()\n",
    "# NOTE keep the following line disabled!\n",
    "# gotta accumulate overall and value in the same pandas DF, so as we can use it\n",
    "# for the Pearson correlation matrix!\n",
    "pdf = df.toPandas()"
   ]
  },
  {
   "cell_type": "code",
   "execution_count": null,
   "metadata": {},
   "outputs": [],
   "source": [
    "#TODO make a commodity function, because it will be used in other normalizations as well\n",
    "\n",
    "pdf = pdf.reindex(\n",
    "    columns=list(pdf.columns) + VALUE_MIN_MAX\n",
    ")\n",
    "\n",
    "pdf[VALUE_MIN_MAX] = pdf[\n",
    "    \"value_vec_min_max\"\n",
    "].transform(\n",
    "    {\n",
    "        VALUE_MIN_MAX[i]: itemgetter(i) for i, p in enumerate(VALUE_MIN_MAX)\n",
    "    }\n",
    ")"
   ]
  },
  {
   "cell_type": "markdown",
   "metadata": {},
   "source": [
    "### Feature-target relationship"
   ]
  },
  {
   "cell_type": "code",
   "execution_count": null,
   "metadata": {},
   "outputs": [],
   "source": [
    "#TODO set an appropriate figsize for Google Colab\n",
    "plot_feature_target_relation(\n",
    "    pdf, VALUE_MIN_MAX, TARGET_VARIABLE, figsize=(4,4), color=COLOR_VALUE_MIN_MAX\n",
    ")"
   ]
  },
  {
   "cell_type": "markdown",
   "metadata": {},
   "source": [
    "### Feature distribution"
   ]
  },
  {
   "cell_type": "code",
   "execution_count": null,
   "metadata": {},
   "outputs": [],
   "source": [
    "plot_feature_distribution(pdf, VALUE_MIN_MAX, color = COLOR_VALUE_MIN_MAX, figsize=(10,10))"
   ]
  },
  {
   "cell_type": "markdown",
   "metadata": {},
   "source": [
    "Hint at a very high correlation, then show it with pearson matrix..."
   ]
  },
  {
   "cell_type": "code",
   "execution_count": null,
   "metadata": {},
   "outputs": [],
   "source": [
    "pdf = df.select(\"overall_vec_min_max\", \"value_vec_min_max\").toPandas()\n",
    "\n",
    "# need to flat every element of the columns, because they are in vectors\n",
    "pdf[\"overall_vec_min_max\"] = pdf[\"overall_vec_min_max\"].map(\n",
    "    lambda x: x[0]\n",
    ")\n",
    "pdf[\"value_vec_min_max\"] = pdf[\"value_vec_min_max\"].map(\n",
    "    lambda x: x[0]\n",
    ")\n",
    "\n",
    "plot_correlation_matrix(\n",
    "    pdf, \n",
    "    [\"overall_vec_min_max\", \"value_vec_min_max\"]\n",
    ")"
   ]
  },
  {
   "cell_type": "markdown",
   "metadata": {},
   "source": [
    "Comment this correlation, and move on with life"
   ]
  },
  {
   "cell_type": "markdown",
   "metadata": {},
   "source": [
    "## Learning for attempt 2"
   ]
  },
  {
   "cell_type": "markdown",
   "metadata": {},
   "source": [
    "*[\n",
    "    state that via hyperparam grid we'll set the feature column, meaning that we'll try to train the models on all of the attemps\n",
    "\n",
    "[state expected results, according to correlations and similar stuff]\n",
    "\n",
    "]"
   ]
  },
  {
   "cell_type": "code",
   "execution_count": null,
   "metadata": {},
   "outputs": [],
   "source": [
    "# feature_selection_learning_df = feature_selection_df"
   ]
  },
  {
   "cell_type": "code",
   "execution_count": null,
   "metadata": {},
   "outputs": [],
   "source": [
    "# feature_selection_train_df, feature_selection_test_df = feature_selection_learning_df.randomSplit(\n",
    "#     # [0.9, 0.1]\n",
    "#     [0.7, 0.3]\n",
    "# )\n",
    "\n",
    "learning_train_df, learning_test_df = df.randomSplit(\n",
    "    # [0.9,0.1]\n",
    "    # NOTE reactive 90/10 split, keep 70/30 just when using one league\n",
    "    [0.7,0.3]\n",
    ")"
   ]
  },
  {
   "cell_type": "code",
   "execution_count": null,
   "metadata": {},
   "outputs": [],
   "source": [
    "NUM_FOLDS_CV = 4"
   ]
  },
  {
   "cell_type": "code",
   "execution_count": null,
   "metadata": {},
   "outputs": [],
   "source": [
    "def find_best_regressor(\n",
    "    train_df,\n",
    "    test_df,\n",
    "    regressor,\n",
    "    regressor_evaluation_metrics,\n",
    "    cv_evaluation_metrics,\n",
    "    hyperparams_grid\n",
    "):\n",
    "\n",
    "    cv_evaluators = {\n",
    "        metric: RegressionEvaluator(\n",
    "            labelCol=\"points\",\n",
    "            metricName=metric,\n",
    "        )\n",
    "        for metric in cv_evaluation_metrics\n",
    "    }\n",
    "\n",
    "    regressor_evaluators = {\n",
    "        metric: RegressionEvaluator(\n",
    "            labelCol=\"points\",\n",
    "            metricName=metric,\n",
    "        )\n",
    "        for metric in regressor_evaluation_metrics\n",
    "    }\n",
    "\n",
    "    cross_validations = {\n",
    "        metric: CrossValidator(\n",
    "            estimator=regressor,\n",
    "            estimatorParamMaps=hyperparams_grid,\n",
    "            evaluator=cv_evaluators[metric],\n",
    "            numFolds=NUM_FOLDS_CV,\n",
    "            collectSubModels=True\n",
    "        )\n",
    "        for metric in cv_evaluation_metrics\n",
    "    }\n",
    "\n",
    "    cross_validated = dict()\n",
    "\n",
    "    for metric in cv_evaluation_metrics:\n",
    "\n",
    "        cross_validated[metric] = cross_validations[\n",
    "            metric\n",
    "        ].fit(train_df)\n",
    "\n",
    "    if (isinstance(regressor, LinearRegression)):\n",
    "        \n",
    "        for metric in cv_evaluation_metrics:\n",
    "\n",
    "            training_result = cross_validated[\n",
    "                metric\n",
    "            ].bestModel.summary\n",
    "\n",
    "            print(\n",
    "                \"***** Evaluating Training Set, (Linear Regression, best model according to metric {}) *****\".format(\n",
    "                    metric\n",
    "                )\n",
    "            )\n",
    "            print(\"RMSE: {:.3f}\".format(training_result.rootMeanSquaredError))\n",
    "            print(\"R2: {:.3f}\".format(training_result.r2))\n",
    "            print(\"Adjusted R2: {:.3f}\".format(training_result.r2adj))\n",
    "            print()\n",
    "\n",
    "        predictions = {\n",
    "            metric: cross_validated[\n",
    "                metric\n",
    "            ].bestModel.transform(test_df)\n",
    "            for metric in cv_evaluation_metrics\n",
    "        }\n",
    "\n",
    "        for m, model in cross_validated.items():\n",
    "\n",
    "                print(\n",
    "                    \"*** {} Set, (rf, best model elected by {}) ***\".format(\n",
    "                        \"Test\", m\n",
    "                    )\n",
    "                )\n",
    "\n",
    "                for e, evaluator in regressor_evaluators.items():\n",
    "\n",
    "                    print(\n",
    "                        \"{}: {}\".format(\n",
    "                            evaluator.getMetricName(), evaluator.evaluate(\n",
    "                                predictions[m]\n",
    "                            )\n",
    "                        )\n",
    "                    )\n",
    "\n",
    "                print(\"*******************************\")\n",
    "\n",
    "    else:\n",
    "\n",
    "        for stage_name, stage_df in zip([\"Train\", \"Test\"], [train_df, test_df]):\n",
    "            predictions = {\n",
    "                metric: cross_validated[\n",
    "                    metric\n",
    "                ].bestModel.transform(stage_df)\n",
    "                for metric in cv_evaluation_metrics\n",
    "            }\n",
    "\n",
    "            for m, model in cross_validated.items():\n",
    "\n",
    "                print(\n",
    "                    \"*** {} Set, (rf, best model elected by {}) ***\".format(\n",
    "                        stage_name, m\n",
    "                    )\n",
    "                )\n",
    "\n",
    "                for e, evaluator in regressor_evaluators.items():\n",
    "\n",
    "                    print(\n",
    "                        \"{}: {}\".format(\n",
    "                            evaluator.getMetricName(), evaluator.evaluate(\n",
    "                                predictions[m]\n",
    "                            )\n",
    "                        )\n",
    "                    )\n",
    "\n",
    "                print(\"*******************************\")\n",
    "\n"
   ]
  },
  {
   "cell_type": "code",
   "execution_count": null,
   "metadata": {},
   "outputs": [],
   "source": [
    "def find_best_classifier(\n",
    "    train_df,\n",
    "    test_df,\n",
    "    classifier,\n",
    "    classifier_evaluation_metrics,\n",
    "    cv_evaluation_metrics,\n",
    "    hyperparams_grid\n",
    "):\n",
    "\n",
    "    cv_evaluators = {\n",
    "        metric: MulticlassClassificationEvaluator(\n",
    "            labelCol=\"macro_place\",\n",
    "            metricName=metric,\n",
    "        )\n",
    "        for metric in cv_evaluation_metrics\n",
    "    }\n",
    "\n",
    "    classifier_evaluators = {\n",
    "        metric: MulticlassClassificationEvaluator(\n",
    "            labelCol=\"macro_place\",\n",
    "            metricName=metric,\n",
    "        )\n",
    "        for metric in classifier_evaluation_metrics\n",
    "    }\n",
    "\n",
    "    cross_validations = {\n",
    "        metric: CrossValidator(\n",
    "            estimator=classifier,\n",
    "            estimatorParamMaps=hyperparams_grid,\n",
    "            evaluator=cv_evaluators[metric],\n",
    "            numFolds=NUM_FOLDS_CV,\n",
    "            collectSubModels=True\n",
    "        )\n",
    "        for metric in cv_evaluation_metrics\n",
    "    }\n",
    "\n",
    "    cross_validated = dict()\n",
    "\n",
    "    for metric in cv_evaluation_metrics:\n",
    "\n",
    "        cross_validated[metric] = cross_validations[\n",
    "            metric\n",
    "        ].fit(train_df)\n",
    "\n",
    "    if (isinstance(classifier, LinearRegression)):\n",
    "        \n",
    "        for metric in cv_evaluation_metrics:\n",
    "\n",
    "            training_result = cross_validated[\n",
    "                metric\n",
    "            ].bestModel.summary\n",
    "\n",
    "            print(\n",
    "                \"***** Evaluating Training Set, (Linear Regression, best model according to metric {}) *****\".format(\n",
    "                    metric\n",
    "                )\n",
    "            )\n",
    "            print(\"RMSE: {:.3f}\".format(training_result.rootMeanSquaredError))\n",
    "            print(\"R2: {:.3f}\".format(training_result.r2))\n",
    "            print(\"Adjusted R2: {:.3f}\".format(training_result.r2adj))\n",
    "            print()\n",
    "\n",
    "        predictions = {\n",
    "            metric: cross_validated[\n",
    "                metric\n",
    "            ].bestModel.transform(test_df)\n",
    "            for metric in cv_evaluation_metrics\n",
    "        }\n",
    "\n",
    "        for m, model in cross_validated.items():\n",
    "\n",
    "                print(\n",
    "                    \"*** {} Set, (rf, best model elected by {}) ***\".format(\n",
    "                        \"Test\", m\n",
    "                    )\n",
    "                )\n",
    "\n",
    "                for e, evaluator in classifier_evaluators.items():\n",
    "\n",
    "                    print(\n",
    "                        \"{}: {}\".format(\n",
    "                            evaluator.getMetricName(), evaluator.evaluate(\n",
    "                                predictions[m]\n",
    "                            )\n",
    "                        )\n",
    "                    )\n",
    "\n",
    "                print(\"*******************************\")\n",
    "\n",
    "    else:\n",
    "\n",
    "        for stage_name, stage_df in zip([\"Train\", \"Test\"], [train_df, test_df]):\n",
    "            predictions = {\n",
    "                metric: cross_validated[\n",
    "                    metric\n",
    "                ].bestModel.transform(stage_df)\n",
    "                for metric in cv_evaluation_metrics\n",
    "            }\n",
    "\n",
    "            for m, model in cross_validated.items():\n",
    "\n",
    "                print(\n",
    "                    \"*** {} Set, (rf, best model elected by {}) ***\".format(\n",
    "                        stage_name, m\n",
    "                    )\n",
    "                )\n",
    "\n",
    "                for e, evaluator in classifier_evaluators.items():\n",
    "\n",
    "                    print(\n",
    "                        \"{}: {}\".format(\n",
    "                            evaluator.getMetricName(), evaluator.evaluate(\n",
    "                                predictions[m]\n",
    "                            )\n",
    "                        )\n",
    "                    )\n",
    "\n",
    "                print(\"*******************************\")\n",
    "\n"
   ]
  },
  {
   "cell_type": "markdown",
   "metadata": {},
   "source": [
    "### Regression"
   ]
  },
  {
   "cell_type": "markdown",
   "metadata": {},
   "source": [
    "#### Linear Regression"
   ]
  },
  {
   "cell_type": "code",
   "execution_count": null,
   "metadata": {},
   "outputs": [],
   "source": [
    "# lr_train_df, lr_test_df = feature_selection_train_df, feature_selection_test_df\n",
    "lr_train_df, lr_test_df = learning_train_df, learning_test_df"
   ]
  },
  {
   "cell_type": "code",
   "execution_count": null,
   "metadata": {},
   "outputs": [],
   "source": [
    "lr = LinearRegression(\n",
    "    # featuresCol=\"feature_vec_ufs_0.1\", \n",
    "    labelCol=\"points\"\n",
    ")\n",
    "\n",
    "lr_evaluation_metrics = [\"r2\", \"mse\"]\n",
    "lr_evaluation_metrics_cv = [\"r2\"]\n",
    "\n",
    "lr_param_grid = (\n",
    "    ParamGridBuilder()\n",
    "    .addGrid(\n",
    "        lr.featuresCol, [\n",
    "            \"ufs_0-1\", \n",
    "            # \"value_vec_min_max\",\n",
    "            # \"all_vec_min_max_pcs\",\n",
    "            # \"all_vec_min_max\"\n",
    "        ]\n",
    "    )\n",
    "    #TODO add intermediate values: prof uses [0.0, 0.5, 1]\n",
    "    .addGrid(lr.elasticNetParam, [0.0, 1])\n",
    "    #TODO add intermediate values: prof uses [0.0, 0.05, 0.1]\n",
    "    # .addGrid(lr.regParam, [0.0, 0.1])\n",
    "    # .addGrid(lr.fitIntercept, [True, False])\n",
    "    .build()\n",
    ")\n",
    "\n",
    "find_best_regressor(\n",
    "    train_df=lr_train_df, \n",
    "    test_df=lr_test_df, \n",
    "    regressor=lr,\n",
    "    regressor_evaluation_metrics=lr_evaluation_metrics,\n",
    "    cv_evaluation_metrics=lr_evaluation_metrics_cv,\n",
    "    hyperparams_grid=lr_param_grid\n",
    ")"
   ]
  },
  {
   "cell_type": "markdown",
   "metadata": {},
   "source": [
    "#### Decision Tree Regressor"
   ]
  },
  {
   "cell_type": "code",
   "execution_count": null,
   "metadata": {},
   "outputs": [],
   "source": [
    "# dt_train_df, dt_test_df = feature_selection_train_df, feature_selection_test_df\n",
    "dt_train_df, dt_test_df = learning_train_df, learning_test_df"
   ]
  },
  {
   "cell_type": "code",
   "execution_count": null,
   "metadata": {},
   "outputs": [],
   "source": [
    "dt = DecisionTreeRegressor(\n",
    "    # featuresCol=\"feature_vec\", \n",
    "    labelCol=\"points\"\n",
    ")\n",
    "\n",
    "dt_evaluation_metrics = [\"r2\", \"mse\"]\n",
    "dt_evaluation_metrics_cv = [\"r2\"]\n",
    "\n",
    "dt_param_grid = (\n",
    "    ParamGridBuilder()\n",
    "    .addGrid(\n",
    "        dt.featuresCol, [\n",
    "            \"ufs_0-1\", \n",
    "            # \"value_vec_min_max\",\n",
    "            # \"all_vec_min_max_pcs\",\n",
    "            # \"all_vec_min_max\"\n",
    "        ]\n",
    "    )\n",
    "    # .addGrid(dt.standardization, [True, False])\n",
    "    .build()\n",
    ")\n",
    "\n",
    "find_best_regressor(\n",
    "    train_df=dt_train_df, \n",
    "    test_df=dt_test_df, \n",
    "    regressor=dt,\n",
    "    regressor_evaluation_metrics=dt_evaluation_metrics,\n",
    "    cv_evaluation_metrics=dt_evaluation_metrics_cv,\n",
    "    hyperparams_grid=dt_param_grid\n",
    ")"
   ]
  },
  {
   "cell_type": "markdown",
   "metadata": {},
   "source": [
    "#### Random Forest Regressor"
   ]
  },
  {
   "cell_type": "code",
   "execution_count": null,
   "metadata": {},
   "outputs": [],
   "source": [
    "rf_train_df, rf_test_df = learning_train_df, learning_test_df"
   ]
  },
  {
   "cell_type": "code",
   "execution_count": null,
   "metadata": {},
   "outputs": [],
   "source": [
    "rf = RandomForestRegressor(\n",
    "    # featuresCol=\"feature_vec\", \n",
    "    labelCol=\"points\"\n",
    ")\n",
    "\n",
    "rf_evaluation_metrics = [\"r2\", \"mse\"]\n",
    "rf_evaluation_metrics_cv = [\"r2\"]\n",
    "\n",
    "rf_param_grid = (\n",
    "    ParamGridBuilder()\n",
    "    .addGrid(\n",
    "        rf.featuresCol, [\n",
    "            \"ufs_0-1\", \n",
    "            # \"value_vec_min_max\",\n",
    "            # \"all_vec_min_max_pcs\",\n",
    "            # \"all_vec_min_max\"\n",
    "        ]\n",
    "    )\n",
    "    # .addGrid(rf.standardization, [True, False])\n",
    "    .build()\n",
    ")\n"
   ]
  },
  {
   "cell_type": "code",
   "execution_count": null,
   "metadata": {},
   "outputs": [],
   "source": [
    "find_best_regressor(\n",
    "    train_df=rf_train_df, \n",
    "    test_df=rf_test_df, \n",
    "    regressor=rf,\n",
    "    regressor_evaluation_metrics=rf_evaluation_metrics,\n",
    "    cv_evaluation_metrics=rf_evaluation_metrics_cv,\n",
    "    hyperparams_grid=rf_param_grid\n",
    ")"
   ]
  },
  {
   "cell_type": "markdown",
   "metadata": {},
   "source": [
    "#### Gradient Boosted Tree Regressor"
   ]
  },
  {
   "cell_type": "code",
   "execution_count": null,
   "metadata": {},
   "outputs": [],
   "source": [
    "gbt_train_df, gbt_test_df = learning_train_df, learning_test_df"
   ]
  },
  {
   "cell_type": "code",
   "execution_count": null,
   "metadata": {},
   "outputs": [],
   "source": [
    "gbt = GBTRegressor(\n",
    "    # featuresCol=\"feature_vec\", \n",
    "    labelCol=\"points\"\n",
    ")\n",
    "\n",
    "gbt_evaluation_metrics = [\"r2\", \"mse\"]\n",
    "gbt_evaluation_metrics_cv = [\"r2\"]\n",
    "\n",
    "gbt_param_grid = (\n",
    "    ParamGridBuilder()\n",
    "    .addGrid(\n",
    "        gbt.featuresCol, [\n",
    "            \"ufs_0-1\", \n",
    "            # \"value_vec_min_max\",\n",
    "            # \"all_vec_min_max_pcs\",\n",
    "            # \"all_vec_min_max\"\n",
    "        ]\n",
    "    )\n",
    "    # .addGrid(gbt.standardization, [True, False])\n",
    "    .build()\n",
    ")\n"
   ]
  },
  {
   "cell_type": "code",
   "execution_count": null,
   "metadata": {},
   "outputs": [],
   "source": [
    "find_best_regressor(\n",
    "    train_df=gbt_train_df, \n",
    "    test_df=gbt_test_df, \n",
    "    regressor=gbt,\n",
    "    regressor_evaluation_metrics=gbt_evaluation_metrics,\n",
    "    cv_evaluation_metrics=gbt_evaluation_metrics_cv,\n",
    "    hyperparams_grid=gbt_param_grid\n",
    ")"
   ]
  },
  {
   "cell_type": "markdown",
   "metadata": {},
   "source": [
    "### Classification"
   ]
  },
  {
   "cell_type": "code",
   "execution_count": null,
   "metadata": {},
   "outputs": [],
   "source": [
    "# TODO evaluate more advanced, dynamic macro placements\n",
    "def get_macro_place(place, league):\n",
    "\n",
    "    if league == \"German Bundesliga\":\n",
    "        if 1 <= place <= 4:\n",
    "            return 0.0\n",
    "        if 5 <= place <= 7:\n",
    "            return 1.0\n",
    "        if 8 <= place <= 10:\n",
    "            return 2.0\n",
    "        if 11 <= place <= 15:\n",
    "            return 3.0\n",
    "        if 16 <= place <= 18:\n",
    "            return 4.0\n",
    "\n",
    "    elif league == \"Holland Eredivise\":\n",
    "        if place == 1:\n",
    "            return 0.0\n",
    "        if 2 <= place <= 3:\n",
    "            return 1.0\n",
    "        if 4 <= place <= 9:\n",
    "            return 2.0\n",
    "        if 10 <= place <= 15:\n",
    "            return 3.0\n",
    "        if 16 <= place <= 18:\n",
    "            return 4.0\n",
    "\n",
    "\n",
    "    elif league == \"French League 1\":\n",
    "        if 1 <= place <= 2:\n",
    "            return 0.0\n",
    "        if 3 <= place <= 5:\n",
    "            return 1.0\n",
    "        if 6 <= place <= 11:\n",
    "            return 2.0\n",
    "        if 12 <= place <= 17:\n",
    "            return 3.0\n",
    "        if 18 <= place <= 20:\n",
    "            return  4.0\n",
    "    \n",
    "    else: #It, Sp, En\n",
    "        if 1 <= place <= 4:\n",
    "            return 0.0\n",
    "        if 5 <= place <= 7:\n",
    "            return 1.0\n",
    "        if 8 <= place <= 12:\n",
    "            return 2.0\n",
    "        if 13 <= place <= 17:\n",
    "            return 3.0\n",
    "        if 18 <= place <= 20:\n",
    "            return 4.0\n",
    "\n",
    "    return None\n",
    "\n",
    "get_macro_place_UDF = udf(\n",
    "    lambda place, league: get_macro_place(float(place), league),\n",
    "    DoubleType(),\n",
    ")\n",
    "\n",
    "NUM_MACRO_PLACES = 5"
   ]
  },
  {
   "cell_type": "code",
   "execution_count": null,
   "metadata": {},
   "outputs": [],
   "source": [
    "# classification_df = feature_selection_learning_df\n",
    "classification_df = df"
   ]
  },
  {
   "cell_type": "code",
   "execution_count": null,
   "metadata": {},
   "outputs": [],
   "source": [
    "classification_df = classification_df.withColumn(\n",
    "    \"macro_place\", get_macro_place_UDF(col(\"place\"), col(\"League\"))\n",
    ")"
   ]
  },
  {
   "cell_type": "code",
   "execution_count": null,
   "metadata": {},
   "outputs": [],
   "source": [
    "classification_train_df, classification_test_df = classification_df.randomSplit(\n",
    "    # [0.9,0.1]\n",
    "    # NOTE reactive 90/10 split, keep 70/30 just when using one league\n",
    "    [0.7,0.3]\n",
    ")"
   ]
  },
  {
   "cell_type": "markdown",
   "metadata": {},
   "source": [
    "#### Data visualizations"
   ]
  },
  {
   "cell_type": "code",
   "execution_count": null,
   "metadata": {},
   "outputs": [],
   "source": [
    "plot_feature_distribution(\n",
    "    classification_df.toPandas(), \n",
    "    [\"macro_place\"], \n",
    "    color = \"teal\", \n",
    "    figsize=(10,10)\n",
    ")"
   ]
  },
  {
   "cell_type": "markdown",
   "metadata": {},
   "source": [
    "#### SVM Classifier"
   ]
  },
  {
   "cell_type": "code",
   "execution_count": null,
   "metadata": {},
   "outputs": [],
   "source": [
    "svm_train_df, svm_test_df = classification_train_df, classification_test_df"
   ]
  },
  {
   "cell_type": "code",
   "execution_count": null,
   "metadata": {},
   "outputs": [],
   "source": [
    "svm = LinearSVC(\n",
    "    featuresCol=\"ufs_0-1\", \n",
    "    labelCol=\"macro_place\"\n",
    ")\n",
    "\n",
    "ovr = OneVsRest(\n",
    "    classifier=svm,\n",
    "    featuresCol=\"feature_vec_ufs_0-1\", \n",
    "    labelCol=\"macro_place\"\n",
    ")\n",
    "\n",
    "svm_evaluation_metrics = [\"accuracy\"]\n",
    "svm_evaluation_metrics_cv = [\"accuracy\"]\n",
    "\n",
    "svm_param_grid = (\n",
    "    ParamGridBuilder()\n",
    "    .addGrid(\n",
    "        ovr.featuresCol, [\n",
    "            \"ufs_0-1\", \n",
    "            \"value_vec_min_max\",\n",
    "            # \"all_vec_min_max_pcs\",\n",
    "            # \"all_vec_min_max\"\n",
    "        ]\n",
    "    )\n",
    "    .build()\n",
    ")\n"
   ]
  },
  {
   "cell_type": "code",
   "execution_count": null,
   "metadata": {},
   "outputs": [],
   "source": [
    "# find_best_classifier(\n",
    "#     train_df=svm_train_df, \n",
    "#     test_df=svm_test_df, \n",
    "#     classifier=ovr,\n",
    "#     classifier_evaluation_metrics=svm_evaluation_metrics,\n",
    "#     cv_evaluation_metrics=svm_evaluation_metrics_cv,\n",
    "#     hyperparams_grid=svm_param_grid\n",
    "# )"
   ]
  },
  {
   "cell_type": "markdown",
   "metadata": {},
   "source": [
    "#### Logistic Regression"
   ]
  },
  {
   "cell_type": "code",
   "execution_count": null,
   "metadata": {},
   "outputs": [],
   "source": [
    "lor_train_df, lor_test_df = classification_train_df, classification_test_df"
   ]
  },
  {
   "cell_type": "code",
   "execution_count": null,
   "metadata": {},
   "outputs": [],
   "source": [
    "# TODO same as SVM\n",
    "\n",
    "lor = LogisticRegression(\n",
    "    # featuresCol=\"ufs_0-1\", \n",
    "    labelCol=\"macro_place\"\n",
    ")\n",
    "\n",
    "ovr = OneVsRest(\n",
    "    classifier=lor,\n",
    "    # featuresCol=\"ufs_0-1\", \n",
    "    labelCol=\"macro_place\"\n",
    ")\n",
    "\n",
    "lor_evaluation_metrics = [\"accuracy\"]\n",
    "lor_evaluation_metrics_cv = [\"accuracy\"]\n",
    "\n",
    "lor_param_grid = (\n",
    "    ParamGridBuilder()\n",
    "    .addGrid(\n",
    "        ovr.featuresCol, [\n",
    "            \"ufs_0-1\", \n",
    "            \"value_vec_min_max\",\n",
    "            # \"all_vec_min_max_pcs\",\n",
    "            # \"all_vec_min_max\"\n",
    "        ]\n",
    "    )\n",
    "    .build()\n",
    ")\n"
   ]
  },
  {
   "cell_type": "code",
   "execution_count": null,
   "metadata": {},
   "outputs": [],
   "source": [
    "find_best_classifier(\n",
    "    train_df=lor_train_df, \n",
    "    test_df=lor_test_df, \n",
    "    classifier=ovr,\n",
    "    classifier_evaluation_metrics=lor_evaluation_metrics,\n",
    "    cv_evaluation_metrics=lor_evaluation_metrics_cv,\n",
    "    hyperparams_grid=lor_param_grid\n",
    ")"
   ]
  },
  {
   "cell_type": "markdown",
   "metadata": {},
   "source": [
    "#### Classification Tree"
   ]
  },
  {
   "cell_type": "code",
   "execution_count": null,
   "metadata": {},
   "outputs": [],
   "source": [
    "ct_train_df, ct_test_df = classification_train_df, classification_test_df"
   ]
  },
  {
   "cell_type": "code",
   "execution_count": null,
   "metadata": {},
   "outputs": [],
   "source": [
    "ct = DecisionTreeClassifier(\n",
    "    # featuresCol=\"ufs_0-1\", \n",
    "    labelCol=\"macro_place\"\n",
    ")\n",
    "\n",
    "# ovr = OneVsRest(\n",
    "#     classifier=ct,\n",
    "#     featuresCol=\"feature_vec_ufs_0-1\", \n",
    "#     labelCol=\"macro_place\"\n",
    "# )\n",
    "\n",
    "ct_evaluation_metrics = [\"accuracy\"]\n",
    "ct_evaluation_metrics_cv = [\"accuracy\"]\n",
    "\n",
    "ct_param_grid = (\n",
    "    ParamGridBuilder()\n",
    "    .addGrid(\n",
    "        ct.featuresCol, [\n",
    "            \"ufs_0-1\", \n",
    "            # \"value_vec_min_max\",\n",
    "            # \"all_vec_min_max_pcs\",\n",
    "            # \"all_vec_min_max\"\n",
    "        ]\n",
    "    )\n",
    "    .build()\n",
    ")\n"
   ]
  },
  {
   "cell_type": "code",
   "execution_count": null,
   "metadata": {},
   "outputs": [],
   "source": [
    "find_best_classifier(\n",
    "    train_df=ct_train_df, \n",
    "    test_df=ct_test_df, \n",
    "    classifier=ct,\n",
    "    classifier_evaluation_metrics=ct_evaluation_metrics,\n",
    "    cv_evaluation_metrics=ct_evaluation_metrics_cv,\n",
    "    hyperparams_grid=ct_param_grid\n",
    ")\n"
   ]
  },
  {
   "cell_type": "markdown",
   "metadata": {},
   "source": [
    "#### Random Forest"
   ]
  },
  {
   "cell_type": "code",
   "execution_count": null,
   "metadata": {},
   "outputs": [],
   "source": [
    "rfc_train_df, rfc_test_df = classification_train_df, classification_test_df"
   ]
  },
  {
   "cell_type": "code",
   "execution_count": null,
   "metadata": {},
   "outputs": [],
   "source": [
    "rfc = RandomForestClassifier(\n",
    "    # featuresCol=\"feature_vec_ufs_0-1\", \n",
    "    labelCol=\"macro_place\"\n",
    ")\n",
    "\n",
    "# ovr = OneVsRest(\n",
    "#     classifier=rfc,\n",
    "#     featuresCol=\"feature_vec_ufs_0-1\", \n",
    "#     labelCol=\"macro_place\"\n",
    "# )\n",
    "\n",
    "rfc_evaluation_metrics = [\"accuracy\"]\n",
    "rfc_evaluation_metrics_cv = [\"accuracy\"]\n",
    "\n",
    "rfc_param_grid = (\n",
    "    ParamGridBuilder()\n",
    "    .addGrid(\n",
    "        rfc.featuresCol, [\n",
    "            \"ufs_0-1\", \n",
    "            # \"value_vec_min_max\",\n",
    "            # \"all_vec_min_max_pcs\",\n",
    "            # \"all_vec_min_max\"\n",
    "        ]\n",
    "    )\n",
    "    .build()\n",
    ")\n"
   ]
  },
  {
   "cell_type": "code",
   "execution_count": null,
   "metadata": {},
   "outputs": [],
   "source": [
    "find_best_classifier(\n",
    "    train_df=rfc_train_df, \n",
    "    test_df=rfc_test_df, \n",
    "    classifier=rfc,\n",
    "    classifier_evaluation_metrics=rfc_evaluation_metrics,\n",
    "    cv_evaluation_metrics=rfc_evaluation_metrics_cv,\n",
    "    hyperparams_grid=rfc_param_grid\n",
    ")"
   ]
  },
  {
   "cell_type": "markdown",
   "metadata": {},
   "source": [
    "#### MLP"
   ]
  },
  {
   "cell_type": "code",
   "execution_count": null,
   "metadata": {},
   "outputs": [],
   "source": [
    "mlp_train_df, mlp_test_df = classification_train_df, classification_test_df"
   ]
  },
  {
   "cell_type": "code",
   "execution_count": null,
   "metadata": {},
   "outputs": [],
   "source": [
    "mlp = MultilayerPerceptronClassifier(\n",
    "    # featuresCol=\"feature_vec_ufs_0-1\", \n",
    "    labelCol=\"macro_place\"\n",
    ")\n",
    "\n",
    "# ovr = OneVsRest(\n",
    "#     classifier=mlp,\n",
    "#     featuresCol=\"feature_vec_ufs_0-1\", \n",
    "#     labelCol=\"macro_place\"\n",
    "# )\n",
    "\n",
    "mlp_evaluation_metrics = [\"accuracy\"]\n",
    "mlp_evaluation_metrics_cv = [\"accuracy\"]\n",
    "\n",
    "mlp_param_grid = (\n",
    "    ParamGridBuilder()\n",
    "    .addGrid(mlp.layers, [[NUM_FEATURES, 4, 4, 2, NUM_MACRO_PLACES]])\n",
    "    .addGrid(\n",
    "        mlp.featuresCol, [\n",
    "            \"ufs_0-1\", \n",
    "            # \"value_vec_min_max\",\n",
    "            # \"all_vec_min_max_pcs\",\n",
    "            # \"all_vec_min_max\"\n",
    "        ]\n",
    "    )\n",
    "    .build()\n",
    ")\n"
   ]
  },
  {
   "cell_type": "code",
   "execution_count": null,
   "metadata": {},
   "outputs": [],
   "source": [
    "find_best_classifier(\n",
    "    train_df=mlp_train_df, \n",
    "    test_df=mlp_test_df, \n",
    "    classifier=mlp,\n",
    "    classifier_evaluation_metrics=mlp_evaluation_metrics,\n",
    "    cv_evaluation_metrics=mlp_evaluation_metrics_cv,\n",
    "    hyperparams_grid=mlp_param_grid\n",
    ")"
   ]
  },
  {
   "cell_type": "markdown",
   "metadata": {},
   "source": [
    "## Custom ranking-based evaluation"
   ]
  },
  {
   "cell_type": "code",
   "execution_count": null,
   "metadata": {},
   "outputs": [],
   "source": [
    "## compare ranking of prediction value with actual ranking"
   ]
  },
  {
   "cell_type": "markdown",
   "metadata": {},
   "source": [
    "# Attempt 3: clustering"
   ]
  },
  {
   "cell_type": "code",
   "execution_count": 156,
   "metadata": {},
   "outputs": [],
   "source": [
    "clustering_df = pre_processed_df\n",
    "\n",
    "CLUSTERING_FEATURES = copy.deepcopy(PLAYER_FEATURES)\n",
    "CLUSTERING_FEATURES.remove(\"overall\")\n",
    "CLUSTERING_FEATURES.remove(\"value\")\n",
    "\n",
    "\n",
    "assembler = VectorAssembler(\n",
    "    inputCols=CLUSTERING_FEATURES, outputCol=\"all_vec\"\n",
    ")\n",
    "\n",
    "clustering_df = assembler.transform(clustering_df)\n",
    "\n",
    "scaler = MinMaxScaler(\n",
    "    inputCol=\"all_vec\", outputCol=\"all_vec_min_max\"\n",
    ")\n",
    "\n",
    "clustering_df = scaler.fit(clustering_df).transform(clustering_df)"
   ]
  },
  {
   "cell_type": "code",
   "execution_count": 176,
   "metadata": {},
   "outputs": [],
   "source": [
    "def k_means(\n",
    "    dataset,\n",
    "    n_clusters,\n",
    "    distance_measure=\"euclidean\",\n",
    "    max_iter=20,\n",
    "    features_col=\"features\",\n",
    "    prediction_col=\"cluster\",\n",
    "    random_seed=RANDOM_SEED,\n",
    "):\n",
    "\n",
    "    print(\n",
    "        f\"\"\"Training K-means clustering using the following parameters: \n",
    "        - K (n. of clusters) = {n_clusters}\n",
    "        - max_iter (max n. of iterations) = {max_iter}\n",
    "        - distance measure = {distance_measure}\n",
    "        - random seed = {random_seed if random_seed is not None else \"NONE USED!\"}\n",
    "        \"\"\"\n",
    "    )\n",
    "\n",
    "    # if distance_measure == \"cosine\":\n",
    "\n",
    "        # NOTE we already start from normalized/std data, so, NO need to do it\n",
    "\n",
    "        # Normalize inputs to unit-length vectors\n",
    "        # dataset = Normalizer(\n",
    "        #     inputCol=features_col, outputCol=features_col + \"_norm\", p=1\n",
    "        # ).transform(dataset)\n",
    "\n",
    "        # features_col = features_col + \"_norm\"\n",
    "\n",
    "    # Train a K-means model\n",
    "    kmeans = KMeans(\n",
    "        featuresCol=features_col,\n",
    "        predictionCol=prediction_col,\n",
    "        k=n_clusters,\n",
    "        initMode=\"k-means||\",\n",
    "        initSteps=5,\n",
    "        tol=0.000001,\n",
    "        maxIter=max_iter,\n",
    "        # seed=random_seed,\n",
    "        distanceMeasure=distance_measure,\n",
    "    )\n",
    "\n",
    "    model = kmeans.fit(dataset)\n",
    "    # here there are all the relevant clustering information\n",
    "\n",
    "    # Make clusters\n",
    "    clusters_df = model.transform(dataset)\n",
    "\n",
    "    return model, clusters_df\n",
    "\n",
    "\n",
    "def evaluate_k_means(\n",
    "    clusters,\n",
    "    metric_name=\"silhouette\",\n",
    "    distance_measure=\"squaredEuclidean\",  # cosine\n",
    "    prediction_col=\"cluster\",\n",
    "    featuresCol = \"features\"\n",
    "):\n",
    "\n",
    "    # Evaluate clustering by computing Silhouette score\n",
    "    evaluator = ClusteringEvaluator(\n",
    "        metricName=metric_name,\n",
    "        distanceMeasure=distance_measure,\n",
    "        predictionCol=prediction_col,\n",
    "        featuresCol=featuresCol\n",
    "    )\n",
    "\n",
    "    return evaluator.evaluate(clusters)\n",
    "\n",
    "\n",
    "def do_clustering(\n",
    "    k_range, \n",
    "    input_df, \n",
    "    max_iter,\n",
    "    featuresCol,\n",
    "    clusterCol\n",
    "):\n",
    "    clustering_results = {}\n",
    "\n",
    "    clusters_df = input_df\n",
    "\n",
    "    # for k in tqdm( range(5, max_k_clusters + 1, 5), desc = \"Performing clustering\" ):\n",
    "    # for k in tqdm(range(2, max_k_clusters + 1, 4), desc=\"Performing clustering\"):\n",
    "    for k in tqdm(k_range), desc=\"Performing clustering\"):\n",
    "\n",
    "        print(f\"Running K-means using K = {k}\")\n",
    "\n",
    "        # model, clusters_df = k_means(tf_idf_df, k, max_iter=50, distance_measure=\"cosine\") # Alternatively, distance_measure=\"euclidean\"\n",
    "        # model, clusters_df = k_means(input_df, k, max_iter=max_iter, distance_measure=\"cosine\") # Alternatively, distance_measure=\"euclidean\"\n",
    "        model, clusters_df = k_means(\n",
    "            # input_df,\n",
    "            clusters_df, \n",
    "            k, \n",
    "            max_iter=max_iter, \n",
    "            distance_measure=\"cosine\", \n",
    "            features_col=featuresCol,\n",
    "            prediction_col=clusterCol + \"_k_\" + str(k),\n",
    "        )  # Alternatively, distance_measure=\"euclidean\"\n",
    "        # silhouette_k = evaluate_k_means(clusters_df, distance_measure=\"cosine\") # Alternatively, distance_measure=\"squaredEuclidean\"\n",
    "        silhouette_k = evaluate_k_means(\n",
    "            clusters_df, \n",
    "            distance_measure=\"cosine\",\n",
    "            prediction_col=clusterCol + \"_k_\" + str(k),\n",
    "            featuresCol=featuresCol\n",
    "\n",
    "        )  # Alternatively, distance_measure=\"squaredEuclidean\"\n",
    "        # wssd_k = model.summary.trainingCost\n",
    "        wssd_k = model.summary\n",
    "\n",
    "        print(\n",
    "            \"Silhouette coefficient computed with cosine distance: {:.3f}\".format(\n",
    "                silhouette_k\n",
    "            )\n",
    "        )\n",
    "        print(\n",
    "            \"Within-cluster Sum of Squared Distances (using cosine distance): {:.3f}\".format(\n",
    "                wssd_k.trainingCost\n",
    "            )\n",
    "        )\n",
    "        print(\n",
    "            \"--------------------------------------------------------------------------------------\"\n",
    "        )\n",
    "\n",
    "        l = list(\n",
    "            enumerate(\n",
    "                model.clusterCenters()\n",
    "            )\n",
    "        )\n",
    "        l = [(ind, DenseVector(c)) for ind, c in l]\n",
    "        # print(l)\n",
    "        schema = [\"cluster_id\"  + \"_k_\" + str(k), \"centroid\"  + \"_k_\" + str(k)]\n",
    "\n",
    "        schema = StructType([ \n",
    "            StructField(\"cluster_id\" + \"_k_\" + str(k),IntegerType(),True), \n",
    "            StructField(\"centroid\" + \"_k_\" + str(k),VectorUDT(),True), \n",
    "        ])\n",
    "        centr_df = spark.createDataFrame(data=l, schema=schema)\n",
    "\n",
    "        # centr_df.show()\n",
    "\n",
    "        # df_with_centroids = clusters_df.join(\n",
    "        #     centr_df, on=[\"cluster_id\"]\n",
    "        # )\n",
    "\n",
    "        clusters_df = clusters_df.join(\n",
    "            centr_df, on=[\"cluster_id\" + \"_k_\" + str(k)]\n",
    "        )\n",
    "\n",
    "\n",
    "\n",
    "        clustering_results[str(k)] = {\n",
    "            \"silhouette_k\"      : silhouette_k,\n",
    "            \"wssd_k\"            : wssd_k,\n",
    "            \"model\"             : model,\n",
    "            \"df\"                : clusters_df,\n",
    "            # \"cluster_centroids\" : model.clusterCenters(),\n",
    "            # \"centr_df\" : centr_df,\n",
    "            # \"df_with_centroids\" : df_with_centroids\n",
    "        }\n",
    "\n",
    "        \n",
    "        \n",
    "\n",
    "        # Free up memory space at the end of each iteration\n",
    "        # del model\n",
    "        # del clusters_df\n",
    "        # gc.collect() # garbage collector\n",
    "    \n",
    "    clustering_results[\"df_with_centroid_full\"] = clusters_df\n",
    "\n",
    "    return clustering_results\n",
    "\n",
    "\n",
    "def plot_clustering_results(clustering_results):\n",
    "\n",
    "    # print(clustering_results)\n",
    "\n",
    "    k_col = list(clustering_results.keys())[:-1]\n",
    "    wssd_col = [\n",
    "        clustering_results[k][\"wssd_k\"].trainingCost for k in k_col \n",
    "    ]\n",
    "    silhouette_col = [\n",
    "        clustering_results[k][\"silhouette_k\"] for k in k_col \n",
    "    ]\n",
    "\n",
    "    print(k_col)\n",
    "    print(wssd_col)\n",
    "    print(silhouette_col)\n",
    "\n",
    "    plot_df_temp = pd.DataFrame([k_col, wssd_col, silhouette_col]).transpose()\n",
    "    plot_df_temp.columns = [\"K\", \"WSSD\", \"Silhouette\"]\n",
    "    print(plot_df_temp)\n",
    "\n",
    "    # Create a 1x1 figure\n",
    "    fig, ax = plt.subplots(1, 1, figsize=(8, 6))\n",
    "\n",
    "    _ = sns.pointplot(\n",
    "        data=plot_df_temp, x=\"K\", y=\"WSSD\", ax=ax, color=\"orangered\"\n",
    "    )\n",
    "    _ = ax.set_xlabel(\"K\")\n",
    "    _ = ax.set_ylabel(\"WSSD\")\n",
    "    \n",
    "    # Create a 1x1 figure\n",
    "    fig, ax = plt.subplots(1, 1, figsize=(8, 6))\n",
    "\n",
    "    _ = sns.pointplot(\n",
    "        data=plot_df_temp, x=\"K\", y=\"Silhouette\", ax=ax, color=\"orangered\"\n",
    "    )\n",
    "    _ = ax.set_xlabel(\"K\")\n",
    "    _ = ax.set_ylabel(\"Silhouette\")"
   ]
  },
  {
   "cell_type": "code",
   "execution_count": 181,
   "metadata": {},
   "outputs": [],
   "source": [
    "clustering_df_dict = {\n",
    "    s: clustering_df.filter(col(\"season\") == s) for s in seasons\n",
    "}\n",
    "\n",
    "MAX_K_CLUSTERS = 64\n",
    "MAX_ITER = 20"
   ]
  },
  {
   "cell_type": "code",
   "execution_count": 182,
   "metadata": {},
   "outputs": [
    {
     "name": "stderr",
     "output_type": "stream",
     "text": [
      "Performing clustering:   0%|          | 0/16 [00:00<?, ?it/s]"
     ]
    },
    {
     "name": "stdout",
     "output_type": "stream",
     "text": [
      "Running K-means using K = 2\n",
      "Training K-means clustering using the following parameters: \n",
      "        - K (n. of clusters) = 2\n",
      "        - max_iter (max n. of iterations) = 20\n",
      "        - distance measure = cosine\n",
      "        - random seed = NONE USED!\n",
      "        \n"
     ]
    },
    {
     "name": "stderr",
     "output_type": "stream",
     "text": [
      "Performing clustering:   6%|▋         | 1/16 [00:03<00:56,  3.75s/it]           "
     ]
    },
    {
     "name": "stdout",
     "output_type": "stream",
     "text": [
      "Silhouette coefficient computed with cosine distance: 0.863\n",
      "Within-cluster Sum of Squared Distances (using cosine distance): 16.271\n",
      "--------------------------------------------------------------------------------------\n",
      "Running K-means using K = 6\n",
      "Training K-means clustering using the following parameters: \n",
      "        - K (n. of clusters) = 6\n",
      "        - max_iter (max n. of iterations) = 20\n",
      "        - distance measure = cosine\n",
      "        - random seed = NONE USED!\n",
      "        \n"
     ]
    },
    {
     "name": "stderr",
     "output_type": "stream",
     "text": [
      "Performing clustering:  12%|█▎        | 2/16 [00:08<00:56,  4.05s/it]"
     ]
    },
    {
     "name": "stdout",
     "output_type": "stream",
     "text": [
      "Silhouette coefficient computed with cosine distance: 0.364\n",
      "Within-cluster Sum of Squared Distances (using cosine distance): 9.240\n",
      "--------------------------------------------------------------------------------------\n",
      "Running K-means using K = 10\n",
      "Training K-means clustering using the following parameters: \n",
      "        - K (n. of clusters) = 10\n",
      "        - max_iter (max n. of iterations) = 20\n",
      "        - distance measure = cosine\n",
      "        - random seed = NONE USED!\n",
      "        \n"
     ]
    },
    {
     "name": "stderr",
     "output_type": "stream",
     "text": [
      "Performing clustering:  19%|█▉        | 3/16 [00:12<00:55,  4.29s/it]"
     ]
    },
    {
     "name": "stdout",
     "output_type": "stream",
     "text": [
      "Silhouette coefficient computed with cosine distance: 0.299\n",
      "Within-cluster Sum of Squared Distances (using cosine distance): 7.958\n",
      "--------------------------------------------------------------------------------------\n",
      "Running K-means using K = 14\n",
      "Training K-means clustering using the following parameters: \n",
      "        - K (n. of clusters) = 14\n",
      "        - max_iter (max n. of iterations) = 20\n",
      "        - distance measure = cosine\n",
      "        - random seed = NONE USED!\n",
      "        \n"
     ]
    },
    {
     "name": "stderr",
     "output_type": "stream",
     "text": [
      "Performing clustering:  25%|██▌       | 4/16 [00:17<00:54,  4.56s/it]"
     ]
    },
    {
     "name": "stdout",
     "output_type": "stream",
     "text": [
      "Silhouette coefficient computed with cosine distance: 0.214\n",
      "Within-cluster Sum of Squared Distances (using cosine distance): 7.046\n",
      "--------------------------------------------------------------------------------------\n",
      "Running K-means using K = 18\n",
      "Training K-means clustering using the following parameters: \n",
      "        - K (n. of clusters) = 18\n",
      "        - max_iter (max n. of iterations) = 20\n",
      "        - distance measure = cosine\n",
      "        - random seed = NONE USED!\n",
      "        \n"
     ]
    },
    {
     "name": "stderr",
     "output_type": "stream",
     "text": [
      "Performing clustering:  31%|███▏      | 5/16 [00:23<00:53,  4.90s/it]"
     ]
    },
    {
     "name": "stdout",
     "output_type": "stream",
     "text": [
      "Silhouette coefficient computed with cosine distance: 0.189\n",
      "Within-cluster Sum of Squared Distances (using cosine distance): 6.628\n",
      "--------------------------------------------------------------------------------------\n",
      "Running K-means using K = 22\n",
      "Training K-means clustering using the following parameters: \n",
      "        - K (n. of clusters) = 22\n",
      "        - max_iter (max n. of iterations) = 20\n",
      "        - distance measure = cosine\n",
      "        - random seed = NONE USED!\n",
      "        \n"
     ]
    },
    {
     "name": "stderr",
     "output_type": "stream",
     "text": [
      "Performing clustering:  38%|███▊      | 6/16 [00:29<00:54,  5.42s/it]"
     ]
    },
    {
     "name": "stdout",
     "output_type": "stream",
     "text": [
      "Silhouette coefficient computed with cosine distance: 0.186\n",
      "Within-cluster Sum of Squared Distances (using cosine distance): 6.261\n",
      "--------------------------------------------------------------------------------------\n",
      "Running K-means using K = 26\n",
      "Training K-means clustering using the following parameters: \n",
      "        - K (n. of clusters) = 26\n",
      "        - max_iter (max n. of iterations) = 20\n",
      "        - distance measure = cosine\n",
      "        - random seed = NONE USED!\n",
      "        \n"
     ]
    },
    {
     "name": "stderr",
     "output_type": "stream",
     "text": [
      "Performing clustering:  44%|████▍     | 7/16 [00:36<00:53,  5.89s/it]"
     ]
    },
    {
     "name": "stdout",
     "output_type": "stream",
     "text": [
      "Silhouette coefficient computed with cosine distance: 0.188\n",
      "Within-cluster Sum of Squared Distances (using cosine distance): 6.275\n",
      "--------------------------------------------------------------------------------------\n",
      "Running K-means using K = 30\n",
      "Training K-means clustering using the following parameters: \n",
      "        - K (n. of clusters) = 30\n",
      "        - max_iter (max n. of iterations) = 20\n",
      "        - distance measure = cosine\n",
      "        - random seed = NONE USED!\n",
      "        \n"
     ]
    },
    {
     "name": "stderr",
     "output_type": "stream",
     "text": [
      "Performing clustering:  50%|█████     | 8/16 [00:44<00:51,  6.46s/it]           "
     ]
    },
    {
     "name": "stdout",
     "output_type": "stream",
     "text": [
      "Silhouette coefficient computed with cosine distance: 0.188\n",
      "Within-cluster Sum of Squared Distances (using cosine distance): 5.645\n",
      "--------------------------------------------------------------------------------------\n",
      "Running K-means using K = 34\n",
      "Training K-means clustering using the following parameters: \n",
      "        - K (n. of clusters) = 34\n",
      "        - max_iter (max n. of iterations) = 20\n",
      "        - distance measure = cosine\n",
      "        - random seed = NONE USED!\n",
      "        \n"
     ]
    },
    {
     "name": "stderr",
     "output_type": "stream",
     "text": [
      "Performing clustering:  56%|█████▋    | 9/16 [00:52<00:50,  7.19s/it]           6]"
     ]
    },
    {
     "name": "stdout",
     "output_type": "stream",
     "text": [
      "Silhouette coefficient computed with cosine distance: 0.182\n",
      "Within-cluster Sum of Squared Distances (using cosine distance): 5.459\n",
      "--------------------------------------------------------------------------------------\n",
      "Running K-means using K = 38\n",
      "Training K-means clustering using the following parameters: \n",
      "        - K (n. of clusters) = 38\n",
      "        - max_iter (max n. of iterations) = 20\n",
      "        - distance measure = cosine\n",
      "        - random seed = NONE USED!\n",
      "        \n"
     ]
    },
    {
     "name": "stderr",
     "output_type": "stream",
     "text": [
      "Performing clustering:  62%|██████▎   | 10/16 [01:01<00:46,  7.73s/it]          ]"
     ]
    },
    {
     "name": "stdout",
     "output_type": "stream",
     "text": [
      "Silhouette coefficient computed with cosine distance: 0.163\n",
      "Within-cluster Sum of Squared Distances (using cosine distance): 5.214\n",
      "--------------------------------------------------------------------------------------\n",
      "Running K-means using K = 42\n",
      "Training K-means clustering using the following parameters: \n",
      "        - K (n. of clusters) = 42\n",
      "        - max_iter (max n. of iterations) = 20\n",
      "        - distance measure = cosine\n",
      "        - random seed = NONE USED!\n",
      "        \n"
     ]
    },
    {
     "name": "stderr",
     "output_type": "stream",
     "text": [
      "Performing clustering:  69%|██████▉   | 11/16 [01:11<00:42,  8.42s/it]          ]"
     ]
    },
    {
     "name": "stdout",
     "output_type": "stream",
     "text": [
      "Silhouette coefficient computed with cosine distance: 0.131\n",
      "Within-cluster Sum of Squared Distances (using cosine distance): 5.040\n",
      "--------------------------------------------------------------------------------------\n",
      "Running K-means using K = 46\n",
      "Training K-means clustering using the following parameters: \n",
      "        - K (n. of clusters) = 46\n",
      "        - max_iter (max n. of iterations) = 20\n",
      "        - distance measure = cosine\n",
      "        - random seed = NONE USED!\n",
      "        \n"
     ]
    },
    {
     "name": "stderr",
     "output_type": "stream",
     "text": [
      "Performing clustering:  75%|███████▌  | 12/16 [01:22<00:36,  9.06s/it]          ]"
     ]
    },
    {
     "name": "stdout",
     "output_type": "stream",
     "text": [
      "Silhouette coefficient computed with cosine distance: 0.131\n",
      "Within-cluster Sum of Squared Distances (using cosine distance): 5.046\n",
      "--------------------------------------------------------------------------------------\n",
      "Running K-means using K = 50\n",
      "Training K-means clustering using the following parameters: \n",
      "        - K (n. of clusters) = 50\n",
      "        - max_iter (max n. of iterations) = 20\n",
      "        - distance measure = cosine\n",
      "        - random seed = NONE USED!\n",
      "        \n"
     ]
    },
    {
     "name": "stderr",
     "output_type": "stream",
     "text": [
      "Performing clustering:  81%|████████▏ | 13/16 [01:33<00:29,  9.79s/it]          ]"
     ]
    },
    {
     "name": "stdout",
     "output_type": "stream",
     "text": [
      "Silhouette coefficient computed with cosine distance: 0.140\n",
      "Within-cluster Sum of Squared Distances (using cosine distance): 4.723\n",
      "--------------------------------------------------------------------------------------\n",
      "Running K-means using K = 54\n",
      "Training K-means clustering using the following parameters: \n",
      "        - K (n. of clusters) = 54\n",
      "        - max_iter (max n. of iterations) = 20\n",
      "        - distance measure = cosine\n",
      "        - random seed = NONE USED!\n",
      "        \n"
     ]
    },
    {
     "name": "stderr",
     "output_type": "stream",
     "text": [
      "Performing clustering:  88%|████████▊ | 14/16 [01:45<00:20, 10.44s/it]          6]"
     ]
    },
    {
     "name": "stdout",
     "output_type": "stream",
     "text": [
      "Silhouette coefficient computed with cosine distance: 0.144\n",
      "Within-cluster Sum of Squared Distances (using cosine distance): 4.802\n",
      "--------------------------------------------------------------------------------------\n",
      "Running K-means using K = 58\n",
      "Training K-means clustering using the following parameters: \n",
      "        - K (n. of clusters) = 58\n",
      "        - max_iter (max n. of iterations) = 20\n",
      "        - distance measure = cosine\n",
      "        - random seed = NONE USED!\n",
      "        \n"
     ]
    },
    {
     "name": "stderr",
     "output_type": "stream",
     "text": [
      "Performing clustering:  94%|█████████▍| 15/16 [01:58<00:11, 11.05s/it]          16]]"
     ]
    },
    {
     "name": "stdout",
     "output_type": "stream",
     "text": [
      "Silhouette coefficient computed with cosine distance: 0.145\n",
      "Within-cluster Sum of Squared Distances (using cosine distance): 4.456\n",
      "--------------------------------------------------------------------------------------\n",
      "Running K-means using K = 62\n",
      "Training K-means clustering using the following parameters: \n",
      "        - K (n. of clusters) = 62\n",
      "        - max_iter (max n. of iterations) = 20\n",
      "        - distance measure = cosine\n",
      "        - random seed = NONE USED!\n",
      "        \n"
     ]
    },
    {
     "name": "stderr",
     "output_type": "stream",
     "text": [
      "Performing clustering: 100%|██████████| 16/16 [02:11<00:00,  8.20s/it]          16]"
     ]
    },
    {
     "name": "stdout",
     "output_type": "stream",
     "text": [
      "Silhouette coefficient computed with cosine distance: 0.133\n",
      "Within-cluster Sum of Squared Distances (using cosine distance): 4.585\n",
      "--------------------------------------------------------------------------------------\n"
     ]
    },
    {
     "name": "stderr",
     "output_type": "stream",
     "text": [
      "\n"
     ]
    }
   ],
   "source": [
    "clustering_results_dict = dict()\n",
    "\n",
    "for s in [\"20\"]:\n",
    "    clustering_results_dict[s] = do_clustering(\n",
    "        MAX_K_CLUSTERS, \n",
    "        clustering_df_dict[s], \n",
    "        MAX_ITER,\n",
    "        \"all_vec_min_max\",\n",
    "        \"cluster_id\"\n",
    "    )\n"
   ]
  },
  {
   "cell_type": "code",
   "execution_count": 183,
   "metadata": {},
   "outputs": [],
   "source": [
    "all_together_df = reduce(\n",
    "    DataFrame.unionAll, \n",
    "    [\n",
    "        clustering_results_dict[s][\"df_with_centroid_full\"] for s in [\"20\"]\n",
    "    ]\n",
    ")"
   ]
  },
  {
   "cell_type": "markdown",
   "metadata": {},
   "source": [
    "## Clustering evaluation"
   ]
  },
  {
   "cell_type": "markdown",
   "metadata": {},
   "source": [
    "### Evalutating single seasons"
   ]
  },
  {
   "cell_type": "code",
   "execution_count": 184,
   "metadata": {},
   "outputs": [
    {
     "name": "stdout",
     "output_type": "stream",
     "text": [
      "['2', '6', '10', '14', '18', '22', '26', '30', '34', '38', '42', '46', '50', '54', '58', '62']\n",
      "[16.270667168078578, 9.239958156893394, 7.958027155522128, 7.04572560246717, 6.627818605133859, 6.260796851716694, 6.275039174805883, 5.644613284772872, 5.459051590869285, 5.213783661856095, 5.040140573194415, 5.046424942706875, 4.723140031415901, 4.801847047189728, 4.455623635180397, 4.585288088506049]\n",
      "[0.8625790206701893, 0.36406574676265524, 0.2990977788121379, 0.21430014951970622, 0.18930519847314473, 0.18585756079717852, 0.18794402435449684, 0.18846034967558958, 0.18199744285476807, 0.16272673389622377, 0.13134676775958948, 0.1312632376536172, 0.1395298328213211, 0.14377149322778363, 0.1452727471066688, 0.13253177174543704]\n",
      "     K       WSSD Silhouette\n",
      "0    2  16.270667   0.862579\n",
      "1    6   9.239958   0.364066\n",
      "2   10   7.958027   0.299098\n",
      "3   14   7.045726     0.2143\n",
      "4   18   6.627819   0.189305\n",
      "5   22   6.260797   0.185858\n",
      "6   26   6.275039   0.187944\n",
      "7   30   5.644613    0.18846\n",
      "8   34   5.459052   0.181997\n",
      "9   38   5.213784   0.162727\n",
      "10  42   5.040141   0.131347\n",
      "11  46   5.046425   0.131263\n",
      "12  50    4.72314    0.13953\n",
      "13  54   4.801847   0.143771\n",
      "14  58   4.455624   0.145273\n",
      "15  62   4.585288   0.132532\n"
     ]
    },
    {
     "data": {
      "application/vnd.jupyter.widget-view+json": {
       "model_id": "da71c016b08947e1be6fa99270b229ec",
       "version_major": 2,
       "version_minor": 0
      },
      "image/png": "[encoded data removed]",
      "text/html": [
       "\n",
       "            <div style=\"display: inline-block;\">\n",
       "                <div class=\"jupyter-widgets widget-label\" style=\"text-align: center;\">\n",
       "                    Figure\n",
       "                </div>\n",
       "                <img src='data:image/png;base64,iVBORw0KGgoAAAANSUhEUgAAAyAAAAJYCAYAAACadoJwAAAAOXRFWHRTb2Z0d2FyZQBNYXRwbG90bGliIHZlcnNpb24zLjUuMSwgaHR0cHM6Ly9tYXRwbG90bGliLm9yZy/YYfK9AAAACXBIWXMAAA9hAAAPYQGoP6dpAABSSElEQVR4nO3dd3gUdeLH8c8mIQkEEggQIJAAIl1QPBQpAgEEkQNEBSyHiPzOcigingIqip4KcnYPxXIiKhb0BBErKkXpCKggUqSFGlFIA5KQzO+PMdls6ia7O7PZfb+eZx+YspsP3uw988nM9zsOwzAMAQAAAIAFQuwOAAAAACB4UEAAAAAAWIYCAgAAAMAyFBAAAAAAlqGAAAAAALAMBQQAAACAZSggAAAAACxDAQEAAABgGQoIAAAAAMtQQAAAAABYhgICAAAAwDIUEAAAAACWoYAAAAAAsAwFBAAAAIBlKCAAAAAALEMBAQAAAGAZCggAAAAAy1BAAAAAAFiGAgIAAADAMhQQAAAAAJahgAAAAACwDAUEAAAAgGUoIAAAAAAsQwEBAAAAYBkKCAAAAADLUEAAAAAAWIYCAgAAAMAyFBAAAAAAlqGAAAAAALAMBQQAAACAZSggAAAAACxDAQEAAABgGQoIAAAAAMtQQAAAAABYhgICAAAAwDIUEAAAAACWoYAAAAAAsAwFBAAAAIBlKCAAAAAALEMBAQAAAGAZCggAAAAAy1BAAAAAAFiGAgIAAADAMhQQAAAAAJahgAAAAACwDAUEAAAAgGUoIAAAAAAsQwEBAAAAYBkKCAAAAADLUEAAAAAAWIYCAgAAAMAyFBAAAAAAlqGAAAAAALAMBQQAAACAZSggAAAAACxDAQEAAABgGQoIAAAAAMtQQAAAAABYhgICAAAAwDIUEAAAAACWoYAAAAAAsAwFBAAAAIBlKCAAAAAALEMBAQAAAGAZCggAAAAAy1BAAAAAAFiGAgIAAADAMhQQAAAAAJahgAAAAACwDAUEAAAAgGXC7A4Ap7y8PB06dEi1atWSw+GwOw4AAACKMAxD6enpio+PV0gIv8uvDAqIHzl06JASEhLsjgEAAIByJCcnq0mTJnbHqJIoIH6kVq1akswDOjo62uY0AAAAKCotLU0JCQkF522oOAqIH8m/7So6OpoCAgAA4Me4Xb7yuHENAAAAgGUoIAAAAAAsQwEBAAAAYBkKCAAAAADLUEAAAAAAWIYCAgAAAMAyFBAAAAAAlqGAAAAAALAMBQQAAACAZSggAAAAACxDAQEAAABgGQpIoDqVIf1xRMrOsjsJAAAAUCDM7gDwotxcafl70qJZ0s+rzHVh1aRul0vD7pDad7c1HgAAAMAVkECRfVqadrk04zpn+ZCkMznSivelO3tI8x6xLR4AAAAgUUACx7O3SGsXl73P3KnSl69bEgcAAAAoCQUkEBzcKS2Z696+b04zb9UCAAAAbEABCQSf/9f9fY/ukzYu8V0WAAAAoAwUkECwd4tv9wcAAAC8hAICAAAAwDIUkEDQ7Bzf7g8AAAB4CQUkEFw61v19GzSVzr/Ed1kAAACAMlBAAkHjltIlo93bd9Q0KTTUp3EAAACA0lBAAsUds6Uufy17nxsekfrfYEkcAAAAoCQUEDetWLFCgwcPVnx8vBwOhxYuXFhsn23btmnIkCGKiYlRVFSULrjgAu3fv9+agOGR0rSF0pS3pXbdim+f+r507X3WZAEAAABKQQFxU2Zmps4991zNmjWrxO2//vqrevTooTZt2mjZsmX68ccfNXXqVEVGRloXMjRUSrpGemalNPxu122RNa3LAQAAAJQizO4AVcXAgQM1cODAUrffd999uuyyyzRz5syCdS1atLAiWsmad3BdPrBduuBSe7IAAAAAf+IKiBfk5eXpk08+UatWrTRgwADFxcWpS5cuJd6mZZmENq7Lyb/YkwMAAAAohALiBSkpKcrIyNCMGTN06aWX6ssvv9SwYcN0xRVXaPny5aW+LysrS2lpaS4vr2nS2nWZAgIAAAA/wC1YXpCXlydJGjp0qO68805J0nnnnadVq1Zp9uzZ6tWrV4nvmz59uh566CHfhIqKlmIbSX8cNpeTt/vm5wAAAAAVwBUQL6hXr57CwsLUrl07l/Vt27YtcxasKVOmKDU1teCVnJzs3WCFb8P647CUmerdzwcAAAAqiALiBeHh4brgggu0fbvrVYYdO3aoadOmpb4vIiJC0dHRLi+vKjYOhKsgAAAAsBe3YLkpIyNDu3btKljes2ePNm/erNjYWCUmJuruu+/WyJEj1bNnTyUlJenzzz/Xxx9/rGXLltkXOqHIOJAD26U2F9qTBQAAABAFxG0bNmxQUlJSwfLEiRMlSaNHj9brr7+uYcOGafbs2Zo+fbrGjx+v1q1b63//+5969OhhV2RmwgIAAIDfcRiGYdgdAqa0tDTFxMQoNTXVO7djHd0njWrmXO5xhfTA/zz/XAAAgCDl9fO1IMQYkEBWP0GKqO5c5goIAAAAbEYBCWQhIVLjVs7lQ7uk3DP25QEAAEDQo4AEusLjQHKypSN7bYsCAAAAUEACHQPRAQAA4EcoIIGupKl4AQAAAJtQQAIdV0AAAADgRyggga7wIHSJAgIAAABbUUACXfUoczrefMncggUAAAD7UECCQeHbsFJ/k9J+ty8LAAAAghoFJBgUGwfCVRAAAADYgwISDJgJCwAAAH6CAhIMmAkLAAAAfoICEgwoIAAAAPATFJBgUDdeql7TuUwBAQAAgE0oIMHA4ZCaFBoHcni3dCbHvjwAAAAIWhSQYFH4NqzcM9KhX+3LAgAAgKBFAQkWjAMBAACAH6CABAum4gUAAIAfoIAEC66AAAAAwA9QQIJF45bmYPR8FBAAAADYgAISLMIjpQbNnMsHtkuGYVscAAAABCcKSDApfBtW+nHpxG/2ZQEAAEBQooAEE8aBAAAAwGYUkGDShJmwAAAAYC8KSDBJ5AoIAAAA7EUBCSbcggUAAACbUUCCSe04KSrGuUwBAQAAgMUoIMHE4XC9CnJ0r5R92rY4AAAACD4UkGBTuIDk5UkHd9mXBQAAAEGHAhJsGAcCAAAAG1FAgg1T8QIAAMBGFJBgw1S8AAAAsBEFJNg0aiGFhDqXKSAAAACwEAUk2FQLlxqd5Vw+sF0yDPvyAAAAIKhQQIJR4YHoJ9OlPw7blwUAAABBhQISjIrOhLWf27AAAABgDQpIMGImLAAAANiEAhKMmAkLAAAANqGABCMeRggAAACbUECCUXRd85WPAgIAAACLUECCVeGrICn7pdMn7csCAACAoEEBCVZFb8M6uMOeHAAAAAgqFJBgxVS8AAAAsAEFJFgxFS8AAABsQAEJVkzFCwAAABtQQIJVw+ZSWDXnMgUEAAAAFqCABKvQMCn+bOfygR1SXp59eQAAABAUKCDBrPBA9KyT0rED9mUBAABAUKCABDNmwgIAAIDFKCDBjJmwAAAAYDEKSDAregWEgegAAADwMQpIMEsocgWEAgIAAAAfo4AEs5q1pdiGzmUKCAAAAHyMAhLsCo8D+f2QdDLdviwAAAAIeBSQYFd0HAgD0QEAAOBDFJBgx1S8AAAAsBAFJNgxFS8AAAAsRAEJdkzFCwAAAAtRQIJdXKIUHulcpoAAAADAhyggwS40VGrc0rl8cKeUm2tfHgAAAAQ0CoibVqxYocGDBys+Pl4Oh0MLFy4sdd9bbrlFDodDzzzzjGX5PFL4NqycLClln31ZAAAAENAoIG7KzMzUueeeq1mzZpW534IFC7RmzRrFx8dblMwLGAcCAAAAi4TZHaCqGDhwoAYOHFjmPgcPHtTtt9+uL774QoMGDbIomRcUnQkrebt04WX2ZAEAAEBA4wqIl+Tl5WnUqFG6++671b59e7vjVAxXQAAAAGARroB4yeOPP66wsDCNHz/e7fdkZWUpKyurYDktLc0X0cqXUPQKCAUEAAAAvsEVEC/4/vvv9eyzz+r111+Xw+Fw+33Tp09XTExMwSshIcGHKctQvaZUr4lzmQICAAAAH6GAeMG3336rlJQUJSYmKiwsTGFhYdq3b5/uuusuNWvWrNT3TZkyRampqQWv5ORk60IXVfgqyIkUKf24fVkAAAAQsLgFywtGjRqlfv36uawbMGCARo0apTFjxpT6voiICEVERPg6nnsS2kibvnYuH9gutb3IvjwAAAAISBQQN2VkZGjXrl0Fy3v27NHmzZsVGxurxMRE1a1b12X/atWqqWHDhmrdunXRj/JPJQ1Ep4AAAADAyyggbtqwYYOSkpIKlidOnChJGj16tF5//XWbUnlRSVPxAgAAAF5GAXFT7969ZRiG2/vv3bvXd2F8gal4AQAAYAEGocNUr7EUGeVcpoAAAADAByggMIWESE1aOZcP/yqdybEvDwAAAAISBQROhW/DOpMjHdljXxYAAAAEJAoInBgHAgAAAB+jgMCJmbAAAADgYxQQOHEFBAAAAD5GAYFT45aSw+FcpoAAAADAyyggcIqsIcU1dS5TQAAAAOBlFBC4Sig0DiT9Dyn1mH1ZAAAAEHAoIHDFOBAAAAD4EAUEriggAAAA8CEKCFwxFS8AAAB8iAICV1wBAQAAgA9RQOAqtqFUI9q5TAEBAACAF1FA4MrhcJ0J68geKTvLvjwAAAAIKBQQFFf4Nqy8XOnwr/ZlAQAAQEChgKA4xoEAAADARyggKI6ZsAAAAOAjFBAUxxUQAAAA+AgFBMXFny2FFDo0KCAAAADwEgoIiguPkBqe5VxO/kUyDPvyAAAAIGBQQFCywlPxnkyTjh+1LwsAAAACBgUEJWMcCAAAAHyAAoKSUUAAAADgAxQQlIypeAEAAOADFBCUjCsgAAAA8AEKCEoWU0+qFetcpoAAAADACyggKJnD4ToTVso+KeuUfXkAAAAQECggKF3h27AMQzq4074sAAAACAgUEJSOcSAAAADwMgoISsdMWAAAAPAyCghKxxUQAAAAeBkFBKVrdJYUGuZcpoAAAADAQxQQlC6smhR/tnP5wHZzMDoAAABQSRQQlK3wOJDTmdKxg/ZlAQAAQJVHAUHZEhkHAgAAAO+hgKBsDEQHAACAF1FAULaiU/EeYCpeAAAAVB4FBGUrWkD2cwUEAAAAlUcBQdmiY6Xacc5lbsECAACAByggKF/hqyDHDkinMuzLAgAAgCqNAoLyFR2IfmCHPTkAAABQ5VFAUD5mwgIAAICXUEBQvgRmwgIAAIB3UEBQPq6AAAAAwEsoIChfg2ZStXDnMgUEAAAAlUQBQflCQ6XGrZzLB3ZIeXn25QEAAECVRQGBewpPxZt9WkrZb18WAAAAVFkUELiHcSAAAADwAgoI3EMBAQAAgBdQQOAepuIFAACAF1BA4J4mRQoIV0AAAABQCRQQuCcqWqob71ymgAAAAKASKCBwX+GrIH8ckTJT7csCAACAKokCAvcVG4jOOBAAAABUDAUE7mMmLAAAAHiIAgL3MRMWAAAAPEQBgfu4AgIAAAAPUUDgvvoJUkR15zIFBAAAABVEAYH7QkJcZ8I6uFPKPWNfHgAAAFQ5FBA3rVixQoMHD1Z8fLwcDocWLlxYsC0nJ0eTJk1Shw4dFBUVpfj4eF1//fU6dOiQfYF9pXABOZMjHdlrWxQAAABUPRQQN2VmZurcc8/VrFmzim07efKkNm7cqKlTp2rjxo368MMPtX37dg0ZMsSGpD7GOBAAAAB4IMzuAFXFwIEDNXDgwBK3xcTEaMmSJS7r/vOf/+jCCy/U/v37lZiYaEVEa5RUQC76qz1ZAAAAUOVwBcRHUlNT5XA4VLt2bbujeBdT8QIAAMADXAHxgdOnT2vSpEm65pprFB0dXep+WVlZysrKKlhOS0uzIp5nGrdyXeYWLAAAAFQAV0C8LCcnRyNGjJBhGHrxxRfL3Hf69OmKiYkpeCUkJFiU0gPVo6S4QreUUUAAAABQARQQL8ovH/v27dOSJUvKvPohSVOmTFFqamrBKzk52aKkHio8E1bqMSntd/uyAAAAoEqhgHhJfvnYuXOnvvrqK9WtW7fc90RERCg6OtrlVSUUG4jOOBAAAAC4hzEgbsrIyNCuXbsKlvfs2aPNmzcrNjZWjRo10lVXXaWNGzdq8eLFys3N1ZEjRyRJsbGxCg8Ptyu2b5Q0E1b7bvZkAQAAQJVCAXHThg0blJSUVLA8ceJESdLo0aM1bdo0LVq0SJJ03nnnubxv6dKl6t27t1UxrVG0gDATFgAAANxEAXFT7969ZRhGqdvL2hZwik7Fy0B0AAAAuIkxIKi4uvFS9ZrOZQoIAAAA3EQBQcU5HK63YR36VcrJti8PAAAAqgwKCCqn8FS8ebnS4d32ZQEAAECVQQFB5ZQ0ExYAAABQDgoIKocCAgAAgEqggKByis6ExVS8AAAAcAMFBJXTuKU5GD0fV0AAAADgBgoIKic8UmrY3Lmc/IsUTM9CAQAAQKVQQFB5hWfCyjghnfjNtigAAACoGiggqDwGogMAAKCCKCCoPAoIAAAAKogCgsorWkCYCQsAAADloICg8opOxcsVEAAAAJSDAoLKqx0n1aztXKaAAAAAoBwUEFSew+F6G9aRPVL2afvyAAAAwO9RQOCZwlPxGoZ0cJd9WQAAAOD3KCDwDDNhAQAAoAIoIPAMBQQAAAAVQAGBZ4rOhMVUvAAAACgDBQSeadRCCgl1LnMFBAAAAGWggMAz1cKl+BbO5eRfzMHoAAAAQAkoIPBc4ZmwTmVIfxy2LwsAAAD8GgUEnis6EH0/t2EBAACgZBQQeI6ZsAAAAOAmCgg8V7SAMBMWAAAASkEBgeeKTsXLFRAAAACUggICz0XXlWLqOZcpIAAAACgFBQTeUfg2rJT90qlM+7IAAADAb1FA4B1NityGdWinPTkAAADg1ygg8A6m4gUAAIAbKCDwDqbiBQAAgBsoIPCOojNhMRUvAAAASkABgXc0bC6FVXMucwUEAAAAJQj4AmIYho4dO6bff//d7iiBLTRMatzSuXxgu5SXZ18eAAAA+KWALSBHjhzR9ddfrzp16qhBgwaKi4tTnTp1dOONN+ro0aN2xwtMhWfCyjolHTtgXxYAAAD4pTC7A/hCWlqaunXrpoyMDI0ZM0Zt2rSRYRj6+eef9c477+i7777Txo0bVbNmTbujBpaSZsKKS7QnCwAAAPxSQBaQZ599VqGhodq6davq16/vsu3+++9X9+7d9dxzz+nee++1KWGAKmkmrM797ckCAAAAvxSQt2B98sknuvfee4uVD0mKi4vTlClT9PHHH9uQLMAVLSDMhAUAAIAiArKA7NixQ926dSt1e7du3bR9OyfHXld0Kl5mwgIAAEARAVlA0tLSVLt27VK3165dW2lpadYFChZRMVJsQ+cyBQQAAABFBGQBMQxDISGl/9McDocMw7AwURApfBvW74ekTIoeAAAAnAJyELphGGrVqpUcDkep2+EjTVpLPyxzLh/cIbXqbFscAAAA+JeALCBz5syxO0LwKmkqXgoIAAAA/hSQBWT06NF2RwheJU3FCwAAAPwpIAtISU6fPq333ntPmZmZuuSSS9SyZUu7IwWmJkVmwmIqXgAAABQSkAVk4sSJysnJ0fPPPy9Jys7OVteuXbV161bVqFFD99xzj5YsWaKuXbvanDQAxSVK4ZFS9mlzmSsgAAAAKCQgZ8H68ssvdckllxQsz5s3T/v27dPOnTt1/PhxDR8+XI888oiNCQNYaKjUpJVz+eBOKTfXvjwAAADwKwFZQPbv36927doVLH/55Ze66qqr1LRpUzkcDt1xxx3atGmTjQkDXOHbsHKypJR99mUBAACAXwnIAhISEuIy1e6aNWt00UUXFSzXrl1bx48ftyNacGAgOgAAAEoRkAWkbdu2+vjjjyVJW7du1f79+5WUlFSwfd++fWrQoIFd8QJfSVPxAgAAAArQQej33HOPrr76an3yySfaunWrLrvsMjVv3rxg+6effqoLL7zQxoQBrmgBYSYsAAAA/Ckgr4AMGzZMn376qTp27Kg777xT7733nsv2GjVq6B//+IdN6YJA4UHoErdgAQAAoIDDKDxYArZKS0tTTEyMUlNTFR0dbXccz1ybIB07YP69dpw0/6i9eQAAALwgoM7XbBKQV0COHTumfftcZ17aunWrxowZoxEjRujtt9+2KVkQKXwb1okUKZ1B/wAAAAjQAnL77bfrueeeK1hOSUnRxRdfrPXr1ysrK0s33HCD3nzzTRsTBoEEnogOAACA4gKygKxZs0ZDhgwpWH7jjTcUGxurzZs366OPPtJjjz2mWbNm2ZgwCDAVLwAAAEoQkAXkyJEjatasWcHyN998oyuuuEJhYeakX0OGDNHOnTttShckKCAAAAAoQUAWkOjoaJ04caJged26derSpUvBssPhUFZWlg3JgkiTIrdgJXMLFgAAAAK0gFx00UV67rnnlJeXpw8++EDp6enq06dPwfYdO3YoISHBxoRBoF5jKTLKucwVEAAAAChAC8jDDz+sRYsWqXr16ho5cqTuvvtu1alTp2D7u+++q169etmYMAiEhLheBTm0SzqTY18eAAAA+IWALCDR0dHatm2b5s+fr1WrVumRRx5x2X711Vdr0qRJFfrMFStWaPDgwYqPj5fD4dDChQtdthuGoQceeECNGjVS9erV1a9fP8aZFJ4JK/eMdGSPfVkAAADgFwKygLRo0UIXXHCBPvroI+3YsUMHDhxw2T5o0CA1b968Qp+ZmZmpc889t9TZs2bOnKnnnntOs2fP1tq1axUVFaUBAwbo9OnTlf53VHkMRAcAAEARYXYH8IVvvvlGy5Yt07Jly/TOO+8oOztbZ511lvr06aOkpCQlJSWpQYMGFfrMgQMHauDAgSVuMwxDzzzzjO6//34NHTpUkjn1b4MGDbRw4UJdffXVHv+bqqSSCkjXISXvCwAAgKAQkAWkd+/e6t27tyTp9OnTWrVqVUEhmTt3rnJyctSmTRtt3brVKz9vz549OnLkiPr161ewLiYmRl26dNHq1aspIPmYCQsAACDoBWQBKSwyMlJ9+vRRjx49lJSUpM8++0wvvfSSfvnFe7cDHTlyRJKKXVVp0KBBwbaSZGVluUwHnJaW5rVMfqFxS8nhkAzDXOYWLAAAgKAXkGNAJCk7O1srVqzQQw89pKSkJNWuXVu33HKLjh8/rv/85z/as8f+AdHTp09XTExMwSvgpgaOqC7FNXUuJ29zlhEAAAAEpYC8AtKnTx+tXbtWzZs3V69evXTzzTfr7bffVqNGjXzy8xo2bChJOnr0qMvPOHr0qM4777xS3zdlyhRNnDixYDktLS3wSkhCG+noXvPv6cel1GNS7fq2RgIAAIB9AvIKyLfffqu6deuqT58+6tu3ry655BKflQ9Jat68uRo2bKivv/66YF1aWprWrl2rrl27lvq+iIgIRUdHu7wCTkKRJ6IfYBwIAABAMAvIAnLixAm9/PLLqlGjhh5//HHFx8erQ4cOuu222/TBBx/ot99+q/BnZmRkaPPmzdq8ebMkc+D55s2btX//fjkcDk2YMEGPPPKIFi1apJ9++knXX3+94uPjdfnll3v3H1fVMBUvAAAACgnIW7CioqJ06aWX6tJLL5Ukpaen67vvvtPSpUs1c+ZMXXfddWrZsqW2bNni9mdu2LBBSUlJBcv5t06NHj1ar7/+uu655x5lZmbqpptu0okTJ9SjRw99/vnnioyM9O4/rqqhgAAAAKCQgCwgRUVFRSk2NlaxsbGqU6eOwsLCtG3btgp9Ru/evWWUMYDa4XDo4Ycf1sMPP+xp3MDSpMgtWEzFCwAAENQCsoDk5eVpw4YNWrZsmZYuXaqVK1cqMzNTjRs3VlJSkmbNmuVyNQM+FNtQqhEtnfxzimGugAAAAAS1gCwgtWvXVmZmpho2bKikpCQ9/fTT6t27t1q0aGF3tODjcJi3YW1fZy4f2S1lZ0nhEfbmAgAAgC0CsoD8+9//VlJSklq1amV3FEjmTFj5BSQvTzr8q9S0nb2ZAAAAYIuALCA333yz3RFQWEkD0SkgAAAAQSkgp+GFn2EmLAAAAPyJAgLfK1ZAmAkLAAAgWFFA4HuNWkghhQ41roAAAAAELQoIfC88Qmp4lnM5+RepjGeqAAAAIHBRQGCNwrdhnUyT/jhiXxYAAADYhgICayQUeSL6AcaBAAAABCMKCKzBTFgAAAAQBQRWoYAAAABAFBBYpUmRW7CYihcAACAoUUBgjZh6Uq1Y5zJXQAAAAIISBQTWcDhcb8NK2Sed+M2+PAAAALAFBQTWOH5UOpXuXDYM6dp46fFR0q8/2JcLAAAAlqKAwPf2/Sz943xpz0+u68+ckb5+Sxp/obTifXuyAQAAwFIUEPjWyXTpvoHS74dK3ycnW5pxnbTje+tyAQAAwBYUEPjWV29IKfvL3+9MjjT/cd/nAQAAgK0oIPCtz//r/r4rF0hpv/suCwAAAGxHAYFvVeR5H7lnpMO7fZcFAAAAtqOAwLdCKniIOTgkAQAAAhlne/CtFp3c3zeihtSkle+yAAAAwHYUEPjWoJvd37f31VKNWr7LAgAAANtRQOBbPYdLZ5/v3r4ZJ8wHFAIAACBgUUDgW9XCpUc+kVqcV/6+Kz+U3p3h80gAAACwDwUEvhfbUHp2tTTxv1LrC5wD0+OaSi3/4rrvnHt5KjoAAEAAcxgG97z4i7S0NMXExCg1NVXR0dF2x/GdvDzJyJNCw8wHEN43UNr0tXN7eKT072VS2y62RQQAAChJ0Jyv+RBXQGC9kBCzfEhSWDVp6gdSQhvn9uzT0rSh0tF99uQDAACAz1BAYL+atc1xIjH1nOuOH5Wm/lXKTLMtFgAAALyPAgL/0OgsadpCc9B6vr1bpEdHmk9IBwAAQECggMB/tO8u3TXHdd2Gz6XZd9qTBwAAAF5HAYF/6XOt9LcHXdd99B9p4fP25AEAAIBXUUDgf0Y9KCVd47pu9gRp7Se2xAEAAID3UEDgfxwO6a7XpHbdnOvy8qTHrpZ2/2hfLgAAAHiMAgL/FB5pDkpv2Ny57lSGOTPW74dtiwUAAADPUEDgv2rXl/61WIqKca77LVl6cIh0+qR9uQAAAFBpFBD4t6btzAcVhoQ61+3YIM0cZd6WBQAAgCqFAgL/d34/afyLruu++1Cac589eQAAAFBpFBBUDZf9XbrqLtd1782QPn/NnjwAAACoFAoIqo6xj0tdh7que/ZmafNSe/IAAACgwiggqDpCQ6XJ86SzOznX5Z6R/nWllLzdvlwAAABwGwUEVUv1KOnhj6W68c516celqYOk1GP25QIAAIBbKCCoeuo1NqfnjajhXHfoV+mhK6TsLPtyAQAAoFwUEFRNZ3eS7n3HfGp6vi3fSs/cJBmGfbkAAABQJgoIqq6uQ6S/P+G67qs3pHcesycPAAAAykUBQdV25Z3SoJtd171+v7R8vj15AAAAUCYKCKo2h0Ma97x0/iWu62deL21bY08mAAAAlIoCgqovrJp0/3wpsa1zXU6W9OBQ6che22IBAACgOAoIAkPN2tK/PpFi6jvXnUiRpv5Vyky1LRYAAABcUUAQOBo1l6YtlKpFONft2yo9OtJ8YCEAAABsRwFBYGnfTfrnHNd1G76QZo1nel4AAAA/QAFB4Em6Rrr+Idd1i1+UFj5nTx4AAAAUoIAgMF03Ver7N9d1L02U1iy2Jw8AAAAkUUAQqBwO6c5XpXN6ONfl5UmPXS39+oN9uQAAAIIcBQSBKzxCenCB1Ogs57rTmebMWL8fsi8XAABAEKOAILDF1DOn542Kca47dkB6YIh0KtO+XAAAAEGKAoLAl9hGeuB/UmiYc93O76WZo8zbsgAAAGAZCgiCQ6e+0vgXXdetXCC9NsWePAAAAEGKAoLgMfD/pOF3u66bP1P67FV78gAAAAShsPJ3AQLI2BnSwZ3SqoXOdc/dKtWsIx3dKx361bxVq1VnqedwKaK6XUkBAAACksMweDy0N+Tm5mratGl66623dOTIEcXHx+uGG27Q/fffL4fD4dZnpKWlKSYmRqmpqYqOjvZx4iB2KlO6q6e0a2PZ+9WqI93wqDT4VmtyAQAAv8f5mue4AuIljz/+uF588UXNnTtX7du314YNGzRmzBjFxMRo/PjxdsdDYdWjpH99LN12ofT7wdL3Sz8uPf8PKeO4dM291uUDAAAIYIwB8ZJVq1Zp6NChGjRokJo1a6arrrpK/fv317p16+yOhpLUjZf6jXJv3zn3SXt+8m0eAACAIEEB8ZJu3brp66+/1o4dOyRJP/zwg7777jsNHDiw1PdkZWUpLS3N5QWLGIY5C5a7Pn7Bd1kAAACCCAXESyZPnqyrr75abdq0UbVq1dSpUydNmDBB1113XanvmT59umJiYgpeCQkJFiYOcgd2SAe2u79/4UHrAAAAqDQKiJfMnz9f8+bN09tvv62NGzdq7ty5euKJJzR37txS3zNlyhSlpqYWvJKTky1MHOQyjlds//QK7g8AAIASMQjdS+6+++6CqyCS1KFDB+3bt0/Tp0/X6NGjS3xPRESEIiIirIyJfDXrVGz/WhXcHwAAACXiCoiXnDx5UiEhrv85Q0NDlZeXZ1MilKlJKymhjfv7t+rsuywAAABBhALiJYMHD9ajjz6qTz75RHv37tWCBQv01FNPadiwYXZHQ0kcDmno7e7vv+4zafFLvssDAAAQJHgQoZekp6dr6tSpWrBggVJSUhQfH69rrrlGDzzwgMLDw936DB5sY7HcM9KDQ6V1n7r/nsvHSzc/aT4tHQAABB3O1zxHAfEjHNA2yM6SXr5L+uwVKSfbdVtUjOQIKT5gvfMA6b73zO0AACCocL7mOQqIH+GAttHxFOmbedKhXebVjdYXShdfKWWckKZdLv2y1nX/xLbSwx9L8S3sSAsAAGzC+ZrnKCB+hAPaT2Wdkp4aKy19x3V9rVjpwQ+ljr3syQUAACzH+ZrnGIQOlCeiujR5njT6X67r0/+QJl8iff6aPbkAAACqIAoI4A6HQ7rufun+981Cku9Mjnl15OW7pdxc+/IBAABUERQQoCJ6XiU9uUKqG++6/oMnzLEiJ9NtiQUAAFBVUECAimrVWXp+ndTyL67r1y6WJnSTjuy1JRYAAEBVQAEBKqNeY/NKyMVXua7fu0W6/UJp60p7cgEAAPg5CghQWZE1zOeB/O0B1/Wpv0n39JG+etOeXAAAAH6MAgJ4IiREuv4hacrbUrUI5/qcbGnm9dJr90p5efblAwAA8DMUEMAbkq6Rnlgu1Wnguv7d6dLDV0qnMuzJBQAA4GcoIIC3tO1iDk4/61zX9asWShMvllKSbYkFAADgTygggDfFJUpPfyd1Heq6/tfN0vgLpV/W2RILAADAX1BAAG+rXlN68ENp5GTX9X8ckf7ZS1r6rj25AAAA/AAFBPCFkBBp7HTp7rlStXDn+uzT0vRrpDceZHA6AAAIShQQwJcuuV6a+Y0UU991/VsPm0Xk9El7cgEAANiEAgL4Wvvu5uD0Zue4rl8+37wl6/dD9uQCAACwAQUEsELDZtLTK6Uug1zX79gg3XaBtON7W2IBAABYjQICWCUqWpr2kXTlRNf1vx+S7rpYWvGBPbkAAAAsRAEBrBQaKt38pHTnK1JomHN91inpkeHSvEckw7AvHwAAgI9RQAA7DPw/acYSqVas6/q5U6UZfzNnywIAAAhAFBDALuf2lp5bKyW0cV2/9G3pn73N54bkO/GbtHerlLKfKyQAAKBKcxgGZzP+Ii0tTTExMUpNTVV0dLTdcWCVjBPSoyOl7790XV8/Qbrqn9KqhdIPS53rE9pIg/8hXXaTFB5hZVIAAIIe52ueo4D4EQ7oIJZ7Rpo9Ufroefff06Gn9K/FUo1avssFAABccL7mOW7BAvxBaJg07jnp9hekkFD33vPTCumJMb7NBQAA4GUUEMCfDL7VvKrhcLi3/3f/M8eGAAAAVBEUEMDfnMmu2EDzz//ruywAAABeRgEB/E3y9gru/4tvcgAAAPgABQTwNyEV/Fpu+U764CnpeIpv8gAAAHgRBQTwNy06VWz/U+nSy3dJ1zaWHrpCWrPYnFULAADAD1FAAH9zbm+pccuKvy/3jLRygfTAYOm6ROm/U6QDO7weDwAAwBMUEMDfhIRIYx5zb9+Y+iWv/+Ow9N4M6cbW0sSLpS/mSKcyvJcRAACgkigggD/qedWfzwQp4yvab5T07iHphY3S0NulWnVK3m/Ld9KTN0ojG0pPjpW2rqzYLFsAAABexJPQ/QhP1kQxe7ZIH8+Slr8npR+XqkVIf+kvDRln/ln4eSHZp6VVH0lfvCZtXFJ2yWjSWrr0RqnvKKluI9//OwAACBCcr3mOAuJHOKBRpjM55hPT3XlIYcp+6cu50pdzpCN7St8vJFS68DJpwI1Sl0FSWDXv5QUAIABxvuY5Cogf4YCG1+XlST8uNx9W+N3/zKskpakdZ97WNeBGqWk76zICAFCFcL7mOQqIH+GAhk9lnJCWvWveorV9fdn7tr3ILCK9RkpRZRyLpzKkX9ZKJ9Ol2IZSqwuk0FCvxgYAwJ9wvuY5Cogf4YCGZfb8ZM6M9fWbUuqx0veLqC5dPNwcL9Khp/P2r7TfpTcfkpbMlU6mOfdv0FQaOl4aNt68XQwAgADD+ZrnKCB+hAMalsvJltYuNq+KrP/MvGWrNPEtzKsif+kvTb9WOriz9H27XS7dP58xJQCAgMP5mucoIH6EAxq2OnZQWvKGWUYO7fL88665TxrziOefAwCAH+F8zXMUED/CAQ2/YBjms0O+eE1aPl/KOlm5z4mKkd4+KFWP8m4+AABsxPma53gQIQBXDofU4WLpn3Ok945Id74qtetW8c/JTJXWfOz9fAAAoEqjgAAoXY1a0sCx0jMrpVd/lho0r9j7f93km1wAAKDKooAAcE9iW+msjhV7z/yZ0rjO5p+Hy3ggIgAACBoUEADua9+94u/Z+b306iRp9FnS7RdK7z8hHd3n/WwAAKBKYBC6H2FQE/xe6jHp2iZSTpbnn9X2IqnnCOniq6S4BM8/DwAAC3C+5jmugABwX0w96fqHyt8vNEy6dKzUvEPp+2xbI700UfpbojShu7TgWXMqYAAAENC4AuJHaNSoEgxDmveI9OaD5t+LqhEt3fuOdOFl5vK+n6UV70vL35P2byv7sx0OqX0PqdcIqceVUt1G3s8PAIAHOF/zHAXEj3BAo0o5uFNaPFv6/kvpVLpUu4HUa6TU/wYpOrbk9+zdKq2YLy17TzqwvezPdzikDj3/vE3rSqlOA6//EwAAqCjO1zxHAfEjHNAIGoYh7fnJfNDh8vfKf/J6SIjUsbdZRnpcIdWuX/7PSD8u7d0i5Z6R4ltIcYleie6Rwg95PLTLvFWt1QXSZTdJjc+2Ox0AwA2cr3mOAuJHOKARlAxD2v2Ds4wc3l32/iGh0rlJUu+RUvdhUnRd1+0Hd5q3iC1/z3WwfKe+0tVTzD/tcPyo9K/h0pZvS97+11ulfzwrhVWzNhcAoEI4X/McBcSPcEAj6BmGtHOjeZvW8vnS0b1l7x8SKp3fz7wy0u1y6eAO6d5Lzaewl8ThkG6bJQ2+1dvJy5aZJt3Z3bwiU5ZLRptPoHc4rMkFAKgwztc8RwHxIxzQQCGGIW1f7ywjvyWXvX9omHnifian7P0cDunfS6WOvbyXtTxvTJPecmP2MEl6Ypm12QAAFcL5mucoIH6EAxooRV6etH2dWURWzPd8ut7zkqQ7X5Xycs0xIrm5zr/nlfH3XDf2KfqZOVnS/MelUxnuZes5XLp/vmf/PgCAz3C+5jkKiB/hgAbckJcnbVv9Zxl5X/rjsN2JvCu6rvTBMbtTAABKwfma53gQIYCqJSREat/dHLD99gHpyRXS0NvsTuU9pzPtTgAAgE9RQABUXSEhUoeLpXHPS9Vr2Z3GO0KrSSd+szsFAAA+E2Z3AADwinZdzYciuiOsmvnQxPBIcyatkFBzEHvRv4eWsa3YfmGl7//SXdL+n93LdipdurGVNGqaNPgfTMsLAAg4FBAAgWHQLe4XkPxnbljlVIb0yHD39884Ib04wXzS/K3PSJ0H+CgYAADW4xYsAIGh6xDpvD7l7xfbSBo5yfd5Crv4SmnYhLL3cTgkR5H/S07+xXyuydTB0oEdPosHAICVKCAAAkNoqPTgh1KnfqXv06Cp9PhXUt1463JJZrm45Slp/ItmhqLaXiTN/EZ6cZN0bu/i29culm46R3r57tIfsggAQBXBNLxedPDgQU2aNEmfffaZTp48qbPPPltz5sxR586d3Xo/07oBXpCXJ234Qvpktvkgw9wzUuOzpQE3Sr2vkapH2ZsvN1f6Yal0aJc5PqRVZ6nFec7thiGtXGCOGynpSfC146Qxj0n9bzBLFwDAUpyveY4C4iXHjx9Xp06dlJSUpFtvvVX169fXzp071aJFC7Vo0cKtz+CABlAg+7T0v6ektx+Vsk4W3372+eY4lnN6WJ8NAIIY52ueo4B4yeTJk7Vy5Up9++23lf4MDmgAxRw7KL02RfrqzZK3975a+r+ZUlyCtbkAIEhxvuY5xoB4yaJFi9S5c2cNHz5ccXFx6tSpk1555ZUy35OVlaW0tDSXFwC4qNdYuucN6dnVUusLi29f9q40trX05kPS6RKulAAA4GcoIF6ye/duvfjii2rZsqW++OIL3XrrrRo/frzmzp1b6numT5+umJiYgldCAr/BBFCKtheZJeSfr0uxDV23ZZ2S3pwmjW0jLXvPHEcCAICf4hYsLwkPD1fnzp21atWqgnXjx4/X+vXrtXr16hLfk5WVpaysrILltLQ0JSQkcEkPQNlOpkvvPCZ9+JSUk118+zkXm+NDzu5kfTYACHDcguU5roB4SaNGjdSuXTuXdW3bttX+/ftLfU9ERISio6NdXgBQrhq1pLHTpVd+lrpdXnz7lm+lcX+Rnr5JOp5ieTwAAMpCAfGS7t27a/v27S7rduzYoaZNS5jzHwC8Ib6FNG2BNGOJ1LS96zbDkD57RRrTUvqglCslAADYgALiJXfeeafWrFmjxx57TLt27dLbb7+tl19+WePGjbM7GoBAd34/afZm6bb/SLXquG47mSa9fJd0cwdp3ae2xAMAoDDGgHjR4sWLNWXKFO3cuVPNmzfXxIkT9fe//93t93NPIQCPpf1uDkj/+EUpL7f49gsGSjc/JSW2sTwaAAQCztc8RwHxIxzQALxmzxZp9gRp09fFt4WGSUNvl/72gFSztnN9Trb043Lp+BGpei2pQ08pOtaqxABQJXC+5jkKiB/hgAbgVYYhrV4kvTRROry7+PaYetINj0p9R0nvz5Q+fkE6UWjQeniklHSNuU/dRtblBgA/xvma5yggfoQDGoBPZGdJC56R3n5EOpVRfHv1miWvzxeXKD25QmrApBoAwPma5xiEDgCBLjxCGjlJem2H1P+G4tvLKh+SlLJf+tdVPOAQAOAVFBAACBZ1G0n/nCM9v858snpF7Ngg/fStb3IBAIIKBQQAgk3rC6RnVkl/vbVi71v4LM8TAQB4LMzuAAAAGzgcFR/T8d2H0pAoqUkrqdk55sMPm51jvhq1kEJDfZMVABBQKCAAEKzCIyv+ntwz0r6fzVdh1SKkxLbOUpL/Z4OmUoiHF9vTj0tL5kobvpBOpUt1Gkq9RkjdLpeqhXv22QAAy1FAACBYdezlvc/KyZJ+3Wy+CouMkpq2cy0lTdtL9RqbV2HK88Uc6T+3SVknXdd/9z9zdq6pH5i3lAEAqgym4fUjTOsGwHITukk/ry5/v9AwqccV0sGd5tWPnCzPfm5UTPFS0uwcqU6cc58v50pP3FD259SoJT29UmrewbM8AOAmztc8RwHxIxzQACz3yzrpn72k7NNl7zfueWnobebfc3Olw79Ke7dKe7dI+/7888B28xYtT8TUM4tI41bmbVfuFJ1ze0v/XurZzwUAN3G+5jkKiB/hgAZgix+WSY8Ml1KPFd8WGib930zpyjvL/5ycbPMKSeFSsm+rdGiXlJfn9dguXtlq3uoFAD7G+ZrnKCB+hAMagG1OZUjfvC2tmC8dP2re2nT+JdJlN5njNTyRdcq8OrJni7Rvi/PKydG9XokuSbpyojTmMfOhiwDgQ5yveY4C4kc4oAEElVMZ5niSoldMjh2s3OdVi5BadZbadpXadZPadZViG3o3M4Cgx/ma5yggfoQDGgBkTrs74zpp/Weef1bD5s4y0q6bOVg9lAkgAVQe52ue4/+FAQD+pVYdadgE7xSQI3vM1zfzzOXIKKn1hc5S0vYiKbqu5z8nJ1vKyzWfreLO9MIAEMQoIAAA/3N+P3M2rL1byt+3Yy8prqn08ypzwHtZTmdKPyw1X/kS2jivkLTtaj5Q0Z2HJ54+ac7U9clL0u4fzHV146X+Y6Qh/zD/DgAohluw/AiX9ACgkOTt0l09pRMppe/Trps0Y4kUWcNcPp4i/bLGLCM/r5a2ryt/iuGiataW2lzkLCWtL5Siivx/8u+HpCkDSi9IUTHSQ4ukjj0r9rMB+D3O1zxHAfEjHNAAUMThPdLLd0mrP3KdyrdGLWnAWGnMo87yUZKcbPPqxM+rzVKybbWUsr9iGRwOc+xI/hWSlp2l6VdLe34q+301akn/2SA1aVWxnwfAr3G+5jkKiB/hgAaAUqQkS5u/kU6lS3UaSJ0vNU/wK+O3A2YRyS8luzZKZ3K8mzffgBulu/7rm88GYAvO1zxHAfEjHNAAYIPs09LO752F5OdV5rNQvKFahDQ/pfgtXACqLM7XPMcgdABAcAuPlNp3N1+SZBjSkb3OW7Z+XmXexlWZp7nnZEm3nie1OM8c3J7Q9s8/20jVo7z4j6iCsrOk9D+k6jUrfzULQJXEFRA/QqMGAD91KkPavt4sI288ULkyUlT9BLOMFC0mtet7PpVvTra0coH0xWvmzGChYVKrC6S/3mIWLTunCt7ynbTgWWnVQin3jLmuXTdpyDip10gpNNS+bIAbOF/zHAXEj3BAA0AVMK6zecuWr9SKLVJM2ph/Nmjq3vTAh36Vpv5VSv6l5O1dh0qT59lzBWbeI9LcqaVv7/JXaer75lUpwE9xvuY5Cogf4YAGgCpg8WzpuVvd27dmHSnntJR1yvOfG1FdatLavEpSuKA0bimFR5j7nPhNuq1z+TN9dRlkThPsTqHxli/mSE/eWP5+l4yW7n7d53GAyuJ8zXMUED/CAQ0AVcCpTOnmDuYT1stSLVx6bq3UvKP0W7K0f5vzlfyLlLxNSj3meZ6QEKlRC7OY/HFE2rHevff9a7FZRKyQmyuNPsv9KZDn7JQan+3bTEAlcb7mOQqIH+GABoAq4sAOaVI/s1iUpFqEdN97UrehZX9O6jHXUrJ/m1lMju7zfuai6jSQ2nT5czyLYf5pGJJRyp+F95NRfF1Z7z2ZLh074H62kZOksTN88+8GPMT5mucoIH6EAxoAqpDUY9JHz0ufvmxeeZDM26SSrpWunCg1bVf5zz6VKR3Y7iwl+cXk4E7fPbPEn7TrJj25ggHp8Eucr3mOAuJHOKABoArKzZV+P2jO6FQ33rcDqHPPSId3l3w718l03/1cO8TUly68zByY/pf+PEsFfoPzNc9RQPwIBzQAoFIMw3yi+7jOvv05ISGSHOafDofkKOXPwvvJYRanjOOV/7lh1aQOPc0y0uWvjA+BrThf8xwFxI9wQAMAPDK5v7RxiXv7XjtVGn6XszSUWSwcnj07pKKD0MvTpLU5gL7LX6VzepgFJRjs2SLt3GAWukYtpI69rJ3JDJI4X/MGCogf4YAGAHjk+yXSlP7l71eztvTaDvOhh1b58nXpiTHl79euqxRdT9r0lXvTF0fFSJ0HmGXkgoFSTD2Po/qdn76VXpsibV3pur7RWdLVU6RLx9r7cMkgw/ma5yggfoQDGgDgsfn/ll69p/TtkVHSwx9L5yVZlynfO49Jc+4rfftFg6X755vjaLJOST8sldYsltYuLn3GscIcDqltV7OMXPRXqdk5Vf/EfOVC6ZHhzqfGl2T43dLfZ1oWKdhxvuY5Cogf4YAGAHjFqo+kd6dLv6x1rgsJNacFHjVNat7BtmjaulJa+Jy0coFzRq/23aUh46SeI0qe+cowpD0/SWs/McvIttXmuvLEJf45bmSQdG6SOUtZWfLypO+/NF+n0qU6DaVeI+z77/XbAenGVu5dCXrgQ6nHMN9nAudrXkAB8SMc0AAAr9r3s3RolxQaJrU4z5yly1/kZJsD0yNrStWjKvbeE79JGz43y8j6z6WTaeW/J6K61Kmfs5DUa+y6/cfl0lP/Z/73Kuq8PtI/X5fiEiqW01OvT5XefsS9fc+5WHpqhW/zQBLna95AAfEjHNAAAFTQmRxpy3dmGVm72HxIpDvO7uScVSszTXpgkFmKShOXKD2zqnhxqSjDkDJTpfQ/pLTfy/5z8zdSTpb7n/3WPjMnfIrzNc9RQPwIBzQAAB46sMN5q9ZPK8oeO5HPEWI+tb08Pa6UHvjA/LthSKcyyi8R6fnL+X8/LuXlevZvLM1ts6RBN5lXvOAznK95jgLiRzigAQDwosxUczzH2k+kdZ+YT6/3VHxL6VSaWSr88an00XWlrkOk7ldI5/fz7YMxgxTna56jgPgRDmgAAHwkN1fasd45q9buH+xOVD6Hw73B9qWpXtOcmrj7MOnCQcH3NPm8PPO5OMvnSyeOStVrSX/pL/W+uvwJCcrA+ZrnKCB+hAMaAACLpCSbV0XmPiCl/ubbnxUSItWKlWrVlaL//LNWrHm1oqw/f1knTe7nnQzVwqXz+pplpOtQqU6cdz7XX+3dKj06wpyIoahasdKEl6WLr6zUR3O+5jkKiB/hgAYAwGKPXSMte9f9/SOjpNhG5ZeHwn9Wr1W5J5YbhvT4KOmbeWXv16S1dMUEacMX5uxg2afL3j8kRGrX3Swj3YdJDZtVPJs/O7BDuqOreZtcaRwO6b75Us+rKvzxnK95jgLiRzigAQCw2LL3pMeudm9fR4g0b7/nM2FVxJkc6flx0mevlLy9XVfzGSCxDc3lU5nS91+Yz1lZ87E5DqY8Z3eSuv1ZRpq1r/oPb7z3UrOMladWHWneASmyRoU+nvM1z1FA/AgHNAAAFsvJlq5vLv1+qPx9e42Q7nvP95lKsv8X6dOXzXEsuWek+LOlS8dKHXuVXhhysqUflkmrFkirFkp/HCn/5zRu6bwy0vpC96/c5OaaM3+Fhpkn9naVmIM7pTGt3N//zlelgWMr9CM4X/McBcSPcEADAGCDH5dLUwaU/cyNBs2kZ1c7rzRUNXl50rY15pWRVQukQ7+W/5668VK3y80y0rGXFFat+D6Hd5tPtl8yV8o4Ya5rdJY06BZp0M2+G/iemSql7JeO7jP/TPnzz1/WSUd2u/85PYdL98+v0I/mfM1zFBA/wgENAIBNtq40n4Se/EvxbZ0HSHe95l9PkveEYUh7fjLLyMoF7s0IVquO1GWwWUb+0t+8bWnDF9JDV0hZJ0t+T/zZ0owlFR9jkpsrHT9SvFwU/rs7t5a5o/Ol0mOfVegtnK95jgLiRzigAQCwkWFIm5dKG7+UTqZLdRqYvyFPbGt3Mt86vNtZRn5eVf7UvxE1pHbdpJ+Wl/8slCatpRc3uU57e/pk8UJR+O+/Jbv3AElv6DdKuueNCr2F8zXPUUD8CAc0AACw1R9HpNWLpJUfSpu/8c7DFjv1k2rUcpYMbzwQsjTuPtU+378WS10GVehHcL7mOQqIH+GABgAAfiPjhLTuU+m7D6X1n5V+q5WVIqpLcU2lBk2l+olSXKL597hEc329xtKzt0hfvFb+ZzVuKb26TQoNrVAEztc8RwHxIxzQAADAL2WdMp8q/t2H0sqF0kkvjcEoqnacs0zkl4v6hUpGdN3yZ9jKTJXu6lX22JaoGOmJZVKL8yockfM1z1FA/AgHNAAA8Hvb1pgP+quosGpS/YTSy0X9BNexIp7IOCG9NNF8iGNOtuu28/pI456Xmrar1EdzvuY5Cogf4YAGAAB+L+OENLJB8RP70jRtZ86GVadh5Z4I74njKdLqj6QTKVL1muYMXh5OKsD5mufC7A4AAACAKqRmbannCOnrt9zb/8q77JvCuE6cdNnf7fnZKJXFNRQAAABV3sjJ7t0uldBGSrrG93lQpVBAAAAAUDHN2ksPLpAio0rfJ/5s6dHPvDeuAwGDAgIAAICK6zxAeuknadgE87asfPEtpL//W5r1fcWfgo6gwCB0P8KgJgAAUCXl5krpf0ihYWYZKW+q3CqM8zXPMQgdAAAAngkNlWrXtzsFqghuwQIAAABgGQoIAAAAAMtQQAAAAABYhgICAAAAwDIUEB+ZMWOGHA6HJkyYYHcUAAAAwG9QQHxg/fr1eumll9SxY0e7owAAAAB+hQLiZRkZGbruuuv0yiuvqE6dOnbHAQAAAPwKBcTLxo0bp0GDBqlfv37l7puVlaW0tDSXFwAAABDIeBChF7377rvauHGj1q9f79b+06dP10MPPeTjVAAAAID/4AqIlyQnJ+uOO+7QvHnzFBkZ6dZ7pkyZotTU1IJXcnKyj1MCAAAA9nIYhmHYHSIQLFy4UMOGDVNoaGjButzcXDkcDoWEhCgrK8tlW0nS0tIUExOj1NRURUdH+zoyAAAAKojzNc9xC5aX9O3bVz/99JPLujFjxqhNmzaaNGlSueUDAAAACAYUEC+pVauWzjnnHJd1UVFRqlu3brH1pcm/GMVgdAAAAP+Uf57GTUSVRwHxI+np6ZKkhIQEm5MAAACgLOnp6YqJibE7RpXEGBA/kpeXp0OHDqlWrVpyOBwefVZaWpoSEhKUnJzsd/cnkq1y/DWbv+aSyFZZ/prNX3NJZKssf83mr7kkslWWN7MZhqH09HTFx8crJIT5nCqDKyB+JCQkRE2aNPHqZ0ZHR/vd/wnkI1vl+Gs2f80lka2y/DWbv+aSyFZZ/prNX3NJZKssb2XjyodnqG0AAAAALEMBAQAAAGAZCkiAioiI0IMPPqiIiAi7oxRDtsrx12z+mksiW2X5azZ/zSWRrbL8NZu/5pLIVln+nC0YMQgdAAAAgGW4AgIAAADAMhQQAAAAAJahgAAAAACwDAUEAAAAgGUoIAFm+vTpuuCCC1SrVi3FxcXp8ssv1/bt2+2OVeDgwYP629/+prp166p69erq0KGDNmzYYHmOFStWaPDgwYqPj5fD4dDChQtdthuGoQceeECNGjVS9erV1a9fP+3cudP2XIXdcsstcjgceuaZZ3yey51sGRkZuu2229SkSRNVr15d7dq10+zZs32eq7xj/o8//tDtt9+u1q1bq3r16kpMTNT48eOVmppqe7Z8q1evVp8+fRQVFaXo6Gj17NlTp06d8mm2F198UR07dix4KFfXrl312WefFWw/ffq0xo0bp7p166pmzZq68sordfToUZ9mcjdbPsMwNHDgwHK/K1blOnLkiEaNGqWGDRsqKipK559/vv73v//5PFdJZsyYIYfDoQkTJkiy93tQXrZ8dnwPpk2bJofD4fJq06ZNwXa7vgfl5cpn9XfAnWx2fw/KOs/IycnRpEmT1KFDB0VFRSk+Pl7XX3+9Dh06ZFk+mCggAWb58uUaN26c1qxZoyVLlignJ0f9+/dXZmam3dF0/Phxde/eXdWqVdNnn32mn3/+WU8++aTq1KljeZbMzEyde+65mjVrVonbZ86cqeeee06zZ8/W2rVrFRUVpQEDBuj06dO25sq3YMECrVmzRvHx8T7NU1h52SZOnKjPP/9cb731lrZt26YJEybotttu06JFi3yaq7xj/tChQzp06JCeeOIJbdmyRa+//ro+//xzjR071qe53MkmmSddl156qfr3769169Zp/fr1uu222xQS4tv/e27SpIlmzJih77//Xhs2bFCfPn00dOhQbd26VZJ055136uOPP9b777+v5cuX69ChQ7riiit8msndbPmeeeYZORwOSzK5k+v666/X9u3btWjRIv3000+64oorNGLECG3atMmyjJK0fv16vfTSS+rYsWPBOju/B+Vlk+z7HkhS+/btdfjw4YLXd999V7DNzu9BWbnyWf0dcCebnd+D8s4zTp48qY0bN2rq1KnauHGjPvzwQ23fvl1DhgzxeTYUYSCgpaSkGJKM5cuX2x3FmDRpktGjRw+7YxQjyViwYEHBcl5entGwYUPj3//+d8G6EydOGBEREcY777xjW658Bw4cMBo3bmxs2bLFaNq0qfH0009blqmsbO3btzcefvhhl3Xnn3++cd9991mYzL1jfv78+UZ4eLiRk5NjYbKSs3Xp0sW4//77Lc1Rmjp16hivvvqqceLECaNatWrG+++/X7Bt27ZthiRj9erVtmbLt2nTJqNx48bG4cOHS/2uWJ0rKirKeOONN1y2x8bGGq+88opledLT042WLVsaS5YsMXr16mXccccdpe5r9fegrGx2fQ8efPBB49xzzy1xm53fg7Jy5bPrO1BeNju/B5U5z1i3bp0hydi3b5+PUqEkXAEJcPmX12NjY21OIi1atEidO3fW8OHDFRcXp06dOumVV16xO1Yxe/bs0ZEjR9SvX7+CdTExMerSpYtWr15tYzIpLy9Po0aN0t1336327dvbmqWobt26adGiRTp48KAMw9DSpUu1Y8cO9e/f39Ic7hzzqampio6OVlhYmFWxCn6u5MyWkpKitWvXKi4uTt26dVODBg3Uq1evEn/T6Uu5ubl69913lZmZqa5du+r7779XTk6Oy3egTZs2SkxMtPw7UDSbZP4W89prr9WsWbPUsGFDS/OUlatbt25677339McffygvL0/vvvuuTp8+rd69e1uWa9y4cRo0aJDL/3alsfp7UFo2u78HO3fuVHx8vM466yxdd9112r9/vyTZ/j0oLZdk/3egrGx2fg8qc56Rmpoqh8Oh2rVr+zwfCrG7AcF3cnNzjUGDBhndu3e3O4phGIYRERFhREREGFOmTDE2btxovPTSS0ZkZKTx+uuv25pLRX5ztHLlSkOScejQIZf9hg8fbowYMcK2XIZhGI899phxySWXGHl5eYZhGH51BeT06dPG9ddfb0gywsLCjPDwcGPu3LmW5nLnmP/tt9+MxMRE495777UwWcnZVq9ebUgyYmNjjddee83YuHGjMWHCBCM8PNzYsWOHzzP9+OOPRlRUlBEaGmrExMQYn3zyiWEYhjFv3jwjPDy82P4XXHCBcc899/g8V1nZDMMwbrrpJmPs2LEFyyUdj3bkOn78uNG/f/+C70B0dLTxxRdfWJLLMAzjnXfeMc455xzj1KlThmEYZV4Bsfp7UFY2O78Hn376qTF//nzjhx9+MD7//HOja9euRmJiopGWlmbr96CsXIZh73egvGx2fg8qep5x6tQp4/zzzzeuvfZaS/LBydpf/8FS48aN05YtWyz/bWpp8vLy1LlzZz322GOSpE6dOmnLli2aPXu2Ro8ebXM6//f999/r2Wef1caNG22557c8zz//vNasWaNFixapadOmWrFihcaNG6f4+Hi3fhvrDeUd82lpaRo0aJDatWunadOmWZKprGx5eXmSpJtvvlljxoyRZH4vvv76a7322muaPn26TzO1bt1amzdvVmpqqj744AONHj1ay5cv9+nPdFdp2Xbt2qVvvvnG8nEV5eVq166dpk6dqhMnTuirr75SvXr1tHDhQo0YMULffvutOnTo4NNcycnJuuOOO7RkyRJFRkaWua/V34Pystn5PRg4cGDB3zt27KguXbqoadOmmj9/vqpXr+6zn+tJrvr169v6HSgr29ixY239HlTkPCMnJ0cjRoyQYRh68cUXfZoLJbC7AcE3xo0bZzRp0sTYvXu33VEKJCYmuvzGxjAM44UXXjDi4+NtSmRSkd8c/frrr4YkY9OmTS779ezZ0xg/frxtuZ5++mnD4XAYoaGhBS9JRkhIiNG0aVPLcpWU7eTJk0a1atWMxYsXu+w3duxYY8CAAZZkKu+YT0tLM7p27Wr07du34LewVikt2+7duw1JxptvvumyfsSIEbb8Rq5v377GTTfdZHz99deGJOP48eMu2xMTE42nnnrK8lyFs91xxx2lfg969eplW65du3YZkowtW7YU237zzTf7PMeCBQsMScX+u+T/tzpz5oxhGPZ8D8rLlv/fzl++B507dzYmT57sd9+D/Fz+9h0onM3u74G75xnZ2dnG5ZdfbnTs2NE4duyYz3OhOMaABBjDMHTbbbdpwYIF+uabb9S8eXO7IxXo3r17sSlId+zYoaZNm9qUqGTNmzdXw4YN9fXXXxesS0tL09q1awvu9bbDqFGj9OOPP2rz5s0Fr/j4eN1999364osvbMslmb9JysnJKTZjTWhoaMFvN33FnWM+LS1N/fv3V3h4uBYtWlTub4itytasWTPFx8f7zfciLy9PWVlZ+stf/qJq1aq5fAe2b9+u/fv32/YdyM82efLkYt8DSXr66ac1Z84c23KdPHlSkmz5DkhS37599dNPP7n8d+ncubOuu+46bd68WaGhobZ9D8rLdtZZZ/nN9yAjI0O//vqrGjVq5Fffg8K5/O07UDib3d8Dd84z8q987Ny5U1999ZXq1q3r81wogc0FCF526623GjExMcayZcuMw4cPF7xOnjxpdzRj3bp1RlhYmPHoo48aO3fuNObNm2fUqFHDeOuttyzPkp6ebmzatMnYtGmTIcl46qmnjE2bNhXMgjFjxgyjdu3axkcffWT8+OOPxtChQ43mzZv7/DeG5eUqysoxIOVl69Wrl9G+fXtj6dKlxu7du405c+YYkZGRxgsvvODTXOUd86mpqUaXLl2MDh06GLt27XLZJ/+3wnZlMwzzylZ0dLTx/vvvGzt37jTuv/9+IzIy0ti1a5dPs02ePNlYvny5sWfPHuPHH380Jk+ebDgcDuPLL780DMMwbrnlFiMxMdH45ptvjA0bNhhdu3Y1unbt6tNM7mYrShbd/15WruzsbOPss882Lr74YmPt2rXGrl27jCeeeMJwOBwu40SsVHichZ3fg/KyGYZ934O77rrLWLZsmbFnzx5j5cqVRr9+/Yx69eoZKSkphmHY9z0oL1dRVn0Hystm9/egvPOM7OxsY8iQIUaTJk2MzZs3u3wPsrKyfJ4PThSQACOpxNecOXPsjmYYhmF8/PHHxjnnnGNEREQYbdq0MV5++WVbcixdurTE/06jR482DMOcinfq1KlGgwYNjIiICKNv377G9u3bbc9VlJUFpLxshw8fNm644QYjPj7eiIyMNFq3bm08+eSTBQPmfaW8Y7603JKMPXv22Jot3/Tp040mTZoYNWrUMLp27Wp8++23Ps1lGIZx4403Gk2bNjXCw8ON+vXrG3379nU5wT916pTxj3/8w6hTp45Ro0YNY9iwYcbhw4d9nsudbEVZdfJVXq4dO3YYV1xxhREXF2fUqFHD6NixY7HpSK1U+CTfzu9Bedny2fE9GDlypNGoUSMjPDzcaNy4sTFy5EiX0mPX96C8XEVZWUDKy2b396Cs84w9e/aU+j1YunSpZRlhGA7DMAxvXU0BAAAAgLIwBgQAAACAZSggAAAAACxDAQEAAABgGQoIAAAAAMtQQAAAAABYhgICAAAAwDIUEAAAAACWoYAAAAAAsAwFBADgdTfccIMuv/xyl3UffPCBIiMj9eSTT9oTCgDgF8LsDgAACHyvvvqqxo0bp9mzZ2vMmDF2xwEA2IgrIAAAn5o5c6Zuv/12vfvuu5QPAABXQAAAvjNp0iS98MILWrx4sfr27Wt3HACAH6CAAAB84rPPPtNHH32kr7/+Wn369LE7DgDAT3ALFgDAJzp27KhmzZrpwQcfVEZGht1xAAB+ggICAPCJxo0ba9myZTp48KAuvfRSpaen2x0JAOAHKCAAAJ9p2rSpli9friNHjlBCAACSKCAAAB9LSEjQsmXLlJKSogEDBigtLc3uSAAAG1FAAAA+16RJEy1btkzHjh2jhABAkHMYhmHYHQIAAABAcOAKCAAAAADLUEAAAAAAWIYCAgAAAMAyFBAAAAAAlqGAAAAAALAMBQQAAACAZSggAAAAACxDAQEAAABgGQoIAAAAAMtQQAAAAABYhgICAAAAwDIUEAAAAACWoYAAAAAAsAwFBAAAAIBlKCAAAAAALEMBAQAAAGAZCggAAAAAy1BAAAAAAFiGAgIAAADAMhQQAAAAAJahgAAAAACwDAUEAAAAgGUoIAAAAAAsQwEBAAAAYBkKCAAAAADL/D/sjFHxGDJmGgAAAABJRU5ErkJggg==' width=800.0/>\n",
       "            </div>\n",
       "        "
      ],
      "text/plain": [
       "Canvas(toolbar=Toolbar(toolitems=[('Home', 'Reset original view', 'home', 'home'), ('Back', 'Back to previous …"
      ]
     },
     "metadata": {},
     "output_type": "display_data"
    },
    {
     "data": {
      "application/vnd.jupyter.widget-view+json": {
       "model_id": "934b623b4a714e77a1fb8088f3a4751a",
       "version_major": 2,
       "version_minor": 0
      },
      "image/png": "[encoded data removed]",
      "text/html": [
       "\n",
       "            <div style=\"display: inline-block;\">\n",
       "                <div class=\"jupyter-widgets widget-label\" style=\"text-align: center;\">\n",
       "                    Figure\n",
       "                </div>\n",
       "                <img src='data:image/png;base64,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' width=800.0/>\n",
       "            </div>\n",
       "        "
      ],
      "text/plain": [
       "Canvas(toolbar=Toolbar(toolitems=[('Home', 'Reset original view', 'home', 'home'), ('Back', 'Back to previous …"
      ]
     },
     "metadata": {},
     "output_type": "display_data"
    }
   ],
   "source": [
    "for s in [\"20\"]:\n",
    "    plot_clustering_results(clustering_results_dict[s])\n",
    "    \n",
    "    "
   ]
  },
  {
   "cell_type": "markdown",
   "metadata": {},
   "source": [
    "### Evaluating seasons all together"
   ]
  },
  {
   "cell_type": "markdown",
   "metadata": {},
   "source": [
    "## Dataset composition"
   ]
  },
  {
   "cell_type": "code",
   "execution_count": 14,
   "metadata": {},
   "outputs": [],
   "source": [
    "# TODO select K according to clustering evaluation\n",
    "\n",
    "K = [\"2\",\"6\"]"
   ]
  },
  {
   "cell_type": "markdown",
   "metadata": {},
   "source": [
    "### Compute distance between player and centroid of its cluster"
   ]
  },
  {
   "cell_type": "code",
   "execution_count": 15,
   "metadata": {},
   "outputs": [],
   "source": [
    "compute_distance_from_centroid_UDF = udf(\n",
    "    lambda player, centroid: float(\n",
    "        Vectors.squared_distance(\n",
    "            player, centroid\n",
    "        )\n",
    "    ), FloatType()\n",
    ")"
   ]
  },
  {
   "cell_type": "code",
   "execution_count": 16,
   "metadata": {},
   "outputs": [],
   "source": [
    "for k in K:\n",
    "    all_together_df = all_together_df.withColumn(\n",
    "        \"distance_from_centroid\" + \"_k_\" + str(k),\n",
    "        compute_distance_from_centroid_UDF(\n",
    "            col(\"all_vec_min_max\"),\n",
    "            col(\"centroid\" + \"_k_\" + str(k))\n",
    "        )\n",
    "    )\n",
    "        "
   ]
  },
  {
   "cell_type": "markdown",
   "metadata": {},
   "source": [
    "### From players to teams"
   ]
  },
  {
   "cell_type": "code",
   "execution_count": 17,
   "metadata": {},
   "outputs": [],
   "source": [
    "teams_df = all_together_df.groupBy(\n",
    "    [\"season\", \"club_name\", \"macro_role\"]\n",
    ").agg(\n",
    "    { \n",
    "        \"distance_from_centroid\" + \"_k_\" + str(k): \"avg\" for k in K \n",
    "    }\n",
    ")\n",
    "\n",
    "for k in K:\n",
    "    teams_df = teams_df.withColumnRenamed(\n",
    "        \"avg(distance_from_centroid\" + \"_k_\" + str(k) + \")\",\n",
    "        \"avg_distance_from_centroid\" + \"_k_\" + str(k)\n",
    "    )"
   ]
  },
  {
   "cell_type": "code",
   "execution_count": 18,
   "metadata": {},
   "outputs": [],
   "source": [
    "def generate_subquery(macro_role, k):\n",
    "    return f\"\"\"(\n",
    "        case\n",
    "            when macro_role='{macro_role}' then avg_distance_from_centroid_k_{k} \n",
    "        else NULL\n",
    "        end\n",
    "    ) as avg_dist_macro_role_{int(macro_role)}_k_{k}\n",
    "    \"\"\""
   ]
  },
  {
   "cell_type": "code",
   "execution_count": 19,
   "metadata": {},
   "outputs": [],
   "source": [
    "teams_df.createOrReplaceTempView(\"t\")\n",
    "\n",
    "temp = dict()\n",
    "\n",
    "for k in K:\n",
    "\n",
    "    temp[k] = (\n",
    "        spark.sql(\n",
    "            f\"\"\"\n",
    "                select season, club_name, {generate_subquery(0.0, k)}, {generate_subquery(1.0, k)}, {generate_subquery(2.0, k)}, {generate_subquery(3.0, k)}, {generate_subquery(4.0, k)}, {generate_subquery(5.0, k)}, {generate_subquery(6.0, k)}, {generate_subquery(7.0, k)}\n",
    "                from t\n",
    "            \"\"\"\n",
    "        )\n",
    "        .groupBy(\"season\", \"club_name\")\n",
    "        .agg(\n",
    "            # TODO use for loop as in second cell of \"from players to teams\"\n",
    "            sum(f\"avg_dist_macro_role_0_k_{k}\").alias(f\"avg_dist_macro_role_0_k_{k}\"),\n",
    "            sum(f\"avg_dist_macro_role_1_k_{k}\").alias(f\"avg_dist_macro_role_1_k_{k}\"),\n",
    "            sum(f\"avg_dist_macro_role_2_k_{k}\").alias(f\"avg_dist_macro_role_2_k_{k}\"),\n",
    "            sum(f\"avg_dist_macro_role_3_k_{k}\").alias(f\"avg_dist_macro_role_3_k_{k}\"),\n",
    "            sum(f\"avg_dist_macro_role_4_k_{k}\").alias(f\"avg_dist_macro_role_4_k_{k}\"),\n",
    "            sum(f\"avg_dist_macro_role_5_k_{k}\").alias(f\"avg_dist_macro_role_5_k_{k}\"),\n",
    "            sum(f\"avg_dist_macro_role_6_k_{k}\").alias(f\"avg_dist_macro_role_6_k_{k}\"),\n",
    "            sum(f\"avg_dist_macro_role_7_k_{k}\").alias(f\"avg_dist_macro_role_7_k_{k}\"),\n",
    "        )\n",
    "    )"
   ]
  },
  {
   "cell_type": "code",
   "execution_count": 91,
   "metadata": {},
   "outputs": [],
   "source": [
    "# NOTE executing this cell n times, w/o restoring teams_df --> \n",
    "# n copies of avg_dist_macro_role_[0:7]_k_[2, 6]\n",
    "\n",
    "teams_df = temp[str(K[0])]\n",
    "\n",
    "for i in range(1, len(K)):\n",
    "    teams_df = teams_df.join(\n",
    "        temp[str(K[i])], on=[\"season\", \"club_name\"]\n",
    "    )"
   ]
  },
  {
   "cell_type": "code",
   "execution_count": 97,
   "metadata": {},
   "outputs": [],
   "source": [
    "avg_distances_dict = dict()\n",
    "\n",
    "for k in K:\n",
    "    \n",
    "    avg_distances_dict[k] = [\n",
    "        f\"avg_dist_macro_role_{i}_k_{k}\" for i in range(0, NUM_MACRO_ROLES)\n",
    "    ]"
   ]
  },
  {
   "cell_type": "code",
   "execution_count": 98,
   "metadata": {},
   "outputs": [],
   "source": [
    "import builtins\n",
    "\n",
    "global_max = teams_df.select(\n",
    "    greatest(\n",
    "        *list(\n",
    "            itertools.chain.from_iterable(\n",
    "                avg_distances_dict.values()\n",
    "            )\n",
    "        )\n",
    "    ).alias(\"row_wise_max\")\n",
    ").collect()\n",
    "\n",
    "global_max = [row[\"row_wise_max\"] for row in global_max]\n",
    "\n",
    "global_max = builtins.max(global_max)\n"
   ]
  },
  {
   "cell_type": "code",
   "execution_count": 99,
   "metadata": {},
   "outputs": [],
   "source": [
    "teams_df = teams_df.fillna(global_max * 1.5)    "
   ]
  },
  {
   "cell_type": "code",
   "execution_count": null,
   "metadata": {},
   "outputs": [],
   "source": [
    "for k in K:\n",
    "\n",
    "    assembler = VectorAssembler(\n",
    "        inputCols=avg_distances_dict[k], outputCol=f\"avg_dist_vec_k_{k}\"\n",
    "    )\n",
    "\n",
    "    teams_df = assembler.transform(teams_df)"
   ]
  },
  {
   "cell_type": "markdown",
   "metadata": {},
   "source": [
    "## Learning from clustering"
   ]
  },
  {
   "cell_type": "markdown",
   "metadata": {},
   "source": [
    "## Clustering-learning cross evaluation\n",
    "\n",
    "Classic left-right plot, with:\n",
    "Left Y --> elbow result\n",
    "Right Y --> accuracy\n",
    "X axis --> # clusters"
   ]
  },
  {
   "cell_type": "markdown",
   "metadata": {},
   "source": []
  },
  {
   "cell_type": "markdown",
   "metadata": {},
   "source": [
    "# Attempt 4: thinking \"Deep\", shallow injecting some priors"
   ]
  },
  {
   "cell_type": "markdown",
   "metadata": {},
   "source": [
    "## Computing the prior (RP coefficient)"
   ]
  },
  {
   "cell_type": "markdown",
   "metadata": {},
   "source": [
    "## Learning"
   ]
  },
  {
   "cell_type": "markdown",
   "metadata": {},
   "source": [
    "## RP impact\n",
    "\n",
    "plot showing that the more the weight of the RP coefficient is increased, the more the accuracy ofc goes up"
   ]
  },
  {
   "cell_type": "markdown",
   "metadata": {},
   "source": []
  }
 ],
 "metadata": {
  "interpreter": {
   "hash": "7d6993cb2f9ce9a59d5d7380609d9cb5192a9dedd2735a011418ad9e827eb538"
  },
  "kernelspec": {
   "display_name": "Python 3.9.7 64-bit",
   "language": "python",
   "name": "python3"
  },
  "language_info": {
   "codemirror_mode": {
    "name": "ipython",
    "version": 3
   },
   "file_extension": ".py",
   "mimetype": "text/x-python",
   "name": "python",
   "nbconvert_exporter": "python",
   "pygments_lexer": "ipython3",
   "version": "3.9.7"
  },
  "orig_nbformat": 4
 },
 "nbformat": 4,
 "nbformat_minor": 2
}
