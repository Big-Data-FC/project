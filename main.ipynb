{
 "cells": [
  {
   "cell_type": "markdown",
   "metadata": {},
   "source": [
    "# Wall of imports"
   ]
  },
  {
   "cell_type": "code",
   "execution_count": 1,
   "metadata": {},
   "outputs": [],
   "source": [
    "from pyspark.sql import *\n",
    "from pyspark.sql.types import *\n",
    "from pyspark.sql.functions import *\n",
    "from pyspark import SparkContext, SparkConf\n",
    "\n",
    "import itertools\n",
    "\n",
    "import pandas as pd\n",
    "\n",
    "import numpy as np\n",
    "\n",
    "import copy\n",
    "\n",
    "from pyspark.ml.feature import VectorAssembler\n",
    "from pyspark.ml.feature import StringIndexer\n",
    "from pyspark.ml.feature import StandardScaler\n",
    "from pyspark.ml.feature import PCA\n",
    "\n",
    "import matplotlib.pyplot as plt\n",
    "import seaborn as sns\n",
    "# %matplotlib inline\n",
    "%matplotlib widget\n",
    "\n",
    "from tqdm import tqdm\n",
    "\n",
    "from pyspark.ml.clustering import KMeans\n",
    "from pyspark.ml.feature import Normalizer\n",
    "\n",
    "RANDOM_SEED = None\n",
    "\n",
    "from pyspark.ml.evaluation import ClusteringEvaluator\n",
    "\n",
    "from pyspark.ml.linalg import Vectors\n",
    "\n",
    "from functools import reduce\n",
    "\n",
    "import json\n",
    "\n",
    "from pyspark.ml.regression import LinearRegression\n",
    "\n",
    "from pyspark_dist_explore import hist\n",
    "\n",
    "from pyspark.ml.regression import RandomForestRegressor\n",
    "\n",
    "from pyspark.ml.regression import DecisionTreeRegressor\n",
    "\n",
    "from pyspark.ml import Pipeline\n",
    "\n",
    "from pyspark.ml.tuning import ParamGridBuilder\n",
    "\n",
    "from pyspark.ml.tuning import CrossValidator\n",
    "from pyspark.ml.evaluation import RegressionEvaluator\n",
    "\n",
    "from pyspark.ml.regression import GBTRegressor\n",
    "\n",
    "from pyspark.ml.classification import MultilayerPerceptronClassifier\n",
    "\n",
    "from pyspark.ml.classification import LogisticRegression\n",
    "\n",
    "from pyspark.ml.classification import LinearSVC, OneVsRest\n",
    "from pyspark.ml.evaluation import MulticlassClassificationEvaluator\n",
    "\n",
    "from pyspark.ml.classification import DecisionTreeClassifier\n",
    "from pyspark.ml.classification import RandomForestClassifier\n",
    "\n",
    "from operator import itemgetter\n",
    "\n",
    "from pyspark.ml.feature import MinMaxScaler\n",
    "\n",
    "from pyspark.ml.linalg import Vectors, VectorUDT\n",
    "\n",
    "from pyspark.ml.stat import Summarizer\n",
    "\n",
    "from sklearn.manifold import TSNE\n",
    "\n",
    "from sklearn.decomposition import KernelPCA\n",
    "\n",
    "from pyspark.ml.feature import UnivariateFeatureSelector\n",
    "from pyspark.ml.linalg import DenseVector\n",
    "import numpy as np\n",
    "import pandas as pd\n",
    "import matplotlib.pyplot as plt \n",
    "import seaborn as sns\n",
    "import re\n",
    "\n",
    "import sklearn\n",
    "from sklearn.model_selection import train_test_split\n",
    "# from sklearn.preprocessing import MinMaxScaler\n",
    "from sklearn.preprocessing import PolynomialFeatures\n",
    "from sklearn.preprocessing import scale\n",
    "from sklearn.feature_selection import RFE\n",
    "# from sklearn.linear_model import LinearRegression\n",
    "from sklearn.model_selection import cross_val_score\n",
    "from sklearn.model_selection import KFold\n",
    "from sklearn.model_selection import GridSearchCV\n",
    "from sklearn.pipeline import make_pipeline\n",
    "\n",
    "from sklearn.model_selection import cross_val_score\n",
    "\n",
    "from sklearn.linear_model import Ridge\n",
    "from sklearn.linear_model import Lasso\n",
    "# from sklearn.tree import DecisionTreeRegressor\n",
    "from sklearn.ensemble import GradientBoostingRegressor\n",
    "# from sklearn.ensemble import RandomForestRegressor\n",
    "\n",
    "from sklearn.preprocessing import FunctionTransformer\n",
    "\n",
    "\n",
    "import warnings # supress warnings\n",
    "warnings.filterwarnings('ignore')"
   ]
  },
  {
   "cell_type": "markdown",
   "metadata": {},
   "source": [
    "# Spark"
   ]
  },
  {
   "cell_type": "code",
   "execution_count": 2,
   "metadata": {},
   "outputs": [
    {
     "name": "stderr",
     "output_type": "stream",
     "text": [
      "22/06/16 11:20:38 WARN Utils: Your hostname, macchinario resolves to a loopback address: 127.0.1.1; using 192.168.1.12 instead (on interface enp0s31f6)\n",
      "22/06/16 11:20:38 WARN Utils: Set SPARK_LOCAL_IP if you need to bind to another address\n",
      "Using Spark's default log4j profile: org/apache/spark/log4j-defaults.properties\n",
      "Setting default log level to \"WARN\".\n",
      "To adjust logging level use sc.setLogLevel(newLevel). For SparkR, use setLogLevel(newLevel).\n",
      "22/06/16 11:20:39 WARN NativeCodeLoader: Unable to load native-hadoop library for your platform... using builtin-java classes where applicable\n"
     ]
    }
   ],
   "source": [
    "conf = (\n",
    "    SparkConf()\n",
    "    .set(\"spark.ui.port\", \"4050\")\n",
    "    .set(\"spark.executor.memory\", \"4G\")\n",
    "    .set(\"spark.driver.memory\", \"20G\")\n",
    "    .set(\"spark.driver.maxResultSize\", \"10G\")\n",
    ")\n",
    "# .set(\"spark.master\", \"spark://192.168.1.189:4050\")\n",
    "\n",
    "\n",
    "# create the context\n",
    "sc = SparkContext(conf=conf)\n",
    "sc.setLogLevel(\"ERROR\")\n",
    "\n",
    "\n",
    "spark = SparkSession.builder.getOrCreate()"
   ]
  },
  {
   "cell_type": "markdown",
   "metadata": {},
   "source": [
    "# Loading football players"
   ]
  },
  {
   "cell_type": "code",
   "execution_count": 3,
   "metadata": {},
   "outputs": [
    {
     "name": "stderr",
     "output_type": "stream",
     "text": [
      "                                                                                \r"
     ]
    }
   ],
   "source": [
    "modern_df = spark.read.csv(\n",
    "    \"data/players_*.csv\", sep=\",\", inferSchema=True, header=True, multiLine=True\n",
    ")\n",
    "\n",
    "legacy_df = spark.read.csv(\n",
    "    \"data/scraped_players_*.csv\", sep=\",\", inferSchema=True, header=True, \n",
    "    multiLine=True\n",
    ")"
   ]
  },
  {
   "cell_type": "markdown",
   "metadata": {},
   "source": [
    "# Pre-processing football players"
   ]
  },
  {
   "cell_type": "code",
   "execution_count": 4,
   "metadata": {},
   "outputs": [],
   "source": [
    "leagues = [\n",
    "    \"Spain Primera Division\",\n",
    "    # \"German 1. Bundesliga\",\n",
    "    # \"French Ligue 1\",\n",
    "    # \"English Premier League\",\n",
    "    # \"Italian Serie A\",\n",
    "    # \"Holland Eredivisie\",\n",
    "]\n",
    "\n",
    "# seasons_modern = [\"20\", \"19\", \"18\", \"17\", \"16\", \"15\", \"14\"] \n",
    "seasons_modern = [\"20\", \"19\"] \n",
    "# seasons_legacy = [\"13\", \"12\", \"11\", \"10\", \"09\", \"08\", \"07\"]\n",
    "seasons_legacy = [ ]\n",
    "seasons = seasons_legacy + seasons_modern\n",
    "\n",
    "# football_teams = [\n",
    "#     row[\"club_name\"] for row in modern_df.select(\n",
    "#         \"club_name\"\n",
    "#     ).distinct().collect()\n",
    "# ]\n",
    "\n",
    "macro_roles = [\"0.0\", \"1.0\", \"2.0\", \"3.0\", \"4.0\", \"5.0\", \"6.0\", \"7.0\"]\n",
    "\n",
    "roles_to_macro_roles_dict = {\n",
    "    \"GK\": \"0\",\n",
    "    \"LB\": \"1\",\n",
    "    \"RB\": \"1\",\n",
    "    \"RWB\": \"1\",\n",
    "    \"LWB\": \"1\",\n",
    "    \"CB\": \"2\",\n",
    "    \"CDM\": \"3\",\n",
    "    \"CM\": \"4\",\n",
    "    \"RM\": \"4\",\n",
    "    \"LM\": \"4\",\n",
    "    \"CAM\": \"5\",\n",
    "    \"RW\": \"6\",\n",
    "    \"LW\": \"6\",\n",
    "    \"ST\": \"7\",\n",
    "    \"LF\": \"7\",\n",
    "    \"RF\": \"7\",\n",
    "    \"CF\": \"7\",\n",
    "}\n",
    "NUM_MACRO_ROLES = 8\n",
    "\n",
    "columns = [\n",
    "    \"short_name\",\n",
    "    \"club_name\",\n",
    "    \"league_name\",\n",
    "    \"season\",\n",
    "    \"player_positions\",\n",
    "    \"macro_role\",\n",
    "    \"overall\",\n",
    "    \"value\",\n",
    "    \"pace\",\n",
    "    \"shooting\",\n",
    "    \"passing\",\n",
    "    \"dribbling\",\n",
    "    \"defending\",\n",
    "    \"physic\",\n",
    "    \"attacking_crossing\",\n",
    "    \"attacking_finishing\",\n",
    "    \"attacking_heading_accuracy\",\n",
    "    \"attacking_short_passing\",\n",
    "    \"skill_dribbling\",\n",
    "    \"skill_fk_accuracy\",\n",
    "    \"skill_long_passing\",\n",
    "    \"skill_ball_control\",\n",
    "    \"movement_acceleration\",\n",
    "    \"movement_sprint_speed\",\n",
    "    \"movement_reactions\",\n",
    "    \"power_shot_power\",\n",
    "    \"power_stamina\",\n",
    "    \"power_strength\",\n",
    "    \"power_long_shots\",\n",
    "    \"mentality_aggression\",\n",
    "    \"mentality_penalties\",\n",
    "    \"defending_standing_tackle\"\n",
    "]\n",
    "\n",
    "def get_season(url):\n",
    "    url_split = url.split(\"/\")\n",
    "\n",
    "    # -1 to scale FIFA years down, to have compatibility with all_tables_fixed\n",
    "    return str(\n",
    "        (int(url_split[-2 if url_split[-1] == \"\" else -1][0:2]) - 1)\n",
    "    ).zfill(2)\n",
    "\n",
    "\n",
    "get_season_UDF = udf(lambda url: get_season(url), StringType())\n",
    "\n",
    "roles_to_macro_role_UDF = udf(\n",
    "    lambda roles: float(roles_to_macro_roles_dict[roles.split(\",\")[0]]), StringType()\n",
    ")"
   ]
  },
  {
   "cell_type": "code",
   "execution_count": 5,
   "metadata": {},
   "outputs": [],
   "source": [
    "pre_processed_modern_df = modern_df.dropDuplicates([\"player_url\"])\n",
    "pre_processed_legacy_df = legacy_df.dropDuplicates([\"player_url\"])\n",
    "\n",
    "pre_processed_modern_df = pre_processed_modern_df.na.fill(0)\n",
    "pre_processed_legacy_df = pre_processed_legacy_df.na.fill(0)\n",
    "\n",
    "pre_processed_modern_df = pre_processed_modern_df.withColumn(\n",
    "    \"season\", get_season_UDF(col(\"player_url\"))\n",
    ")\n",
    "pre_processed_legacy_df = pre_processed_legacy_df.withColumn(\n",
    "    \"season\", get_season_UDF(col(\"player_url\"))\n",
    ")\n",
    "\n",
    "pre_processed_modern_df = pre_processed_modern_df.withColumn(\n",
    "    \"macro_role\", roles_to_macro_role_UDF(col(\"player_positions\"))\n",
    ")\n",
    "pre_processed_legacy_df = pre_processed_legacy_df.withColumn(\n",
    "    \"macro_role\", roles_to_macro_role_UDF(col(\"player_positions\"))\n",
    ")\n",
    "\n",
    "pre_processed_modern_df = pre_processed_modern_df.withColumnRenamed(\n",
    "    \"value_eur\", \"value\"\n",
    ")\n",
    "\n",
    "pre_processed_modern_df = pre_processed_modern_df.where(\n",
    "    (pre_processed_modern_df.league_name.isin(leagues))\n",
    "    &\n",
    "    (pre_processed_modern_df.season.isin(seasons_modern))\n",
    ")\n",
    "pre_processed_legacy_df = pre_processed_legacy_df.where(\n",
    "    (pre_processed_legacy_df.league_name.isin(leagues))\n",
    "    &\n",
    "    (pre_processed_legacy_df.season.isin(seasons_legacy))\n",
    ")\n",
    "\n",
    "pre_processed_modern_df = pre_processed_modern_df.select(columns)\n",
    "\n",
    "# TODO use a for loop\n",
    "pre_processed_legacy_df = pre_processed_legacy_df.withColumnRenamed(\n",
    "    \"pas\", \"passing\"\n",
    ")\n",
    "pre_processed_legacy_df = pre_processed_legacy_df.withColumnRenamed(\n",
    "    \"dri\", \"dribbling\"\n",
    ")\n",
    "pre_processed_legacy_df = pre_processed_legacy_df.drop(col(\"defending\"))\n",
    "\n",
    "pre_processed_legacy_df = pre_processed_legacy_df.withColumnRenamed(\n",
    "    \"def\", \"defending\"\n",
    ")\n",
    "pre_processed_legacy_df = pre_processed_legacy_df.withColumnRenamed(\n",
    "    \"phy\", \"physic\"\n",
    ")\n",
    "\n",
    "pre_processed_legacy_df = pre_processed_legacy_df.withColumnRenamed(\n",
    "    \"sho\", \"shooting\"\n",
    ")\n",
    "pre_processed_legacy_df = pre_processed_legacy_df.withColumnRenamed(\n",
    "    \"pac\", \"pace\"\n",
    ")\n",
    "pre_processed_legacy_df = pre_processed_legacy_df.withColumnRenamed(\n",
    "    \"bov\", \"overall\"\n",
    ")\n",
    "\n",
    "pre_processed_legacy_df = pre_processed_legacy_df.select(columns)"
   ]
  },
  {
   "cell_type": "code",
   "execution_count": 6,
   "metadata": {},
   "outputs": [],
   "source": [
    "pre_processed_df = pre_processed_modern_df.unionByName(\n",
    "    pre_processed_legacy_df\n",
    ")\n"
   ]
  },
  {
   "cell_type": "markdown",
   "metadata": {},
   "source": [
    "# Building football teams"
   ]
  },
  {
   "cell_type": "code",
   "execution_count": 7,
   "metadata": {},
   "outputs": [],
   "source": [
    "football_teams_df = pre_processed_df"
   ]
  },
  {
   "cell_type": "code",
   "execution_count": 8,
   "metadata": {},
   "outputs": [],
   "source": [
    "PLAYER_FEATURES = [\n",
    "    \"overall\",\n",
    "    \"value\",\n",
    "    \"pace\",\n",
    "    \"shooting\",\n",
    "    \"passing\",\n",
    "    \"dribbling\",\n",
    "    \"defending\",\n",
    "    \"physic\",\n",
    "    \"attacking_crossing\",\n",
    "    \"attacking_finishing\",\n",
    "    \"attacking_heading_accuracy\",\n",
    "    \"attacking_short_passing\",\n",
    "    \"skill_dribbling\",\n",
    "    \"skill_fk_accuracy\",\n",
    "    \"skill_long_passing\",\n",
    "    \"skill_ball_control\",\n",
    "    \"movement_acceleration\",\n",
    "    \"movement_sprint_speed\",\n",
    "    \"movement_reactions\",\n",
    "    \"power_shot_power\",\n",
    "    \"power_stamina\",\n",
    "    \"power_strength\",\n",
    "    \"power_long_shots\",\n",
    "    \"mentality_aggression\",\n",
    "    \"mentality_penalties\",\n",
    "    \"defending_standing_tackle\"\n",
    "]\n",
    "\n",
    "PLAYER_FEATURES_AVG = [\n",
    "    \"avg(\" + player_feature + \")\" for player_feature in PLAYER_FEATURES\n",
    "]\n",
    "\n",
    "TARGET_VARIABLE = \"points\""
   ]
  },
  {
   "cell_type": "code",
   "execution_count": 9,
   "metadata": {},
   "outputs": [],
   "source": [
    "football_teams_df = football_teams_df.select(\n",
    "    \"season\", \"club_name\", *PLAYER_FEATURES\n",
    ").groupBy(\n",
    "    [\"season\", \"club_name\"]\n",
    ").agg(\n",
    "    { player_feature: \"avg\" for player_feature in PLAYER_FEATURES }\n",
    ")"
   ]
  },
  {
   "cell_type": "markdown",
   "metadata": {},
   "source": [
    "# Loading football teams seasonal scores"
   ]
  },
  {
   "cell_type": "code",
   "execution_count": 10,
   "metadata": {},
   "outputs": [],
   "source": [
    "seasonal_scores_df = (\n",
    "    spark.read.csv(\n",
    "        \"data/all_tables_fixed_renamed_leagues.csv\",\n",
    "        sep=\",\",\n",
    "        inferSchema=True,\n",
    "        header=True,\n",
    "        multiLine=True,\n",
    "    )\n",
    "    .withColumnRenamed(\"Year\", \"season\")\n",
    "    .withColumnRenamed(\"Team\", \"club_name_abbr\")\n",
    "    .withColumnRenamed(\"P\", \"points\")\n",
    "    .withColumnRenamed(\"Place\", \"place\")\n",
    "    .withColumnRenamed(\"League\", \"league\")\n",
    ")"
   ]
  },
  {
   "cell_type": "markdown",
   "metadata": {},
   "source": [
    "# Pre-processing football teams seasonal scores"
   ]
  },
  {
   "cell_type": "code",
   "execution_count": 11,
   "metadata": {},
   "outputs": [],
   "source": [
    "seasonal_scores_columns = [\n",
    "    \"season\", \"club_name_abbr\", \"points\", \"place\", \"league\"\n",
    "]\n",
    "\n",
    "f = open(\"data/clubs_map.json\")\n",
    "club_name_abbr_to_ext = json.load(f)\n",
    "f.close()\n",
    "\n",
    "abbreviate_season_UDF = udf(\n",
    "    lambda season: str(season)[-2:],\n",
    "    StringType(),\n",
    ")\n",
    "\n",
    "def extend_club_name(club_name_abbr):\n",
    "    try:\n",
    "        return club_name_abbr_to_ext[club_name_abbr]\n",
    "    except KeyError as e:\n",
    "        return \"NOT_FOUND\"\n",
    "    except Exception as e:\n",
    "        return \"GENERAL_EXCEPTION\"\n",
    "\n",
    "extend_club_name_UDF = udf(\n",
    "    lambda club_name_abbr: extend_club_name(str(club_name_abbr)),\n",
    "    StringType(),\n",
    ")"
   ]
  },
  {
   "cell_type": "code",
   "execution_count": 12,
   "metadata": {},
   "outputs": [
    {
     "name": "stderr",
     "output_type": "stream",
     "text": [
      "[Stage 6:>                                                          (0 + 1) / 1]\r"
     ]
    },
    {
     "name": "stdout",
     "output_type": "stream",
     "text": [
      "WARN: some clubs have NOT been found\n",
      "Please check your data\n"
     ]
    },
    {
     "name": "stderr",
     "output_type": "stream",
     "text": [
      "                                                                                \r"
     ]
    }
   ],
   "source": [
    "pre_processed_seasonal_scores_df = seasonal_scores_df\n",
    "\n",
    "pre_processed_seasonal_scores_df = pre_processed_seasonal_scores_df.dropDuplicates(\n",
    "    seasonal_scores_columns\n",
    ")\n",
    "\n",
    "pre_processed_seasonal_scores_df = pre_processed_seasonal_scores_df.na.fill(0)\n",
    "\n",
    "pre_processed_seasonal_scores_df = pre_processed_seasonal_scores_df.select(\n",
    "    seasonal_scores_columns\n",
    ")\n",
    "\n",
    "pre_processed_seasonal_scores_df = pre_processed_seasonal_scores_df.withColumn(\n",
    "    \"season\", abbreviate_season_UDF(col(\"season\"))\n",
    ")\n",
    "\n",
    "pre_processed_seasonal_scores_df = pre_processed_seasonal_scores_df.withColumn(\n",
    "    \"club_name\", extend_club_name_UDF(col(\"club_name_abbr\"))\n",
    ")\n",
    "\n",
    "pre_processed_seasonal_scores_df = pre_processed_seasonal_scores_df.withColumn(\n",
    "    \"points\", pre_processed_seasonal_scores_df.points.cast(DoubleType())\n",
    ")\n",
    "\n",
    "if pre_processed_seasonal_scores_df.filter(\n",
    "    col(\"club_name\") == \"NOT_FOUND\"\n",
    ").count() > 0:\n",
    "    print(\"WARN: some clubs have NOT been found\")\n",
    "    print(\"Please check your data\")"
   ]
  },
  {
   "cell_type": "code",
   "execution_count": 13,
   "metadata": {},
   "outputs": [],
   "source": [
    "pre_processed_seasonal_scores_df = pre_processed_seasonal_scores_df.where(\n",
    "    (pre_processed_seasonal_scores_df.season.isin(seasons))\n",
    "    & (pre_processed_seasonal_scores_df.league.isin(leagues))\n",
    ")"
   ]
  },
  {
   "cell_type": "code",
   "execution_count": 14,
   "metadata": {},
   "outputs": [],
   "source": [
    "seasonal_scores_pre_join_columns = [\n",
    "    # \"year\", \"league\", \"club_name_ext\", \"points\", \"place\"\n",
    "    \"season\", \"league\", \"club_name\", \"points\", \"place\"\n",
    "]\n",
    "\n",
    "pre_processed_seasonal_scores_df = pre_processed_seasonal_scores_df.select(\n",
    "    seasonal_scores_pre_join_columns\n",
    ")"
   ]
  },
  {
   "cell_type": "markdown",
   "metadata": {},
   "source": [
    "# Joining football teams features with their seasonal scores"
   ]
  },
  {
   "cell_type": "code",
   "execution_count": 15,
   "metadata": {},
   "outputs": [],
   "source": [
    "# df = football_teams_df.join(\n",
    "#     pre_processed_seasonal_scores_df,\n",
    "#     (football_teams_df.season == pre_processed_seasonal_scores_df.year)\n",
    "#     & (\n",
    "#         football_teams_df.club_name\n",
    "#         == pre_processed_seasonal_scores_df.club_name_ext\n",
    "#     ),\n",
    "# )\n",
    "df = football_teams_df.join(\n",
    "    pre_processed_seasonal_scores_df,\n",
    "    on = [\"season\", \"club_name\"],\n",
    ")"
   ]
  },
  {
   "cell_type": "code",
   "execution_count": 16,
   "metadata": {},
   "outputs": [
    {
     "name": "stderr",
     "output_type": "stream",
     "text": [
      "                                                                                \r"
     ]
    }
   ],
   "source": [
    "# if pre_processed_seasonal_scores_df.select(\"club_name_ext\").distinct().subtract(\n",
    "if pre_processed_seasonal_scores_df.select(\"club_name\").distinct().subtract(\n",
    "    # df.select(\"club_name_ext\").distinct()\n",
    "    df.select(\"club_name\").distinct()\n",
    ").count() > 0:\n",
    "    print(\"WARN: Some football teams have been left out the join (pre_processed_seasonal_scores_df)\")\n",
    "    print(\"Please, check your data!\")\n",
    "\n",
    "if football_teams_df.select(\"club_name\").distinct().subtract(\n",
    "    # df.select(\"club_name_ext\").distinct()\n",
    "    df.select(\"club_name\").distinct()\n",
    ").count() > 0:\n",
    "    print(\"WARN: Some football teams have been left out the join (football_teams_df)\")\n",
    "    print(\"Please, check your data!\")"
   ]
  },
  {
   "cell_type": "markdown",
   "metadata": {},
   "source": [
    "# Attempt 1: \"naive\" player features\n",
    "\n",
    "Naive --> simply take the given features and NOT crafting them from other learning processes (i.e. NO clustering or stuff)"
   ]
  },
  {
   "cell_type": "code",
   "execution_count": null,
   "metadata": {},
   "outputs": [],
   "source": [
    "ALL_FEATURES = PLAYER_FEATURES_AVG\n",
    "ALL_FEATURES.remove(\"avg(overall)\")\n",
    "ALL_FEATURES.remove(\"avg(value)\")\n"
   ]
  },
  {
   "cell_type": "code",
   "execution_count": null,
   "metadata": {},
   "outputs": [],
   "source": [
    "assembler = VectorAssembler(\n",
    "    inputCols=ALL_FEATURES, outputCol=\"all_vec\"\n",
    ")\n",
    "\n",
    "df = assembler.transform(df)"
   ]
  },
  {
   "cell_type": "code",
   "execution_count": null,
   "metadata": {},
   "outputs": [],
   "source": [
    "def plot_feature_target_relation(\n",
    "    data, x, y, n_rows = 12, n_cols = 2, figsize = (20, 40), color = \"#000000\"\n",
    "):\n",
    "\n",
    "    fig, axes = plt.subplots(n_rows, n_cols, figsize=figsize)\n",
    "\n",
    "    for x_ind, x_value in enumerate(x):\n",
    "        ax = sns.regplot(\n",
    "            data=pdf,\n",
    "            x=x_value,\n",
    "            y=y,\n",
    "            color = color,\n",
    "            ax=axes[x_ind // n_cols, x_ind % n_cols],\n",
    "        )\n",
    "\n",
    "\n",
    "    fig.tight_layout(pad=1.5)"
   ]
  },
  {
   "cell_type": "code",
   "execution_count": null,
   "metadata": {},
   "outputs": [],
   "source": [
    "def plot_feature_distribution(\n",
    "    data, features, figsize = (20, 40), \n",
    "    color = \"#000000\"\n",
    "):\n",
    "\n",
    "    n_cols = 2\n",
    "    n_rows = int(len(features) / n_cols) if len(features) >= n_cols else n_cols\n",
    "\n",
    "    fig, axes = plt.subplots(n_rows, n_cols, figsize=(10, 30))\n",
    "\n",
    "    for feature_ind, feature in enumerate(features):\n",
    "        _ = sns.histplot(\n",
    "            data[feature],\n",
    "            kde=True,\n",
    "            color=color,\n",
    "            facecolor=color,\n",
    "            ax=axes[feature_ind // n_cols, feature_ind % n_cols],\n",
    "        )\n",
    "\n",
    "    fig.tight_layout(pad=1.5)"
   ]
  },
  {
   "cell_type": "code",
   "execution_count": null,
   "metadata": {},
   "outputs": [],
   "source": [
    "def plot_correlation_matrix(\n",
    "    data, features, title = \"Pearson Correlation Matrix\", figsize = (16,12)\n",
    "):\n",
    "\n",
    "    mask = np.zeros_like(data[features].corr(), dtype=bool)\n",
    "    mask[np.triu_indices_from(mask)] = True\n",
    "\n",
    "    with sns.axes_style(\"white\"):  # Temporarily set the background to white\n",
    "        fig, ax = plt.subplots(figsize=figsize)\n",
    "        plt.title(title, fontsize=24)\n",
    "\n",
    "        cmap = sns.diverging_palette(220, 10, as_cmap=True)\n",
    "\n",
    "        _ = sns.heatmap(\n",
    "            data[features].corr(),\n",
    "            linewidths=0.25,\n",
    "            vmax=0.7,\n",
    "            square=True,\n",
    "            ax=ax,\n",
    "            cmap=cmap,\n",
    "            linecolor=\"w\",\n",
    "            annot=True,\n",
    "            annot_kws={\"size\": 8},\n",
    "            mask=mask,\n",
    "            cbar_kws={\"shrink\": 0.9},\n",
    "        )"
   ]
  },
  {
   "cell_type": "markdown",
   "metadata": {},
   "source": [
    "## Raw data"
   ]
  },
  {
   "cell_type": "markdown",
   "metadata": {},
   "source": [
    "*[explain what does \"raw\" mean]*"
   ]
  },
  {
   "cell_type": "code",
   "execution_count": null,
   "metadata": {},
   "outputs": [],
   "source": [
    "COLOR_RAW = \"#332FD0\""
   ]
  },
  {
   "cell_type": "code",
   "execution_count": null,
   "metadata": {},
   "outputs": [],
   "source": [
    "pdf = df.toPandas()"
   ]
  },
  {
   "cell_type": "markdown",
   "metadata": {},
   "source": [
    "### Feature-target correlation"
   ]
  },
  {
   "cell_type": "code",
   "execution_count": null,
   "metadata": {},
   "outputs": [],
   "source": [
    "#TODO set an appropriate figsize for Google Colab\n",
    "plot_feature_target_relation(\n",
    "    pdf, ALL_FEATURES, TARGET_VARIABLE, figsize=(4,4), color=COLOR_RAW\n",
    ")"
   ]
  },
  {
   "cell_type": "markdown",
   "metadata": {},
   "source": [
    "### Feature distribution"
   ]
  },
  {
   "cell_type": "code",
   "execution_count": null,
   "metadata": {},
   "outputs": [],
   "source": [
    "plot_feature_distribution(pdf, ALL_FEATURES, color = COLOR_RAW, figsize=(4,4))"
   ]
  },
  {
   "cell_type": "markdown",
   "metadata": {},
   "source": [
    "### Pearson Correlation Matrix"
   ]
  },
  {
   "cell_type": "code",
   "execution_count": null,
   "metadata": {},
   "outputs": [],
   "source": [
    "plot_correlation_matrix(pdf, ALL_FEATURES)"
   ]
  },
  {
   "cell_type": "markdown",
   "metadata": {},
   "source": [
    "## Standardization"
   ]
  },
  {
   "cell_type": "markdown",
   "metadata": {},
   "source": [
    "Since we have some features with skewed distributions, we'll try to standardize, to see whether it helps with feature skewness or not"
   ]
  },
  {
   "cell_type": "code",
   "execution_count": null,
   "metadata": {},
   "outputs": [],
   "source": [
    "# standardized_df = df"
   ]
  },
  {
   "cell_type": "code",
   "execution_count": null,
   "metadata": {},
   "outputs": [],
   "source": [
    "scaler = StandardScaler(\n",
    "    inputCol=\"all_vec\", \n",
    "    outputCol=\"all_vec_std\", \n",
    "    withStd=True, \n",
    "    withMean=True\n",
    ")"
   ]
  },
  {
   "cell_type": "code",
   "execution_count": null,
   "metadata": {},
   "outputs": [],
   "source": [
    "# standardized_df = scaler.fit(standardized_df).transform(standardized_df)\n",
    "df = scaler.fit(df).transform(df)"
   ]
  },
  {
   "cell_type": "code",
   "execution_count": null,
   "metadata": {},
   "outputs": [],
   "source": [
    "COLOR_STD = \"#9254C8\"\n",
    "\n",
    "ALL_FEATURES_STD = [\n",
    "    player_feature + \"_std\" for player_feature in ALL_FEATURES\n",
    "]"
   ]
  },
  {
   "cell_type": "code",
   "execution_count": null,
   "metadata": {},
   "outputs": [],
   "source": [
    "# pdf = standardized_df.toPandas()\n",
    "pdf = df.toPandas()"
   ]
  },
  {
   "cell_type": "code",
   "execution_count": null,
   "metadata": {},
   "outputs": [],
   "source": [
    "#TODO make a commodity function, because it will be used in other normalizations as well\n",
    "\n",
    "pdf = pdf.reindex(\n",
    "    columns=list(pdf.columns) + ALL_FEATURES_STD\n",
    ")\n",
    "\n",
    "pdf[ALL_FEATURES_STD] = pdf[\n",
    "    \"all_vec_std\"\n",
    "].transform(\n",
    "    {\n",
    "        ALL_FEATURES_STD[i]: itemgetter(i) for i, p in enumerate(ALL_FEATURES_STD)\n",
    "    }\n",
    "\n",
    "    \n",
    ")"
   ]
  },
  {
   "cell_type": "markdown",
   "metadata": {},
   "source": [
    "### Feature-target correlation"
   ]
  },
  {
   "cell_type": "code",
   "execution_count": null,
   "metadata": {},
   "outputs": [],
   "source": [
    "#TODO set an appropriate figsize for Google Colab\n",
    "plot_feature_target_relation(\n",
    "    pdf, ALL_FEATURES_STD, TARGET_VARIABLE, figsize=(4,4), color=COLOR_STD\n",
    ")"
   ]
  },
  {
   "cell_type": "markdown",
   "metadata": {},
   "source": [
    "#### Feature distribution"
   ]
  },
  {
   "cell_type": "code",
   "execution_count": null,
   "metadata": {},
   "outputs": [],
   "source": [
    "plot_feature_distribution(\n",
    "    pdf, ALL_FEATURES_STD, color = COLOR_STD, figsize=(10,10)\n",
    ")"
   ]
  },
  {
   "cell_type": "markdown",
   "metadata": {},
   "source": [
    "*[state why pearson correlation matrix does NOT make sense to be plotted again]*"
   ]
  },
  {
   "cell_type": "markdown",
   "metadata": {},
   "source": [
    "## Log transformation"
   ]
  },
  {
   "cell_type": "code",
   "execution_count": null,
   "metadata": {},
   "outputs": [],
   "source": [
    "# log_df = df"
   ]
  },
  {
   "cell_type": "code",
   "execution_count": null,
   "metadata": {},
   "outputs": [],
   "source": [
    "ALL_FEATURES_LOG = [\n",
    "    player_feature + \"_log\" for player_feature in ALL_FEATURES\n",
    "]\n",
    "\n",
    "COLOR_LOG = \"#E15FED\""
   ]
  },
  {
   "cell_type": "code",
   "execution_count": null,
   "metadata": {},
   "outputs": [],
   "source": [
    "to_log_UDF = udf(\n",
    "    lambda value: float(np.log2(value)), DoubleType()\n",
    ")"
   ]
  },
  {
   "cell_type": "code",
   "execution_count": null,
   "metadata": {},
   "outputs": [],
   "source": [
    "for f, fl in zip(ALL_FEATURES, ALL_FEATURES_LOG):\n",
    "    # log_df = log_df.withColumn(fl, to_log_UDF(col(f)))\n",
    "    df = df.withColumn(fl, to_log_UDF(col(f)))"
   ]
  },
  {
   "cell_type": "code",
   "execution_count": null,
   "metadata": {},
   "outputs": [],
   "source": [
    "# pdf = log_df.toPandas()\n",
    "pdf = df.toPandas()"
   ]
  },
  {
   "cell_type": "markdown",
   "metadata": {},
   "source": [
    "### Feature-target correlation"
   ]
  },
  {
   "cell_type": "code",
   "execution_count": null,
   "metadata": {},
   "outputs": [],
   "source": [
    "#TODO set an appropriate figsize for Google Colab\n",
    "plot_feature_target_relation(\n",
    "    pdf, ALL_FEATURES_LOG, TARGET_VARIABLE, figsize=(4,4), color=COLOR_LOG\n",
    ")"
   ]
  },
  {
   "cell_type": "markdown",
   "metadata": {},
   "source": [
    "### Feature distribution"
   ]
  },
  {
   "cell_type": "code",
   "execution_count": null,
   "metadata": {},
   "outputs": [],
   "source": [
    "plot_feature_distribution(pdf, ALL_FEATURES_LOG, color = COLOR_LOG, figsize=(10,10))"
   ]
  },
  {
   "cell_type": "markdown",
   "metadata": {},
   "source": [
    "## Min-max transformation"
   ]
  },
  {
   "cell_type": "code",
   "execution_count": null,
   "metadata": {},
   "outputs": [],
   "source": [
    "# min_max_df = df"
   ]
  },
  {
   "cell_type": "code",
   "execution_count": null,
   "metadata": {},
   "outputs": [],
   "source": [
    "ALL_FEATURES_MIN_MAX = [\n",
    "    player_feature + \"_min_max\" for player_feature in ALL_FEATURES\n",
    "]\n",
    "\n",
    "COLOR_MIN_MAX = \"#6EDCD9\""
   ]
  },
  {
   "cell_type": "code",
   "execution_count": null,
   "metadata": {},
   "outputs": [],
   "source": [
    "scaler = MinMaxScaler(\n",
    "    inputCol=\"all_vec\", \n",
    "    outputCol=\"all_vec_min_max\"\n",
    ")"
   ]
  },
  {
   "cell_type": "code",
   "execution_count": null,
   "metadata": {},
   "outputs": [],
   "source": [
    "# min_max_df = scaler.fit(min_max_df).transform(min_max_df)\n",
    "df = scaler.fit(df).transform(df)"
   ]
  },
  {
   "cell_type": "code",
   "execution_count": null,
   "metadata": {},
   "outputs": [],
   "source": [
    "# pdf = min_max_df.toPandas()\n",
    "pdf = df.toPandas()"
   ]
  },
  {
   "cell_type": "code",
   "execution_count": null,
   "metadata": {},
   "outputs": [],
   "source": [
    "#TODO make a commodity function, because it will be used in other normalizations as well\n",
    "\n",
    "pdf = pdf.reindex(\n",
    "    columns=list(pdf.columns) + ALL_FEATURES_MIN_MAX\n",
    ")\n",
    "\n",
    "pdf[ALL_FEATURES_MIN_MAX] = pdf[\n",
    "    \"all_vec_min_max\"\n",
    "].transform(\n",
    "    {\n",
    "        ALL_FEATURES_MIN_MAX[i]: itemgetter(i) for i, p in enumerate(ALL_FEATURES_MIN_MAX)\n",
    "    }\n",
    ")"
   ]
  },
  {
   "cell_type": "markdown",
   "metadata": {},
   "source": [
    "### Feature-target relationship"
   ]
  },
  {
   "cell_type": "code",
   "execution_count": null,
   "metadata": {},
   "outputs": [],
   "source": [
    "#TODO set an appropriate figsize for Google Colab\n",
    "plot_feature_target_relation(\n",
    "    pdf, ALL_FEATURES_MIN_MAX, TARGET_VARIABLE, figsize=(4,4), color=COLOR_MIN_MAX\n",
    ")"
   ]
  },
  {
   "cell_type": "markdown",
   "metadata": {},
   "source": [
    "### Feature distribution"
   ]
  },
  {
   "cell_type": "code",
   "execution_count": null,
   "metadata": {},
   "outputs": [],
   "source": [
    "plot_feature_distribution(pdf, ALL_FEATURES_MIN_MAX, color = COLOR_MIN_MAX, figsize=(10,10))"
   ]
  },
  {
   "cell_type": "code",
   "execution_count": null,
   "metadata": {},
   "outputs": [],
   "source": [
    "#TODO place learning on ## titles here"
   ]
  },
  {
   "cell_type": "markdown",
   "metadata": {},
   "source": [
    "# Attempt 2: \"less is more\"\n",
    "\n",
    "Ok, considering all features gives trash results.\n",
    "\n",
    "What if we embrace the \"less is more idea\" and try to improve the results by means of using less features?\n",
    "\n",
    "Nevertheless, feature correlation is very high, so, intrinsicly, it already did NOT make much sense to consider them all."
   ]
  },
  {
   "cell_type": "markdown",
   "metadata": {},
   "source": [
    "## PCA (on min-max normalized data)"
   ]
  },
  {
   "cell_type": "code",
   "execution_count": null,
   "metadata": {},
   "outputs": [],
   "source": [
    "# pca_df = min_max_df\n",
    "# pca_df = df\n",
    "\n",
    "PCA_NUM_COMPONENTS = 5\n",
    "PCA_NUM_COMPONENTS_TO_PLOT = 2\n",
    "\n",
    "pca = PCA(\n",
    "    k=PCA_NUM_COMPONENTS, \n",
    "    inputCol=\"all_vec_min_max\", \n",
    "    outputCol=\"all_vec_min_max_pcs\"\n",
    ")\n",
    "\n",
    "# pca_model = pca.fit(pca_df)\n",
    "# pca_df = pca_model.transform(pca_df)\n",
    "pca_model = pca.fit(df)\n",
    "df = pca_model.transform(df)"
   ]
  },
  {
   "cell_type": "code",
   "execution_count": null,
   "metadata": {},
   "outputs": [],
   "source": [
    "fig, ax = plt.subplots(1, 1, figsize=(8, 6))\n",
    "_ = sns.barplot(\n",
    "    x=[i for i in range(PCA_NUM_COMPONENTS_TO_PLOT)],\n",
    "    y=pca_model.explainedVariance.values[0:PCA_NUM_COMPONENTS_TO_PLOT],\n",
    "    ax=ax,\n",
    ")\n",
    "\n",
    "_ = ax.set_xlabel(\"Eigenvalues\", labelpad=16, fontsize=16)\n",
    "_ = ax.set_ylabel(\"Proportion of Variance\", fontsize=16)\n",
    "_ = ax.set_xticklabels(\n",
    "    [f\"Principal Component {i}\" for i in range(PCA_NUM_COMPONENTS_TO_PLOT)], \n",
    "    rotation=0\n",
    ")\n",
    "_ = ax.set_title(\"Explained variance of each Principal Component\")"
   ]
  },
  {
   "cell_type": "code",
   "execution_count": null,
   "metadata": {},
   "outputs": [],
   "source": [
    "def scatter_plot(data, x, y, c, x_label, y_label):\n",
    "\n",
    "    fig, ax = plt.subplots(1, 1, figsize=(12, 8))\n",
    "\n",
    "    _ = plt.scatter(\n",
    "        x = x,\n",
    "        y = y,\n",
    "        c = c,\n",
    "        edgecolor=\"none\",\n",
    "        alpha=1,\n",
    "        cmap=\"rainbow\",\n",
    "        axes=ax\n",
    "    )\n",
    "\n",
    "    _ = ax.set_xlabel(x_label, labelpad=20, fontsize=16)\n",
    "    _ = ax.set_ylabel(y_label, fontsize=16)\n",
    "\n",
    "    plt.colorbar()\n",
    "    plt.show()"
   ]
  },
  {
   "cell_type": "code",
   "execution_count": null,
   "metadata": {},
   "outputs": [],
   "source": [
    "# pca_pdf = pca_df.toPandas()\n",
    "pca_pdf = df.toPandas()"
   ]
  },
  {
   "cell_type": "code",
   "execution_count": null,
   "metadata": {},
   "outputs": [],
   "source": [
    "scatter_plot(\n",
    "    pca_pdf, \n",
    "    pca_pdf.all_vec_min_max_pcs.map(lambda x: x[0]),\n",
    "    pca_pdf.all_vec_min_max_pcs.map(lambda x: x[1]),\n",
    "    pca_pdf.points,\n",
    "    \"Principal Component 0\",\n",
    "    \"Principal Component 1\"\n",
    ")"
   ]
  },
  {
   "cell_type": "code",
   "execution_count": null,
   "metadata": {},
   "outputs": [],
   "source": [
    "# TODO evaluate whether points should be normlized to same scale as PCA values\n",
    "scatter_plot(\n",
    "    pca_pdf, \n",
    "    pca_pdf.all_vec_min_max_pcs.map(lambda x: x[0]),\n",
    "    pca_pdf.points,\n",
    "    pca_pdf.points,\n",
    "    \"Principal Component 0\",\n",
    "    \"Points\"\n",
    ")"
   ]
  },
  {
   "cell_type": "code",
   "execution_count": null,
   "metadata": {},
   "outputs": [],
   "source": [
    "# TODO evaluate whether points should be normlized to same scale as PCA values\n",
    "scatter_plot(\n",
    "    pca_pdf, \n",
    "    pca_pdf.all_vec_min_max_pcs.map(lambda x: x[1]),\n",
    "    pca_pdf.points,\n",
    "    pca_pdf.points,\n",
    "    \"Principal Component 1\",\n",
    "    \"Points\"\n",
    ")"
   ]
  },
  {
   "cell_type": "markdown",
   "metadata": {},
   "source": [
    "### Feature-target relationship"
   ]
  },
  {
   "cell_type": "markdown",
   "metadata": {},
   "source": [
    "### Feature distribution"
   ]
  },
  {
   "cell_type": "markdown",
   "metadata": {},
   "source": [
    "*[bridge between this and Feature selection]*"
   ]
  },
  {
   "cell_type": "markdown",
   "metadata": {},
   "source": [
    "## Chi-squared"
   ]
  },
  {
   "cell_type": "markdown",
   "metadata": {},
   "source": [
    "## TNSE"
   ]
  },
  {
   "cell_type": "markdown",
   "metadata": {},
   "source": [
    "## Univariate Feature Selection"
   ]
  },
  {
   "cell_type": "markdown",
   "metadata": {},
   "source": [
    "Log scaling reduces skewedness of \"avg(mentality_penalties)\" feature BUT it increases the skewedness of all the other features.\n",
    "The other scalings (z-score and min-max) do NOT appear to be different than the \"raw\" data distribution.\n",
    "\n",
    "For this reason and due to the limited amount of resources available on Google Colab, we decided to stick with the min-max scaled data.\n",
    "In fact, the min-max scaling places \"for free\" all the features in the same scale, which is a very important consideration for SVM, which will be used in the upcoming sections"
   ]
  },
  {
   "cell_type": "code",
   "execution_count": null,
   "metadata": {},
   "outputs": [],
   "source": [
    "# feature_selection_df = min_max_df"
   ]
  },
  {
   "cell_type": "code",
   "execution_count": null,
   "metadata": {},
   "outputs": [],
   "source": [
    "selector = UnivariateFeatureSelector(\n",
    "    featuresCol=\"all_vec\",\n",
    "    labelCol=TARGET_VARIABLE, \n",
    "    selectionMode=\"percentile\"\n",
    ").setFeatureType(\"continuous\").setLabelType(\"categorical\").setSelectionThreshold(0.08)"
   ]
  },
  {
   "cell_type": "code",
   "execution_count": null,
   "metadata": {},
   "outputs": [],
   "source": [
    "NUM_FEATURES = 2"
   ]
  },
  {
   "cell_type": "code",
   "execution_count": null,
   "metadata": {},
   "outputs": [],
   "source": [
    "fit_result = dict()\n",
    "\n",
    "# for thr in range(0.1, 1.1, 0.1):\n",
    "# for thr in np.linspace(1, 1, 1):\n",
    "for thr in [0.1]:\n",
    "\n",
    "    selector.setSelectionThreshold(thr)\n",
    "    selector.setOutputCol(\"ufs_\" + str(thr).replace(\".\", \"-\")),\n",
    "    fit_result[str(thr)] = selector.fit(df)\n",
    "    # feature_selection_df = fit_result[str(thr)].transform(\n",
    "    #     feature_selection_df\n",
    "    # )\n",
    "    df = fit_result[str(thr)].transform(df)\n"
   ]
  },
  {
   "cell_type": "code",
   "execution_count": null,
   "metadata": {},
   "outputs": [],
   "source": [
    "# feature_selection_pdf = feature_selection_df.toPandas()\n",
    "feature_selection_pdf = df.toPandas()"
   ]
  },
  {
   "cell_type": "code",
   "execution_count": null,
   "metadata": {},
   "outputs": [],
   "source": [
    "scatter_plot(\n",
    "    feature_selection_pdf,\n",
    "    feature_selection_pdf[\"ufs_0-1\"].map(lambda x: x[0]),\n",
    "    feature_selection_pdf[\"ufs_0-1\"].map(lambda x: x[1]),\n",
    "    feature_selection_pdf.points,\n",
    "    \"Feature 0\",\n",
    "    \"Feature 1\"\n",
    "    \n",
    ")"
   ]
  },
  {
   "cell_type": "code",
   "execution_count": null,
   "metadata": {},
   "outputs": [],
   "source": [
    "scatter_plot(\n",
    "    feature_selection_pdf,\n",
    "    feature_selection_pdf[\"ufs_0-1\"].map(lambda x: x[0]),\n",
    "    feature_selection_pdf.points,\n",
    "    feature_selection_pdf.points,\n",
    "    \"Feature 0\",\n",
    "    \"Points\"\n",
    "    \n",
    ")"
   ]
  },
  {
   "cell_type": "code",
   "execution_count": null,
   "metadata": {},
   "outputs": [],
   "source": [
    "scatter_plot(\n",
    "    feature_selection_pdf,\n",
    "    feature_selection_pdf[\"ufs_0-1\"].map(lambda x: x[1]),\n",
    "    feature_selection_pdf.points,\n",
    "    feature_selection_pdf.points,\n",
    "    \"Feature 1\",\n",
    "    \"Points\"\n",
    "    \n",
    ")"
   ]
  },
  {
   "cell_type": "code",
   "execution_count": null,
   "metadata": {},
   "outputs": [],
   "source": [
    "pdf = df.toPandas()"
   ]
  },
  {
   "cell_type": "code",
   "execution_count": null,
   "metadata": {},
   "outputs": [],
   "source": [
    "selected_features = list(\n",
    "    map(\n",
    "        lambda i: ALL_FEATURES[i], fit_result[\"0.1\"].selectedFeatures\n",
    "    )\n",
    ")"
   ]
  },
  {
   "cell_type": "markdown",
   "metadata": {},
   "source": [
    "### Feature-target relationship"
   ]
  },
  {
   "cell_type": "code",
   "execution_count": null,
   "metadata": {},
   "outputs": [],
   "source": [
    "#TODO set an appropriate figsize for Google Colab\n",
    "plot_feature_target_relation(\n",
    "    pdf, selected_features, TARGET_VARIABLE, figsize=(4,4), \n",
    "    color=COLOR_MIN_MAX\n",
    ")"
   ]
  },
  {
   "cell_type": "markdown",
   "metadata": {},
   "source": [
    "### Feature correlation"
   ]
  },
  {
   "cell_type": "markdown",
   "metadata": {},
   "source": [
    "look at it from the original pearson matrix"
   ]
  },
  {
   "cell_type": "markdown",
   "metadata": {},
   "source": [
    "state that these data distribs are trash.\n",
    "\n",
    "So, for this reason, talk about overall and value."
   ]
  },
  {
   "cell_type": "markdown",
   "metadata": {},
   "source": [
    "## Overall as feature (min-max normalized)"
   ]
  },
  {
   "cell_type": "markdown",
   "metadata": {},
   "source": [
    "Since the features are so correlated and performances of attempt 1 are trash, why not considering just the overall as a feature?\n",
    "\n",
    "Maybe, we're lucky and the overall captures some other characteristics thay may steer the prediction a little bit more"
   ]
  },
  {
   "cell_type": "code",
   "execution_count": null,
   "metadata": {},
   "outputs": [],
   "source": [
    "OVERALL = [\"avg(overall)\"]\n",
    "\n",
    "COLOR_OVERALL_MIN_MAX = \"green\""
   ]
  },
  {
   "cell_type": "code",
   "execution_count": null,
   "metadata": {},
   "outputs": [],
   "source": [
    "assembler = VectorAssembler(\n",
    "    inputCols=OVERALL, outputCol=\"overall_vec\"\n",
    ")\n",
    "\n",
    "# min_max_df = assembler.transform(min_max_df)\n",
    "df = assembler.transform(df)"
   ]
  },
  {
   "cell_type": "code",
   "execution_count": null,
   "metadata": {},
   "outputs": [],
   "source": [
    "OVERALL_MIN_MAX = [\"avg(overall)_min_max\"]"
   ]
  },
  {
   "cell_type": "code",
   "execution_count": null,
   "metadata": {},
   "outputs": [],
   "source": [
    "scaler = MinMaxScaler(\n",
    "    inputCol=\"overall_vec\", \n",
    "    outputCol=\"overall_vec_min_max\"\n",
    ")"
   ]
  },
  {
   "cell_type": "code",
   "execution_count": null,
   "metadata": {},
   "outputs": [],
   "source": [
    "# min_max_df = scaler.fit(min_max_df).transform(min_max_df)\n",
    "df = scaler.fit(df).transform(df)"
   ]
  },
  {
   "cell_type": "code",
   "execution_count": null,
   "metadata": {},
   "outputs": [],
   "source": [
    "# pdf = min_max_df.toPandas()\n",
    "pdf = df.toPandas()"
   ]
  },
  {
   "cell_type": "code",
   "execution_count": null,
   "metadata": {},
   "outputs": [],
   "source": [
    "#TODO make a commodity function, because it will be used in other normalizations as well\n",
    "\n",
    "pdf = pdf.reindex(\n",
    "    columns=list(pdf.columns) + OVERALL_MIN_MAX\n",
    ")\n",
    "\n",
    "pdf[OVERALL_MIN_MAX] = pdf[\n",
    "    \"overall_vec_min_max\"\n",
    "].transform(\n",
    "    {\n",
    "        OVERALL_MIN_MAX[i]: itemgetter(i) for i, p in enumerate(OVERALL_MIN_MAX)\n",
    "    }\n",
    ")"
   ]
  },
  {
   "cell_type": "markdown",
   "metadata": {},
   "source": [
    "### Feature-target relationship"
   ]
  },
  {
   "cell_type": "code",
   "execution_count": null,
   "metadata": {},
   "outputs": [],
   "source": [
    "#TODO set an appropriate figsize for Google Colab\n",
    "plot_feature_target_relation(\n",
    "    pdf, OVERALL_MIN_MAX, TARGET_VARIABLE, figsize=(4,4), color=COLOR_OVERALL_MIN_MAX\n",
    ")"
   ]
  },
  {
   "cell_type": "markdown",
   "metadata": {},
   "source": [
    "Look, they are basically the same. In fact, if we check their correlation, we get... [high correlation on pearson]"
   ]
  },
  {
   "cell_type": "markdown",
   "metadata": {},
   "source": [
    "### Feature distribution"
   ]
  },
  {
   "cell_type": "code",
   "execution_count": null,
   "metadata": {},
   "outputs": [],
   "source": [
    "plot_feature_distribution(pdf, OVERALL_MIN_MAX, color = COLOR_OVERALL_MIN_MAX, figsize=(10,10))"
   ]
  },
  {
   "cell_type": "markdown",
   "metadata": {},
   "source": [
    "## Value as feature (min-max normalized)"
   ]
  },
  {
   "cell_type": "markdown",
   "metadata": {},
   "source": [
    "Oh, we found this paper: \n",
    "\n",
    "So, why not try their approach as well?"
   ]
  },
  {
   "cell_type": "code",
   "execution_count": null,
   "metadata": {},
   "outputs": [],
   "source": [
    "VALUE = [\"avg(value)\"]\n",
    "\n",
    "COLOR_VALUE_MIN_MAX = \"lime\""
   ]
  },
  {
   "cell_type": "code",
   "execution_count": null,
   "metadata": {},
   "outputs": [],
   "source": [
    "assembler = VectorAssembler(\n",
    "    inputCols=VALUE, outputCol=\"value_vec\"\n",
    ")\n",
    "\n",
    "# min_max_df = assembler.transform(min_max_df)\n",
    "df = assembler.transform(df)"
   ]
  },
  {
   "cell_type": "code",
   "execution_count": null,
   "metadata": {},
   "outputs": [],
   "source": [
    "# IT BREAKS HERE, if using legacy data as well :C\n",
    "\n",
    "# TODO handle value attribute in legacy datasets\n",
    "# in legacy datasets it's encoded as \"ValueMagnitudeCurrency\" (i.e. 70M€)\n",
    "# gotta convert it to full length, to be compatible with modern (and actually usable!)\n",
    "\n",
    "# df.show() "
   ]
  },
  {
   "cell_type": "code",
   "execution_count": null,
   "metadata": {},
   "outputs": [],
   "source": [
    "VALUE_MIN_MAX = [\"avg(value)_min_max\"]"
   ]
  },
  {
   "cell_type": "code",
   "execution_count": null,
   "metadata": {},
   "outputs": [],
   "source": [
    "scaler = MinMaxScaler(\n",
    "    inputCol=\"value_vec\", \n",
    "    outputCol=\"value_vec_min_max\"\n",
    ")"
   ]
  },
  {
   "cell_type": "code",
   "execution_count": null,
   "metadata": {},
   "outputs": [],
   "source": [
    "# min_max_df = scaler.fit(min_max_df).transform(min_max_df)\n",
    "df = scaler.fit(df).transform(df)"
   ]
  },
  {
   "cell_type": "code",
   "execution_count": null,
   "metadata": {},
   "outputs": [],
   "source": [
    "# pdf = min_max_df.toPandas()\n",
    "# NOTE keep the following line disabled!\n",
    "# gotta accumulate overall and value in the same pandas DF, so as we can use it\n",
    "# for the Pearson correlation matrix!\n",
    "pdf = df.toPandas()"
   ]
  },
  {
   "cell_type": "code",
   "execution_count": null,
   "metadata": {},
   "outputs": [],
   "source": [
    "#TODO make a commodity function, because it will be used in other normalizations as well\n",
    "\n",
    "pdf = pdf.reindex(\n",
    "    columns=list(pdf.columns) + VALUE_MIN_MAX\n",
    ")\n",
    "\n",
    "pdf[VALUE_MIN_MAX] = pdf[\n",
    "    \"value_vec_min_max\"\n",
    "].transform(\n",
    "    {\n",
    "        VALUE_MIN_MAX[i]: itemgetter(i) for i, p in enumerate(VALUE_MIN_MAX)\n",
    "    }\n",
    ")"
   ]
  },
  {
   "cell_type": "markdown",
   "metadata": {},
   "source": [
    "### Feature-target relationship"
   ]
  },
  {
   "cell_type": "code",
   "execution_count": null,
   "metadata": {},
   "outputs": [],
   "source": [
    "#TODO set an appropriate figsize for Google Colab\n",
    "plot_feature_target_relation(\n",
    "    pdf, VALUE_MIN_MAX, TARGET_VARIABLE, figsize=(4,4), color=COLOR_VALUE_MIN_MAX\n",
    ")"
   ]
  },
  {
   "cell_type": "markdown",
   "metadata": {},
   "source": [
    "### Feature distribution"
   ]
  },
  {
   "cell_type": "code",
   "execution_count": null,
   "metadata": {},
   "outputs": [],
   "source": [
    "plot_feature_distribution(pdf, VALUE_MIN_MAX, color = COLOR_VALUE_MIN_MAX, figsize=(10,10))"
   ]
  },
  {
   "cell_type": "markdown",
   "metadata": {},
   "source": [
    "Hint at a very high correlation, then show it with pearson matrix..."
   ]
  },
  {
   "cell_type": "code",
   "execution_count": null,
   "metadata": {},
   "outputs": [],
   "source": [
    "pdf = df.select(\"overall_vec_min_max\", \"value_vec_min_max\").toPandas()\n",
    "\n",
    "# need to flat every element of the columns, because they are in vectors\n",
    "pdf[\"overall_vec_min_max\"] = pdf[\"overall_vec_min_max\"].map(\n",
    "    lambda x: x[0]\n",
    ")\n",
    "pdf[\"value_vec_min_max\"] = pdf[\"value_vec_min_max\"].map(\n",
    "    lambda x: x[0]\n",
    ")\n",
    "\n",
    "plot_correlation_matrix(\n",
    "    pdf, \n",
    "    [\"overall_vec_min_max\", \"value_vec_min_max\"]\n",
    ")"
   ]
  },
  {
   "cell_type": "markdown",
   "metadata": {},
   "source": [
    "Comment this correlation, and move on with life"
   ]
  },
  {
   "cell_type": "markdown",
   "metadata": {},
   "source": [
    "## Learning for attempt 2"
   ]
  },
  {
   "cell_type": "markdown",
   "metadata": {},
   "source": [
    "*[\n",
    "    state that via hyperparam grid we'll set the feature column, meaning that we'll try to train the models on all of the attemps\n",
    "\n",
    "[state expected results, according to correlations and similar stuff]\n",
    "\n",
    "]"
   ]
  },
  {
   "cell_type": "code",
   "execution_count": null,
   "metadata": {},
   "outputs": [],
   "source": [
    "# feature_selection_learning_df = feature_selection_df"
   ]
  },
  {
   "cell_type": "code",
   "execution_count": null,
   "metadata": {},
   "outputs": [],
   "source": [
    "# feature_selection_train_df, feature_selection_test_df = feature_selection_learning_df.randomSplit(\n",
    "#     # [0.9, 0.1]\n",
    "#     [0.7, 0.3]\n",
    "# )\n",
    "\n",
    "learning_train_df, learning_test_df = df.randomSplit(\n",
    "    # [0.9,0.1]\n",
    "    # NOTE reactive 90/10 split, keep 70/30 just when using one league\n",
    "    [0.7,0.3]\n",
    ")"
   ]
  },
  {
   "cell_type": "code",
   "execution_count": null,
   "metadata": {},
   "outputs": [],
   "source": [
    "NUM_FOLDS_CV = 4"
   ]
  },
  {
   "cell_type": "code",
   "execution_count": 63,
   "metadata": {},
   "outputs": [],
   "source": [
    "def find_best_regressor(\n",
    "    train_df,\n",
    "    test_df,\n",
    "    regressor,\n",
    "    regressor_evaluation_metrics,\n",
    "    cv_evaluation_metrics,\n",
    "    hyperparams_grid\n",
    "):\n",
    "\n",
    "    cv_evaluators = {\n",
    "        metric: RegressionEvaluator(\n",
    "            labelCol=\"points\",\n",
    "            metricName=metric,\n",
    "        )\n",
    "        for metric in cv_evaluation_metrics\n",
    "    }\n",
    "\n",
    "    regressor_evaluators = {\n",
    "        metric: RegressionEvaluator(\n",
    "            labelCol=\"points\",\n",
    "            metricName=metric,\n",
    "        )\n",
    "        for metric in regressor_evaluation_metrics\n",
    "    }\n",
    "\n",
    "    cross_validations = {\n",
    "        metric: CrossValidator(\n",
    "            estimator=regressor,\n",
    "            estimatorParamMaps=hyperparams_grid,\n",
    "            evaluator=cv_evaluators[metric],\n",
    "            numFolds=NUM_FOLDS_CV,\n",
    "            collectSubModels=True\n",
    "        )\n",
    "        for metric in cv_evaluation_metrics\n",
    "    }\n",
    "\n",
    "    cross_validated = dict()\n",
    "\n",
    "    for metric in cv_evaluation_metrics:\n",
    "\n",
    "        cross_validated[metric] = cross_validations[\n",
    "            metric\n",
    "        ].fit(train_df)\n",
    "\n",
    "    if (isinstance(regressor, LinearRegression)):\n",
    "        \n",
    "        for metric in cv_evaluation_metrics:\n",
    "\n",
    "            training_result = cross_validated[\n",
    "                metric\n",
    "            ].bestModel.summary\n",
    "\n",
    "            print(\n",
    "                \"***** Evaluating Training Set, (Linear Regression, best model according to metric {}) *****\".format(\n",
    "                    metric\n",
    "                )\n",
    "            )\n",
    "            print(\"RMSE: {:.3f}\".format(training_result.rootMeanSquaredError))\n",
    "            print(\"R2: {:.3f}\".format(training_result.r2))\n",
    "            print(\"Adjusted R2: {:.3f}\".format(training_result.r2adj))\n",
    "            print()\n",
    "\n",
    "        predictions = {\n",
    "            metric: cross_validated[\n",
    "                metric\n",
    "            ].bestModel.transform(test_df)\n",
    "            for metric in cv_evaluation_metrics\n",
    "        }\n",
    "\n",
    "        for m, model in cross_validated.items():\n",
    "\n",
    "                print(\n",
    "                    \"*** {} Set, (rf, best model elected by {}) ***\".format(\n",
    "                        \"Test\", m\n",
    "                    )\n",
    "                )\n",
    "\n",
    "                for e, evaluator in regressor_evaluators.items():\n",
    "\n",
    "                    print(\n",
    "                        \"{}: {}\".format(\n",
    "                            evaluator.getMetricName(), evaluator.evaluate(\n",
    "                                predictions[m]\n",
    "                            )\n",
    "                        )\n",
    "                    )\n",
    "\n",
    "                print(\"*******************************\")\n",
    "\n",
    "    else:\n",
    "\n",
    "        for stage_name, stage_df in zip([\"Train\", \"Test\"], [train_df, test_df]):\n",
    "            predictions = {\n",
    "                metric: cross_validated[\n",
    "                    metric\n",
    "                ].bestModel.transform(stage_df)\n",
    "                for metric in cv_evaluation_metrics\n",
    "            }\n",
    "\n",
    "            for m, model in cross_validated.items():\n",
    "\n",
    "                print(\n",
    "                    \"*** {} Set, (rf, best model elected by {}) ***\".format(\n",
    "                        stage_name, m\n",
    "                    )\n",
    "                )\n",
    "\n",
    "                for e, evaluator in regressor_evaluators.items():\n",
    "\n",
    "                    print(\n",
    "                        \"{}: {}\".format(\n",
    "                            evaluator.getMetricName(), evaluator.evaluate(\n",
    "                                predictions[m]\n",
    "                            )\n",
    "                        )\n",
    "                    )\n",
    "\n",
    "                print(\"*******************************\")\n",
    "\n"
   ]
  },
  {
   "cell_type": "code",
   "execution_count": null,
   "metadata": {},
   "outputs": [],
   "source": [
    "def find_best_classifier(\n",
    "    train_df,\n",
    "    test_df,\n",
    "    classifier,\n",
    "    classifier_evaluation_metrics,\n",
    "    cv_evaluation_metrics,\n",
    "    hyperparams_grid\n",
    "):\n",
    "\n",
    "    cv_evaluators = {\n",
    "        metric: MulticlassClassificationEvaluator(\n",
    "            labelCol=\"macro_place\",\n",
    "            metricName=metric,\n",
    "        )\n",
    "        for metric in cv_evaluation_metrics\n",
    "    }\n",
    "\n",
    "    classifier_evaluators = {\n",
    "        metric: MulticlassClassificationEvaluator(\n",
    "            labelCol=\"macro_place\",\n",
    "            metricName=metric,\n",
    "        )\n",
    "        for metric in classifier_evaluation_metrics\n",
    "    }\n",
    "\n",
    "    cross_validations = {\n",
    "        metric: CrossValidator(\n",
    "            estimator=classifier,\n",
    "            estimatorParamMaps=hyperparams_grid,\n",
    "            evaluator=cv_evaluators[metric],\n",
    "            numFolds=NUM_FOLDS_CV,\n",
    "            collectSubModels=True\n",
    "        )\n",
    "        for metric in cv_evaluation_metrics\n",
    "    }\n",
    "\n",
    "    cross_validated = dict()\n",
    "\n",
    "    for metric in cv_evaluation_metrics:\n",
    "\n",
    "        cross_validated[metric] = cross_validations[\n",
    "            metric\n",
    "        ].fit(train_df)\n",
    "\n",
    "    if (isinstance(classifier, LinearRegression)):\n",
    "        \n",
    "        for metric in cv_evaluation_metrics:\n",
    "\n",
    "            training_result = cross_validated[\n",
    "                metric\n",
    "            ].bestModel.summary\n",
    "\n",
    "            print(\n",
    "                \"***** Evaluating Training Set, (Linear Regression, best model according to metric {}) *****\".format(\n",
    "                    metric\n",
    "                )\n",
    "            )\n",
    "            print(\"RMSE: {:.3f}\".format(training_result.rootMeanSquaredError))\n",
    "            print(\"R2: {:.3f}\".format(training_result.r2))\n",
    "            print(\"Adjusted R2: {:.3f}\".format(training_result.r2adj))\n",
    "            print()\n",
    "\n",
    "        predictions = {\n",
    "            metric: cross_validated[\n",
    "                metric\n",
    "            ].bestModel.transform(test_df)\n",
    "            for metric in cv_evaluation_metrics\n",
    "        }\n",
    "\n",
    "        for m, model in cross_validated.items():\n",
    "\n",
    "                print(\n",
    "                    \"*** {} Set, (rf, best model elected by {}) ***\".format(\n",
    "                        \"Test\", m\n",
    "                    )\n",
    "                )\n",
    "\n",
    "                for e, evaluator in classifier_evaluators.items():\n",
    "\n",
    "                    print(\n",
    "                        \"{}: {}\".format(\n",
    "                            evaluator.getMetricName(), evaluator.evaluate(\n",
    "                                predictions[m]\n",
    "                            )\n",
    "                        )\n",
    "                    )\n",
    "\n",
    "                print(\"*******************************\")\n",
    "\n",
    "    else:\n",
    "\n",
    "        for stage_name, stage_df in zip([\"Train\", \"Test\"], [train_df, test_df]):\n",
    "            predictions = {\n",
    "                metric: cross_validated[\n",
    "                    metric\n",
    "                ].bestModel.transform(stage_df)\n",
    "                for metric in cv_evaluation_metrics\n",
    "            }\n",
    "\n",
    "            for m, model in cross_validated.items():\n",
    "\n",
    "                print(\n",
    "                    \"*** {} Set, (rf, best model elected by {}) ***\".format(\n",
    "                        stage_name, m\n",
    "                    )\n",
    "                )\n",
    "\n",
    "                for e, evaluator in classifier_evaluators.items():\n",
    "\n",
    "                    print(\n",
    "                        \"{}: {}\".format(\n",
    "                            evaluator.getMetricName(), evaluator.evaluate(\n",
    "                                predictions[m]\n",
    "                            )\n",
    "                        )\n",
    "                    )\n",
    "\n",
    "                print(\"*******************************\")\n",
    "\n"
   ]
  },
  {
   "cell_type": "markdown",
   "metadata": {},
   "source": [
    "### Regression"
   ]
  },
  {
   "cell_type": "markdown",
   "metadata": {},
   "source": [
    "#### Linear Regression"
   ]
  },
  {
   "cell_type": "code",
   "execution_count": null,
   "metadata": {},
   "outputs": [],
   "source": [
    "# lr_train_df, lr_test_df = feature_selection_train_df, feature_selection_test_df\n",
    "lr_train_df, lr_test_df = learning_train_df, learning_test_df"
   ]
  },
  {
   "cell_type": "code",
   "execution_count": null,
   "metadata": {},
   "outputs": [],
   "source": [
    "lr = LinearRegression(\n",
    "    # featuresCol=\"feature_vec_ufs_0.1\", \n",
    "    labelCol=\"points\"\n",
    ")\n",
    "\n",
    "lr_evaluation_metrics = [\"r2\", \"mse\"]\n",
    "lr_evaluation_metrics_cv = [\"r2\"]\n",
    "\n",
    "lr_param_grid = (\n",
    "    ParamGridBuilder()\n",
    "    .addGrid(\n",
    "        lr.featuresCol, [\n",
    "            \"ufs_0-1\", \n",
    "            # \"value_vec_min_max\",\n",
    "            # \"all_vec_min_max_pcs\",\n",
    "            # \"all_vec_min_max\"\n",
    "        ]\n",
    "    )\n",
    "    #TODO add intermediate values: prof uses [0.0, 0.5, 1]\n",
    "    .addGrid(lr.elasticNetParam, [0.0, 1])\n",
    "    #TODO add intermediate values: prof uses [0.0, 0.05, 0.1]\n",
    "    # .addGrid(lr.regParam, [0.0, 0.1])\n",
    "    # .addGrid(lr.fitIntercept, [True, False])\n",
    "    .build()\n",
    ")\n",
    "\n",
    "find_best_regressor(\n",
    "    train_df=lr_train_df, \n",
    "    test_df=lr_test_df, \n",
    "    regressor=lr,\n",
    "    regressor_evaluation_metrics=lr_evaluation_metrics,\n",
    "    cv_evaluation_metrics=lr_evaluation_metrics_cv,\n",
    "    hyperparams_grid=lr_param_grid\n",
    ")"
   ]
  },
  {
   "cell_type": "markdown",
   "metadata": {},
   "source": [
    "#### Decision Tree Regressor"
   ]
  },
  {
   "cell_type": "code",
   "execution_count": null,
   "metadata": {},
   "outputs": [],
   "source": [
    "# dt_train_df, dt_test_df = feature_selection_train_df, feature_selection_test_df\n",
    "dt_train_df, dt_test_df = learning_train_df, learning_test_df"
   ]
  },
  {
   "cell_type": "code",
   "execution_count": null,
   "metadata": {},
   "outputs": [],
   "source": [
    "dt = DecisionTreeRegressor(\n",
    "    # featuresCol=\"feature_vec\", \n",
    "    labelCol=\"points\"\n",
    ")\n",
    "\n",
    "dt_evaluation_metrics = [\"r2\", \"mse\"]\n",
    "dt_evaluation_metrics_cv = [\"r2\"]\n",
    "\n",
    "dt_param_grid = (\n",
    "    ParamGridBuilder()\n",
    "    .addGrid(\n",
    "        dt.featuresCol, [\n",
    "            \"ufs_0-1\", \n",
    "            # \"value_vec_min_max\",\n",
    "            # \"all_vec_min_max_pcs\",\n",
    "            # \"all_vec_min_max\"\n",
    "        ]\n",
    "    )\n",
    "    # .addGrid(dt.standardization, [True, False])\n",
    "    .build()\n",
    ")\n",
    "\n",
    "find_best_regressor(\n",
    "    train_df=dt_train_df, \n",
    "    test_df=dt_test_df, \n",
    "    regressor=dt,\n",
    "    regressor_evaluation_metrics=dt_evaluation_metrics,\n",
    "    cv_evaluation_metrics=dt_evaluation_metrics_cv,\n",
    "    hyperparams_grid=dt_param_grid\n",
    ")"
   ]
  },
  {
   "cell_type": "markdown",
   "metadata": {},
   "source": [
    "#### Random Forest Regressor"
   ]
  },
  {
   "cell_type": "code",
   "execution_count": null,
   "metadata": {},
   "outputs": [],
   "source": [
    "rf_train_df, rf_test_df = learning_train_df, learning_test_df"
   ]
  },
  {
   "cell_type": "code",
   "execution_count": null,
   "metadata": {},
   "outputs": [],
   "source": [
    "rf = RandomForestRegressor(\n",
    "    # featuresCol=\"feature_vec\", \n",
    "    labelCol=\"points\"\n",
    ")\n",
    "\n",
    "rf_evaluation_metrics = [\"r2\", \"mse\"]\n",
    "rf_evaluation_metrics_cv = [\"r2\"]\n",
    "\n",
    "rf_param_grid = (\n",
    "    ParamGridBuilder()\n",
    "    .addGrid(\n",
    "        rf.featuresCol, [\n",
    "            \"ufs_0-1\", \n",
    "            # \"value_vec_min_max\",\n",
    "            # \"all_vec_min_max_pcs\",\n",
    "            # \"all_vec_min_max\"\n",
    "        ]\n",
    "    )\n",
    "    # .addGrid(rf.standardization, [True, False])\n",
    "    .build()\n",
    ")\n"
   ]
  },
  {
   "cell_type": "code",
   "execution_count": null,
   "metadata": {},
   "outputs": [],
   "source": [
    "find_best_regressor(\n",
    "    train_df=rf_train_df, \n",
    "    test_df=rf_test_df, \n",
    "    regressor=rf,\n",
    "    regressor_evaluation_metrics=rf_evaluation_metrics,\n",
    "    cv_evaluation_metrics=rf_evaluation_metrics_cv,\n",
    "    hyperparams_grid=rf_param_grid\n",
    ")"
   ]
  },
  {
   "cell_type": "markdown",
   "metadata": {},
   "source": [
    "#### Gradient Boosted Tree Regressor"
   ]
  },
  {
   "cell_type": "code",
   "execution_count": null,
   "metadata": {},
   "outputs": [],
   "source": [
    "gbt_train_df, gbt_test_df = learning_train_df, learning_test_df"
   ]
  },
  {
   "cell_type": "code",
   "execution_count": null,
   "metadata": {},
   "outputs": [],
   "source": [
    "gbt = GBTRegressor(\n",
    "    # featuresCol=\"feature_vec\", \n",
    "    labelCol=\"points\"\n",
    ")\n",
    "\n",
    "gbt_evaluation_metrics = [\"r2\", \"mse\"]\n",
    "gbt_evaluation_metrics_cv = [\"r2\"]\n",
    "\n",
    "gbt_param_grid = (\n",
    "    ParamGridBuilder()\n",
    "    .addGrid(\n",
    "        gbt.featuresCol, [\n",
    "            \"ufs_0-1\", \n",
    "            # \"value_vec_min_max\",\n",
    "            # \"all_vec_min_max_pcs\",\n",
    "            # \"all_vec_min_max\"\n",
    "        ]\n",
    "    )\n",
    "    # .addGrid(gbt.standardization, [True, False])\n",
    "    .build()\n",
    ")\n"
   ]
  },
  {
   "cell_type": "code",
   "execution_count": null,
   "metadata": {},
   "outputs": [],
   "source": [
    "find_best_regressor(\n",
    "    train_df=gbt_train_df, \n",
    "    test_df=gbt_test_df, \n",
    "    regressor=gbt,\n",
    "    regressor_evaluation_metrics=gbt_evaluation_metrics,\n",
    "    cv_evaluation_metrics=gbt_evaluation_metrics_cv,\n",
    "    hyperparams_grid=gbt_param_grid\n",
    ")"
   ]
  },
  {
   "cell_type": "markdown",
   "metadata": {},
   "source": [
    "### Classification"
   ]
  },
  {
   "cell_type": "code",
   "execution_count": null,
   "metadata": {},
   "outputs": [],
   "source": [
    "# TODO evaluate more advanced, dynamic macro placements\n",
    "def get_macro_place(place, league):\n",
    "\n",
    "    if league == \"German Bundesliga\":\n",
    "        if 1 <= place <= 4:\n",
    "            return 0.0\n",
    "        if 5 <= place <= 7:\n",
    "            return 1.0\n",
    "        if 8 <= place <= 10:\n",
    "            return 2.0\n",
    "        if 11 <= place <= 15:\n",
    "            return 3.0\n",
    "        if 16 <= place <= 18:\n",
    "            return 4.0\n",
    "\n",
    "    elif league == \"Holland Eredivise\":\n",
    "        if place == 1:\n",
    "            return 0.0\n",
    "        if 2 <= place <= 3:\n",
    "            return 1.0\n",
    "        if 4 <= place <= 9:\n",
    "            return 2.0\n",
    "        if 10 <= place <= 15:\n",
    "            return 3.0\n",
    "        if 16 <= place <= 18:\n",
    "            return 4.0\n",
    "\n",
    "\n",
    "    elif league == \"French League 1\":\n",
    "        if 1 <= place <= 2:\n",
    "            return 0.0\n",
    "        if 3 <= place <= 5:\n",
    "            return 1.0\n",
    "        if 6 <= place <= 11:\n",
    "            return 2.0\n",
    "        if 12 <= place <= 17:\n",
    "            return 3.0\n",
    "        if 18 <= place <= 20:\n",
    "            return  4.0\n",
    "    \n",
    "    else: #It, Sp, En\n",
    "        if 1 <= place <= 4:\n",
    "            return 0.0\n",
    "        if 5 <= place <= 7:\n",
    "            return 1.0\n",
    "        if 8 <= place <= 12:\n",
    "            return 2.0\n",
    "        if 13 <= place <= 17:\n",
    "            return 3.0\n",
    "        if 18 <= place <= 20:\n",
    "            return 4.0\n",
    "\n",
    "    return None\n",
    "\n",
    "get_macro_place_UDF = udf(\n",
    "    lambda place, league: get_macro_place(float(place), league),\n",
    "    DoubleType(),\n",
    ")\n",
    "\n",
    "NUM_MACRO_PLACES = 5"
   ]
  },
  {
   "cell_type": "code",
   "execution_count": null,
   "metadata": {},
   "outputs": [],
   "source": [
    "# classification_df = feature_selection_learning_df\n",
    "classification_df = df"
   ]
  },
  {
   "cell_type": "code",
   "execution_count": null,
   "metadata": {},
   "outputs": [],
   "source": [
    "classification_df = classification_df.withColumn(\n",
    "    \"macro_place\", get_macro_place_UDF(col(\"place\"), col(\"League\"))\n",
    ")"
   ]
  },
  {
   "cell_type": "code",
   "execution_count": null,
   "metadata": {},
   "outputs": [],
   "source": [
    "classification_train_df, classification_test_df = classification_df.randomSplit(\n",
    "    # [0.9,0.1]\n",
    "    # NOTE reactive 90/10 split, keep 70/30 just when using one league\n",
    "    [0.7,0.3]\n",
    ")"
   ]
  },
  {
   "cell_type": "markdown",
   "metadata": {},
   "source": [
    "#### Data visualizations"
   ]
  },
  {
   "cell_type": "code",
   "execution_count": null,
   "metadata": {},
   "outputs": [],
   "source": [
    "plot_feature_distribution(\n",
    "    classification_df.toPandas(), \n",
    "    [\"macro_place\"], \n",
    "    color = \"teal\", \n",
    "    figsize=(10,10)\n",
    ")"
   ]
  },
  {
   "cell_type": "markdown",
   "metadata": {},
   "source": [
    "#### SVM Classifier"
   ]
  },
  {
   "cell_type": "code",
   "execution_count": null,
   "metadata": {},
   "outputs": [],
   "source": [
    "svm_train_df, svm_test_df = classification_train_df, classification_test_df"
   ]
  },
  {
   "cell_type": "code",
   "execution_count": null,
   "metadata": {},
   "outputs": [],
   "source": [
    "svm = LinearSVC(\n",
    "    featuresCol=\"ufs_0-1\", \n",
    "    labelCol=\"macro_place\"\n",
    ")\n",
    "\n",
    "ovr = OneVsRest(\n",
    "    classifier=svm,\n",
    "    featuresCol=\"feature_vec_ufs_0-1\", \n",
    "    labelCol=\"macro_place\"\n",
    ")\n",
    "\n",
    "svm_evaluation_metrics = [\"accuracy\"]\n",
    "svm_evaluation_metrics_cv = [\"accuracy\"]\n",
    "\n",
    "svm_param_grid = (\n",
    "    ParamGridBuilder()\n",
    "    .addGrid(\n",
    "        ovr.featuresCol, [\n",
    "            \"ufs_0-1\", \n",
    "            \"value_vec_min_max\",\n",
    "            # \"all_vec_min_max_pcs\",\n",
    "            # \"all_vec_min_max\"\n",
    "        ]\n",
    "    )\n",
    "    .build()\n",
    ")\n"
   ]
  },
  {
   "cell_type": "code",
   "execution_count": null,
   "metadata": {},
   "outputs": [],
   "source": [
    "# find_best_classifier(\n",
    "#     train_df=svm_train_df, \n",
    "#     test_df=svm_test_df, \n",
    "#     classifier=ovr,\n",
    "#     classifier_evaluation_metrics=svm_evaluation_metrics,\n",
    "#     cv_evaluation_metrics=svm_evaluation_metrics_cv,\n",
    "#     hyperparams_grid=svm_param_grid\n",
    "# )"
   ]
  },
  {
   "cell_type": "markdown",
   "metadata": {},
   "source": [
    "#### Logistic Regression"
   ]
  },
  {
   "cell_type": "code",
   "execution_count": null,
   "metadata": {},
   "outputs": [],
   "source": [
    "lor_train_df, lor_test_df = classification_train_df, classification_test_df"
   ]
  },
  {
   "cell_type": "code",
   "execution_count": null,
   "metadata": {},
   "outputs": [],
   "source": [
    "# TODO same as SVM\n",
    "\n",
    "lor = LogisticRegression(\n",
    "    # featuresCol=\"ufs_0-1\", \n",
    "    labelCol=\"macro_place\"\n",
    ")\n",
    "\n",
    "ovr = OneVsRest(\n",
    "    classifier=lor,\n",
    "    # featuresCol=\"ufs_0-1\", \n",
    "    labelCol=\"macro_place\"\n",
    ")\n",
    "\n",
    "lor_evaluation_metrics = [\"accuracy\"]\n",
    "lor_evaluation_metrics_cv = [\"accuracy\"]\n",
    "\n",
    "lor_param_grid = (\n",
    "    ParamGridBuilder()\n",
    "    .addGrid(\n",
    "        ovr.featuresCol, [\n",
    "            \"ufs_0-1\", \n",
    "            \"value_vec_min_max\",\n",
    "            # \"all_vec_min_max_pcs\",\n",
    "            # \"all_vec_min_max\"\n",
    "        ]\n",
    "    )\n",
    "    .build()\n",
    ")\n"
   ]
  },
  {
   "cell_type": "code",
   "execution_count": null,
   "metadata": {},
   "outputs": [],
   "source": [
    "find_best_classifier(\n",
    "    train_df=lor_train_df, \n",
    "    test_df=lor_test_df, \n",
    "    classifier=ovr,\n",
    "    classifier_evaluation_metrics=lor_evaluation_metrics,\n",
    "    cv_evaluation_metrics=lor_evaluation_metrics_cv,\n",
    "    hyperparams_grid=lor_param_grid\n",
    ")"
   ]
  },
  {
   "cell_type": "markdown",
   "metadata": {},
   "source": [
    "#### Classification Tree"
   ]
  },
  {
   "cell_type": "code",
   "execution_count": null,
   "metadata": {},
   "outputs": [],
   "source": [
    "ct_train_df, ct_test_df = classification_train_df, classification_test_df"
   ]
  },
  {
   "cell_type": "code",
   "execution_count": null,
   "metadata": {},
   "outputs": [],
   "source": [
    "ct = DecisionTreeClassifier(\n",
    "    # featuresCol=\"ufs_0-1\", \n",
    "    labelCol=\"macro_place\"\n",
    ")\n",
    "\n",
    "# ovr = OneVsRest(\n",
    "#     classifier=ct,\n",
    "#     featuresCol=\"feature_vec_ufs_0-1\", \n",
    "#     labelCol=\"macro_place\"\n",
    "# )\n",
    "\n",
    "ct_evaluation_metrics = [\"accuracy\"]\n",
    "ct_evaluation_metrics_cv = [\"accuracy\"]\n",
    "\n",
    "ct_param_grid = (\n",
    "    ParamGridBuilder()\n",
    "    .addGrid(\n",
    "        ct.featuresCol, [\n",
    "            \"ufs_0-1\", \n",
    "            # \"value_vec_min_max\",\n",
    "            # \"all_vec_min_max_pcs\",\n",
    "            # \"all_vec_min_max\"\n",
    "        ]\n",
    "    )\n",
    "    .build()\n",
    ")\n"
   ]
  },
  {
   "cell_type": "code",
   "execution_count": null,
   "metadata": {},
   "outputs": [],
   "source": [
    "find_best_classifier(\n",
    "    train_df=ct_train_df, \n",
    "    test_df=ct_test_df, \n",
    "    classifier=ct,\n",
    "    classifier_evaluation_metrics=ct_evaluation_metrics,\n",
    "    cv_evaluation_metrics=ct_evaluation_metrics_cv,\n",
    "    hyperparams_grid=ct_param_grid\n",
    ")\n"
   ]
  },
  {
   "cell_type": "markdown",
   "metadata": {},
   "source": [
    "#### Random Forest"
   ]
  },
  {
   "cell_type": "code",
   "execution_count": null,
   "metadata": {},
   "outputs": [],
   "source": [
    "rfc_train_df, rfc_test_df = classification_train_df, classification_test_df"
   ]
  },
  {
   "cell_type": "code",
   "execution_count": null,
   "metadata": {},
   "outputs": [],
   "source": [
    "rfc = RandomForestClassifier(\n",
    "    # featuresCol=\"feature_vec_ufs_0-1\", \n",
    "    labelCol=\"macro_place\"\n",
    ")\n",
    "\n",
    "# ovr = OneVsRest(\n",
    "#     classifier=rfc,\n",
    "#     featuresCol=\"feature_vec_ufs_0-1\", \n",
    "#     labelCol=\"macro_place\"\n",
    "# )\n",
    "\n",
    "rfc_evaluation_metrics = [\"accuracy\"]\n",
    "rfc_evaluation_metrics_cv = [\"accuracy\"]\n",
    "\n",
    "rfc_param_grid = (\n",
    "    ParamGridBuilder()\n",
    "    .addGrid(\n",
    "        rfc.featuresCol, [\n",
    "            \"ufs_0-1\", \n",
    "            # \"value_vec_min_max\",\n",
    "            # \"all_vec_min_max_pcs\",\n",
    "            # \"all_vec_min_max\"\n",
    "        ]\n",
    "    )\n",
    "    .build()\n",
    ")\n"
   ]
  },
  {
   "cell_type": "code",
   "execution_count": null,
   "metadata": {},
   "outputs": [],
   "source": [
    "find_best_classifier(\n",
    "    train_df=rfc_train_df, \n",
    "    test_df=rfc_test_df, \n",
    "    classifier=rfc,\n",
    "    classifier_evaluation_metrics=rfc_evaluation_metrics,\n",
    "    cv_evaluation_metrics=rfc_evaluation_metrics_cv,\n",
    "    hyperparams_grid=rfc_param_grid\n",
    ")"
   ]
  },
  {
   "cell_type": "markdown",
   "metadata": {},
   "source": [
    "#### MLP"
   ]
  },
  {
   "cell_type": "code",
   "execution_count": null,
   "metadata": {},
   "outputs": [],
   "source": [
    "mlp_train_df, mlp_test_df = classification_train_df, classification_test_df"
   ]
  },
  {
   "cell_type": "code",
   "execution_count": null,
   "metadata": {},
   "outputs": [],
   "source": [
    "mlp = MultilayerPerceptronClassifier(\n",
    "    # featuresCol=\"feature_vec_ufs_0-1\", \n",
    "    labelCol=\"macro_place\"\n",
    ")\n",
    "\n",
    "# ovr = OneVsRest(\n",
    "#     classifier=mlp,\n",
    "#     featuresCol=\"feature_vec_ufs_0-1\", \n",
    "#     labelCol=\"macro_place\"\n",
    "# )\n",
    "\n",
    "mlp_evaluation_metrics = [\"accuracy\"]\n",
    "mlp_evaluation_metrics_cv = [\"accuracy\"]\n",
    "\n",
    "mlp_param_grid = (\n",
    "    ParamGridBuilder()\n",
    "    .addGrid(mlp.layers, [[NUM_FEATURES, 4, 4, 2, NUM_MACRO_PLACES]])\n",
    "    .addGrid(\n",
    "        mlp.featuresCol, [\n",
    "            \"ufs_0-1\", \n",
    "            # \"value_vec_min_max\",\n",
    "            # \"all_vec_min_max_pcs\",\n",
    "            # \"all_vec_min_max\"\n",
    "        ]\n",
    "    )\n",
    "    .build()\n",
    ")\n"
   ]
  },
  {
   "cell_type": "code",
   "execution_count": null,
   "metadata": {},
   "outputs": [],
   "source": [
    "find_best_classifier(\n",
    "    train_df=mlp_train_df, \n",
    "    test_df=mlp_test_df, \n",
    "    classifier=mlp,\n",
    "    classifier_evaluation_metrics=mlp_evaluation_metrics,\n",
    "    cv_evaluation_metrics=mlp_evaluation_metrics_cv,\n",
    "    hyperparams_grid=mlp_param_grid\n",
    ")"
   ]
  },
  {
   "cell_type": "markdown",
   "metadata": {},
   "source": [
    "## Custom ranking-based evaluation"
   ]
  },
  {
   "cell_type": "code",
   "execution_count": null,
   "metadata": {},
   "outputs": [],
   "source": [
    "## compare ranking of prediction value with actual ranking"
   ]
  },
  {
   "cell_type": "markdown",
   "metadata": {},
   "source": [
    "# Attempt 3: clustering"
   ]
  },
  {
   "cell_type": "code",
   "execution_count": 17,
   "metadata": {},
   "outputs": [
    {
     "name": "stderr",
     "output_type": "stream",
     "text": [
      "                                                                                \r"
     ]
    }
   ],
   "source": [
    "clustering_df = pre_processed_df\n",
    "\n",
    "CLUSTERING_FEATURES = copy.deepcopy(PLAYER_FEATURES)\n",
    "CLUSTERING_FEATURES.remove(\"overall\")\n",
    "CLUSTERING_FEATURES.remove(\"value\")\n",
    "\n",
    "\n",
    "assembler = VectorAssembler(\n",
    "    inputCols=CLUSTERING_FEATURES, outputCol=\"all_vec\"\n",
    ")\n",
    "\n",
    "clustering_df = assembler.transform(clustering_df)\n",
    "\n",
    "scaler = MinMaxScaler(\n",
    "    inputCol=\"all_vec\", outputCol=\"all_vec_min_max\"\n",
    ")\n",
    "\n",
    "clustering_df = scaler.fit(clustering_df).transform(clustering_df)"
   ]
  },
  {
   "cell_type": "code",
   "execution_count": 18,
   "metadata": {},
   "outputs": [],
   "source": [
    "def k_means(\n",
    "    dataset,\n",
    "    n_clusters,\n",
    "    distance_measure=\"euclidean\",\n",
    "    max_iter=20,\n",
    "    features_col=\"features\",\n",
    "    prediction_col=\"cluster\",\n",
    "    random_seed=RANDOM_SEED,\n",
    "):\n",
    "\n",
    "    print(\n",
    "        f\"\"\"Training K-means clustering using the following parameters: \n",
    "        - K (n. of clusters) = {n_clusters}\n",
    "        - max_iter (max n. of iterations) = {max_iter}\n",
    "        - distance measure = {distance_measure}\n",
    "        - random seed = {random_seed if random_seed is not None else \"NONE USED!\"}\n",
    "        \"\"\"\n",
    "    )\n",
    "\n",
    "    # if distance_measure == \"cosine\":\n",
    "\n",
    "        # NOTE we already start from normalized/std data, so, NO need to do it\n",
    "\n",
    "        # Normalize inputs to unit-length vectors\n",
    "        # dataset = Normalizer(\n",
    "        #     inputCol=features_col, outputCol=features_col + \"_norm\", p=1\n",
    "        # ).transform(dataset)\n",
    "\n",
    "        # features_col = features_col + \"_norm\"\n",
    "\n",
    "    # Train a K-means model\n",
    "    kmeans = KMeans(\n",
    "        featuresCol=features_col,\n",
    "        predictionCol=prediction_col,\n",
    "        k=n_clusters,\n",
    "        initMode=\"k-means||\",\n",
    "        initSteps=5,\n",
    "        tol=0.000001,\n",
    "        maxIter=max_iter,\n",
    "        # seed=random_seed,\n",
    "        distanceMeasure=distance_measure,\n",
    "    )\n",
    "\n",
    "    model = kmeans.fit(dataset)\n",
    "    # here there are all the relevant clustering information\n",
    "\n",
    "    # Make clusters\n",
    "    clusters_df = model.transform(dataset)\n",
    "\n",
    "    return model, clusters_df\n",
    "\n",
    "\n",
    "def evaluate_k_means(\n",
    "    clusters,\n",
    "    metric_name=\"silhouette\",\n",
    "    distance_measure=\"squaredEuclidean\",  # cosine\n",
    "    prediction_col=\"cluster\",\n",
    "    featuresCol = \"features\"\n",
    "):\n",
    "\n",
    "    # Evaluate clustering by computing Silhouette score\n",
    "    evaluator = ClusteringEvaluator(\n",
    "        metricName=metric_name,\n",
    "        distanceMeasure=distance_measure,\n",
    "        predictionCol=prediction_col,\n",
    "        featuresCol=featuresCol\n",
    "    )\n",
    "\n",
    "    return evaluator.evaluate(clusters)\n",
    "\n",
    "\n",
    "def do_clustering(\n",
    "    k_range, \n",
    "    input_df, \n",
    "    max_iter,\n",
    "    featuresCol,\n",
    "    clusterCol\n",
    "):\n",
    "    clustering_results = {}\n",
    "\n",
    "    clusters_df = input_df\n",
    "\n",
    "    # for k in tqdm( range(5, max_k_clusters + 1, 5), desc = \"Performing clustering\" ):\n",
    "    # for k in tqdm(range(2, max_k_clusters + 1, 4), desc=\"Performing clustering\"):\n",
    "    for k in tqdm(k_range, desc=\"Performing clustering\"):\n",
    "\n",
    "        print(f\"Running K-means using K = {k}\")\n",
    "\n",
    "        # model, clusters_df = k_means(tf_idf_df, k, max_iter=50, distance_measure=\"cosine\") # Alternatively, distance_measure=\"euclidean\"\n",
    "        # model, clusters_df = k_means(input_df, k, max_iter=max_iter, distance_measure=\"cosine\") # Alternatively, distance_measure=\"euclidean\"\n",
    "        model, clusters_df = k_means(\n",
    "            # input_df,\n",
    "            clusters_df, \n",
    "            k, \n",
    "            max_iter=max_iter, \n",
    "            distance_measure=\"cosine\", \n",
    "            features_col=featuresCol,\n",
    "            prediction_col=clusterCol + \"_k_\" + str(k),\n",
    "        )  # Alternatively, distance_measure=\"euclidean\"\n",
    "        # silhouette_k = evaluate_k_means(clusters_df, distance_measure=\"cosine\") # Alternatively, distance_measure=\"squaredEuclidean\"\n",
    "        silhouette_k = evaluate_k_means(\n",
    "            clusters_df, \n",
    "            distance_measure=\"cosine\",\n",
    "            prediction_col=clusterCol + \"_k_\" + str(k),\n",
    "            featuresCol=featuresCol\n",
    "\n",
    "        )  # Alternatively, distance_measure=\"squaredEuclidean\"\n",
    "        # wssd_k = model.summary.trainingCost\n",
    "        wssd_k = model.summary\n",
    "\n",
    "        print(\n",
    "            \"Silhouette coefficient computed with cosine distance: {:.3f}\".format(\n",
    "                silhouette_k\n",
    "            )\n",
    "        )\n",
    "        print(\n",
    "            \"Within-cluster Sum of Squared Distances (using cosine distance): {:.3f}\".format(\n",
    "                wssd_k.trainingCost\n",
    "            )\n",
    "        )\n",
    "        print(\n",
    "            \"--------------------------------------------------------------------------------------\"\n",
    "        )\n",
    "\n",
    "        l = list(\n",
    "            enumerate(\n",
    "                model.clusterCenters()\n",
    "            )\n",
    "        )\n",
    "        l = [(ind, DenseVector(c)) for ind, c in l]\n",
    "        # print(l)\n",
    "        schema = [\"cluster_id\"  + \"_k_\" + str(k), \"centroid\"  + \"_k_\" + str(k)]\n",
    "\n",
    "        schema = StructType([ \n",
    "            StructField(\"cluster_id\" + \"_k_\" + str(k),IntegerType(),True), \n",
    "            StructField(\"centroid\" + \"_k_\" + str(k),VectorUDT(),True), \n",
    "        ])\n",
    "        centr_df = spark.createDataFrame(data=l, schema=schema)\n",
    "\n",
    "        # centr_df.show()\n",
    "\n",
    "        # df_with_centroids = clusters_df.join(\n",
    "        #     centr_df, on=[\"cluster_id\"]\n",
    "        # )\n",
    "\n",
    "        clusters_df = clusters_df.join(\n",
    "            centr_df, on=[\"cluster_id\" + \"_k_\" + str(k)]\n",
    "        )\n",
    "\n",
    "\n",
    "\n",
    "        clustering_results[str(k)] = {\n",
    "            \"silhouette_k\"      : silhouette_k,\n",
    "            \"wssd_k\"            : wssd_k,\n",
    "            \"model\"             : model,\n",
    "            \"df\"                : clusters_df,\n",
    "            # \"cluster_centroids\" : model.clusterCenters(),\n",
    "            # \"centr_df\" : centr_df,\n",
    "            # \"df_with_centroids\" : df_with_centroids\n",
    "        }\n",
    "\n",
    "        \n",
    "        \n",
    "\n",
    "        # Free up memory space at the end of each iteration\n",
    "        # del model\n",
    "        # del clusters_df\n",
    "        # gc.collect() # garbage collector\n",
    "    \n",
    "    clustering_results[\"df_with_centroid_full\"] = clusters_df\n",
    "\n",
    "    return clustering_results\n",
    "\n",
    "\n",
    "def plot_clustering_results(clustering_results):\n",
    "\n",
    "    # print(clustering_results)\n",
    "\n",
    "    k_col = list(clustering_results.keys())[:-1]\n",
    "    wssd_col = [\n",
    "        clustering_results[k][\"wssd_k\"].trainingCost for k in k_col \n",
    "    ]\n",
    "    silhouette_col = [\n",
    "        clustering_results[k][\"silhouette_k\"] for k in k_col \n",
    "    ]\n",
    "\n",
    "    # print(k_col)\n",
    "    # print(wssd_col)\n",
    "    # print(silhouette_col)\n",
    "\n",
    "    plot_df_temp = pd.DataFrame([k_col, wssd_col, silhouette_col]).transpose()\n",
    "    plot_df_temp.columns = [\"K\", \"WSSD\", \"Silhouette\"]\n",
    "    # print(plot_df_temp)\n",
    "\n",
    "    # Create a 1x1 figure\n",
    "    fig, ax = plt.subplots(1, 1, figsize=(8, 6))\n",
    "\n",
    "    _ = sns.pointplot(\n",
    "        data=plot_df_temp, x=\"K\", y=\"WSSD\", ax=ax, color=\"orangered\"\n",
    "    )\n",
    "    _ = ax.set_xlabel(\"K\")\n",
    "    _ = ax.set_ylabel(\"WSSD\")\n",
    "    \n",
    "    # Create a 1x1 figure\n",
    "    fig, ax = plt.subplots(1, 1, figsize=(8, 6))\n",
    "\n",
    "    _ = sns.pointplot(\n",
    "        data=plot_df_temp, x=\"K\", y=\"Silhouette\", ax=ax, color=\"orangered\"\n",
    "    )\n",
    "    _ = ax.set_xlabel(\"K\")\n",
    "    _ = ax.set_ylabel(\"Silhouette\")"
   ]
  },
  {
   "cell_type": "code",
   "execution_count": 19,
   "metadata": {},
   "outputs": [],
   "source": [
    "clustering_df_dict = {\n",
    "    s: clustering_df.filter(col(\"season\") == s) for s in seasons\n",
    "}\n",
    "\n",
    "MAX_K_CLUSTERS = 8\n",
    "MAX_ITER = 20\n",
    "\n",
    "k_range = range(2, MAX_K_CLUSTERS, 4)"
   ]
  },
  {
   "cell_type": "code",
   "execution_count": 20,
   "metadata": {},
   "outputs": [
    {
     "name": "stderr",
     "output_type": "stream",
     "text": [
      "Performing clustering:   0%|          | 0/4 [00:00<?, ?it/s]"
     ]
    },
    {
     "name": "stdout",
     "output_type": "stream",
     "text": [
      "Running K-means using K = 2\n",
      "Training K-means clustering using the following parameters: \n",
      "        - K (n. of clusters) = 2\n",
      "        - max_iter (max n. of iterations) = 20\n",
      "        - distance measure = cosine\n",
      "        - random seed = NONE USED!\n",
      "        \n"
     ]
    },
    {
     "name": "stderr",
     "output_type": "stream",
     "text": [
      "Performing clustering:  25%|██▌       | 1/4 [00:07<00:21,  7.28s/it]            "
     ]
    },
    {
     "name": "stdout",
     "output_type": "stream",
     "text": [
      "Silhouette coefficient computed with cosine distance: 0.863\n",
      "Within-cluster Sum of Squared Distances (using cosine distance): 16.271\n",
      "--------------------------------------------------------------------------------------\n",
      "Running K-means using K = 6\n",
      "Training K-means clustering using the following parameters: \n",
      "        - K (n. of clusters) = 6\n",
      "        - max_iter (max n. of iterations) = 20\n",
      "        - distance measure = cosine\n",
      "        - random seed = NONE USED!\n",
      "        \n"
     ]
    },
    {
     "name": "stderr",
     "output_type": "stream",
     "text": [
      "Performing clustering:  50%|█████     | 2/4 [00:13<00:13,  6.65s/it]            "
     ]
    },
    {
     "name": "stdout",
     "output_type": "stream",
     "text": [
      "Silhouette coefficient computed with cosine distance: 0.333\n",
      "Within-cluster Sum of Squared Distances (using cosine distance): 9.057\n",
      "--------------------------------------------------------------------------------------\n",
      "Running K-means using K = 10\n",
      "Training K-means clustering using the following parameters: \n",
      "        - K (n. of clusters) = 10\n",
      "        - max_iter (max n. of iterations) = 20\n",
      "        - distance measure = cosine\n",
      "        - random seed = NONE USED!\n",
      "        \n"
     ]
    },
    {
     "name": "stderr",
     "output_type": "stream",
     "text": [
      "Performing clustering:  75%|███████▌  | 3/4 [00:19<00:06,  6.26s/it]"
     ]
    },
    {
     "name": "stdout",
     "output_type": "stream",
     "text": [
      "Silhouette coefficient computed with cosine distance: 0.272\n",
      "Within-cluster Sum of Squared Distances (using cosine distance): 7.565\n",
      "--------------------------------------------------------------------------------------\n",
      "Running K-means using K = 14\n",
      "Training K-means clustering using the following parameters: \n",
      "        - K (n. of clusters) = 14\n",
      "        - max_iter (max n. of iterations) = 20\n",
      "        - distance measure = cosine\n",
      "        - random seed = NONE USED!\n",
      "        \n"
     ]
    },
    {
     "name": "stderr",
     "output_type": "stream",
     "text": [
      "Performing clustering: 100%|██████████| 4/4 [00:25<00:00,  6.25s/it]"
     ]
    },
    {
     "name": "stdout",
     "output_type": "stream",
     "text": [
      "Silhouette coefficient computed with cosine distance: 0.216\n",
      "Within-cluster Sum of Squared Distances (using cosine distance): 7.020\n",
      "--------------------------------------------------------------------------------------\n"
     ]
    },
    {
     "name": "stderr",
     "output_type": "stream",
     "text": [
      "\n"
     ]
    }
   ],
   "source": [
    "clustering_results_dict = dict()\n",
    "\n",
    "for s in [\"20\"]:\n",
    "    clustering_results_dict[s] = do_clustering(\n",
    "        k_range, \n",
    "        clustering_df_dict[s], \n",
    "        MAX_ITER,\n",
    "        \"all_vec_min_max\",\n",
    "        \"cluster_id\"\n",
    "    )\n"
   ]
  },
  {
   "cell_type": "code",
   "execution_count": 21,
   "metadata": {},
   "outputs": [],
   "source": [
    "all_together_df = reduce(\n",
    "    DataFrame.unionAll, \n",
    "    [\n",
    "        clustering_results_dict[s][\"df_with_centroid_full\"] for s in [\"20\"]\n",
    "    ]\n",
    ")"
   ]
  },
  {
   "cell_type": "markdown",
   "metadata": {},
   "source": [
    "## Clustering evaluation"
   ]
  },
  {
   "cell_type": "markdown",
   "metadata": {},
   "source": [
    "### Evalutating single seasons"
   ]
  },
  {
   "cell_type": "code",
   "execution_count": 22,
   "metadata": {},
   "outputs": [
    {
     "data": {
      "application/vnd.jupyter.widget-view+json": {
       "model_id": "9f5480504e4848c5980b13d3163deb50",
       "version_major": 2,
       "version_minor": 0
      },
      "image/png": "[encoded data removed]",
      "text/html": [
       "\n",
       "            <div style=\"display: inline-block;\">\n",
       "                <div class=\"jupyter-widgets widget-label\" style=\"text-align: center;\">\n",
       "                    Figure\n",
       "                </div>\n",
       "                <img src='data:image/png;base64,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' width=800.0/>\n",
       "            </div>\n",
       "        "
      ],
      "text/plain": [
       "Canvas(toolbar=Toolbar(toolitems=[('Home', 'Reset original view', 'home', 'home'), ('Back', 'Back to previous …"
      ]
     },
     "metadata": {},
     "output_type": "display_data"
    },
    {
     "data": {
      "application/vnd.jupyter.widget-view+json": {
       "model_id": "cec963f415cd43d385a493fc2c5549cf",
       "version_major": 2,
       "version_minor": 0
      },
      "image/png": "[encoded data removed]",
      "text/html": [
       "\n",
       "            <div style=\"display: inline-block;\">\n",
       "                <div class=\"jupyter-widgets widget-label\" style=\"text-align: center;\">\n",
       "                    Figure\n",
       "                </div>\n",
       "                <img src='data:image/png;base64,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' width=800.0/>\n",
       "            </div>\n",
       "        "
      ],
      "text/plain": [
       "Canvas(toolbar=Toolbar(toolitems=[('Home', 'Reset original view', 'home', 'home'), ('Back', 'Back to previous …"
      ]
     },
     "metadata": {},
     "output_type": "display_data"
    }
   ],
   "source": [
    "for s in [\"20\"]:\n",
    "    plot_clustering_results(clustering_results_dict[s])\n",
    "    \n",
    "    "
   ]
  },
  {
   "cell_type": "markdown",
   "metadata": {},
   "source": [
    "### Evaluating seasons all together"
   ]
  },
  {
   "cell_type": "markdown",
   "metadata": {},
   "source": [
    "## Dataset composition"
   ]
  },
  {
   "cell_type": "code",
   "execution_count": 46,
   "metadata": {},
   "outputs": [],
   "source": [
    "# TODO select K according to clustering evaluation\n",
    "K = [str(k) for k in k_range]\n",
    "# K = [\"2\",\"6\"]"
   ]
  },
  {
   "cell_type": "markdown",
   "metadata": {},
   "source": [
    "### Compute distance between player and centroid of its cluster"
   ]
  },
  {
   "cell_type": "code",
   "execution_count": 47,
   "metadata": {},
   "outputs": [],
   "source": [
    "compute_distance_from_centroid_UDF = udf(\n",
    "    lambda player, centroid: float(\n",
    "        Vectors.squared_distance(\n",
    "            player, centroid\n",
    "        )\n",
    "    ), FloatType()\n",
    ")"
   ]
  },
  {
   "cell_type": "code",
   "execution_count": 48,
   "metadata": {},
   "outputs": [],
   "source": [
    "for k in K:\n",
    "    all_together_df = all_together_df.withColumn(\n",
    "        \"distance_from_centroid\" + \"_k_\" + str(k),\n",
    "        compute_distance_from_centroid_UDF(\n",
    "            col(\"all_vec_min_max\"),\n",
    "            col(\"centroid\" + \"_k_\" + str(k))\n",
    "        )\n",
    "    )\n",
    "        "
   ]
  },
  {
   "cell_type": "markdown",
   "metadata": {},
   "source": [
    "### From players to teams"
   ]
  },
  {
   "cell_type": "code",
   "execution_count": 49,
   "metadata": {},
   "outputs": [],
   "source": [
    "teams_df = all_together_df.groupBy(\n",
    "    [\"season\", \"club_name\", \"macro_role\"]\n",
    ").agg(\n",
    "    { \n",
    "        \"distance_from_centroid\" + \"_k_\" + str(k): \"avg\" for k in K \n",
    "    }\n",
    ")\n",
    "\n",
    "for k in K:\n",
    "    teams_df = teams_df.withColumnRenamed(\n",
    "        \"avg(distance_from_centroid\" + \"_k_\" + str(k) + \")\",\n",
    "        \"avg_distance_from_centroid\" + \"_k_\" + str(k)\n",
    "    )"
   ]
  },
  {
   "cell_type": "code",
   "execution_count": 50,
   "metadata": {},
   "outputs": [],
   "source": [
    "def generate_subquery(macro_role, k):\n",
    "    return f\"\"\"(\n",
    "        case\n",
    "            when macro_role='{macro_role}' then avg_distance_from_centroid_k_{k} \n",
    "        else NULL\n",
    "        end\n",
    "    ) as avg_dist_macro_role_{int(macro_role)}_k_{k}\n",
    "    \"\"\""
   ]
  },
  {
   "cell_type": "code",
   "execution_count": 51,
   "metadata": {},
   "outputs": [],
   "source": [
    "teams_df.createOrReplaceTempView(\"t\")\n",
    "\n",
    "temp = dict()\n",
    "\n",
    "for k in K:\n",
    "\n",
    "    temp[k] = (\n",
    "        spark.sql(\n",
    "            f\"\"\"\n",
    "                select season, club_name, {generate_subquery(0.0, k)}, {generate_subquery(1.0, k)}, {generate_subquery(2.0, k)}, {generate_subquery(3.0, k)}, {generate_subquery(4.0, k)}, {generate_subquery(5.0, k)}, {generate_subquery(6.0, k)}, {generate_subquery(7.0, k)}\n",
    "                from t\n",
    "            \"\"\"\n",
    "        )\n",
    "        .groupBy(\"season\", \"club_name\")\n",
    "        .agg(\n",
    "            # TODO use for loop as in second cell of \"from players to teams\"\n",
    "            sum(f\"avg_dist_macro_role_0_k_{k}\").alias(f\"avg_dist_macro_role_0_k_{k}\"),\n",
    "            sum(f\"avg_dist_macro_role_1_k_{k}\").alias(f\"avg_dist_macro_role_1_k_{k}\"),\n",
    "            sum(f\"avg_dist_macro_role_2_k_{k}\").alias(f\"avg_dist_macro_role_2_k_{k}\"),\n",
    "            sum(f\"avg_dist_macro_role_3_k_{k}\").alias(f\"avg_dist_macro_role_3_k_{k}\"),\n",
    "            sum(f\"avg_dist_macro_role_4_k_{k}\").alias(f\"avg_dist_macro_role_4_k_{k}\"),\n",
    "            sum(f\"avg_dist_macro_role_5_k_{k}\").alias(f\"avg_dist_macro_role_5_k_{k}\"),\n",
    "            sum(f\"avg_dist_macro_role_6_k_{k}\").alias(f\"avg_dist_macro_role_6_k_{k}\"),\n",
    "            sum(f\"avg_dist_macro_role_7_k_{k}\").alias(f\"avg_dist_macro_role_7_k_{k}\"),\n",
    "        )\n",
    "    )"
   ]
  },
  {
   "cell_type": "code",
   "execution_count": 52,
   "metadata": {},
   "outputs": [],
   "source": [
    "# NOTE executing this cell n times, w/o restoring teams_df --> \n",
    "# n copies of avg_dist_macro_role_[0:7]_k_[2, 6]\n",
    "\n",
    "teams_df = temp[str(K[0])]\n",
    "\n",
    "for i in range(1, len(K)):\n",
    "    teams_df = teams_df.join(\n",
    "        temp[str(K[i])], on=[\"season\", \"club_name\"]\n",
    "    )"
   ]
  },
  {
   "cell_type": "code",
   "execution_count": 53,
   "metadata": {},
   "outputs": [],
   "source": [
    "avg_distances_dict = dict()\n",
    "avg_distances_vec_dict = dict()\n",
    "\n",
    "for k in K:\n",
    "    \n",
    "    avg_distances_dict[k] = [\n",
    "        f\"avg_dist_macro_role_{i}_k_{k}\" for i in range(0, NUM_MACRO_ROLES)\n",
    "    ]\n",
    "\n",
    "    avg_distances_vec_dict[k] = f\"avg_dist_vec_k_{k}\""
   ]
  },
  {
   "cell_type": "code",
   "execution_count": 54,
   "metadata": {},
   "outputs": [
    {
     "name": "stderr",
     "output_type": "stream",
     "text": [
      "                                                                                \r"
     ]
    }
   ],
   "source": [
    "import builtins\n",
    "\n",
    "global_max = teams_df.select(\n",
    "    greatest(\n",
    "        *list(\n",
    "            itertools.chain.from_iterable(\n",
    "                avg_distances_dict.values()\n",
    "            )\n",
    "        )\n",
    "    ).alias(\"row_wise_max\")\n",
    ").collect()\n",
    "\n",
    "global_max = [row[\"row_wise_max\"] for row in global_max]\n",
    "\n",
    "global_max = builtins.max(global_max)\n"
   ]
  },
  {
   "cell_type": "code",
   "execution_count": 55,
   "metadata": {},
   "outputs": [],
   "source": [
    "teams_df = teams_df.fillna(global_max * 1.5)    "
   ]
  },
  {
   "cell_type": "code",
   "execution_count": 56,
   "metadata": {},
   "outputs": [],
   "source": [
    "for k in K:\n",
    "\n",
    "    assembler = VectorAssembler(\n",
    "        inputCols=avg_distances_dict[k], outputCol=avg_distances_vec_dict[k]\n",
    "    )\n",
    "\n",
    "    teams_df = assembler.transform(teams_df)"
   ]
  },
  {
   "cell_type": "markdown",
   "metadata": {},
   "source": [
    "## Learning from clustering"
   ]
  },
  {
   "cell_type": "code",
   "execution_count": 80,
   "metadata": {},
   "outputs": [],
   "source": [
    "clustering_learning_df = teams_df"
   ]
  },
  {
   "cell_type": "code",
   "execution_count": 81,
   "metadata": {},
   "outputs": [
    {
     "name": "stdout",
     "output_type": "stream",
     "text": [
      "root\n",
      " |-- season: string (nullable = true)\n",
      " |-- club_name: string (nullable = true)\n",
      " |-- avg_dist_macro_role_0_k_2: double (nullable = false)\n",
      " |-- avg_dist_macro_role_1_k_2: double (nullable = false)\n",
      " |-- avg_dist_macro_role_2_k_2: double (nullable = false)\n",
      " |-- avg_dist_macro_role_3_k_2: double (nullable = false)\n",
      " |-- avg_dist_macro_role_4_k_2: double (nullable = false)\n",
      " |-- avg_dist_macro_role_5_k_2: double (nullable = false)\n",
      " |-- avg_dist_macro_role_6_k_2: double (nullable = false)\n",
      " |-- avg_dist_macro_role_7_k_2: double (nullable = false)\n",
      " |-- avg_dist_macro_role_0_k_6: double (nullable = false)\n",
      " |-- avg_dist_macro_role_1_k_6: double (nullable = false)\n",
      " |-- avg_dist_macro_role_2_k_6: double (nullable = false)\n",
      " |-- avg_dist_macro_role_3_k_6: double (nullable = false)\n",
      " |-- avg_dist_macro_role_4_k_6: double (nullable = false)\n",
      " |-- avg_dist_macro_role_5_k_6: double (nullable = false)\n",
      " |-- avg_dist_macro_role_6_k_6: double (nullable = false)\n",
      " |-- avg_dist_macro_role_7_k_6: double (nullable = false)\n",
      " |-- avg_dist_macro_role_0_k_10: double (nullable = false)\n",
      " |-- avg_dist_macro_role_1_k_10: double (nullable = false)\n",
      " |-- avg_dist_macro_role_2_k_10: double (nullable = false)\n",
      " |-- avg_dist_macro_role_3_k_10: double (nullable = false)\n",
      " |-- avg_dist_macro_role_4_k_10: double (nullable = false)\n",
      " |-- avg_dist_macro_role_5_k_10: double (nullable = false)\n",
      " |-- avg_dist_macro_role_6_k_10: double (nullable = false)\n",
      " |-- avg_dist_macro_role_7_k_10: double (nullable = false)\n",
      " |-- avg_dist_macro_role_0_k_14: double (nullable = false)\n",
      " |-- avg_dist_macro_role_1_k_14: double (nullable = false)\n",
      " |-- avg_dist_macro_role_2_k_14: double (nullable = false)\n",
      " |-- avg_dist_macro_role_3_k_14: double (nullable = false)\n",
      " |-- avg_dist_macro_role_4_k_14: double (nullable = false)\n",
      " |-- avg_dist_macro_role_5_k_14: double (nullable = false)\n",
      " |-- avg_dist_macro_role_6_k_14: double (nullable = false)\n",
      " |-- avg_dist_macro_role_7_k_14: double (nullable = false)\n",
      " |-- avg_dist_vec_k_2: vector (nullable = true)\n",
      " |-- avg_dist_vec_k_6: vector (nullable = true)\n",
      " |-- avg_dist_vec_k_10: vector (nullable = true)\n",
      " |-- avg_dist_vec_k_14: vector (nullable = true)\n",
      "\n"
     ]
    }
   ],
   "source": [
    "clustering_learning_df.printSchema()"
   ]
  },
  {
   "cell_type": "code",
   "execution_count": 82,
   "metadata": {},
   "outputs": [],
   "source": [
    "clustering_learning_df = clustering_learning_df.join(\n",
    "    df, \n",
    "    on=[\"club_name\", \"season\"]\n",
    ")"
   ]
  },
  {
   "cell_type": "code",
   "execution_count": 83,
   "metadata": {},
   "outputs": [
    {
     "name": "stdout",
     "output_type": "stream",
     "text": [
      "root\n",
      " |-- club_name: string (nullable = true)\n",
      " |-- season: string (nullable = true)\n",
      " |-- avg_dist_macro_role_0_k_2: double (nullable = false)\n",
      " |-- avg_dist_macro_role_1_k_2: double (nullable = false)\n",
      " |-- avg_dist_macro_role_2_k_2: double (nullable = false)\n",
      " |-- avg_dist_macro_role_3_k_2: double (nullable = false)\n",
      " |-- avg_dist_macro_role_4_k_2: double (nullable = false)\n",
      " |-- avg_dist_macro_role_5_k_2: double (nullable = false)\n",
      " |-- avg_dist_macro_role_6_k_2: double (nullable = false)\n",
      " |-- avg_dist_macro_role_7_k_2: double (nullable = false)\n",
      " |-- avg_dist_macro_role_0_k_6: double (nullable = false)\n",
      " |-- avg_dist_macro_role_1_k_6: double (nullable = false)\n",
      " |-- avg_dist_macro_role_2_k_6: double (nullable = false)\n",
      " |-- avg_dist_macro_role_3_k_6: double (nullable = false)\n",
      " |-- avg_dist_macro_role_4_k_6: double (nullable = false)\n",
      " |-- avg_dist_macro_role_5_k_6: double (nullable = false)\n",
      " |-- avg_dist_macro_role_6_k_6: double (nullable = false)\n",
      " |-- avg_dist_macro_role_7_k_6: double (nullable = false)\n",
      " |-- avg_dist_macro_role_0_k_10: double (nullable = false)\n",
      " |-- avg_dist_macro_role_1_k_10: double (nullable = false)\n",
      " |-- avg_dist_macro_role_2_k_10: double (nullable = false)\n",
      " |-- avg_dist_macro_role_3_k_10: double (nullable = false)\n",
      " |-- avg_dist_macro_role_4_k_10: double (nullable = false)\n",
      " |-- avg_dist_macro_role_5_k_10: double (nullable = false)\n",
      " |-- avg_dist_macro_role_6_k_10: double (nullable = false)\n",
      " |-- avg_dist_macro_role_7_k_10: double (nullable = false)\n",
      " |-- avg_dist_macro_role_0_k_14: double (nullable = false)\n",
      " |-- avg_dist_macro_role_1_k_14: double (nullable = false)\n",
      " |-- avg_dist_macro_role_2_k_14: double (nullable = false)\n",
      " |-- avg_dist_macro_role_3_k_14: double (nullable = false)\n",
      " |-- avg_dist_macro_role_4_k_14: double (nullable = false)\n",
      " |-- avg_dist_macro_role_5_k_14: double (nullable = false)\n",
      " |-- avg_dist_macro_role_6_k_14: double (nullable = false)\n",
      " |-- avg_dist_macro_role_7_k_14: double (nullable = false)\n",
      " |-- avg_dist_vec_k_2: vector (nullable = true)\n",
      " |-- avg_dist_vec_k_6: vector (nullable = true)\n",
      " |-- avg_dist_vec_k_10: vector (nullable = true)\n",
      " |-- avg_dist_vec_k_14: vector (nullable = true)\n",
      " |-- avg(attacking_short_passing): double (nullable = true)\n",
      " |-- avg(shooting): double (nullable = true)\n",
      " |-- avg(power_stamina): double (nullable = true)\n",
      " |-- avg(skill_long_passing): double (nullable = true)\n",
      " |-- avg(power_strength): double (nullable = true)\n",
      " |-- avg(defending_standing_tackle): double (nullable = true)\n",
      " |-- avg(skill_fk_accuracy): double (nullable = true)\n",
      " |-- avg(skill_dribbling): double (nullable = true)\n",
      " |-- avg(dribbling): double (nullable = true)\n",
      " |-- avg(pace): double (nullable = true)\n",
      " |-- avg(mentality_aggression): double (nullable = true)\n",
      " |-- avg(movement_reactions): double (nullable = true)\n",
      " |-- avg(movement_sprint_speed): double (nullable = true)\n",
      " |-- avg(passing): double (nullable = true)\n",
      " |-- avg(movement_acceleration): double (nullable = true)\n",
      " |-- avg(attacking_heading_accuracy): double (nullable = true)\n",
      " |-- avg(attacking_finishing): double (nullable = true)\n",
      " |-- avg(defending): double (nullable = true)\n",
      " |-- avg(attacking_crossing): double (nullable = true)\n",
      " |-- avg(power_long_shots): double (nullable = true)\n",
      " |-- avg(mentality_penalties): double (nullable = true)\n",
      " |-- avg(overall): double (nullable = true)\n",
      " |-- avg(power_shot_power): double (nullable = true)\n",
      " |-- avg(value): double (nullable = true)\n",
      " |-- avg(physic): double (nullable = true)\n",
      " |-- avg(skill_ball_control): double (nullable = true)\n",
      " |-- league: string (nullable = true)\n",
      " |-- points: double (nullable = true)\n",
      " |-- place: integer (nullable = true)\n",
      "\n"
     ]
    }
   ],
   "source": [
    "clustering_learning_df.printSchema()"
   ]
  },
  {
   "cell_type": "code",
   "execution_count": 84,
   "metadata": {},
   "outputs": [],
   "source": [
    "clustering_learning_df_train_df, clustering_learning_df_test_df = clustering_learning_df.randomSplit(\n",
    "    # [0.9,0.1]\n",
    "    # NOTE reactive 90/10 split, keep 70/30 just when using one league\n",
    "    [0.7,0.3]\n",
    ")"
   ]
  },
  {
   "cell_type": "code",
   "execution_count": 85,
   "metadata": {},
   "outputs": [],
   "source": [
    "NUM_FOLDS_CV = 4"
   ]
  },
  {
   "cell_type": "markdown",
   "metadata": {},
   "source": [
    "### Regression"
   ]
  },
  {
   "cell_type": "markdown",
   "metadata": {},
   "source": [
    "#### Linear Regression"
   ]
  },
  {
   "cell_type": "code",
   "execution_count": 86,
   "metadata": {},
   "outputs": [],
   "source": [
    "lr_train_df, lr_test_df = clustering_learning_df_train_df, clustering_learning_df_test_df"
   ]
  },
  {
   "cell_type": "code",
   "execution_count": 90,
   "metadata": {},
   "outputs": [
    {
     "name": "stderr",
     "output_type": "stream",
     "text": [
      "                                                                                ]]]\r"
     ]
    },
    {
     "name": "stdout",
     "output_type": "stream",
     "text": [
      "***** Evaluating Training Set, (Linear Regression, best model according to metric r2) *****\n",
      "RMSE: 1.975\n",
      "R2: 0.990\n",
      "Adjusted R2: 0.965\n",
      "\n",
      "*** Test Set, (rf, best model elected by r2) ***\n"
     ]
    },
    {
     "name": "stderr",
     "output_type": "stream",
     "text": [
      "                                                                                \r"
     ]
    },
    {
     "name": "stdout",
     "output_type": "stream",
     "text": [
      "r2: -15.23670127570536\n",
      "*******************************\n"
     ]
    }
   ],
   "source": [
    "lr = LinearRegression(\n",
    "    # featuresCol=\"feature_vec_ufs_0.1\", \n",
    "    labelCol=\"points\"\n",
    ")\n",
    "\n",
    "# lr_evaluation_metrics = [\"r2\", \"mse\"]\n",
    "lr_evaluation_metrics = [\"r2\"]\n",
    "lr_evaluation_metrics_cv = [\"r2\"]\n",
    "\n",
    "lr_param_grid = (\n",
    "    ParamGridBuilder()\n",
    "    .addGrid(\n",
    "        lr.featuresCol,\n",
    "         [\"avg_dist_vec_k_2\"]\n",
    "        # avg_distances_vec_dict\n",
    "    )\n",
    "    #TODO add intermediate values: prof uses [0.0, 0.5, 1]\n",
    "    # .addGrid(lr.elasticNetParam, [0.0, 1])\n",
    "    #TODO add intermediate values: prof uses [0.0, 0.05, 0.1]\n",
    "    # .addGrid(lr.regParam, [0.0, 0.1])\n",
    "    # .addGrid(lr.fitIntercept, [True, False])\n",
    "    .build()\n",
    ")\n",
    "\n",
    "find_best_regressor(\n",
    "    train_df=lr_train_df, \n",
    "    test_df=lr_test_df, \n",
    "    regressor=lr,\n",
    "    regressor_evaluation_metrics=lr_evaluation_metrics,\n",
    "    cv_evaluation_metrics=lr_evaluation_metrics_cv,\n",
    "    hyperparams_grid=lr_param_grid\n",
    ")"
   ]
  },
  {
   "cell_type": "markdown",
   "metadata": {},
   "source": [
    "#### Decision Tree Regressor"
   ]
  },
  {
   "cell_type": "markdown",
   "metadata": {},
   "source": [
    "## Clustering-learning cross evaluation\n",
    "\n",
    "Classic left-right plot, with:\n",
    "Left Y --> elbow result\n",
    "Right Y --> accuracy\n",
    "X axis --> # clusters"
   ]
  },
  {
   "cell_type": "markdown",
   "metadata": {},
   "source": []
  },
  {
   "cell_type": "markdown",
   "metadata": {},
   "source": [
    "# Attempt 4: thinking \"Deep\", shallow injecting some priors"
   ]
  },
  {
   "cell_type": "code",
   "execution_count": 16,
   "metadata": {},
   "outputs": [],
   "source": [
    "rp_df = df"
   ]
  },
  {
   "cell_type": "markdown",
   "metadata": {},
   "source": [
    "## Computing the prior (RP coefficient)"
   ]
  },
  {
   "cell_type": "code",
   "execution_count": 17,
   "metadata": {},
   "outputs": [],
   "source": [
    "rp_df.select(\"season\", \"club_name\", \"place\").createOrReplaceTempView(\"t\")"
   ]
  },
  {
   "cell_type": "code",
   "execution_count": 18,
   "metadata": {},
   "outputs": [],
   "source": [
    "rp_df = spark.sql(\n",
    "    f\"\"\"\n",
    "    select t.season, t.club_name,\n",
    "        avg(\n",
    "            (\n",
    "                select sub.place\n",
    "                where sub.season < t.season and sub.club_name == t.club_name\n",
    "            )\n",
    "        ) as rp_coeff\n",
    "    from t, t as sub\n",
    "    group by t.season, t.club_name\n",
    "    order by t.season desc\n",
    "    \"\"\"\n",
    ").fillna(0)"
   ]
  },
  {
   "cell_type": "code",
   "execution_count": 19,
   "metadata": {},
   "outputs": [],
   "source": [
    "rp_df = rp_df.withColumn(\"rp_coeff\", 21 - col(\"rp_coeff\"))"
   ]
  },
  {
   "cell_type": "markdown",
   "metadata": {},
   "source": [
    "## Learning"
   ]
  },
  {
   "cell_type": "markdown",
   "metadata": {},
   "source": [
    "## RP impact\n",
    "\n",
    "plot showing that the more the weight of the RP coefficient is increased, the more the accuracy ofc goes up"
   ]
  },
  {
   "cell_type": "markdown",
   "metadata": {},
   "source": []
  }
 ],
 "metadata": {
  "interpreter": {
   "hash": "7d6993cb2f9ce9a59d5d7380609d9cb5192a9dedd2735a011418ad9e827eb538"
  },
  "kernelspec": {
   "display_name": "Python 3.9.7 64-bit",
   "language": "python",
   "name": "python3"
  },
  "language_info": {
   "codemirror_mode": {
    "name": "ipython",
    "version": 3
   },
   "file_extension": ".py",
   "mimetype": "text/x-python",
   "name": "python",
   "nbconvert_exporter": "python",
   "pygments_lexer": "ipython3",
   "version": "3.9.7"
  },
  "orig_nbformat": 4
 },
 "nbformat": 4,
 "nbformat_minor": 2
}
