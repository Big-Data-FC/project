{
 "cells": [
  {
   "cell_type": "markdown",
   "metadata": {},
   "source": [
    "# Big Data FC"
   ]
  },
  {
   "cell_type": "markdown",
   "metadata": {},
   "source": [
    "The goal of the **Big Data FC** project is to **predict** how many **points** a **football team** belonging to the main European football leagues will end the season with, according to the **characteristics of its players**.\n",
    "\n",
    "To reach the goal, data relative to the **football players** will first be loaded, in order to then compose the **football teams**.\n",
    "After that, a second dataset will be used to gather seasonal **rankings**, for every football team.\n",
    "\n",
    "The project as a whole is composed of:\n",
    "\n",
    "* This **notebook**, containing all steps of:\n",
    "  * Data loading.\n",
    "  * Data cleaning and pre-processing\n",
    "  * Data visualization.\n",
    "  * Data analysis.\n",
    "  * Learning and evaluation.\n",
    "* A custom [**scraper**](https://github.com/Big-Data-FC/scraper), to gather further players data.\n",
    "* A set of **REST APIs** to query the loaded data and the prediction model.\n",
    "* The collection of [scraped datasets](https://github.com/Big-Data-FC/datasets).\n",
    "\n",
    "During the project, multiple approaches and techniques were explored, all described in this notebook.\n",
    "\n",
    "_By [Daniele Solombrino](https://github.com/dansolombrino) and [Davide Quaranta](https://github.com/fortym2)._"
   ]
  },
  {
   "cell_type": "markdown",
   "metadata": {},
   "source": [
    "# Notebook configuration, global parameters and utility functions"
   ]
  },
  {
   "cell_type": "markdown",
   "metadata": {},
   "source": [
    "[state that we trained the models]"
   ]
  },
  {
   "cell_type": "code",
   "execution_count": 1,
   "metadata": {},
   "outputs": [],
   "source": [
    "MAX_K_CLUSTERS = 66\n",
    "MAX_ITER = 20\n",
    "\n",
    "k_range = range(2, MAX_K_CLUSTERS, 4)\n",
    "K_RANGE = [str(k) for k in k_range]"
   ]
  },
  {
   "cell_type": "code",
   "execution_count": 2,
   "metadata": {},
   "outputs": [],
   "source": [
    "ADD_RP_TRADEOFF = [0.5, 1, 2, 4, 8]"
   ]
  },
  {
   "cell_type": "code",
   "execution_count": 3,
   "metadata": {},
   "outputs": [],
   "source": [
    "attempts = range(1, 5)\n",
    "\n",
    "TRAINED_MODELS_DIRS = {\n",
    "    \"Attempt \" + str(k) : {\n",
    "        \"Regression\": {\n",
    "            \"Linear Regression\": f\"trained_models/attempt_{k}/regression/linear_regression\",\n",
    "            \"Prediction Tree\": f\"trained_models/attempt_{k}/regression/prediction_tree\",\n",
    "            \"Gradient Boosted Tree\": f\"trained_models/attempt_{k}/regression/gradient_boosted_tree\",\n",
    "            \"Random Forest\": f\"trained_models/attempt_{k}/regression/random_forest\",\n",
    "        },\n",
    "        \"Classification\": {\n",
    "            \"SVM\": f\"trained_models/attempt_{k}/classification/svm\",\n",
    "            \"Decision Tree\": f\"trained_models/attempt_{k}/classification/decision_tree\",\n",
    "            \"Logistic Regression\": f\"trained_models/attempt_{k}/classification/logistic_regression\",\n",
    "            \"Random Forest\": f\"trained_models/attempt_{k}/classification/random_forest\",\n",
    "            \"MLP\": f\"trained_models/attempt_{k}/classification/mlp\",\n",
    "        }\n",
    "    } for k in attempts\n",
    "}\n",
    "\n",
    "TRAINED_MODELS_DIRS[\"Attempt 3\"][\"Regression\"][\"Linear Regression multiple k\"] = {\n",
    "    k : f\"trained_models/attempt_3/regression/linear_regression_multiple_k/{k}_clusters\" for k in K_RANGE\n",
    "}\n",
    "\n",
    "TRAINED_MODELS_DIRS[\"Attempt 4\"][\"Regression\"][\"Linear Regression multiple tradeoffs\"] = {\n",
    "    tradeoff : f\"trained_models/attempt_4/regression/linear_regression_multiple_tradeoffs/tradeoff_{tradeoff}\" for tradeoff in ADD_RP_TRADEOFF\n",
    "}\n"
   ]
  },
  {
   "cell_type": "code",
   "execution_count": 4,
   "metadata": {},
   "outputs": [],
   "source": [
    "def model_exists(model_path):\n",
    "    return os.path.isdir(model_path)"
   ]
  },
  {
   "cell_type": "code",
   "execution_count": 5,
   "metadata": {},
   "outputs": [],
   "source": [
    "def load_model_from_disk(model_type, model_path):\n",
    "    return model_type.load(model_path)"
   ]
  },
  {
   "cell_type": "markdown",
   "metadata": {},
   "source": [
    "Before getting started, a series of components that are used across the entire project are imported."
   ]
  },
  {
   "cell_type": "code",
   "execution_count": 6,
   "metadata": {},
   "outputs": [],
   "source": [
    "#  PySpark\n",
    "from pyspark.sql import *\n",
    "from pyspark.sql.types import *\n",
    "from pyspark.sql.functions import *\n",
    "from pyspark import SparkContext, SparkConf\n",
    "\n",
    "import gc\n",
    "\n",
    "import builtins\n",
    "import operator\n",
    "import json\n",
    "\n",
    "import seaborn as sns\n",
    "import matplotlib.pyplot as plt\n",
    "# %matplotlib inline\n",
    "%matplotlib widget\n",
    "\n",
    "import pandas as pd\n",
    "import numpy as np\n",
    "\n",
    "from functools import reduce\n",
    "\n",
    "import pprint"
   ]
  },
  {
   "cell_type": "code",
   "execution_count": 7,
   "metadata": {},
   "outputs": [
    {
     "name": "stderr",
     "output_type": "stream",
     "text": [
      "22/06/26 11:30:09 WARN Utils: Your hostname, RTX-2070-Rig resolves to a loopback address: 127.0.1.1; using 192.168.1.189 instead (on interface wlp7s0)\n",
      "22/06/26 11:30:09 WARN Utils: Set SPARK_LOCAL_IP if you need to bind to another address\n",
      "Using Spark's default log4j profile: org/apache/spark/log4j-defaults.properties\n",
      "Setting default log level to \"WARN\".\n",
      "To adjust logging level use sc.setLogLevel(newLevel). For SparkR, use setLogLevel(newLevel).\n",
      "22/06/26 11:30:09 WARN NativeCodeLoader: Unable to load native-hadoop library for your platform... using builtin-java classes where applicable\n"
     ]
    }
   ],
   "source": [
    "conf = (\n",
    "    SparkConf()\n",
    "    .set(\"spark.ui.port\", \"4050\")\n",
    "    .set(\"spark.executor.memory\", \"4G\")\n",
    "    .set(\"spark.driver.memory\", \"20G\")\n",
    "    .set(\"spark.driver.maxResultSize\", \"10G\")\n",
    ")\n",
    "# .set(\"spark.master\", \"spark://192.168.1.189:4050\")\n",
    "\n",
    "\n",
    "# create the context\n",
    "sc = SparkContext(conf=conf)\n",
    "sc.setLogLevel(\"ERROR\")\n",
    "\n",
    "\n",
    "spark = SparkSession.builder.getOrCreate()"
   ]
  },
  {
   "cell_type": "code",
   "execution_count": 8,
   "metadata": {},
   "outputs": [],
   "source": [
    "import random \n",
    "\n",
    "random_seed = random.randint(0, sys.maxsize)"
   ]
  },
  {
   "cell_type": "code",
   "execution_count": 9,
   "metadata": {},
   "outputs": [],
   "source": [
    "def plot_feature_target_relation(\n",
    "    data, x, y, n_cols = 2, figsize = (15, 30), color = \"#000000\"\n",
    "):\n",
    "\n",
    "    n_rows = int(len(x) / n_cols) if len(x) >= n_cols else n_cols\n",
    "    fig, axes = plt.subplots(n_rows, n_cols, figsize=figsize)\n",
    "\n",
    "    for x_ind, x_value in enumerate(x):\n",
    "        ax = sns.regplot(\n",
    "            data=data,\n",
    "            x=x_value,\n",
    "            y=y,\n",
    "            color = color,\n",
    "            ax=axes[x_ind // n_cols, x_ind % n_cols] if n_rows > 1 else axes,\n",
    "        )\n",
    "\n",
    "\n",
    "    fig.tight_layout()"
   ]
  },
  {
   "cell_type": "code",
   "execution_count": 10,
   "metadata": {},
   "outputs": [],
   "source": [
    "def plot_feature_distribution(\n",
    "    data,\n",
    "    features,\n",
    "    figsize=(4,4), \n",
    "    color=\"#000000\",\n",
    "    n_cols=2\n",
    "):\n",
    "\n",
    "    n_rows = int(len(features) / n_cols) if len(features) >= n_cols else n_cols\n",
    "    fig, axes = plt.subplots(n_rows, n_cols, figsize=figsize)\n",
    "\n",
    "    for feature_ind, feature in enumerate(features):\n",
    "        _ = sns.histplot(\n",
    "            data[feature],\n",
    "            kde=True,\n",
    "            color=color,\n",
    "            facecolor=color,\n",
    "            ax=axes[feature_ind // n_cols, feature_ind % n_cols] if n_rows > 1 else axes,\n",
    "        )\n",
    "\n",
    "    fig.tight_layout(pad=1.5)"
   ]
  },
  {
   "cell_type": "code",
   "execution_count": 11,
   "metadata": {},
   "outputs": [],
   "source": [
    "def plot_correlation_matrix(\n",
    "    data, features, title=\"Pearson Correlation Matrix\", figsize=(16,12)\n",
    "):\n",
    "\n",
    "    mask = np.zeros_like(data[features].corr(), dtype=bool)\n",
    "    mask[np.triu_indices_from(mask)] = True\n",
    "\n",
    "    with sns.axes_style(\"white\"):  # Temporarily set the background to white\n",
    "        fig, ax = plt.subplots(figsize=figsize)\n",
    "        plt.title(title, fontsize=24)\n",
    "\n",
    "        cmap = sns.diverging_palette(220, 10, as_cmap=True)\n",
    "\n",
    "        _ = sns.heatmap(\n",
    "            data[features].corr(),\n",
    "            linewidths=0.25,\n",
    "            vmax=0.7,\n",
    "            square=True,\n",
    "            ax=ax,\n",
    "            cmap=cmap,\n",
    "            linecolor=\"w\",\n",
    "            annot=True,\n",
    "            annot_kws={\"size\": 8},\n",
    "            mask=mask,\n",
    "            cbar_kws={\"shrink\": 0.9},\n",
    "        )"
   ]
  },
  {
   "cell_type": "code",
   "execution_count": 12,
   "metadata": {},
   "outputs": [],
   "source": [
    "from pyspark.ml.evaluation import RegressionEvaluator, MulticlassClassificationEvaluator\n",
    "from pyspark.ml.tuning import CrossValidator, ParamGridBuilder\n",
    "\n",
    "from pyspark.ml.regression import Regressor\n",
    "from pyspark.ml.regression import LinearRegression, LinearRegressionModel, LinearRegressionTrainingSummary\n",
    "from pyspark.ml.regression import RandomForestRegressor, RandomForestRegressionModel\n",
    "from pyspark.ml.classification import Classifier\n",
    "from pyspark.ml.classification import OneVsRest\n",
    "from pyspark.ml.classification import RandomForestClassificationTrainingSummary\n",
    "from pyspark.ml.classification import MultilayerPerceptronClassificationSummary\n",
    "\n",
    "from pyspark.ml.regression import RegressionModel\n",
    "from pyspark.ml.classification import ClassificationModel\n",
    "from pyspark.ml.classification import MultilayerPerceptronClassificationModel"
   ]
  },
  {
   "cell_type": "code",
   "execution_count": 13,
   "metadata": {},
   "outputs": [],
   "source": [
    "def get_evaluators(estimator, label_col, prediction_col, evaluation_metrics):\n",
    "    evaluators = dict()\n",
    "\n",
    "    if isinstance(estimator, Regressor) or isinstance(estimator, RegressionModel):\n",
    "        evaluators = {\n",
    "            metric: RegressionEvaluator(\n",
    "                labelCol=label_col,\n",
    "                predictionCol=prediction_col,\n",
    "                metricName=metric,\n",
    "            )\n",
    "            for metric in evaluation_metrics\n",
    "        }\n",
    "    elif isinstance(\n",
    "        estimator, Classifier\n",
    "        ) or isinstance(estimator, OneVsRestModel) or isinstance(\n",
    "            estimator, ClassificationModel\n",
    "        ):\n",
    "        evaluators = {\n",
    "            metric: MulticlassClassificationEvaluator(\n",
    "                labelCol=label_col,\n",
    "                predictionCol=prediction_col,\n",
    "                metricName=metric,\n",
    "            )\n",
    "            for metric in evaluation_metrics\n",
    "        }\n",
    "    else:\n",
    "        raise Exception(\"Unexpected estimator, got\" + str(type(estimator)))\n",
    "\n",
    "    return evaluators\n"
   ]
  },
  {
   "cell_type": "code",
   "execution_count": 14,
   "metadata": {},
   "outputs": [],
   "source": [
    "def learn_best_model(\n",
    "    estimator, \n",
    "    param_grid,\n",
    "    evaluator_cv\n",
    "):\n",
    "    cross_validator = CrossValidator(\n",
    "        estimator=estimator,\n",
    "        estimatorParamMaps=param_grid,\n",
    "        evaluator=evaluator_cv,\n",
    "        numFolds=5,\n",
    "        collectSubModels=False\n",
    "    )\n",
    "    \n",
    "    cross_validated_model = cross_validator.fit(train_df)\n",
    "\n",
    "    return cross_validated_model"
   ]
  },
  {
   "cell_type": "code",
   "execution_count": 15,
   "metadata": {},
   "outputs": [],
   "source": [
    "def evaluate_learning_models(\n",
    "    best_model, \n",
    "    evaluators,\n",
    "    save_training_result_path=None\n",
    "):\n",
    "    has_summary = True\n",
    "    \n",
    "    out_dict = {\n",
    "        \"train_set_evaluation\": dict(),\n",
    "        \"test_set_evaluation\": dict()\n",
    "    }\n",
    "\n",
    "    try:\n",
    "        has_summary = best_model.hasSummary\n",
    "    except AttributeError as e:\n",
    "        # since the only models that have summary\n",
    "        # have the hasSummary field,\n",
    "        # it is needed to catch this exception\n",
    "        has_summary = False\n",
    "    \n",
    "    if has_summary:\n",
    "        print(\"Summary available, retrieving data...\")\n",
    "\n",
    "        if isinstance(\n",
    "            best_model, LinearRegressionModel\n",
    "        ) or isinstance(best_model, RandomForestClassificationModel):\n",
    "            training_result = best_model.summary\n",
    "        elif isinstance(best_model, MultilayerPerceptronClassificationModel):\n",
    "            training_result = best_model.summary()\n",
    "        \n",
    "        print(\"-----------------------------\")\n",
    "        print(training_result.r2)\n",
    "        print(\"-----------------------------\")\n",
    "\n",
    "\n",
    "        if any(\n",
    "            x in type(best_model).__name__ for x in [\n",
    "                \"LinearRegression\", \n",
    "                \"DecisionTreeRegressor\", \n",
    "                \"GBTRegressor\",\n",
    "                \"RandomForestRegressor\"\n",
    "            ]\n",
    "        ):\n",
    "            out_dict[\"train_set_evaluation\"][\"r2\"] = training_result.r2\n",
    "            out_dict[\"train_set_evaluation\"][\"r2adj\"] = training_result.r2adj\n",
    "            out_dict[\"train_set_evaluation\"][\"meanSquaredError\"] = training_result.meanSquaredError\n",
    "            out_dict[\"train_set_evaluation\"][\"meanAbsoluteError\"] = training_result.meanAbsoluteError\n",
    "            out_dict[\"train_set_evaluation\"][\"rootMeanSquaredError\"] = training_result.rootMeanSquaredError\n",
    "            out_dict[\"train_set_evaluation\"][\"explainedVariance\"] = training_result.explainedVariance\n",
    "        else:\n",
    "            out_dict[\"train_set_evaluation\"][\"accuracy\"] = training_result.accuracy\n",
    "            out_dict[\"train_set_evaluation\"][\"falsePositiveRateByLabel\"] = training_result.falsePositiveRateByLabel\n",
    "            out_dict[\"train_set_evaluation\"][\"precisionByLabel\"] = training_result.precisionByLabel\n",
    "            out_dict[\"train_set_evaluation\"][\"recallByLabel\"] = training_result.recallByLabel\n",
    "            out_dict[\"train_set_evaluation\"][\"truePositiveRateByLabel\"] = training_result.truePositiveRateByLabel\n",
    "            out_dict[\"train_set_evaluation\"][\"weightedFalsePositiveRate\"] = training_result.weightedFalsePositiveRate\n",
    "            out_dict[\"train_set_evaluation\"][\"weightedPrecision\"] = training_result.weightedPrecision\n",
    "            out_dict[\"train_set_evaluation\"][\"weightedRecall\"] = training_result.weightedRecall\n",
    "            out_dict[\"train_set_evaluation\"][\"weightedTruePositiveRate\"] = training_result.weightedTruePositiveRate\n",
    "            out_dict[\"train_set_evaluation\"][\"fMeasureByLabel\"] = training_result.fMeasureByLabel()\n",
    "            out_dict[\"train_set_evaluation\"][\"weightedFMeasure\"] = training_result.weightedFMeasure()\n",
    "\n",
    "        predictions = best_model.transform(test_df)\n",
    "                    \n",
    "        for e, evaluator in evaluators.items():\n",
    "            if save_training_result_path is not None:\n",
    "                out_dict[\"test_set_evaluation\"][evaluator.getMetricName()] = evaluator.evaluate(predictions)\n",
    "    \n",
    "    else: # no summary available\n",
    "        print(\"No summary available, using custom evaluation procedure...\")\n",
    "        for stage_name, stage_df in zip([\"Train\", \"Test\"], [train_df, test_df]):\n",
    "            predictions = best_model.transform(stage_df)\n",
    "\n",
    "            for e, evaluator in evaluators.items():\n",
    "                if save_training_result_path is not None:\n",
    "                    out_dict[f\"{stage_name.lower()}_set_evaluation\"][evaluator.getMetricName()] = evaluator.evaluate(predictions)\n",
    "\n",
    "    if save_training_result_path is not None:\n",
    "        os.makedirs(\n",
    "            os.path.join(\n",
    "                *save_training_result_path.split(\"/\")[:-1]\n",
    "            ), \n",
    "            exist_ok=True\n",
    "        ) \n",
    "        \n",
    "        with open(save_training_result_path, \"w\", encoding=\"utf8\") as f:\n",
    "            f.write(json.dumps(out_dict))\n",
    "    \n",
    "    pprint.pprint(out_dict)\n",
    "\n",
    "    return out_dict\n",
    "\n"
   ]
  },
  {
   "cell_type": "code",
   "execution_count": 16,
   "metadata": {},
   "outputs": [],
   "source": [
    "import json\n",
    "\n",
    "def print_model_evaluation(model_evaluation_path):\n",
    "    \n",
    "    with open(model_evaluation_path) as json_file:\n",
    "        model_evaluation = json.load(json_file)\n",
    "        \n",
    "        pprint.pprint(model_evaluation)\n",
    "        return model_evaluation"
   ]
  },
  {
   "cell_type": "code",
   "execution_count": 17,
   "metadata": {},
   "outputs": [],
   "source": [
    "from pyspark.ml.feature import PCA\n",
    "\n",
    "PCA_NUM_COMPONENTS = 2\n",
    "\n",
    "def perform_pca(df, num_components, input_col, output_col):\n",
    "    pca = PCA(\n",
    "        k=num_components, \n",
    "        inputCol=input_col, \n",
    "        outputCol=output_col\n",
    "    )\n",
    "    pca_model = pca.fit(df)\n",
    "\n",
    "    return pca_model.transform(df), pca_model"
   ]
  },
  {
   "cell_type": "code",
   "execution_count": 18,
   "metadata": {},
   "outputs": [],
   "source": [
    "def plot_pca_explained_variance(pca_model, num_components_to_plot=2, figsize=(8,6)):\n",
    "    fig, ax = plt.subplots(1, 1, figsize=figsize)\n",
    "    _ = sns.barplot(\n",
    "        x=[i for i in range(num_components_to_plot)],\n",
    "        y=pca_model.explainedVariance.values[0:num_components_to_plot],\n",
    "        ax=ax,\n",
    "        palette=\"summer\"\n",
    "    )\n",
    "\n",
    "    _ = ax.set_xlabel(\"Eigenvalues\", labelpad=16, fontsize=16)\n",
    "    _ = ax.set_ylabel(\"Proportion of Variance\", fontsize=16)\n",
    "    _ = ax.set_xticklabels(\n",
    "        [f\"Principal Component {i}\" for i in range(num_components_to_plot)], \n",
    "        rotation=0\n",
    "    )\n",
    "    _ = ax.set_title(\"Explained variance of each Principal Component\")"
   ]
  },
  {
   "cell_type": "code",
   "execution_count": 19,
   "metadata": {},
   "outputs": [],
   "source": [
    "def scatter_plot(\n",
    "    x,\n",
    "    y,\n",
    "    x_label,\n",
    "    y_label,\n",
    "    title=\"\",\n",
    "    c=None,\n",
    "    c_map=plt.cm.get_cmap(\"tab10\"),\n",
    "    figsize=(12,8),\n",
    "    ):\n",
    "    \n",
    "    fig, ax = plt.subplots(1, 1, figsize=figsize)\n",
    "\n",
    "    _ = plt.scatter(\n",
    "        x=x,\n",
    "        y=y,\n",
    "        c=y if c is None else c,\n",
    "        edgecolor=\"none\",\n",
    "        #alpha=1,\n",
    "        cmap=c_map,\n",
    "        axes=ax,\n",
    "    )\n",
    "\n",
    "    _ = ax.set_xlabel(x_label, labelpad=20, fontsize=16)\n",
    "    _ = ax.set_ylabel(y_label, fontsize=16)\n",
    "    _ = ax.set_title(title)\n",
    "\n",
    "    plt.colorbar()\n",
    "    plt.show()"
   ]
  },
  {
   "cell_type": "code",
   "execution_count": 20,
   "metadata": {},
   "outputs": [],
   "source": [
    "REGRESSION_EVALUATION_METRICS = [\"r2\", \"mse\", \"rmse\", \"mae\", \"var\"]\n",
    "REGRESSION_EVALUATION_METRIC_CV = \"r2\"\n",
    "\n",
    "REGRESSION_LABEL_COL = \"points\"\n",
    "\n",
    "regression_evaluator_cv = RegressionEvaluator(\n",
    "    metricName=REGRESSION_EVALUATION_METRIC_CV\n",
    ")"
   ]
  },
  {
   "cell_type": "code",
   "execution_count": 21,
   "metadata": {},
   "outputs": [],
   "source": [
    "CLASSIFICATION_EVALUATION_METRICS = [\n",
    "    \"f1\",\n",
    "    \"accuracy\",\n",
    "    \"weightedPrecision\",\n",
    "    \"weightedRecall\",\n",
    "    \"weightedTruePositiveRate\",\n",
    "    \"weightedFalsePositiveRate\",\n",
    "    \"weightedFMeasure\",\n",
    "    \"truePositiveRateByLabel\",\n",
    "    \"falsePositiveRateByLabel\",\n",
    "    \"precisionByLabel\",\n",
    "    \"recallByLabel\",\n",
    "    \"fMeasureByLabel\"\n",
    "]\n",
    "\n",
    "CLASSIFICATION_EVALUATION_METRIC_CV = \"accuracy\"\n",
    "\n",
    "CLASSIFICATION_LABEL_COL = \"macro_place\"\n",
    "\n",
    "classification_evaluator_cv = MulticlassClassificationEvaluator(\n",
    "    metricName=CLASSIFICATION_EVALUATION_METRIC_CV\n",
    ")"
   ]
  },
  {
   "cell_type": "code",
   "execution_count": 22,
   "metadata": {},
   "outputs": [],
   "source": [
    "from pyspark.ml.regression import LinearRegression\n",
    "\n",
    "linear_regression_estimator = LinearRegression()"
   ]
  },
  {
   "cell_type": "markdown",
   "metadata": {},
   "source": [
    "# Loading football players"
   ]
  },
  {
   "cell_type": "markdown",
   "metadata": {},
   "source": [
    "First step is to load football players data, which comes from to two different sources:\n",
    "\n",
    "* For seasons between 2015 and 2020 (called \"modern\"): [FIFA 15-21 complete dataset](https://www.kaggle.com/datasets/stefanoleone992/fifa-21-complete-player-dataset)\n",
    "\n",
    "* For season between 2007 and 2014 (called \"legacy\"): scraped data from [sofifa.com](https://sofifa.com), a website specialized in storing data taken from EA Sports FIFA games.\n",
    "\n",
    "As introduced before, scraped datasets are committed in a [GitHub repository](https://github.com/Big-Data-FC/datasets).\n",
    "\n",
    "From now on, the terms \"modern\" and \"legacy\" will be used to refer to the two kinds of datasets.\n",
    "\n",
    "Initially, modern and legacy data will be splitted in two different dataframes, since there are some differences in the structure of their data, among these different years."
   ]
  },
  {
   "cell_type": "code",
   "execution_count": 23,
   "metadata": {},
   "outputs": [
    {
     "name": "stderr",
     "output_type": "stream",
     "text": [
      "                                                                                \r"
     ]
    }
   ],
   "source": [
    "modern_df = spark.read.csv(\n",
    "    \"data/players_*.csv\", sep=\",\", inferSchema=True, header=True, multiLine=True\n",
    ")\n",
    "\n",
    "legacy_df = spark.read.csv(\n",
    "    \"data/scraped_players_*.csv\", sep=\",\", inferSchema=True, header=True, \n",
    "    multiLine=True\n",
    ")"
   ]
  },
  {
   "cell_type": "markdown",
   "metadata": {},
   "source": [
    "# Pre-processing football players"
   ]
  },
  {
   "cell_type": "markdown",
   "metadata": {},
   "source": [
    "In order to focus the project on the major European leagues, it is useful to define a list of leagues to filter, and also to define a list of season to easily discriminate between modern an legacy data."
   ]
  },
  {
   "cell_type": "code",
   "execution_count": 24,
   "metadata": {},
   "outputs": [],
   "source": [
    "# These are the European Leagues supported by Big-Data-FC\n",
    "leagues = [\n",
    "    \"Italian Serie A\",\n",
    "    \"Spain Primera Division\",\n",
    "    \"German 1. Bundesliga\",\n",
    "    \"French Ligue 1\",\n",
    "    \"English Premier League\",\n",
    "    \"Holland Eredivisie\",\n",
    "]\n",
    "\n",
    "# These are the seasons supported by Big-Data-FC\n",
    "seasons_modern = [\"20\", \"19\", \"18\", \"17\", \"16\", \"15\", \"14\"] \n",
    "# seasons_modern = [\"20\"] \n",
    "seasons_legacy = [\"13\", \"12\", \"11\", \"10\", \"09\", \"08\", \"07\"]\n",
    "# seasons_legacy = [\"13\"]\n",
    "seasons = seasons_legacy + seasons_modern"
   ]
  },
  {
   "cell_type": "markdown",
   "metadata": {},
   "source": [
    "The next definition is about **macro roles**, which is a custom-defined abstration to aggregate affine football roles.\n",
    "\n",
    "For example, all the midfield roles such as \"central midfielder\", \"advanced midfielder\", \"left|right wing\" can be **grouped together** in the same macro role \"midfielder\".\n",
    "\n",
    "Macro roles will be used later on, in a subsequent learning phase. For this reason, much more about them will be touched in future points.\n",
    "\n",
    "The following cell defines the actual aggregation from FIFA roles abbreviations into macro roles."
   ]
  },
  {
   "cell_type": "code",
   "execution_count": 25,
   "metadata": {},
   "outputs": [],
   "source": [
    "macro_roles = [\"0.0\", \"1.0\", \"2.0\", \"3.0\"]\n",
    "\n",
    "roles_to_macro_roles_dict = {\n",
    "    \"GK\": \"0\",\n",
    "    \"SW\": \"1\",\n",
    "    \"LB\": \"1\",\n",
    "    \"RB\": \"1\",\n",
    "    \"RWB\": \"1\",\n",
    "    \"LWB\": \"1\",\n",
    "    \"CB\": \"1\",\n",
    "    \"CDM\": \"2\",\n",
    "    \"CM\": \"2\",\n",
    "    \"RM\": \"2\",\n",
    "    \"LM\": \"2\",\n",
    "    \"CAM\": \"2\",\n",
    "    \"RW\": \"3\",\n",
    "    \"LW\": \"3\",\n",
    "    \"ST\": \"3\",\n",
    "    \"LF\": \"3\",\n",
    "    \"RF\": \"3\",\n",
    "    \"CF\": \"3\",\n",
    "}\n",
    "\n",
    "NUM_MACRO_ROLES = 4\n",
    "\n",
    "roles_to_macro_role_UDF = udf(\n",
    "    lambda roles: float(\n",
    "        roles_to_macro_roles_dict[roles.split(\",\")[0]]\n",
    "    ), \n",
    "    StringType()\n",
    ")"
   ]
  },
  {
   "cell_type": "markdown",
   "metadata": {},
   "source": [
    "Since the columns associeted to players also contain graphical or data that is generally not informative for the project's purpose (such as shirt number, celebration moves, etc), a list of meaningful columns has been defined, on which the actual working dataframes will be based on."
   ]
  },
  {
   "cell_type": "code",
   "execution_count": 26,
   "metadata": {},
   "outputs": [],
   "source": [
    "columns = [\n",
    "    \"short_name\",\n",
    "    \"club_name\",\n",
    "    \"league_name\",\n",
    "    \"season\",\n",
    "    \"player_positions\",\n",
    "    \"macro_role\",\n",
    "    \"overall\",\n",
    "    \"value\",\n",
    "    \"pace\",\n",
    "    \"shooting\",\n",
    "    \"passing\",\n",
    "    \"dribbling\",\n",
    "    \"defending\",\n",
    "    \"physic\",\n",
    "    \"attacking_crossing\",\n",
    "    \"attacking_finishing\",\n",
    "    \"attacking_heading_accuracy\",\n",
    "    \"attacking_short_passing\",\n",
    "    \"skill_dribbling\",\n",
    "    \"skill_fk_accuracy\",\n",
    "    \"skill_long_passing\",\n",
    "    \"skill_ball_control\",\n",
    "    \"movement_acceleration\",\n",
    "    \"movement_sprint_speed\",\n",
    "    \"movement_reactions\",\n",
    "    \"power_shot_power\",\n",
    "    \"power_stamina\",\n",
    "    \"power_strength\",\n",
    "    \"power_long_shots\",\n",
    "    \"mentality_aggression\",\n",
    "    \"mentality_penalties\",\n",
    "    \"defending_standing_tackle\"\n",
    "]"
   ]
  },
  {
   "cell_type": "markdown",
   "metadata": {},
   "source": [
    "Datasets do **not** explicitly include the **year** (season) to which the record refers to.\n",
    "\n",
    "Rather, this information is implicitly stored in a URL (also for the non-scraped ones, which still originate from the same source), which has its own field.\n",
    "For this reason, a function to extract such information from aforementioned field is needed.\n",
    "\n",
    "As an example, a if the URL is `/player/41236/zlatan-ibrahimovic/130034/`, the corresponding season is `13` (from `/13xxxx/`)."
   ]
  },
  {
   "cell_type": "code",
   "execution_count": 27,
   "metadata": {},
   "outputs": [],
   "source": [
    "def get_season(url):\n",
    "    url_split = url.split(\"/\")\n",
    "\n",
    "    # FIFA years must be scaled by a negative factor of one (i.e. 2021 has to be 2020, etc.)\n",
    "    # This is needed to ensure compatibility with the seasonal score dataset\n",
    "    return str(\n",
    "        (int(url_split[-2 if url_split[-1] == \"\" else -1][0:2]) - 1)\n",
    "    ).zfill(2)\n",
    "\n",
    "get_season_UDF = udf(lambda url: get_season(url), StringType())"
   ]
  },
  {
   "cell_type": "markdown",
   "metadata": {},
   "source": [
    "The format of the **monetary value** of players is different among the modern and legacy dataset.\n",
    "\n",
    "Specifically, the legacy one abbreviates the values into the form `€10M` to represent `€10000000`.\n",
    "\n",
    "The following function is used to convert it into the extended one."
   ]
  },
  {
   "cell_type": "code",
   "execution_count": 28,
   "metadata": {},
   "outputs": [],
   "source": [
    "@udf\n",
    "def expand_value_UDF(value):\n",
    "    value = value.replace(\"€\", \"\")\n",
    "    if value[-1] not in (\"K\", \"M\"):\n",
    "        # no abbreviation at the end\n",
    "        return float(value) + 0.0000001\n",
    "\n",
    "    # extract the number and the unit\n",
    "    num = value[:-1]\n",
    "    unit = value[-1]\n",
    "\n",
    "    # decide based on the unit\n",
    "    if unit == \"M\":\n",
    "        return float(num) * 1000000\n",
    "    if unit == \"K\":\n",
    "        return float(num) * 1000\n",
    "\n",
    "    return \"ERROR\""
   ]
  },
  {
   "cell_type": "markdown",
   "metadata": {},
   "source": [
    "Now to the actual pre-process.\n",
    "\n",
    "Some actions are needed by legacy and modern both, whilst other are exclusive to either one."
   ]
  },
  {
   "cell_type": "code",
   "execution_count": 29,
   "metadata": {},
   "outputs": [],
   "source": [
    "# Extracting season from the player URL, as per previous cell\n",
    "pre_processed_modern_df = modern_df.withColumn(\n",
    "    \"season\", get_season_UDF(col(\"player_url\"))\n",
    ")\n",
    "pre_processed_legacy_df = legacy_df.withColumn(\n",
    "    \"season\", get_season_UDF(col(\"player_url\"))\n",
    ")\n",
    "\n",
    "# Taking only the players playing for teams in supported Leagues, \n",
    "# in the supported seasons\n",
    "pre_processed_modern_df = pre_processed_modern_df.where(\n",
    "    (pre_processed_modern_df.league_name.isin(leagues))\n",
    "    &\n",
    "    (pre_processed_modern_df.season.isin(seasons_modern))\n",
    ")\n",
    "pre_processed_legacy_df = pre_processed_legacy_df.where(\n",
    "    (pre_processed_legacy_df.league_name.isin(leagues))\n",
    "    &\n",
    "    (pre_processed_legacy_df.season.isin(seasons_legacy))\n",
    ")\n",
    "\n",
    "# Dropping duplicate players\n",
    "pre_processed_modern_df = pre_processed_modern_df.dropDuplicates([\"player_url\"])\n",
    "pre_processed_legacy_df = pre_processed_legacy_df.dropDuplicates([\"player_url\"])\n",
    "\n",
    "# Selected columns have been checked for absence of null/missing data.\n",
    "# Nevertheless, to ensure compatibility and reusability with other datasets, \n",
    "# a null-filling sweep is done\n",
    "pre_processed_modern_df = pre_processed_modern_df.na.fill(0)\n",
    "pre_processed_legacy_df = pre_processed_legacy_df.na.fill(0)\n",
    "\n",
    "# Getting the macro role of the player, according to its field position\n",
    "pre_processed_modern_df = pre_processed_modern_df.withColumn(\n",
    "    \"macro_role\", roles_to_macro_role_UDF(col(\"player_positions\"))\n",
    ")\n",
    "pre_processed_legacy_df = pre_processed_legacy_df.withColumn(\n",
    "    \"macro_role\", roles_to_macro_role_UDF(col(\"player_positions\"))\n",
    ")\n",
    "\n",
    "# Renaming the \"value_eur\" field to \"value\" to have compatiblity with legacy\n",
    "pre_processed_modern_df = pre_processed_modern_df.withColumnRenamed(\n",
    "    \"value_eur\", \"value\"\n",
    ")\n",
    "\n",
    "# Convert the monetary value to have compatibility with modern\n",
    "pre_processed_legacy_df = pre_processed_legacy_df.withColumn(\n",
    "    \"value\", expand_value_UDF(col(\"value\"))\n",
    ")\n",
    "\n",
    "# Renaming some legacy columns, so as they have the same name as in the modern\n",
    "pre_processed_legacy_df = pre_processed_legacy_df.withColumnRenamed(\n",
    "    \"pas\", \"passing\"\n",
    ")\n",
    "pre_processed_legacy_df = pre_processed_legacy_df.withColumnRenamed(\n",
    "    \"dri\", \"dribbling\"\n",
    ")\n",
    "pre_processed_legacy_df = pre_processed_legacy_df.drop(col(\"defending\"))\n",
    "pre_processed_legacy_df = pre_processed_legacy_df.withColumnRenamed(\n",
    "    \"def\", \"defending\"\n",
    ")\n",
    "pre_processed_legacy_df = pre_processed_legacy_df.withColumnRenamed(\n",
    "    \"phy\", \"physic\"\n",
    ")\n",
    "\n",
    "pre_processed_legacy_df = pre_processed_legacy_df.withColumnRenamed(\n",
    "    \"sho\", \"shooting\"\n",
    ")\n",
    "pre_processed_legacy_df = pre_processed_legacy_df.withColumnRenamed(\n",
    "    \"pac\", \"pace\"\n",
    ")\n",
    "pre_processed_legacy_df = pre_processed_legacy_df.withColumnRenamed(\n",
    "    \"bov\", \"overall\"\n",
    ")\n",
    "\n",
    "# Keeping only the needed columns.\n",
    "pre_processed_modern_df = pre_processed_modern_df.select(columns)\n",
    "pre_processed_legacy_df = pre_processed_legacy_df.select(columns)"
   ]
  },
  {
   "cell_type": "markdown",
   "metadata": {},
   "source": [
    "Checking whether some monetary values have not been successfully converted."
   ]
  },
  {
   "cell_type": "code",
   "execution_count": 30,
   "metadata": {},
   "outputs": [
    {
     "name": "stderr",
     "output_type": "stream",
     "text": [
      "                                                                                \r"
     ]
    }
   ],
   "source": [
    "if pre_processed_legacy_df.select(\"value\").where(col(\"value\") == \"ERROR\").count() > 0:\n",
    "    print(\"WARN: some abbreviated monetary values were not correctly expanded.\")"
   ]
  },
  {
   "cell_type": "markdown",
   "metadata": {},
   "source": [
    "After pre-processing, both dataframes have the same set of columns, so they can be concatenated together."
   ]
  },
  {
   "cell_type": "code",
   "execution_count": 31,
   "metadata": {},
   "outputs": [],
   "source": [
    "pre_processed_df = pre_processed_modern_df.unionByName(\n",
    "    pre_processed_legacy_df\n",
    ")"
   ]
  },
  {
   "cell_type": "markdown",
   "metadata": {},
   "source": [
    "## Cleaning up memory"
   ]
  },
  {
   "cell_type": "code",
   "execution_count": 32,
   "metadata": {},
   "outputs": [
    {
     "data": {
      "text/plain": [
       "604"
      ]
     },
     "execution_count": 32,
     "metadata": {},
     "output_type": "execute_result"
    }
   ],
   "source": [
    "del legacy_df\n",
    "del modern_df\n",
    "del pre_processed_legacy_df\n",
    "del pre_processed_modern_df\n",
    "gc.collect()"
   ]
  },
  {
   "cell_type": "markdown",
   "metadata": {},
   "source": [
    "This is the end result of this section.\n",
    "\n",
    "For graphical reasons, only a selection of the columns will be shown, just to give an idea of the structure."
   ]
  },
  {
   "cell_type": "code",
   "execution_count": 33,
   "metadata": {},
   "outputs": [
    {
     "name": "stderr",
     "output_type": "stream",
     "text": [
      "[Stage 10:==================(7 + 0) / 7][Stage 11:===========>      (5 + 3) / 8]\r"
     ]
    },
    {
     "name": "stdout",
     "output_type": "stream",
     "text": [
      "+------------+--------------------+--------------------+------+----------------+----------+-------+--------+----+--------+\n",
      "|  short_name|           club_name|         league_name|season|player_positions|macro_role|overall|   value|pace|shooting|\n",
      "+------------+--------------------+--------------------+------+----------------+----------+-------+--------+----+--------+\n",
      "|   S. Padoin|            Juventus|     Italian Serie A|    14|          RM, CM|       2.0|     73| 2100000|  73|      64|\n",
      "|   S. Padoin|            Juventus|     Italian Serie A|    15|      LB, RM, CM|       1.0|     75| 2600000|  73|      63|\n",
      "| A. Aquilani|       UD Las Palmas|Spain Primera Div...|    17|         CM, CDM|       2.0|     75| 5000000|  54|      70|\n",
      "|     S. Pepe|            Juventus|     Italian Serie A|    14|          RM, LM|       2.0|     75| 2900000|  80|      72|\n",
      "|  F. Modesto|Sporting Club de ...|      French Ligue 1|    14|          CB, RB|       1.0|     72|  400000|  55|      51|\n",
      "|    A. Boruc|         Bournemouth|English Premier L...|    17|              GK|       0.0|     77|  600000|   0|       0|\n",
      "|      Aduriz|Athletic Club de ...|Spain Primera Div...|    15|              ST|       3.0|     82|10500000|  71|      83|\n",
      "|      Aduriz|Athletic Club de ...|Spain Primera Div...|    19|              ST|       3.0|     82| 6500000|  61|      82|\n",
      "|   G. Pegolo|            Sassuolo|     Italian Serie A|    16|              GK|       0.0|     72| 1200000|   0|       0|\n",
      "|M. Tacalfred|      Stade de Reims|      French Ligue 1|    14|              CB|       1.0|     71|  700000|  67|      38|\n",
      "|    J. Audel|           FC Nantes|      French Ligue 1|    15|      LM, RM, ST|       2.0|     71| 1300000|  73|      67|\n",
      "|    C. Maury|         GFC Ajaccio|      French Ligue 1|    15|              GK|       0.0|     68|  725000|   0|       0|\n",
      "|   T. Starke|   FC Bayern München|German 1. Bundesliga|    16|              GK|       0.0|     74| 2000000|   0|       0|\n",
      "|      Dorado|      Rayo Vallecano|Spain Primera Div...|    15|          CB, LB|       1.0|     75| 2400000|  54|      37|\n",
      "|        Duda|           Málaga CF|Spain Primera Div...|    16|         CAM, RM|       2.0|     72|  250000|  33|      74|\n",
      "|   Corominas|            Elche CF|Spain Primera Div...|    14| CAM, RM, LM, ST|       2.0|     75| 3100000|  77|      71|\n",
      "|        Moyá|       Real Sociedad|Spain Primera Div...|    18|              GK|       0.0|     80| 6000000|   0|       0|\n",
      "|     Garrido|       UD Las Palmas|Spain Primera Div...|    15|         LB, LWB|       1.0|     73| 2000000|  68|      58|\n",
      "|       Reyes|          Sevilla FC|Spain Primera Div...|    14|          RM, LM|       2.0|     77| 4500000|  72|      71|\n",
      "|  S. Riether|       FC Schalke 04|German 1. Bundesliga|    15|              RB|       1.0|     72| 1200000|  64|      54|\n",
      "+------------+--------------------+--------------------+------+----------------+----------+-------+--------+----+--------+\n",
      "only showing top 20 rows\n",
      "\n"
     ]
    },
    {
     "name": "stderr",
     "output_type": "stream",
     "text": [
      "                                                                                \r"
     ]
    }
   ],
   "source": [
    "pre_processed_df.select(*columns[0:10]).show()"
   ]
  },
  {
   "cell_type": "markdown",
   "metadata": {},
   "source": [
    "The complete list of columns is (again for graphical reasons) printed here in an horizontal format, where each item is a tuple of the form `(field_name, type)`."
   ]
  },
  {
   "cell_type": "code",
   "execution_count": 34,
   "metadata": {},
   "outputs": [
    {
     "name": "stdout",
     "output_type": "stream",
     "text": [
      "[('short_name', 'string'), ('club_name', 'string'), ('league_name', 'string'), ('season', 'string'), ('player_positions', 'string'), ('macro_role', 'string'), ('overall', 'int'), ('value', 'string'), ('pace', 'int'), ('shooting', 'int'), ('passing', 'int'), ('dribbling', 'int'), ('defending', 'int'), ('physic', 'int'), ('attacking_crossing', 'int'), ('attacking_finishing', 'int'), ('attacking_heading_accuracy', 'int'), ('attacking_short_passing', 'int'), ('skill_dribbling', 'int'), ('skill_fk_accuracy', 'int'), ('skill_long_passing', 'int'), ('skill_ball_control', 'int'), ('movement_acceleration', 'int'), ('movement_sprint_speed', 'int'), ('movement_reactions', 'int'), ('power_shot_power', 'int'), ('power_stamina', 'int'), ('power_strength', 'int'), ('power_long_shots', 'int'), ('mentality_aggression', 'int'), ('mentality_penalties', 'int'), ('defending_standing_tackle', 'int')]\n"
     ]
    }
   ],
   "source": [
    "print(pre_processed_df.dtypes)"
   ]
  },
  {
   "cell_type": "markdown",
   "metadata": {},
   "source": [
    "# Building football teams"
   ]
  },
  {
   "cell_type": "code",
   "execution_count": 35,
   "metadata": {},
   "outputs": [],
   "source": [
    "football_teams_df = pre_processed_df"
   ]
  },
  {
   "cell_type": "markdown",
   "metadata": {},
   "source": [
    "After having pre-processed the football players, it's time to build the football teams.\n",
    "\n",
    "For the sake of the learning stage of the project, **teams are differentiated across different seasons**; for example, Real Madrid of 2020 is **different** than Real Madrid of 2018.\n",
    "\n",
    "A football team is then modeled as **the set of the average of the features of all of its football players**."
   ]
  },
  {
   "cell_type": "code",
   "execution_count": 36,
   "metadata": {},
   "outputs": [],
   "source": [
    "# Columns that are considered as features\n",
    "PLAYER_FEATURES = [\n",
    "    \"overall\",\n",
    "    \"value\",\n",
    "    \"pace\",\n",
    "    \"shooting\",\n",
    "    \"passing\",\n",
    "    \"dribbling\",\n",
    "    \"defending\",\n",
    "    \"physic\",\n",
    "    \"attacking_crossing\",\n",
    "    \"attacking_finishing\",\n",
    "    \"attacking_heading_accuracy\",\n",
    "    \"attacking_short_passing\",\n",
    "    \"skill_dribbling\",\n",
    "    \"skill_fk_accuracy\",\n",
    "    \"skill_long_passing\",\n",
    "    \"skill_ball_control\",\n",
    "    \"movement_acceleration\",\n",
    "    \"movement_sprint_speed\",\n",
    "    \"movement_reactions\",\n",
    "    \"power_shot_power\",\n",
    "    \"power_stamina\",\n",
    "    \"power_strength\",\n",
    "    \"power_long_shots\",\n",
    "    \"mentality_aggression\",\n",
    "    \"mentality_penalties\",\n",
    "    \"defending_standing_tackle\"\n",
    "]\n",
    "\n",
    "# Apposing the avg pre-fix to features\n",
    "PLAYER_FEATURES_AVG = [\n",
    "    \"avg(\" + player_feature + \")\" for player_feature in PLAYER_FEATURES\n",
    "]\n",
    "\n",
    "# Target variable of the learning stage\n",
    "TARGET_VARIABLE = \"points\""
   ]
  },
  {
   "cell_type": "markdown",
   "metadata": {},
   "source": [
    "Composing the football team, as introduced before."
   ]
  },
  {
   "cell_type": "code",
   "execution_count": 37,
   "metadata": {},
   "outputs": [],
   "source": [
    "football_teams_df = football_teams_df.select(\n",
    "    \"season\", \"club_name\", *PLAYER_FEATURES\n",
    ").groupBy(\n",
    "    [\"season\", \"club_name\"]\n",
    ").agg(\n",
    "    { player_feature: \"avg\" for player_feature in PLAYER_FEATURES }\n",
    ")"
   ]
  },
  {
   "cell_type": "markdown",
   "metadata": {},
   "source": [
    "This is the end result of this section.\n",
    "\n",
    "For graphical reasons, only a selection of the columns will be shown, just to give an idea of the structure."
   ]
  },
  {
   "cell_type": "code",
   "execution_count": 38,
   "metadata": {},
   "outputs": [
    {
     "name": "stderr",
     "output_type": "stream",
     "text": [
      "[Stage 15:===============>  (6 + 1) / 7][Stage 16:====>             (2 + 6) / 8]\r"
     ]
    },
    {
     "name": "stdout",
     "output_type": "stream",
     "text": [
      "+------+--------------------+-----------------+--------------------+------------------+------------------+------------------+\n",
      "|season|           club_name|     avg(overall)|          avg(value)|         avg(pace)|     avg(shooting)|      avg(passing)|\n",
      "+------+--------------------+-----------------+--------------------+------------------+------------------+------------------+\n",
      "|    18|        ADO Den Haag|66.33333333333333|  1114166.6666666667|            56.625|46.583333333333336|51.041666666666664|\n",
      "|    16|       Chievo Verona|             71.3|  2411666.6666666665|              55.9|              48.7| 52.13333333333333|\n",
      "|    16|         Southampton|71.93939393939394|   5041060.606060606| 64.66666666666667| 51.09090909090909| 57.45454545454545|\n",
      "|    17|Athletic Club de ...|            75.75|   9794642.857142856|59.214285714285715| 53.42857142857143|59.964285714285715|\n",
      "|    15|   Manchester United|76.25925925925925|1.3582037037037037E7| 59.96296296296296|51.148148148148145|58.148148148148145|\n",
      "|    19|   Manchester United|76.84848484848484|1.5187121212121213E7| 67.03030303030303| 56.06060606060606| 62.63636363636363|\n",
      "|    19|          Hertha BSC|71.75757575757575|   5872575.757575758| 63.84848484848485|52.696969696969695|56.515151515151516|\n",
      "|    15|         Bournemouth|69.89655172413794|   2162758.620689655| 65.10344827586206| 48.58620689655172| 55.03448275862069|\n",
      "|    20|FC Girondins de B...| 70.6896551724138|  3988620.6896551726| 55.44827586206897| 48.10344827586207|52.827586206896555|\n",
      "|    15|             Watford|71.32142857142857|  2790178.5714285714|62.785714285714285|49.535714285714285|54.535714285714285|\n",
      "|    15|          1. FC Köln|71.79166666666667|  3654166.6666666665|62.666666666666664|            50.875|54.333333333333336|\n",
      "|    16|     West Ham United|72.54545454545455|   7179242.424242424| 66.93939393939394|54.515151515151516| 55.90909090909091|\n",
      "|    16|       SC Heerenveen|66.76666666666667|  1257333.3333333333|              59.4|              45.3|              50.9|\n",
      "|    18|    AS Saint-Étienne|70.11111111111111|   4653518.518518519| 63.51851851851852|52.111111111111114| 57.44444444444444|\n",
      "|    14|Sporting Club de ...|66.21212121212122|   996363.6363636364| 60.93939393939394| 50.54545454545455| 53.84848484848485|\n",
      "|    17|    Stade Rennais FC|69.15151515151516|   3382575.757575758| 61.36363636363637| 50.03030303030303|              54.0|\n",
      "|    17| Eintracht Frankfurt|72.33333333333333|   5289393.939393939| 64.27272727272727| 53.18181818181818|57.303030303030305|\n",
      "|    15|       VfB Stuttgart|70.79310344827586|  3495862.0689655175|62.206896551724135|50.275862068965516| 55.58620689655172|\n",
      "|    15|     Atlético Madrid|            76.92|            1.2458E7|             64.84|              53.6|             59.24|\n",
      "|    16|     Atlético Madrid|77.44827586206897|1.7008620689655174E7|61.793103448275865| 53.37931034482759| 58.41379310344828|\n",
      "+------+--------------------+-----------------+--------------------+------------------+------------------+------------------+\n",
      "only showing top 20 rows\n",
      "\n"
     ]
    },
    {
     "name": "stderr",
     "output_type": "stream",
     "text": [
      "                                                                                \r"
     ]
    }
   ],
   "source": [
    "football_teams_df.select(\n",
    "    \"season\", \"club_name\", *PLAYER_FEATURES_AVG[0:5]\n",
    ").show()"
   ]
  },
  {
   "cell_type": "markdown",
   "metadata": {},
   "source": [
    "The complete list of columns with their type is (in a compact horizontal form):"
   ]
  },
  {
   "cell_type": "code",
   "execution_count": 39,
   "metadata": {},
   "outputs": [
    {
     "name": "stdout",
     "output_type": "stream",
     "text": [
      "[('season', 'string'), ('club_name', 'string'), ('avg(attacking_short_passing)', 'double'), ('avg(shooting)', 'double'), ('avg(power_stamina)', 'double'), ('avg(skill_long_passing)', 'double'), ('avg(power_strength)', 'double'), ('avg(defending_standing_tackle)', 'double'), ('avg(skill_fk_accuracy)', 'double'), ('avg(skill_dribbling)', 'double'), ('avg(dribbling)', 'double'), ('avg(pace)', 'double'), ('avg(mentality_aggression)', 'double'), ('avg(movement_reactions)', 'double'), ('avg(movement_sprint_speed)', 'double'), ('avg(passing)', 'double'), ('avg(movement_acceleration)', 'double'), ('avg(attacking_heading_accuracy)', 'double'), ('avg(attacking_finishing)', 'double'), ('avg(defending)', 'double'), ('avg(attacking_crossing)', 'double'), ('avg(power_long_shots)', 'double'), ('avg(mentality_penalties)', 'double'), ('avg(overall)', 'double'), ('avg(power_shot_power)', 'double'), ('avg(value)', 'double'), ('avg(physic)', 'double'), ('avg(skill_ball_control)', 'double')]\n"
     ]
    }
   ],
   "source": [
    "print(football_teams_df.dtypes)"
   ]
  },
  {
   "cell_type": "markdown",
   "metadata": {},
   "source": [
    "# Loading football teams seasonal scores"
   ]
  },
  {
   "cell_type": "markdown",
   "metadata": {},
   "source": [
    "After having dealt with the football players and composed them into football clubs, it's time to get **\"target\" data** for the learning stage: the final ranking, for every team of every year.\n",
    "\n",
    "First step is to load the data from disk, which has been taken from the [European Football Dataset](https://www.kaggle.com/datasets/josephvm/european-club-football-dataset)"
   ]
  },
  {
   "cell_type": "code",
   "execution_count": 40,
   "metadata": {},
   "outputs": [],
   "source": [
    "seasonal_scores_df = (\n",
    "    spark.read.csv(\n",
    "        \"data/all_tables_fixed_renamed_leagues.csv\",\n",
    "        sep=\",\",\n",
    "        inferSchema=True,\n",
    "        header=True,\n",
    "        multiLine=True,\n",
    "    )\n",
    "    .withColumnRenamed(\"Year\", \"season\")\n",
    "    .withColumnRenamed(\"Team\", \"club_name\")\n",
    "    .withColumnRenamed(\"P\", \"points\")\n",
    "    .withColumnRenamed(\"Place\", \"place\")\n",
    "    .withColumnRenamed(\"League\", \"league\")\n",
    ")"
   ]
  },
  {
   "cell_type": "markdown",
   "metadata": {},
   "source": [
    "# Pre-processing football teams seasonal scores"
   ]
  },
  {
   "cell_type": "markdown",
   "metadata": {},
   "source": [
    "Out of all the available columns, only the ones in `seasonal_scores_columns` will be taken into consideration."
   ]
  },
  {
   "cell_type": "code",
   "execution_count": 41,
   "metadata": {},
   "outputs": [],
   "source": [
    "seasonal_scores_columns = [\n",
    "    \"season\", \"league\", \"club_name\", \"points\", \"place\"\n",
    "]"
   ]
  },
  {
   "cell_type": "markdown",
   "metadata": {},
   "source": [
    "The seasonal scores dataset uses **abbreviated version of football team names** (for example: `BAR` for Barcelona, `LEI` for Leicester, etc.), which would cause **incompatibility** with modern and legacy FIFA datasets, which instead uses complete names.\n",
    "\n",
    "Furthermore, the abbreviations are **not standard**, so there are **conflicts** such as, among others:\n",
    "\n",
    "* `BAR` both for Barcelona and Bari (different leagues).\n",
    "* `HUE` both for Huelva and Huesca (same league).\n",
    "\n",
    "For this reason, a **custom** hand-made **mapping** procedure has been developed in order to resolve such conflicts.\n",
    "\n",
    "Another source of incompatibility originated from **inconsistencies** within FIFA datasets, from year to year; for example, some teams had slight variations in their names (e.g. Torino and Torino FC).\n",
    "\n",
    "All said inconsistencies have been **manually solved** and disambiguated at the dataset-level.\n",
    "\n",
    "Furthermore, the final **mapping** between abbreviations and FIFA names resulted into a **custom-made dataset** (also available in the linked dataset GitHub repo), which is the following form:\n",
    "\n",
    "|abbr|league|club_name|fifa_club_name|\n",
    "|---|---|---|---|\n",
    "|AAC|German Bundesliga|Aachen|Alemannia Aachen|\n",
    "|ADO|Dutch Eredivisie|Ado Den Haag|ADO Den Haag|\n",
    "|AJA|Dutch Eredivisie|Ajax|Ajax|\n",
    "|AJC|French Ligue 1|Ajaccio|AC Ajaccio|\n",
    "|ALB|Spanish La Liga|Albacete|Albacete BP|\n",
    "|...|...|...|...|\n",
    "\n",
    "Aforementioned mapping is then converted to **JSON** with an utility script in the same repository, and loaded here in a dataframe."
   ]
  },
  {
   "cell_type": "code",
   "execution_count": 42,
   "metadata": {},
   "outputs": [],
   "source": [
    "f = open(\"data/clubs_map.json\")\n",
    "club_name_abbr_to_ext = json.load(f)\n",
    "f.close()\n",
    "\n",
    "ABBREVIATED_CLUB_NAME_NOT_FOUD = \"ABBREVIATED_CLUB_NAME_NOT_FOUD\"\n",
    "GENERAL_EXCEPTION = \"GENERAL_EXCEPTION\"\n",
    "\n",
    "def extend_club_name(club_name_abbr):\n",
    "    try:\n",
    "        return club_name_abbr_to_ext[club_name_abbr]\n",
    "    except KeyError as e:\n",
    "        return ABBREVIATED_CLUB_NAME_NOT_FOUD\n",
    "    except Exception as e:\n",
    "        return GENERAL_EXCEPTION\n",
    "\n",
    "extend_club_name_UDF = udf(\n",
    "    lambda club_name_abbr: extend_club_name(str(club_name_abbr)),\n",
    "    StringType(),\n",
    ")"
   ]
  },
  {
   "cell_type": "markdown",
   "metadata": {},
   "source": [
    "In the rankings dataset the seasons are expressed as `YYYY`, whilst FIFA uses the `YY` encoding.\n",
    "\n",
    "For this reason, to guarantee compatibility, season values in the rankings dataset is abbreviated."
   ]
  },
  {
   "cell_type": "code",
   "execution_count": 43,
   "metadata": {},
   "outputs": [],
   "source": [
    "abbreviate_season_UDF = udf(\n",
    "    lambda season: str(season)[-2:],\n",
    "    StringType(),\n",
    ")"
   ]
  },
  {
   "cell_type": "markdown",
   "metadata": {},
   "source": [
    "The following is the actual **data pre-processing**."
   ]
  },
  {
   "cell_type": "code",
   "execution_count": 44,
   "metadata": {},
   "outputs": [],
   "source": [
    "pre_processed_seasonal_scores_df = seasonal_scores_df\n",
    "\n",
    "# Abbreviating season, as per previous cell\n",
    "pre_processed_seasonal_scores_df = pre_processed_seasonal_scores_df.withColumn(\n",
    "    \"season\", abbreviate_season_UDF(col(\"season\"))\n",
    ")\n",
    "\n",
    "# Keeping only supported leagues in supported seasons\n",
    "pre_processed_seasonal_scores_df = pre_processed_seasonal_scores_df.where(\n",
    "    (pre_processed_seasonal_scores_df.season.isin(seasons))\n",
    "    & \n",
    "    (pre_processed_seasonal_scores_df.league.isin(leagues))\n",
    ")\n",
    "\n",
    "# Selecting only the desired columns\n",
    "pre_processed_seasonal_scores_df = pre_processed_seasonal_scores_df.select(\n",
    "    seasonal_scores_columns\n",
    ")\n",
    "\n",
    "# Although data has been checked for duplicates and missing value, to ensure \n",
    "# operabiloty with other datasets, the pre-processing steps are still performed\n",
    "pre_processed_seasonal_scores_df = pre_processed_seasonal_scores_df.dropDuplicates(\n",
    "    seasonal_scores_columns\n",
    ")\n",
    "pre_processed_seasonal_scores_df = pre_processed_seasonal_scores_df.na.fill(0)\n",
    "\n",
    "# Extending club names, as per previous cell\n",
    "pre_processed_seasonal_scores_df = pre_processed_seasonal_scores_df.withColumn(\n",
    "    \"club_name\", extend_club_name_UDF(col(\"club_name\"))\n",
    ")\n",
    "# Checking whether club name expansions went all good or not\n",
    "if pre_processed_seasonal_scores_df.filter(\n",
    "    col(\"club_name\") == ABBREVIATED_CLUB_NAME_NOT_FOUD\n",
    ").count() > 0:\n",
    "    print(\"WARN: some clubs have NOT been found\")\n",
    "    print(\"Please check your data\")\n",
    "\n",
    "# Casting points to float, as required by learning procedures\n",
    "pre_processed_seasonal_scores_df = pre_processed_seasonal_scores_df.withColumn(\n",
    "    \"points\", pre_processed_seasonal_scores_df.points.cast(DoubleType())\n",
    ")"
   ]
  },
  {
   "cell_type": "markdown",
   "metadata": {},
   "source": [
    "This is the end result of this section:"
   ]
  },
  {
   "cell_type": "code",
   "execution_count": 45,
   "metadata": {},
   "outputs": [
    {
     "name": "stdout",
     "output_type": "stream",
     "text": [
      "+------+--------------------+--------------------+------+-----+\n",
      "|season|              league|           club_name|points|place|\n",
      "+------+--------------------+--------------------+------+-----+\n",
      "|    18|English Premier L...|   Tottenham Hotspur|  71.0|    4|\n",
      "|    18|English Premier L...|   Manchester United|  66.0|    6|\n",
      "|    08|Spain Primera Div...|RC Recreativo de ...|  33.0|   20|\n",
      "|    16|Spain Primera Div...|            RC Celta|  45.0|   13|\n",
      "|    16|Spain Primera Div...|       UD Las Palmas|  39.0|   14|\n",
      "|    15|     Italian Serie A|               Carpi|  38.0|   18|\n",
      "|    12|  Holland Eredivisie|        FC Groningen|  43.0|    7|\n",
      "|    13|  Holland Eredivisie|           FC Twente|  63.0|    3|\n",
      "|    12|      French Ligue 1|      Stade de Reims|  43.0|   14|\n",
      "|    16|      French Ligue 1|Sporting Club de ...|  34.0|   20|\n",
      "|    16|English Premier L...|   Tottenham Hotspur|  86.0|    2|\n",
      "|    07|Spain Primera Div...|          Sevilla FC|  64.0|    5|\n",
      "|    18|Spain Primera Div...|      Rayo Vallecano|  32.0|   20|\n",
      "|    17|German 1. Bundesliga|         Hannover 96|  39.0|   13|\n",
      "|    19|German 1. Bundesliga|   Borussia Dortmund|  69.0|    2|\n",
      "|    19|  Holland Eredivisie|                Ajax|  56.0|    1|\n",
      "|    09|      French Ligue 1|  Olympique Lyonnais|  72.0|    2|\n",
      "|    10|      French Ligue 1|            OGC Nice|  46.0|   17|\n",
      "|    12|      French Ligue 1|Olympique de Mars...|  71.0|    2|\n",
      "|    20|      French Ligue 1|           FC Nantes|  40.0|   18|\n",
      "+------+--------------------+--------------------+------+-----+\n",
      "only showing top 20 rows\n",
      "\n"
     ]
    }
   ],
   "source": [
    "pre_processed_seasonal_scores_df.show()"
   ]
  },
  {
   "cell_type": "markdown",
   "metadata": {},
   "source": [
    "# Joining football teams features with their seasonal scores"
   ]
  },
  {
   "cell_type": "markdown",
   "metadata": {},
   "source": [
    "The two dataframes (players and seasonal scores) need to be merged together to form a single dataframe.\n",
    "This can easily be done by joining on the key (`season`, `club_name`)."
   ]
  },
  {
   "cell_type": "code",
   "execution_count": 46,
   "metadata": {},
   "outputs": [],
   "source": [
    "df = football_teams_df.join(\n",
    "    pre_processed_seasonal_scores_df,\n",
    "    on = [\"season\", \"club_name\"],\n",
    ")"
   ]
  },
  {
   "cell_type": "markdown",
   "metadata": {},
   "source": [
    "In order to check whether some clubs were left out by the aforementioned join operation, two differences are computed:\n",
    "\n",
    "* Seasonal scores dataframe - joined dataframe.\n",
    "* Football teams dataframe - joined dataframe."
   ]
  },
  {
   "cell_type": "code",
   "execution_count": 47,
   "metadata": {},
   "outputs": [
    {
     "name": "stderr",
     "output_type": "stream",
     "text": [
      "                                                                                \r"
     ]
    }
   ],
   "source": [
    "diff = pre_processed_seasonal_scores_df.select(\"club_name\").subtract(df.select(\"club_name\")).distinct()\n",
    "\n",
    "if diff.count() > 0:\n",
    "    print(\"WARN: Some football teams have been left out the join (pre_processed_seasonal_scores_df)\")\n",
    "    diff.show()\n",
    "\n",
    "diff = football_teams_df.select(\"club_name\").subtract(df.select(\"club_name\")).distinct()\n",
    "if diff.count() > 0:\n",
    "    print(\"WARN: Some football teams have been left out the join (football_teams_df)\")\n",
    "    diff.show()\n",
    "\n",
    "del diff"
   ]
  },
  {
   "cell_type": "markdown",
   "metadata": {},
   "source": [
    "This is the end result of this section.\n",
    "\n",
    "For graphical reasons, only a selection of the columns will be shown, just to give an idea of the structure."
   ]
  },
  {
   "cell_type": "code",
   "execution_count": 48,
   "metadata": {},
   "outputs": [
    {
     "name": "stdout",
     "output_type": "stream",
     "text": [
      "+------+--------------------+--------------------+-----------------+------------------+------+-----+\n",
      "|season|              league|           club_name|     avg(overall)|         avg(pace)|points|place|\n",
      "+------+--------------------+--------------------+-----------------+------------------+------+-----+\n",
      "|    18|  Holland Eredivisie|        ADO Den Haag|66.33333333333333|            56.625|  45.0|    9|\n",
      "|    16|     Italian Serie A|       Chievo Verona|             71.3|              55.9|  43.0|   14|\n",
      "|    16|English Premier L...|         Southampton|71.93939393939394| 64.66666666666667|  46.0|    8|\n",
      "|    17|Spain Primera Div...|Athletic Club de ...|            75.75|59.214285714285715|  43.0|   16|\n",
      "|    15|English Premier L...|   Manchester United|76.25925925925925| 59.96296296296296|  66.0|    5|\n",
      "|    19|English Premier L...|   Manchester United|76.84848484848484| 67.03030303030303|  66.0|    3|\n",
      "|    19|German 1. Bundesliga|          Hertha BSC|71.75757575757575| 63.84848484848485|  41.0|   10|\n",
      "|    15|English Premier L...|         Bournemouth|69.89655172413794| 65.10344827586206|  42.0|   16|\n",
      "|    20|      French Ligue 1|FC Girondins de B...| 70.6896551724138| 55.44827586206897|  45.0|   12|\n",
      "|    15|English Premier L...|             Watford|71.32142857142857|62.785714285714285|  45.0|   13|\n",
      "|    18|      French Ligue 1|    AS Saint-Étienne|70.11111111111111| 63.51851851851852|  66.0|    4|\n",
      "|    16|English Premier L...|     West Ham United|72.54545454545455| 66.93939393939394|  45.0|   11|\n",
      "|    15|German 1. Bundesliga|          1. FC Köln|71.79166666666667|62.666666666666664|  43.0|    9|\n",
      "|    16|  Holland Eredivisie|       SC Heerenveen|66.76666666666667|              59.4|  43.0|    9|\n",
      "|    14|      French Ligue 1|Sporting Club de ...|66.21212121212122| 60.93939393939394|  47.0|   12|\n",
      "|    15|Spain Primera Div...|     Atlético Madrid|            76.92|             64.84|  88.0|    3|\n",
      "|    17|      French Ligue 1|    Stade Rennais FC|69.15151515151516| 61.36363636363637|  58.0|    5|\n",
      "|    17|English Premier L...|        Swansea City|71.24242424242425| 58.06060606060606|  33.0|   18|\n",
      "|    17|German 1. Bundesliga| Eintracht Frankfurt|72.33333333333333| 64.27272727272727|  49.0|    8|\n",
      "|    15|German 1. Bundesliga|       VfB Stuttgart|70.79310344827586|62.206896551724135|  33.0|   17|\n",
      "+------+--------------------+--------------------+-----------------+------------------+------+-----+\n",
      "only showing top 20 rows\n",
      "\n"
     ]
    }
   ],
   "source": [
    "df.select(\n",
    "    \"season\", \"league\", \"club_name\", \"avg(overall)\", \"avg(pace)\", \"points\", \"place\"\n",
    ").show()"
   ]
  },
  {
   "cell_type": "markdown",
   "metadata": {},
   "source": [
    "The full list of columns with their type is (in a compact horizontal form):"
   ]
  },
  {
   "cell_type": "code",
   "execution_count": 49,
   "metadata": {},
   "outputs": [
    {
     "name": "stdout",
     "output_type": "stream",
     "text": [
      "[('season', 'string'), ('club_name', 'string'), ('avg(attacking_short_passing)', 'double'), ('avg(shooting)', 'double'), ('avg(power_stamina)', 'double'), ('avg(skill_long_passing)', 'double'), ('avg(power_strength)', 'double'), ('avg(defending_standing_tackle)', 'double'), ('avg(skill_fk_accuracy)', 'double'), ('avg(skill_dribbling)', 'double'), ('avg(dribbling)', 'double'), ('avg(pace)', 'double'), ('avg(mentality_aggression)', 'double'), ('avg(movement_reactions)', 'double'), ('avg(movement_sprint_speed)', 'double'), ('avg(passing)', 'double'), ('avg(movement_acceleration)', 'double'), ('avg(attacking_heading_accuracy)', 'double'), ('avg(attacking_finishing)', 'double'), ('avg(defending)', 'double'), ('avg(attacking_crossing)', 'double'), ('avg(power_long_shots)', 'double'), ('avg(mentality_penalties)', 'double'), ('avg(overall)', 'double'), ('avg(power_shot_power)', 'double'), ('avg(value)', 'double'), ('avg(physic)', 'double'), ('avg(skill_ball_control)', 'double'), ('league', 'string'), ('points', 'double'), ('place', 'int')]\n"
     ]
    }
   ],
   "source": [
    "print(df.dtypes)"
   ]
  },
  {
   "cell_type": "code",
   "execution_count": 50,
   "metadata": {},
   "outputs": [],
   "source": [
    "NUM_MACRO_PLACES = 5\n",
    "\n",
    "def get_macro_place(place, league, complex=False):\n",
    "    if league in [\"Dutch Eredivisie\", \"German Bundesliga\"]:\n",
    "        if 1 <= place <= 3:\n",
    "            return 0.0\n",
    "        if 4 <= place <= 6:\n",
    "            return 1.0\n",
    "        if 7 <= place <= 10:\n",
    "            return 2.0\n",
    "        if 11 <= place <= 15:\n",
    "            return 3.0\n",
    "        if 16 <= place <= 18:\n",
    "            return 4.0\n",
    "    else:\n",
    "        if 1 <= place <= 4:\n",
    "            return 0.0\n",
    "        if 5 <= place <= 8:\n",
    "            return 1.0\n",
    "        if 9 <= place <= 12:\n",
    "            return 2.0\n",
    "        if 13 <= place <= 16:\n",
    "            return 3.0\n",
    "        if 17 <= place <= 20:\n",
    "            return 4.0\n",
    "\n",
    "    return None\n",
    "    \n",
    "get_macro_place_UDF = udf(\n",
    "    lambda place, league, complex: get_macro_place(float(place), league, complex),\n",
    "    DoubleType(),\n",
    ")"
   ]
  },
  {
   "cell_type": "code",
   "execution_count": 51,
   "metadata": {},
   "outputs": [],
   "source": [
    "df = df.withColumn(\n",
    "    \"macro_place\", get_macro_place_UDF(col(\"place\"), col(\"league\"), lit(False))\n",
    ")"
   ]
  },
  {
   "cell_type": "markdown",
   "metadata": {},
   "source": [
    "## Cleaning up memory"
   ]
  },
  {
   "cell_type": "code",
   "execution_count": null,
   "metadata": {},
   "outputs": [],
   "source": [
    "del seasonal_scores_df\n",
    "del pre_processed_seasonal_scores_df\n",
    "del football_teams_df\n",
    "gc.collect()"
   ]
  },
  {
   "cell_type": "markdown",
   "metadata": {},
   "source": [
    "# Visualizations"
   ]
  },
  {
   "cell_type": "markdown",
   "metadata": {},
   "source": [
    "A good practice whenever a data-driven task is being taclked is to first visualize the data.\n",
    "\n",
    "In fact, even just by simply looking at data we may find some useful information which may have a direct impact on the subsequent learning phase."
   ]
  },
  {
   "cell_type": "markdown",
   "metadata": {},
   "source": [
    "## Points distribution\n",
    "\n",
    "Kicking the visualization stage off with data distirbutions for the end-of-season points, across all supported seasons, for all supported leagues.\n",
    "\n",
    "Data distribution is very important to monitor: exposing a model too many or too few time to a value may be source of bias, which we want to avoid."
   ]
  },
  {
   "cell_type": "code",
   "execution_count": null,
   "metadata": {},
   "outputs": [],
   "source": [
    "p = sns.displot(df.select(\"points\").toPandas(), kde=True)\n",
    "p.fig.tight_layout(pad=1.5)\n",
    "plt.title(\"Points distribution across all leagues\")"
   ]
  },
  {
   "cell_type": "markdown",
   "metadata": {},
   "source": [
    "Some observations can be done:\n",
    "\n",
    "1. Data tends to approximatively follow a Gaussian/Normal distribution\n",
    "2. Said distribution appears to be slighlty skewed towards left\n",
    "\n",
    "These observations perfectly coincide with domain knowledge.\n",
    "1. In every league, there are just a few very strong teams (Champions League qualifiers), a limited number of very bad teams (fighting for relegation) and then a multitude of middle-table teams\n",
    "2. Some leagues do not have much talent in the middle part of the table, resulting in a general \"equilibrium\" between such team.\n",
    "As a result, scores of such teams not be high, but rather close to the mean value. "
   ]
  },
  {
   "cell_type": "markdown",
   "metadata": {},
   "source": [
    "The following density plot instead focuses on each league, showing again the points distribution."
   ]
  },
  {
   "cell_type": "code",
   "execution_count": null,
   "metadata": {},
   "outputs": [],
   "source": [
    "p = sns.displot(df.toPandas(), x=\"points\", hue=\"league\", kind=\"kde\", aspect=1.7, palette=\"tab10\")\n",
    "p.fig.tight_layout(pad=1.5)\n",
    "plt.title(\"Points distribution per league\")"
   ]
  },
  {
   "cell_type": "markdown",
   "metadata": {},
   "source": [
    "Some observations can be made:\n",
    "\n",
    "* The **French** and **Spanish** leagues are the less skewed among all leagues, possibly meaning that they are characterized by a majority of \"average\" teams.\n",
    "* The **Italian** and **English** leagues are very similar on low and middle points, but start to behave slightly different on the middle-high and high parts of the table.\n",
    "* The **Dutch** league is the most left-skewed, possibly hinting at the lower quality of the league, as suggested by the domain knowledge.\n",
    "* The **Spanish** league has a boost on high points, hinting at a consistent dominancy of one or more teams."
   ]
  },
  {
   "cell_type": "markdown",
   "metadata": {},
   "source": [
    "## Overall player quality distribution\n",
    "\n",
    "Similar visualizations can be done to analyze the overall player quality.\n",
    "\n",
    "The following plot shows the distribution of the player quality (`avg(overall)`) across all leagues."
   ]
  },
  {
   "cell_type": "code",
   "execution_count": null,
   "metadata": {},
   "outputs": [],
   "source": [
    "p = sns.displot(df.select(\"avg(overall)\").toPandas(), kde=True)\n",
    "p.fig.tight_layout(pad=1.5)\n",
    "plt.title(\"Player quality across all leagues\")"
   ]
  },
  {
   "cell_type": "markdown",
   "metadata": {},
   "source": [
    "Similarily to what observed for the points, the plot shows that:\n",
    "\n",
    "* A vast majority of the players are of average quality.\n",
    "* A minority of the players are below-average.\n",
    "* A minority of the players are above-average.\n",
    "\n",
    "The following plot focuses on the single leagues."
   ]
  },
  {
   "cell_type": "code",
   "execution_count": null,
   "metadata": {},
   "outputs": [],
   "source": [
    "p = sns.displot(df.toPandas(), x=\"avg(overall)\", hue=\"league\", kind=\"kde\", aspect=1.7, palette=\"tab10\")\n",
    "p.fig.tight_layout(pad=1.5)\n",
    "plt.title(\"Player quality per league\")"
   ]
  },
  {
   "cell_type": "markdown",
   "metadata": {},
   "source": [
    "From the plot it is possible to observe that:\n",
    "\n",
    "* The Dutch league hosts the majority of below-average players.\n",
    "* The French league follows the Dutch one in below-average players.\n",
    "* The German league has the highest amount of average players.\n",
    "* The German, Engligh, Italian and Spanish leagues have a peak of average players.\n",
    "* The same leagues have a considerable amount of above-average players.\n",
    "* The Spanish leagues dominates on the above-average players."
   ]
  },
  {
   "cell_type": "markdown",
   "metadata": {},
   "source": [
    "# Attempt 1: \"naive\" player features\n",
    "\n",
    "The following section represents the first attempt at building a model able to predict the points of a team, considering the features of its players.\n",
    "\n",
    "This attempt has been renamed as \"naive\", meaning that it simply consist of an analysis based on **all the features** that are related to a **player's technical abilities**."
   ]
  },
  {
   "cell_type": "code",
   "execution_count": 52,
   "metadata": {},
   "outputs": [],
   "source": [
    "# remove columns that do not inherently represent players abilities\n",
    "ALL_FEATURES = PLAYER_FEATURES_AVG\n",
    "ALL_FEATURES.remove(\"avg(overall)\")\n",
    "ALL_FEATURES.remove(\"avg(value)\")\n"
   ]
  },
  {
   "cell_type": "markdown",
   "metadata": {},
   "source": [
    "The learning procedures require that the considered features are assembled in a vector.\n",
    "\n",
    "The following cell performs this operation by adding a new \"assembled\" column to the main dataframe."
   ]
  },
  {
   "cell_type": "code",
   "execution_count": 53,
   "metadata": {},
   "outputs": [],
   "source": [
    "from pyspark.ml.feature import VectorAssembler\n",
    "\n",
    "assembler = VectorAssembler(\n",
    "    inputCols=ALL_FEATURES, outputCol=\"all_vec\"\n",
    ")\n",
    "\n",
    "df = assembler.transform(df)"
   ]
  },
  {
   "cell_type": "markdown",
   "metadata": {},
   "source": [
    "It is convenient to define a some custom utility functions to plot multiple figures, that will be called multiple times along the course of the project.\n",
    "\n",
    "The following cells contain the definition of said functions."
   ]
  },
  {
   "cell_type": "markdown",
   "metadata": {},
   "source": [
    "Before learning, it is good practice to first gather in-depth information on the structure of the data, as well as obtaining useful visualizations.\n",
    "\n",
    "In the following sections, multiple approaches at data visualization will be given."
   ]
  },
  {
   "cell_type": "markdown",
   "metadata": {},
   "source": [
    "## Raw data"
   ]
  },
  {
   "cell_type": "markdown",
   "metadata": {},
   "source": [
    "In this section a first analysis is performed on _raw_ data, meaning that no normalization or standardization is performed."
   ]
  },
  {
   "cell_type": "code",
   "execution_count": null,
   "metadata": {},
   "outputs": [],
   "source": [
    "# color to be used in the plots for raw data\n",
    "COLOR_RAW = \"#332FD0\""
   ]
  },
  {
   "cell_type": "code",
   "execution_count": null,
   "metadata": {},
   "outputs": [],
   "source": [
    "# use Pandas for easy plotting with Seaborn\n",
    "pdf = df.toPandas()"
   ]
  },
  {
   "cell_type": "markdown",
   "metadata": {},
   "source": [
    "### Feature-target correlation"
   ]
  },
  {
   "cell_type": "markdown",
   "metadata": {},
   "source": [
    "The **feature-target correlation** shows the correlation between each feature and the target variable (point).\n",
    "\n",
    "The idea is to immediately visualize whether there are specific features that are particularly correlated with the target variable."
   ]
  },
  {
   "cell_type": "code",
   "execution_count": null,
   "metadata": {},
   "outputs": [],
   "source": [
    "plot_feature_target_relation(\n",
    "    pdf, ALL_FEATURES, TARGET_VARIABLE, color=COLOR_RAW\n",
    ")"
   ]
  },
  {
   "cell_type": "markdown",
   "metadata": {},
   "source": [
    "Since there are too many datapoints, it is very hard to look at the plots. Let's see how visualizations change when focusing on some leagues or years, thus restricting the data scope."
   ]
  },
  {
   "cell_type": "code",
   "execution_count": null,
   "metadata": {},
   "outputs": [],
   "source": [
    "plot_feature_target_relation(\n",
    "    pdf[pdf[\"season\"] == \"20\"], ALL_FEATURES, TARGET_VARIABLE, color=COLOR_RAW\n",
    ")"
   ]
  },
  {
   "cell_type": "markdown",
   "metadata": {},
   "source": [
    "It can be observed that:\n",
    "\n",
    "1. There is a general phenomenon of linear relation between each feature and the final points.\n",
    "2. There is a generalized high variance across all features.\n",
    "   1. E.g. taking the very last feature (`avg(defending_standing_tackle`), players with a value close to `50` result to a wide range of points.\n",
    "   2. On the contrary, in extreme values (close to `40` or `90`), the resulting variable have a narrower range."
   ]
  },
  {
   "cell_type": "markdown",
   "metadata": {},
   "source": [
    "### Feature distribution"
   ]
  },
  {
   "cell_type": "markdown",
   "metadata": {},
   "source": [
    "The following plot shows the distribution of the player features in the analyzed dataframe."
   ]
  },
  {
   "cell_type": "code",
   "execution_count": null,
   "metadata": {},
   "outputs": [],
   "source": [
    "plot_feature_distribution(pdf, ALL_FEATURES, color = COLOR_RAW)"
   ]
  },
  {
   "cell_type": "markdown",
   "metadata": {},
   "source": [
    "From the plot it is possible to observe that:\n",
    "\n",
    "1. Most features have a symmetrical distribution.\n",
    "2. Most features are centered around the middle.\n",
    "3. Some features are more skewed towards left, hinting that they may be more \"rare\".\n",
    "4. Some features don't properly follow a Gaussian distribution (`avg(pace)`, `avg(physic)`).\n",
    "\n",
    "Furthermore, observation `2` is linked to the observation `2.2` of the previous plot:\n",
    "\n",
    "* A lot of features have an average value.\n",
    "* Around the average values, there is high variance.\n",
    "\n",
    "Hence, most likely, the system will be exposed multiple times to this issue, affecting performances."
   ]
  },
  {
   "cell_type": "markdown",
   "metadata": {},
   "source": [
    "### Pearson Correlation Matrix"
   ]
  },
  {
   "cell_type": "markdown",
   "metadata": {},
   "source": [
    "The **Pearson's Correlation Matrix** is a graphical tool to show a numerical value indicating the correlation between each variable.\n",
    "\n",
    "It is employed in the project, to find whether some features are correlated to each other, which can either be a problem for Linear Regression, but not so much for Tree-based models, since they by design perform a feature selection step."
   ]
  },
  {
   "cell_type": "code",
   "execution_count": null,
   "metadata": {},
   "outputs": [],
   "source": [
    "plot_correlation_matrix(pdf, ALL_FEATURES)"
   ]
  },
  {
   "cell_type": "markdown",
   "metadata": {},
   "source": [
    "There are:\n",
    "\n",
    "* A lot of positive correlations (red).\n",
    "* Some negative correlations (teal).\n",
    "* Some feature are tendentially not correlated to others (white).\n",
    "\n",
    "Using some domain knowledge, it is possible to further comment some correlations, like (among others):\n",
    "\n",
    "* The more a defender is good, the more aggressive they are.\n",
    "* The more a defender is good, the more able to perform standing tackles they are.\n",
    "* The more a player has good physical strenght, the more fast (pace) they are."
   ]
  },
  {
   "cell_type": "markdown",
   "metadata": {},
   "source": [
    "## Standardization"
   ]
  },
  {
   "cell_type": "markdown",
   "metadata": {},
   "source": [
    "Since we have some features with skewed distributions, it is needed to standardize, to see whether it helps to center feature distribution."
   ]
  },
  {
   "cell_type": "code",
   "execution_count": null,
   "metadata": {},
   "outputs": [],
   "source": [
    "# standardized_df = df"
   ]
  },
  {
   "cell_type": "markdown",
   "metadata": {},
   "source": [
    "It is needed to define a scaler which takes feature from `all_vec` and places scaled versions in `all_vec_std`.\n",
    "\n",
    "The configuration is of a standard z-score normalization."
   ]
  },
  {
   "cell_type": "code",
   "execution_count": null,
   "metadata": {},
   "outputs": [],
   "source": [
    "from pyspark.ml.feature import StandardScaler\n",
    "\n",
    "scaler = StandardScaler(\n",
    "    inputCol=\"all_vec\", \n",
    "    outputCol=\"all_vec_std\", \n",
    "    withStd=True, \n",
    "    withMean=True\n",
    ")\n",
    "\n",
    "df = scaler.fit(df).transform(df)"
   ]
  },
  {
   "cell_type": "code",
   "execution_count": null,
   "metadata": {},
   "outputs": [],
   "source": [
    "COLOR_STD = \"#9254C8\"\n",
    "\n",
    "ALL_FEATURES_STD = [\n",
    "    player_feature + \"_std\" for player_feature in ALL_FEATURES\n",
    "]"
   ]
  },
  {
   "cell_type": "code",
   "execution_count": null,
   "metadata": {},
   "outputs": [],
   "source": [
    "pdf = df.toPandas()"
   ]
  },
  {
   "cell_type": "markdown",
   "metadata": {},
   "source": [
    "Since the scaler grouped all features in a single field (feature vector), but plotting requires using different fields (one per features), it is needed to define a function to extract each feature and place it in a separate column."
   ]
  },
  {
   "cell_type": "code",
   "execution_count": null,
   "metadata": {},
   "outputs": [],
   "source": [
    "def feature_vec_to_cols(pdf, vec, columns):\n",
    "    tmp = pdf.reindex(\n",
    "        columns=list(pdf.columns) + columns\n",
    "    )\n",
    "\n",
    "    tmp[columns] = tmp[\n",
    "        vec\n",
    "    ].transform(\n",
    "        {\n",
    "            columns[i]: operator.itemgetter(i) for i, p in enumerate(columns)\n",
    "        }\n",
    "    )\n",
    "    return tmp"
   ]
  },
  {
   "cell_type": "code",
   "execution_count": null,
   "metadata": {},
   "outputs": [],
   "source": [
    "pdf = feature_vec_to_cols(pdf, \"all_vec_std\", ALL_FEATURES_STD)"
   ]
  },
  {
   "cell_type": "markdown",
   "metadata": {},
   "source": [
    "It is possible to see the effects of the function by looking at the columns list."
   ]
  },
  {
   "cell_type": "code",
   "execution_count": null,
   "metadata": {},
   "outputs": [],
   "source": [
    "pdf.columns"
   ]
  },
  {
   "cell_type": "markdown",
   "metadata": {},
   "source": [
    "### Feature-target correlation"
   ]
  },
  {
   "cell_type": "markdown",
   "metadata": {},
   "source": [
    "As done in the _raw data_ section, a feature-target correlation analysis is performed."
   ]
  },
  {
   "cell_type": "code",
   "execution_count": null,
   "metadata": {},
   "outputs": [],
   "source": [
    "plot_feature_target_relation(\n",
    "    pdf, ALL_FEATURES_STD, TARGET_VARIABLE, color=COLOR_STD\n",
    ")"
   ]
  },
  {
   "cell_type": "markdown",
   "metadata": {},
   "source": [
    "Let's again zoom on a single season."
   ]
  },
  {
   "cell_type": "code",
   "execution_count": null,
   "metadata": {},
   "outputs": [],
   "source": [
    "plot_feature_target_relation(\n",
    "    pdf[pdf[\"season\"] == \"20\"], ALL_FEATURES_STD, TARGET_VARIABLE, color=COLOR_STD\n",
    ")"
   ]
  },
  {
   "cell_type": "markdown",
   "metadata": {},
   "source": [
    "Standardization does not improve the variance issue."
   ]
  },
  {
   "cell_type": "markdown",
   "metadata": {},
   "source": [
    "#### Feature distribution"
   ]
  },
  {
   "cell_type": "code",
   "execution_count": null,
   "metadata": {},
   "outputs": [],
   "source": [
    "plot_feature_distribution(\n",
    "    pdf, ALL_FEATURES_STD, color = COLOR_STD\n",
    ")"
   ]
  },
  {
   "cell_type": "markdown",
   "metadata": {},
   "source": [
    "Standardization did not change the feature distribution.\n",
    "\n",
    "It is not needed to plot the correlation matrix again, since it is not affected by a change of scale."
   ]
  },
  {
   "cell_type": "markdown",
   "metadata": {},
   "source": [
    "## Log transformation"
   ]
  },
  {
   "cell_type": "markdown",
   "metadata": {},
   "source": [
    "A further attempt consists of apply Logarithmic Transformation, still trying to combat skewness."
   ]
  },
  {
   "cell_type": "code",
   "execution_count": null,
   "metadata": {},
   "outputs": [],
   "source": [
    "COLOR_LOG = \"#E15FED\"\n",
    "ALL_FEATURES_LOG = [\n",
    "    player_feature + \"_log\" for player_feature in ALL_FEATURES\n",
    "]\n"
   ]
  },
  {
   "cell_type": "markdown",
   "metadata": {},
   "source": [
    "The following function translates a value to its $log_2$."
   ]
  },
  {
   "cell_type": "code",
   "execution_count": null,
   "metadata": {},
   "outputs": [],
   "source": [
    "to_log_UDF = udf(\n",
    "    lambda value: float(np.log2(value)), DoubleType()\n",
    ")"
   ]
  },
  {
   "cell_type": "code",
   "execution_count": null,
   "metadata": {},
   "outputs": [],
   "source": [
    "for feature, feature_log in zip(ALL_FEATURES, ALL_FEATURES_LOG):\n",
    "    df = df.withColumn(feature_log, to_log_UDF(col(feature)))\n",
    "\n",
    "df = df.withColumn(\"points_log\", to_log_UDF(col(\"points\")))"
   ]
  },
  {
   "cell_type": "code",
   "execution_count": null,
   "metadata": {},
   "outputs": [],
   "source": [
    "pdf = df.toPandas()"
   ]
  },
  {
   "cell_type": "markdown",
   "metadata": {},
   "source": [
    "### Feature-target correlation"
   ]
  },
  {
   "cell_type": "code",
   "execution_count": null,
   "metadata": {},
   "outputs": [],
   "source": [
    "plot_feature_target_relation(\n",
    "    pdf, ALL_FEATURES_LOG, \"points_log\", color=COLOR_LOG\n",
    ")"
   ]
  },
  {
   "cell_type": "markdown",
   "metadata": {},
   "source": [
    "Also Logarithmic transformation did not help with the variance problem.\n",
    "\n",
    "Let's again see a zommed version."
   ]
  },
  {
   "cell_type": "code",
   "execution_count": null,
   "metadata": {},
   "outputs": [],
   "source": [
    "plot_feature_target_relation(\n",
    "    pdf[pdf[\"season\"] == \"20\"], ALL_FEATURES_LOG, \"points_log\", color=COLOR_LOG\n",
    ")"
   ]
  },
  {
   "cell_type": "markdown",
   "metadata": {},
   "source": [
    "Logarithmic transformation did not help with variance."
   ]
  },
  {
   "cell_type": "markdown",
   "metadata": {},
   "source": [
    "### Feature distribution"
   ]
  },
  {
   "cell_type": "code",
   "execution_count": null,
   "metadata": {},
   "outputs": [],
   "source": [
    "plot_feature_distribution(pdf, ALL_FEATURES_LOG, color = COLOR_LOG)"
   ]
  },
  {
   "cell_type": "markdown",
   "metadata": {},
   "source": [
    "Logarithmic transformation slightly moved the skewdness of all features towards right, still not solving it; as a consequence, centered or right-skewed features are not slightly worsened."
   ]
  },
  {
   "cell_type": "markdown",
   "metadata": {},
   "source": [
    "## Min-max transformation"
   ]
  },
  {
   "cell_type": "code",
   "execution_count": null,
   "metadata": {},
   "outputs": [],
   "source": [
    "COLOR_MIN_MAX = \"#6EDCD9\"\n",
    "ALL_FEATURES_MIN_MAX = [\n",
    "    player_feature + \"_min_max\" for player_feature in ALL_FEATURES\n",
    "]\n"
   ]
  },
  {
   "cell_type": "code",
   "execution_count": null,
   "metadata": {},
   "outputs": [],
   "source": [
    "from pyspark.ml.feature import MinMaxScaler\n",
    "\n",
    "scaler = MinMaxScaler(\n",
    "    inputCol=\"all_vec\", \n",
    "    outputCol=\"all_vec_min_max\"\n",
    ")\n",
    "\n",
    "df = scaler.fit(df).transform(df)"
   ]
  },
  {
   "cell_type": "code",
   "execution_count": null,
   "metadata": {},
   "outputs": [],
   "source": [
    "pdf = df.toPandas()\n",
    "pdf = feature_vec_to_cols(pdf, vec=\"all_vec_min_max\", columns=ALL_FEATURES_MIN_MAX)"
   ]
  },
  {
   "cell_type": "markdown",
   "metadata": {},
   "source": [
    "### Feature-target relationship"
   ]
  },
  {
   "cell_type": "code",
   "execution_count": null,
   "metadata": {},
   "outputs": [],
   "source": [
    "plot_feature_target_relation(\n",
    "    pdf, ALL_FEATURES_MIN_MAX, TARGET_VARIABLE, color=COLOR_MIN_MAX\n",
    ")"
   ]
  },
  {
   "cell_type": "markdown",
   "metadata": {},
   "source": [
    "Zoomed view:"
   ]
  },
  {
   "cell_type": "code",
   "execution_count": null,
   "metadata": {},
   "outputs": [],
   "source": [
    "plot_feature_target_relation(\n",
    "    pdf[pdf[\"season\"] == \"20\"], ALL_FEATURES_MIN_MAX, TARGET_VARIABLE, color=COLOR_MIN_MAX\n",
    ")"
   ]
  },
  {
   "cell_type": "markdown",
   "metadata": {},
   "source": [
    "### Feature distribution"
   ]
  },
  {
   "cell_type": "code",
   "execution_count": null,
   "metadata": {},
   "outputs": [],
   "source": [
    "plot_feature_distribution(pdf, ALL_FEATURES_MIN_MAX, color=COLOR_MIN_MAX)"
   ]
  },
  {
   "cell_type": "markdown",
   "metadata": {},
   "source": [
    "The following GIF compares the previously plotted feature distributions.\n",
    "\n",
    "![GIF changes illustration](https://s8.gifyu.com/images/ezgif.com-gif-maker4847ef0cb3270edd.gif)"
   ]
  },
  {
   "cell_type": "markdown",
   "metadata": {},
   "source": [
    "Before learning, some further useful visualizations are given.\n",
    "\n",
    "**From now on, Min-Max transofrmed data will be used.**"
   ]
  },
  {
   "cell_type": "markdown",
   "metadata": {},
   "source": [
    "## PCA (on min-max normalized data)"
   ]
  },
  {
   "cell_type": "markdown",
   "metadata": {},
   "source": [
    "Actual PCA:"
   ]
  },
  {
   "cell_type": "code",
   "execution_count": null,
   "metadata": {},
   "outputs": [],
   "source": [
    "df, pca_model = perform_pca(\n",
    "    df=df,\n",
    "    num_components=PCA_NUM_COMPONENTS,\n",
    "    input_col=\"all_vec_min_max\",\n",
    "    output_col=\"all_vec_min_max_pcs\"\n",
    ")"
   ]
  },
  {
   "cell_type": "code",
   "execution_count": null,
   "metadata": {},
   "outputs": [],
   "source": [
    "plot_pca_explained_variance(\n",
    "    pca_model=pca_model\n",
    ")"
   ]
  },
  {
   "cell_type": "markdown",
   "metadata": {},
   "source": [
    "#### Visualization"
   ]
  },
  {
   "cell_type": "code",
   "execution_count": null,
   "metadata": {},
   "outputs": [],
   "source": [
    "pdf = df.toPandas()"
   ]
  },
  {
   "cell_type": "code",
   "execution_count": null,
   "metadata": {},
   "outputs": [],
   "source": []
  },
  {
   "cell_type": "code",
   "execution_count": null,
   "metadata": {},
   "outputs": [],
   "source": [
    "scatter_plot(\n",
    "    x=pdf.all_vec_min_max_pcs.map(lambda x: x[0]),\n",
    "    y=pdf.all_vec_min_max_pcs.map(lambda x: x[1]),\n",
    "    c=pdf.points,\n",
    "    x_label=\"Principal Component 0\",\n",
    "    y_label=\"Principal Component 1\",\n",
    ")  "
   ]
  },
  {
   "cell_type": "markdown",
   "metadata": {},
   "source": [
    "PCA result is quite underwhelming: teams with widely different end-of-the-season placement tend to be mixed-up.\n",
    "\n",
    "Notice that Principal Component Analysis is a linear model, so it is bounded to produce linear representations: usually, non-trivial problems present non-linear data.\n",
    "\n",
    "For this reason, adding some non-linearity may possibly lead to a better lower-dimensional embedding..."
   ]
  },
  {
   "cell_type": "code",
   "execution_count": null,
   "metadata": {},
   "outputs": [],
   "source": [
    "scatter_plot(\n",
    "    x=pdf.all_vec_min_max_pcs.map(lambda x: x[0]),\n",
    "    y=pdf.points,\n",
    "    x_label=\"Principal Component 0\",\n",
    "    y_label=\"Points\",\n",
    ")\n",
    "scatter_plot(\n",
    "    x=pdf.all_vec_min_max_pcs.map(lambda x: x[1]),\n",
    "    y=pdf.points,\n",
    "    x_label=\"Principal Component 1\",\n",
    "    y_label=\"Points\",\n",
    ")"
   ]
  },
  {
   "cell_type": "markdown",
   "metadata": {},
   "source": [
    "## t-SNE"
   ]
  },
  {
   "cell_type": "markdown",
   "metadata": {},
   "source": [
    "t-SNE is one of the most used tools, when assuming non-linearity in the data space.\n",
    "\n",
    "Implementation from SciKit Learn framework will be used, since PySpark does not provide any version of this tool.\n",
    "\n",
    "SciKit Learn works with NumPy structures, so the feature vector in PySpark DataFrame must be converted to a NDArray structure."
   ]
  },
  {
   "cell_type": "code",
   "execution_count": null,
   "metadata": {},
   "outputs": [],
   "source": [
    "all_vec_min_max_np = np.array(\n",
    "    list(\n",
    "        map(\n",
    "            lambda v: v[\"all_vec_min_max\"].toArray(), \n",
    "            df.select(\"all_vec_min_max\").collect()\n",
    "        )\n",
    "    )\n",
    ")\n",
    "\n",
    "points_np = np.array(\n",
    "    list(\n",
    "        map(\n",
    "            lambda v: v[\"points\"], \n",
    "            df.collect()\n",
    "        )\n",
    "    )\n",
    ").reshape(-1)"
   ]
  },
  {
   "cell_type": "markdown",
   "metadata": {},
   "source": [
    "Once data is ready, TNSE is called."
   ]
  },
  {
   "cell_type": "code",
   "execution_count": null,
   "metadata": {},
   "outputs": [],
   "source": [
    "from sklearn.manifold import TSNE\n",
    "\n",
    "tsne_embedding = TSNE(\n",
    "    n_components=2, learning_rate='auto', init='random', method=\"barnes_hut\"\n",
    ").fit_transform(all_vec_min_max_np)"
   ]
  },
  {
   "cell_type": "markdown",
   "metadata": {},
   "source": [
    "And, once the embedding space is populated, the result is plotted"
   ]
  },
  {
   "cell_type": "code",
   "execution_count": null,
   "metadata": {},
   "outputs": [],
   "source": [
    "scatter_plot(\n",
    "    x=tsne_embedding[:,0],\n",
    "    y=tsne_embedding[:,1],\n",
    "    c=points_np,\n",
    "    x_label=\"TSNE Embedding Dimension 0\",\n",
    "    y_label=\"TSNE Embedding Dimension 1\",\n",
    ")"
   ]
  },
  {
   "cell_type": "code",
   "execution_count": null,
   "metadata": {},
   "outputs": [],
   "source": [
    "scatter_plot(\n",
    "    x=tsne_embedding[:,0],\n",
    "    y=points_np,\n",
    "    x_label=\"TSNE Embedding Dimension 0\",\n",
    "    y_label=\"Points\",\n",
    ")\n",
    "scatter_plot(\n",
    "    x=tsne_embedding[:,1],\n",
    "    y=points_np,\n",
    "    x_label=\"TSNE Embedding Dimension 1\",\n",
    "    y_label=\"Points\",\n",
    ")"
   ]
  },
  {
   "cell_type": "markdown",
   "metadata": {},
   "source": [
    "Unfortunately, adding non-linearity does not seem to improve the situation.\n",
    "\n",
    "Not much progress has been made, w.r.t. PCA \n",
    "\n",
    "[TODO] comment on variance"
   ]
  },
  {
   "cell_type": "markdown",
   "metadata": {},
   "source": [
    "## Comments on visualizations\n",
    "\n",
    "Data seems to be:\n",
    "\n",
    "* Not linearly separable.\n",
    "* Suffering from high variance.\n",
    "* ..."
   ]
  },
  {
   "cell_type": "markdown",
   "metadata": {},
   "source": [
    "## Learning for attempt 1\n",
    "\n",
    "The problem has been treated in two different forms:\n",
    "\n",
    "* As **regression** on the **points**.\n",
    "* As **classification** on the table/ranking areas (macro places).\n",
    "\n",
    "In both cases, for all the different models will be used:\n",
    "\n",
    "* **K-Fold Cross Validation**, to perform validation tests on the model performances.\n",
    "* **Grid-search approach**, to perform hyperparameter tuning."
   ]
  },
  {
   "cell_type": "code",
   "execution_count": null,
   "metadata": {},
   "outputs": [],
   "source": [
    "train_df, test_df = df.randomSplit([0.9, 0.1], seed=random_seed)\n",
    "\n",
    "FEATURES_COL = \"all_vec_min_max\"\n"
   ]
  },
  {
   "cell_type": "markdown",
   "metadata": {},
   "source": [
    "### Regression"
   ]
  },
  {
   "cell_type": "code",
   "execution_count": null,
   "metadata": {},
   "outputs": [],
   "source": [
    "regression_evaluator_cv.setLabelCol(REGRESSION_LABEL_COL)"
   ]
  },
  {
   "cell_type": "markdown",
   "metadata": {},
   "source": [
    "#### Linear Regression"
   ]
  },
  {
   "cell_type": "code",
   "execution_count": null,
   "metadata": {},
   "outputs": [],
   "source": [
    "from pyspark.ml.regression import LinearRegression\n",
    "from pyspark.ml.regression import LinearRegressionModel\n",
    "\n",
    "PREDICTION_COL = \"attempt_1_regression_linear_regression_predictions\"\n",
    "\n",
    "if not model_exists(\n",
    "    TRAINED_MODELS_DIRS[\"Attempt 1\"][\"Regression\"][\"Linear Regression\"]\n",
    "):\n",
    "    print(\"Linear Regression model NOT found in disk, training...\")\n",
    "    regression_evaluator_cv.setPredictionCol(PREDICTION_COL)\n",
    "    \n",
    "    estimator = LinearRegression()\n",
    "\n",
    "    linear_regression_param_grid = (\n",
    "        ParamGridBuilder()\n",
    "        .addGrid(estimator.featuresCol, [FEATURES_COL])\n",
    "        .addGrid(estimator.labelCol, [REGRESSION_LABEL_COL])\n",
    "        .addGrid(estimator.predictionCol, [PREDICTION_COL])\n",
    "        .addGrid(estimator.regParam, [0.0, 0.001, 0.01, 0.1, 0.5, 1])\n",
    "        .addGrid(estimator.solver, [\"auto\", \"normal\"])\n",
    "        .addGrid(estimator.fitIntercept, [True, False])\n",
    "        .addGrid(estimator.elasticNetParam, [0.0, 0.5, 1.0])\n",
    "        .build()\n",
    "    )\n",
    "\n",
    "    cross_validated_models = learn_best_model(\n",
    "        estimator=estimator,\n",
    "        param_grid=linear_regression_param_grid,\n",
    "        evaluator_cv=regression_evaluator_cv\n",
    "    )\n",
    "else:\n",
    "    print(\"Linear Regression model found in disk, loading...\")\n",
    "    model = LinearRegressionModel.load(\n",
    "        TRAINED_MODELS_DIRS[\"Attempt 1\"][\"Regression\"][\"Linear Regression\"]\n",
    "    )"
   ]
  },
  {
   "cell_type": "code",
   "execution_count": null,
   "metadata": {},
   "outputs": [],
   "source": [
    "if not model_exists(\n",
    "    TRAINED_MODELS_DIRS[\"Attempt 1\"][\"Regression\"][\"Linear Regression\"]\n",
    "):\n",
    "    print(\"Evaluating Linear Regression model trained in previous cell...\")\n",
    "    evaluate_learning_models(\n",
    "        best_model=cross_validated_models.bestModel,\n",
    "        evaluators=get_evaluators(\n",
    "            cross_validated_models.bestModel, \n",
    "            label_col=REGRESSION_LABEL_COL, \n",
    "            prediction_col=PREDICTION_COL, \n",
    "            evaluation_metrics=REGRESSION_EVALUATION_METRICS\n",
    "        ),\n",
    "        save_training_result_path=\"./evaluation_results/attempt_1/regression/linear_regression.json\"\n",
    "    )\n",
    "else:\n",
    "    print(\"Printing evaluation loaded from disk...\")\n",
    "    print_model_evaluation(\n",
    "        model_evaluation_path=\"./evaluation_results/attempt_1/regression/linear_regression.json\"\n",
    "    )"
   ]
  },
  {
   "cell_type": "code",
   "execution_count": null,
   "metadata": {},
   "outputs": [],
   "source": [
    "if not model_exists(\n",
    "    TRAINED_MODELS_DIRS[\"Attempt 1\"][\"Regression\"][\"Linear Regression\"]\n",
    "):\n",
    "    print(\"Saving Linear Regression model on disk...\")\n",
    "    cross_validated_models.bestModel.save(\n",
    "        \"./trained_models/attempt_1/regression/linear_regression\"\n",
    "    )"
   ]
  },
  {
   "cell_type": "markdown",
   "metadata": {},
   "source": [
    "#### Prediction Tree"
   ]
  },
  {
   "cell_type": "code",
   "execution_count": null,
   "metadata": {},
   "outputs": [],
   "source": [
    "from pyspark.ml.regression import DecisionTreeRegressor\n",
    "from pyspark.ml.regression import DecisionTreeRegressionModel\n",
    "\n",
    "PREDICTION_COL = \"attempt_1_regression_decision_tree_predictions\"\n",
    "\n",
    "if not model_exists(\n",
    "    TRAINED_MODELS_DIRS[\"Attempt 1\"][\"Regression\"][\"Prediction Tree\"]\n",
    "):\n",
    "    print(\"Prediction Tree model NOT found in disk, training...\")\n",
    "    \n",
    "    regression_evaluator_cv.setPredictionCol(PREDICTION_COL)\n",
    "    \n",
    "    estimator = DecisionTreeRegressor()\n",
    "\n",
    "    param_grid = (\n",
    "        ParamGridBuilder()\n",
    "        .addGrid(estimator.featuresCol, [FEATURES_COL])\n",
    "        .addGrid(estimator.labelCol, [REGRESSION_LABEL_COL])\n",
    "        .addGrid(estimator.predictionCol, [PREDICTION_COL])\n",
    "        .addGrid(estimator.maxDepth, [5, 24])\n",
    "        .addGrid(estimator.maxBins, [16, 32, 64])\n",
    "        .addGrid(estimator.minInfoGain, [0, 0.1])\n",
    "        .build()\n",
    "    )\n",
    "\n",
    "    cross_validated_models = learn_best_model(\n",
    "        estimator=estimator,\n",
    "        param_grid=param_grid,\n",
    "        evaluator_cv=regression_evaluator_cv\n",
    "    )\n",
    "else:\n",
    "    print(\"Regression Decision Tree model found in disk, loading...\")\n",
    "    model = DecisionTreeRegressionModel.load(\n",
    "        TRAINED_MODELS_DIRS[\"Attempt 1\"][\"Regression\"][\"Prediction Tree\"]\n",
    "    )"
   ]
  },
  {
   "cell_type": "code",
   "execution_count": null,
   "metadata": {},
   "outputs": [],
   "source": [
    "if not model_exists(\n",
    "    TRAINED_MODELS_DIRS[\"Attempt 1\"][\"Regression\"][\"Prediction Tree\"]\n",
    "):\n",
    "    print(\n",
    "        \"Evaluating Prediction Tree model trained in previous cell...\"\n",
    "    )\n",
    "    evaluate_learning_models(\n",
    "        best_model=cross_validated_models.bestModel,\n",
    "        evaluators=get_evaluators(\n",
    "            cross_validated_models.bestModel, \n",
    "            label_col=REGRESSION_LABEL_COL, \n",
    "            prediction_col=PREDICTION_COL, \n",
    "            evaluation_metrics=REGRESSION_EVALUATION_METRICS\n",
    "        ),\n",
    "        save_training_result_path=\"./evaluation_results/attempt_1/regression/prediction_tree.json\"\n",
    "    )\n",
    "else:\n",
    "    print(\"Printing evaluation loaded from disk...\")\n",
    "    print_model_evaluation(\n",
    "        model_evaluation_path=\"./evaluation_results/attempt_1/regression/prediction_tree.json\"\n",
    "    )"
   ]
  },
  {
   "cell_type": "code",
   "execution_count": null,
   "metadata": {},
   "outputs": [],
   "source": [
    "if not model_exists(\n",
    "    TRAINED_MODELS_DIRS[\"Attempt 1\"][\"Regression\"][\"Prediction Tree\"]\n",
    "):\n",
    "    print(\"Saving Decision Tree Regressor model on disk...\")\n",
    "    cross_validated_models.bestModel.save(\n",
    "        \"./trained_models/attempt_1/regression/prediction_tree\"\n",
    "    )"
   ]
  },
  {
   "cell_type": "markdown",
   "metadata": {},
   "source": [
    "#### Gradient Boosted Tree Regression"
   ]
  },
  {
   "cell_type": "code",
   "execution_count": null,
   "metadata": {},
   "outputs": [],
   "source": [
    "from pyspark.ml.regression import GBTRegressor\n",
    "from pyspark.ml.regression import GBTRegressionModel\n",
    "\n",
    "PREDICTION_COL = \"attempt_1_regression_gradient_boosted_tree_predictions\"\n",
    "\n",
    "if not model_exists(\n",
    "    TRAINED_MODELS_DIRS[\"Attempt 1\"][\"Regression\"][\"Gradient Boosted Tree\"]\n",
    "):\n",
    "    print(\"Regression Gradient Boosted Tree model NOT found in disk, training...\")\n",
    "    \n",
    "    regression_evaluator_cv.setPredictionCol(PREDICTION_COL)\n",
    "    \n",
    "    estimator = GBTRegressor()\n",
    "\n",
    "    param_grid = (\n",
    "        ParamGridBuilder()\n",
    "        .addGrid(estimator.featuresCol, [FEATURES_COL])\n",
    "        .addGrid(estimator.labelCol, [REGRESSION_LABEL_COL])\n",
    "        .addGrid(estimator.predictionCol, [PREDICTION_COL])\n",
    "        .addGrid(estimator.maxDepth, [2, 5, 10])\n",
    "        .addGrid(estimator.maxBins, [16, 32, 64])\n",
    "        .addGrid(estimator.minInfoGain, [0, 0.1])\n",
    "        .addGrid(estimator.subsamplingRate, [0.5, 1])\n",
    "        .addGrid(estimator.lossType, [\"squared\", \"absolute\"])\n",
    "        .build()\n",
    "    )\n",
    "\n",
    "    cross_validated_models = learn_best_model(\n",
    "        estimator=estimator,\n",
    "        param_grid=param_grid,\n",
    "        evaluator_cv=regression_evaluator_cv\n",
    "    )\n",
    "else:\n",
    "    print(\"Regression Gradient Boosted Tree model found in disk, loading...\")\n",
    "    model = GBTRegressionModel.load(\n",
    "        TRAINED_MODELS_DIRS[\"Attempt 1\"][\"Regression\"][\"Gradient Boosted Tree\"]\n",
    "    )"
   ]
  },
  {
   "cell_type": "code",
   "execution_count": null,
   "metadata": {},
   "outputs": [],
   "source": [
    "if not model_exists(\n",
    "    TRAINED_MODELS_DIRS[\"Attempt 1\"][\"Regression\"][\"Gradient Boosted Tree\"]\n",
    "):\n",
    "    print(\n",
    "        \"Evaluating Gradient Boosted Tree model trained in previous cell...\"\n",
    "    )\n",
    "    evaluate_learning_models(\n",
    "        best_model=cross_validated_models.bestModel,\n",
    "        evaluators=get_evaluators(\n",
    "            cross_validated_models.bestModel, \n",
    "            label_col=REGRESSION_LABEL_COL, \n",
    "            prediction_col=PREDICTION_COL, \n",
    "            evaluation_metrics=REGRESSION_EVALUATION_METRICS\n",
    "        ),\n",
    "        save_training_result_path=\"./evaluation_results/attempt_1/regression/gradient_boosted_tree.json\"\n",
    "    )\n",
    "else:\n",
    "    print(\"Printing evaluation loaded from disk...\")\n",
    "    print_model_evaluation(\n",
    "        model_evaluation_path=\"./evaluation_results/attempt_1/regression/gradient_boosted_tree.json\"\n",
    "    )"
   ]
  },
  {
   "cell_type": "code",
   "execution_count": null,
   "metadata": {},
   "outputs": [],
   "source": [
    "if not model_exists(\n",
    "    TRAINED_MODELS_DIRS[\"Attempt 1\"][\"Regression\"][\"Gradient Boosted Tree\"]\n",
    "):\n",
    "    print(\"Saving Gradient Boosted Tree Regression model on disk...\")\n",
    "    cross_validated_models.bestModel.save(\n",
    "        \"./trained_models/attempt_1/regression/gradient_boosted_tree\"\n",
    "    )"
   ]
  },
  {
   "cell_type": "markdown",
   "metadata": {},
   "source": [
    "#### Random Forest Regression"
   ]
  },
  {
   "cell_type": "code",
   "execution_count": null,
   "metadata": {},
   "outputs": [],
   "source": [
    "from pyspark.ml.regression import RandomForestRegressor\n",
    "from pyspark.ml.regression import RandomForestRegressionModel\n",
    "\n",
    "PREDICTION_COL = \"attempt_1_regression_random_forest_predictions\"\n",
    "\n",
    "if not model_exists(\n",
    "    TRAINED_MODELS_DIRS[\"Attempt 1\"][\"Regression\"][\"Random Forest\"]\n",
    "):\n",
    "    print(\"Regression Random Forest model NOT found in disk, training...\")\n",
    "    \n",
    "    regression_evaluator_cv.setPredictionCol(PREDICTION_COL)\n",
    "    \n",
    "    estimator = RandomForestRegressor()\n",
    "\n",
    "    param_grid = (\n",
    "        ParamGridBuilder()\n",
    "        .addGrid(estimator.featuresCol, [FEATURES_COL])\n",
    "        .addGrid(estimator.labelCol, [REGRESSION_LABEL_COL])\n",
    "        .addGrid(estimator.predictionCol, [PREDICTION_COL])\n",
    "        .addGrid(estimator.maxDepth, [5, 24])\n",
    "        .addGrid(estimator.maxBins, [32, 64])\n",
    "        .addGrid(estimator.minInfoGain, [0, 0.1])\n",
    "        .addGrid(estimator.subsamplingRate, [0.5, 1])\n",
    "        .addGrid(estimator.lossType, [\"squared\", \"absolute\"])\n",
    "        .addGrid(estimator.numTrees, [20, 40])\n",
    "        .addGrid(\n",
    "            estimator.featureSubsetStrategy, \n",
    "            [\"auto\", \"onethird\", \"all\", \"log2\"]\n",
    "        )\n",
    "        .build()\n",
    "    )\n",
    "\n",
    "    cross_validated_models = learn_best_model(\n",
    "        estimator=estimator,\n",
    "        param_grid=param_grid,\n",
    "        evaluator_cv=regression_evaluator_cv\n",
    "    )\n",
    "else:\n",
    "    print(\"Regression Random Forest model found in disk, loading...\")\n",
    "    model = RandomForestRegressionModel.load(\n",
    "        TRAINED_MODELS_DIRS[\"Attempt 1\"][\"Regression\"][\"Random Forest\"]\n",
    "    )"
   ]
  },
  {
   "cell_type": "code",
   "execution_count": null,
   "metadata": {},
   "outputs": [],
   "source": [
    "if not model_exists(\n",
    "    TRAINED_MODELS_DIRS[\"Attempt 1\"][\"Regression\"][\"Random Forest\"]\n",
    "):\n",
    "    print(\n",
    "        \"Evaluating Random Forest model trained in previous cell...\"\n",
    "    )\n",
    "    evaluate_learning_models(\n",
    "        best_model=cross_validated_models.bestModel,\n",
    "        evaluators=get_evaluators(\n",
    "            cross_validated_models.bestModel, \n",
    "            label_col=REGRESSION_LABEL_COL, \n",
    "            prediction_col=PREDICTION_COL, \n",
    "            evaluation_metrics=REGRESSION_EVALUATION_METRICS\n",
    "        ),\n",
    "        save_training_result_path=\"./evaluation_results/attempt_1/regression/random_forest.json\"\n",
    "    )\n",
    "else:\n",
    "    print(\"Printing evaluation loaded from disk...\")\n",
    "    print_model_evaluation(\n",
    "        model_evaluation_path=\"./evaluation_results/attempt_1/regression/random_forest.json\"\n",
    "    )"
   ]
  },
  {
   "cell_type": "code",
   "execution_count": null,
   "metadata": {},
   "outputs": [],
   "source": [
    "if not model_exists(\n",
    "    TRAINED_MODELS_DIRS[\"Attempt 1\"][\"Regression\"][\"Random Forest\"]\n",
    "):\n",
    "    print(\"Saving Random Forest Regression model on disk...\")\n",
    "    cross_validated_models.bestModel.save(\n",
    "        \"./trained_models/attempt_1/regression/random_forest\"\n",
    "    )"
   ]
  },
  {
   "cell_type": "markdown",
   "metadata": {},
   "source": [
    "### Classification"
   ]
  },
  {
   "cell_type": "code",
   "execution_count": null,
   "metadata": {},
   "outputs": [],
   "source": [
    "classification_evaluator_cv.setLabelCol(CLASSIFICATION_LABEL_COL)"
   ]
  },
  {
   "cell_type": "code",
   "execution_count": null,
   "metadata": {},
   "outputs": [],
   "source": [
    "train_df, test_df = df.randomSplit([0.9, 0.1], seed=random_seed)"
   ]
  },
  {
   "cell_type": "markdown",
   "metadata": {},
   "source": [
    "#### Visualizations"
   ]
  },
  {
   "cell_type": "code",
   "execution_count": null,
   "metadata": {},
   "outputs": [],
   "source": [
    "plot_feature_distribution(\n",
    "    df.toPandas(), \n",
    "    CLASSIFICATION_LABEL_COL,\n",
    "    color=\"teal\",\n",
    "    n_cols=2,\n",
    "    figsize=(8,4)\n",
    ")"
   ]
  },
  {
   "cell_type": "markdown",
   "metadata": {},
   "source": [
    "In what follows comments:\n",
    "\n",
    "* **Naive approach**: sligh imbalancement against the low partition of the table.\n",
    "* **Compelx approach**: imbalancement in favor of the mid-table teams, confirming of course the visualizations in the beginning of the notebook."
   ]
  },
  {
   "cell_type": "markdown",
   "metadata": {},
   "source": [
    "#### SVM Classifier"
   ]
  },
  {
   "cell_type": "code",
   "execution_count": null,
   "metadata": {},
   "outputs": [],
   "source": [
    "from pyspark.ml.classification import OneVsRest\n",
    "from pyspark.ml.classification import OneVsRestModel\n",
    "from pyspark.ml.classification import LinearSVC\n",
    "\n",
    "PREDICTION_COL = \"attempt_1_classification_svm_predictions\"\n",
    "\n",
    "if not model_exists(\n",
    "    TRAINED_MODELS_DIRS[\"Attempt 1\"][\"Classification\"][\"SVM\"]\n",
    "):\n",
    "    print(\"SVM Classification model NOT found in disk, training...\")\n",
    "    classification_evaluator_cv.setPredictionCol(PREDICTION_COL)\n",
    "    \n",
    "    estimator = OneVsRest(\n",
    "        classifier=LinearSVC(\n",
    "            featuresCol=FEATURES_COL,\n",
    "            labelCol=CLASSIFICATION_LABEL_COL,\n",
    "            predictionCol=PREDICTION_COL,\n",
    "        ),\n",
    "        featuresCol=FEATURES_COL,\n",
    "        labelCol=CLASSIFICATION_LABEL_COL,\n",
    "        predictionCol=PREDICTION_COL\n",
    "    )\n",
    "\n",
    "    param_grid = (\n",
    "        ParamGridBuilder()\n",
    "        .addGrid(estimator.featuresCol, [FEATURES_COL])\n",
    "        .addGrid(estimator.labelCol, [CLASSIFICATION_LABEL_COL])\n",
    "        .addGrid(estimator.predictionCol, [PREDICTION_COL])\n",
    "        .build()\n",
    "    )\n",
    "\n",
    "    cross_validated_models = learn_best_model(\n",
    "        estimator=estimator,\n",
    "        param_grid=param_grid,\n",
    "        evaluator_cv=classification_evaluator_cv\n",
    "    )\n",
    "else:\n",
    "    print(\"SVM Classification model found in disk, loading...\")\n",
    "    model = OneVsRestModel.load(\n",
    "        TRAINED_MODELS_DIRS[\"Attempt 1\"][\"Classification\"][\"SVM\"]\n",
    "    )\n"
   ]
  },
  {
   "cell_type": "code",
   "execution_count": null,
   "metadata": {},
   "outputs": [],
   "source": [
    "if not model_exists(\n",
    "    TRAINED_MODELS_DIRS[\"Attempt 1\"][\"Classification\"][\"SVM\"]\n",
    "):\n",
    "    print(\n",
    "        \"Evaluating SVM Classifier model trained in previous cell...\"\n",
    "    )\n",
    "    evaluate_learning_models(\n",
    "        best_model=cross_validated_models.bestModel,\n",
    "        evaluators=get_evaluators(\n",
    "            cross_validated_models.bestModel, \n",
    "            label_col=CLASSIFICATION_LABEL_COL, \n",
    "            prediction_col=PREDICTION_COL, \n",
    "            evaluation_metrics=CLASSIFICATION_EVALUATION_METRICS\n",
    "        ),\n",
    "        save_training_result_path=\"./evaluation_results/attempt_1/classification/svm.json\"\n",
    "    )\n",
    "else:\n",
    "    print(\"Printing evaluation loaded from disk...\")\n",
    "    print_model_evaluation(\n",
    "        model_evaluation_path=\"./evaluation_results/attempt_1/classification/svm.json\"\n",
    "    )"
   ]
  },
  {
   "cell_type": "code",
   "execution_count": null,
   "metadata": {},
   "outputs": [],
   "source": [
    "if not model_exists(\n",
    "    TRAINED_MODELS_DIRS[\"Attempt 1\"][\"Classification\"][\"SVM\"]\n",
    "):\n",
    "    print(\"Saving SVM Classification model on disk...\")\n",
    "    cross_validated_models.bestModel.save(\n",
    "        \"./trained_models/attempt_1/classification/svm\"\n",
    "    )"
   ]
  },
  {
   "cell_type": "markdown",
   "metadata": {},
   "source": [
    "#### Logistic Regression"
   ]
  },
  {
   "cell_type": "code",
   "execution_count": null,
   "metadata": {},
   "outputs": [],
   "source": [
    "from pyspark.ml.classification import OneVsRest\n",
    "from pyspark.ml.classification import OneVsRestModel\n",
    "from pyspark.ml.classification import LogisticRegression\n",
    "\n",
    "PREDICTION_COL = \"attempt_1_classification_logistic_regression_predictions\"\n",
    "\n",
    "if not model_exists(\n",
    "    TRAINED_MODELS_DIRS[\"Attempt 1\"][\"Classification\"][\"Logistic Regression\"]\n",
    "):\n",
    "    print(\"Logistic Regression Classification model NOT found in disk, training...\")\n",
    "    classification_evaluator_cv.setPredictionCol(PREDICTION_COL)\n",
    "    \n",
    "    estimator = OneVsRest(\n",
    "        classifier=LogisticRegression(\n",
    "            featuresCol=FEATURES_COL,\n",
    "            labelCol=CLASSIFICATION_LABEL_COL,\n",
    "            predictionCol=PREDICTION_COL,\n",
    "        ),\n",
    "        featuresCol=FEATURES_COL,\n",
    "        labelCol=CLASSIFICATION_LABEL_COL,\n",
    "        predictionCol=PREDICTION_COL\n",
    "    )\n",
    "\n",
    "    param_grid = (\n",
    "        ParamGridBuilder()\n",
    "        .addGrid(estimator.featuresCol, [FEATURES_COL])\n",
    "        .addGrid(estimator.labelCol, [CLASSIFICATION_LABEL_COL])\n",
    "        .addGrid(estimator.predictionCol, [PREDICTION_COL])\n",
    "        .build()\n",
    "    )\n",
    "\n",
    "    cross_validated_models = learn_best_model(\n",
    "        estimator=estimator,\n",
    "        param_grid=param_grid,\n",
    "        evaluator_cv=classification_evaluator_cv\n",
    "    )\n",
    "else:\n",
    "    print(\"Logistic Regression Classification model found in disk, loading...\")\n",
    "    model = OneVsRestModel.load(\n",
    "        TRAINED_MODELS_DIRS[\"Attempt 1\"][\"Classification\"][\"Logistic Regression\"]\n",
    "    )\n"
   ]
  },
  {
   "cell_type": "code",
   "execution_count": null,
   "metadata": {},
   "outputs": [],
   "source": [
    "if not model_exists(\n",
    "    TRAINED_MODELS_DIRS[\"Attempt 1\"][\"Classification\"][\"Logistic Regression\"]\n",
    "):\n",
    "    print(\n",
    "        \"Evaluating Logistic Regression Classifier model trained in previous cell...\"\n",
    "    )\n",
    "    evaluate_learning_models(\n",
    "        best_model=cross_validated_models.bestModel,\n",
    "        evaluators=get_evaluators(\n",
    "            cross_validated_models.bestModel, \n",
    "            label_col=CLASSIFICATION_LABEL_COL, \n",
    "            prediction_col=PREDICTION_COL, \n",
    "            evaluation_metrics=CLASSIFICATION_EVALUATION_METRICS\n",
    "        ),\n",
    "        save_training_result_path=\"./evaluation_results/attempt_1/classification/logistic_regression.json\"\n",
    "    )\n",
    "else:\n",
    "    print(\"Printing evaluation loaded from disk...\")\n",
    "    print_model_evaluation(\n",
    "        model_evaluation_path=\"./evaluation_results/attempt_1/classification/logistic_regression.json\"\n",
    "    )"
   ]
  },
  {
   "cell_type": "code",
   "execution_count": null,
   "metadata": {},
   "outputs": [],
   "source": [
    "if not model_exists(\n",
    "    TRAINED_MODELS_DIRS[\"Attempt 1\"][\"Classification\"][\"Logistic Regression\"]\n",
    "):\n",
    "    print(\"Saving Logistic Regression Classification model on disk...\")\n",
    "    cross_validated_models.bestModel.save(\n",
    "        \"./trained_models/attempt_1/classification/logistic_regression\"\n",
    "    )"
   ]
  },
  {
   "cell_type": "markdown",
   "metadata": {},
   "source": [
    "#### Decision Tree"
   ]
  },
  {
   "cell_type": "code",
   "execution_count": null,
   "metadata": {},
   "outputs": [],
   "source": [
    "from pyspark.ml.classification import DecisionTreeClassifier\n",
    "from pyspark.ml.classification import DecisionTreeClassificationModel\n",
    "\n",
    "PREDICTION_COL = \"attempt_1_classification_decision_tree_predictions\"\n",
    "\n",
    "if not model_exists(\n",
    "    TRAINED_MODELS_DIRS[\"Attempt 1\"][\"Classification\"][\"Decision Tree\"]\n",
    "):\n",
    "    print(\"Classification Decision Tree model NOT found in disk, training...\")\n",
    "    classification_evaluator_cv.setPredictionCol(PREDICTION_COL)\n",
    "    \n",
    "    estimator = DecisionTreeClassifier()\n",
    "\n",
    "    param_grid = (\n",
    "        ParamGridBuilder()\n",
    "        .addGrid(estimator.featuresCol, [FEATURES_COL])\n",
    "        .addGrid(estimator.labelCol, [CLASSIFICATION_LABEL_COL])\n",
    "        .addGrid(estimator.predictionCol, [PREDICTION_COL])\n",
    "        .addGrid(estimator.maxDepth, [5, 24])\n",
    "        .addGrid(estimator.maxBins, [16, 32, 64])\n",
    "        .addGrid(estimator.minInfoGain, [0, 0.1])\n",
    "        .build()\n",
    "    )\n",
    "\n",
    "    cross_validated_models = learn_best_model(\n",
    "        estimator=estimator,\n",
    "        param_grid=param_grid,\n",
    "        evaluator_cv=classification_evaluator_cv\n",
    "    )\n",
    "else:\n",
    "    print(\"Classification Decision Tree model found in disk, loading...\")\n",
    "    model = DecisionTreeClassificationModel.load(\n",
    "        TRAINED_MODELS_DIRS[\"Attempt 1\"][\"Classification\"][\"Decision Tree\"]\n",
    "    )\n",
    "    evaluators = get_evaluators(\n",
    "        model, \n",
    "        label_col=CLASSIFICATION_LABEL_COL, \n",
    "        prediction_col=PREDICTION_COL, \n",
    "        evaluation_metrics=CLASSIFICATION_EVALUATION_METRICS\n",
    "    )"
   ]
  },
  {
   "cell_type": "code",
   "execution_count": null,
   "metadata": {},
   "outputs": [],
   "source": [
    "if not model_exists(\n",
    "    TRAINED_MODELS_DIRS[\"Attempt 1\"][\"Classification\"][\"Decision Tree\"]\n",
    "):\n",
    "    print(\n",
    "        \"Evaluating Decision Tree model trained in previous cell...\"\n",
    "    )\n",
    "    evaluate_learning_models(\n",
    "        best_model=cross_validated_models.bestModel,\n",
    "        evaluators=get_evaluators(\n",
    "            cross_validated_models.bestModel, \n",
    "            label_col=CLASSIFICATION_LABEL_COL, \n",
    "            prediction_col=PREDICTION_COL, \n",
    "            evaluation_metrics=CLASSIFICATION_EVALUATION_METRICS\n",
    "        ),\n",
    "        save_training_result_path=\"./evaluation_results/attempt_1/classification/decision_tree.json\"\n",
    "    )\n",
    "else:\n",
    "    print(\"Printing evaluation loaded from disk...\")\n",
    "    print_model_evaluation(\n",
    "        model_evaluation_path=\"./evaluation_results/attempt_1/classification/decision_tree.json\"\n",
    "    )"
   ]
  },
  {
   "cell_type": "code",
   "execution_count": null,
   "metadata": {},
   "outputs": [],
   "source": [
    "if not model_exists(\n",
    "    TRAINED_MODELS_DIRS[\"Attempt 1\"][\"Classification\"][\"Decision Tree\"]\n",
    "):\n",
    "    print(\"Saving Decision Tree model on disk...\")\n",
    "    cross_validated_models.bestModel.save(\n",
    "        \"./trained_models/attempt_1/classification/decision_tree\"\n",
    "    )"
   ]
  },
  {
   "cell_type": "markdown",
   "metadata": {},
   "source": [
    "#### Random Forest"
   ]
  },
  {
   "cell_type": "code",
   "execution_count": null,
   "metadata": {},
   "outputs": [],
   "source": [
    "from pyspark.ml.classification import RandomForestClassifier\n",
    "from pyspark.ml.classification import RandomForestClassificationModel\n",
    "\n",
    "PREDICTION_COL = \"attempt_1_classification_random_forest_predictions\"\n",
    "\n",
    "if not model_exists(\n",
    "    TRAINED_MODELS_DIRS[\"Attempt 1\"][\"Classification\"][\"Random Forest\"]\n",
    "):\n",
    "    print(\"Classification Random Forest model NOT found in disk, training...\")\n",
    "    \n",
    "    classification_evaluator_cv.setPredictionCol(PREDICTION_COL)\n",
    "    \n",
    "    estimator = RandomForestClassifier()\n",
    "\n",
    "    param_grid = (\n",
    "        ParamGridBuilder()\n",
    "        .addGrid(estimator.featuresCol, [FEATURES_COL])\n",
    "        .addGrid(estimator.labelCol, [CLASSIFICATION_LABEL_COL])\n",
    "        .addGrid(estimator.predictionCol, [PREDICTION_COL])\n",
    "        .addGrid(estimator.maxDepth, [5, 24])\n",
    "        .addGrid(estimator.maxBins, [32, 64])\n",
    "        .addGrid(estimator.minInfoGain, [0, 0.1])\n",
    "        .addGrid(estimator.subsamplingRate, [0.5, 1])\n",
    "        .addGrid(estimator.lossType, [\"squared\", \"absolute\"])\n",
    "        .addGrid(estimator.numTrees, [20, 40])\n",
    "        .addGrid(estimator.featureSubsetStrategy, [\"auto\", \"onethird\", \"all\", \"log2\"])\n",
    "        .build()\n",
    "    )\n",
    "\n",
    "    cross_validated_models = learn_best_model(\n",
    "        estimator=estimator,\n",
    "        param_grid=param_grid,\n",
    "        evaluator_cv=classification_evaluator_cv\n",
    "    )\n",
    "else:\n",
    "    print(\"Classification Random Forest model found in disk, loading...\")\n",
    "    model = RandomForestClassificationModel.load(\n",
    "        TRAINED_MODELS_DIRS[\"Attempt 1\"][\"Classification\"][\"Random Forest\"]\n",
    "    )"
   ]
  },
  {
   "cell_type": "code",
   "execution_count": null,
   "metadata": {},
   "outputs": [],
   "source": [
    "if not model_exists(\n",
    "    TRAINED_MODELS_DIRS[\"Attempt 1\"][\"Classification\"][\"Random Forest\"]\n",
    "):\n",
    "    print(\n",
    "        \"Evaluating Random Forest model trained in previous cell...\"\n",
    "    )\n",
    "    evaluate_learning_models(\n",
    "        best_model=cross_validated_models.bestModel,\n",
    "        evaluators=get_evaluators(\n",
    "            cross_validated_models.bestModel, \n",
    "            label_col=CLASSIFICATION_LABEL_COL, \n",
    "            prediction_col=PREDICTION_COL, \n",
    "            evaluation_metrics=CLASSIFICATION_EVALUATION_METRICS\n",
    "        ),\n",
    "        save_training_result_path=\"./evaluation_results/attempt_1/classification/random_forest.json\"\n",
    "    )\n",
    "else:\n",
    "    print(\"Printing evaluation loaded from disk...\")\n",
    "    print_model_evaluation(\n",
    "        model_evaluation_path=\"./evaluation_results/attempt_1/classification/random_forest.json\"\n",
    "    )"
   ]
  },
  {
   "cell_type": "code",
   "execution_count": null,
   "metadata": {},
   "outputs": [],
   "source": [
    "if not model_exists(\n",
    "    TRAINED_MODELS_DIRS[\"Attempt 1\"][\"Classification\"][\"Random Forest\"]\n",
    "):\n",
    "    print(\"Saving Random Forest Classification model on disk...\")\n",
    "    cross_validated_models.bestModel.save(\n",
    "        \"./trained_models/attempt_1/classification/random_forest\"\n",
    "    )"
   ]
  },
  {
   "cell_type": "markdown",
   "metadata": {},
   "source": [
    "#### MLP"
   ]
  },
  {
   "cell_type": "code",
   "execution_count": null,
   "metadata": {},
   "outputs": [],
   "source": [
    "from pyspark.ml.classification import MultilayerPerceptronClassifier\n",
    "from pyspark.ml.classification import MultilayerPerceptronClassificationModel\n",
    "\n",
    "PREDICTION_COL = \"attempt_1_classification_mlp_predictions\"\n",
    "\n",
    "if not model_exists(\n",
    "    TRAINED_MODELS_DIRS[\"Attempt 1\"][\"Classification\"][\"MLP\"]\n",
    "):\n",
    "    print(\"Classification MLP model NOT found in disk, training...\")\n",
    "    \n",
    "    classification_evaluator_cv.setPredictionCol(PREDICTION_COL)\n",
    "    \n",
    "    estimator = MultilayerPerceptronClassifier()\n",
    "\n",
    "    param_grid = (\n",
    "        ParamGridBuilder()\n",
    "        .addGrid(estimator.featuresCol, [FEATURES_COL])\n",
    "        .addGrid(estimator.labelCol, [CLASSIFICATION_LABEL_COL])\n",
    "        .addGrid(estimator.predictionCol, [PREDICTION_COL])\n",
    "        .addGrid(estimator.layers, [[24, NUM_MACRO_PLACES]])\n",
    "        .addGrid(estimator.solver, [\"gd\"])\n",
    "        .build()\n",
    "    )\n",
    "\n",
    "    cross_validated_models = learn_best_model(\n",
    "        estimator=estimator,\n",
    "        param_grid=param_grid,\n",
    "        evaluator_cv=classification_evaluator_cv\n",
    "    )\n",
    "else:\n",
    "    print(\"Classification MLP model found in disk, loading...\")\n",
    "    model = MultilayerPerceptronClassificationModel.load(\n",
    "        TRAINED_MODELS_DIRS[\"Attempt 1\"][\"Classification\"][\"MLP\"]\n",
    "    )"
   ]
  },
  {
   "cell_type": "code",
   "execution_count": null,
   "metadata": {},
   "outputs": [],
   "source": [
    "if not model_exists(\n",
    "    TRAINED_MODELS_DIRS[\"Attempt 1\"][\"Classification\"][\"MLP\"]\n",
    "):\n",
    "    print(\n",
    "        \"Evaluating MLP model trained in previous cell...\"\n",
    "    )\n",
    "    evaluate_learning_models(\n",
    "        best_model=cross_validated_models.bestModel,\n",
    "        evaluators=get_evaluators(\n",
    "            cross_validated_models.bestModel, \n",
    "            label_col=CLASSIFICATION_LABEL_COL, \n",
    "            prediction_col=PREDICTION_COL, \n",
    "            evaluation_metrics=CLASSIFICATION_EVALUATION_METRICS\n",
    "        ),\n",
    "        save_training_result_path=\"./evaluation_results/attempt_1/classification/mlp.json\"\n",
    "    )\n",
    "else:\n",
    "    print(\"Printing evaluation loaded from disk...\")\n",
    "    print_model_evaluation(\n",
    "        model_evaluation_path=\"./evaluation_results/attempt_1/classification/mlp.json\"\n",
    "    )"
   ]
  },
  {
   "cell_type": "code",
   "execution_count": null,
   "metadata": {},
   "outputs": [],
   "source": [
    "if not model_exists(\n",
    "    TRAINED_MODELS_DIRS[\"Attempt 1\"][\"Classification\"][\"MLP\"]\n",
    "):\n",
    "    print(\"Saving MLP Classification model on disk...\")\n",
    "    cross_validated_models.bestModel.save(\n",
    "        \"./trained_models/attempt_1/classification/mlp\"\n",
    "    )"
   ]
  },
  {
   "cell_type": "markdown",
   "metadata": {},
   "source": [
    "# Attempt 2: \"less is more\"\n",
    "\n",
    "Ok, considering all features gives trash results.\n",
    "\n",
    "What if we embrace the \"less is more idea\" and try to improve the results by means of using less features?\n",
    "\n",
    "Nevertheless, feature correlation is very high, so, intrinsicly, it already did NOT make much sense to consider them all."
   ]
  },
  {
   "cell_type": "markdown",
   "metadata": {},
   "source": [
    "## Univariate Feature Selection"
   ]
  },
  {
   "cell_type": "markdown",
   "metadata": {},
   "source": [
    "Log scaling reduces skewedness of \"avg(mentality_penalties)\" feature BUT it increases the skewedness of all the other features.\n",
    "The other scalings (z-score and min-max) do NOT appear to be different than the \"raw\" data distribution.\n",
    "\n",
    "For this reason and due to the limited amount of resources available on Google Colab, we decided to stick with the min-max scaled data.\n",
    "In fact, the min-max scaling places \"for free\" all the features in the same scale, which is a very important consideration for SVM, which will be used in the upcoming sections"
   ]
  },
  {
   "cell_type": "code",
   "execution_count": null,
   "metadata": {},
   "outputs": [],
   "source": [
    "from pyspark.ml.feature import UnivariateFeatureSelector"
   ]
  },
  {
   "cell_type": "code",
   "execution_count": null,
   "metadata": {},
   "outputs": [],
   "source": [
    "selector = UnivariateFeatureSelector(\n",
    "    featuresCol=\"all_vec_min_max\",\n",
    "    labelCol=TARGET_VARIABLE, \n",
    "    selectionMode=\"percentile\"\n",
    ").setFeatureType(\"continuous\").setLabelType(\n",
    "    \"categorical\"\n",
    ").setSelectionThreshold(0.08)\n",
    "\n",
    "NUM_FEATURES = [6, 12]\n",
    "THRESHOLDS = [num_features/24 for num_features in NUM_FEATURES]\n",
    "UFS_FEATURES = [\n",
    "    f\"all_vec_min_max_ufs_{num_features}\" for num_features in NUM_FEATURES\n",
    "]"
   ]
  },
  {
   "cell_type": "code",
   "execution_count": null,
   "metadata": {},
   "outputs": [],
   "source": [
    "# df = df.drop(\"all_vec_min_max_ufs_12\",\"all_vec_min_max_ufs_4\",\"all_vec_min_max_ufs_6\",\"all_vec_min_max_ufs_8\")"
   ]
  },
  {
   "cell_type": "code",
   "execution_count": null,
   "metadata": {},
   "outputs": [],
   "source": [
    "fit_result = dict()\n",
    "\n",
    "for num_features, thr, ufs_features in zip(\n",
    "    NUM_FEATURES, THRESHOLDS, UFS_FEATURES\n",
    "):\n",
    "    selector.setSelectionThreshold(thr)\n",
    "    selector.setOutputCol(ufs_features),\n",
    "    fit_result[str(num_features)] = selector.fit(df)\n",
    "    df = fit_result[str(num_features)].transform(df)"
   ]
  },
  {
   "cell_type": "code",
   "execution_count": null,
   "metadata": {},
   "outputs": [],
   "source": [
    "selected_features = dict()\n",
    "for num_features in NUM_FEATURES:\n",
    "    selected_features[str(num_features)] = list(\n",
    "        map(\n",
    "            lambda i: ALL_FEATURES[i], fit_result[str(num_features)].selectedFeatures\n",
    "        )\n",
    "    )\n",
    "    print(f\"Univariate Feature Selection selected these {num_features} features:\\n{selected_features[str(num_features)]}\")"
   ]
  },
  {
   "cell_type": "code",
   "execution_count": null,
   "metadata": {},
   "outputs": [],
   "source": [
    "pdf = df.toPandas()"
   ]
  },
  {
   "cell_type": "code",
   "execution_count": null,
   "metadata": {},
   "outputs": [],
   "source": [
    "scatter_plot(\n",
    "    x=pdf[\"all_vec_min_max_ufs_2\"].map(lambda x: x[0]),\n",
    "    y=pdf[\"all_vec_min_max_ufs_2\"].map(lambda x: x[1]),\n",
    "    c=pdf[\"points\"],\n",
    "    x_label=\"Feature 0\",\n",
    "    y_label=\"Feature 1\",\n",
    ")"
   ]
  },
  {
   "cell_type": "code",
   "execution_count": null,
   "metadata": {},
   "outputs": [],
   "source": [
    "max_key = list(selected_features.keys())[-1]\n",
    "\n",
    "plot_feature_distribution(\n",
    "    pdf,\n",
    "    selected_features[max_key], # last dictionary entry\n",
    "    figsize=(10,4),\n",
    "    color=\"orange\",\n",
    "    n_cols=(int(max_key) // 2)\n",
    ")"
   ]
  },
  {
   "cell_type": "markdown",
   "metadata": {},
   "source": [
    "### Feature-target relationship"
   ]
  },
  {
   "cell_type": "code",
   "execution_count": null,
   "metadata": {},
   "outputs": [],
   "source": [
    "plot_feature_target_relation(\n",
    "    pdf,\n",
    "    selected_features[max_key],\n",
    "    TARGET_VARIABLE,\n",
    "    figsize=(10,8), \n",
    "    color=COLOR_MIN_MAX,\n",
    "    n_cols=(int(max_key) // 4)\n",
    ")"
   ]
  },
  {
   "cell_type": "markdown",
   "metadata": {},
   "source": [
    "### Feature correlation"
   ]
  },
  {
   "cell_type": "markdown",
   "metadata": {},
   "source": [
    "look at it from the original pearson matrix"
   ]
  },
  {
   "cell_type": "markdown",
   "metadata": {},
   "source": [
    "state that these data distribs are trash.\n",
    "\n",
    "So, for this reason, talk about overall and value."
   ]
  },
  {
   "cell_type": "markdown",
   "metadata": {},
   "source": [
    "## Overall as feature (min-max normalized)"
   ]
  },
  {
   "cell_type": "markdown",
   "metadata": {},
   "source": [
    "Since the features are so correlated and performances of attempt 1 are trash, why not considering just the overall as a feature?\n",
    "\n",
    "Maybe, we're lucky and the overall captures some other characteristics thay may steer the prediction a little bit more"
   ]
  },
  {
   "cell_type": "code",
   "execution_count": null,
   "metadata": {},
   "outputs": [],
   "source": [
    "OVERALL = [\"avg(overall)\"]\n",
    "\n",
    "COLOR_OVERALL_MIN_MAX = \"green\""
   ]
  },
  {
   "cell_type": "code",
   "execution_count": null,
   "metadata": {},
   "outputs": [],
   "source": [
    "assembler = VectorAssembler(\n",
    "    inputCols=OVERALL, outputCol=\"overall_vec\"\n",
    ")\n",
    "\n",
    "# min_max_df = assembler.transform(min_max_df)\n",
    "df = assembler.transform(df)"
   ]
  },
  {
   "cell_type": "code",
   "execution_count": null,
   "metadata": {},
   "outputs": [],
   "source": [
    "OVERALL_MIN_MAX = [\"avg(overall)_min_max\"]"
   ]
  },
  {
   "cell_type": "code",
   "execution_count": null,
   "metadata": {},
   "outputs": [],
   "source": [
    "from pyspark.ml.feature import MinMaxScaler\n",
    "\n",
    "scaler = MinMaxScaler(\n",
    "    inputCol=\"overall_vec\", \n",
    "    outputCol=\"overall_vec_min_max\"\n",
    ")"
   ]
  },
  {
   "cell_type": "code",
   "execution_count": null,
   "metadata": {},
   "outputs": [],
   "source": [
    "df = scaler.fit(df).transform(df)"
   ]
  },
  {
   "cell_type": "code",
   "execution_count": null,
   "metadata": {},
   "outputs": [],
   "source": [
    "pdf = df.toPandas()\n",
    "\n",
    "pdf = feature_vec_to_cols(\n",
    "    pdf=pdf,\n",
    "    vec=\"overall_vec_min_max\",\n",
    "    columns=OVERALL_MIN_MAX\n",
    ")"
   ]
  },
  {
   "cell_type": "markdown",
   "metadata": {},
   "source": [
    "### Feature-target relationship"
   ]
  },
  {
   "cell_type": "code",
   "execution_count": null,
   "metadata": {},
   "outputs": [],
   "source": [
    "plot_feature_target_relation(\n",
    "    pdf,\n",
    "    OVERALL_MIN_MAX,\n",
    "    TARGET_VARIABLE,\n",
    "    figsize=(10,4),\n",
    "    color=\"chocolate\",\n",
    "    n_cols=1\n",
    ")"
   ]
  },
  {
   "cell_type": "markdown",
   "metadata": {},
   "source": [
    "### Feature distribution"
   ]
  },
  {
   "cell_type": "code",
   "execution_count": null,
   "metadata": {},
   "outputs": [],
   "source": [
    "plot_feature_distribution(\n",
    "    pdf,\n",
    "    OVERALL_MIN_MAX,\n",
    "    color=\"chocolate\",\n",
    "    figsize=(10,4),\n",
    "    n_cols=1\n",
    ")"
   ]
  },
  {
   "cell_type": "markdown",
   "metadata": {},
   "source": [
    "## Value as feature (min-max normalized)"
   ]
  },
  {
   "cell_type": "markdown",
   "metadata": {},
   "source": [
    "Oh, we found this paper: \n",
    "\n",
    "So, why not try their approach as well?"
   ]
  },
  {
   "cell_type": "code",
   "execution_count": null,
   "metadata": {},
   "outputs": [],
   "source": [
    "VALUE = [\"avg(value)\"]\n",
    "\n",
    "COLOR_VALUE_MIN_MAX = \"coral\"\n",
    "VALUE_MIN_MAX = [\"avg(value)_min_max\"]"
   ]
  },
  {
   "cell_type": "code",
   "execution_count": null,
   "metadata": {},
   "outputs": [],
   "source": [
    "assembler = VectorAssembler(\n",
    "    inputCols=VALUE, outputCol=\"value_vec\"\n",
    ")\n",
    "\n",
    "df = assembler.transform(df)"
   ]
  },
  {
   "cell_type": "code",
   "execution_count": null,
   "metadata": {},
   "outputs": [],
   "source": [
    "scaler = MinMaxScaler(\n",
    "    inputCol=\"value_vec\", \n",
    "    outputCol=\"value_vec_min_max\"\n",
    ")"
   ]
  },
  {
   "cell_type": "code",
   "execution_count": null,
   "metadata": {},
   "outputs": [],
   "source": [
    "df = scaler.fit(df).transform(df)"
   ]
  },
  {
   "cell_type": "code",
   "execution_count": null,
   "metadata": {},
   "outputs": [],
   "source": [
    "pdf = df.toPandas()\n",
    "pdf = feature_vec_to_cols(\n",
    "    pdf=pdf,\n",
    "    vec=\"value_vec_min_max\",\n",
    "    columns=VALUE_MIN_MAX\n",
    ")"
   ]
  },
  {
   "cell_type": "markdown",
   "metadata": {},
   "source": [
    "### Feature-target relationship"
   ]
  },
  {
   "cell_type": "code",
   "execution_count": null,
   "metadata": {},
   "outputs": [],
   "source": [
    "plot_feature_target_relation(\n",
    "    pdf,\n",
    "    VALUE_MIN_MAX,\n",
    "    TARGET_VARIABLE,\n",
    "    figsize=(10,4),\n",
    "    color=COLOR_VALUE_MIN_MAX,\n",
    "    n_cols=1\n",
    ")"
   ]
  },
  {
   "cell_type": "markdown",
   "metadata": {},
   "source": [
    "Look, they are basically the same. In fact, if we check their correlation, we get... [high correlation on pearson]"
   ]
  },
  {
   "cell_type": "markdown",
   "metadata": {},
   "source": [
    "### Feature distribution"
   ]
  },
  {
   "cell_type": "code",
   "execution_count": null,
   "metadata": {},
   "outputs": [],
   "source": [
    "plot_feature_distribution(\n",
    "    pdf,\n",
    "    [\"avg(value)\"],\n",
    "    color=COLOR_VALUE_MIN_MAX,\n",
    "    figsize=(10,4),\n",
    "    n_cols=1\n",
    ")"
   ]
  },
  {
   "cell_type": "markdown",
   "metadata": {},
   "source": [
    "Observe that there is a lot of skewness. We already know that the min_max normalization has the same exact curve.\n",
    "\n",
    "Let's try to see what happens by applying a $log_2$ transformation."
   ]
  },
  {
   "cell_type": "code",
   "execution_count": null,
   "metadata": {},
   "outputs": [],
   "source": [
    "df = df.withColumn(\"value_log\", to_log_UDF(\"avg(value)\"))\n",
    "pdf = df.toPandas()"
   ]
  },
  {
   "cell_type": "code",
   "execution_count": null,
   "metadata": {},
   "outputs": [],
   "source": [
    "plot_feature_distribution(\n",
    "    pdf,\n",
    "    [\"value_log\"],\n",
    "    color=COLOR_VALUE_MIN_MAX,\n",
    "    figsize=(10,4),\n",
    "    n_cols=1\n",
    ")"
   ]
  },
  {
   "cell_type": "code",
   "execution_count": null,
   "metadata": {},
   "outputs": [],
   "source": [
    "assembler = VectorAssembler(inputCols=[\"value_log\"], outputCol=\"value_log_vec\")\n",
    "df = assembler.transform(df)\n",
    "\n",
    "scaler = MinMaxScaler(\n",
    "    inputCol=\"value_log_vec\", \n",
    "    outputCol=\"value_log_vec_min_max\"\n",
    ")\n",
    "\n",
    "df = scaler.fit(df).transform(df)\n",
    "pdf = df.toPandas()"
   ]
  },
  {
   "cell_type": "code",
   "execution_count": null,
   "metadata": {},
   "outputs": [],
   "source": [
    "pdf = feature_vec_to_cols(\n",
    "    pdf=pdf,\n",
    "    vec=\"value_log_vec_min_max\",\n",
    "    columns=[\"value_log_min_max\"]\n",
    ")\n",
    "\n",
    "plot_feature_distribution(\n",
    "    pdf,\n",
    "    [\"value_log_min_max\"],\n",
    "    color=COLOR_VALUE_MIN_MAX,\n",
    "    figsize=(10,4),\n",
    "    n_cols=1\n",
    ")"
   ]
  },
  {
   "cell_type": "markdown",
   "metadata": {},
   "source": [
    "Hint at a very high correlation, then show it with pearson matrix..."
   ]
  },
  {
   "cell_type": "code",
   "execution_count": null,
   "metadata": {},
   "outputs": [],
   "source": [
    "pdf = feature_vec_to_cols(\n",
    "    pdf=pdf,\n",
    "    vec=\"overall_vec_min_max\",\n",
    "    columns=OVERALL_MIN_MAX\n",
    ")"
   ]
  },
  {
   "cell_type": "code",
   "execution_count": null,
   "metadata": {},
   "outputs": [],
   "source": [
    "pdf.columns"
   ]
  },
  {
   "cell_type": "code",
   "execution_count": null,
   "metadata": {},
   "outputs": [],
   "source": [
    "plot_correlation_matrix(\n",
    "    pdf, \n",
    "    [\"avg(overall)_min_max\", \"value_log_min_max\"],\n",
    "    figsize=(8,4)\n",
    ")"
   ]
  },
  {
   "cell_type": "markdown",
   "metadata": {},
   "source": [
    "Comment this correlation, and move on with life"
   ]
  },
  {
   "cell_type": "markdown",
   "metadata": {},
   "source": [
    "## Learning for attempt 2"
   ]
  },
  {
   "cell_type": "markdown",
   "metadata": {},
   "source": [
    "*[\n",
    "    state that via hyperparam grid we'll set the feature column, meaning that we'll try to train the models on all of the attemps\n",
    "\n",
    "[state expected results, according to correlations and similar stuff]\n",
    "\n",
    "]"
   ]
  },
  {
   "cell_type": "code",
   "execution_count": null,
   "metadata": {},
   "outputs": [],
   "source": [
    "train_df, test_df = df.randomSplit([0.9, 0.1], seed=random_seed)\n",
    "\n",
    "FEATURES_COL = [\"value_log_vec_min_max\"] + UFS_FEATURES\n"
   ]
  },
  {
   "cell_type": "markdown",
   "metadata": {},
   "source": [
    "### Regression"
   ]
  },
  {
   "cell_type": "code",
   "execution_count": null,
   "metadata": {},
   "outputs": [],
   "source": [
    "regression_evaluator_cv.setLabelCol(REGRESSION_LABEL_COL)"
   ]
  },
  {
   "cell_type": "markdown",
   "metadata": {},
   "source": [
    "#### Linear Regression"
   ]
  },
  {
   "cell_type": "code",
   "execution_count": null,
   "metadata": {},
   "outputs": [],
   "source": [
    "from pyspark.ml.regression import LinearRegression\n",
    "from pyspark.ml.regression import LinearRegressionModel\n",
    "\n",
    "PREDICTION_COL = \"attempt_2_regression_linear_regression_predictions\"\n",
    "\n",
    "if not model_exists(\n",
    "    TRAINED_MODELS_DIRS[\"Attempt 2\"][\"Regression\"][\"Linear Regression\"]\n",
    "):\n",
    "    print(\"Linear Regression model NOT found in disk, training...\")\n",
    "    regression_evaluator_cv.setPredictionCol(PREDICTION_COL)\n",
    "    \n",
    "    estimator = LinearRegression()\n",
    "\n",
    "    linear_regression_param_grid = (\n",
    "        ParamGridBuilder()\n",
    "        .addGrid(estimator.featuresCol, FEATURES_COL)\n",
    "        .addGrid(estimator.labelCol, [REGRESSION_LABEL_COL])\n",
    "        .addGrid(estimator.predictionCol, [PREDICTION_COL])\n",
    "        .addGrid(estimator.regParam, [0.0, 0.001, 0.01, 0.1, 0.5, 1])\n",
    "        .addGrid(estimator.solver, [\"auto\", \"normal\"])\n",
    "        .addGrid(estimator.fitIntercept, [True, False])\n",
    "        .addGrid(estimator.elasticNetParam, [0.0, 0.5, 1.0])\n",
    "        .build()\n",
    "    )\n",
    "\n",
    "    cross_validated_models = learn_best_model(\n",
    "        estimator=estimator,\n",
    "        param_grid=linear_regression_param_grid,\n",
    "        evaluator_cv=regression_evaluator_cv\n",
    "    )\n",
    "else:\n",
    "    print(\"Linear Regression model found in disk, loading...\")\n",
    "    model = LinearRegressionModel.load(\n",
    "        TRAINED_MODELS_DIRS[\"Attempt 2\"][\"Regression\"][\"Linear Regression\"]\n",
    "    )"
   ]
  },
  {
   "cell_type": "code",
   "execution_count": null,
   "metadata": {},
   "outputs": [],
   "source": [
    "if not model_exists(\n",
    "    TRAINED_MODELS_DIRS[\"Attempt 2\"][\"Regression\"][\"Linear Regression\"]\n",
    "):\n",
    "    print(\"Evaluating Linear Regression model trained in previous cell...\")\n",
    "    evaluate_learning_models(\n",
    "        best_model=cross_validated_models.bestModel,\n",
    "        evaluators=get_evaluators(\n",
    "            cross_validated_models.bestModel, \n",
    "            label_col=REGRESSION_LABEL_COL, \n",
    "            prediction_col=PREDICTION_COL, \n",
    "            evaluation_metrics=REGRESSION_EVALUATION_METRICS\n",
    "        ),\n",
    "        save_training_result_path=\"./evaluation_results/attempt_2/regression/linear_regression.json\"\n",
    "    )\n",
    "else:\n",
    "    print(\"Printing evaluation loaded from disk...\")\n",
    "    print_model_evaluation(\n",
    "        model_evaluation_path=\"./evaluation_results/attempt_2/regression/linear_regression.json\"\n",
    "    )"
   ]
  },
  {
   "cell_type": "code",
   "execution_count": null,
   "metadata": {},
   "outputs": [],
   "source": [
    "if not model_exists(\n",
    "    TRAINED_MODELS_DIRS[\"Attempt 2\"][\"Regression\"][\"Linear Regression\"]\n",
    "):\n",
    "    print(\"Saving Linear Regression model on disk...\")\n",
    "    cross_validated_models.bestModel.save(\n",
    "        \"./trained_models/attempt_2/regression/linear_regression\"\n",
    "    )"
   ]
  },
  {
   "cell_type": "markdown",
   "metadata": {},
   "source": [
    "#### Prediction Tree"
   ]
  },
  {
   "cell_type": "code",
   "execution_count": null,
   "metadata": {},
   "outputs": [],
   "source": [
    "from pyspark.ml.regression import DecisionTreeRegressor\n",
    "from pyspark.ml.regression import DecisionTreeRegressionModel\n",
    "\n",
    "PREDICTION_COL = \"attempt_2_regression_decision_tree_predictions\"\n",
    "\n",
    "if not model_exists(\n",
    "    TRAINED_MODELS_DIRS[\"Attempt 2\"][\"Regression\"][\"Prediction Tree\"]\n",
    "):\n",
    "    print(\"Prediction Tree model NOT found in disk, training...\")\n",
    "    \n",
    "    regression_evaluator_cv.setPredictionCol(PREDICTION_COL)\n",
    "    \n",
    "    estimator = DecisionTreeRegressor()\n",
    "\n",
    "    param_grid = (\n",
    "        ParamGridBuilder()\n",
    "        .addGrid(estimator.featuresCol, FEATURES_COL)\n",
    "        .addGrid(estimator.labelCol, [REGRESSION_LABEL_COL])\n",
    "        .addGrid(estimator.predictionCol, [PREDICTION_COL])\n",
    "        .addGrid(estimator.maxDepth, [5, 24])\n",
    "        .addGrid(estimator.maxBins, [16, 32, 64])\n",
    "        .addGrid(estimator.minInfoGain, [0, 0.1])\n",
    "        .build()\n",
    "    )\n",
    "\n",
    "    cross_validated_models = learn_best_model(\n",
    "        estimator=estimator,\n",
    "        param_grid=param_grid,\n",
    "        evaluator_cv=regression_evaluator_cv\n",
    "    )\n",
    "else:\n",
    "    print(\"Regression Decision Tree model found in disk, loading...\")\n",
    "    model = DecisionTreeRegressionModel.load(\n",
    "        TRAINED_MODELS_DIRS[\"Attempt 2\"][\"Regression\"][\"Prediction Tree\"]\n",
    "    )"
   ]
  },
  {
   "cell_type": "code",
   "execution_count": null,
   "metadata": {},
   "outputs": [],
   "source": [
    "if not model_exists(\n",
    "    TRAINED_MODELS_DIRS[\"Attempt 2\"][\"Regression\"][\"Prediction Tree\"]\n",
    "):\n",
    "    print(\n",
    "        \"Evaluating Prediction Tree model trained in previous cell...\"\n",
    "    )\n",
    "    evaluate_learning_models(\n",
    "        best_model=cross_validated_models.bestModel,\n",
    "        evaluators=get_evaluators(\n",
    "            cross_validated_models.bestModel, \n",
    "            label_col=REGRESSION_LABEL_COL, \n",
    "            prediction_col=PREDICTION_COL, \n",
    "            evaluation_metrics=REGRESSION_EVALUATION_METRICS\n",
    "        ),\n",
    "        save_training_result_path=\"./evaluation_results/attempt_2/regression/prediction_tree.json\"\n",
    "    )\n",
    "else:\n",
    "    print(\"Printing evaluation loaded from disk...\")\n",
    "    print_model_evaluation(\n",
    "        model_evaluation_path=\"./evaluation_results/attempt_2/regression/prediction_tree.json\"\n",
    "    )"
   ]
  },
  {
   "cell_type": "code",
   "execution_count": null,
   "metadata": {},
   "outputs": [],
   "source": [
    "if not model_exists(\n",
    "    TRAINED_MODELS_DIRS[\"Attempt 2\"][\"Regression\"][\"Prediction Tree\"]\n",
    "):\n",
    "    print(\"Saving Decision Tree Regressor model on disk...\")\n",
    "    cross_validated_models.bestModel.save(\n",
    "        \"./trained_models/attempt_2/regression/prediction_tree\"\n",
    "    )"
   ]
  },
  {
   "cell_type": "markdown",
   "metadata": {},
   "source": [
    "#### Gradient Boosted Tree Regression"
   ]
  },
  {
   "cell_type": "code",
   "execution_count": null,
   "metadata": {},
   "outputs": [],
   "source": [
    "from pyspark.ml.regression import GBTRegressor\n",
    "from pyspark.ml.regression import GBTRegressionModel\n",
    "\n",
    "PREDICTION_COL = \"attempt_2_regression_gradient_boosted_tree_predictions\"\n",
    "\n",
    "if not model_exists(\n",
    "    TRAINED_MODELS_DIRS[\"Attempt 2\"][\"Regression\"][\"Gradient Boosted Tree\"]\n",
    "):\n",
    "    print(\"Regression Gradient Boosted Tree model NOT found in disk, training...\")\n",
    "    \n",
    "    regression_evaluator_cv.setPredictionCol(PREDICTION_COL)\n",
    "    \n",
    "    estimator = GBTRegressor()\n",
    "\n",
    "    param_grid = (\n",
    "        ParamGridBuilder()\n",
    "        .addGrid(estimator.featuresCol, FEATURES_COL)\n",
    "        .addGrid(estimator.labelCol, [REGRESSION_LABEL_COL])\n",
    "        .addGrid(estimator.predictionCol, [PREDICTION_COL])\n",
    "        # .addGrid(estimator.maxDepth, [2, 5, 10])\n",
    "        # .addGrid(estimator.maxBins, [16, 32, 64])\n",
    "        # .addGrid(estimator.minInfoGain, [0, 0.1])\n",
    "        # .addGrid(estimator.subsamplingRate, [0.5, 1])\n",
    "        # .addGrid(estimator.lossType, [\"squared\", \"absolute\"])\n",
    "        .build()\n",
    "    )\n",
    "\n",
    "    cross_validated_models = learn_best_model(\n",
    "        estimator=estimator,\n",
    "        param_grid=param_grid,\n",
    "        evaluator_cv=regression_evaluator_cv\n",
    "    )\n",
    "else:\n",
    "    print(\"Regression Gradient Boosted Tree model found in disk, loading...\")\n",
    "    model = GBTRegressionModel.load(\n",
    "        TRAINED_MODELS_DIRS[\"Attempt 2\"][\"Regression\"][\"Gradient Boosted Tree\"]\n",
    "    )"
   ]
  },
  {
   "cell_type": "code",
   "execution_count": null,
   "metadata": {},
   "outputs": [],
   "source": [
    "if not model_exists(\n",
    "    TRAINED_MODELS_DIRS[\"Attempt 2\"][\"Regression\"][\"Gradient Boosted Tree\"]\n",
    "):\n",
    "    print(\n",
    "        \"Evaluating Gradient Boosted Tree model trained in previous cell...\"\n",
    "    )\n",
    "    evaluate_learning_models(\n",
    "        best_model=cross_validated_models.bestModel,\n",
    "        evaluators=get_evaluators(\n",
    "            cross_validated_models.bestModel, \n",
    "            label_col=REGRESSION_LABEL_COL, \n",
    "            prediction_col=PREDICTION_COL, \n",
    "            evaluation_metrics=REGRESSION_EVALUATION_METRICS\n",
    "        ),\n",
    "        save_training_result_path=\"./evaluation_results/attempt_2/regression/gradient_boosted_tree.json\"\n",
    "    )\n",
    "else:\n",
    "    print(\"Printing evaluation loaded from disk...\")\n",
    "    print_model_evaluation(\n",
    "        model_evaluation_path=\"./evaluation_results/attempt_2/regression/gradient_boosted_tree.json\"\n",
    "    )"
   ]
  },
  {
   "cell_type": "code",
   "execution_count": null,
   "metadata": {},
   "outputs": [],
   "source": [
    "if not model_exists(\n",
    "    TRAINED_MODELS_DIRS[\"Attempt 2\"][\"Regression\"][\"Gradient Boosted Tree\"]\n",
    "):\n",
    "    print(\"Saving Gradient Boosted Tree Regression model on disk...\")\n",
    "    cross_validated_models.bestModel.save(\n",
    "        \"./trained_models/attempt_2/regression/gradient_boosted_tree\"\n",
    "    )"
   ]
  },
  {
   "cell_type": "markdown",
   "metadata": {},
   "source": [
    "#### Random Forest Regression"
   ]
  },
  {
   "cell_type": "code",
   "execution_count": null,
   "metadata": {},
   "outputs": [],
   "source": [
    "from pyspark.ml.regression import RandomForestRegressor\n",
    "from pyspark.ml.regression import RandomForestRegressionModel\n",
    "\n",
    "PREDICTION_COL = \"attempt_2_regression_random_forest_predictions\"\n",
    "\n",
    "if not model_exists(\n",
    "    TRAINED_MODELS_DIRS[\"Attempt 2\"][\"Regression\"][\"Random Forest\"]\n",
    "):\n",
    "    print(\"Regression Random Forest model NOT found in disk, training...\")\n",
    "    \n",
    "    regression_evaluator_cv.setPredictionCol(PREDICTION_COL)\n",
    "    \n",
    "    estimator = RandomForestRegressor()\n",
    "\n",
    "    param_grid = (\n",
    "        ParamGridBuilder()\n",
    "        .addGrid(estimator.featuresCol, FEATURES_COL)\n",
    "        .addGrid(estimator.labelCol, [REGRESSION_LABEL_COL])\n",
    "        .addGrid(estimator.predictionCol, [PREDICTION_COL])\n",
    "        .addGrid(estimator.maxDepth, [5, 24])\n",
    "        .addGrid(estimator.maxBins, [32, 64])\n",
    "        .addGrid(estimator.minInfoGain, [0, 0.1])\n",
    "        .addGrid(estimator.subsamplingRate, [0.5, 1])\n",
    "        .addGrid(estimator.lossType, [\"squared\", \"absolute\"])\n",
    "        .addGrid(estimator.numTrees, [20, 40])\n",
    "        .addGrid(\n",
    "            estimator.featureSubsetStrategy, \n",
    "            [\"auto\", \"onethird\", \"all\", \"log2\"]\n",
    "        )\n",
    "        .build()\n",
    "    )\n",
    "\n",
    "    cross_validated_models = learn_best_model(\n",
    "        estimator=estimator,\n",
    "        param_grid=param_grid,\n",
    "        evaluator_cv=regression_evaluator_cv\n",
    "    )\n",
    "else:\n",
    "    print(\"Regression Random Forest model found in disk, loading...\")\n",
    "    model = RandomForestRegressionModel.load(\n",
    "        TRAINED_MODELS_DIRS[\"Attempt 2\"][\"Regression\"][\"Random Forest\"]\n",
    "    )"
   ]
  },
  {
   "cell_type": "code",
   "execution_count": null,
   "metadata": {},
   "outputs": [],
   "source": [
    "if not model_exists(\n",
    "    TRAINED_MODELS_DIRS[\"Attempt 2\"][\"Regression\"][\"Random Forest\"]\n",
    "):\n",
    "    print(\n",
    "        \"Evaluating Random Forest model trained in previous cell...\"\n",
    "    )\n",
    "    evaluate_learning_models(\n",
    "        best_model=cross_validated_models.bestModel,\n",
    "        evaluators=get_evaluators(\n",
    "            cross_validated_models.bestModel, \n",
    "            label_col=REGRESSION_LABEL_COL, \n",
    "            prediction_col=PREDICTION_COL, \n",
    "            evaluation_metrics=REGRESSION_EVALUATION_METRICS\n",
    "        ),\n",
    "        save_training_result_path=\"./evaluation_results/attempt_2/regression/random_forest.json\"\n",
    "    )\n",
    "else:\n",
    "    print(\"Printing evaluation loaded from disk...\")\n",
    "    print_model_evaluation(\n",
    "        model_evaluation_path=\"./evaluation_results/attempt_2/regression/random_forest.json\"\n",
    "    )"
   ]
  },
  {
   "cell_type": "code",
   "execution_count": null,
   "metadata": {},
   "outputs": [],
   "source": [
    "if not model_exists(\n",
    "    TRAINED_MODELS_DIRS[\"Attempt 2\"][\"Regression\"][\"Random Forest\"]\n",
    "):\n",
    "    print(\"Saving Random Forest Regression model on disk...\")\n",
    "    cross_validated_models.bestModel.save(\n",
    "        \"./trained_models/attempt_2/regression/random_forest\"\n",
    "    )"
   ]
  },
  {
   "cell_type": "markdown",
   "metadata": {},
   "source": [
    "### Classification"
   ]
  },
  {
   "cell_type": "code",
   "execution_count": null,
   "metadata": {},
   "outputs": [],
   "source": [
    "classification_evaluator_cv.setLabelCol(CLASSIFICATION_LABEL_COL)"
   ]
  },
  {
   "cell_type": "markdown",
   "metadata": {},
   "source": [
    "#### SVM Classifier"
   ]
  },
  {
   "cell_type": "code",
   "execution_count": null,
   "metadata": {},
   "outputs": [],
   "source": [
    "from pyspark.ml.classification import OneVsRest\n",
    "from pyspark.ml.classification import OneVsRestModel\n",
    "from pyspark.ml.classification import LinearSVC\n",
    "\n",
    "PREDICTION_COL = \"attempt_2_classification_svm_predictions\"\n",
    "\n",
    "if not model_exists(\n",
    "    TRAINED_MODELS_DIRS[\"Attempt 2\"][\"Classification\"][\"SVM\"]\n",
    "):\n",
    "    print(\"SVM Classification model NOT found in disk, training...\")\n",
    "    classification_evaluator_cv.setPredictionCol(PREDICTION_COL)\n",
    "    \n",
    "    estimator = OneVsRest(\n",
    "        classifier=LinearSVC(\n",
    "            featuresCol=FEATURES_COL,\n",
    "            labelCol=CLASSIFICATION_LABEL_COL,\n",
    "            predictionCol=PREDICTION_COL,\n",
    "        ),\n",
    "        featuresCol=FEATURES_COL,\n",
    "        labelCol=CLASSIFICATION_LABEL_COL,\n",
    "        predictionCol=PREDICTION_COL\n",
    "    )\n",
    "\n",
    "    param_grid = (\n",
    "        ParamGridBuilder()\n",
    "        .addGrid(estimator.featuresCol, [FEATURES_COL])\n",
    "        .addGrid(estimator.labelCol, [CLASSIFICATION_LABEL_COL])\n",
    "        .addGrid(estimator.predictionCol, [PREDICTION_COL])\n",
    "        .build()\n",
    "    )\n",
    "\n",
    "    cross_validated_models = learn_best_model(\n",
    "        estimator=estimator,\n",
    "        param_grid=param_grid,\n",
    "        evaluator_cv=classification_evaluator_cv\n",
    "    )\n",
    "else:\n",
    "    print(\"SVM Classification model found in disk, loading...\")\n",
    "    model = OneVsRestModel.load(\n",
    "        TRAINED_MODELS_DIRS[\"Attempt 2\"][\"Classification\"][\"SVM\"]\n",
    "    )\n"
   ]
  },
  {
   "cell_type": "code",
   "execution_count": null,
   "metadata": {},
   "outputs": [],
   "source": [
    "if not model_exists(\n",
    "    TRAINED_MODELS_DIRS[\"Attempt 2\"][\"Classification\"][\"SVM\"]\n",
    "):\n",
    "    print(\n",
    "        \"Evaluating SVM Classifier model trained in previous cell...\"\n",
    "    )\n",
    "    evaluate_learning_models(\n",
    "        best_model=cross_validated_models.bestModel,\n",
    "        evaluators=get_evaluators(\n",
    "            cross_validated_models.bestModel, \n",
    "            label_col=CLASSIFICATION_LABEL_COL, \n",
    "            prediction_col=PREDICTION_COL, \n",
    "            evaluation_metrics=CLASSIFICATION_EVALUATION_METRICS\n",
    "        ),\n",
    "        save_training_result_path=\"./evaluation_results/attempt_2/classification/svm.json\"\n",
    "    )\n",
    "else:\n",
    "    print(\"Printing evaluation loaded from disk...\")\n",
    "    print_model_evaluation(\n",
    "        model_evaluation_path=\"./evaluation_results/attempt_2/classification/svm.json\"\n",
    "    )"
   ]
  },
  {
   "cell_type": "code",
   "execution_count": null,
   "metadata": {},
   "outputs": [],
   "source": [
    "if not model_exists(\n",
    "    TRAINED_MODELS_DIRS[\"Attempt 2\"][\"Classification\"][\"SVM\"]\n",
    "):\n",
    "    print(\"Saving SVM Classification model on disk...\")\n",
    "    cross_validated_models.bestModel.save(\n",
    "        \"./trained_models/attempt_2/classification/svm\"\n",
    "    )"
   ]
  },
  {
   "cell_type": "markdown",
   "metadata": {},
   "source": [
    "#### Logistic Regression"
   ]
  },
  {
   "cell_type": "code",
   "execution_count": null,
   "metadata": {},
   "outputs": [],
   "source": [
    "from pyspark.ml.classification import OneVsRest\n",
    "from pyspark.ml.classification import OneVsRestModel\n",
    "from pyspark.ml.classification import LogisticRegression\n",
    "\n",
    "PREDICTION_COL = \"attempt_2_classification_logistic_regression_predictions\"\n",
    "\n",
    "if not model_exists(\n",
    "    TRAINED_MODELS_DIRS[\"Attempt 2\"][\"Classification\"][\"Logistic Regression\"]\n",
    "):\n",
    "    print(\"Logistic Regression Classification model NOT found in disk, training...\")\n",
    "    classification_evaluator_cv.setPredictionCol(PREDICTION_COL)\n",
    "    \n",
    "    estimator = OneVsRest(\n",
    "        classifier=LinearSVC(\n",
    "            featuresCol=FEATURES_COL,\n",
    "            labelCol=CLASSIFICATION_LABEL_COL,\n",
    "            predictionCol=PREDICTION_COL,\n",
    "        ),\n",
    "        featuresCol=FEATURES_COL,\n",
    "        labelCol=CLASSIFICATION_LABEL_COL,\n",
    "        predictionCol=PREDICTION_COL\n",
    "    )\n",
    "\n",
    "    param_grid = (\n",
    "        ParamGridBuilder()\n",
    "        .addGrid(estimator.featuresCol, [FEATURES_COL])\n",
    "        .addGrid(estimator.labelCol, [CLASSIFICATION_LABEL_COL])\n",
    "        .addGrid(estimator.predictionCol, [PREDICTION_COL])\n",
    "        .build()\n",
    "    )\n",
    "\n",
    "    cross_validated_models = learn_best_model(\n",
    "        estimator=estimator,\n",
    "        param_grid=param_grid,\n",
    "        evaluator_cv=classification_evaluator_cv\n",
    "    )\n",
    "else:\n",
    "    print(\"Logistic Regression Classification model found in disk, loading...\")\n",
    "    model = OneVsRestModel.load(\n",
    "        TRAINED_MODELS_DIRS[\"Attempt 2\"][\"Classification\"][\"Logistic Regression\"]\n",
    "    )\n"
   ]
  },
  {
   "cell_type": "code",
   "execution_count": null,
   "metadata": {},
   "outputs": [],
   "source": [
    "if not model_exists(\n",
    "    TRAINED_MODELS_DIRS[\"Attempt 2\"][\"Classification\"][\"Logistic Regression\"]\n",
    "):\n",
    "    print(\n",
    "        \"Evaluating Logistic Regression Classifier model trained in previous cell...\"\n",
    "    )\n",
    "    evaluate_learning_models(\n",
    "        best_model=cross_validated_models.bestModel,\n",
    "        evaluators=get_evaluators(\n",
    "            cross_validated_models.bestModel, \n",
    "            label_col=CLASSIFICATION_LABEL_COL, \n",
    "            prediction_col=PREDICTION_COL, \n",
    "            evaluation_metrics=CLASSIFICATION_EVALUATION_METRICS\n",
    "        ),\n",
    "        save_training_result_path=\"./evaluation_results/attempt_2/classification/logistic_regression.json\"\n",
    "    )\n",
    "else:\n",
    "    print(\"Printing evaluation loaded from disk...\")\n",
    "    print_model_evaluation(\n",
    "        model_evaluation_path=\"./evaluation_results/attempt_2/classification/logistic_regression.json\"\n",
    "    )"
   ]
  },
  {
   "cell_type": "code",
   "execution_count": null,
   "metadata": {},
   "outputs": [],
   "source": [
    "if not model_exists(\n",
    "    TRAINED_MODELS_DIRS[\"Attempt 2\"][\"Classification\"][\"Logistic Regression\"]\n",
    "):\n",
    "    print(\"Saving Logistic Regression Classification model on disk...\")\n",
    "    cross_validated_models.bestModel.save(\n",
    "        \"./trained_models/attempt_2/classification/logistic_regression\"\n",
    "    )"
   ]
  },
  {
   "cell_type": "markdown",
   "metadata": {},
   "source": [
    "#### Decision Tree"
   ]
  },
  {
   "cell_type": "code",
   "execution_count": null,
   "metadata": {},
   "outputs": [],
   "source": [
    "from pyspark.ml.classification import DecisionTreeClassifier\n",
    "from pyspark.ml.classification import DecisionTreeClassificationModel\n",
    "\n",
    "PREDICTION_COL = \"attempt_2_classification_decision_tree_predictions\"\n",
    "\n",
    "if not model_exists(\n",
    "    TRAINED_MODELS_DIRS[\"Attempt 2\"][\"Classification\"][\"Decision Tree\"]\n",
    "):\n",
    "    print(\"Classification Decision Tree model NOT found in disk, training...\")\n",
    "    classification_evaluator_cv.setPredictionCol(PREDICTION_COL)\n",
    "    \n",
    "    estimator = DecisionTreeClassifier()\n",
    "\n",
    "    param_grid = (\n",
    "        ParamGridBuilder()\n",
    "        .addGrid(estimator.featuresCol, FEATURES_COL)\n",
    "        .addGrid(estimator.labelCol, [CLASSIFICATION_LABEL_COL])\n",
    "        .addGrid(estimator.predictionCol, [PREDICTION_COL])\n",
    "        # .addGrid(estimator.maxDepth, [5, 24])\n",
    "        # .addGrid(estimator.maxBins, [16, 32, 64])\n",
    "        # .addGrid(estimator.minInfoGain, [0, 0.1])\n",
    "        .build()\n",
    "    )\n",
    "\n",
    "    cross_validated_models = learn_best_model(\n",
    "        estimator=estimator,\n",
    "        param_grid=param_grid,\n",
    "        evaluator_cv=classification_evaluator_cv\n",
    "    )\n",
    "else:\n",
    "    print(\"Classification Decision Tree model found in disk, loading...\")\n",
    "    model = DecisionTreeClassificationModel.load(\n",
    "        TRAINED_MODELS_DIRS[\"Attempt 2\"][\"Classification\"][\"Decision Tree\"]\n",
    "    )\n",
    "    evaluators = get_evaluators(\n",
    "        model, \n",
    "        label_col=CLASSIFICATION_LABEL_COL, \n",
    "        prediction_col=PREDICTION_COL, \n",
    "        evaluation_metrics=CLASSIFICATION_EVALUATION_METRICS\n",
    "    )"
   ]
  },
  {
   "cell_type": "code",
   "execution_count": null,
   "metadata": {},
   "outputs": [],
   "source": [
    "if not model_exists(\n",
    "    TRAINED_MODELS_DIRS[\"Attempt 2\"][\"Classification\"][\"Decision Tree\"]\n",
    "):\n",
    "    print(\n",
    "        \"Evaluating Decision Tree model trained in previous cell...\"\n",
    "    )\n",
    "    evaluate_learning_models(\n",
    "        best_model=cross_validated_models.bestModel,\n",
    "        evaluators=get_evaluators(\n",
    "            cross_validated_models.bestModel, \n",
    "            label_col=CLASSIFICATION_LABEL_COL, \n",
    "            prediction_col=PREDICTION_COL, \n",
    "            evaluation_metrics=CLASSIFICATION_EVALUATION_METRICS\n",
    "        ),\n",
    "        save_training_result_path=\"./evaluation_results/attempt_2/classification/decision_tree.json\"\n",
    "    )\n",
    "else:\n",
    "    print(\"Printing evaluation loaded from disk...\")\n",
    "    print_model_evaluation(\n",
    "        model_evaluation_path=\"./evaluation_results/attempt_2/classification/decision_tree.json\"\n",
    "    )"
   ]
  },
  {
   "cell_type": "code",
   "execution_count": null,
   "metadata": {},
   "outputs": [],
   "source": [
    "if not model_exists(\n",
    "    TRAINED_MODELS_DIRS[\"Attempt 2\"][\"Classification\"][\"Decision Tree\"]\n",
    "):\n",
    "    print(\"Saving Decision Tree model on disk...\")\n",
    "    cross_validated_models.bestModel.save(\n",
    "        \"./trained_models/attempt_2/classification/decision_tree\"\n",
    "    )"
   ]
  },
  {
   "cell_type": "markdown",
   "metadata": {},
   "source": [
    "#### Random Forest"
   ]
  },
  {
   "cell_type": "code",
   "execution_count": null,
   "metadata": {},
   "outputs": [],
   "source": [
    "from pyspark.ml.classification import RandomForestClassifier\n",
    "from pyspark.ml.classification import RandomForestClassificationModel\n",
    "\n",
    "PREDICTION_COL = \"attempt_2_classification_random_forest_predictions\"\n",
    "\n",
    "if not model_exists(\n",
    "    TRAINED_MODELS_DIRS[\"Attempt 2\"][\"Classification\"][\"Random Forest\"]\n",
    "):\n",
    "    print(\"Classification Random Forest model NOT found in disk, training...\")\n",
    "    \n",
    "    classification_evaluator_cv.setPredictionCol(PREDICTION_COL)\n",
    "    \n",
    "    estimator = RandomForestClassifier()\n",
    "\n",
    "    param_grid = (\n",
    "        ParamGridBuilder()\n",
    "        .addGrid(estimator.featuresCol, FEATURES_COL)\n",
    "        .addGrid(estimator.labelCol, [CLASSIFICATION_LABEL_COL])\n",
    "        .addGrid(estimator.predictionCol, [PREDICTION_COL])\n",
    "        # .addGrid(estimator.maxDepth, [5, 24])\n",
    "        # .addGrid(estimator.maxBins, [32, 64])\n",
    "        # .addGrid(estimator.minInfoGain, [0, 0.1])\n",
    "        # .addGrid(estimator.subsamplingRate, [0.5, 1])\n",
    "        # .addGrid(estimator.lossType, [\"squared\", \"absolute\"])\n",
    "        # .addGrid(estimator.numTrees, [20, 40])\n",
    "        # .addGrid(estimator.featureSubsetStrategy, [\"auto\", \"onethird\", \"all\", \"log2\"])\n",
    "        .build()\n",
    "    )\n",
    "\n",
    "    cross_validated_models = learn_best_model(\n",
    "        estimator=estimator,\n",
    "        param_grid=param_grid,\n",
    "        evaluator_cv=classification_evaluator_cv\n",
    "    )\n",
    "else:\n",
    "    print(\"Classification Random Forest model found in disk, loading...\")\n",
    "    model = RandomForestClassificationModel.load(\n",
    "        TRAINED_MODELS_DIRS[\"Attempt 2\"][\"Classification\"][\"Random Forest\"]\n",
    "    )"
   ]
  },
  {
   "cell_type": "code",
   "execution_count": null,
   "metadata": {},
   "outputs": [],
   "source": [
    "if not model_exists(\n",
    "    TRAINED_MODELS_DIRS[\"Attempt 2\"][\"Classification\"][\"Random Forest\"]\n",
    "):\n",
    "    print(\n",
    "        \"Evaluating Random Forest model trained in previous cell...\"\n",
    "    )\n",
    "    evaluate_learning_models(\n",
    "        best_model=cross_validated_models.bestModel,\n",
    "        evaluators=get_evaluators(\n",
    "            cross_validated_models.bestModel, \n",
    "            label_col=CLASSIFICATION_LABEL_COL, \n",
    "            prediction_col=PREDICTION_COL, \n",
    "            evaluation_metrics=CLASSIFICATION_EVALUATION_METRICS\n",
    "        ),\n",
    "        save_training_result_path=\"./evaluation_results/attempt_2/classification/random_forest.json\"\n",
    "    )\n",
    "else:\n",
    "    print(\"Printing evaluation loaded from disk...\")\n",
    "    print_model_evaluation(\n",
    "        model_evaluation_path=\"./evaluation_results/attempt_2/classification/random_forest.json\"\n",
    "    )"
   ]
  },
  {
   "cell_type": "code",
   "execution_count": null,
   "metadata": {},
   "outputs": [],
   "source": [
    "if not model_exists(\n",
    "    TRAINED_MODELS_DIRS[\"Attempt 2\"][\"Classification\"][\"Random Forest\"]\n",
    "):\n",
    "    print(\"Saving Random Forest Classification model on disk...\")\n",
    "    cross_validated_models.bestModel.save(\n",
    "        \"./trained_models/attempt_2/classification/random_forest\"\n",
    "    )"
   ]
  },
  {
   "cell_type": "markdown",
   "metadata": {},
   "source": [
    "# Attempt 3: clustering"
   ]
  },
  {
   "cell_type": "code",
   "execution_count": 54,
   "metadata": {},
   "outputs": [],
   "source": [
    "from pyspark.ml.clustering import KMeans\n",
    "from pyspark.ml.linalg import DenseVector, Vectors, VectorUDT\n",
    "from pyspark.ml.evaluation import ClusteringEvaluator"
   ]
  },
  {
   "cell_type": "code",
   "execution_count": 55,
   "metadata": {},
   "outputs": [],
   "source": [
    "def k_means(\n",
    "    dataset,\n",
    "    n_clusters,\n",
    "    distance_measure=\"euclidean\",\n",
    "    max_iter=20,\n",
    "    features_col=\"features\",\n",
    "    prediction_col=\"cluster\",\n",
    "    verbose=False,\n",
    "    season=-1\n",
    "):\n",
    "\n",
    "    if verbose:\n",
    "        # print(\n",
    "        #     f\"\"\"Training K-means clustering using the following parameters: \n",
    "        #     - K (n. of clusters) = {n_clusters}\n",
    "        #     - max_iter (max n. of iterations) = {max_iter}\n",
    "        #     - distance measure = {distance_measure}\n",
    "        #     \"\"\"\n",
    "        # )\n",
    "        print(f\"season: {season}, number of clusters: {n_clusters}\")\n",
    "\n",
    "    # if distance_measure == \"cosine\":\n",
    "\n",
    "        # NOTE we already start from normalized/std data, so, NO need to do it\n",
    "\n",
    "        # Normalize inputs to unit-length vectors\n",
    "        # dataset = Normalizer(\n",
    "        #     inputCol=features_col, outputCol=features_col + \"_norm\", p=1\n",
    "        # ).transform(dataset)\n",
    "\n",
    "        # features_col = features_col + \"_norm\"\n",
    "\n",
    "    # Train a K-means model\n",
    "    kmeans = KMeans(\n",
    "        featuresCol=features_col,\n",
    "        predictionCol=prediction_col,\n",
    "        k=n_clusters,\n",
    "        initMode=\"k-means||\",\n",
    "        initSteps=5,\n",
    "        tol=0.000001,\n",
    "        maxIter=max_iter,\n",
    "        distanceMeasure=distance_measure,\n",
    "    )\n",
    "\n",
    "    model = kmeans.fit(dataset)\n",
    "    # here there are all the relevant clustering information\n",
    "\n",
    "    # Make clusters\n",
    "    clusters_df = model.transform(dataset)\n",
    "\n",
    "    return model, clusters_df\n",
    "\n",
    "\n",
    "def evaluate_k_means(\n",
    "    clusters,\n",
    "    metric_name=\"silhouette\",\n",
    "    distance_measure=\"squaredEuclidean\",  # cosine\n",
    "    prediction_col=\"cluster\",\n",
    "    featuresCol = \"features\"\n",
    "):\n",
    "\n",
    "    # Evaluate clustering by computing Silhouette score\n",
    "    evaluator = ClusteringEvaluator(\n",
    "        metricName=metric_name,\n",
    "        distanceMeasure=distance_measure,\n",
    "        predictionCol=prediction_col,\n",
    "        featuresCol=featuresCol\n",
    "    )\n",
    "\n",
    "    return evaluator.evaluate(clusters)\n",
    "\n",
    "\n",
    "def do_clustering(\n",
    "    k_range, \n",
    "    input_df, \n",
    "    max_iter,\n",
    "    featuresCol,\n",
    "    clusterCol,\n",
    "    verbose=False,\n",
    "    season=-1\n",
    "):\n",
    "    clustering_results = {}\n",
    "\n",
    "    clusters_df = input_df\n",
    "\n",
    "    # for k in tqdm( range(5, max_k_clusters + 1, 5), desc = \"Performing clustering\" ):\n",
    "    # for k in tqdm(range(2, max_k_clusters + 1, 4), desc=\"Performing clustering\"):\n",
    "    for k in k_range:\n",
    "        if verbose:\n",
    "            print(f\"Running K-means using K = {k}\")\n",
    "\n",
    "        # model, clusters_df = k_means(tf_idf_df, k, max_iter=50, distance_measure=\"cosine\") # Alternatively, distance_measure=\"euclidean\"\n",
    "        # model, clusters_df = k_means(input_df, k, max_iter=max_iter, distance_measure=\"cosine\") # Alternatively, distance_measure=\"euclidean\"\n",
    "        model, clusters_df = k_means(\n",
    "            # input_df,\n",
    "            clusters_df, \n",
    "            k, \n",
    "            max_iter=max_iter, \n",
    "            distance_measure=\"cosine\", \n",
    "            features_col=featuresCol,\n",
    "            prediction_col=clusterCol + \"_k_\" + str(k),\n",
    "            verbose=True,\n",
    "            season=season\n",
    "        )  # Alternatively, distance_measure=\"euclidean\"\n",
    "        # silhouette_k = evaluate_k_means(clusters_df, distance_measure=\"cosine\") # Alternatively, distance_measure=\"squaredEuclidean\"\n",
    "        silhouette_k = evaluate_k_means(\n",
    "            clusters_df, \n",
    "            distance_measure=\"cosine\",\n",
    "            prediction_col=clusterCol + \"_k_\" + str(k),\n",
    "            featuresCol=featuresCol\n",
    "\n",
    "        )  # Alternatively, distance_measure=\"squaredEuclidean\"\n",
    "        wssd_k = model.summary.trainingCost\n",
    "        # wssd_k = model.summary\n",
    "\n",
    "        if verbose:\n",
    "\n",
    "            print(\n",
    "                \"Silhouette coefficient computed with cosine distance: {:.3f}\".format(\n",
    "                    silhouette_k\n",
    "                )\n",
    "            )\n",
    "            print(\n",
    "                \"Within-cluster Sum of Squared Distances (using cosine distance): {:.3f}\".format(\n",
    "                    wssd_k\n",
    "                )\n",
    "            )\n",
    "            print(\n",
    "                \"--------------------------------------------------------------------------------------\"\n",
    "            )\n",
    "\n",
    "        l = list(\n",
    "            enumerate(\n",
    "                model.clusterCenters()\n",
    "            )\n",
    "        )\n",
    "        l = [(ind, DenseVector(c)) for ind, c in l]\n",
    "        # print(l)\n",
    "        schema = [\"cluster_id\"  + \"_k_\" + str(k), \"centroid\"  + \"_k_\" + str(k)]\n",
    "\n",
    "        schema = StructType([ \n",
    "            StructField(\"cluster_id\" + \"_k_\" + str(k),IntegerType(),True), \n",
    "            StructField(\"centroid\" + \"_k_\" + str(k),VectorUDT(),True), \n",
    "        ])\n",
    "        centr_df = spark.createDataFrame(data=l, schema=schema)\n",
    "\n",
    "        # centr_df.show()\n",
    "\n",
    "        # df_with_centroids = clusters_df.join(\n",
    "        #     centr_df, on=[\"cluster_id\"]\n",
    "        # )\n",
    "\n",
    "        clusters_df = clusters_df.join(\n",
    "            centr_df, on=[\"cluster_id\" + \"_k_\" + str(k)]\n",
    "        )\n",
    "\n",
    "\n",
    "\n",
    "        clustering_results[str(k)] = {\n",
    "            \"silhouette_k\"      : silhouette_k,\n",
    "            \"wssd_k\"            : wssd_k,\n",
    "            # \"model\"             : model,\n",
    "            # \"df\"                : clusters_df,\n",
    "            # \"cluster_centroids\" : model.clusterCenters(),\n",
    "            # \"centr_df\" : centr_df,\n",
    "            # \"df_with_centroids\" : df_with_centroids\n",
    "        }\n",
    "\n",
    "        \n",
    "        \n",
    "\n",
    "        # Free up memory space at the end of each iteration\n",
    "        # del model\n",
    "        # del clusters_df\n",
    "        # gc.collect() # garbage collector\n",
    "    \n",
    "    # clustering_results[\"df_with_centroid_full\"] = clusters_df\n",
    "\n",
    "    return clustering_results, clusters_df\n",
    "\n",
    "\n",
    "def plot_clustering_results(\n",
    "    clustering_results, k_range, plot_title\n",
    "):\n",
    "\n",
    "    k_col = [str(x) for x in k_range]\n",
    "    wssd_col = [\n",
    "        clustering_results[k][\"wssd_k\"] for k in k_col \n",
    "    ]\n",
    "    silhouette_col = [\n",
    "        clustering_results[k][\"silhouette_k\"] for k in k_col \n",
    "    ]\n",
    "\n",
    "    plot_df_temp = pd.DataFrame([k_col, wssd_col, silhouette_col]).transpose()\n",
    "    plot_df_temp.columns = [\"K\", \"WSSD\", \"Silhouette\"]\n",
    "\n",
    "    fig, ax = plt.subplots(1, 1, figsize=(8, 6))\n",
    "\n",
    "    _ = sns.pointplot(\n",
    "        data=plot_df_temp, x=\"K\", y=\"WSSD\", ax=ax, color=\"navy\"\n",
    "    )\n",
    "    _ = ax.set_xlabel(\"Number of clusters\")\n",
    "    _ = ax.set_ylabel(\"WSSD (lower is better)\")\n",
    "    _ = ax.set_title(plot_title)\n"
   ]
  },
  {
   "cell_type": "code",
   "execution_count": 56,
   "metadata": {},
   "outputs": [],
   "source": [
    "import copy\n",
    "from pyspark.ml.feature import VectorAssembler\n",
    "\n",
    "CLUSTERING_FEATURES = copy.deepcopy(PLAYER_FEATURES)\n",
    "CLUSTERING_FEATURES.remove(\"value\")\n",
    "CLUSTERING_FEATURES.remove(\"overall\")\n",
    "\n",
    "assembler = VectorAssembler(\n",
    "    inputCols=CLUSTERING_FEATURES,\n",
    "    outputCol=\"clustering_features_vec\"\n",
    ")\n",
    "\n",
    "pre_processed_df = assembler.transform(pre_processed_df)"
   ]
  },
  {
   "cell_type": "code",
   "execution_count": 57,
   "metadata": {},
   "outputs": [
    {
     "name": "stderr",
     "output_type": "stream",
     "text": [
      "                                                                                \r"
     ]
    }
   ],
   "source": [
    "from pyspark.ml.feature import MinMaxScaler\n",
    "\n",
    "scaler = MinMaxScaler(\n",
    "    inputCol=\"clustering_features_vec\",\n",
    "    outputCol=\"clustering_features_vec_min_max\"    \n",
    ")\n",
    "\n",
    "pre_processed_df = scaler.fit(pre_processed_df).transform(pre_processed_df)"
   ]
  },
  {
   "cell_type": "code",
   "execution_count": 58,
   "metadata": {},
   "outputs": [],
   "source": [
    "df_dict = {\n",
    "    s: pre_processed_df.filter(col(\"season\") == s) for s in seasons\n",
    "}"
   ]
  },
  {
   "cell_type": "code",
   "execution_count": 59,
   "metadata": {},
   "outputs": [],
   "source": [
    "CLUSTERING_DF_PATH = \"./trained_models/clustering_df.parquet\"\n",
    "CLUSTERING_EVAL_PATH = \"./evaluation_results/attempt_3/clustering/clustering_eval.json\""
   ]
  },
  {
   "cell_type": "code",
   "execution_count": 60,
   "metadata": {},
   "outputs": [
    {
     "name": "stdout",
     "output_type": "stream",
     "text": [
      "clustering already done, data will be loaded from disk in the next cells\n"
     ]
    }
   ],
   "source": [
    "if not os.path.isdir(CLUSTERING_DF_PATH):\n",
    "    print(\"clustering NOT in disk, training...\")\n",
    "    clustering_results_dict = dict()\n",
    "    clustering_results_df = dict()\n",
    "\n",
    "    for s in seasons:\n",
    "        print(f\"Season: {s}\")\n",
    "        clustering_results_dict[s], clustering_results_df[s] = do_clustering(\n",
    "            k_range=k_range, \n",
    "            input_df=df_dict[s], \n",
    "            max_iter=MAX_ITER,\n",
    "            featuresCol=\"clustering_features_vec_min_max\",\n",
    "            clusterCol=\"cluster_id\",\n",
    "            verbose=False,\n",
    "            season=s\n",
    "        )\n",
    "else:\n",
    "    print(\n",
    "        \"clustering already done, data will be loaded from disk in the next cells\"\n",
    "    )\n"
   ]
  },
  {
   "cell_type": "code",
   "execution_count": 61,
   "metadata": {},
   "outputs": [
    {
     "name": "stdout",
     "output_type": "stream",
     "text": [
      "clustering data found on disk, will be loaded in next cells...\n"
     ]
    }
   ],
   "source": [
    "if not os.path.isdir(CLUSTERING_DF_PATH):\n",
    "\n",
    "    pre_processed_df = reduce(\n",
    "        DataFrame.unionAll, \n",
    "        [\n",
    "            clustering_results_df[s] for s in seasons\n",
    "        ]\n",
    "    )\n",
    "\n",
    "    print(\"saving clustering data on disk...\")\n",
    "    pre_processed_df.write.parquet(CLUSTERING_DF_PATH)\n",
    "\n",
    "else:\n",
    "    print(\"clustering data found on disk, will be loaded in next cells...\")"
   ]
  },
  {
   "cell_type": "markdown",
   "metadata": {},
   "source": [
    "## Clustering evaluation"
   ]
  },
  {
   "cell_type": "markdown",
   "metadata": {},
   "source": [
    "### Evalutating single seasons"
   ]
  },
  {
   "cell_type": "code",
   "execution_count": 62,
   "metadata": {},
   "outputs": [
    {
     "name": "stdout",
     "output_type": "stream",
     "text": [
      "clustering evaluation found on disk, loading...\n"
     ]
    }
   ],
   "source": [
    "if os.path.isfile(CLUSTERING_EVAL_PATH):\n",
    "\n",
    "    print(\"clustering evaluation found on disk, loading...\")\n",
    "    \n",
    "    with open(CLUSTERING_EVAL_PATH) as json_file:\n",
    "        clustering_results_dict = json.load(json_file)\n",
    "\n",
    "else:\n",
    "\n",
    "    print(\"clustering evaluation NOT in disk, exporting...\")\n",
    "\n",
    "    import json\n",
    "    with open(CLUSTERING_EVAL_PATH, 'w') as fp:\n",
    "        json.dump(clustering_results_dict, fp)"
   ]
  },
  {
   "cell_type": "code",
   "execution_count": null,
   "metadata": {},
   "outputs": [],
   "source": [
    "for s in seasons:\n",
    "    plot_clustering_results(\n",
    "        clustering_results_dict[s], \n",
    "        k_range=K_RANGE, \n",
    "        plot_title=f\"Elbow method evaluation for season {s}\"\n",
    "    )"
   ]
  },
  {
   "cell_type": "markdown",
   "metadata": {},
   "source": [
    "### Evaluating seasons all together"
   ]
  },
  {
   "cell_type": "code",
   "execution_count": 63,
   "metadata": {},
   "outputs": [],
   "source": [
    "clustering_results_dict[\"avg\"] = dict.fromkeys(K_RANGE)\n",
    "\n",
    "for k in clustering_results_dict[\"avg\"].keys():\n",
    "    clustering_results_dict[\"avg\"][k] = {\n",
    "        \"wssd_k\": 0,\n",
    "        \"silhouette_k\": 0\n",
    "    }\n",
    "\n",
    "sum_wssd = dict.fromkeys(K_RANGE, 0)\n",
    "sum_silhouette = dict.fromkeys(K_RANGE, 0)\n",
    "\n",
    "for s in seasons:\n",
    "    for k in K_RANGE:\n",
    "        sum_wssd[k] += clustering_results_dict[s][k][\"wssd_k\"]\n",
    "        sum_silhouette[k] += clustering_results_dict[s][k][\"silhouette_k\"]\n",
    "    \n",
    "avg_wssd = dict()\n",
    "avg_silhouette = dict()\n",
    "\n",
    "for k in K_RANGE:\n",
    "    avg_wssd[k] = sum_wssd[k] / len(k_range)\n",
    "    avg_silhouette[k] = sum_silhouette[k] / len(k_range)\n",
    "\n",
    "    clustering_results_dict[\"avg\"][k][\"wssd_k\"] = avg_wssd[k]\n",
    "    clustering_results_dict[\"avg\"][k][\"silhouette_k\"] = avg_silhouette[k]"
   ]
  },
  {
   "cell_type": "code",
   "execution_count": 64,
   "metadata": {},
   "outputs": [
    {
     "data": {
      "application/vnd.jupyter.widget-view+json": {
       "model_id": "ebe46ad9a0f14ebea9e954a76496e579",
       "version_major": 2,
       "version_minor": 0
      },
      "image/png": "[encoded data removed]",
      "text/html": [
       "\n",
       "            <div style=\"display: inline-block;\">\n",
       "                <div class=\"jupyter-widgets widget-label\" style=\"text-align: center;\">\n",
       "                    Figure\n",
       "                </div>\n",
       "                <img src='data:image/png;base64,iVBORw0KGgoAAAANSUhEUgAAAyAAAAJYCAYAAACadoJwAAAAOXRFWHRTb2Z0d2FyZQBNYXRwbG90bGliIHZlcnNpb24zLjUuMSwgaHR0cHM6Ly9tYXRwbG90bGliLm9yZy/YYfK9AAAACXBIWXMAAA9hAAAPYQGoP6dpAACBP0lEQVR4nO3dd3gU5d7G8XvTQ3pCCD0k9C5F6R0BC4KioKBUK4ggoEes2EGPBxt2D1YUUeFgQVA6CEgHETC00DtpBFKf9w/erGwKCSTZSTbfz3XtBVN29re7MzD3PvM8YzPGGAEAAACAE7hZXQAAAACAsoMAAgAAAMBpCCAAAAAAnIYAAgAAAMBpCCAAAAAAnIYAAgAAAMBpCCAAAAAAnIYAAgAAAMBpCCAAAAAAnIYAAgAAAMBpCCAAAAAAnIYAAgAAAMBpCCAAAAAAnIYAAgAAAMBpCCAAAAAAnIYAAgAAAMBpCCAAAAAAnIYAAgAAAMBpCCAAAAAAnIYAAgAAAMBpCCAAAAAAnIYAAgAAAMBpCCAAAAAAnIYAAgAAAMBpCCAAAAAAnIYAAgAAAMBpCCAAAAAAnIYAAgAAAMBpCCAAAAAAnIYAAgAAAMBpCCAAAAAAnIYAAgAAAMBpCCAAAAAAnIYAAgAAAMBpCCAAAAAAnIYAAgAAAMBpCCAAAAAAnIYAAgAAAMBpCCAAAAAAnIYAAgAAAMBpCCAAAAAAnIYAAgAAAMBpCCAAAAAAnIYAAgAAAMBpCCAAAAAAnIYAAgAAAMBpCCAAAAAAnIYAAgAAAMBpCCAAAAAAnIYAAjiBzWbTpEmT7NOTJk2SzWbTyZMnrSuqhLPZbHrwwQeL/XU++eQT2Ww27du3r9hf60osWbJENptNS5YsseT1s/ZVuKaYmBj16NFDQUFBstlsmjNnTqG3mf3fu5J+jAFwPgIIcIWy/lPN67F69WqrSyzxfv/9d02aNElxcXFWl1KmJScna9KkSZaFHFhnyJAh2rp1q1588UV9/vnnatmypdUlASgDPKwuACjtnnvuOUVFReWYX6tWLQuqKV1+//13Pfvssxo6dKiCg4OtLqfMSk5O1rPPPitJ6ty5s8OyJ598Uo899pgFVaG4nTt3TqtWrdITTzzhlNZGAMhCAAEK6brrruNXQ7gsDw8PeXjwX0Vuzp49Kz8/P6vLuGInTpyQJMI/AKfjEizAQidPnlT//v0VGBiosLAwjRkzRufPn3dYJz09Xc8//7xq1qwpb29v1ahRQ48//rhSUlLs64wbN05hYWEyxtjnjR49WjabTW+++aZ93rFjx2Sz2fTuu+9esq6s/hezZs1SgwYN5OvrqzZt2mjr1q2SpPfff1+1atWSj4+POnfunOu13WvWrFGvXr0UFBSkcuXKqVOnTlq5cqV9+aRJk/TII49IkqKiouyXrmXf1pw5c9SoUSN5e3urYcOG+uWXX3K81saNG3XdddcpMDBQ/v7+6tatW66XwG3btk1du3aVr6+vqlatqhdeeEGZmZmX/CwutmPHDt16660KDQ2Vj4+PWrZsqblz59qXr1u3TjabTZ9++mmO586fP182m00//vijJCk2NlYjR45U3bp15evrq7CwMN12220Fuk6+Ro0aGjp0aI75nTt3dmjBSE1N1dNPP60WLVooKChIfn5+6tChgxYvXmxfZ9++fQoPD5ckPfvss/bvIesa/tz6gBRkn8yq88Ybb9SKFSt0zTXXyMfHR9HR0frss8/yfY95Wb58uW677TZVr15d3t7eqlatmh5++GGdO3fOvs6///1v2Ww2xcbG5nj+xIkT5eXlpTNnztjn5bevXvw5/PXXXxo4cKBCQkLUvn17SdKWLVs0dOhQRUdHy8fHRxUrVtTw4cN16tSpHK+/ZMkStWzZUj4+PqpZs6bef//9PPvZfPHFF2rRooV8fX0VGhqq22+/XQcOHCjQ55TfMTFp0iRFRkZKkh555BHZbDbVqFEjz+0VZF8qrKNHj2rYsGGqWrWqvL29ValSJfXp0yfHMTFv3jx16NBBfn5+CggI0A033KBt27Y5rFPQ7yQxMVFjx45VjRo15O3trQoVKujaa6/Vhg0bHNabNWuW/bsoX7687rzzTh06dMhhnaFDh8rf31+HDh1S37595e/vr/DwcE2YMEEZGRkO63799ddq0aKFAgICFBgYqMaNG+uNN94o5CcIlCIGwBWZPn26kWR+++03c+LECYfHyZMnHdaVZJ555hn79DPPPGMkmcaNG5vevXubt99+29x5551GkrnrrrscnjtkyBAjydx6661m2rRpZvDgwUaS6du3r32d77//3kgyW7dutc9r2rSpcXNzM7feeqt93qxZs4wk8+eff17yvUkyTZo0MdWqVTOTJ082kydPNkFBQaZ69erm7bffNg0aNDCvvfaaefLJJ42Xl5fp0qWLw/MXLlxovLy8TJs2bcxrr71mpk6dapo0aWK8vLzMmjVrjDHGbN682dxxxx1Gkpk6dar5/PPPzeeff26SkpLsNTRt2tRUqlTJPP/88+b111830dHRply5cg6f759//mn8/Pzs602ePNlERUUZb29vs3r1avt6R44cMeHh4SYkJMRMmjTJvPrqq6Z27dqmSZMmRpLZu3fvJT+TP//80wQFBZkGDRqYKVOmmLffftt07NjR2Gw28/3339vXi46ONtdff32O5w8bNsyEhISY1NRU+3fRtGlT8/TTT5sPPvjAPP744yYkJMRERkaas2fP2p+3ePFiI8ksXrzYPi8yMtIMGTIkx2t06tTJdOrUyT594sQJU6lSJTNu3Djz7rvvmldeecXUrVvXeHp6mo0bNxpjjElKSjLvvvuukWRuvvlm+/ewefNmY8w/++rFCrJPZtVZt25dExERYR5//HHz9ttvm+bNmxubzZbvPpiX0aNHm+uvv9689NJL5v333zcjRoww7u7uDvt5bGyssdls5pVXXsnx/OjoaHPDDTfYpwuyr178OTRo0MD06dPHvPPOO2batGnGGGP+/e9/mw4dOpjnnnvOfPDBB2bMmDHG19fXXHPNNSYzM9O+jQ0bNhhvb29To0YNM3nyZPPiiy+aypUrm6ZNm+b4jF944QVjs9nMgAEDzDvvvGOeffZZU758eVOjRg1z5syZS35GBTkmNm/ebKZOnWokmTvuuMN8/vnnZvbs2XlusyD7Upbs/95l/VuZ3zHWtm1bExQUZJ588knz0UcfmZdeesl06dLFLF261L7OZ599Zmw2m+nVq5d56623zJQpU0yNGjVMcHCww/YL+p0MHDjQeHl5mXHjxpmPPvrITJkyxfTu3dt88cUXOeq/+uqrzdSpU81jjz1mfH19c3wXQ4YMMT4+PqZhw4Zm+PDh5t133zX9+vUzksw777xjX2/BggVGkunWrZuZNm2amTZtmnnwwQfNbbfddsnPB3AlBBDgCmX9p5Tbw9vb22HdvALITTfd5LDeyJEjjST7yd+mTZuMJHP33Xc7rDdhwgQjySxatMgYY8zx48cd/pOLi4szbm5u5rbbbjMRERH25z300EMmNDTU4T/g3GS9h4v/Q3///feNJFOxYkWTkJBgnz9x4kSHk4vMzExTu3Zt07NnT4fXSU5ONlFRUebaa6+1z3v11VfzPDGRZLy8vMyuXbvs8zZv3mwkmbfeess+r2/fvsbLy8vs3r3bPu/w4cMmICDAdOzY0T5v7NixRpLDSeXx48dNUFBQgU6OunXrZho3bmzOnz9vn5eZmWnatm1rateu7fB5eHp6mtOnT9vnpaSkmODgYDN8+HCHzyO7VatWGUnms88+s88rTABJT083KSkpDuucOXPGREREONRy4sSJHPtoluwBpKD7ZFadksyyZcvs844fP268vb3N+PHjc7xWQeT2ub388svGZrOZ2NhY+7w2bdqYFi1aOKz3xx9/OHy+l7OvZn0Od9xxR4Fq+uqrr3K89969e5ty5cqZQ4cO2efFxMQYDw8Ph8943759xt3d3bz44osO29y6davx8PDIMT+7gh4Te/fuNZLMq6++esntGVPwfcmYKwsgZ86cybeWxMREExwcbO655x6H+UePHjVBQUEO8wv6nQQFBZlRo0bl+ZqpqammQoUKplGjRubcuXP2+T/++KORZJ5++mn7vKxg/txzzzlso1mzZg774pgxY0xgYKBJT0/P83UBV8clWEAhTZs2Tb/++qvDY968eQV67qhRoxymR48eLUn6+eefHf4cN26cw3rjx4+XJP3000+SpPDwcNWrV0/Lli2TJK1cuVLu7u565JFHdOzYMcXExEi6cPlK+/btCzSsardu3RwuyWjVqpUkqV+/fgoICMgxf8+ePZKkTZs2KSYmRgMHDtSpU6d08uRJnTx5UmfPnlW3bt20bNmyAl/21L17d9WsWdM+3aRJEwUGBtpfKyMjQwsWLFDfvn0VHR1tX69SpUoaOHCgVqxYoYSEBEkXPsvWrVvrmmuusa8XHh6uQYMG5VvH6dOntWjRIvXv31+JiYn293Tq1Cn17NlTMTEx9ssxBgwYoLS0NH3//ff25y9YsEBxcXEaMGCAfZ6vr6/972lpaTp16pRq1aql4ODgHJd/XCl3d3d5eXlJkjIzM3X69Gmlp6erZcuWV/waBd0nszRo0EAdOnSwT4eHh6tu3br27/ByXfy5nT17VidPnlTbtm1ljNHGjRvtywYMGKD169dr9+7d9nkzZ86Ut7e3+vTpI+nK9tX777//kjWdP39eJ0+eVOvWrSXJ/jlnZGTot99+U9++fVW5cmX7+rVq1dJ1113nsL3vv/9emZmZ6t+/v72mkydPqmLFiqpdu/YlL3u6nGPichTHvnQxX19feXl5acmSJQ6Xx13s119/VVxcnO644w6Hz8Xd3V2tWrVy+FwK8p1IF/q/rFmzRocPH871NdetW6fjx49r5MiR8vHxsc+/4YYbVK9evRz7u5RzH+nQoYPD/h4cHKyzZ8/q119/vdRHArg0ehYChXTNNddccSf02rVrO0zXrFlTbm5u9mueY2Nj5ebmlmNErYoVKyo4ONjhGvcOHTrYTw6XL1+uli1bqmXLlgoNDdXy5csVERGhzZs3a+DAgQWqrXr16g7TQUFBkqRq1arlOj/rpCEr7AwZMiTPbcfHxyskJOSya5CkkJAQ+2udOHFCycnJqlu3bo716tevr8zMTB04cEANGzZUbGysPSxdLLfnZrdr1y4ZY/TUU0/pqaeeynWd48ePq0qVKmratKnq1aunmTNnasSIEZIunPiWL19eXbt2ta9/7tw5vfzyy5o+fboOHTrk0H8nPj4+35oK6tNPP9Vrr72mHTt2KC0tzT4/t5HbCuJy9kkp/+/wcu3fv19PP/205s6dm2MbF39ut912m8aNG6eZM2fq8ccflzFGs2bNsveLkK5sX83tczt9+rSeffZZff311zp+/HiuNR0/flznzp3LdXS87PNiYmJkjMnx70MWT0/PPOu9nGPichX1vnQxb29vTZkyRePHj1dERIRat26tG2+8UYMHD1bFihUl/fN9XXwcXSzre5UK9p1I0iuvvKIhQ4aoWrVqatGiha6//noNHjzYHt6y9ufcPs969eppxYoVDvN8fHzsfaqyZN/fR44cqW+++UbXXXedqlSpoh49eqh///7q1avXpT8kwIUQQIASJK+WiYK0WLRv314ffvih9uzZo+XLl6tDhw6y2Wxq3769li9frsqVKyszM9Ph1+hLcXd3v6z5WSfQWb8Yv/rqq7rqqqtyXdff379QNVx8su4MWe9pwoQJ6tmzZ67rXHwSOWDAAL344os6efKkAgICNHfuXN1xxx0Oo0mNHj1a06dP19ixY9WmTRv7jeBuv/32fFuI8tofMjIyHD6zL774QkOHDlXfvn31yCOPqEKFCnJ3d9fLL7/s0DJwJQp6c8Ki/A4zMjJ07bXX6vTp0/rXv/6levXqyc/PT4cOHdLQoUMdPrfKlSurQ4cO+uabb/T4449r9erV2r9/v6ZMmWJf50r21Yt/Wc/Sv39//f7773rkkUd01VVXyd/fX5mZmerVq9dlDXJwcV02m03z5s3L9fMr6PFTlIpzX8oyduxY9e7dW3PmzNH8+fP11FNP6eWXX9aiRYvUrFkz+2f5+eef20PJxS4+vgr6nfTv318dOnTQ7NmztWDBAr366quaMmWKvv/++xwtUwWR1/5+sQoVKmjTpk2aP3++5s2bp3nz5mn69OkaPHhwrgNYAK6IAAJYKCYmxuHXw127dikzM9N+6VNkZKQyMzMVExOj+vXr29c7duyY4uLi7KPYSLIHi19//VVr166137uhY8eOevfdd1W5cmX5+fmpRYsWxfqesi6ZCgwMVPfu3S+5bmHvsB0eHq5y5cpp586dOZbt2LFDbm5u9habyMhI+y+oF8vtudll/Rrq6emZ73uSLgSQZ599Vt99950iIiKUkJCg22+/3WGdb7/9VkOGDNFrr71mn3f+/PkC3ZQxJCQk1/ViY2MdLrv59ttvFR0dre+//97hs37mmWccnnc538Pl7JNFbevWrfr777/16aefavDgwfb5eV3KMmDAAI0cOVI7d+7UzJkzVa5cOfXu3du+/HL21bycOXNGCxcu1LPPPqunn37aPj/7vlahQgX5+Pho165dObaRfV7NmjVljFFUVJTq1KlzWfVczjFxOQq6LxVWzZo1NX78eI0fP14xMTG66qqr9Nprr+mLL76wf18VKlS45PdV0O8kS6VKlTRy5EiNHDlSx48fV/PmzfXiiy/quuuus+/PO3fuzNHysnPnzive3728vNS7d2/17t1bmZmZGjlypN5//3099dRT3EMKZQJ9QAALTZs2zWH6rbfekiT7L2/XX3+9JOn11193WO8///mPpAvXIWeJiopSlSpVNHXqVKWlpaldu3aSLgST3bt369tvv1Xr1q2L/Z4OLVq0UM2aNfXvf/9bSUlJOZZn3XtAkv0eCld6J3R3d3f16NFD//vf/xyG6jx27JhmzJih9u3b2y/LuP7667V69Wr98ccfDrV8+eWX+b5OhQoV1LlzZ73//vs6cuTIJd+TdOFSl8aNG2vmzJmaOXOmKlWqpI4dO+aoPXsrwFtvvZVjuM7c1KxZU6tXr1Zqaqp93o8//phjiNasX2Mvfp01a9Zo1apVDuuVK1dOUsG+h8vZJ4tabu/HGJPn8KX9+vWTu7u7vvrqK82aNUs33nijw307LmdfvZyapJyfj7u7u7p37645c+Y49DfYtWtXjj5jt9xyi9zd3fXss8/m2K4xJtfhfS9+nYIeE5ejoPvSlUpOTs4xBHnNmjUVEBBgH965Z8+eCgwM1EsvveRwCViWrO+roN9JRkZGjssdK1SooMqVK9tfs2XLlqpQoYLee+89h2Gm582bp+3bt1/R/p79+3Nzc1OTJk0kKcdQ1oCrogUEKKR58+Zpx44dOea3bdvW4dfo3Ozdu1c33XSTevXqpVWrVumLL77QwIED1bRpU0lS06ZNNWTIEH3wwQeKi4tTp06d9Mcff+jTTz9V37591aVLF4ftdejQQV9//bUaN25sv269efPm8vPz099//13g/h+F4ebmpo8++kjXXXedGjZsqGHDhqlKlSo6dOiQFi9erMDAQP3www+SZG+NeeKJJ3T77bfL09NTvXv3vqybu73wwgv69ddf1b59e40cOVIeHh56//33lZKSoldeecW+3qOPPqrPP/9cvXr10pgxY+Tn56cPPvhAkZGR2rJlS76vM23aNLVv316NGzfWPffco+joaB07dkyrVq3SwYMHtXnzZof1BwwYoKefflo+Pj4aMWKE3Nwcf++58cYb9fnnnysoKEgNGjTQqlWr9NtvvyksLCzfWu6++259++236tWrl/r376/du3c7/EJ88Wt8//33uvnmm3XDDTdo7969eu+999SgQQOHE25fX181aNBAM2fOVJ06dRQaGqpGjRqpUaNGOV77cvfJgspq9bvUfVDq1aunmjVrasKECTp06JACAwP13Xff5dmfpEKFCurSpYv+85//KDEx0WEQAOny9tW8BAYGqmPHjnrllVeUlpamKlWqaMGCBdq7d2+OdSdNmqQFCxaoXbt2euCBB5SRkaG3335bjRo10qZNm+zr1axZUy+88IImTpyoffv2qW/fvgoICNDevXs1e/Zs3XvvvZowYUKeNRX0mLgcBd2XrtTff/+tbt26qX///mrQoIE8PDw0e/ZsHTt2zN56GBgYqHfffVd33XWXmjdvrttvv13h4eHav3+/fvrpJ7Vr105vv/12gb+TxMREVa1aVbfeequaNm0qf39//fbbb1q7dq29ZdLT01NTpkzRsGHD1KlTJ91xxx06duyY3njjDdWoUUMPP/zwZb/Xu+++W6dPn1bXrl1VtWpVxcbG6q233tJVV13l0KoIuDRnD7sFuIpLDcMryUyfPt2+rvIYhvevv/4yt956qwkICDAhISHmwQcfdBjq0Rhj0tLSzLPPPmuioqKMp6enqVatmpk4caLDcLBZpk2bZiSZBx54wGF+9+7djSSzcOHCAr03STmGpsxryM6sYWJnzZrlMH/jxo3mlltuMWFhYcbb29tERkaa/v3756jh+eefN1WqVDFubm4OQ3XmVoMxuQ9Bu2HDBtOzZ0/j7+9vypUrZ7p06WJ+//33HM/dsmWL6dSpk/Hx8TFVqlQxzz//vPn4448LNAyvMcbs3r3bDB482FSsWNF4enqaKlWqmBtvvNF8++23OdaNiYmx7wsrVqzIsfzMmTNm2LBhpnz58sbf39/07NnT7NixI8f7y20YXmOMee2110yVKlWMt7e3adeunVm3bl2OYXgzMzPNSy+9ZCIjI423t7dp1qyZ+fHHH82QIUNMZGSkw/Z+//1306JFC+Pl5eWwv+Z2H5CC7pORkZEO99zIkr1OY4wpX768ad26dY51s/vrr79M9+7djb+/vylfvry555577MMzX3zMZfnwww+NJBMQEJDj2MpSkH0163M4ceJEjucfPHjQ3HzzzSY4ONgEBQWZ2267zRw+fDjXoY0XLlxomjVrZry8vEzNmjXNRx99ZMaPH298fHxybPe7774z7du3N35+fsbPz8/Uq1fPjBo1yuzcuTPfz6kgx8TlDMN7OftS9vddkGF4T548aUaNGmXq1atn/Pz8TFBQkGnVqpX55ptvcqy7ePFi07NnTxMUFGR8fHxMzZo1zdChQ826devs6xTkO0lJSTGPPPKIadq0qQkICDB+fn6madOmDvfsyDJz5kzTrFkz4+3tbUJDQ82gQYPMwYMHHdYZMmSI8fPzy/Hc7MfQt99+a3r06GEqVKhgvLy8TPXq1c19991njhw5kufnA7gamzFO7s0JAMBF/vrrLzVs2FA//vhjsV7CVVL17dtX27Zty7OPAgC4GvqAAAAstXjxYrVp06ZMhI9z5845TMfExOjnn39W586drSkIACxACwgAAE5SqVIlDR06VNHR0YqNjdW7776rlJQUbdy4Mc/7fgCAq6ETOgAATtKrVy999dVXOnr0qLy9vdWmTRu99NJLhA8AZQotIAAAAACchj4gAAAAAJyGAAIAAADAaegDUoJkZmbq8OHDCggIkM1ms7ocAAAAZGOMUWJioipXrpzjJrMoGAJICXL48GFVq1bN6jIAAACQjwMHDqhq1apWl1EqEUBKkICAAEkXdujAwECLqwEAAEB2CQkJqlatmv28DZePAFKCZF12FRgYSAABAAAowbhc/spx4RoAAAAApyGAAAAAAHAaAggAAAAApyGAAAAAAHAaAggAAAAApyGAAAAAAHAaAggAAAAApyGAAAAAAHAaAggAAAAApyGAAAAAAHAaAggAAAAApyGAuKikpFQdPZqklJR0q0sBAAAA7DysLgBFJyMjUzNnbtO0aWv1++8HJEmenm7q27eexoxppXbtqltcIQAAAMo6WkBcxPnz6erbd6YGDfreHj4kKS0tU7Nm/aX27afrhReWWVghAAAAQABxGfff/6N+/PHvS67z1FOL9cknm5xTEAAAAJALAogLiIk5pU8/3VygdSdNWqKMjMxirggAAADIHQHEBXz88cYCrxsbG69ff91TjNUAAAAAeSOAuIA//zxerOsDAAAARYUAAgAAAMBpCCAuoFGjCsW6PgAAAFBUCCAuYMSIZgVeNzIySNdeG12M1QAAAAB5I4C4gNq1wzRkSNMCrTtpUme5u/O1AwAAwBqcibqI9967UTfeWOeS67zwQhcNHXqVcwoCAAAAckEAcRE+Ph6aM2eAZsy4RW3bVnNY5uZm09KlQ/TEEx0tqg4AAAC4gADiQtzd3XTHHY21cuVw9elT1z4/M9MoKirEwsoAAACACwggl+HQoUO68847FRYWJl9fXzVu3Fjr1q2zLzfG6Omnn1alSpXk6+ur7t27KyYmxpJa69QJc5jes+eMJXUAAAAAFyOAFNCZM2fUrl07eXp6at68efrrr7/02muvKSTkn5aFV155RW+++abee+89rVmzRn5+furZs6fOnz/v9HqjooIdpvfujXN6DQAAAEB2HlYXUFpMmTJF1apV0/Tp0+3zoqKi7H83xuj111/Xk08+qT59+kiSPvvsM0VERGjOnDm6/fbbnVpvdLTjJVd799ICAgAAAOvRAlJAc+fOVcuWLXXbbbepQoUKatasmT788EP78r179+ro0aPq3r27fV5QUJBatWqlVatWOb3e7H0+9uyJc3oNAAAAQHYEkALas2eP3n33XdWuXVvz58/XAw88oIceekiffvqpJOno0aOSpIiICIfnRURE2Jdll5KSooSEBIdHUYmMDJLN9s80LSAAAAAoCQggBZSZmanmzZvrpZdeUrNmzXTvvffqnnvu0XvvvXfF23z55ZcVFBRkf1SrVi3/JxWQt7eHqlQJtE/TCR0AAAAlAQGkgCpVqqQGDRo4zKtfv772798vSapYsaIk6dixYw7rHDt2zL4su4kTJyo+Pt7+OHDgQJHWfHFH9CNHknTuXFqRbh8AAAC4XASQAmrXrp127tzpMO/vv/9WZGSkpAsd0itWrKiFCxfalyckJGjNmjVq06ZNrtv09vZWYGCgw6MoZe+IHhsbX6TbBwAAAC4XAaSAHn74Ya1evVovvfSSdu3apRkzZuiDDz7QqFGjJEk2m01jx47VCy+8oLlz52rr1q0aPHiwKleurL59+1pSc/aheLkMCwAAAFZjGN4CuvrqqzV79mxNnDhRzz33nKKiovT6669r0KBB9nUeffRRnT17Vvfee6/i4uLUvn17/fLLL/Lx8bGk5uwjYdERHQAAAFazGWOM1UXggoSEBAUFBSk+Pr5ILsdasWK/OnT4574l48a11muv9Sz0dgEAAMqqoj5fK4u4BMuFcTd0AAAAlDQEEBdWqVKAvL3d7dMEEAAAAFiNAOLC3NxsqlEj2D69Z88ZccUdAAAArEQAcXEXD8WbkJCiM2fOW1gNAAAAyjoCiItjKF4AAACUJAQQF8dQvAAAAChJCCAuLvvd0OmIDgAAACsRQFwcl2ABAACgJCGAuDhaQAAAAFCSEEBcXFCQj0JCfOzTtIAAAADASgSQMuDijuixsXHKyMi0sBoAAACUZQSQMuDiy7DS0jJ16FCihdUAAACgLCOAlAHZO6IzFC8AAACsQgApA+iIDgAAgJKCAFIGMBQvAAAASgoCSBmQ827ocdYUAgAAgDKPAFIGREYGyWb7Z5oWEAAAAFiFAFIGeHt7qEqVQPs0ndABAABgFQJIGXFxR/QjR5J07lyahdUAAACgrCKAlBHZO6Lv2xdnSR0AAAAo2wggZUTOe4HEWVIHAAAAyjYCSBmR/V4gdEQHAACAFQggZUTOoXgJIAAAAHA+AkgZwd3QAQAAUBIQQMqIihX95e3tbp/mEiwAAABYgQBSRri52VSjRrB9eu/eOBljrCsIAAAAZRIBpAy5+DKshIQUnT59zsJqAAAAUBYRQMoQhuIFAACA1QggZUjOjuj0AwEAAIBzEUDKkOxD8dIRHQAAAM5GAClDGIoXAAAAViOAlCHZ+4DQAgIAAABnI4CUIUFBPgoJ8bFP0wICAAAAZyOAlDEXX4YVGxunjIxMC6sBAABAWUMAKWMu7oielpapQ4cSLawGAAAAZQ0BpIyJjg52mGYoXgAAADgTAaSMYSheAAAAWIkAUsZwN3QAAABYiQBSxmS/FwgtIAAAAHAmAkgZU716kGy2f6ZpAQEAAIAzEUDKGG9vD1WtGmifphM6AAAAnIkAUgZd3BH9yJEknTuXZmE1AAAAKEsIIGVQ9o7o+/bFWVIHAAAAyh4CSBlER3QAAABYhQBSBjEULwAAAKxCACmDsreA0BEdAAAAzkIAKYNy3g09zppCAAAAUOYQQMqgihX95e3tbp+mBQQAAADOQgApg9zcbA6tIHv2nJExxsKKAAAAUFYQQMqoizuiJyam6vTpc9YVAwAAgDKDAFJG5eyIHmdNIQAAAChTCCBlVPaheLkXCAAAAJyBAFJGMRQvAAAArEAAKaNyDsVLAAEAAEDxI4CUUdwNHQAAAFYggJRRQUE+Cg31tU8TQAAAAOAMBJAy7OJWkNjYOGVkZFpXDAAAAMoEAkgZdnFH9LS0TB06lGhhNQAAACgLCCBlGEPxAgAAwNkIIGVY9pGwGIoXAAAAxY0AUoZlvxcILSAAAAAobgSQMoyheAEAAOBsBJAyLDIyWDbbP9MEEAAAABQ3AkgZ5uXlrqpVA+3TXIIFAACA4kYAKeMu7oh+9GiSkpPTLKwGAAAAro4AUsZl74i+b1+cNYUAAACgTCCAlHE5O6JzGRYAAACKDwGkjMveAkJHdAAAABQnAkgZx93QAQAA4EwEkDIu593Q46wpBAAAAGUCAaSMq1jRXz4+HvZpWkAAAABQnAggZZybm001agTbp/fuPSNjjHUFAQAAwKURQODQET0xMVWnT5+zsBoAAAC4MgII6IgOAAAApyGAIJd7gcRZUgcAAABcHwEEOe4FQgsIAAAAigsBBLkMxUsAAQAAQPEggIBLsAAAAOA0BBAoKMhHoaG+9mkuwQIAAEBxIYBAkmM/kNjYeGVkZFpYDQAAAFwVAQSSHC/DSk/P1MGDCdYVAwAAAJdFAIEk+oEAAADAOQggkJRzKF5GwgIAAEBxIIBAUs6heOmIDgAAgOJAAIGk3FpA4qwpBAAAAC6NAAJJUvXqQbLZ/pmmBQQAAADFgQBSQJMmTZLNZnN41KtXz778/PnzGjVqlMLCwuTv769+/frp2LFjFlZ8eby83FW1aqB9mhYQAAAAFAcCyGVo2LChjhw5Yn+sWLHCvuzhhx/WDz/8oFmzZmnp0qU6fPiwbrnlFgurvXwXX4Z19GiSkpPTLKwGAAAArsjD6gJKEw8PD1WsWDHH/Pj4eH388ceaMWOGunbtKkmaPn266tevr9WrV6t169bOLvWKREWFaOnSWPv0vn1xatAg3MKKAAAA4GpoAbkMMTExqly5sqKjozVo0CDt379fkrR+/XqlpaWpe/fu9nXr1aun6tWra9WqVXluLyUlRQkJCQ4PK0VHBztMMxQvAAAAihoBpIBatWqlTz75RL/88oveffdd7d27Vx06dFBiYqKOHj0qLy8vBQcHOzwnIiJCR48ezXObL7/8soKCguyPatWqFfO7uDSG4gUAAEBx4xKsArruuuvsf2/SpIlatWqlyMhIffPNN/L19b2ibU6cOFHjxo2zTyckJFgaQrgbOgAAAIobLSBXKDg4WHXq1NGuXbtUsWJFpaamKi4uzmGdY8eO5dpnJIu3t7cCAwMdHlbKfi8QWkAAAABQ1AggVygpKUm7d+9WpUqV1KJFC3l6emrhwoX25Tt37tT+/fvVpk0bC6u8PBUr+svH559GMVpAAAAAUNS4BKuAJkyYoN69eysyMlKHDx/WM888I3d3d91xxx0KCgrSiBEjNG7cOIWGhiowMFCjR49WmzZtSs0IWJJks9kUFRWs7dtPSrrQCd0YI9vFdygEAAAACoEAUkAHDx7UHXfcoVOnTik8PFzt27fX6tWrFR5+YZjaqVOnys3NTf369VNKSop69uypd955x+KqL19UVIg9gCQmpurUqXMqX76cxVUBAADAVRBACujrr7++5HIfHx9NmzZN06ZNc1JFxSNnR/QzBBAAAAAUGfqAwAEd0QEAAFCcCCBwwFC8AAAAKE4EEDjI3gLC3dABAABQlAggcJDzbuhx1hQCAAAAl0QAgYPAQG+Fhf1zZ3daQAAAAFCUCCDI4eJWkNjYeGVkZFpYDQAAAFwJAQQ5XNwRPT09UwcPJlhXDAAAAFwKAQQ55OyIHmdNIQAAAHA5BBDkkH0oXu4FAgAAgKJCAEEODMULAACA4kIAQQ4MxQsAAIDiQgBBDtWrB8lm+2eaFhAAAAAUFQIIcvDycle1akH2aTqhAwAAoKgQQJCrizuiHz2apOTkNOuKAQAAgMsggCBX2Tui79sXZ00hAAAAcCkEEOSKoXgBAABQHAggyFX2kbDoiA4AAICiQABBrrJfgkULCAAAAIqCh9UFFLeUlBStWbNGsbGxSk5OVnh4uJo1a6aoqCirSyvRsl+CxUhYAAAAKAouG0BWrlypN954Qz/88IPS0tIUFBQkX19fnT59WikpKYqOjta9996r+++/XwEBAVaXW+JUrOgvHx8PnT+fLokAAgAAgKLhkpdg3XTTTRowYIBq1KihBQsWKDExUadOndLBgweVnJysmJgYPfnkk1q4cKHq1KmjX3/91eqSSxybzebQCrJnzxkZY6wrCAAAAC7BJVtAbrjhBn333Xfy9PTMdXl0dLSio6M1ZMgQ/fXXXzpy5IiTKywdoqJCtH37SUlSUlKqTp06p/Lly1lcFQAAAEozl2wBue++++Tp6amMjAwtW7ZMcXFxea7boEEDdevWzXnFlSLR0cEO03REBwAAQGG5ZADJ4u7urh49eujMGU6crwRD8QIAAKCouXQAkaRGjRppz549VpdRKmUfipeO6AAAACgslw8gL7zwgiZMmKAff/xRR44cUUJCgsMDeeNu6AAAAChqLtkJ/WLXX3+9pAsjY9lsNvt8Y4xsNpsyMjKsKq3Ey3kJVpw1hQAAAMBluHwAWbx4sdUllFqBgd4KC/PVqVPnJNECAgAAgMJz+QDSqVMnq0so1aKiQuwBZP/+eGVkZMrd3eWv3AMAAEAxKRNnksuXL9edd96ptm3b6tChQ5Kkzz//XCtWrLC4spLv4o7o6emZOniQfjMAAAC4ci4fQL777jv17NlTvr6+2rBhg1JSUiRJ8fHxeumllyyuruSjIzoAAACKkssHkBdeeEHvvfeePvzwQ4c7o7dr104bNmywsLLSgaF4AQAAUJRcPoDs3LlTHTt2zDE/KCjokndIxwW0gAAAAKAouXwAqVixonbt2pVj/ooVKxQdHW1BRaULQ/ECAACgKLl8ALnnnns0ZswYrVmzRjabTYcPH9aXX36pCRMm6IEHHrC6vBKvevUgubn9c/+UvXtpAQEAAMCVc/lheB977DFlZmaqW7duSk5OVseOHeXt7a0JEyZo9OjRVpdX4nl5uatq1UDt3x8viUuwAAAAUDg2Y4yxughnSE1N1a5du5SUlKQGDRrI39/f6pJySEhIUFBQkOLj4xUYGGh1OXZdunyqJUv22afPnn1c5cp55v0EAAAAF1VSz9dKE5e/BGv48OFKTEyUl5eXGjRooGuuuUb+/v46e/ashg8fbnV5pUL2juhchgUAAIAr5fIB5NNPP9W5c+dyzD937pw+++wzCyoqfXIGkDhL6gAAAEDp57J9QBISEmSMkTFGiYmJ8vHxsS/LyMjQzz//rAoVKlhYYemR814gtIAAAADgyrhsAAkODpbNZpPNZlOdOnVyLLfZbHr22WctqKz0yT4ULx3RAQAAcKVcNoAsXrxYxhh17dpV3333nUJDQ+3LvLy8FBkZqcqVK1tYYenB3dABAABQVFw2gHTq1EmStHfvXlWvXl02my3HOvv371f16tWdXVqpExHhJ19fD507ly6JFhAAAABcOZfvhB4dHa0TJ07kmH/q1ClFRUVZUFHpY7PZVKNGsH167944lZHRmwEAAFDEXD6A5HWinJSU5NAxHZd28WVYSUmpOnky2cJqAAAAUFq57CVY48aNk3Th1/unn35a5cqVsy/LyMjQmjVrdNVVV1lUXemT21C84eF+1hQDAACAUstlA8jGjRslXWgB2bp1q7y8vOzLvLy81LRpU02YMMGq8kqd3IbiveaaKhZVAwAAgNLKZQPI4sWLJUnDhg3TG2+8ocDAQIsrKt0YihcAAABFweX7gEyfPl2BgYHatWuX5s+fb78rOp2oLw93QwcAAEBRcPkAcvr0aXXr1k116tTR9ddfryNHjkiSRowYofHjx1tcXelBCwgAAACKgssHkLFjx8rT01P79+936Ig+YMAA/fLLLxZWVroEBnorLMzXPk0LCAAAAK6Ey/YBybJgwQLNnz9fVatWdZhfu3ZtxcbGWlRV6RQdHaJTpy5cwrZ/f7zS0zPl4eHyGRYAAABFyOXPHs+ePevQ8pHl9OnT8vb2tqCi0uviy7DS0zN18GCChdUAAACgNHL5ANKhQwd99tln9mmbzabMzEy98sor6tKli4WVlT7R0cEO03v30g8EAAAAl8flL8F65ZVX1K1bN61bt06pqal69NFHtW3bNp0+fVorV660urxSJbeO6F26RFlUDQAAAEojl28BadSokf7++2+1b99effr00dmzZ3XLLbdo48aNqlmzptXllSoMxQsAAIDCcvkWEEkKCgrSE088YXUZpV7Ou6HHWVMIAAAASq0yEUDOnDmjjz/+WNu3b5ckNWjQQMOGDVNoaKjFlZUu1asHyc3NpszMCzdx5F4gAAAAuFwufwnWsmXLVKNGDb355ps6c+aMzpw5ozfffFNRUVFatmyZ1eWVKp6e7qpWLdA+TSd0AAAAXC6XbwEZNWqUBgwYoHfffVfu7u6SpIyMDI0cOVKjRo3S1q1bLa6wdImKClFsbLwk6dixszp7NlV+fl4WVwUAAIDSwuVbQHbt2qXx48fbw4ckubu7a9y4cdq1a5eFlZVO2Tui79sXZ0kdAAAAKJ1cPoA0b97c3vfjYtu3b1fTpk0tqKh0oyM6AAAACsMlL8HasmWL/e8PPfSQxowZo127dql169aSpNWrV2vatGmaPHmyVSWWWtlbQOiIDgAAgMvhkgHkqquuks1mkzHGPu/RRx/Nsd7AgQM1YMAAZ5ZW6uVsASGAAAAAoOBcMoDs3bvX6hJcVs67ocdZUwgAAABKJZcMIJGRkVaX4LIiIvzk6+uhc+fSJdECAgAAgMvj8p3QUbRsNptDK8jevXEOl7oBAAAAl0IAwWW7uCN6UlKqTp5Mtq4YAAAAlCoEEFw2huIFAADAlSKA4LIxFC8AAACulMsHkAMHDujgwYP26T/++ENjx47VBx98YGFVpVv2kbDoiA4AAICCcvkAMnDgQC1evFiSdPToUV177bX6448/9MQTT+i5556zuLrSKfslWLSAAAAAoKBcPoD8+eefuuaaayRJ33zzjRo1aqTff/9dX375pT755BNriyulsl+CRR8QAAAAFJTLB5C0tDR5e3tLkn777TfddNNNkqR69erpyJEjVpZWagUEeKt8+XL2aQIIAAAACsrlA0jDhg313nvvafny5fr111/Vq1cvSdLhw4cVFhZmcXWl18WtILGxcUpPz7SuGAAAAJQaLh9ApkyZovfff1+dO3fWHXfcoaZNm0qS5s6da780C5fv4o7oGRlGBw8mWFgNAAAASgsPqwsobp07d9bJkyeVkJCgkJB/TprvvfdelStX7hLPxKVERwc7TO/Zc0Y1agTnui4AAACQxeUDiCS5u7s7hA9JqlGjhjXFuIjch+KNsqYYAAAAlBouGUCaN2+uhQsXKiQkRM2aNZPNZstz3Q0bNjixMtfB3dABAABwJVwygPTp08c+8lXfvn2tLcZFcTd0AAAAXAmbMcZYXQQuSEhIUFBQkOLj4xUYGGh1OZeUlpYhH58XlZl5Yfdp3bqqVq0aYXFVAAAAxas0na+VVC4/ChaKh6enu6pV++egowUEAAAABUEAwRW7uCP68eNndfZsqoXVAAAAoDQggOCKZR+Kd9++OEvqAAAAQOlBAMEVyz4UL5dhAQAAID8uHUDS0tJUs2ZNbd++3epSXBJD8QIAAOByuXQA8fT01Pnz54t8u5MnT5bNZtPYsWPt886fP69Ro0YpLCxM/v7+6tevn44dO1bkr12SMBQvAAAALpdLBxBJGjVqlKZMmaL09PQi2d7atWv1/vvvq0mTJg7zH374Yf3www+aNWuWli5dqsOHD+uWW24pktcsqXLeDT3OmkIAAABQarjkjQgvtnbtWi1cuFALFixQ48aN5efn57D8+++/L/C2kpKSNGjQIH344Yd64YUX7PPj4+P18ccfa8aMGerataskafr06apfv75Wr16t1q1bF82bKWEiIvzk6+uhc+cuhLu9e2kBAQAAwKW5fAtIcHCw+vXrp549e6py5coKCgpyeFyOUaNG6YYbblD37t0d5q9fv15paWkO8+vVq6fq1atr1apVeW4vJSVFCQkJDo/SxGazObSC7NlzRtzXEgAAAJfi8i0g06dPL5LtfP3119qwYYPWrl2bY9nRo0fl5eWl4OBgh/kRERE6evRontt8+eWX9eyzzxZJfVaJjg7RX3+dkCSdPZumkyeTFR7ul8+zAAAAUFa5fAuIJKWnp+u3337T+++/r8TEREnS4cOHlZSUVKDnHzhwQGPGjNGXX34pHx+fIqtr4sSJio+Ptz8OHDhQZNt2FjqiAwAA4HK4fAtIbGysevXqpf379yslJUXXXnutAgICNGXKFKWkpOi9997Ldxvr16/X8ePH1bx5c/u8jIwMLVu2TG+//bbmz5+v1NRUxcXFObSCHDt2TBUrVsxzu97e3vL29i7U+7Na9gCyd2+cWrWqak0xAAAAKPFcvgVkzJgxatmypc6cOSNfX1/7/JtvvlkLFy4s0Da6deumrVu3atOmTfZHy5YtNWjQIPvfPT09Hba3c+dO7d+/X23atCny91SS5LwXCC0gAAAAyJvLt4AsX75cv//+u7y8vBzm16hRQ4cOHSrQNgICAtSoUSOHeX5+fgoLC7PPHzFihMaNG6fQ0FAFBgZq9OjRatOmjcuOgJWFu6EDAADgcrh8AMnMzFRGRkaO+QcPHlRAQECRvc7UqVPl5uamfv36KSUlRT179tQ777xTZNsvqXK7BAsAAADIi824+LipAwYMUFBQkD744AMFBARoy5YtCg8PV58+fVS9evUiGyWrKCQkJCgoKEjx8fEKDAy0upwCCw9/VSdPJku6EEj27BljcUUAAADFo7Ser5UkLt8H5LXXXtPKlSvVoEEDnT9/XgMHDrRffjVlyhSry3MJF7eC7N8fr/T0TOuKAQAAQInm8pdgVa1aVZs3b9bXX3+tLVu2KCkpSSNGjNCgQYMcOqXjykVHh2jt2sOSpIwMowMH4nP0DQEAAACkMhBAJMnDw0N33nmn1WW4rNz6gRBAAAAAkBuXvwSrevXqGjx4sD7++GPt2bPH6nJcEkPxAgAAoKBcPoC89NJL8vHx0ZQpU1SrVi1Vq1ZNd955pz788EPFxMRYXZ5LYCheAAAAFJTLX4J155132i+/OnLkiJYuXaoff/xRI0eOzHOIXlyenC0gcdYUAgAAgBLP5QOIJCUnJ2vFihVasmSJFi9erI0bN6pRo0bq3Lmz1aW5hGrVAuXmZlNm5oURnWkBAQAAQF5cPoC0bdtWGzduVP369dW5c2c99thj6tixo0JC6CRdVDw93VWtWqBiY+Ml0QICAACAvLl8H5AdO3bIz89P9erVU7169VS/fn3CRzG4+DKs48fP6uzZVAurAQAAQEnl8gHk1KlTWrRokVq3bq358+erXbt2qlKligYOHKgPP/zQ6vJcRm5D8QIAAADZuXwAsdlsatKkiR566CF9++23mjdvnq699lrNmjVL999/v9XluQyG4gUAAEBBuHwfkA0bNmjJkiVasmSJVqxYocTERDVu3FijR49Wp06drC7PZTAULwAAAArC5QPINddco2bNmqlTp06655571LFjRwUFBVldlsvhEiwAAAAUhMsHkNOnTyswMNDqMlwe9wIBAABAQbh8AMkKH+vXr9f27dslSQ0aNFDz5s2tLMvlVKjgp3LlPJWcnCaJS7AAAACQO5cPIMePH9eAAQO0dOlSBQcHS5Li4uLUpUsXff311woPD7e2QBdhs9kUFRWsbdtOSLrQCd0YI5vNZnFlAAAAKElcfhSs0aNHKykpSdu2bdPp06d1+vRp/fnnn0pISNBDDz1kdXku5eKO6GfPpunEiWQLqwEAAEBJ5PItIL/88ot+++031a9f3z6vQYMGmjZtmnr06GFhZa4nZ0f0M6pQwc+aYgAAAFAiuXwLSGZmpjw9PXPM9/T0VGZmpgUVuS46ogMAACA/Lh9AunbtqjFjxujw4cP2eYcOHdLDDz+sbt26WViZ68neAkJHdAAAAGTn8gHk7bffVkJCgmrUqKGaNWuqZs2aioqKUkJCgt566y2ry3Mp3A0dAAAA+XH5PiDVqlXThg0b9Ntvv2nHjh2SpPr166t79+4WV+Z6ct4NPc6aQgAAAFBiuXwAkS4MEXvttdfq2muvtboUl+bv76Xy5cvp5MkLo1/RAgIAAIDsXDKAvPnmmwVel6F4i1Z0dIg9gOzfH6/09Ex5eLj8lX4AAAAoIJcMIFOnTi3QejabjQBSxKKigvXHH4ckSRkZRgcOxOe4NAsAAABll0sGkL1791pdQpmV21C8BBAAAABk4doYFCmG4gUAAMCluGQAmTx5spKTkwu07po1a/TTTz8Vc0VlR/bWDjqiAwAA4GIuGUD++usvRUZGauTIkZo3b55OnDhhX5aenq4tW7bonXfeUdu2bTVgwAAFBARYWK1ryX4JFkPxAgAA4GIu2Qfks88+0+bNm/X2229r4MCBSkhIkLu7u7y9ve0tI82aNdPdd9+toUOHysfHx+KKXUe1aoFyc7MpM9NIogUEAAAAjmzGGGN1EcUpMzNTW7ZsUWxsrM6dO6fy5cvrqquuUvny5a0uLYeEhAQFBQUpPj5egYGBVpdzxaKi3tC+fXGSpAoV/HTs2ARrCwIAACgirnK+ZiWXbAG5mJubm6666ipdddVVVpdSZkRFBdsDyPHjZ5WUlCp/fy9riwIAAECJ4JJ9QGCt7P1AssIIAAAAQABBkWMoXgAAAOSFAIIix1C8AAAAyAsBBEUut7uhAwAAAFIZCSDGGJ08eVKnTp2yupQygUuwAAAAkBeXDiBHjx7V4MGDFRISooiICFWoUEEhISEaPny4jh07ZnV5LqtCBT+VK+dpn6YFBAAAAFlcdhjehIQEtW3bVklJSRo2bJjq1asnY4z++usvffXVV1qxYoU2bNggf39/q0t1OTabTVFRwdq27cId6PfsOSNjjGw2m8WVAQAAwGouG0DeeOMNubu7a9u2bQoPD3dY9uSTT6pdu3Z688039fjjj1tUoWuLigqxB5Dk5DSdOJGsChX8LK4KAAAAVnPZS7B++uknPf744znChyRVqFBBEydO1A8//GBBZWVDdHSwwzQjYQEAAEBy4QDy999/q23btnkub9u2rXbu3OnEisqW7EPx0hEdAAAAkgsHkISEBAUHB+e5PDg4WAkJCc4rqIxhKF4AAADkxmUDiDFGbm55vz2bzSZjjBMrKlsYihcAAAC5cdlO6MYY1alTJ8+RlwgfxSvn3dDjrCkEAAAAJYrLBpDp06dbXUKZ5u/vpfDwcjpxIlkSndABAABwgcsGkCFDhlhdQpkXFRViDyD798crPT1THh4ue9UfAAAACqBMnQ2eP39en376qd555x3FxMRYXY7Lu7gjekaG0YED8RZWAwAAgJLAZQPIuHHjNHr0aPt0amqq2rRpo3vuuUePP/64mjVrplWrVllYoeujIzoAAACyc9kAsmDBAl177bX26S+//FKxsbGKiYnRmTNndNttt+mFF16wsELXlz2A0BEdAAAALhtA9u/frwYNGtinFyxYoFtvvVWRkZGy2WwaM2aMNm7caGGFri/7vUBoAQEAAIDLBhA3NzeHoXZXr16t1q1b26eDg4N15gwnxMWJoXgBAACQncsGkPr16+uHH36QJG3btk379+9Xly5d7MtjY2MVERFhVXllQrVqgXJ3/+c+LAzFCwAAAJcdhvfRRx/V7bffrp9++knbtm3T9ddfr6ioKPvyn3/+Wddcc42FFbo+T093VasWpH374iRxCRYAAABcuAXk5ptv1s8//6wmTZro4Ycf1syZMx2WlytXTiNHjrSourLj4n4gJ04kKykp1cJqAAAAYDWXbQGRpG7duqlbt265LnvmmWecXE3ZlHMkrDNq3JhL3wAAAMoql20BOXnypGJjYx3mbdu2TcOGDVP//v01Y8YMiyorWxiKFwAAABdz2QAyevRovfnmm/bp48ePq0OHDlq7dq1SUlI0dOhQff755xZWWDZkH4qXjugAAABlm8sGkNWrV+umm26yT3/22WcKDQ3Vpk2b9L///U8vvfSSpk2bZmGFZUP2oXjpiA4AAFC2uWwAOXr0qGrUqGGfXrRokW655RZ5eFzo9nLTTTcpJibGourKjpwtIHHWFAIAAIASwWUDSGBgoOLi4uzTf/zxh1q1amWfttlsSklJsaCysiU8vJzKlfO0T9MCAgAAULa5bABp3bq13nzzTWVmZurbb79VYmKiunbtal/+999/q1q1ahZWWDbYbDaHjuh798Y53KEeAAAAZYvLBpDnn39ec+fOla+vrwYMGKBHH31UISH/XA709ddfq1OnThZWWHZcfBlWcnKaTpxItrAaAAAAWMll7wPSpEkTbd++XStXrlTFihUdLr+SpNtvv10NGjSwqLqyJftQvHv2nFGFCn7WFAMAAABLuWwA2bt3r6KiotSnT59cl99www1Orqjsym0o3tatq1pUDQAAAKzkspdg1axZU1FRURo+fLg+//xzHTx40OqSyiyG4gUAAEAWl20BWbRokZYsWaIlS5boq6++UmpqqqKjo9W1a1d16dJFXbp0UUREhNVllgncDR0AAABZXDaAdO7cWZ07d5YknT9/Xr///rs9kHz66adKS0tTvXr1tG3bNmsLLQOyt4AQQAAAAMoulw0gF/Px8VHXrl3Vvn17denSRfPmzdP777+vHTt2WF1ameDv76Xw8HL20a+4BAsAAKDscukAkpqaqtWrV2vx4sVasmSJ1qxZo2rVqqljx456++23GYbXiaKjQ+wB5MCBeKWlZcjT093iqgAAAOBsLhtAunbtqjVr1igqKkqdOnXSfffdpxkzZqhSpUpWl1YmRUWFaM2aQ5KkjAyjAwcScoyOBQAAANfnsqNgLV++XGFhYeratau6deuma6+9lvBhoZwd0bkMCwAAoCxy2QASFxenDz74QOXKldOUKVNUuXJlNW7cWA8++KC+/fZbnThxwuoSy5Sc9wKJs6YQAAAAWMplL8Hy8/NTr1691KtXL0lSYmKiVqxYocWLF+uVV17RoEGDVLt2bf35558WV1o25HY3dAAAAJQ9LtsCkp2fn59CQ0MVGhqqkJAQeXh4aPv27VaXVWbQAgIAAADJhVtAMjMztW7dOi1ZskSLFy/WypUrdfbsWVWpUkVdunTRtGnT1KVLF6vLLDOqVQuSu7tNGRlGEi0gAAAAZZXLBpDg4GCdPXtWFStWVJcuXTR16lR17txZNWvWtLq0MsnDw03VqgVp3744SXRCBwAAKKtcNoC8+uqr6tKli+rUqWN1Kfh/0dEh9gBy4kSykpJS5e/vZW1RAAAAcCqX7QNy3333ET5KmOwd0bdtO25NIQAAALCMywYQlCzHj59VTMwph3nt20/X4MGztWXLMYuqAgAAgLMRQFDstm8/oebN39eyZfsd5qenZ+rzz7fo6qs/1Lff/mVRdQAAAHAmAgiKVVJSqq677ksdOpSY5zqpqRkaOPA7bdhwxImVAQAAwAoEEBSrzz7brNjY+HzXS0vL1JQpK51QEQAAAKxEAEGx+uijDQVe9/vvt+vUqeRirAYAAABWI4CgWO3ceSr/lf5fenomNygEAABwcQSQAnr33XfVpEkTBQYGKjAwUG3atNG8efPsy8+fP69Ro0YpLCxM/v7+6tevn44dY3QnNzdbsa4PAACA0oUAUkBVq1bV5MmTtX79eq1bt05du3ZVnz59tG3bNknSww8/rB9++EGzZs3S0qVLdfjwYd1yyy0WV229q66qWOB1fXzcVadOWDFWAwAAAKvZjDHG6iJKq9DQUL366qu69dZbFR4erhkzZujWW2+VJO3YsUP169fXqlWr1Lp16wJtLyEhQUFBQYqPj1dgYGBxlu40X3yxRXfdNbtA61arFqjt20fJz4+7owMAgJLJFc/XnI0WkCuQkZGhr7/+WmfPnlWbNm20fv16paWlqXv37vZ16tWrp+rVq2vVqlUWVmq9/v0bqlmzgrWCHDiQoO7dP9fp0+eKuSoAAABYhQByGbZu3Sp/f395e3vr/vvv1+zZs9WgQQMdPXpUXl5eCg4Odlg/IiJCR48ezXN7KSkpSkhIcHi4Gi8vd/3886ACX4q1evVBtW//Xx04kP/QvQAAACh9CCCXoW7dutq0aZPWrFmjBx54QEOGDNFff135HbxffvllBQUF2R/VqlUrwmpLjooV/bVq1Qh99FFvtWxZWbb/72ceGRmkSZM6adSoqx3W3779pNq2/a+2bz9hQbUAAAAoTvQBKYTu3burZs2aGjBggLp166YzZ844tIJERkZq7Nixevjhh3N9fkpKilJSUuzTCQkJqlatmstfU5iZaZSRkSlPT3f7vP/8Z5XGj1/gsF5oqK9+/PEOtWnjmsEMAACUPvQBKTxaQAohMzNTKSkpatGihTw9PbVw4UL7sp07d2r//v1q06ZNns/39va2D+ub9SgL3NxsDuFDksaNa6PPP79ZHh7/7JKnT59Tt26f6aef/nZ2iQAAACgmHlYXUFpMnDhR1113napXr67ExETNmDFDS5Ys0fz58xUUFKQRI0Zo3LhxCg0NVWBgoEaPHq02bdoUeAQsSHfe2UTly5dTv37fKDk5TZJ07ly6+vT5Wv/9bx8NHtzU4goBAABQWASQAjp+/LgGDx6sI0eOKCgoSE2aNNH8+fN17bXXSpKmTp0qNzc39evXTykpKerZs6feeecdi6sufXr1qqVFiwbrhhtm6NSpC6NhZWQYDRkyR8eOJemRR9pZXCEAAAAKgz4gJQjXFP5jx46T6tnzC+3f7zga1vjxbfTKK9dyx3QAAGAJztcKjz4gKJHq1Suv338frkaNKjjMf+21VRo6dI7S0jIsqgwAAACFQQBBiVWlSqCWLRuqdu0cR8H6/PMt6tPna509m2pRZQAAALhSBBCUaCEhvlqw4C717l3HYf68ebvUrdtnOnUq2aLKAAAAcCUIICjxypXz1PffD9Dw4Vc5zF+z5pDat5+eo58IAAAASi4CCEoFDw83ffTRTZo4sb3D/B07Tqpt24+1bdtxiyoDAADA5SCAoNSw2Wx66aVuev31ng7zDx1KVIcO0/X77wcsqgwAAAAFRQBBqTNmTGvNmHGLPD3/2X3PnDmv7t0/048/ctd0AACAkowAglLpjjsa68cfB8rPz9M+79y5dPXt+7U++WSTdYUBAADgkgggKLV69KipxYuHqHz5cvZ5GRlGw4b9T1OmrBD32AQAACh5CCAo1a6+uopWrBimyMggh/mPPbZQ48cvUGYmIQQAAKAkIYCg1Ktbt7x+/32EGjd2vGv61KmrNXjwbKWmctd0AACAkoIAApdQuXKAli0bpg4dqjvM//LLrbrppq+UlMRd0wEAAEoCAghcRnCwj+bPv1N9+tR1mD9//m516/aZTp7krukAAABWI4DApfj6eurbb/vr7rubOcz/449Dat/+v4qNjbOmMAAAAEgigMAFeXi46YMPeuvJJzs4zN+585Tatv2v/vyTu6YDAABYhQACl2Sz2fT881315pu9ZLP9M//w4Qt3TV+xYr91xQEAAJRhBBC4tNGjW2nGjH4Od02Pizuva6/9XD/8sNPCygAAAMomAghc3u23N9LPPw+Sv7+Xfd758+m6+eaZ+u9/N1pYGQAAQNnjYXUBgDN07x6txYuH6Prrv9SJExdGw8rIMBoxYq5iY+MUEuKj6dM3a9eu0/LwcNPVV1fW/fe3VN++9eThQU4HAAAoKjZjDLeKLiESEhIUFBSk+Ph4BQYGWl2OS4qJOaUePb7Qvn1xBVq/bdtq+uGHOxQa6lu8hQEAgFKB87XC46ddlCm1a4fp99+Hq0mTiAKt//vvB3TTTV8pPT2zmCsDAAAoGwggKHMqVQrQsmVDVbmyf4HWX7nygObM2VHMVQEAAJQNBBCUSR4eboqPTynw+u+9t64YqwEAACg7CCAok3buPKWzZ9MKvP7atYeLsRoAAICygwCCMuly+3TQBwQAAKBoEEBQJkVFBcvNzZb/iv/P19dDiYkFv2QLAAAAuSOAoEwKD/dT7951Crz+qVPnVL/+NDqjAwAAFBIBBGXWo4+2u6xWkEOHEnXzzTPVt+/XOnAgvhgrAwAAcF0EEJRZbdtW00cf9b5kCPH2ds8x73//26kGDd7RG2+sVkYGfUMAAAAuBwEEZdqwYc20fPkw9elT1yGI+Pt7aeTIlvr779FaunSo6tUr7/C8pKRUjR07X61afaT16xkhCwAAoKBsxhhjdRG4ICEhQUFBQYqPj1dgYKDV5ZQ5x4+f1b59cfLwcFPdumHy8/OyL0tJSderr/6uF15YppSUDIfnubnZ9NBD1+i557ooIMDb2WUDAAAn4nyt8AggJQg7dMkXE3NK99//kxYt2ptjWdWqgXr77evUp089CyoDAADOwPla4XEJFnAZatcO02+/3aXPPuur8uXLOSw7eDBBffvO1M03z9TBgwkWVQgAAFCyEUCAy2Sz2XTXXU21Y8coDR9+VY7lc+bsUP360/Tmm2vopA4AAJANAQS4QmFh5fTxx320ZMkQ1a0b5rAsKSlVY8b8otatP9aGDUcsqhAAAKDkIYAAhdSpUw1t3ny/nn22s7y8HIftXbfusK6++kONHz9fSUmp1hQIAABQghBAgCLg7e2hp5/upK1bH1CXLjUclmVmGv3nP6vVoME0/fDDTmsKBAAAKCEIIEARqlMnTAsXDtann/ZVWJivw7IDBxJ0001fq1+/b3ToEJ3UAQBA2UQAAYqYzWbT4MFNtWPHgxo69Kocy7//frvq15+mt96ikzoAACh7CCBAMSlfvpymT++jxYuHqE4dx07qiYmpeuihX9SmzcfatOmoRRUCAAA4HwEEKGadO9fQli33a9KkTjk6qa9de1gtW36gCRMW0EkdAACUCQQQwAm8vT30zDOdtWXL/ercuYbDsowMo9deW6WGDd/Rjz/+bU2BAAAATmIzxhiri8AFCQkJCgoKUnx8vAIDA60uB8XEGKPPPtus8eMX6NSpczmW9+tXX2+80UtVqgQqIyNT8+bt0jffbNOxY2cVEOClHj1qauDAxvL397KgegAAyjbO1wqPAFKCsEOXLSdPJmvChAX69NPNOZYFBHhp1Khr9N13fykm5nSO5UFB3nr//Rs1YEAjZ5QKAAD+H+drhUcAKUHYocumxYv36r77fsw1aOTn66/7EUIAAHAiztcKjz4ggMW6dInSli0P6JlncnZSz8/99/+ks2fpvA4AAEoPAghQAvj4eGjSpM7avPl+XX115QI/Ly7uvGbM2FqMlQEAABQtAghQgtSrV16DBze5rOcsWLCnmKoBAAAoegQQoIRJSkq7rPUXLtyj119frX374oqnIAAAgCJEAAFKmIgIv8ta/8yZ83r44fmKinpDzZq9r+eeW6otW46J8SUAAEBJxChYJQijKkCSTp1KVpUq/1FKSkahthMVFay+fevp5pvrqW3banJ35/cGAAAKi/O1wuOMBChhwsLK6a67CtYPxNMz70N47944TZ26Wh07fqJKlV7TiBH/048//q3z59OLqlQAAIDLRgtICUKiRpaEhBR16fKpNmw4kuc6ISE+WrJkiCSbZs/erjlzdmrTpqP5btvPz1O9etXSzTfX0/XX11ZIiG8RVg4AgGvjfK3wCCAlCDs0LpaQkKIJExbo88+35Gi16NGjpt58s5fq1i3vMH/fvjjNmbNDc+bs0PLl+5WZeenD28PDTZ0719DNN9dTnz51VaUK+x0AAJfC+VrhEUBKEHZo5ObUqWT98MPfOnYsSQEB3rr22mjVrh2W7/NOnkzWDz/s1Jw5O7Vgwe4CXXp1zTVV1LdvXfXtW0/164dfcl1jjFauPKAFC3YrMTFFERH+uu22BqpZM7TA7w0AgNKG87XCI4CUIOzQKC5nz6Zq/vzdmjNnh3744W/FxZ3P9zl164apb9966tu3nq65porc3Gz2ZWvWHNS99/6oLVuO5Xhe79519OGHvRUR4V+k7wEAgJKA87XCI4CUIOzQcIa0tAwtWxb7/5dq7dTBgwn5PqdSJX/16XOhZcTb213XXz9D587l3aJSq1aoVq4crgoVLm9IYQAASjrO1wqPAFKCsEPD2YwxWr/+iObM2aHZs3for79O5Pscm00qyL8ad9zRSDNm9CuCKgEAKDk4Xys8AkgJwg4Nq/399yn9738Xwsjq1QcLFDTy4uHhpv37x6pSpYCiKxAAAItxvlZ43AcEgF2dOmF65JF2+v33ETp0aJzef/9G9epV65L3G8lLenqmPvxwQ74jcQEAgLKFFpAShESNkiohIUU//xyjhx+er6NHky7ruf7+XmrevJJatMh6VFadOmEOndoBACgtOF8rPAJICcIOjZLu9tu/1cyZ2wq9nYAALzVrRigBAJQ+nK8VnofVBQAoPXr3rlMkASQxMVXLlsVq2bJY+7yiDCVbtx7TBx+s19q1h5WenqlatUI1fHgzde8eTcgBAMBitICUICRqlHQpKemKjHxdx46dzXfdBg3CVa9eea1ff1ixsfFX9HrZQ0nLlpVVu3beoSQ1NUP33fejPvlkU67LW7asrDlzBnDHdwDAFeN8rfAIICUIOzRKg/nzd+nGG79SenpmnutUrhyg1atHqFq1IEkX7sq+YcMRrV9/WOvWHSmWUGKzSXfc8V2+LTR164Zp9eq7FRzsc0WvDwAo2zhfKzwCSAnCDo3S4rff9ujuu+fmGiLat6+uzz+/WTVqBF9yG0UdSmrUCNbWrccLtP6TT3bQ8893vaLXAgCUbZyvFR4BpARhh0ZpkpGRqZ9+itGvv+5WYmKqIiL81L9/Q7VoUfmKt1mUoeRSIiL8dODAw/L0dC/ybQMAXBvna4VHAClB2KGBnIorlKxYMUzt2lUvggoBAGUJ52uFRwApQdihgYIpilBis0nNmlVS586R6ty5hjp0iKRfCAAgX5yvFR4BpARhhwauXFTU69q378pbRggkAICC4Hyt8AggJQg7NHDlnnlmsZ57blmRbY9AAgDIDedrhUcAKUHYoYErd/hwomrXfkvJyWn5rtu7dx3t3x+vzZuPFXj7RRlI0tIydOJEsjw83BQeXk42GzdHBIDSgvO1wiOAlCDs0EDh/Pjj3+rX7xulpmbkuc7jj7fXiy92kySdOpWs5cv3a8mSfVqyZN9lBRI3N5uaNauozp1rqHPnGmrfvnq+gWTXrtN6/fXV+uyzzUpMTJUkRUYG6b77WuiBB66mhQUASgHO1wqPAFKCsEMDhbdq1QE98cQiLV68z2F+nTphevzx9hoy5Ko8n3vqVLKWLYv9/0ASqy1brjyQdOhQXUFB/wSKn3+O0a23fqNz59JzfX50dIh+/fUuRUeHFPg1AQDOx/la4RFAShB2aKDo7Nx5UuvWHVZ6eqZq1QpV27bVLvtSp6IKJDVqBGvChAVKScm7ZUa6EJI2brxP5cp5XladAADn4Xyt8AggJQg7NFCyFSaQFNSHH/bW3Xc3L/LtAgCKBudrhUcAKUHYoYHSpTgCScuWlbV27T1FUB0AoDhwvlZ4BJAShB0aKN1OnkzW8uWFDyS1a4eqfv1w1a9f/v8fF/4eEOBdxBUDAC4X52uFRwApQdihAddy8mSy/vvfjfrXv34rku1VrRroEEoaNLgQTMLD/Qq97dOnz+mTTzZp5sxtOnYsSQEB3urRI1r3399StWuHFUH1AOAaOF8rPAJICcIODbie+Pjzioj4d74d0AsjLMzX3kqSFUrq1w9XtWqBBep4P29ejG6//TslJKTkWGazSc8910VPPNGB+5UAgDhfKwoEkBKEHRpwTUOGzNFnn20u0LrR0cE6cSLZfp+QwvDz88z1Uq6aNUPl4eEmSVqxYr+6dv1UaWmZl9zWK6901yOPtCt0TVcqM9Noz54zSkxMUUSEvypXDrCsFgBlG+drhUcAKUHYoQHXtH37CV199Yc6e/bSd2lv0CBc69ffK29vdx06lKjt209o+/aT2r79hP7668KfJ04kF7oeT0831akTpvr1w7Vy5X4dOZKU73Mu1DROYWHlCv36l+P8+XS9885avfPOWu3efcY+v0OH6hozppVuuaU+LTMAnIrztcIjgJQg7NCA6/rttz26+eaZSkrKvWWjbt0wLVhwl6pXD7rkdk6dSr4olGQFlJPavz++OMp2cOGO7S0VEuKr0FBf+fl5FuvJf3z8eV133Zdatepgnus8+ODVevPN6wghAJyG87XCI4CUIOzQgGuLjY3T22//oenTN+nUqXOSLgSP++9vqbvvbi5/f68r3nZSUqp27jzpEEq2bz+hXbtOKyOjeP6Z9/R0U2iorz2QZD1CQnxy/XvWusHBPvZLwC6lb9+v9b//7cx3valTe2rs2NZF8ZYAIF+crxUeAaQEYYcGyobMTKP4+PPy8HAr9qF1U1MzFBNzyh5IssLJjh0ndf58erG+9qUEBXnnEl587NNnz6Zp0qQlBdpWxYr+io0dKy8v9+ItGgDE+VpRIICUIOzQAJwlIyNTb7/9h8aOnW91KUVizpwB6tOnntVlACgDOF8rvPzbwCFJevnll3X11VcrICBAFSpUUN++fbVzp+OlAefPn9eoUaMUFhYmf39/9evXT8eOFf7OyABQ1Nzd3XT33c0VFFTwFpjhw6/Sgw9erYEDG6tXr1pq1aqKatcOVViYr9zcrO2Dce+9P2rQoO/12mu/a9GivTp9+pyl9QAA8kYLSAH16tVLt99+u66++mqlp6fr8ccf159//qm//vpLfn4XbgL2wAMP6KefftInn3yioKAgPfjgg3Jzc9PKlSsL9BokagDO9sQTC/XSSyvyXa9du2pavnxYnp29MzONEhNTdPr0OfvjzJnz2abP6fTp89mmz+ncueK5FCwyMkjNmlVSs2YV//9RSVWqBNBhHUChcL5WeASQK3TixAlVqFBBS5cuVceOHRUfH6/w8HDNmDFDt956qyRpx44dql+/vlatWqXWrfPvIMkODcDZ0tIydNttsy7Z2bt27VAtWTK02O69ce5cms6cOW8PJKdPn9N//7tJc+fm3wH9cpUvX84hkDRrVlG1a4ddcQvO7t2n9eGHG7R27WGlp2eqVq0QDR/eTG3bViPoAC6K87XCI4BcoV27dql27draunWrGjVqpEWLFqlbt246c+aMgoOD7etFRkZq7Nixevjhh3NsIyUlRSkp/9x5OCEhQdWqVWOHBuBU6emZeuON1XrrrT8UG/vPcL6Bgd4aMqSpnnmmk9Pv/3HgQLxq1HhDmZn5/xfl7e0uYy50uL8S/v5eato0wiGUNGxY4ZKd2tPTMzV27C965521yu1/0U6dIvXNN7epQgW/K6oJQMlFACk8AsgVyMzM1E033aS4uDitWHHh0oUZM2Zo2LBhDoFCkq655hp16dJFU6ZMybGdSZMm6dlnn80xnx0agBUyMjL1xx+HdOzYWQUEeKlVq6qFGhq4sMaNm6+pU1fnu97s2QN0ww21tX37SW3ceEQbNx7Vhg1HtGnT0Su+o7ynp5saNqzg0FrStGmEAgK8ZYzR8OFz9cknmy65jcaNK2jlyuHFPtIZAOcigBQeAeQKPPDAA5o3b55WrFihqlWrSrqyAEILCADkLT09U/fd94P++99NuS53d7fpvfdu1N13N891eWam0Z49Z+yh5MLjiI4dO3tF9dhsUq1aoapaNVCLF+8r0HOefbaznn660xW9XlE4cCBeu3efkYeHmxo1qqDgYB/LagFcBQGk8DysLqC0efDBB/Xjjz9q2bJl9vAhSRUrVlRqaqri4uIcLsE6duyYKlasmOu2vL295e3NL2MAkBsPDzd99NFNuvPOJnr77bX69dfdSkxMVUSEnwYMaKiRI69W3brl83y+m5tNtWqFqlatUN12W0P7/CNHEu1hJCuY7NlzJt96jJFiYk4rJuZ0gd/Du++u08SJ7eXp6dx7lCxatFeTJ6/Qr7/usc/z8fHQ7bc30hNPdFCtWqFOrQcALkYLSAEZYzR69GjNnj1bS5YsUe3atR2WZ3VC/+qrr9SvXz9J0s6dO1WvXj06oQNAETHGFEvn7vj489q06ahDS8lff50okrvIe3q6KSLCXxERfvY/K1Z0nM76MzTUt9Dv791312rUqJ9z7ZsiScHBPvrll0Fq1apq7isAuCTO1wqPAFJAI0eO1IwZM/S///1PdevWtc8PCgqSr6+vpAuXZv3888/65JNPFBgYqNGjR0uSfv/99wK9Bjs0AJQc58+n688/jzu0lGzefLTYhg2WLoSVChVyBpN/Qss/80NDc95/ZdmyWHXu/Eme4SNLeHg57djxoEJDfYvtvVxKamqGli+Ptfc3at++ukJCrKkFuFycrxUeAaSA8vpFavr06Ro6dKikCzciHD9+vL766iulpKSoZ8+eeuedd/K8BCs7dmgAKNkyMjJVvfrrOnw40epS5OHhpvDwcg7BZPny/QW6nEyS/v3vazV+fNtirtJRamqGXnllpaZNW6ujR5Ps8319PTRwYGO9+GJXRUT4O7Um4HJxvlZ4BJAShB0aAEq+xx9fqJdfzv/mjZIUEuKjWrVCdfRoko4dO3vFQwUXh+Bgbw0f3kzly5dTWFg5hYX52v/MmnepoYgvV0pKuvr0+Vrz5+/Oc53IyCAtWzZM1asHFdnrAkWN87XCI4CUIOzQAFDy7d8frzp13lJKSv5h4ptvbrV3gDfGKD4+RceOXQgjWX9eCCdZ8/6Zf/588V3qVVD+/l72YHIhlPjmGlQunufv75XrVQOPPvqrXn01/0uSr7mmilavHmHZjRwzMjK1c+cpJSamqGJFf0VGBltSB0ouztcKjwBSgrBDA0DpMGvWNt1xx3eX7KQ+ZkwrTZ3a84pOpI0xSkxMzRZOcgsuF6aLs1/K5fLycncIJGFh5RQU5K0vv9yi1NTMAm1j2bKh6tAhspgrdZScnKY331yjd99dp/37/7kh5zXXVNHYsa10++2NuLs9JHG+VhQIICUIOzQAlB6LFu3VY4/9prVrDzvMr1YtUI891l4PPNDSKSesxhglJaUqNjZOrVp9rOTktGJ/zeIWFRWs666rpfLlyyk83E/h4Rf+vDB9oTWmKIc2jos7rx49Ps/xXV7s3nub6733brQ8hGRmGmVmGnl4uFlaR1nG+VrhEUBKEHZoACh9Nmw4onXrDis9PVM1a4aoe/doubtbc3I4Zsw8vfnmHwVa9513rleLFpV16lSyTp5M1qlT53Tq1IU/c5suCZeEXSw42MceSC6EE99cw0rWvHLlPPMMDzfeOEM//RST72u++uq1mjDBuR33pQv9Z778cqvee2+d1q07LGOkGjWCNXz4VbrvvpaqUMHP6TWVZZyvFR4BpARhhwYAFMbhw4lq0eIDhxGmctOlSw39+utdlxWUkpPT7IEkt9DyT3D5Z358fEph31KR8fHxcAgkWQElPT1Tb7+9tkDbqFDBT/v3j5W3t/Pu43z0aJKuu+5Lbdp0NNfloaG++uGHO9S2bTWn1VTWcb5WeASQEoQdGgBQWNu2Hdf1189w6Mdwsa5do/T99/0VFORT7LWkpWXo9OlzWrFiv269dVaxv54ztG9fTQ0bVlBgoLeCgrz//08fBQZ65zrPx+fKw0pqaobatPlYGzYcueR6QUHeWr/+XtWsad0d7lNTM3T8+Fl5eFy4l032e9S4Es7XCo8AUoKwQwMAisLZs6maMWOr/vvfTdq167Q8PNx09dWVdf/9LdWrVy1LTg5bt/5Ia9Ycync9Hx93rV9/r9LTjU6cOKsTJy60tmT9Pfv0qVPJRXLH+uLi5eWeazD5Zzqv+T5atGiPHn54QYFe5557muuDD3oX87vJ6e+/T2nq1FX64outSkpKlSRVrRqo++5roVGjrnbJG0xyvlZ4BJAShB0aAOCq1qw5qM6dP823L8kbb/TSQw+1KvB2MzON4uLO5xpWLvw9+/TZEjVqWFHx9HTTRx/dpKpVAx1GIfP19Sy21/zpp791222z8vw8o6KC9euvd1naMlMcOF8rPAJICcIODQBwZYsW7VX//rN06tS5HMs8PNw0eXI3p9yd/ezZVHs4eeON1frii63F/ppWKVfOM8ewyOXL++a4f8vF93oJDPTOd7SvLVuOqVWrj/INlLVqhWrz5vtVrlzxBaH8pKSk68yZ8/L395K/v1eht8f5WuERQEoQdmgAgKtLTEzRl19u1cyZ23TsWJICArzVo0e07ruvpapWdf7/fYcOJSgy8vUCXcZVr155/fbbXUpISFFCQori47P+PJ/LdGqu88+eLfnDJHt4uCk01PeSN6H89NPNWr58f4G298EHN+qee1oUc9U5rVy5X2+8sUazZ+9QevqFe9C0bVtNo0ZdrQEDGl7xaHWcrxUeAaQEYYcGAMD5CnKXdptNmjv3Dt14Y51CvVZ6eqYSEwsSYC4EtTNnzhfq9UqCqlUD9MwznVW+fDmHR0iIT7ENWf3CC8v01FOL81x+4411NGvWbVc0SADna4VHAClB2KEBAHC+jIxMjR49T+++uy7X5Z6ebvrww94aMuQqp9Y1bdofevDBeQVa95prqmjQoMbZhkJ2vJdLSbtJpc12YRjh7MHkUo+goPwvD/vkk00aNux/+b7+kCFN9cknfS+7bs7XCo8AUoKwQwMAYJ2VK/dr2rS1WrBgtxITUxUR4acBAxrqgQeuVnR0iNPrSUpKVcOG7+Q5pHIWT083rVo1Qi1aVL7keufPpzvcpyXnvVvO5bjXS1zceZWkM0UPDzeFheUdWkJDfTRhwq86cSK5QNuLiRmtWrUur5M852uFRwApQdihAQDAxf7664SuvfZzHT6cmOtyLy93ffHFzbrttobF8voZGZk6c+a8QzDZvz9eY8b8UqKHPy6of/2rnSZP7n5Zz+F8rfCcdytPAAAAXJYGDcK1YcO9mjp1tT7+eKNOnrzwy76Xl7sGDGio8ePbqGnTisX2+u7ubvbWhYutXXtYn366uUDbGDu2la66qqJOnky+6HHOYfrUqWRLWlr+/PO4818UtICUJCRqAACQl7S0DMXGxis9PVNVqwYWyZCyV2rHjpNq2fKDfEf1atgwXOvW3ZtvZ++MjEzFxZ3PFlLyDixZl4cV1g031NaPPw68rOdwvlZ4tIAAAACUAp6e7pfdX6G41KtXXnPn3qG+fb9WYmJqnuvMmzeoQCNNubu7/f8Qv+VUt27BakhLy9Dp047BZOnSWL311h8Ffh+NGlUo8LooOrSAlCAkagAAUJocOBCvt9/+Q9Onb7J3/K5fv7zuv7+lhg9v5vRWmoyMTEVHv5lvx/0sdEK3BgGkBGGHBgAApZExRgkJKfLwcJOfn3WXhkkMw1saFM/dXwAAAFBm2Gw2BQX5WB4+JGno0Kv0wgtdLrnOjTfW0Xvv3eikipAdAQQAAAAu5YknOmrFimHq37+hPD3/Od1t27aaZsy4RXPmDLiiu6CjaPDJAwAAwOW0a1dd7dpVV0pKuuLizsvPz8vSkcPwDwIIAAAAXJa3t4ciIvytLgMX4RIsAAAAAE5DAAEAAADgNAQQAAAAAE5DAAEAAADgNAQQAAAAAE5DAAEAAADgNAQQAAAAAE5DAAEAAADgNAQQAAAAAE5DAAEAAADgNAQQAAAAAE5DAAEAAADgNB5WF4B/GGMkSQkJCRZXAgAAgNxknadlnbfh8hFASpDExERJUrVq1SyuBAAAAJeSmJiooKAgq8solWyG+FZiZGZm6vDhwwoICJDNZivUthISElStWjUdOHBAgYGBRVRh0aC2K1NSayupdUnUdqVKam0ltS6J2q5USa2tpNYlUduVKsrajDFKTExU5cqV5eZGb4YrQQtICeLm5qaqVasW6TYDAwNL3D8CWajtypTU2kpqXRK1XamSWltJrUuititVUmsrqXVJ1Haliqo2Wj4Kh9gGAAAAwGkIIAAAAACchgDiory9vfXMM8/I29vb6lJyoLYrU1JrK6l1SdR2pUpqbSW1LonarlRJra2k1iVR25UqybWVRXRCBwAAAOA0tIAAAAAAcBoCCAAAAACnIYAAAAAAcBoCCAAAAACnIYC4mJdffllXX321AgICVKFCBfXt21c7d+60uiy7Q4cO6c4771RYWJh8fX3VuHFjrVu3zul1LFu2TL1791blypVls9k0Z84ch+XGGD399NOqVKmSfH191b17d8XExFhe18Xuv/9+2Ww2vf7668VeV0FqS0pK0oMPPqiqVavK19dXDRo00HvvvVfsdeW3z58+fVqjR49W3bp15evrq+rVq+uhhx5SfHy85bVlWbVqlbp27So/Pz8FBgaqY8eOOnfuXLHW9u6776pJkyb2m3K1adNG8+bNsy8/f/68Ro0apbCwMPn7+6tfv346duxYsdZU0NqyGGN03XXX5XusOKuuo0eP6q677lLFihXl5+en5s2b67vvviv2unIzefJk2Ww2jR07VpK1x0F+tWWx4jiYNGmSbDabw6NevXr25VYdB/nVlcXZx0BBarP6OLjUeUZaWpr+9a9/qXHjxvLz81PlypU1ePBgHT582Gn14QICiItZunSpRo0apdWrV+vXX39VWlqaevToobNnz1pdms6cOaN27drJ09NT8+bN019//aXXXntNISEhTq/l7Nmzatq0qaZNm5br8ldeeUVvvvmm3nvvPa1Zs0Z+fn7q2bOnzp8/b2ldWWbPnq3Vq1ercuXKxVrPxfKrbdy4cfrll1/0xRdfaPv27Ro7dqwefPBBzZ07t1jrym+fP3z4sA4fPqx///vf+vPPP/XJJ5/ol19+0YgRI4q1roLUJl046erVq5d69OihP/74Q2vXrtWDDz4oN7fi/ee5atWqmjx5stavX69169apa9eu6tOnj7Zt2yZJevjhh/XDDz9o1qxZWrp0qQ4fPqxbbrmlWGsqaG1ZXn/9ddlsNqfUVJC6Bg8erJ07d2ru3LnaunWrbrnlFvXv318bN250Wo2StHbtWr3//vtq0qSJfZ6Vx0F+tUnWHQeS1LBhQx05csT+WLFihX2ZlcfBperK4uxjoCC1WXkc5HeekZycrA0bNuipp57Shg0b9P3332vnzp266aabir02ZGPg0o4fP24kmaVLl1pdivnXv/5l2rdvb3UZOUgys2fPtk9nZmaaihUrmldffdU+Ly4uznh7e5uvvvrKsrqyHDx40FSpUsX8+eefJjIy0kydOtVpNV2qtoYNG5rnnnvOYV7z5s3NE0884cTKCrbPf/PNN8bLy8ukpaU5sbLca2vVqpV58sknnVpHXkJCQsxHH31k4uLijKenp5k1a5Z92fbt240ks2rVKktry7Jx40ZTpUoVc+TIkTyPFWfX5efnZz777DOH5aGhoebDDz90Wj2JiYmmdu3a5tdffzWdOnUyY8aMyXNdZx8Hl6rNquPgmWeeMU2bNs11mZXHwaXqymLVMZBfbVYeB1dynvHHH38YSSY2NraYqkJuaAFxcVnN66GhoRZXIs2dO1ctW7bUbbfdpgoVKqhZs2b68MMPrS4rh7179+ro0aPq3r27fV5QUJBatWqlVatWWViZlJmZqbvuukuPPPKIGjZsaGkt2bVt21Zz587VoUOHZIzR4sWL9ffff6tHjx5OraMg+3x8fLwCAwPl4eHhrLLsryv9U9vx48e1Zs0aVahQQW3btlVERIQ6deqU6y+dxSkjI0Nff/21zp49qzZt2mj9+vVKS0tzOAbq1aun6tWrO/0YyF6bdOFXzIEDB2ratGmqWLGiU+u5VF1t27bVzJkzdfr0aWVmZurrr7/W+fPn1blzZ6fVNWrUKN1www0O311enH0c5FWb1cdBTEyMKleurOjoaA0aNEj79++XJMuPg7zqkqw/Bi5Vm5XHwZWcZ8THx8tmsyk4OLjY68NFrE5AKD4ZGRnmhhtuMO3atbO6FGOMMd7e3sbb29tMnDjRbNiwwbz//vvGx8fHfPLJJ5bWpWy/HK1cudJIMocPH3ZY77bbbjP9+/e3rC5jjHnppZfMtddeazIzM40xpkS1gJw/f94MHjzYSDIeHh7Gy8vLfPrpp06tqyD7/IkTJ0z16tXN448/7sTKcq9t1apVRpIJDQ01//3vf82GDRvM2LFjjZeXl/n777+LvaYtW7YYPz8/4+7uboKCgsxPP/1kjDHmyy+/NF5eXjnWv/rqq82jjz5a7HVdqjZjjLn33nvNiBEj7NO57Y9W1HXmzBnTo0cP+zEQGBho5s+f75S6jDHmq6++Mo0aNTLnzp0zxphLtoA4+zi4VG1WHgc///yz+eabb8zmzZvNL7/8Ytq0aWOqV69uEhISLD0OLlWXMdYeA/nVZuVxcLnnGefOnTPNmzc3AwcOdEp9+Idzf/6DU40aNUp//vmn039NzUtmZqZatmypl156SZLUrFkz/fnnn3rvvfc0ZMgQi6sr+davX6833nhDGzZssOSa3/y89dZbWr16tebOnavIyEgtW7ZMo0aNUuXKlQv0a2xRyG+fT0hI0A033KAGDRpo0qRJTqnpUrVlZmZKku677z4NGzZM0oXjYuHChfrvf/+rl19+uVhrqlu3rjZt2qT4+Hh9++23GjJkiJYuXVqsr1lQedW2a9cuLVq0yOn9KvKrq0GDBnrqqacUFxen3377TeXLl9ecOXPUv39/LV++XI0bNy7Wug4cOKAxY8bo119/lY+PzyXXdfZxkF9tVh4H1113nf3vTZo0UatWrRQZGalvvvlGvr6+xfa6hakrPDzc0mPgUrWNGDHC0uPgcs4z0tLS1L9/fxlj9O677xZrXciF1QkIxWPUqFGmatWqZs+ePVaXYle9enWHX2yMMeadd94xlStXtqiiC5Ttl6Pdu3cbSWbjxo0O63Xs2NE89NBDltU1depUY7PZjLu7u/0hybi5uZnIyEin1ZVbbcnJycbT09P8+OOPDuuNGDHC9OzZ0yk15bfPJyQkmDZt2phu3brZf4V1lrxq27Nnj5FkPv/8c4f5/fv3t+QXuW7dupl7773XLFy40EgyZ86ccVhevXp185///MfpdV1c25gxY/I8Djp16mRZXbt27TKSzJ9//plj+X333VfsdcyePdtIyvG5ZH1W6enpxhhrjoP8asv67ErKcdCyZUvz2GOPlbjjIKuuknYMXFyb1cdBQc8zUlNTTd++fU2TJk3MyZMni70u5EQfEBdjjNGDDz6o2bNna9GiRYqKirK6JLt27drlGIL077//VmRkpEUV5S4qKkoVK1bUwoUL7fMSEhK0Zs0a+7XeVrjrrru0ZcsWbdq0yf6oXLmyHnnkEc2fP9+yuqQLvySlpaXlGLHG3d3d/utmcSnIPp+QkKAePXrIy8tLc+fOzfcXYmfVVqNGDVWuXLnEHBeZmZlKSUlRixYt5Onp6XAM7Ny5U/v377fsGMiq7bHHHstxHEjS1KlTNX36dMvqSk5OliRLjgFJ6tatm7Zu3erwubRs2VKDBg3Spk2b5O7ubtlxkF9t0dHRJeY4SEpK0u7du1WpUqUSdRxcXFdJOwYurs3q46Ag5xlZLR8xMTH67bffFBYWVux1IRcWByAUsQceeMAEBQWZJUuWmCNHjtgfycnJVpdm/vjjD+Ph4WFefPFFExMTY7788ktTrlw588UXXzi9lsTERLNx40azceNGI8n85z//MRs3brSPgjF58mQTHBxs/ve//5ktW7aYPn36mKioqGL/xTC/urJzZh+Q/Grr1KmTadiwoVm8eLHZs2ePmT59uvHx8THvvPNOsdaV3z4fHx9vWrVqZRo3bmx27drlsE7Wr8JW1WbMhZatwMBAM2vWLBMTE2OefPJJ4+PjY3bt2lWstT322GNm6dKlZu/evWbLli3mscceMzabzSxYsMAYY8z9999vqlevbhYtWmTWrVtn2rRpY9q0aVOsNRW0tuzkpOvfL1VXamqqqVWrlunQoYNZs2aN2bVrl/n3v/9tbDabQz8RZ7q4n4WVx0F+tRlj3XEwfvx4s2TJErN3716zcuVK0717d1O+fHlz/PhxY4x1x0F+dWXnrGMgv9qsPg7yO89ITU01N910k6latarZtGmTw3GQkpJS7PXhHwQQFyMp18f06dOtLs0YY8wPP/xgGjVqZLy9vU29evXMBx98YEkdixcvzvVzGjJkiDHmwlC8Tz31lImIiDDe3t6mW7duZufOnZbXlZ0zA0h+tR05csQMHTrUVK5c2fj4+Ji6deua1157zd5hvrjkt8/nVbcks3fvXktry/Lyyy+bqlWrmnLlypk2bdqY5cuXF2tdxhgzfPhwExkZaby8vEx4eLjp1q2bwwn+uXPnzMiRI01ISIgpV66cufnmm82RI0eKva6C1Jads06+8qvr77//NrfccoupUKGCKVeunGnSpEmO4Uid6eKTfCuPg/xqy2LFcTBgwABTqVIl4+XlZapUqWIGDBjgEHqsOg7yqys7ZwaQ/Gqz+ji41HnG3r178zwOFi9e7LQaYYzNGGOKqjUFAAAAAC6FPiAAAAAAnIYAAgAAAMBpCCAAAAAAnIYAAgAAAMBpCCAAAAAAnIYAAgAAAMBpCCAAAAAAnIYAAgAubN++fbLZbNq0aZPVpdjt2LFDrVu3lo+Pj6666qrLfn5JfE8AgIIjgABAMRo6dKhsNpsmT57sMH/OnDmy2WwWVWWtZ555Rn5+ftq5c6cWLlxodTn65JNPFBwcbHUZAFBmEEAAoJj5+PhoypQpOnPmjNWlFJnU1NQrfu7u3bvVvn17RUZGKiwsrAirslZGRoYyMzOtLgMASjwCCAAUs+7du6tixYp6+eWX81xn0qRJOS5Hev3111WjRg379NChQ9W3b1+99NJLioiIUHBwsJ577jmlp6frkUceUWhoqKpWrarp06fn2P6OHTvUtm1b+fj4qFGjRlq6dKnD8j///FPXXXed/P39FRERobvuuksnT560L+/cubMefPBBjR07VuXLl1fPnj1zfR+ZmZl67rnnVLVqVXl7e+uqq67SL7/8Yl9us9m0fv16Pffcc7LZbJo0aVKe23nllVdUq1YteXt7q3r16nrxxRdzXTe3FozsLUybN29Wly5dFBAQoMDAQLVo0ULr1q3TkiVLNGzYMMXHx8tmsznUlJKSogkTJqhKlSry8/NTq1attGTJkhyvO3fuXDVo0EDe3t7av3+/lixZomuuuUZ+fn4KDg5Wu3btFBsbm2vtAFAWEUAAoJi5u7vrpZde0ltvvaWDBw8WaluLFi3S4cOHtWzZMv3nP//RM888oxtvvFEhISFas2aN7r//ft133305XueRRx7R+PHjtXHjRrVp00a9e/fWqVOnJElxcXHq2rWrmjVrpnXr1umXX37RsWPH1L9/f4dtfPrpp/Ly8tLKlSv13nvv5VrfG2+8oddee03//ve/tWXLFvXs2VM33XSTYmJiJElHjhxRw4YNNX78eB05ckQTJkzIdTsTJ07U5MmT9dRTT+mvv/7SjBkzFBERccWf26BBg1S1alWtXbtW69ev12OPPSZPT0+1bdtWr7/+ugIDA3XkyBGHmh588EGtWrVKX3/9tbZs2aLbbrtNvXr1sr8XSUpOTtaUKVP00Ucfadu2bQoNDVXfvn3VqVMnbdmyRatWrdK9995bZi+3A4BcGQBAsRkyZIjp06ePMcaY1q1bm+HDhxtjjJk9e7a5+J/gZ555xjRt2tThuVOnTjWRkZEO24qMjDQZGRn2eXXr1jUdOnSwT6enpxs/Pz/z1VdfGWOM2bt3r5FkJk+ebF8nLS3NVK1a1UyZMsUYY8zzzz9vevTo4fDaBw4cMJLMzp07jTHGdOrUyTRr1izf91u5cmXz4osvOsy7+uqrzciRI+3TTZs2Nc8880ye20hISDDe3t7mww8/zHV51nvauHGjMcaY6dOnm6CgIId1sn++AQEB5pNPPsl1e7k9PzY21ri7u5tDhw45zO/WrZuZOHGi/XmSzKZNm+zLT506ZSSZJUuW5Pn+AKCsowUEAJxkypQp+vTTT7V9+/Yr3kbDhg3l5vbPP90RERFq3Lixfdrd3V1hYWE6fvy4w/PatGlj/7uHh4datmxpr2Pz5s1avHix/P397Y969epJutBfI0uLFi0uWVtCQoIOHz6sdu3aOcxv167dZb3n7du3KyUlRd26dSvwc/Izbtw43X333erevbsmT57s8L5ys3XrVmVkZKhOnToOn8vSpUsdnuvl5aUmTZrYp0NDQzV06FD17NlTvXv31htvvKEjR44U2fsAAFdAAAEAJ+nYsaN69uypiRMn5ljm5uYmY4zDvLS0tBzreXp6OkzbbLZc511OZ+ikpCT17t1bmzZtcnjExMSoY8eO9vX8/PwKvM3C8PX1vaz1C/LZTZo0Sdu2bdMNN9ygRYsWqUGDBpo9e3ae20xKSpK7u7vWr1/v8Jls375db7zxhkOt2S+vmj59ulatWqW2bdtq5syZqlOnjlavXn1Z7wkAXBkBBACcaPLkyfrhhx+0atUqh/nh4eE6evSow4l0Ud7n4uIT4PT0dK1fv17169eXJDVv3lzbtm1TjRo1VKtWLYfH5YSOwMBAVa5cWStXrnSYv3LlSjVo0KDA26ldu7Z8fX0LPERveHi4EhMTdfbsWfu83D67OnXq6OGHH9aCBQt0yy232Dvre3l5KSMjw2HdZs2aKSMjQ8ePH8/xmVSsWDHfmpo1a6aJEyfq999/V6NGjTRjxowCvRcAKAsIIADgRI0bN9agQYP05ptvOszv3LmzTpw4oVdeeUW7d+/WtGnTNG/evCJ73WnTpmn27NnasWOHRo0apTNnzmj48OGSpFGjRun06dO64447tHbtWu3evVvz58/XsGHDcpyY5+eRRx7RlClTNHPmTO3cuVOPPfaYNm3apDFjxhR4Gz4+PvrXv/6lRx99VJ999pl2796t1atX6+OPP851/VatWqlcuXJ6/PHHtXv3bs2YMUOffPKJffm5c+f04IMPasmSJYqNjdXKlSu1du1aewCrUaOGkpKStHDhQp08eVLJycmqU6eOBg0apMGDB+v777/X3r179ccff+jll1/WTz/9lGfte/fu1cSJE7Vq1SrFxsZqwYIFiomJsb8WAIAAAgBO99xzz+W4RKp+/fp65513NG3aNDVt2lR//PFHniNEXYnJkydr8uTJatq0qVasWKG5c+eqfPnykmRvtcjIyFCPHj3UuHFjjR07VsHBwQ79TQrioYce0rhx4zR+/Hg1btxYv/zyi+bOnavatWtf1naeeuopjR8/Xk8//bTq16+vAQMG5OjXkiU0NFRffPGFfv75ZzVu3FhfffWVw/C+7u7uOnXqlAYPHqw6deqof//+uu666/Tss89Kktq2bav7779fAwYMUHh4uF555RVJFy6lGjx4sMaPH6+6deuqb9++Wrt2rapXr55n3eXKldOOHTvUr18/1alTR/fee69GjRql++6777LePwC4MpvJfuEsAAAAABQTWkAAAAAAOA0BBAAAAIDTEEAAAAAAOA0BBAAAAIDTEEAAAAAAOA0BBAAAAIDTEEAAAAAAOA0BBAAAAIDTEEAAAAAAOA0BBAAAAIDTEEAAAAAAOA0BBAAAAIDTEEAAAAAAOA0BBAAAAIDTEEAAAAAAOA0BBAAAAIDTEEAAAAAAOA0BBAAAAIDTEEAAAAAAOA0BBAAAAIDTEEAAAAAAOA0BBAAAAIDTEEAAAAAAOA0BBAAAAIDTEEAAAAAAOM3/AS/psGqwWfzNAAAAAElFTkSuQmCC' width=800.0/>\n",
       "            </div>\n",
       "        "
      ],
      "text/plain": [
       "Canvas(toolbar=Toolbar(toolitems=[('Home', 'Reset original view', 'home', 'home'), ('Back', 'Back to previous …"
      ]
     },
     "metadata": {},
     "output_type": "display_data"
    }
   ],
   "source": [
    "plot_clustering_results(\n",
    "    clustering_results_dict[\"avg\"], \n",
    "    k_range=K_RANGE, \n",
    "    plot_title=\"Elbow method evaluation, average of all seasons\",\n",
    ")"
   ]
  },
  {
   "cell_type": "markdown",
   "metadata": {},
   "source": [
    "## Dataset composition"
   ]
  },
  {
   "cell_type": "markdown",
   "metadata": {},
   "source": [
    "### Compute distance between player and centroid of its cluster"
   ]
  },
  {
   "cell_type": "code",
   "execution_count": 65,
   "metadata": {},
   "outputs": [],
   "source": [
    "compute_distance_from_centroid_UDF = udf(\n",
    "    lambda player, centroid: float(\n",
    "        Vectors.squared_distance(\n",
    "            player, centroid\n",
    "        )\n",
    "    ), FloatType()\n",
    ")"
   ]
  },
  {
   "cell_type": "code",
   "execution_count": 66,
   "metadata": {},
   "outputs": [
    {
     "name": "stdout",
     "output_type": "stream",
     "text": [
      "clustering data found on disk, loading...\n"
     ]
    }
   ],
   "source": [
    "if os.path.isdir(CLUSTERING_DF_PATH):\n",
    "    print(\"clustering data found on disk, loading...\")\n",
    "    pre_processed_df = spark.read.parquet(CLUSTERING_DF_PATH)"
   ]
  },
  {
   "cell_type": "code",
   "execution_count": 67,
   "metadata": {},
   "outputs": [],
   "source": [
    "for k in K_RANGE:\n",
    "    pre_processed_df = pre_processed_df.withColumn(\n",
    "        \"distance_from_centroid\" + \"_k_\" + k,\n",
    "        compute_distance_from_centroid_UDF(\n",
    "            col(\"clustering_features_vec_min_max\"),\n",
    "            col(\"centroid\" + \"_k_\" + k)\n",
    "        )\n",
    "    )\n",
    "        "
   ]
  },
  {
   "cell_type": "markdown",
   "metadata": {},
   "source": [
    "### From players to teams"
   ]
  },
  {
   "cell_type": "code",
   "execution_count": 68,
   "metadata": {},
   "outputs": [],
   "source": [
    "teams_df = pre_processed_df.groupBy(\n",
    "    [\"season\", \"club_name\", \"macro_role\"]\n",
    ").agg(\n",
    "    {\n",
    "        \"distance_from_centroid\" + \"_k_\" + str(k): \"avg\" for k in K_RANGE \n",
    "    }\n",
    ")\n",
    "\n",
    "for k in K_RANGE:\n",
    "    teams_df = teams_df.withColumnRenamed(\n",
    "        \"avg(distance_from_centroid\" + \"_k_\" + str(k) + \")\",\n",
    "        \"avg_distance_from_centroid\" + \"_k_\" + str(k)\n",
    "    )"
   ]
  },
  {
   "cell_type": "code",
   "execution_count": 69,
   "metadata": {},
   "outputs": [],
   "source": [
    "def generate_subquery(macro_role, k):\n",
    "    return f\"\"\"(\n",
    "        case\n",
    "            when macro_role='{macro_role}' then avg_distance_from_centroid_k_{k} \n",
    "        else NULL\n",
    "        end\n",
    "    ) as avg_dist_macro_role_{int(macro_role)}_k_{k}\n",
    "    \"\"\""
   ]
  },
  {
   "cell_type": "code",
   "execution_count": 70,
   "metadata": {},
   "outputs": [],
   "source": [
    "teams_df.createOrReplaceTempView(\"t\")\n",
    "\n",
    "temp = dict()\n",
    "\n",
    "for k in K_RANGE:\n",
    "    temp[k] = (\n",
    "        spark.sql(\n",
    "            f\"\"\"\n",
    "                select season, club_name, {generate_subquery(0.0, k)}, {generate_subquery(1.0, k)}, {generate_subquery(2.0, k)}, {generate_subquery(3.0, k)}, {generate_subquery(4.0, k)}, {generate_subquery(5.0, k)}, {generate_subquery(6.0, k)}, {generate_subquery(7.0, k)}\n",
    "                from t\n",
    "            \"\"\"\n",
    "        )\n",
    "        .groupBy(\"season\", \"club_name\")\n",
    "        .agg(\n",
    "            # TODO use for loop as in second cell of \"from players to teams\"\n",
    "            sum(f\"avg_dist_macro_role_0_k_{k}\").alias(f\"avg_dist_macro_role_0_k_{k}\"),\n",
    "            sum(f\"avg_dist_macro_role_1_k_{k}\").alias(f\"avg_dist_macro_role_1_k_{k}\"),\n",
    "            sum(f\"avg_dist_macro_role_2_k_{k}\").alias(f\"avg_dist_macro_role_2_k_{k}\"),\n",
    "            sum(f\"avg_dist_macro_role_3_k_{k}\").alias(f\"avg_dist_macro_role_3_k_{k}\"),\n",
    "            sum(f\"avg_dist_macro_role_4_k_{k}\").alias(f\"avg_dist_macro_role_4_k_{k}\"),\n",
    "            sum(f\"avg_dist_macro_role_5_k_{k}\").alias(f\"avg_dist_macro_role_5_k_{k}\"),\n",
    "            sum(f\"avg_dist_macro_role_6_k_{k}\").alias(f\"avg_dist_macro_role_6_k_{k}\"),\n",
    "            sum(f\"avg_dist_macro_role_7_k_{k}\").alias(f\"avg_dist_macro_role_7_k_{k}\"),\n",
    "        )\n",
    "    )"
   ]
  },
  {
   "cell_type": "code",
   "execution_count": 106,
   "metadata": {},
   "outputs": [],
   "source": [
    "# NOTE executing this cell n times, w/o restoring teams_df --> \n",
    "# n copies of avg_dist_macro_role_[0:7]_k_[2, 6]\n",
    "\n",
    "teams_df = temp[K_RANGE[0]]\n",
    "\n",
    "for i in range(1, len(K_RANGE)):\n",
    "    teams_df = teams_df.join(\n",
    "        temp[K_RANGE[i]],\n",
    "        on=[\"season\", \"club_name\"]\n",
    "    )"
   ]
  },
  {
   "cell_type": "code",
   "execution_count": 107,
   "metadata": {},
   "outputs": [],
   "source": [
    "avg_distances_dict = dict()\n",
    "avg_distances_vec_dict = dict()\n",
    "\n",
    "for k in K_RANGE:\n",
    "    \n",
    "    avg_distances_dict[k] = [\n",
    "        f\"avg_dist_macro_role_{i}_k_{k}\" for i in range(0, NUM_MACRO_ROLES)\n",
    "    ]\n",
    "\n",
    "    avg_distances_vec_dict[k] = f\"avg_dist_vec_k_{k}\""
   ]
  },
  {
   "cell_type": "code",
   "execution_count": 108,
   "metadata": {},
   "outputs": [
    {
     "name": "stderr",
     "output_type": "stream",
     "text": [
      "/home/linuxbrew/.linuxbrew/Cellar/python@3.9/3.9.7_1/lib/python3.9/site-packages/pyspark/sql/pandas/conversion.py:202: PerformanceWarning: DataFrame is highly fragmented.  This is usually the result of calling `frame.insert` many times, which has poor performance.  Consider joining all columns at once using pd.concat(axis=1) instead.  To get a de-fragmented frame, use `newframe = frame.copy()`\n",
      "  df[column_name] = series\n"
     ]
    }
   ],
   "source": [
    "global_max = teams_df.toPandas()[\n",
    "    [ x for x in avg_distances_dict.values() for x in x ]\n",
    "].to_numpy().reshape(-1).max()"
   ]
  },
  {
   "cell_type": "code",
   "execution_count": 109,
   "metadata": {},
   "outputs": [],
   "source": [
    "teams_df = teams_df.fillna(global_max * 1.5)    "
   ]
  },
  {
   "cell_type": "code",
   "execution_count": 110,
   "metadata": {},
   "outputs": [],
   "source": [
    "for k in K_RANGE:\n",
    "    assembler = VectorAssembler(\n",
    "        inputCols=avg_distances_dict[k], outputCol=avg_distances_vec_dict[k]\n",
    "    )\n",
    "\n",
    "    teams_df = assembler.transform(teams_df)"
   ]
  },
  {
   "cell_type": "markdown",
   "metadata": {},
   "source": [
    "## Visualizations"
   ]
  },
  {
   "cell_type": "code",
   "execution_count": null,
   "metadata": {},
   "outputs": [],
   "source": [
    "pre_processed_df, pca_model = perform_pca(\n",
    "    df=pre_processed_df,\n",
    "    num_components=2,\n",
    "    input_col=\"clustering_features_vec_min_max\",\n",
    "    output_col=\"clustering_features_vec_min_max_pcs\"\n",
    ")"
   ]
  },
  {
   "cell_type": "code",
   "execution_count": null,
   "metadata": {},
   "outputs": [],
   "source": [
    "pdf = feature_vec_to_cols(\n",
    "    pre_processed_df.toPandas(),\n",
    "    \"clustering_features_vec_min_max_pcs\",\n",
    "    [\"clustering_features_vec_min_max_pc_0\", \"clustering_features_vec_min_max_pc_1\"]\n",
    ")"
   ]
  },
  {
   "cell_type": "code",
   "execution_count": null,
   "metadata": {},
   "outputs": [],
   "source": [
    "for s in seasons:\n",
    "    scatter_plot(\n",
    "        x = pdf[pdf[\"season\"] == s][\"clustering_features_vec_min_max_pc_0\"],\n",
    "        y = pdf[pdf[\"season\"] == s][\"clustering_features_vec_min_max_pc_1\"],\n",
    "        x_label=\"Clustering Features Principal Component 0\",\n",
    "        y_label=\"Clustering Features Principal Component 1\",\n",
    "        title=f\"Clustering result for season {s}\",\n",
    "        c=pdf[pdf[\"season\"] == s][\"cluster_id_k_6\"],\n",
    "        c_map=plt.cm.get_cmap(\"tab10\"),\n",
    "        figsize=(12,8),\n",
    "    )"
   ]
  },
  {
   "cell_type": "markdown",
   "metadata": {},
   "source": [
    "## Learning from clustering"
   ]
  },
  {
   "cell_type": "code",
   "execution_count": 111,
   "metadata": {},
   "outputs": [],
   "source": [
    "df = df.join(\n",
    "    teams_df,\n",
    "    on=[\"club_name\", \"season\"]\n",
    ")"
   ]
  },
  {
   "cell_type": "code",
   "execution_count": 112,
   "metadata": {},
   "outputs": [],
   "source": [
    "train_df, test_df = df.randomSplit([0.9, 0.1], seed=random_seed)\n",
    "\n",
    "FEATURES_COL = \"avg_dist_vec_k_6\""
   ]
  },
  {
   "cell_type": "markdown",
   "metadata": {},
   "source": [
    "### Regression"
   ]
  },
  {
   "cell_type": "code",
   "execution_count": 113,
   "metadata": {},
   "outputs": [
    {
     "data": {
      "text/plain": [
       "RegressionEvaluator_e3de962ccab0"
      ]
     },
     "execution_count": 113,
     "metadata": {},
     "output_type": "execute_result"
    }
   ],
   "source": [
    "regression_evaluator_cv.setLabelCol(REGRESSION_LABEL_COL)"
   ]
  },
  {
   "cell_type": "markdown",
   "metadata": {},
   "source": [
    "#### Linear Regression"
   ]
  },
  {
   "cell_type": "code",
   "execution_count": null,
   "metadata": {},
   "outputs": [],
   "source": [
    "from pyspark.ml.regression import LinearRegression\n",
    "from pyspark.ml.regression import LinearRegressionModel\n",
    "\n",
    "PREDICTION_COL = \"attempt_3_regression_linear_regression_predictions\"\n",
    "\n",
    "if not model_exists(\n",
    "    TRAINED_MODELS_DIRS[\"Attempt 3\"][\"Regression\"][\"Linear Regression\"]\n",
    "):\n",
    "    print(\"Linear Regression model NOT found in disk, training...\")\n",
    "    regression_evaluator_cv.setPredictionCol(PREDICTION_COL)\n",
    "    \n",
    "    estimator = LinearRegression()\n",
    "\n",
    "    linear_regression_param_grid = (\n",
    "        ParamGridBuilder()\n",
    "        .addGrid(estimator.featuresCol, FEATURES_COL)\n",
    "        .addGrid(estimator.labelCol, [REGRESSION_LABEL_COL])\n",
    "        .addGrid(estimator.predictionCol, [PREDICTION_COL])\n",
    "        # .addGrid(estimator.regParam, [0.0, 0.001, 0.01, 0.1, 0.5, 1])\n",
    "        # .addGrid(estimator.solver, [\"auto\", \"normal\"])\n",
    "        # .addGrid(estimator.fitIntercept, [True, False])\n",
    "        # .addGrid(estimator.elasticNetParam, [0.0, 0.5, 1.0])\n",
    "        .build()\n",
    "    )\n",
    "\n",
    "    cross_validated_models = learn_best_model(\n",
    "        estimator=estimator,\n",
    "        param_grid=linear_regression_param_grid,\n",
    "        evaluator_cv=regression_evaluator_cv\n",
    "    )\n",
    "else:\n",
    "    print(\"Linear Regression model found in disk, loading...\")\n",
    "    model = LinearRegressionModel.load(\n",
    "        TRAINED_MODELS_DIRS[\"Attempt 3\"][\"Regression\"][\"Linear Regression\"]\n",
    "    )"
   ]
  },
  {
   "cell_type": "code",
   "execution_count": null,
   "metadata": {},
   "outputs": [],
   "source": [
    "if not model_exists(\n",
    "    TRAINED_MODELS_DIRS[\"Attempt 3\"][\"Regression\"][\"Linear Regression\"]\n",
    "):\n",
    "    print(\"Evaluating Linear Regression model trained in previous cell...\")\n",
    "    evaluate_learning_models(\n",
    "        best_model=cross_validated_models.bestModel,\n",
    "        evaluators=get_evaluators(\n",
    "            cross_validated_models.bestModel, \n",
    "            label_col=REGRESSION_LABEL_COL, \n",
    "            prediction_col=PREDICTION_COL, \n",
    "            evaluation_metrics=REGRESSION_EVALUATION_METRICS\n",
    "        ),\n",
    "        save_training_result_path=\"./evaluation_results/attempt_3/regression/linear_regression.json\"\n",
    "    )\n",
    "else:\n",
    "    print(\"Printing evaluation loaded from disk...\")\n",
    "    print_model_evaluation(\n",
    "        model_evaluation_path=\"./evaluation_results/attempt_3/regression/linear_regression.json\"\n",
    "    )"
   ]
  },
  {
   "cell_type": "code",
   "execution_count": null,
   "metadata": {},
   "outputs": [],
   "source": [
    "if not model_exists(\n",
    "    TRAINED_MODELS_DIRS[\"Attempt 3\"][\"Regression\"][\"Linear Regression\"]\n",
    "):\n",
    "    print(\"Saving Linear Regression model on disk...\")\n",
    "    cross_validated_models.bestModel.save(\n",
    "        \"./trained_models/attempt_3/regression/linear_regression\"\n",
    "    )"
   ]
  },
  {
   "cell_type": "markdown",
   "metadata": {},
   "source": [
    "#### Linear regression (multiple k)"
   ]
  },
  {
   "cell_type": "code",
   "execution_count": 120,
   "metadata": {},
   "outputs": [],
   "source": [
    "model_evals_dict = dict()\n",
    "cross_validated_models_dict = dict()"
   ]
  },
  {
   "cell_type": "code",
   "execution_count": 121,
   "metadata": {},
   "outputs": [
    {
     "name": "stdout",
     "output_type": "stream",
     "text": [
      "Linear Regression multiple k with k=2 model NOT found in disk, training...\n"
     ]
    },
    {
     "name": "stderr",
     "output_type": "stream",
     "text": [
      "                                                                                ]]\r"
     ]
    },
    {
     "name": "stdout",
     "output_type": "stream",
     "text": [
      "Linear Regression multiple k with k=6 model NOT found in disk, training...\n"
     ]
    },
    {
     "name": "stderr",
     "output_type": "stream",
     "text": [
      "                                                                                ]]\r"
     ]
    },
    {
     "name": "stdout",
     "output_type": "stream",
     "text": [
      "Linear Regression multiple k with k=10 model NOT found in disk, training...\n"
     ]
    },
    {
     "name": "stderr",
     "output_type": "stream",
     "text": [
      "                                                                                ]\r"
     ]
    },
    {
     "name": "stdout",
     "output_type": "stream",
     "text": [
      "Linear Regression multiple k with k=14 model NOT found in disk, training...\n"
     ]
    },
    {
     "name": "stderr",
     "output_type": "stream",
     "text": [
      "                                                                                ]]\r"
     ]
    },
    {
     "name": "stdout",
     "output_type": "stream",
     "text": [
      "Linear Regression multiple k with k=18 model NOT found in disk, training...\n"
     ]
    },
    {
     "name": "stderr",
     "output_type": "stream",
     "text": [
      "                                                                                ]\r"
     ]
    },
    {
     "name": "stdout",
     "output_type": "stream",
     "text": [
      "Linear Regression multiple k with k=22 model NOT found in disk, training...\n"
     ]
    },
    {
     "name": "stderr",
     "output_type": "stream",
     "text": [
      "                                                                                ]6]]\r"
     ]
    },
    {
     "name": "stdout",
     "output_type": "stream",
     "text": [
      "Linear Regression multiple k with k=26 model NOT found in disk, training...\n"
     ]
    },
    {
     "name": "stderr",
     "output_type": "stream",
     "text": [
      "                                                                                ]6]]\r"
     ]
    },
    {
     "name": "stdout",
     "output_type": "stream",
     "text": [
      "Linear Regression multiple k with k=30 model NOT found in disk, training...\n"
     ]
    },
    {
     "name": "stderr",
     "output_type": "stream",
     "text": [
      "                                                                                ]]]]\r"
     ]
    },
    {
     "name": "stdout",
     "output_type": "stream",
     "text": [
      "Linear Regression multiple k with k=34 model NOT found in disk, training...\n"
     ]
    },
    {
     "name": "stderr",
     "output_type": "stream",
     "text": [
      "                                                                                ]6]]\r"
     ]
    },
    {
     "name": "stdout",
     "output_type": "stream",
     "text": [
      "Linear Regression multiple k with k=38 model NOT found in disk, training...\n"
     ]
    },
    {
     "name": "stderr",
     "output_type": "stream",
     "text": [
      "                                                                                ]]]]\r"
     ]
    },
    {
     "name": "stdout",
     "output_type": "stream",
     "text": [
      "Linear Regression multiple k with k=42 model NOT found in disk, training...\n"
     ]
    },
    {
     "name": "stderr",
     "output_type": "stream",
     "text": [
      "                                                                                ]6]]\r"
     ]
    },
    {
     "name": "stdout",
     "output_type": "stream",
     "text": [
      "Linear Regression multiple k with k=46 model NOT found in disk, training...\n"
     ]
    },
    {
     "name": "stderr",
     "output_type": "stream",
     "text": [
      "                                                                                ]]]]\r"
     ]
    },
    {
     "name": "stdout",
     "output_type": "stream",
     "text": [
      "Linear Regression multiple k with k=50 model NOT found in disk, training...\n"
     ]
    },
    {
     "name": "stderr",
     "output_type": "stream",
     "text": [
      "                                                                                ]]]]\r"
     ]
    },
    {
     "name": "stdout",
     "output_type": "stream",
     "text": [
      "Linear Regression multiple k with k=54 model NOT found in disk, training...\n"
     ]
    },
    {
     "name": "stderr",
     "output_type": "stream",
     "text": [
      "                                                                                ]6]]\r"
     ]
    },
    {
     "name": "stdout",
     "output_type": "stream",
     "text": [
      "Linear Regression multiple k with k=58 model NOT found in disk, training...\n"
     ]
    },
    {
     "name": "stderr",
     "output_type": "stream",
     "text": [
      "                                                                                ]6]]\r"
     ]
    },
    {
     "name": "stdout",
     "output_type": "stream",
     "text": [
      "Linear Regression multiple k with k=62 model NOT found in disk, training...\n"
     ]
    },
    {
     "name": "stderr",
     "output_type": "stream",
     "text": [
      "                                                                                16]]]\r"
     ]
    }
   ],
   "source": [
    "from pyspark.ml.regression import LinearRegression\n",
    "from pyspark.ml.regression import LinearRegressionModel\n",
    "\n",
    "for k in K_RANGE:\n",
    "\n",
    "    PREDICTION_COL = f\"attempt_3_regression_linear_regression_multiple_k_{k}_predictions\"\n",
    "\n",
    "    if not model_exists(\n",
    "        TRAINED_MODELS_DIRS[\"Attempt 3\"][\"Regression\"][\"Linear Regression multiple k\"][k]\n",
    "    ):\n",
    "        print(f\"Linear Regression multiple k with k={k} model NOT found in disk, training...\")\n",
    "        regression_evaluator_cv.setPredictionCol(PREDICTION_COL)\n",
    "        \n",
    "        estimator = LinearRegression()\n",
    "\n",
    "        param_grid = (\n",
    "            ParamGridBuilder()\n",
    "            .addGrid(estimator.featuresCol, [f\"avg_dist_vec_k_{k}\"])\n",
    "            .addGrid(estimator.labelCol, [REGRESSION_LABEL_COL])\n",
    "            .addGrid(estimator.predictionCol, [PREDICTION_COL])\n",
    "            # .addGrid(estimator.regParam, [0.0, 0.001, 0.01, 0.1, 0.5, 1])\n",
    "            # .addGrid(estimator.solver, [\"auto\", \"normal\"])\n",
    "            # .addGrid(estimator.fitIntercept, [True, False])\n",
    "            # .addGrid(estimator.elasticNetParam, [0.0, 0.5, 1.0])\n",
    "            .build()\n",
    "        )\n",
    "\n",
    "        cross_validated_models_dict[k] = learn_best_model(\n",
    "            estimator=estimator,\n",
    "            param_grid=param_grid,\n",
    "            evaluator_cv=regression_evaluator_cv\n",
    "        )\n",
    "    else:\n",
    "        print(\"Linear Regression multiple k with k={k} model found in disk, loading...\")\n",
    "        model = LinearRegressionModel.load(\n",
    "            TRAINED_MODELS_DIRS[\"Attempt 3\"][\"Regression\"][\"Linear Regression multiple k\"][k]\n",
    "        )"
   ]
  },
  {
   "cell_type": "code",
   "execution_count": 127,
   "metadata": {},
   "outputs": [
    {
     "name": "stdout",
     "output_type": "stream",
     "text": [
      "Printing evaluation loaded from disk...\n",
      "{'test_set_evaluation': {'mae': 9.686458216867836,\n",
      "                         'mse': 146.24219237203613,\n",
      "                         'r2': 0.49718458635830887,\n",
      "                         'rmse': 12.093063812452002,\n",
      "                         'var': 121.00644802456885},\n",
      " 'train_set_evaluation': {'explainedVariance': 115.69413048268765,\n",
      "                          'meanAbsoluteError': 9.880533280404322,\n",
      "                          'meanSquaredError': 155.0226715042796,\n",
      "                          'r2': 0.42736220889708476,\n",
      "                          'r2adj': 0.4269703267474848,\n",
      "                          'rootMeanSquaredError': 12.450810074219252}}\n",
      "Printing evaluation loaded from disk...\n",
      "{'test_set_evaluation': {'mae': 9.64952885703148,\n",
      "                         'mse': 145.67561482968352,\n",
      "                         'r2': 0.4991326146030809,\n",
      "                         'rmse': 12.069615355498431,\n",
      "                         'var': 120.88020247670147},\n",
      " 'train_set_evaluation': {'explainedVariance': 115.62230406882544,\n",
      "                          'meanAbsoluteError': 9.870575008948206,\n",
      "                          'meanSquaredError': 155.09449791815518,\n",
      "                          'r2': 0.4270968895177615,\n",
      "                          'r2adj': 0.42670482579801317,\n",
      "                          'rootMeanSquaredError': 12.453694147446981}}\n",
      "Printing evaluation loaded from disk...\n",
      "{'test_set_evaluation': {'mae': 9.657946400357647,\n",
      "                         'mse': 145.9075425894753,\n",
      "                         'r2': 0.4983351918444149,\n",
      "                         'rmse': 12.079219452823734,\n",
      "                         'var': 120.78587217709762},\n",
      " 'train_set_evaluation': {'explainedVariance': 115.50592017721416,\n",
      "                          'meanAbsoluteError': 9.87586540027406,\n",
      "                          'meanSquaredError': 155.21088180974058,\n",
      "                          'r2': 0.42666697940235243,\n",
      "                          'r2adj': 0.42627462147551054,\n",
      "                          'rootMeanSquaredError': 12.45836593658015}}\n",
      "Printing evaluation loaded from disk...\n",
      "{'test_set_evaluation': {'mae': 9.655337749782415,\n",
      "                         'mse': 145.86287853455093,\n",
      "                         'r2': 0.49848875748021015,\n",
      "                         'rmse': 12.077370514087532,\n",
      "                         'var': 120.74095351904437},\n",
      " 'train_set_evaluation': {'explainedVariance': 115.48879318283409,\n",
      "                          'meanAbsoluteError': 9.876140920539418,\n",
      "                          'meanSquaredError': 155.22800880412248,\n",
      "                          'r2': 0.4266037140480923,\n",
      "                          'r2adj': 0.426211312825884,\n",
      "                          'rootMeanSquaredError': 12.459053286832129}}\n",
      "Printing evaluation loaded from disk...\n",
      "{'test_set_evaluation': {'mae': 9.653933550380266,\n",
      "                         'mse': 145.84427384511892,\n",
      "                         'r2': 0.49855272482411206,\n",
      "                         'rmse': 12.076600260218889,\n",
      "                         'var': 120.74601714558115},\n",
      " 'train_set_evaluation': {'explainedVariance': 115.47168692620137,\n",
      "                          'meanAbsoluteError': 9.876431640084599,\n",
      "                          'meanSquaredError': 155.24511506077786,\n",
      "                          'r2': 0.42654052529685904,\n",
      "                          'r2adj': 0.4261480808317072,\n",
      "                          'rootMeanSquaredError': 12.45973976697659}}\n",
      "Printing evaluation loaded from disk...\n",
      "{'test_set_evaluation': {'mae': 9.655496768936876,\n",
      "                         'mse': 145.87042037626176,\n",
      "                         'r2': 0.4984628268359963,\n",
      "                         'rmse': 12.077682740338139,\n",
      "                         'var': 120.69311803967501},\n",
      " 'train_set_evaluation': {'explainedVariance': 115.43645704625062,\n",
      "                          'meanAbsoluteError': 9.878180741650128,\n",
      "                          'meanSquaredError': 155.28034494072838,\n",
      "                          'r2': 0.4264103897467494,\n",
      "                          'r2adj': 0.4260178562239072,\n",
      "                          'rootMeanSquaredError': 12.461153435405905}}\n",
      "Printing evaluation loaded from disk...\n",
      "{'test_set_evaluation': {'mae': 9.656616849459885,\n",
      "                         'mse': 145.90173764236778,\n",
      "                         'r2': 0.49835515063218805,\n",
      "                         'rmse': 12.078979163918108,\n",
      "                         'var': 120.69407390193919},\n",
      " 'train_set_evaluation': {'explainedVariance': 115.43527313283684,\n",
      "                          'meanAbsoluteError': 9.877280726768191,\n",
      "                          'meanSquaredError': 155.28152885418854,\n",
      "                          'r2': 0.42640601649229504,\n",
      "                          'r2adj': 0.4260134799766354,\n",
      "                          'rootMeanSquaredError': 12.461200939483664}}\n",
      "Printing evaluation loaded from disk...\n",
      "{'test_set_evaluation': {'mae': 9.656091119143099,\n",
      "                         'mse': 145.8935091790329,\n",
      "                         'r2': 0.4983834420447294,\n",
      "                         'rmse': 12.078638548240148,\n",
      "                         'var': 120.68976268741221},\n",
      " 'train_set_evaluation': {'explainedVariance': 115.43970133467171,\n",
      "                          'meanAbsoluteError': 9.877437240599626,\n",
      "                          'meanSquaredError': 155.27710065229337,\n",
      "                          'r2': 0.42642237381427384,\n",
      "                          'r2adj': 0.42602984849267533,\n",
      "                          'rootMeanSquaredError': 12.461023258637043}}\n",
      "Printing evaluation loaded from disk...\n",
      "{'test_set_evaluation': {'mae': 9.654474387193718,\n",
      "                         'mse': 145.84835512639555,\n",
      "                         'r2': 0.49853869240911597,\n",
      "                         'rmse': 12.076769233797405,\n",
      "                         'var': 120.71275862006199},\n",
      " 'train_set_evaluation': {'explainedVariance': 115.43914483039298,\n",
      "                          'meanAbsoluteError': 9.877341286736687,\n",
      "                          'meanSquaredError': 155.2776571566544,\n",
      "                          'r2': 0.4264203181444485,\n",
      "                          'r2adj': 0.4260277914160615,\n",
      "                          'rootMeanSquaredError': 12.461045588418912}}\n",
      "Printing evaluation loaded from disk...\n",
      "{'test_set_evaluation': {'mae': 9.658137230149023,\n",
      "                         'mse': 145.92592281281307,\n",
      "                         'r2': 0.498271996268292,\n",
      "                         'rmse': 12.079980248858567,\n",
      "                         'var': 120.73353588259303},\n",
      " 'train_set_evaluation': {'explainedVariance': 115.44658057808303,\n",
      "                          'meanAbsoluteError': 9.877675312948577,\n",
      "                          'meanSquaredError': 155.2702214089563,\n",
      "                          'r2': 0.4264477850310383,\n",
      "                          'r2adj': 0.4260552770994941,\n",
      "                          'rootMeanSquaredError': 12.4607472251449}}\n",
      "Printing evaluation loaded from disk...\n",
      "{'test_set_evaluation': {'mae': 9.65499977560966,\n",
      "                         'mse': 145.86893877400655,\n",
      "                         'r2': 0.4984679209366708,\n",
      "                         'rmse': 12.077621403819816,\n",
      "                         'var': 120.6837305752474},\n",
      " 'train_set_evaluation': {'explainedVariance': 115.41475709214552,\n",
      "                          'meanAbsoluteError': 9.877842415371259,\n",
      "                          'meanSquaredError': 155.30204489486303,\n",
      "                          'r2': 0.4263302323498853,\n",
      "                          'r2adj': 0.42593764397168166,\n",
      "                          'rootMeanSquaredError': 12.462024109062822}}\n",
      "Printing evaluation loaded from disk...\n",
      "{'test_set_evaluation': {'mae': 9.65669136536975,\n",
      "                         'mse': 145.9180923380824,\n",
      "                         'r2': 0.49829891930142534,\n",
      "                         'rmse': 12.07965613492712,\n",
      "                         'var': 120.74106276735459},\n",
      " 'train_set_evaluation': {'explainedVariance': 115.42548401311804,\n",
      "                          'meanAbsoluteError': 9.877829874420264,\n",
      "                          'meanSquaredError': 155.29131797381848,\n",
      "                          'r2': 0.4263698564920362,\n",
      "                          'r2adj': 0.4259772952304396,\n",
      "                          'rootMeanSquaredError': 12.461593717250555}}\n",
      "Printing evaluation loaded from disk...\n",
      "{'test_set_evaluation': {'mae': 9.658479270839235,\n",
      "                         'mse': 145.95089556679238,\n",
      "                         'r2': 0.4981861340050272,\n",
      "                         'rmse': 12.081013846809066,\n",
      "                         'var': 120.70789789330378},\n",
      " 'train_set_evaluation': {'explainedVariance': 115.40137062349699,\n",
      "                          'meanAbsoluteError': 9.879080851635655,\n",
      "                          'meanSquaredError': 155.31543136352911,\n",
      "                          'r2': 0.4262807841125841,\n",
      "                          'r2adj': 0.425888161894697,\n",
      "                          'rootMeanSquaredError': 12.462561187955272}}\n",
      "Printing evaluation loaded from disk...\n",
      "{'test_set_evaluation': {'mae': 9.656370410937116,\n",
      "                         'mse': 145.9200361873978,\n",
      "                         'r2': 0.4982922358854991,\n",
      "                         'rmse': 12.079736594288711,\n",
      "                         'var': 120.66727767695583},\n",
      " 'train_set_evaluation': {'explainedVariance': 115.40526187849605,\n",
      "                          'meanAbsoluteError': 9.878379989274118,\n",
      "                          'meanSquaredError': 155.31154010846828,\n",
      "                          'r2': 0.42629515800822815,\n",
      "                          'r2adj': 0.4259025456270533,\n",
      "                          'rootMeanSquaredError': 12.462405069185815}}\n",
      "Printing evaluation loaded from disk...\n",
      "{'test_set_evaluation': {'mae': 9.657454209572446,\n",
      "                         'mse': 145.92724070232433,\n",
      "                         'r2': 0.49826746505093966,\n",
      "                         'rmse': 12.080034797231518,\n",
      "                         'var': 120.71601900284253},\n",
      " 'train_set_evaluation': {'explainedVariance': 115.42275786285917,\n",
      "                          'meanAbsoluteError': 9.878263049511459,\n",
      "                          'meanSquaredError': 155.2940441240949,\n",
      "                          'r2': 0.42635978637353433,\n",
      "                          'r2adj': 0.42596721822049655,\n",
      "                          'rootMeanSquaredError': 12.461703098858314}}\n",
      "Printing evaluation loaded from disk...\n",
      "{'test_set_evaluation': {'mae': 9.658014298244723,\n",
      "                         'mse': 145.9551239945543,\n",
      "                         'r2': 0.49817159566544356,\n",
      "                         'rmse': 12.08118884855933,\n",
      "                         'var': 120.72424080479031},\n",
      " 'train_set_evaluation': {'explainedVariance': 115.40159597311073,\n",
      "                          'meanAbsoluteError': 9.878422690306762,\n",
      "                          'meanSquaredError': 155.31520601389855,\n",
      "                          'r2': 0.4262816165309228,\n",
      "                          'r2adj': 0.4258889948826976,\n",
      "                          'rootMeanSquaredError': 12.462552146887834}}\n"
     ]
    }
   ],
   "source": [
    "for k in K_RANGE:\n",
    "    if not model_exists(\n",
    "        TRAINED_MODELS_DIRS[\"Attempt 3\"][\"Regression\"][\"Linear Regression multiple k\"][k]\n",
    "    ):\n",
    "        print(\n",
    "            f\"Evaluating Linear Regression multiple k with k={k} model trained in previous cell...\")\n",
    "        \n",
    "        PREDICTION_COL = f\"attempt_3_regression_linear_regression_multiple_k_{k}_predictions\"\n",
    "        evaluate_learning_models(\n",
    "            best_model=cross_validated_models_dict[k].bestModel,\n",
    "            evaluators=get_evaluators(\n",
    "                cross_validated_models_dict[k].bestModel, \n",
    "                label_col=REGRESSION_LABEL_COL, \n",
    "                prediction_col=PREDICTION_COL, \n",
    "                evaluation_metrics=REGRESSION_EVALUATION_METRICS\n",
    "            ),\n",
    "            save_training_result_path=f\"./evaluation_results/attempt_3/regression/linear_regression_multiple_k/linear_regression_multiple_k_{k}.json\"\n",
    "        )\n",
    "    else:\n",
    "        print(\"Printing evaluation loaded from disk...\")\n",
    "        model_evals_dict[k] = print_model_evaluation(\n",
    "            model_evaluation_path=f\"./evaluation_results/attempt_3/regression/linear_regression_multiple_k/linear_regression_multiple_k_{k}.json\"\n",
    "        )"
   ]
  },
  {
   "cell_type": "code",
   "execution_count": 130,
   "metadata": {},
   "outputs": [],
   "source": [
    "evals_dict_pretty = {\n",
    "    k : v[\"test_set_evaluation\"][\"r2\"] for (k, v) in zip(model_evals_dict.keys(), model_evals_dict.values())\n",
    "}"
   ]
  },
  {
   "cell_type": "code",
   "execution_count": 126,
   "metadata": {},
   "outputs": [],
   "source": [
    "for k in K_RANGE:    \n",
    "    if not model_exists(\n",
    "        TRAINED_MODELS_DIRS[\"Attempt 3\"][\"Regression\"][\"Linear Regression multiple k\"][k]\n",
    "    ):\n",
    "        print(\n",
    "            f\"Saving Linear Regression multiple k with k={k} model on disk...\"\n",
    "        )\n",
    "        cross_validated_models_dict[k].bestModel.save(\n",
    "            f\"./trained_models/attempt_3/regression/linear_regression_multiple_k/{k}_clusters\"\n",
    "        )"
   ]
  },
  {
   "cell_type": "markdown",
   "metadata": {},
   "source": [
    "#### Prediction Tree"
   ]
  },
  {
   "cell_type": "code",
   "execution_count": null,
   "metadata": {},
   "outputs": [],
   "source": [
    "from pyspark.ml.regression import DecisionTreeRegressor\n",
    "from pyspark.ml.regression import DecisionTreeRegressionModel\n",
    "\n",
    "PREDICTION_COL = \"attempt_3_regression_decision_tree_predictions\"\n",
    "\n",
    "if not model_exists(\n",
    "    TRAINED_MODELS_DIRS[\"Attempt 3\"][\"Regression\"][\"Prediction Tree\"]\n",
    "):\n",
    "    print(\"Prediction Tree model NOT found in disk, training...\")\n",
    "    \n",
    "    regression_evaluator_cv.setPredictionCol(PREDICTION_COL)\n",
    "    \n",
    "    estimator = DecisionTreeRegressor()\n",
    "\n",
    "    param_grid = (\n",
    "        ParamGridBuilder()\n",
    "        .addGrid(estimator.featuresCol, FEATURES_COL)\n",
    "        .addGrid(estimator.labelCol, [REGRESSION_LABEL_COL])\n",
    "        .addGrid(estimator.predictionCol, [PREDICTION_COL])\n",
    "        # .addGrid(estimator.maxDepth, [5, 24])\n",
    "        # .addGrid(estimator.maxBins, [16, 32, 64])\n",
    "        # .addGrid(estimator.minInfoGain, [0, 0.1])\n",
    "        .build()\n",
    "    )\n",
    "\n",
    "    cross_validated_models = learn_best_model(\n",
    "        estimator=estimator,\n",
    "        param_grid=param_grid,\n",
    "        evaluator_cv=regression_evaluator_cv\n",
    "    )\n",
    "else:\n",
    "    print(\"Regression Decision Tree model found in disk, loading...\")\n",
    "    model = DecisionTreeRegressionModel.load(\n",
    "        TRAINED_MODELS_DIRS[\"Attempt 3\"][\"Regression\"][\"Prediction Tree\"]\n",
    "    )"
   ]
  },
  {
   "cell_type": "code",
   "execution_count": null,
   "metadata": {},
   "outputs": [],
   "source": [
    "if not model_exists(\n",
    "    TRAINED_MODELS_DIRS[\"Attempt 3\"][\"Regression\"][\"Prediction Tree\"]\n",
    "):\n",
    "    print(\n",
    "        \"Evaluating Prediction Tree model trained in previous cell...\"\n",
    "    )\n",
    "    evaluate_learning_models(\n",
    "        best_model=cross_validated_models.bestModel,\n",
    "        evaluators=get_evaluators(\n",
    "            cross_validated_models.bestModel, \n",
    "            label_col=REGRESSION_LABEL_COL, \n",
    "            prediction_col=PREDICTION_COL, \n",
    "            evaluation_metrics=REGRESSION_EVALUATION_METRICS\n",
    "        ),\n",
    "        save_training_result_path=\"./evaluation_results/attempt_3/regression/prediction_tree.json\"\n",
    "    )\n",
    "else:\n",
    "    print(\"Printing evaluation loaded from disk...\")\n",
    "    print_model_evaluation(\n",
    "        model_evaluation_path=\"./evaluation_results/attempt_3/regression/prediction_tree.json\"\n",
    "    )"
   ]
  },
  {
   "cell_type": "code",
   "execution_count": null,
   "metadata": {},
   "outputs": [],
   "source": [
    "if not model_exists(\n",
    "    TRAINED_MODELS_DIRS[\"Attempt 3\"][\"Regression\"][\"Prediction Tree\"]\n",
    "):\n",
    "    print(\"Saving Decision Tree Regressor model on disk...\")\n",
    "    cross_validated_models.bestModel.save(\n",
    "        \"./trained_models/attempt_3/regression/prediction_tree\"\n",
    "    )"
   ]
  },
  {
   "cell_type": "markdown",
   "metadata": {},
   "source": [
    "#### Gradient Boosted Tree Regression"
   ]
  },
  {
   "cell_type": "code",
   "execution_count": null,
   "metadata": {},
   "outputs": [],
   "source": [
    "from pyspark.ml.regression import GBTRegressor\n",
    "from pyspark.ml.regression import GBTRegressionModel\n",
    "\n",
    "PREDICTION_COL = \"attempt_3_regression_gradient_boosted_tree_predictions\"\n",
    "\n",
    "if not model_exists(\n",
    "    TRAINED_MODELS_DIRS[\"Attempt 3\"][\"Regression\"][\"Gradient Boosted Tree\"]\n",
    "):\n",
    "    print(\"Regression Gradient Boosted Tree model NOT found in disk, training...\")\n",
    "    \n",
    "    regression_evaluator_cv.setPredictionCol(PREDICTION_COL)\n",
    "    \n",
    "    estimator = GBTRegressor()\n",
    "\n",
    "    param_grid = (\n",
    "        ParamGridBuilder()\n",
    "        .addGrid(estimator.featuresCol, FEATURES_COL)\n",
    "        .addGrid(estimator.labelCol, [REGRESSION_LABEL_COL])\n",
    "        .addGrid(estimator.predictionCol, [PREDICTION_COL])\n",
    "        # .addGrid(estimator.maxDepth, [2, 5, 10])\n",
    "        # .addGrid(estimator.maxBins, [16, 32, 64])\n",
    "        # .addGrid(estimator.minInfoGain, [0, 0.1])\n",
    "        # .addGrid(estimator.subsamplingRate, [0.5, 1])\n",
    "        # .addGrid(estimator.lossType, [\"squared\", \"absolute\"])\n",
    "        .build()\n",
    "    )\n",
    "\n",
    "    cross_validated_models = learn_best_model(\n",
    "        estimator=estimator,\n",
    "        param_grid=param_grid,\n",
    "        evaluator_cv=regression_evaluator_cv\n",
    "    )\n",
    "else:\n",
    "    print(\"Regression Gradient Boosted Tree model found in disk, loading...\")\n",
    "    model = GBTRegressionModel.load(\n",
    "        TRAINED_MODELS_DIRS[\"Attempt 3\"][\"Regression\"][\"Gradient Boosted Tree\"]\n",
    "    )"
   ]
  },
  {
   "cell_type": "code",
   "execution_count": null,
   "metadata": {},
   "outputs": [],
   "source": [
    "if not model_exists(\n",
    "    TRAINED_MODELS_DIRS[\"Attempt 3\"][\"Regression\"][\"Gradient Boosted Tree\"]\n",
    "):\n",
    "    print(\n",
    "        \"Evaluating Gradient Boosted Tree model trained in previous cell...\"\n",
    "    )\n",
    "    evaluate_learning_models(\n",
    "        best_model=cross_validated_models.bestModel,\n",
    "        evaluators=get_evaluators(\n",
    "            cross_validated_models.bestModel, \n",
    "            label_col=REGRESSION_LABEL_COL, \n",
    "            prediction_col=PREDICTION_COL, \n",
    "            evaluation_metrics=REGRESSION_EVALUATION_METRICS\n",
    "        ),\n",
    "        save_training_result_path=\"./evaluation_results/attempt_3/regression/gradient_boosted_tree.json\"\n",
    "    )\n",
    "else:\n",
    "    print(\"Printing evaluation loaded from disk...\")\n",
    "    print_model_evaluation(\n",
    "        model_evaluation_path=\"./evaluation_results/attempt_3/regression/gradient_boosted_tree.json\"\n",
    "    )"
   ]
  },
  {
   "cell_type": "code",
   "execution_count": null,
   "metadata": {},
   "outputs": [],
   "source": [
    "if not model_exists(\n",
    "    TRAINED_MODELS_DIRS[\"Attempt 3\"][\"Regression\"][\"Gradient Boosted Tree\"]\n",
    "):\n",
    "    print(\"Saving Gradient Boosted Tree Regression model on disk...\")\n",
    "    cross_validated_models.bestModel.save(\n",
    "        \"./trained_models/attempt_3/regression/gradient_boosted_tree\"\n",
    "    )"
   ]
  },
  {
   "cell_type": "markdown",
   "metadata": {},
   "source": [
    "#### Random Forest Regression"
   ]
  },
  {
   "cell_type": "code",
   "execution_count": null,
   "metadata": {},
   "outputs": [],
   "source": [
    "from pyspark.ml.regression import RandomForestRegressor\n",
    "from pyspark.ml.regression import RandomForestRegressionModel\n",
    "\n",
    "PREDICTION_COL = \"attempt_3_regression_random_forest_predictions\"\n",
    "\n",
    "if not model_exists(\n",
    "    TRAINED_MODELS_DIRS[\"Attempt 3\"][\"Regression\"][\"Random Forest\"]\n",
    "):\n",
    "    print(\"Regression Random Forest model NOT found in disk, training...\")\n",
    "    \n",
    "    regression_evaluator_cv.setPredictionCol(PREDICTION_COL)\n",
    "    \n",
    "    estimator = RandomForestRegressor()\n",
    "\n",
    "    param_grid = (\n",
    "        ParamGridBuilder()\n",
    "        .addGrid(estimator.featuresCol, FEATURES_COL)\n",
    "        .addGrid(estimator.labelCol, [REGRESSION_LABEL_COL])\n",
    "        .addGrid(estimator.predictionCol, [PREDICTION_COL])\n",
    "        # .addGrid(estimator.maxDepth, [5, 24])\n",
    "        # .addGrid(estimator.maxBins, [32, 64])\n",
    "        # .addGrid(estimator.minInfoGain, [0, 0.1])\n",
    "        # .addGrid(estimator.subsamplingRate, [0.5, 1])\n",
    "        # .addGrid(estimator.lossType, [\"squared\", \"absolute\"])\n",
    "        # .addGrid(estimator.numTrees, [20, 40])\n",
    "        # .addGrid(\n",
    "        #     estimator.featureSubsetStrategy, \n",
    "        #     [\"auto\", \"onethird\", \"all\", \"log2\"]\n",
    "        # )\n",
    "        .build()\n",
    "    )\n",
    "\n",
    "    cross_validated_models = learn_best_model(\n",
    "        estimator=estimator,\n",
    "        param_grid=param_grid,\n",
    "        evaluator_cv=regression_evaluator_cv\n",
    "    )\n",
    "else:\n",
    "    print(\"Regression Random Forest model found in disk, loading...\")\n",
    "    model = RandomForestRegressionModel.load(\n",
    "        TRAINED_MODELS_DIRS[\"Attempt 3\"][\"Regression\"][\"Random Forest\"]\n",
    "    )"
   ]
  },
  {
   "cell_type": "code",
   "execution_count": null,
   "metadata": {},
   "outputs": [],
   "source": [
    "if not model_exists(\n",
    "    TRAINED_MODELS_DIRS[\"Attempt 3\"][\"Regression\"][\"Random Forest\"]\n",
    "):\n",
    "    print(\n",
    "        \"Evaluating Random Forest model trained in previous cell...\"\n",
    "    )\n",
    "    evaluate_learning_models(\n",
    "        best_model=cross_validated_models.bestModel,\n",
    "        evaluators=get_evaluators(\n",
    "            cross_validated_models.bestModel, \n",
    "            label_col=REGRESSION_LABEL_COL, \n",
    "            prediction_col=PREDICTION_COL, \n",
    "            evaluation_metrics=REGRESSION_EVALUATION_METRICS\n",
    "        ),\n",
    "        save_training_result_path=\"./evaluation_results/attempt_3/regression/random_forest.json\"\n",
    "    )\n",
    "else:\n",
    "    print(\"Printing evaluation loaded from disk...\")\n",
    "    print_model_evaluation(\n",
    "        model_evaluation_path=\"./evaluation_results/attempt_3/regression/random_forest.json\"\n",
    "    )"
   ]
  },
  {
   "cell_type": "code",
   "execution_count": null,
   "metadata": {},
   "outputs": [],
   "source": [
    "if not model_exists(\n",
    "    TRAINED_MODELS_DIRS[\"Attempt 3\"][\"Regression\"][\"Random Forest\"]\n",
    "):\n",
    "    print(\"Saving Random Forest Regression model on disk...\")\n",
    "    cross_validated_models.bestModel.save(\n",
    "        \"./trained_models/attempt_3/regression/random_forest\"\n",
    "    )"
   ]
  },
  {
   "cell_type": "markdown",
   "metadata": {},
   "source": [
    "### Classification"
   ]
  },
  {
   "cell_type": "code",
   "execution_count": null,
   "metadata": {},
   "outputs": [],
   "source": [
    "classification_evaluator_cv.setLabelCol(CLASSIFICATION_LABEL_COL)"
   ]
  },
  {
   "cell_type": "code",
   "execution_count": null,
   "metadata": {},
   "outputs": [],
   "source": [
    "train_df, test_df = df.randomSplit([0.9, 0.1], seed=random_seed)"
   ]
  },
  {
   "cell_type": "markdown",
   "metadata": {},
   "source": [
    "#### SVM Classifier"
   ]
  },
  {
   "cell_type": "code",
   "execution_count": null,
   "metadata": {},
   "outputs": [],
   "source": [
    "from pyspark.ml.classification import OneVsRest\n",
    "from pyspark.ml.classification import OneVsRestModel\n",
    "from pyspark.ml.classification import LinearSVC\n",
    "\n",
    "PREDICTION_COL = \"attempt_3_classification_svm_predictions\"\n",
    "\n",
    "if not model_exists(\n",
    "    TRAINED_MODELS_DIRS[\"Attempt 3\"][\"Classification\"][\"SVM\"]\n",
    "):\n",
    "    print(\"SVM Classification model NOT found in disk, training...\")\n",
    "    classification_evaluator_cv.setPredictionCol(PREDICTION_COL)\n",
    "    \n",
    "    estimator = OneVsRest(\n",
    "        classifier=LinearSVC(\n",
    "            featuresCol=FEATURES_COL[0],\n",
    "            labelCol=CLASSIFICATION_LABEL_COL,\n",
    "            predictionCol=PREDICTION_COL,\n",
    "        ),\n",
    "        featuresCol=FEATURES_COL[0],\n",
    "        labelCol=CLASSIFICATION_LABEL_COL,\n",
    "        predictionCol=PREDICTION_COL\n",
    "    )\n",
    "\n",
    "    param_grid = (\n",
    "        ParamGridBuilder()\n",
    "        .addGrid(estimator.featuresCol, FEATURES_COL)\n",
    "        .addGrid(estimator.labelCol, [CLASSIFICATION_LABEL_COL])\n",
    "        .addGrid(estimator.predictionCol, [PREDICTION_COL])\n",
    "        .build()\n",
    "    )\n",
    "\n",
    "    cross_validated_models = learn_best_model(\n",
    "        estimator=estimator,\n",
    "        param_grid=param_grid,\n",
    "        evaluator_cv=classification_evaluator_cv\n",
    "    )\n",
    "else:\n",
    "    print(\"SVM Classification model found in disk, loading...\")\n",
    "    model = OneVsRestModel.load(\n",
    "        TRAINED_MODELS_DIRS[\"Attempt 3\"][\"Classification\"][\"SVM\"]\n",
    "    )\n"
   ]
  },
  {
   "cell_type": "code",
   "execution_count": null,
   "metadata": {},
   "outputs": [],
   "source": [
    "if not model_exists(\n",
    "    TRAINED_MODELS_DIRS[\"Attempt 3\"][\"Classification\"][\"SVM\"]\n",
    "):\n",
    "    print(\n",
    "        \"Evaluating SVM Classifier model trained in previous cell...\"\n",
    "    )\n",
    "    evaluate_learning_models(\n",
    "        best_model=cross_validated_models.bestModel,\n",
    "        evaluators=get_evaluators(\n",
    "            cross_validated_models.bestModel, \n",
    "            label_col=CLASSIFICATION_LABEL_COL, \n",
    "            prediction_col=PREDICTION_COL, \n",
    "            evaluation_metrics=CLASSIFICATION_EVALUATION_METRICS\n",
    "        ),\n",
    "        save_training_result_path=\"./evaluation_results/attempt_3/classification/svm.json\"\n",
    "    )\n",
    "else:\n",
    "    print(\"Printing evaluation loaded from disk...\")\n",
    "    print_model_evaluation(\n",
    "        model_evaluation_path=\"./evaluation_results/attempt_3/classification/svm.json\"\n",
    "    )"
   ]
  },
  {
   "cell_type": "code",
   "execution_count": null,
   "metadata": {},
   "outputs": [],
   "source": [
    "if not model_exists(\n",
    "    TRAINED_MODELS_DIRS[\"Attempt 3\"][\"Classification\"][\"SVM\"]\n",
    "):\n",
    "    print(\"Saving SVM Classification model on disk...\")\n",
    "    cross_validated_models.bestModel.save(\n",
    "        \"./trained_models/attempt_3/classification/svm\"\n",
    "    )"
   ]
  },
  {
   "cell_type": "markdown",
   "metadata": {},
   "source": [
    "#### Logistic Regression"
   ]
  },
  {
   "cell_type": "code",
   "execution_count": null,
   "metadata": {},
   "outputs": [],
   "source": [
    "from pyspark.ml.classification import OneVsRest\n",
    "from pyspark.ml.classification import OneVsRestModel\n",
    "from pyspark.ml.classification import LogisticRegression\n",
    "\n",
    "PREDICTION_COL = \"attempt_3_classification_logistic_regression_predictions\"\n",
    "\n",
    "if not model_exists(\n",
    "    TRAINED_MODELS_DIRS[\"Attempt 3\"][\"Classification\"][\"Logistic Regression\"]\n",
    "):\n",
    "    print(\"Logistic Regression Classification model NOT found in disk, training...\")\n",
    "    classification_evaluator_cv.setPredictionCol(PREDICTION_COL)\n",
    "    \n",
    "    estimator = OneVsRest(\n",
    "        classifier=LogisticRegression(\n",
    "            featuresCol=FEATURES_COL,\n",
    "            labelCol=CLASSIFICATION_LABEL_COL,\n",
    "            predictionCol=PREDICTION_COL,\n",
    "        ),\n",
    "        featuresCol=FEATURES_COL,\n",
    "        labelCol=CLASSIFICATION_LABEL_COL,\n",
    "        predictionCol=PREDICTION_COL\n",
    "    )\n",
    "\n",
    "    param_grid = (\n",
    "        ParamGridBuilder()\n",
    "        .addGrid(estimator.featuresCol, [FEATURES_COL])\n",
    "        .addGrid(estimator.labelCol, [CLASSIFICATION_LABEL_COL])\n",
    "        .addGrid(estimator.predictionCol, [PREDICTION_COL])\n",
    "        .build()\n",
    "    )\n",
    "\n",
    "    cross_validated_models = learn_best_model(\n",
    "        estimator=estimator,\n",
    "        param_grid=param_grid,\n",
    "        evaluator_cv=classification_evaluator_cv\n",
    "    )\n",
    "else:\n",
    "    print(\"Logistic Regression Classification model found in disk, loading...\")\n",
    "    model = OneVsRestModel.load(\n",
    "        TRAINED_MODELS_DIRS[\"Attempt 3\"][\"Classification\"][\"Logistic Regression\"]\n",
    "    )\n"
   ]
  },
  {
   "cell_type": "code",
   "execution_count": null,
   "metadata": {},
   "outputs": [],
   "source": [
    "if not model_exists(\n",
    "    TRAINED_MODELS_DIRS[\"Attempt 3\"][\"Classification\"][\"Logistic Regression\"]\n",
    "):\n",
    "    print(\n",
    "        \"Evaluating Logistic Regression Classifier model trained in previous cell...\"\n",
    "    )\n",
    "    evaluate_learning_models(\n",
    "        best_model=cross_validated_models.bestModel,\n",
    "        evaluators=get_evaluators(\n",
    "            cross_validated_models.bestModel, \n",
    "            label_col=CLASSIFICATION_LABEL_COL, \n",
    "            prediction_col=PREDICTION_COL, \n",
    "            evaluation_metrics=CLASSIFICATION_EVALUATION_METRICS\n",
    "        ),\n",
    "        save_training_result_path=\"./evaluation_results/attempt_3/classification/logistic_regression.json\"\n",
    "    )\n",
    "else:\n",
    "    print(\"Printing evaluation loaded from disk...\")\n",
    "    print_model_evaluation(\n",
    "        model_evaluation_path=\"./evaluation_results/attempt_3/classification/logistic_regression.json\"\n",
    "    )"
   ]
  },
  {
   "cell_type": "code",
   "execution_count": null,
   "metadata": {},
   "outputs": [],
   "source": [
    "if not model_exists(\n",
    "    TRAINED_MODELS_DIRS[\"Attempt 3\"][\"Classification\"][\"Logistic Regression\"]\n",
    "):\n",
    "    print(\"Saving Logistic Regression Classification model on disk...\")\n",
    "    cross_validated_models.bestModel.save(\n",
    "        \"./trained_models/attempt_3/classification/logistic_regression\"\n",
    "    )"
   ]
  },
  {
   "cell_type": "markdown",
   "metadata": {},
   "source": [
    "#### Decision Tree"
   ]
  },
  {
   "cell_type": "code",
   "execution_count": null,
   "metadata": {},
   "outputs": [],
   "source": [
    "from pyspark.ml.classification import DecisionTreeClassifier\n",
    "from pyspark.ml.classification import DecisionTreeClassificationModel\n",
    "\n",
    "PREDICTION_COL = \"attempt_3_classification_decision_tree_predictions\"\n",
    "\n",
    "if not model_exists(\n",
    "    TRAINED_MODELS_DIRS[\"Attempt 3\"][\"Classification\"][\"Decision Tree\"]\n",
    "):\n",
    "    print(\"Classification Decision Tree model NOT found in disk, training...\")\n",
    "    classification_evaluator_cv.setPredictionCol(PREDICTION_COL)\n",
    "    \n",
    "    estimator = DecisionTreeClassifier()\n",
    "\n",
    "    param_grid = (\n",
    "        ParamGridBuilder()\n",
    "        .addGrid(estimator.featuresCol, FEATURES_COL)\n",
    "        .addGrid(estimator.labelCol, [CLASSIFICATION_LABEL_COL])\n",
    "        .addGrid(estimator.predictionCol, [PREDICTION_COL])\n",
    "        # .addGrid(estimator.maxDepth, [5, 24])\n",
    "        # .addGrid(estimator.maxBins, [16, 32, 64])\n",
    "        # .addGrid(estimator.minInfoGain, [0, 0.1])\n",
    "        .build()\n",
    "    )\n",
    "\n",
    "    cross_validated_models = learn_best_model(\n",
    "        estimator=estimator,\n",
    "        param_grid=param_grid,\n",
    "        evaluator_cv=classification_evaluator_cv\n",
    "    )\n",
    "else:\n",
    "    print(\"Classification Decision Tree model found in disk, loading...\")\n",
    "    model = DecisionTreeClassificationModel.load(\n",
    "        TRAINED_MODELS_DIRS[\"Attempt 3\"][\"Classification\"][\"Decision Tree\"]\n",
    "    )\n",
    "    evaluators = get_evaluators(\n",
    "        model, \n",
    "        label_col=CLASSIFICATION_LABEL_COL, \n",
    "        prediction_col=PREDICTION_COL, \n",
    "        evaluation_metrics=CLASSIFICATION_EVALUATION_METRICS\n",
    "    )"
   ]
  },
  {
   "cell_type": "code",
   "execution_count": null,
   "metadata": {},
   "outputs": [],
   "source": [
    "if not model_exists(\n",
    "    TRAINED_MODELS_DIRS[\"Attempt 3\"][\"Classification\"][\"Decision Tree\"]\n",
    "):\n",
    "    print(\n",
    "        \"Evaluating Decision Tree model trained in previous cell...\"\n",
    "    )\n",
    "    evaluate_learning_models(\n",
    "        best_model=cross_validated_models.bestModel,\n",
    "        evaluators=get_evaluators(\n",
    "            cross_validated_models.bestModel, \n",
    "            label_col=CLASSIFICATION_LABEL_COL, \n",
    "            prediction_col=PREDICTION_COL, \n",
    "            evaluation_metrics=CLASSIFICATION_EVALUATION_METRICS\n",
    "        ),\n",
    "        save_training_result_path=\"./evaluation_results/attempt_3/classification/decision_tree.json\"\n",
    "    )\n",
    "else:\n",
    "    print(\"Printing evaluation loaded from disk...\")\n",
    "    print_model_evaluation(\n",
    "        model_evaluation_path=\"./evaluation_results/attempt_3/classification/decision_tree.json\"\n",
    "    )"
   ]
  },
  {
   "cell_type": "code",
   "execution_count": null,
   "metadata": {},
   "outputs": [],
   "source": [
    "if not model_exists(\n",
    "    TRAINED_MODELS_DIRS[\"Attempt 3\"][\"Classification\"][\"Decision Tree\"]\n",
    "):\n",
    "    print(\"Saving Decision Tree model on disk...\")\n",
    "    cross_validated_models.bestModel.save(\n",
    "        \"./trained_models/attempt_3/classification/decision_tree\"\n",
    "    )"
   ]
  },
  {
   "cell_type": "markdown",
   "metadata": {},
   "source": [
    "#### Random Forest"
   ]
  },
  {
   "cell_type": "code",
   "execution_count": null,
   "metadata": {},
   "outputs": [],
   "source": [
    "from pyspark.ml.classification import RandomForestClassifier\n",
    "from pyspark.ml.classification import RandomForestClassificationModel\n",
    "\n",
    "PREDICTION_COL = \"attempt_3_classification_random_forest_predictions\"\n",
    "\n",
    "if not model_exists(\n",
    "    TRAINED_MODELS_DIRS[\"Attempt 3\"][\"Classification\"][\"Random Forest\"]\n",
    "):\n",
    "    print(\"Classification Random Forest model NOT found in disk, training...\")\n",
    "    \n",
    "    classification_evaluator_cv.setPredictionCol(PREDICTION_COL)\n",
    "    \n",
    "    estimator = RandomForestClassifier()\n",
    "\n",
    "    param_grid = (\n",
    "        ParamGridBuilder()\n",
    "        .addGrid(estimator.featuresCol, FEATURES_COL)\n",
    "        .addGrid(estimator.labelCol, [CLASSIFICATION_LABEL_COL])\n",
    "        .addGrid(estimator.predictionCol, [PREDICTION_COL])\n",
    "        # .addGrid(estimator.maxDepth, [5, 24])\n",
    "        # .addGrid(estimator.maxBins, [32, 64])\n",
    "        # .addGrid(estimator.minInfoGain, [0, 0.1])\n",
    "        # .addGrid(estimator.subsamplingRate, [0.5, 1])\n",
    "        # .addGrid(estimator.lossType, [\"squared\", \"absolute\"])\n",
    "        # .addGrid(estimator.numTrees, [20, 40])\n",
    "        # .addGrid(estimator.featureSubsetStrategy, [\"auto\", \"onethird\", \"all\", \"log2\"])\n",
    "        .build()\n",
    "    )\n",
    "\n",
    "    cross_validated_models = learn_best_model(\n",
    "        estimator=estimator,\n",
    "        param_grid=param_grid,\n",
    "        evaluator_cv=classification_evaluator_cv\n",
    "    )\n",
    "else:\n",
    "    print(\"Classification Random Forest model found in disk, loading...\")\n",
    "    model = RandomForestClassificationModel.load(\n",
    "        TRAINED_MODELS_DIRS[\"Attempt 3\"][\"Classification\"][\"Random Forest\"]\n",
    "    )"
   ]
  },
  {
   "cell_type": "code",
   "execution_count": null,
   "metadata": {},
   "outputs": [],
   "source": [
    "if not model_exists(\n",
    "    TRAINED_MODELS_DIRS[\"Attempt 3\"][\"Classification\"][\"Random Forest\"]\n",
    "):\n",
    "    print(\n",
    "        \"Evaluating Random Forest model trained in previous cell...\"\n",
    "    )\n",
    "    evaluate_learning_models(\n",
    "        best_model=cross_validated_models.bestModel,\n",
    "        evaluators=get_evaluators(\n",
    "            cross_validated_models.bestModel, \n",
    "            label_col=CLASSIFICATION_LABEL_COL, \n",
    "            prediction_col=PREDICTION_COL, \n",
    "            evaluation_metrics=CLASSIFICATION_EVALUATION_METRICS\n",
    "        ),\n",
    "        save_training_result_path=\"./evaluation_results/attempt_3/classification/random_forest.json\"\n",
    "    )\n",
    "else:\n",
    "    print(\"Printing evaluation loaded from disk...\")\n",
    "    print_model_evaluation(\n",
    "        model_evaluation_path=\"./evaluation_results/attempt_3/classification/random_forest.json\"\n",
    "    )"
   ]
  },
  {
   "cell_type": "code",
   "execution_count": null,
   "metadata": {},
   "outputs": [],
   "source": [
    "if not model_exists(\n",
    "    TRAINED_MODELS_DIRS[\"Attempt 3\"][\"Classification\"][\"Random Forest\"]\n",
    "):\n",
    "    print(\"Saving Random Forest Classification model on disk...\")\n",
    "    cross_validated_models.bestModel.save(\n",
    "        \"./trained_models/attempt_3/classification/random_forest\"\n",
    "    )"
   ]
  },
  {
   "cell_type": "markdown",
   "metadata": {},
   "source": [
    "#### MLP"
   ]
  },
  {
   "cell_type": "code",
   "execution_count": null,
   "metadata": {},
   "outputs": [],
   "source": [
    "from pyspark.ml.classification import MultilayerPerceptronClassifier\n",
    "from pyspark.ml.classification import MultilayerPerceptronClassificationModel\n",
    "\n",
    "PREDICTION_COL = \"attempt_3_classification_mlp_predictions\"\n",
    "\n",
    "if not model_exists(\n",
    "    TRAINED_MODELS_DIRS[\"Attempt 3\"][\"Classification\"][\"MLP\"]\n",
    "):\n",
    "    print(\"Classification MLP model NOT found in disk, training...\")\n",
    "    \n",
    "    classification_evaluator_cv.setPredictionCol(PREDICTION_COL)\n",
    "    \n",
    "    estimator = MultilayerPerceptronClassifier()\n",
    "\n",
    "    param_grid = (\n",
    "        ParamGridBuilder()\n",
    "        .addGrid(estimator.featuresCol, FEATURES_COL)\n",
    "        .addGrid(estimator.labelCol, [CLASSIFICATION_LABEL_COL])\n",
    "        .addGrid(estimator.predictionCol, [PREDICTION_COL])\n",
    "        .addGrid(estimator.layers, [[NUM_MACRO_ROLES, NUM_MACRO_PLACES]])\n",
    "        .addGrid(estimator.solver, [\"gd\"])\n",
    "        .build()\n",
    "    )\n",
    "\n",
    "    cross_validated_models = learn_best_model(\n",
    "        estimator=estimator,\n",
    "        param_grid=param_grid,\n",
    "        evaluator_cv=classification_evaluator_cv\n",
    "    )\n",
    "else:\n",
    "    print(\"Classification MLP model found in disk, loading...\")\n",
    "    model = MultilayerPerceptronClassificationModel.load(\n",
    "        TRAINED_MODELS_DIRS[\"Attempt 3\"][\"Classification\"][\"MLP\"]\n",
    "    )"
   ]
  },
  {
   "cell_type": "code",
   "execution_count": null,
   "metadata": {},
   "outputs": [],
   "source": [
    "if not model_exists(\n",
    "    TRAINED_MODELS_DIRS[\"Attempt 3\"][\"Classification\"][\"MLP\"]\n",
    "):\n",
    "    print(\n",
    "        \"Evaluating MLP model trained in previous cell...\"\n",
    "    )\n",
    "    evaluate_learning_models(\n",
    "        best_model=cross_validated_models.bestModel,\n",
    "        evaluators=get_evaluators(\n",
    "            cross_validated_models.bestModel, \n",
    "            label_col=CLASSIFICATION_LABEL_COL, \n",
    "            prediction_col=PREDICTION_COL, \n",
    "            evaluation_metrics=CLASSIFICATION_EVALUATION_METRICS\n",
    "        ),\n",
    "        save_training_result_path=\"./evaluation_results/attempt_3/classification/mlp.json\"\n",
    "    )\n",
    "else:\n",
    "    print(\"Printing evaluation loaded from disk...\")\n",
    "    print_model_evaluation(\n",
    "        model_evaluation_path=\"./evaluation_results/attempt_3/classification/mlp.json\"\n",
    "    )"
   ]
  },
  {
   "cell_type": "code",
   "execution_count": null,
   "metadata": {},
   "outputs": [],
   "source": [
    "if not model_exists(\n",
    "    TRAINED_MODELS_DIRS[\"Attempt 3\"][\"Classification\"][\"MLP\"]\n",
    "):\n",
    "    print(\"Saving MLP Classification model on disk...\")\n",
    "    cross_validated_models.bestModel.save(\n",
    "        \"./trained_models/attempt_3/classification/mlp\"\n",
    "    )"
   ]
  },
  {
   "cell_type": "markdown",
   "metadata": {},
   "source": [
    "## Clustering-learning cross evaluation\n",
    "\n",
    "Classic left-right plot, with:\n",
    "Left Y --> elbow result\n",
    "Right Y --> accuracy\n",
    "X axis --> # clusters"
   ]
  },
  {
   "cell_type": "code",
   "execution_count": 159,
   "metadata": {},
   "outputs": [
    {
     "name": "stdout",
     "output_type": "stream",
     "text": [
      "['2', '6', '10', '14', '18', '22', '26', '30', '34', '38', '42', '46', '50', '54', '58', '62']\n",
      "[61.211918866863016, 30.48815737570571, 26.84619404349526, 24.337701642222047, 23.07920189778952, 22.277014896829712, 21.273754729233218, 20.628445766620192, 20.35061871727908, 19.582170364745323, 19.21964560259489, 18.918866317113054, 18.594175700333487, 18.367258226195933, 18.067158929449814, 17.754057793631976]\n",
      "[0.49718458635830887, 0.4991326146030809, 0.4983351918444149, 0.49848875748021015, 0.49855272482411206, 0.4984628268359963, 0.49835515063218805, 0.4983834420447294, 0.49853869240911597, 0.498271996268292, 0.4984679209366708, 0.49829891930142534, 0.4981861340050272, 0.4982922358854991, 0.49826746505093966, 0.49817159566544356]\n"
     ]
    }
   ],
   "source": [
    "# pprint.pprint(model_evals_dict)\n",
    "# print(clustering_results_dict[\"avg\"])\n",
    "\n",
    "x = list(model_evals_dict.keys())\n",
    "wssd_k = [\n",
    "    x[\"wssd_k\"] for x in clustering_results_dict[\"avg\"].values()\n",
    "]\n",
    "r2 = [\n",
    "    x[\"test_set_evaluation\"][\"r2\"] for x in model_evals_dict.values()\n",
    "]\n",
    "\n",
    "print(x)\n",
    "print(wssd_k)\n",
    "print(r2)\n",
    "\n"
   ]
  },
  {
   "cell_type": "code",
   "execution_count": 160,
   "metadata": {},
   "outputs": [],
   "source": [
    "plot_df_temp = pd.DataFrame([x, wssd_k, r2]).transpose()\n",
    "plot_df_temp.columns = [\"x\", \"wssd_k\", \"r2\"]"
   ]
  },
  {
   "cell_type": "code",
   "execution_count": 178,
   "metadata": {},
   "outputs": [
    {
     "data": {
      "application/vnd.jupyter.widget-view+json": {
       "model_id": "e320d31df21049d9970d2395ac383c8b",
       "version_major": 2,
       "version_minor": 0
      },
      "image/png": "[encoded data removed]",
      "text/html": [
       "\n",
       "            <div style=\"display: inline-block;\">\n",
       "                <div class=\"jupyter-widgets widget-label\" style=\"text-align: center;\">\n",
       "                    Figure\n",
       "                </div>\n",
       "                <img src='data:image/png;base64,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' width=640.0/>\n",
       "            </div>\n",
       "        "
      ],
      "text/plain": [
       "Canvas(toolbar=Toolbar(toolitems=[('Home', 'Reset original view', 'home', 'home'), ('Back', 'Back to previous …"
      ]
     },
     "metadata": {},
     "output_type": "display_data"
    },
    {
     "data": {
      "text/plain": [
       "Text(0.5, 1.0, 'Elbow method vs. r2')"
      ]
     },
     "execution_count": 178,
     "metadata": {},
     "output_type": "execute_result"
    }
   ],
   "source": [
    "ax = plot_df_temp.plot(\n",
    "    x=\"x\", \n",
    "    y=\"wssd_k\", \n",
    "    color=\"#208AAE\"\n",
    ")\n",
    "ax.set_xlabel(\"Number of clusters\")\n",
    "ax.set_ylabel(\"WSSD (lower is better)\")\n",
    "ax.set_ylim(15, 65)\n",
    "ax.legend(bbox_to_anchor=(1,0.9))\n",
    "\n",
    "ax2 = ax.twinx()\n",
    "\n",
    "plot_df_temp.plot(\n",
    "    x=\"x\", \n",
    "    y=\"r2\", \n",
    "    ax=ax2, \n",
    "    color=\"#FF88DC\",\n",
    ")\n",
    "ax2.set_ylabel(\"r2 (higher is better)\")\n",
    "ax2.set_ylim(0.15, 0.65)\n",
    "ax2.legend(bbox_to_anchor=(1,1))\n",
    "\n",
    "\n",
    "# ax.figure.legend()\n",
    "plt.show()\n",
    "plt.title(\"Elbow method vs. r2\")"
   ]
  },
  {
   "cell_type": "markdown",
   "metadata": {},
   "source": [
    "# Attempt 4: thinking \"Deep\", shallow injecting some priors"
   ]
  },
  {
   "cell_type": "code",
   "execution_count": null,
   "metadata": {},
   "outputs": [],
   "source": [
    "rp_df = df"
   ]
  },
  {
   "cell_type": "code",
   "execution_count": null,
   "metadata": {},
   "outputs": [],
   "source": [
    "MAX_PLACE = 21"
   ]
  },
  {
   "cell_type": "markdown",
   "metadata": {},
   "source": [
    "## Computing the prior (RP coefficient)"
   ]
  },
  {
   "cell_type": "code",
   "execution_count": null,
   "metadata": {},
   "outputs": [],
   "source": [
    "rp_df.select(\"season\", \"club_name\", \"place\").createOrReplaceTempView(\"t\")"
   ]
  },
  {
   "cell_type": "code",
   "execution_count": null,
   "metadata": {},
   "outputs": [],
   "source": [
    "rp_df = spark.sql(\n",
    "    f\"\"\"\n",
    "    select t.season, t.club_name,\n",
    "        avg(\n",
    "            (\n",
    "                select sub.place\n",
    "                where sub.season < t.season and sub.club_name == t.club_name\n",
    "            )\n",
    "        ) as rp_coeff\n",
    "    from t, t as sub\n",
    "    group by t.season, t.club_name\n",
    "    order by t.season desc\n",
    "    \"\"\"\n",
    ").fillna(MAX_PLACE)"
   ]
  },
  {
   "cell_type": "code",
   "execution_count": null,
   "metadata": {},
   "outputs": [],
   "source": [
    "rp_df = rp_df.withColumn(\"rp_coeff\", MAX_PLACE - col(\"rp_coeff\"))"
   ]
  },
  {
   "cell_type": "code",
   "execution_count": null,
   "metadata": {},
   "outputs": [],
   "source": [
    "add_normalize_by_rp_UDF = udf(\n",
    "    lambda points, rp, tradeoff: points + tradeoff * rp, DoubleType()\n",
    ")"
   ]
  },
  {
   "cell_type": "code",
   "execution_count": null,
   "metadata": {},
   "outputs": [],
   "source": [
    "rp_df = rp_df.join(\n",
    "    df, on=[\"club_name\", \"season\"]\n",
    ")"
   ]
  },
  {
   "cell_type": "code",
   "execution_count": null,
   "metadata": {},
   "outputs": [],
   "source": [
    "from pyspark.ml.feature import VectorAssembler\n",
    "\n",
    "RP_NORMALIZED_COLS = [\n",
    "    f\"avg(overall)_rp_normalized_tradeoff_{tradeoff}\".replace(\n",
    "        \".\", \"-\"\n",
    "    ) for tradeoff in ADD_RP_TRADEOFF\n",
    "]\n",
    "\n",
    "for tradeoff, col_name in zip(ADD_RP_TRADEOFF, RP_NORMALIZED_COLS):\n",
    "    rp_df = rp_df.withColumn(\n",
    "        col_name, add_normalize_by_rp_UDF(\n",
    "            # col(\"avg(overall)\"), col(\"rp_coeff\"), lit(tradeoff)\n",
    "            col(\"points\"), col(\"rp_coeff\"), lit(tradeoff)\n",
    "        )\n",
    "    )\n",
    "\n",
    "    assembler = VectorAssembler(\n",
    "        inputCols=[col_name], \n",
    "        outputCol=col_name + \"_vec\"\n",
    "    )\n",
    "\n",
    "    rp_df = assembler.transform(rp_df)"
   ]
  },
  {
   "cell_type": "code",
   "execution_count": null,
   "metadata": {},
   "outputs": [],
   "source": [
    "rp_df.select(rp_norm_col, \"avg(overall)\").show()"
   ]
  },
  {
   "cell_type": "code",
   "execution_count": null,
   "metadata": {},
   "outputs": [],
   "source": [
    "FEATURES_COL = [\n",
    "    rp_normalized_col + \"_vec\" for rp_normalized_col in RP_NORMALIZED_COLS\n",
    "]"
   ]
  },
  {
   "cell_type": "markdown",
   "metadata": {},
   "source": [
    "## Visualizations"
   ]
  },
  {
   "cell_type": "markdown",
   "metadata": {},
   "source": [
    "### Feature-target correlation"
   ]
  },
  {
   "cell_type": "code",
   "execution_count": null,
   "metadata": {},
   "outputs": [],
   "source": [
    "pdf = rp_df.toPandas()\n",
    "\n",
    "for rp_norm_col in RP_NORMALIZED_COLS:\n",
    "    plot_feature_target_relation(\n",
    "        pdf, [\"avg(overall)\"], rp_norm_col, color=\"pink\"\n",
    "    )"
   ]
  },
  {
   "cell_type": "markdown",
   "metadata": {},
   "source": [
    "## Learning"
   ]
  },
  {
   "cell_type": "code",
   "execution_count": null,
   "metadata": {},
   "outputs": [],
   "source": [
    "train_df, test_df = rp_df.randomSplit([0.9, 0.1], seed=random_seed)"
   ]
  },
  {
   "cell_type": "markdown",
   "metadata": {},
   "source": [
    "### Regression"
   ]
  },
  {
   "cell_type": "code",
   "execution_count": null,
   "metadata": {},
   "outputs": [],
   "source": [
    "regression_evaluator_cv.setLabelCol(REGRESSION_LABEL_COL)"
   ]
  },
  {
   "cell_type": "markdown",
   "metadata": {},
   "source": [
    "#### Linear Regression"
   ]
  },
  {
   "cell_type": "code",
   "execution_count": null,
   "metadata": {},
   "outputs": [],
   "source": [
    "from pyspark.ml.regression import LinearRegression\n",
    "from pyspark.ml.regression import LinearRegressionModel\n",
    "\n",
    "PREDICTION_COL = \"attempt_4_regression_linear_regression_predictions\"\n",
    "\n",
    "if not model_exists(\n",
    "    TRAINED_MODELS_DIRS[\"Attempt 4\"][\"Regression\"][\"Linear Regression\"]\n",
    "):\n",
    "    print(\"Linear Regression model NOT found in disk, training...\")\n",
    "    regression_evaluator_cv.setPredictionCol(PREDICTION_COL)\n",
    "    \n",
    "    estimator = LinearRegression()\n",
    "\n",
    "    linear_regression_param_grid = (\n",
    "        ParamGridBuilder()\n",
    "        .addGrid(estimator.featuresCol, FEATURES_COL)\n",
    "        .addGrid(estimator.labelCol, [REGRESSION_LABEL_COL])\n",
    "        .addGrid(estimator.predictionCol, [PREDICTION_COL])\n",
    "        # .addGrid(estimator.regParam, [0.0, 0.001, 0.01, 0.1, 0.5, 1])\n",
    "        # .addGrid(estimator.solver, [\"auto\", \"normal\"])\n",
    "        # .addGrid(estimator.fitIntercept, [True, False])\n",
    "        # .addGrid(estimator.elasticNetParam, [0.0, 0.5, 1.0])\n",
    "        .build()\n",
    "    )\n",
    "\n",
    "    cross_validated_models = learn_best_model(\n",
    "        estimator=estimator,\n",
    "        param_grid=linear_regression_param_grid,\n",
    "        evaluator_cv=regression_evaluator_cv\n",
    "    )\n",
    "else:\n",
    "    print(\"Linear Regression model found in disk, loading...\")\n",
    "    model = LinearRegressionModel.load(\n",
    "        TRAINED_MODELS_DIRS[\"Attempt 4\"][\"Regression\"][\"Linear Regression\"]\n",
    "    )"
   ]
  },
  {
   "cell_type": "code",
   "execution_count": null,
   "metadata": {},
   "outputs": [],
   "source": [
    "if not model_exists(\n",
    "    TRAINED_MODELS_DIRS[\"Attempt 4\"][\"Regression\"][\"Linear Regression\"]\n",
    "):\n",
    "    print(\"Evaluating Linear Regression model trained in previous cell...\")\n",
    "    evaluate_learning_models(\n",
    "        best_model=cross_validated_models.bestModel,\n",
    "        evaluators=get_evaluators(\n",
    "            cross_validated_models.bestModel, \n",
    "            label_col=REGRESSION_LABEL_COL, \n",
    "            prediction_col=PREDICTION_COL, \n",
    "            evaluation_metrics=REGRESSION_EVALUATION_METRICS\n",
    "        ),\n",
    "        save_training_result_path=\"./evaluation_results/attempt_4/regression/linear_regression.json\"\n",
    "    )\n",
    "else:\n",
    "    print(\"Printing evaluation loaded from disk...\")\n",
    "    print_model_evaluation(\n",
    "        model_evaluation_path=\"./evaluation_results/attempt_4/regression/linear_regression.json\"\n",
    "    )"
   ]
  },
  {
   "cell_type": "code",
   "execution_count": null,
   "metadata": {},
   "outputs": [],
   "source": [
    "if not model_exists(\n",
    "    TRAINED_MODELS_DIRS[\"Attempt 4\"][\"Regression\"][\"Linear Regression\"]\n",
    "):\n",
    "    print(\"Saving Linear Regression model on disk...\")\n",
    "    cross_validated_models.bestModel.save(\n",
    "        \"./trained_models/attempt_4/regression/linear_regression\"\n",
    "    )"
   ]
  },
  {
   "cell_type": "markdown",
   "metadata": {},
   "source": [
    "#### Linear Regression multiple rp tradeoffs"
   ]
  },
  {
   "cell_type": "code",
   "execution_count": null,
   "metadata": {},
   "outputs": [],
   "source": [
    "cross_validated_models_dict = dict()"
   ]
  },
  {
   "cell_type": "code",
   "execution_count": null,
   "metadata": {},
   "outputs": [],
   "source": [
    "from pyspark.ml.regression import LinearRegression\n",
    "from pyspark.ml.regression import LinearRegressionModel\n",
    "\n",
    "for tradeoff, col_name in zip(ADD_RP_TRADEOFF, FEATURES_COL):\n",
    "    PREDICTION_COL = \"attempt_4_regression_linear_regression_multiple_tradeoffs_{tradeoff}_predictions\"\n",
    "\n",
    "    if not model_exists(\n",
    "        TRAINED_MODELS_DIRS[\"Attempt 4\"][\"Regression\"][\"Linear Regression multiple tradeoffs\"][tradeoff]\n",
    "    ):\n",
    "        print(\n",
    "            f\"Linear Regression multiple tradeoffs with tradeoff={tradeoff} model NOT found in disk, training...\"\n",
    "        )\n",
    "        regression_evaluator_cv.setPredictionCol(PREDICTION_COL)\n",
    "        \n",
    "        estimator = LinearRegression()\n",
    "\n",
    "        linear_regression_param_grid = (\n",
    "            ParamGridBuilder()\n",
    "            .addGrid(estimator.featuresCol, [col_name])\n",
    "            .addGrid(estimator.labelCol, [REGRESSION_LABEL_COL])\n",
    "            .addGrid(estimator.predictionCol, [PREDICTION_COL])\n",
    "            # .addGrid(estimator.regParam, [0.0, 0.001, 0.01, 0.1, 0.5, 1])\n",
    "            # .addGrid(estimator.solver, [\"auto\", \"normal\"])\n",
    "            # .addGrid(estimator.fitIntercept, [True, False])\n",
    "            # .addGrid(estimator.elasticNetParam, [0.0, 0.5, 1.0])\n",
    "            .build()\n",
    "        )\n",
    "\n",
    "        cross_validated_models_dict[tradeoff] = learn_best_model(\n",
    "            estimator=estimator,\n",
    "            param_grid=linear_regression_param_grid,\n",
    "            evaluator_cv=regression_evaluator_cv\n",
    "        )\n",
    "    else:\n",
    "        print(f\"Linear Regression multiple tradeoffs with tradeoff={tradeoff} model found in disk, loading...\")\n",
    "        model = LinearRegressionModel.load(\n",
    "            TRAINED_MODELS_DIRS[\"Attempt 4\"][\"Regression\"][\"Linear Regression multiple tradeoffs\"][tradeoff]\n",
    "        )"
   ]
  },
  {
   "cell_type": "code",
   "execution_count": null,
   "metadata": {},
   "outputs": [],
   "source": [
    "model_evals_dict = dict()"
   ]
  },
  {
   "cell_type": "code",
   "execution_count": null,
   "metadata": {},
   "outputs": [],
   "source": [
    "for tradeoff, col_name in zip(ADD_RP_TRADEOFF, FEATURES_COL):\n",
    "    if not model_exists(\n",
    "        TRAINED_MODELS_DIRS[\"Attempt 4\"][\"Regression\"][\"Linear Regression multiple tradeoffs\"][tradeoff]\n",
    "    ):\n",
    "        print(\n",
    "            f\"Evaluating Linear Regression multiple tradeoffs with tradeoff={tradeoff} model trained in previous cell...\")\n",
    "        evaluate_learning_models(\n",
    "            best_model=cross_validated_models_dict[tradeoff].bestModel,\n",
    "            evaluators=get_evaluators(\n",
    "                cross_validated_models_dict[tradeoff].bestModel, \n",
    "                label_col=REGRESSION_LABEL_COL, \n",
    "                prediction_col=PREDICTION_COL, \n",
    "                evaluation_metrics=REGRESSION_EVALUATION_METRICS\n",
    "            ),\n",
    "            save_training_result_path=f\"./evaluation_results/attempt_4/regression/linear_regression_multiple_tradeoffs/tradeoff_{tradeoff}.json\"\n",
    "        )\n",
    "    else:\n",
    "        print(\"Printing evaluation loaded from disk...\")\n",
    "        model_evals_dict[tradeoff] = print_model_evaluation(\n",
    "            model_evaluation_path=f\"./evaluation_results/attempt_4/regression/linear_regression_multiple_tradeoffs/tradeoff_{tradeoff}.json\"\n",
    "        )"
   ]
  },
  {
   "cell_type": "code",
   "execution_count": null,
   "metadata": {},
   "outputs": [],
   "source": [
    "evals_dict_pretty = {\n",
    "    k : v[\"train_set_evaluation\"][\"r2\"] for (k, v) in zip(model_evals_dict.keys(), model_evals_dict.values())\n",
    "}\n",
    "evals_dict_pretty"
   ]
  },
  {
   "cell_type": "code",
   "execution_count": null,
   "metadata": {},
   "outputs": [],
   "source": [
    "for tradeoff, col_name in zip(ADD_RP_TRADEOFF, FEATURES_COL):\n",
    "    if not model_exists(\n",
    "        TRAINED_MODELS_DIRS[\"Attempt 4\"][\"Regression\"][\"Linear Regression multiple tradeoffs\"][tradeoff]\n",
    "    ):\n",
    "        print(\n",
    "            f\"Saving Linear Regression multiple tradeoffs with tradeoff={tradeoff} model on disk...\"\n",
    "        )\n",
    "        cross_validated_models_dict[tradeoff].bestModel.save(\n",
    "            f\"./trained_models/attempt_4/regression/linear_regression_multiple_tradeoffs/tradeoff_{tradeoff}\"\n",
    "        )"
   ]
  },
  {
   "cell_type": "markdown",
   "metadata": {},
   "source": [
    "#### Prediction Tree"
   ]
  },
  {
   "cell_type": "code",
   "execution_count": null,
   "metadata": {},
   "outputs": [],
   "source": [
    "from pyspark.ml.regression import DecisionTreeRegressor\n",
    "from pyspark.ml.regression import DecisionTreeRegressionModel\n",
    "\n",
    "PREDICTION_COL = \"attempt_4_regression_decision_tree_predictions\"\n",
    "\n",
    "if not model_exists(\n",
    "    TRAINED_MODELS_DIRS[\"Attempt 4\"][\"Regression\"][\"Prediction Tree\"]\n",
    "):\n",
    "    print(\"Prediction Tree model NOT found in disk, training...\")\n",
    "    \n",
    "    regression_evaluator_cv.setPredictionCol(PREDICTION_COL)\n",
    "    \n",
    "    estimator = DecisionTreeRegressor()\n",
    "\n",
    "    param_grid = (\n",
    "        ParamGridBuilder()\n",
    "        .addGrid(estimator.featuresCol, FEATURES_COL)\n",
    "        .addGrid(estimator.labelCol, [REGRESSION_LABEL_COL])\n",
    "        .addGrid(estimator.predictionCol, [PREDICTION_COL])\n",
    "        # .addGrid(estimator.maxDepth, [5, 24])\n",
    "        # .addGrid(estimator.maxBins, [16, 32, 64])\n",
    "        # .addGrid(estimator.minInfoGain, [0, 0.1])\n",
    "        .build()\n",
    "    )\n",
    "\n",
    "    cross_validated_models = learn_best_model(\n",
    "        estimator=estimator,\n",
    "        param_grid=param_grid,\n",
    "        evaluator_cv=regression_evaluator_cv\n",
    "    )\n",
    "else:\n",
    "    print(\"Regression Decision Tree model found in disk, loading...\")\n",
    "    model = DecisionTreeRegressionModel.load(\n",
    "        TRAINED_MODELS_DIRS[\"Attempt 4\"][\"Regression\"][\"Prediction Tree\"]\n",
    "    )"
   ]
  },
  {
   "cell_type": "code",
   "execution_count": null,
   "metadata": {},
   "outputs": [],
   "source": [
    "if not model_exists(\n",
    "    TRAINED_MODELS_DIRS[\"Attempt 4\"][\"Regression\"][\"Prediction Tree\"]\n",
    "):\n",
    "    print(\n",
    "        \"Evaluating Prediction Tree model trained in previous cell...\"\n",
    "    )\n",
    "    evaluate_learning_models(\n",
    "        best_model=cross_validated_models.bestModel,\n",
    "        evaluators=get_evaluators(\n",
    "            cross_validated_models.bestModel, \n",
    "            label_col=REGRESSION_LABEL_COL, \n",
    "            prediction_col=PREDICTION_COL, \n",
    "            evaluation_metrics=REGRESSION_EVALUATION_METRICS\n",
    "        ),\n",
    "        save_training_result_path=\"./evaluation_results/attempt_4/regression/prediction_tree.json\"\n",
    "    )\n",
    "else:\n",
    "    print(\"Printing evaluation loaded from disk...\")\n",
    "    print_model_evaluation(\n",
    "        model_evaluation_path=\"./evaluation_results/attempt_4/regression/prediction_tree.json\"\n",
    "    )"
   ]
  },
  {
   "cell_type": "code",
   "execution_count": null,
   "metadata": {},
   "outputs": [],
   "source": [
    "if not model_exists(\n",
    "    TRAINED_MODELS_DIRS[\"Attempt 4\"][\"Regression\"][\"Prediction Tree\"]\n",
    "):\n",
    "    print(\"Saving Decision Tree Regressor model on disk...\")\n",
    "    cross_validated_models.bestModel.save(\n",
    "        \"./trained_models/attempt_4/regression/prediction_tree\"\n",
    "    )"
   ]
  },
  {
   "cell_type": "markdown",
   "metadata": {},
   "source": [
    "#### Gradient Boosted Tree Regression"
   ]
  },
  {
   "cell_type": "code",
   "execution_count": null,
   "metadata": {},
   "outputs": [],
   "source": [
    "from pyspark.ml.regression import GBTRegressor\n",
    "from pyspark.ml.regression import GBTRegressionModel\n",
    "\n",
    "PREDICTION_COL = \"attempt_4_regression_gradient_boosted_tree_predictions\"\n",
    "\n",
    "if not model_exists(\n",
    "    TRAINED_MODELS_DIRS[\"Attempt 4\"][\"Regression\"][\"Gradient Boosted Tree\"]\n",
    "):\n",
    "    print(\"Regression Gradient Boosted Tree model NOT found in disk, training...\")\n",
    "    \n",
    "    regression_evaluator_cv.setPredictionCol(PREDICTION_COL)\n",
    "    \n",
    "    estimator = GBTRegressor()\n",
    "\n",
    "    param_grid = (\n",
    "        ParamGridBuilder()\n",
    "        .addGrid(estimator.featuresCol, FEATURES_COL)\n",
    "        .addGrid(estimator.labelCol, [REGRESSION_LABEL_COL])\n",
    "        .addGrid(estimator.predictionCol, [PREDICTION_COL])\n",
    "        # .addGrid(estimator.maxDepth, [2, 5, 10])\n",
    "        # .addGrid(estimator.maxBins, [16, 32, 64])\n",
    "        # .addGrid(estimator.minInfoGain, [0, 0.1])\n",
    "        # .addGrid(estimator.subsamplingRate, [0.5, 1])\n",
    "        # .addGrid(estimator.lossType, [\"squared\", \"absolute\"])\n",
    "        .build()\n",
    "    )\n",
    "\n",
    "    cross_validated_models = learn_best_model(\n",
    "        estimator=estimator,\n",
    "        param_grid=param_grid,\n",
    "        evaluator_cv=regression_evaluator_cv\n",
    "    )\n",
    "else:\n",
    "    print(\"Regression Gradient Boosted Tree model found in disk, loading...\")\n",
    "    model = GBTRegressionModel.load(\n",
    "        TRAINED_MODELS_DIRS[\"Attempt 4\"][\"Regression\"][\"Gradient Boosted Tree\"]\n",
    "    )"
   ]
  },
  {
   "cell_type": "code",
   "execution_count": null,
   "metadata": {},
   "outputs": [],
   "source": [
    "if not model_exists(\n",
    "    TRAINED_MODELS_DIRS[\"Attempt 4\"][\"Regression\"][\"Gradient Boosted Tree\"]\n",
    "):\n",
    "    print(\n",
    "        \"Evaluating Gradient Boosted Tree model trained in previous cell...\"\n",
    "    )\n",
    "    evaluate_learning_models(\n",
    "        best_model=cross_validated_models.bestModel,\n",
    "        evaluators=get_evaluators(\n",
    "            cross_validated_models.bestModel, \n",
    "            label_col=REGRESSION_LABEL_COL, \n",
    "            prediction_col=PREDICTION_COL, \n",
    "            evaluation_metrics=REGRESSION_EVALUATION_METRICS\n",
    "        ),\n",
    "        save_training_result_path=\"./evaluation_results/attempt_4/regression/gradient_boosted_tree.json\"\n",
    "    )\n",
    "else:\n",
    "    print(\"Printing evaluation loaded from disk...\")\n",
    "    print_model_evaluation(\n",
    "        model_evaluation_path=\"./evaluation_results/attempt_4/regression/gradient_boosted_tree.json\"\n",
    "    )"
   ]
  },
  {
   "cell_type": "code",
   "execution_count": null,
   "metadata": {},
   "outputs": [],
   "source": [
    "if not model_exists(\n",
    "    TRAINED_MODELS_DIRS[\"Attempt 4\"][\"Regression\"][\"Gradient Boosted Tree\"]\n",
    "):\n",
    "    print(\"Saving Gradient Boosted Tree Regression model on disk...\")\n",
    "    cross_validated_models.bestModel.save(\n",
    "        \"./trained_models/attempt_4/regression/gradient_boosted_tree\"\n",
    "    )"
   ]
  },
  {
   "cell_type": "markdown",
   "metadata": {},
   "source": [
    "#### Random Forest Regression"
   ]
  },
  {
   "cell_type": "code",
   "execution_count": null,
   "metadata": {},
   "outputs": [],
   "source": [
    "from pyspark.ml.regression import RandomForestRegressor\n",
    "from pyspark.ml.regression import RandomForestRegressionModel\n",
    "\n",
    "PREDICTION_COL = \"attempt_4_regression_random_forest_predictions\"\n",
    "\n",
    "if not model_exists(\n",
    "    TRAINED_MODELS_DIRS[\"Attempt 4\"][\"Regression\"][\"Random Forest\"]\n",
    "):\n",
    "    print(\"Regression Random Forest model NOT found in disk, training...\")\n",
    "    \n",
    "    regression_evaluator_cv.setPredictionCol(PREDICTION_COL)\n",
    "    \n",
    "    estimator = RandomForestRegressor()\n",
    "\n",
    "    param_grid = (\n",
    "        ParamGridBuilder()\n",
    "        .addGrid(estimator.featuresCol, FEATURES_COL)\n",
    "        .addGrid(estimator.labelCol, [REGRESSION_LABEL_COL])\n",
    "        .addGrid(estimator.predictionCol, [PREDICTION_COL])\n",
    "        # .addGrid(estimator.maxDepth, [5, 24])\n",
    "        # .addGrid(estimator.maxBins, [32, 64])\n",
    "        # .addGrid(estimator.minInfoGain, [0, 0.1])\n",
    "        # .addGrid(estimator.subsamplingRate, [0.5, 1])\n",
    "        # .addGrid(estimator.lossType, [\"squared\", \"absolute\"])\n",
    "        # .addGrid(estimator.numTrees, [20, 40])\n",
    "        # .addGrid(\n",
    "        #     estimator.featureSubsetStrategy, \n",
    "        #     [\"auto\", \"onethird\", \"all\", \"log2\"]\n",
    "        # )\n",
    "        .build()\n",
    "    )\n",
    "\n",
    "    cross_validated_models = learn_best_model(\n",
    "        estimator=estimator,\n",
    "        param_grid=param_grid,\n",
    "        evaluator_cv=regression_evaluator_cv\n",
    "    )\n",
    "else:\n",
    "    print(\"Regression Random Forest model found in disk, loading...\")\n",
    "    model = RandomForestRegressionModel.load(\n",
    "        TRAINED_MODELS_DIRS[\"Attempt 4\"][\"Regression\"][\"Random Forest\"]\n",
    "    )"
   ]
  },
  {
   "cell_type": "code",
   "execution_count": null,
   "metadata": {},
   "outputs": [],
   "source": [
    "if not model_exists(\n",
    "    TRAINED_MODELS_DIRS[\"Attempt 4\"][\"Regression\"][\"Random Forest\"]\n",
    "):\n",
    "    print(\n",
    "        \"Evaluating Random Forest model trained in previous cell...\"\n",
    "    )\n",
    "    evaluate_learning_models(\n",
    "        best_model=cross_validated_models.bestModel,\n",
    "        evaluators=get_evaluators(\n",
    "            cross_validated_models.bestModel, \n",
    "            label_col=REGRESSION_LABEL_COL, \n",
    "            prediction_col=PREDICTION_COL, \n",
    "            evaluation_metrics=REGRESSION_EVALUATION_METRICS\n",
    "        ),\n",
    "        save_training_result_path=\"./evaluation_results/attempt_4/regression/random_forest.json\"\n",
    "    )\n",
    "else:\n",
    "    print(\"Printing evaluation loaded from disk...\")\n",
    "    print_model_evaluation(\n",
    "        model_evaluation_path=\"./evaluation_results/attempt_4/regression/random_forest.json\"\n",
    "    )"
   ]
  },
  {
   "cell_type": "code",
   "execution_count": null,
   "metadata": {},
   "outputs": [],
   "source": [
    "if not model_exists(\n",
    "    TRAINED_MODELS_DIRS[\"Attempt 4\"][\"Regression\"][\"Random Forest\"]\n",
    "):\n",
    "    print(\"Saving Random Forest Regression model on disk...\")\n",
    "    cross_validated_models.bestModel.save(\n",
    "        \"./trained_models/attempt_4/regression/random_forest\"\n",
    "    )"
   ]
  },
  {
   "cell_type": "markdown",
   "metadata": {},
   "source": [
    "### Classification"
   ]
  },
  {
   "cell_type": "code",
   "execution_count": null,
   "metadata": {},
   "outputs": [],
   "source": [
    "classification_evaluator_cv.setLabelCol(CLASSIFICATION_LABEL_COL)"
   ]
  },
  {
   "cell_type": "markdown",
   "metadata": {},
   "source": [
    "#### SVM Classifier"
   ]
  },
  {
   "cell_type": "code",
   "execution_count": null,
   "metadata": {},
   "outputs": [],
   "source": [
    "from pyspark.ml.classification import OneVsRest\n",
    "from pyspark.ml.classification import OneVsRestModel\n",
    "from pyspark.ml.classification import LinearSVC\n",
    "\n",
    "PREDICTION_COL = \"attempt_4_classification_svm_predictions\"\n",
    "\n",
    "if not model_exists(\n",
    "    TRAINED_MODELS_DIRS[\"Attempt 4\"][\"Classification\"][\"SVM\"]\n",
    "):\n",
    "    print(\"SVM Classification model NOT found in disk, training...\")\n",
    "    classification_evaluator_cv.setPredictionCol(PREDICTION_COL)\n",
    "    \n",
    "    estimator = OneVsRest(\n",
    "        classifier=LinearSVC(\n",
    "            featuresCol=FEATURES_COL,\n",
    "            labelCol=CLASSIFICATION_LABEL_COL,\n",
    "            predictionCol=PREDICTION_COL,\n",
    "        ),\n",
    "        featuresCol=FEATURES_COL[0],\n",
    "        labelCol=CLASSIFICATION_LABEL_COL,\n",
    "        predictionCol=PREDICTION_COL\n",
    "    )\n",
    "\n",
    "    param_grid = (\n",
    "        ParamGridBuilder()\n",
    "        .addGrid(estimator.featuresCol, [FEATURES_COL])\n",
    "        .addGrid(estimator.labelCol, [CLASSIFICATION_LABEL_COL])\n",
    "        .addGrid(estimator.predictionCol, [PREDICTION_COL])\n",
    "        .build()\n",
    "    )\n",
    "\n",
    "    cross_validated_models = learn_best_model(\n",
    "        estimator=estimator,\n",
    "        param_grid=param_grid,\n",
    "        evaluator_cv=classification_evaluator_cv\n",
    "    )\n",
    "else:\n",
    "    print(\"SVM Classification model found in disk, loading...\")\n",
    "    model = OneVsRestModel.load(\n",
    "        TRAINED_MODELS_DIRS[\"Attempt 4\"][\"Classification\"][\"SVM\"]\n",
    "    )\n"
   ]
  },
  {
   "cell_type": "code",
   "execution_count": null,
   "metadata": {},
   "outputs": [],
   "source": [
    "if not model_exists(\n",
    "    TRAINED_MODELS_DIRS[\"Attempt 4\"][\"Classification\"][\"SVM\"]\n",
    "):\n",
    "    print(\n",
    "        \"Evaluating SVM Classifier model trained in previous cell...\"\n",
    "    )\n",
    "    evaluate_learning_models(\n",
    "        best_model=cross_validated_models.bestModel,\n",
    "        evaluators=get_evaluators(\n",
    "            cross_validated_models.bestModel, \n",
    "            label_col=CLASSIFICATION_LABEL_COL, \n",
    "            prediction_col=PREDICTION_COL, \n",
    "            evaluation_metrics=CLASSIFICATION_EVALUATION_METRICS\n",
    "        ),\n",
    "        save_training_result_path=\"./evaluation_results/attempt_4/classification/svm.json\"\n",
    "    )\n",
    "else:\n",
    "    print(\"Printing evaluation loaded from disk...\")\n",
    "    print_model_evaluation(\n",
    "        model_evaluation_path=\"./evaluation_results/attempt_4/classification/svm.json\"\n",
    "    )"
   ]
  },
  {
   "cell_type": "code",
   "execution_count": null,
   "metadata": {},
   "outputs": [],
   "source": [
    "if not model_exists(\n",
    "    TRAINED_MODELS_DIRS[\"Attempt 4\"][\"Classification\"][\"SVM\"]\n",
    "):\n",
    "    print(\"Saving SVM Classification model on disk...\")\n",
    "    cross_validated_models.bestModel.save(\n",
    "        \"./trained_models/attempt_4/classification/svm\"\n",
    "    )"
   ]
  },
  {
   "cell_type": "markdown",
   "metadata": {},
   "source": [
    "#### Logistic Regression"
   ]
  },
  {
   "cell_type": "code",
   "execution_count": null,
   "metadata": {},
   "outputs": [],
   "source": [
    "from pyspark.ml.classification import OneVsRest\n",
    "from pyspark.ml.classification import OneVsRestModel\n",
    "from pyspark.ml.classification import LogisticRegression\n",
    "\n",
    "PREDICTION_COL = \"attempt_4_classification_logistic_regression_predictions\"\n",
    "\n",
    "if not model_exists(\n",
    "    TRAINED_MODELS_DIRS[\"Attempt 4\"][\"Classification\"][\"Logistic Regression\"]\n",
    "):\n",
    "    print(\"Logistic Regression Classification model NOT found in disk, training...\")\n",
    "    classification_evaluator_cv.setPredictionCol(PREDICTION_COL)\n",
    "    \n",
    "    estimator = OneVsRest(\n",
    "        classifier=LogisticRegression(\n",
    "            featuresCol=FEATURES_COL,\n",
    "            labelCol=CLASSIFICATION_LABEL_COL,\n",
    "            predictionCol=PREDICTION_COL,\n",
    "        ),\n",
    "        featuresCol=FEATURES_COL,\n",
    "        labelCol=CLASSIFICATION_LABEL_COL,\n",
    "        predictionCol=PREDICTION_COL\n",
    "    )\n",
    "\n",
    "    param_grid = (\n",
    "        ParamGridBuilder()\n",
    "        .addGrid(estimator.featuresCol, [FEATURES_COL])\n",
    "        .addGrid(estimator.labelCol, [CLASSIFICATION_LABEL_COL])\n",
    "        .addGrid(estimator.predictionCol, [PREDICTION_COL])\n",
    "        .build()\n",
    "    )\n",
    "\n",
    "    cross_validated_models = learn_best_model(\n",
    "        estimator=estimator,\n",
    "        param_grid=param_grid,\n",
    "        evaluator_cv=classification_evaluator_cv\n",
    "    )\n",
    "else:\n",
    "    print(\"Logistic Regression Classification model found in disk, loading...\")\n",
    "    model = OneVsRestModel.load(\n",
    "        TRAINED_MODELS_DIRS[\"Attempt 4\"][\"Classification\"][\"Logistic Regression\"]\n",
    "    )\n"
   ]
  },
  {
   "cell_type": "code",
   "execution_count": null,
   "metadata": {},
   "outputs": [],
   "source": [
    "if not model_exists(\n",
    "    TRAINED_MODELS_DIRS[\"Attempt 4\"][\"Classification\"][\"Logistic Regression\"]\n",
    "):\n",
    "    print(\n",
    "        \"Evaluating Logistic Regression Classifier model trained in previous cell...\"\n",
    "    )\n",
    "    evaluate_learning_models(\n",
    "        best_model=cross_validated_models.bestModel,\n",
    "        evaluators=get_evaluators(\n",
    "            cross_validated_models.bestModel, \n",
    "            label_col=CLASSIFICATION_LABEL_COL, \n",
    "            prediction_col=PREDICTION_COL, \n",
    "            evaluation_metrics=CLASSIFICATION_EVALUATION_METRICS\n",
    "        ),\n",
    "        save_training_result_path=\"./evaluation_results/attempt_4/classification/logistic_regression.json\"\n",
    "    )\n",
    "else:\n",
    "    print(\"Printing evaluation loaded from disk...\")\n",
    "    print_model_evaluation(\n",
    "        model_evaluation_path=\"./evaluation_results/attempt_4/classification/logistic_regression.json\"\n",
    "    )"
   ]
  },
  {
   "cell_type": "code",
   "execution_count": null,
   "metadata": {},
   "outputs": [],
   "source": [
    "if not model_exists(\n",
    "    TRAINED_MODELS_DIRS[\"Attempt 4\"][\"Classification\"][\"Logistic Regression\"]\n",
    "):\n",
    "    print(\"Saving Logistic Regression Classification model on disk...\")\n",
    "    cross_validated_models.bestModel.save(\n",
    "        \"./trained_models/attempt_4/classification/logistic_regression\"\n",
    "    )"
   ]
  },
  {
   "cell_type": "markdown",
   "metadata": {},
   "source": [
    "#### Decision Tree"
   ]
  },
  {
   "cell_type": "code",
   "execution_count": null,
   "metadata": {},
   "outputs": [],
   "source": [
    "from pyspark.ml.classification import DecisionTreeClassifier\n",
    "from pyspark.ml.classification import DecisionTreeClassificationModel\n",
    "\n",
    "PREDICTION_COL = \"attempt_4_classification_decision_tree_predictions\"\n",
    "\n",
    "if not model_exists(\n",
    "    TRAINED_MODELS_DIRS[\"Attempt 4\"][\"Classification\"][\"Decision Tree\"]\n",
    "):\n",
    "    print(\"Classification Decision Tree model NOT found in disk, training...\")\n",
    "    classification_evaluator_cv.setPredictionCol(PREDICTION_COL)\n",
    "    \n",
    "    estimator = DecisionTreeClassifier()\n",
    "\n",
    "    param_grid = (\n",
    "        ParamGridBuilder()\n",
    "        .addGrid(estimator.featuresCol, FEATURES_COL)\n",
    "        .addGrid(estimator.labelCol, [CLASSIFICATION_LABEL_COL])\n",
    "        .addGrid(estimator.predictionCol, [PREDICTION_COL])\n",
    "        # .addGrid(estimator.maxDepth, [5, 24])\n",
    "        # .addGrid(estimator.maxBins, [16, 32, 64])\n",
    "        # .addGrid(estimator.minInfoGain, [0, 0.1])\n",
    "        .build()\n",
    "    )\n",
    "\n",
    "    cross_validated_models = learn_best_model(\n",
    "        estimator=estimator,\n",
    "        param_grid=param_grid,\n",
    "        evaluator_cv=classification_evaluator_cv\n",
    "    )\n",
    "else:\n",
    "    print(\"Classification Decision Tree model found in disk, loading...\")\n",
    "    model = DecisionTreeClassificationModel.load(\n",
    "        TRAINED_MODELS_DIRS[\"Attempt 4\"][\"Classification\"][\"Decision Tree\"]\n",
    "    )\n",
    "    evaluators = get_evaluators(\n",
    "        model, \n",
    "        label_col=CLASSIFICATION_LABEL_COL, \n",
    "        prediction_col=PREDICTION_COL, \n",
    "        evaluation_metrics=CLASSIFICATION_EVALUATION_METRICS\n",
    "    )"
   ]
  },
  {
   "cell_type": "code",
   "execution_count": null,
   "metadata": {},
   "outputs": [],
   "source": [
    "if not model_exists(\n",
    "    TRAINED_MODELS_DIRS[\"Attempt 4\"][\"Classification\"][\"Decision Tree\"]\n",
    "):\n",
    "    print(\n",
    "        \"Evaluating Decision Tree model trained in previous cell...\"\n",
    "    )\n",
    "    evaluate_learning_models(\n",
    "        best_model=cross_validated_models.bestModel,\n",
    "        evaluators=get_evaluators(\n",
    "            cross_validated_models.bestModel, \n",
    "            label_col=CLASSIFICATION_LABEL_COL, \n",
    "            prediction_col=PREDICTION_COL, \n",
    "            evaluation_metrics=CLASSIFICATION_EVALUATION_METRICS\n",
    "        ),\n",
    "        save_training_result_path=\"./evaluation_results/attempt_4/classification/decision_tree.json\"\n",
    "    )\n",
    "else:\n",
    "    print(\"Printing evaluation loaded from disk...\")\n",
    "    print_model_evaluation(\n",
    "        model_evaluation_path=\"./evaluation_results/attempt_4/classification/decision_tree.json\"\n",
    "    )"
   ]
  },
  {
   "cell_type": "code",
   "execution_count": null,
   "metadata": {},
   "outputs": [],
   "source": [
    "if not model_exists(\n",
    "    TRAINED_MODELS_DIRS[\"Attempt 4\"][\"Classification\"][\"Decision Tree\"]\n",
    "):\n",
    "    print(\"Saving Decision Tree model on disk...\")\n",
    "    cross_validated_models.bestModel.save(\n",
    "        \"./trained_models/attempt_4/classification/decision_tree\"\n",
    "    )"
   ]
  },
  {
   "cell_type": "markdown",
   "metadata": {},
   "source": [
    "#### Random Forest"
   ]
  },
  {
   "cell_type": "code",
   "execution_count": null,
   "metadata": {},
   "outputs": [],
   "source": [
    "from pyspark.ml.classification import RandomForestClassifier\n",
    "from pyspark.ml.classification import RandomForestClassificationModel\n",
    "\n",
    "PREDICTION_COL = \"attempt_4_classification_random_forest_predictions\"\n",
    "\n",
    "if not model_exists(\n",
    "    TRAINED_MODELS_DIRS[\"Attempt 4\"][\"Classification\"][\"Random Forest\"]\n",
    "):\n",
    "    print(\"Classification Random Forest model NOT found in disk, training...\")\n",
    "    \n",
    "    classification_evaluator_cv.setPredictionCol(PREDICTION_COL)\n",
    "    \n",
    "    estimator = RandomForestClassifier()\n",
    "\n",
    "    param_grid = (\n",
    "        ParamGridBuilder()\n",
    "        .addGrid(estimator.featuresCol, FEATURES_COL)\n",
    "        .addGrid(estimator.labelCol, [CLASSIFICATION_LABEL_COL])\n",
    "        .addGrid(estimator.predictionCol, [PREDICTION_COL])\n",
    "        # .addGrid(estimator.maxDepth, [5, 24])\n",
    "        # .addGrid(estimator.maxBins, [32, 64])\n",
    "        # .addGrid(estimator.minInfoGain, [0, 0.1])\n",
    "        # .addGrid(estimator.subsamplingRate, [0.5, 1])\n",
    "        # .addGrid(estimator.lossType, [\"squared\", \"absolute\"])\n",
    "        # .addGrid(estimator.numTrees, [20, 40])\n",
    "        # .addGrid(estimator.featureSubsetStrategy, [\"auto\", \"onethird\", \"all\", \"log2\"])\n",
    "        .build()\n",
    "    )\n",
    "\n",
    "    cross_validated_models = learn_best_model(\n",
    "        estimator=estimator,\n",
    "        param_grid=param_grid,\n",
    "        evaluator_cv=classification_evaluator_cv\n",
    "    )\n",
    "else:\n",
    "    print(\"Classification Random Forest model found in disk, loading...\")\n",
    "    model = RandomForestClassificationModel.load(\n",
    "        TRAINED_MODELS_DIRS[\"Attempt 4\"][\"Classification\"][\"Random Forest\"]\n",
    "    )"
   ]
  },
  {
   "cell_type": "code",
   "execution_count": null,
   "metadata": {},
   "outputs": [],
   "source": [
    "if not model_exists(\n",
    "    TRAINED_MODELS_DIRS[\"Attempt 4\"][\"Classification\"][\"Random Forest\"]\n",
    "):\n",
    "    print(\n",
    "        \"Evaluating Random Forest model trained in previous cell...\"\n",
    "    )\n",
    "    evaluate_learning_models(\n",
    "        best_model=cross_validated_models.bestModel,\n",
    "        evaluators=get_evaluators(\n",
    "            cross_validated_models.bestModel, \n",
    "            label_col=CLASSIFICATION_LABEL_COL, \n",
    "            prediction_col=PREDICTION_COL, \n",
    "            evaluation_metrics=CLASSIFICATION_EVALUATION_METRICS\n",
    "        ),\n",
    "        save_training_result_path=\"./evaluation_results/attempt_4/classification/random_forest.json\"\n",
    "    )\n",
    "else:\n",
    "    print(\"Printing evaluation loaded from disk...\")\n",
    "    print_model_evaluation(\n",
    "        model_evaluation_path=\"./evaluation_results/attempt_4/classification/random_forest.json\"\n",
    "    )"
   ]
  },
  {
   "cell_type": "code",
   "execution_count": null,
   "metadata": {},
   "outputs": [],
   "source": [
    "if not model_exists(\n",
    "    TRAINED_MODELS_DIRS[\"Attempt 4\"][\"Classification\"][\"Random Forest\"]\n",
    "):\n",
    "    print(\"Saving Random Forest Classification model on disk...\")\n",
    "    cross_validated_models.bestModel.save(\n",
    "        \"./trained_models/attempt_4/classification/random_forest\"\n",
    "    )"
   ]
  },
  {
   "cell_type": "markdown",
   "metadata": {},
   "source": [
    "#### MLP"
   ]
  },
  {
   "cell_type": "code",
   "execution_count": null,
   "metadata": {},
   "outputs": [],
   "source": [
    "from pyspark.ml.classification import MultilayerPerceptronClassifier\n",
    "from pyspark.ml.classification import MultilayerPerceptronClassificationModel\n",
    "\n",
    "PREDICTION_COL = \"attempt_4_classification_mlp_predictions\"\n",
    "\n",
    "if not model_exists(\n",
    "    TRAINED_MODELS_DIRS[\"Attempt 4\"][\"Classification\"][\"MLP\"]\n",
    "):\n",
    "    print(\"Classification MLP model NOT found in disk, training...\")\n",
    "    \n",
    "    classification_evaluator_cv.setPredictionCol(PREDICTION_COL)\n",
    "    \n",
    "    estimator = MultilayerPerceptronClassifier()\n",
    "\n",
    "    param_grid = (\n",
    "        ParamGridBuilder()\n",
    "        .addGrid(estimator.featuresCol, FEATURES_COL)\n",
    "        .addGrid(estimator.labelCol, [CLASSIFICATION_LABEL_COL])\n",
    "        .addGrid(estimator.predictionCol, [PREDICTION_COL])\n",
    "        .addGrid(estimator.layers, [[1, NUM_MACRO_PLACES]])\n",
    "        .addGrid(estimator.solver, [\"gd\"])\n",
    "        .build()\n",
    "    )\n",
    "\n",
    "    cross_validated_models = learn_best_model(\n",
    "        estimator=estimator,\n",
    "        param_grid=param_grid,\n",
    "        evaluator_cv=classification_evaluator_cv\n",
    "    )\n",
    "else:\n",
    "    print(\"Classification MLP model found in disk, loading...\")\n",
    "    model = MultilayerPerceptronClassificationModel.load(\n",
    "        TRAINED_MODELS_DIRS[\"Attempt 4\"][\"Classification\"][\"MLP\"]\n",
    "    )"
   ]
  },
  {
   "cell_type": "code",
   "execution_count": null,
   "metadata": {},
   "outputs": [],
   "source": [
    "if not model_exists(\n",
    "    TRAINED_MODELS_DIRS[\"Attempt 4\"][\"Classification\"][\"MLP\"]\n",
    "):\n",
    "    print(\n",
    "        \"Evaluating MLP model trained in previous cell...\"\n",
    "    )\n",
    "    evaluate_learning_models(\n",
    "        best_model=cross_validated_models.bestModel,\n",
    "        evaluators=get_evaluators(\n",
    "            cross_validated_models.bestModel, \n",
    "            label_col=CLASSIFICATION_LABEL_COL, \n",
    "            prediction_col=PREDICTION_COL, \n",
    "            evaluation_metrics=CLASSIFICATION_EVALUATION_METRICS\n",
    "        ),\n",
    "        save_training_result_path=\"./evaluation_results/attempt_4/classification/mlp.json\"\n",
    "    )\n",
    "else:\n",
    "    print(\"Printing evaluation loaded from disk...\")\n",
    "    print_model_evaluation(\n",
    "        model_evaluation_path=\"./evaluation_results/attempt_4/classification/mlp.json\"\n",
    "    )"
   ]
  },
  {
   "cell_type": "code",
   "execution_count": null,
   "metadata": {},
   "outputs": [],
   "source": [
    "if not model_exists(\n",
    "    TRAINED_MODELS_DIRS[\"Attempt 4\"][\"Classification\"][\"MLP\"]\n",
    "):\n",
    "    print(\"Saving MLP Classification model on disk...\")\n",
    "    cross_validated_models.bestModel.save(\n",
    "        \"./trained_models/attempt_4/classification/mlp\"\n",
    "    )"
   ]
  },
  {
   "cell_type": "markdown",
   "metadata": {},
   "source": [
    "## RP impact\n",
    "\n",
    "plot showing that the more the weight of the RP coefficient is increased, the more the accuracy ofc goes up"
   ]
  },
  {
   "cell_type": "markdown",
   "metadata": {},
   "source": []
  }
 ],
 "metadata": {
  "interpreter": {
   "hash": "7d6993cb2f9ce9a59d5d7380609d9cb5192a9dedd2735a011418ad9e827eb538"
  },
  "kernelspec": {
   "display_name": "Python 3.9.7 64-bit",
   "language": "python",
   "name": "python3"
  },
  "language_info": {
   "codemirror_mode": {
    "name": "ipython",
    "version": 3
   },
   "file_extension": ".py",
   "mimetype": "text/x-python",
   "name": "python",
   "nbconvert_exporter": "python",
   "pygments_lexer": "ipython3",
   "version": "3.9.7"
  },
  "orig_nbformat": 4,
  "vscode": {
   "interpreter": {
    "hash": "916dbcbb3f70747c44a77c7bcd40155683ae19c65e1c03b4aa3499c5328201f1"
   }
  }
 },
 "nbformat": 4,
 "nbformat_minor": 2
}
