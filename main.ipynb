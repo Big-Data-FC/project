{
 "cells": [
  {
   "cell_type": "markdown",
   "metadata": {},
   "source": [
    "# Big Data FC"
   ]
  },
  {
   "cell_type": "markdown",
   "metadata": {},
   "source": [
    "The goal of the **Big Data FC** project is to **predict** how many **points** a **football team** belonging to the main European football leagues will end the season with, according to the **characteristics of its players**.\n",
    "\n",
    "To reach the goal, data relative to the **football players** will first be loaded, in order to then compose the **football teams**.\n",
    "After that, a second dataset will be used to gather seasonal **rankings**, for every football team.\n",
    "\n",
    "The project as a whole is composed of:\n",
    "\n",
    "* This **notebook**, containing all steps of:\n",
    "  * Data loading.\n",
    "  * Data cleaning and pre-processing\n",
    "  * Data visualization.\n",
    "  * Data analysis.\n",
    "  * Learning and evaluation.\n",
    "* A custom [**scraper**](https://github.com/Big-Data-FC/scraper), to gather further players data.\n",
    "* A set of **REST APIs** to query the loaded data and the prediction model.\n",
    "* The collection of [scraped datasets](https://github.com/Big-Data-FC/datasets).\n",
    "\n",
    "During the project, multiple approaches and techniques were explored, all described in this notebook.\n",
    "\n",
    "_By [Daniele Solombrino](https://github.com/dansolombrino) and [Davide Quaranta](https://github.com/fortym2)._"
   ]
  },
  {
   "cell_type": "markdown",
   "metadata": {},
   "source": [
    "# Notebook configuration, global parameters and utility functions"
   ]
  },
  {
   "cell_type": "markdown",
   "metadata": {},
   "source": [
    "[state that we trained the models]"
   ]
  },
  {
   "cell_type": "code",
   "execution_count": 1,
   "metadata": {},
   "outputs": [],
   "source": [
    "MAX_K_CLUSTERS = 66\n",
    "MAX_ITER = 20\n",
    "\n",
    "k_range = range(2, MAX_K_CLUSTERS, 4)\n",
    "K_RANGE = [str(k) for k in k_range]"
   ]
  },
  {
   "cell_type": "code",
   "execution_count": 2,
   "metadata": {},
   "outputs": [],
   "source": [
    "ADD_RP_TRADEOFF = [0.5, 1, 2, 4, 8]"
   ]
  },
  {
   "cell_type": "code",
   "execution_count": 3,
   "metadata": {},
   "outputs": [],
   "source": [
    "attempts = range(1, 5)\n",
    "\n",
    "TRAINED_MODELS_DIRS = {\n",
    "    \"Attempt \" + str(k) : {\n",
    "        \"Regression\": {\n",
    "            \"Linear Regression\": f\"trained_models/attempt_{k}/regression/linear_regression\",\n",
    "            \"Prediction Tree\": f\"trained_models/attempt_{k}/regression/prediction_tree\",\n",
    "            \"Gradient Boosted Tree\": f\"trained_models/attempt_{k}/regression/gradient_boosted_tree\",\n",
    "            \"Random Forest\": f\"trained_models/attempt_{k}/regression/random_forest\",\n",
    "        },\n",
    "        \"Classification\": {\n",
    "            \"SVM\": f\"trained_models/attempt_{k}/classification/svm\",\n",
    "            \"Decision Tree\": f\"trained_models/attempt_{k}/classification/decision_tree\",\n",
    "            \"Logistic Regression\": f\"trained_models/attempt_{k}/classification/logistic_regression\",\n",
    "            \"Random Forest\": f\"trained_models/attempt_{k}/classification/random_forest\",\n",
    "            \"MLP\": f\"trained_models/attempt_{k}/classification/mlp\",\n",
    "        }\n",
    "    } for k in attempts\n",
    "}\n",
    "\n",
    "TRAINED_MODELS_DIRS[\"Attempt 3\"][\"Regression\"][\"Linear Regression multiple k\"] = {\n",
    "    k : f\"trained_models/attempt_3/regression/linear_regression_multiple_k/{k}_clusters\" for k in K_RANGE\n",
    "}\n",
    "\n",
    "TRAINED_MODELS_DIRS[\"Attempt 4\"][\"Regression\"][\"Linear Regression multiple tradeoffs\"] = {\n",
    "    tradeoff : f\"trained_models/attempt_4/regression/linear_regression_multiple_tradeoffs/tradeoff_{tradeoff}\" for tradeoff in ADD_RP_TRADEOFF\n",
    "}\n"
   ]
  },
  {
   "cell_type": "code",
   "execution_count": 4,
   "metadata": {},
   "outputs": [],
   "source": [
    "def model_exists(model_path):\n",
    "    return os.path.isdir(model_path)"
   ]
  },
  {
   "cell_type": "code",
   "execution_count": 5,
   "metadata": {},
   "outputs": [],
   "source": [
    "def load_model_from_disk(model_type, model_path):\n",
    "    return model_type.load(model_path)"
   ]
  },
  {
   "cell_type": "markdown",
   "metadata": {},
   "source": [
    "Before getting started, a series of components that are used across the entire project are imported."
   ]
  },
  {
   "cell_type": "code",
   "execution_count": 6,
   "metadata": {},
   "outputs": [],
   "source": [
    "#  PySpark\n",
    "from pyspark.sql import *\n",
    "from pyspark.sql.types import *\n",
    "from pyspark.sql.functions import *\n",
    "from pyspark import SparkContext, SparkConf\n",
    "\n",
    "import gc\n",
    "\n",
    "import builtins\n",
    "import operator\n",
    "import json\n",
    "\n",
    "import seaborn as sns\n",
    "import matplotlib.pyplot as plt\n",
    "# %matplotlib inline\n",
    "%matplotlib widget\n",
    "\n",
    "import pandas as pd\n",
    "import numpy as np\n",
    "\n",
    "from functools import reduce\n",
    "\n",
    "import pprint"
   ]
  },
  {
   "cell_type": "code",
   "execution_count": 7,
   "metadata": {},
   "outputs": [
    {
     "name": "stdout",
     "output_type": "stream",
     "text": [
      "22/06/26 14:02:24 WARN Utils: Your hostname, rig-2022 resolves to a loopback address: 127.0.1.1; using 192.168.1.190 instead (on interface wlp5s0)\n",
      "22/06/26 14:02:24 WARN Utils: Set SPARK_LOCAL_IP if you need to bind to another address\n"
     ]
    },
    {
     "name": "stderr",
     "output_type": "stream",
     "text": [
      "Setting default log level to \"WARN\".\n",
      "To adjust logging level use sc.setLogLevel(newLevel). For SparkR, use setLogLevel(newLevel).\n"
     ]
    },
    {
     "name": "stdout",
     "output_type": "stream",
     "text": [
      "22/06/26 14:02:25 WARN NativeCodeLoader: Unable to load native-hadoop library for your platform... using builtin-java classes where applicable\n"
     ]
    }
   ],
   "source": [
    "conf = (\n",
    "    SparkConf()\n",
    "    .set(\"spark.ui.port\", \"4050\")\n",
    "    .set(\"spark.executor.memory\", \"4G\")\n",
    "    .set(\"spark.driver.memory\", \"20G\")\n",
    "    .set(\"spark.driver.maxResultSize\", \"10G\")\n",
    ")\n",
    "# .set(\"spark.master\", \"spark://192.168.1.189:4050\")\n",
    "\n",
    "\n",
    "# create the context\n",
    "sc = SparkContext(conf=conf)\n",
    "sc.setLogLevel(\"ERROR\")\n",
    "\n",
    "\n",
    "spark = SparkSession.builder.getOrCreate()"
   ]
  },
  {
   "cell_type": "code",
   "execution_count": 8,
   "metadata": {},
   "outputs": [],
   "source": [
    "import random \n",
    "\n",
    "random_seed = random.randint(0, sys.maxsize)"
   ]
  },
  {
   "cell_type": "code",
   "execution_count": 9,
   "metadata": {},
   "outputs": [],
   "source": [
    "def plot_feature_target_relation(\n",
    "    data, x, y, n_cols = 2, figsize = (15, 30), color = \"#000000\"\n",
    "):\n",
    "\n",
    "    n_rows = int(len(x) / n_cols) if len(x) >= n_cols else n_cols\n",
    "    fig, axes = plt.subplots(n_rows, n_cols, figsize=figsize)\n",
    "\n",
    "    for x_ind, x_value in enumerate(x):\n",
    "        ax = sns.regplot(\n",
    "            data=data,\n",
    "            x=x_value,\n",
    "            y=y,\n",
    "            color = color,\n",
    "            ax=axes[x_ind // n_cols, x_ind % n_cols] if n_rows > 1 else axes,\n",
    "        )\n",
    "\n",
    "\n",
    "    fig.tight_layout()"
   ]
  },
  {
   "cell_type": "code",
   "execution_count": 10,
   "metadata": {},
   "outputs": [],
   "source": [
    "def plot_feature_distribution(\n",
    "    data,\n",
    "    features,\n",
    "    figsize=(4,4), \n",
    "    color=\"#000000\",\n",
    "    n_cols=2\n",
    "):\n",
    "\n",
    "    n_rows = int(len(features) / n_cols) if len(features) >= n_cols else n_cols\n",
    "    fig, axes = plt.subplots(n_rows, n_cols, figsize=figsize)\n",
    "\n",
    "    for feature_ind, feature in enumerate(features):\n",
    "        _ = sns.histplot(\n",
    "            data[feature],\n",
    "            kde=True,\n",
    "            color=color,\n",
    "            facecolor=color,\n",
    "            ax=axes[feature_ind // n_cols, feature_ind % n_cols] if n_rows > 1 else axes,\n",
    "        )\n",
    "\n",
    "    fig.tight_layout(pad=1.5)"
   ]
  },
  {
   "cell_type": "code",
   "execution_count": 11,
   "metadata": {},
   "outputs": [],
   "source": [
    "def plot_correlation_matrix(\n",
    "    data, features, title=\"Pearson Correlation Matrix\", figsize=(16,12)\n",
    "):\n",
    "\n",
    "    mask = np.zeros_like(data[features].corr(), dtype=bool)\n",
    "    mask[np.triu_indices_from(mask)] = True\n",
    "\n",
    "    with sns.axes_style(\"white\"):  # Temporarily set the background to white\n",
    "        fig, ax = plt.subplots(figsize=figsize)\n",
    "        plt.title(title, fontsize=24)\n",
    "\n",
    "        cmap = sns.diverging_palette(220, 10, as_cmap=True)\n",
    "\n",
    "        _ = sns.heatmap(\n",
    "            data[features].corr(),\n",
    "            linewidths=0.25,\n",
    "            vmax=0.7,\n",
    "            square=True,\n",
    "            ax=ax,\n",
    "            cmap=cmap,\n",
    "            linecolor=\"w\",\n",
    "            annot=True,\n",
    "            annot_kws={\"size\": 8},\n",
    "            mask=mask,\n",
    "            cbar_kws={\"shrink\": 0.9},\n",
    "        )"
   ]
  },
  {
   "cell_type": "code",
   "execution_count": 12,
   "metadata": {},
   "outputs": [],
   "source": [
    "from pyspark.ml.evaluation import RegressionEvaluator, MulticlassClassificationEvaluator\n",
    "from pyspark.ml.tuning import CrossValidator, ParamGridBuilder\n",
    "\n",
    "from pyspark.ml.regression import Regressor\n",
    "from pyspark.ml.regression import LinearRegression, LinearRegressionModel, LinearRegressionTrainingSummary\n",
    "from pyspark.ml.regression import RandomForestRegressor, RandomForestRegressionModel\n",
    "from pyspark.ml.classification import Classifier\n",
    "from pyspark.ml.classification import OneVsRest\n",
    "from pyspark.ml.classification import RandomForestClassificationTrainingSummary\n",
    "from pyspark.ml.classification import MultilayerPerceptronClassificationSummary\n",
    "\n",
    "from pyspark.ml.regression import RegressionModel\n",
    "from pyspark.ml.classification import ClassificationModel\n",
    "from pyspark.ml.classification import MultilayerPerceptronClassificationModel"
   ]
  },
  {
   "cell_type": "code",
   "execution_count": 13,
   "metadata": {},
   "outputs": [],
   "source": [
    "def get_evaluators(estimator, label_col, prediction_col, evaluation_metrics):\n",
    "    evaluators = dict()\n",
    "\n",
    "    if isinstance(estimator, Regressor) or isinstance(estimator, RegressionModel):\n",
    "        evaluators = {\n",
    "            metric: RegressionEvaluator(\n",
    "                labelCol=label_col,\n",
    "                predictionCol=prediction_col,\n",
    "                metricName=metric,\n",
    "            )\n",
    "            for metric in evaluation_metrics\n",
    "        }\n",
    "    elif isinstance(\n",
    "        estimator, Classifier\n",
    "        ) or isinstance(estimator, OneVsRestModel) or isinstance(\n",
    "            estimator, ClassificationModel\n",
    "        ):\n",
    "        evaluators = {\n",
    "            metric: MulticlassClassificationEvaluator(\n",
    "                labelCol=label_col,\n",
    "                predictionCol=prediction_col,\n",
    "                metricName=metric,\n",
    "            )\n",
    "            for metric in evaluation_metrics\n",
    "        }\n",
    "    else:\n",
    "        raise Exception(\"Unexpected estimator, got\" + str(type(estimator)))\n",
    "\n",
    "    return evaluators\n"
   ]
  },
  {
   "cell_type": "code",
   "execution_count": 14,
   "metadata": {},
   "outputs": [],
   "source": [
    "def learn_best_model(\n",
    "    estimator, \n",
    "    param_grid,\n",
    "    evaluator_cv\n",
    "):\n",
    "    cross_validator = CrossValidator(\n",
    "        estimator=estimator,\n",
    "        estimatorParamMaps=param_grid,\n",
    "        evaluator=evaluator_cv,\n",
    "        numFolds=5,\n",
    "        collectSubModels=False\n",
    "    )\n",
    "    \n",
    "    cross_validated_model = cross_validator.fit(train_df)\n",
    "\n",
    "    return cross_validated_model"
   ]
  },
  {
   "cell_type": "code",
   "execution_count": 15,
   "metadata": {},
   "outputs": [],
   "source": [
    "def evaluate_learning_models(\n",
    "    best_model, \n",
    "    evaluators,\n",
    "    save_training_result_path=None\n",
    "):\n",
    "    has_summary = True\n",
    "    \n",
    "    out_dict = {\n",
    "        \"train_set_evaluation\": dict(),\n",
    "        \"test_set_evaluation\": dict()\n",
    "    }\n",
    "\n",
    "    try:\n",
    "        has_summary = best_model.hasSummary\n",
    "    except AttributeError as e:\n",
    "        # since the only models that have summary\n",
    "        # have the hasSummary field,\n",
    "        # it is needed to catch this exception\n",
    "        has_summary = False\n",
    "    \n",
    "    if has_summary:\n",
    "        print(\"Summary available, retrieving data...\")\n",
    "\n",
    "        if isinstance(\n",
    "            best_model, LinearRegressionModel\n",
    "        ) or isinstance(best_model, RandomForestClassificationModel):\n",
    "            training_result = best_model.summary\n",
    "        elif isinstance(best_model, MultilayerPerceptronClassificationModel):\n",
    "            training_result = best_model.summary()\n",
    "        \n",
    "        print(\"-----------------------------\")\n",
    "        print(training_result.r2)\n",
    "        print(\"-----------------------------\")\n",
    "\n",
    "\n",
    "        if any(\n",
    "            x in type(best_model).__name__ for x in [\n",
    "                \"LinearRegression\", \n",
    "                \"DecisionTreeRegressor\", \n",
    "                \"GBTRegressor\",\n",
    "                \"RandomForestRegressor\"\n",
    "            ]\n",
    "        ):\n",
    "            out_dict[\"train_set_evaluation\"][\"r2\"] = training_result.r2\n",
    "            out_dict[\"train_set_evaluation\"][\"r2adj\"] = training_result.r2adj\n",
    "            out_dict[\"train_set_evaluation\"][\"meanSquaredError\"] = training_result.meanSquaredError\n",
    "            out_dict[\"train_set_evaluation\"][\"meanAbsoluteError\"] = training_result.meanAbsoluteError\n",
    "            out_dict[\"train_set_evaluation\"][\"rootMeanSquaredError\"] = training_result.rootMeanSquaredError\n",
    "            out_dict[\"train_set_evaluation\"][\"explainedVariance\"] = training_result.explainedVariance\n",
    "        else:\n",
    "            out_dict[\"train_set_evaluation\"][\"accuracy\"] = training_result.accuracy\n",
    "            out_dict[\"train_set_evaluation\"][\"falsePositiveRateByLabel\"] = training_result.falsePositiveRateByLabel\n",
    "            out_dict[\"train_set_evaluation\"][\"precisionByLabel\"] = training_result.precisionByLabel\n",
    "            out_dict[\"train_set_evaluation\"][\"recallByLabel\"] = training_result.recallByLabel\n",
    "            out_dict[\"train_set_evaluation\"][\"truePositiveRateByLabel\"] = training_result.truePositiveRateByLabel\n",
    "            out_dict[\"train_set_evaluation\"][\"weightedFalsePositiveRate\"] = training_result.weightedFalsePositiveRate\n",
    "            out_dict[\"train_set_evaluation\"][\"weightedPrecision\"] = training_result.weightedPrecision\n",
    "            out_dict[\"train_set_evaluation\"][\"weightedRecall\"] = training_result.weightedRecall\n",
    "            out_dict[\"train_set_evaluation\"][\"weightedTruePositiveRate\"] = training_result.weightedTruePositiveRate\n",
    "            out_dict[\"train_set_evaluation\"][\"fMeasureByLabel\"] = training_result.fMeasureByLabel()\n",
    "            out_dict[\"train_set_evaluation\"][\"weightedFMeasure\"] = training_result.weightedFMeasure()\n",
    "\n",
    "        predictions = best_model.transform(test_df)\n",
    "                    \n",
    "        for e, evaluator in evaluators.items():\n",
    "            if save_training_result_path is not None:\n",
    "                out_dict[\"test_set_evaluation\"][evaluator.getMetricName()] = evaluator.evaluate(predictions)\n",
    "    \n",
    "    else: # no summary available\n",
    "        print(\"No summary available, using custom evaluation procedure...\")\n",
    "        for stage_name, stage_df in zip([\"Train\", \"Test\"], [train_df, test_df]):\n",
    "            predictions = best_model.transform(stage_df)\n",
    "\n",
    "            for e, evaluator in evaluators.items():\n",
    "                if save_training_result_path is not None:\n",
    "                    out_dict[f\"{stage_name.lower()}_set_evaluation\"][evaluator.getMetricName()] = evaluator.evaluate(predictions)\n",
    "\n",
    "    if save_training_result_path is not None:\n",
    "        os.makedirs(\n",
    "            os.path.join(\n",
    "                *save_training_result_path.split(\"/\")[:-1]\n",
    "            ), \n",
    "            exist_ok=True\n",
    "        ) \n",
    "        \n",
    "        with open(save_training_result_path, \"w\", encoding=\"utf8\") as f:\n",
    "            f.write(json.dumps(out_dict))\n",
    "    \n",
    "    pprint.pprint(out_dict)\n",
    "\n",
    "    return out_dict\n",
    "\n"
   ]
  },
  {
   "cell_type": "code",
   "execution_count": 16,
   "metadata": {},
   "outputs": [],
   "source": [
    "import json\n",
    "\n",
    "def print_model_evaluation(model_evaluation_path):\n",
    "    \n",
    "    with open(model_evaluation_path) as json_file:\n",
    "        model_evaluation = json.load(json_file)\n",
    "        \n",
    "        pprint.pprint(model_evaluation)\n",
    "        return model_evaluation"
   ]
  },
  {
   "cell_type": "code",
   "execution_count": 17,
   "metadata": {},
   "outputs": [],
   "source": [
    "from pyspark.ml.feature import PCA\n",
    "\n",
    "PCA_NUM_COMPONENTS = 2\n",
    "\n",
    "def perform_pca(df, num_components, input_col, output_col):\n",
    "    pca = PCA(\n",
    "        k=num_components, \n",
    "        inputCol=input_col, \n",
    "        outputCol=output_col\n",
    "    )\n",
    "    pca_model = pca.fit(df)\n",
    "\n",
    "    return pca_model.transform(df), pca_model"
   ]
  },
  {
   "cell_type": "code",
   "execution_count": 18,
   "metadata": {},
   "outputs": [],
   "source": [
    "def plot_pca_explained_variance(pca_model, num_components_to_plot=2, figsize=(8,6)):\n",
    "    fig, ax = plt.subplots(1, 1, figsize=figsize)\n",
    "    _ = sns.barplot(\n",
    "        x=[i for i in range(num_components_to_plot)],\n",
    "        y=pca_model.explainedVariance.values[0:num_components_to_plot],\n",
    "        ax=ax,\n",
    "        palette=\"summer\"\n",
    "    )\n",
    "\n",
    "    _ = ax.set_xlabel(\"Eigenvalues\", labelpad=16, fontsize=16)\n",
    "    _ = ax.set_ylabel(\"Proportion of Variance\", fontsize=16)\n",
    "    _ = ax.set_xticklabels(\n",
    "        [f\"Principal Component {i}\" for i in range(num_components_to_plot)], \n",
    "        rotation=0\n",
    "    )\n",
    "    _ = ax.set_title(\"Explained variance of each Principal Component\")"
   ]
  },
  {
   "cell_type": "code",
   "execution_count": 19,
   "metadata": {},
   "outputs": [],
   "source": [
    "def scatter_plot(\n",
    "    x,\n",
    "    y,\n",
    "    x_label,\n",
    "    y_label,\n",
    "    title=\"\",\n",
    "    c=None,\n",
    "    c_map=plt.cm.get_cmap(\"tab10\"),\n",
    "    figsize=(12,8),\n",
    "    ):\n",
    "    \n",
    "    fig, ax = plt.subplots(1, 1, figsize=figsize)\n",
    "\n",
    "    _ = plt.scatter(\n",
    "        x=x,\n",
    "        y=y,\n",
    "        c=y if c is None else c,\n",
    "        edgecolor=\"none\",\n",
    "        #alpha=1,\n",
    "        cmap=c_map,\n",
    "        axes=ax,\n",
    "    )\n",
    "\n",
    "    _ = ax.set_xlabel(x_label, labelpad=20, fontsize=16)\n",
    "    _ = ax.set_ylabel(y_label, fontsize=16)\n",
    "    _ = ax.set_title(title)\n",
    "\n",
    "    plt.colorbar()\n",
    "    plt.show()"
   ]
  },
  {
   "cell_type": "code",
   "execution_count": 20,
   "metadata": {},
   "outputs": [],
   "source": [
    "REGRESSION_EVALUATION_METRICS = [\"r2\", \"mse\", \"rmse\", \"mae\", \"var\"]\n",
    "REGRESSION_EVALUATION_METRIC_CV = \"r2\"\n",
    "\n",
    "REGRESSION_LABEL_COL = \"points\"\n",
    "\n",
    "regression_evaluator_cv = RegressionEvaluator(\n",
    "    metricName=REGRESSION_EVALUATION_METRIC_CV\n",
    ")"
   ]
  },
  {
   "cell_type": "code",
   "execution_count": 21,
   "metadata": {},
   "outputs": [],
   "source": [
    "CLASSIFICATION_EVALUATION_METRICS = [\n",
    "    \"f1\",\n",
    "    \"accuracy\",\n",
    "    \"weightedPrecision\",\n",
    "    \"weightedRecall\",\n",
    "    \"weightedTruePositiveRate\",\n",
    "    \"weightedFalsePositiveRate\",\n",
    "    \"weightedFMeasure\",\n",
    "    \"truePositiveRateByLabel\",\n",
    "    \"falsePositiveRateByLabel\",\n",
    "    \"precisionByLabel\",\n",
    "    \"recallByLabel\",\n",
    "    \"fMeasureByLabel\"\n",
    "]\n",
    "\n",
    "CLASSIFICATION_EVALUATION_METRIC_CV = \"accuracy\"\n",
    "\n",
    "CLASSIFICATION_LABEL_COL = \"macro_place\"\n",
    "\n",
    "classification_evaluator_cv = MulticlassClassificationEvaluator(\n",
    "    metricName=CLASSIFICATION_EVALUATION_METRIC_CV\n",
    ")"
   ]
  },
  {
   "cell_type": "code",
   "execution_count": 22,
   "metadata": {},
   "outputs": [],
   "source": [
    "from pyspark.ml.regression import LinearRegression\n",
    "\n",
    "linear_regression_estimator = LinearRegression()"
   ]
  },
  {
   "cell_type": "markdown",
   "metadata": {},
   "source": [
    "# Loading football players"
   ]
  },
  {
   "cell_type": "markdown",
   "metadata": {},
   "source": [
    "First step is to load football players data, which comes from to two different sources:\n",
    "\n",
    "* For seasons between 2015 and 2020 (called \"modern\"): [FIFA 15-21 complete dataset](https://www.kaggle.com/datasets/stefanoleone992/fifa-21-complete-player-dataset)\n",
    "\n",
    "* For season between 2007 and 2014 (called \"legacy\"): scraped data from [sofifa.com](https://sofifa.com), a website specialized in storing data taken from EA Sports FIFA games.\n",
    "\n",
    "As introduced before, scraped datasets are committed in a [GitHub repository](https://github.com/Big-Data-FC/datasets).\n",
    "\n",
    "From now on, the terms \"modern\" and \"legacy\" will be used to refer to the two kinds of datasets.\n",
    "\n",
    "Initially, modern and legacy data will be splitted in two different dataframes, since there are some differences in the structure of their data, among these different years."
   ]
  },
  {
   "cell_type": "code",
   "execution_count": 23,
   "metadata": {},
   "outputs": [
    {
     "name": "stderr",
     "output_type": "stream",
     "text": [
      "                                                                                \r"
     ]
    }
   ],
   "source": [
    "modern_df = spark.read.csv(\n",
    "    \"data/players_*.csv\", sep=\",\", inferSchema=True, header=True, multiLine=True\n",
    ")\n",
    "\n",
    "legacy_df = spark.read.csv(\n",
    "    \"data/scraped_players_*.csv\", sep=\",\", inferSchema=True, header=True, \n",
    "    multiLine=True\n",
    ")"
   ]
  },
  {
   "cell_type": "markdown",
   "metadata": {},
   "source": [
    "# Pre-processing football players"
   ]
  },
  {
   "cell_type": "markdown",
   "metadata": {},
   "source": [
    "In order to focus the project on the major European leagues, it is useful to define a list of leagues to filter, and also to define a list of season to easily discriminate between modern an legacy data."
   ]
  },
  {
   "cell_type": "code",
   "execution_count": 24,
   "metadata": {},
   "outputs": [],
   "source": [
    "# These are the European Leagues supported by Big-Data-FC\n",
    "leagues = [\n",
    "    \"Italian Serie A\",\n",
    "    \"Spain Primera Division\",\n",
    "    \"German 1. Bundesliga\",\n",
    "    \"French Ligue 1\",\n",
    "    \"English Premier League\",\n",
    "    \"Holland Eredivisie\",\n",
    "]\n",
    "\n",
    "# These are the seasons supported by Big-Data-FC\n",
    "seasons_modern = [\"20\", \"19\", \"18\", \"17\", \"16\", \"15\", \"14\"] \n",
    "# seasons_modern = [\"20\"] \n",
    "seasons_legacy = [\"13\", \"12\", \"11\", \"10\", \"09\", \"08\", \"07\"]\n",
    "# seasons_legacy = [\"13\"]\n",
    "seasons = seasons_legacy + seasons_modern"
   ]
  },
  {
   "cell_type": "markdown",
   "metadata": {},
   "source": [
    "The next definition is about **macro roles**, which is a custom-defined abstration to aggregate affine football roles.\n",
    "\n",
    "For example, all the midfield roles such as \"central midfielder\", \"advanced midfielder\", \"left|right wing\" can be **grouped together** in the same macro role \"midfielder\".\n",
    "\n",
    "Macro roles will be used later on, in a subsequent learning phase. For this reason, much more about them will be touched in future points.\n",
    "\n",
    "The following cell defines the actual aggregation from FIFA roles abbreviations into macro roles."
   ]
  },
  {
   "cell_type": "code",
   "execution_count": 25,
   "metadata": {},
   "outputs": [],
   "source": [
    "macro_roles = [\"0.0\", \"1.0\", \"2.0\", \"3.0\"]\n",
    "\n",
    "roles_to_macro_roles_dict = {\n",
    "    \"GK\": \"0\",\n",
    "    \"SW\": \"1\",\n",
    "    \"LB\": \"1\",\n",
    "    \"RB\": \"1\",\n",
    "    \"RWB\": \"1\",\n",
    "    \"LWB\": \"1\",\n",
    "    \"CB\": \"1\",\n",
    "    \"CDM\": \"2\",\n",
    "    \"CM\": \"2\",\n",
    "    \"RM\": \"2\",\n",
    "    \"LM\": \"2\",\n",
    "    \"CAM\": \"2\",\n",
    "    \"RW\": \"3\",\n",
    "    \"LW\": \"3\",\n",
    "    \"ST\": \"3\",\n",
    "    \"LF\": \"3\",\n",
    "    \"RF\": \"3\",\n",
    "    \"CF\": \"3\",\n",
    "}\n",
    "\n",
    "NUM_MACRO_ROLES = 4\n",
    "\n",
    "roles_to_macro_role_UDF = udf(\n",
    "    lambda roles: float(\n",
    "        roles_to_macro_roles_dict[roles.split(\",\")[0]]\n",
    "    ), \n",
    "    StringType()\n",
    ")"
   ]
  },
  {
   "cell_type": "markdown",
   "metadata": {},
   "source": [
    "Since the columns associeted to players also contain graphical or data that is generally not informative for the project's purpose (such as shirt number, celebration moves, etc), a list of meaningful columns has been defined, on which the actual working dataframes will be based on."
   ]
  },
  {
   "cell_type": "code",
   "execution_count": 26,
   "metadata": {},
   "outputs": [],
   "source": [
    "columns = [\n",
    "    \"short_name\",\n",
    "    \"club_name\",\n",
    "    \"league_name\",\n",
    "    \"season\",\n",
    "    \"player_positions\",\n",
    "    \"macro_role\",\n",
    "    \"overall\",\n",
    "    \"value\",\n",
    "    \"pace\",\n",
    "    \"shooting\",\n",
    "    \"passing\",\n",
    "    \"dribbling\",\n",
    "    \"defending\",\n",
    "    \"physic\",\n",
    "    \"attacking_crossing\",\n",
    "    \"attacking_finishing\",\n",
    "    \"attacking_heading_accuracy\",\n",
    "    \"attacking_short_passing\",\n",
    "    \"skill_dribbling\",\n",
    "    \"skill_fk_accuracy\",\n",
    "    \"skill_long_passing\",\n",
    "    \"skill_ball_control\",\n",
    "    \"movement_acceleration\",\n",
    "    \"movement_sprint_speed\",\n",
    "    \"movement_reactions\",\n",
    "    \"power_shot_power\",\n",
    "    \"power_stamina\",\n",
    "    \"power_strength\",\n",
    "    \"power_long_shots\",\n",
    "    \"mentality_aggression\",\n",
    "    \"mentality_penalties\",\n",
    "    \"defending_standing_tackle\"\n",
    "]"
   ]
  },
  {
   "cell_type": "markdown",
   "metadata": {},
   "source": [
    "Datasets do **not** explicitly include the **year** (season) to which the record refers to.\n",
    "\n",
    "Rather, this information is implicitly stored in a URL (also for the non-scraped ones, which still originate from the same source), which has its own field.\n",
    "For this reason, a function to extract such information from aforementioned field is needed.\n",
    "\n",
    "As an example, a if the URL is `/player/41236/zlatan-ibrahimovic/130034/`, the corresponding season is `13` (from `/13xxxx/`)."
   ]
  },
  {
   "cell_type": "code",
   "execution_count": 27,
   "metadata": {},
   "outputs": [],
   "source": [
    "def get_season(url):\n",
    "    url_split = url.split(\"/\")\n",
    "\n",
    "    # FIFA years must be scaled by a negative factor of one (i.e. 2021 has to be 2020, etc.)\n",
    "    # This is needed to ensure compatibility with the seasonal score dataset\n",
    "    return str(\n",
    "        (int(url_split[-2 if url_split[-1] == \"\" else -1][0:2]) - 1)\n",
    "    ).zfill(2)\n",
    "\n",
    "get_season_UDF = udf(lambda url: get_season(url), StringType())"
   ]
  },
  {
   "cell_type": "markdown",
   "metadata": {},
   "source": [
    "The format of the **monetary value** of players is different among the modern and legacy dataset.\n",
    "\n",
    "Specifically, the legacy one abbreviates the values into the form `€10M` to represent `€10000000`.\n",
    "\n",
    "The following function is used to convert it into the extended one."
   ]
  },
  {
   "cell_type": "code",
   "execution_count": 28,
   "metadata": {},
   "outputs": [],
   "source": [
    "@udf\n",
    "def expand_value_UDF(value):\n",
    "    value = value.replace(\"€\", \"\")\n",
    "    if value[-1] not in (\"K\", \"M\"):\n",
    "        # no abbreviation at the end\n",
    "        return float(value) + 0.0000001\n",
    "\n",
    "    # extract the number and the unit\n",
    "    num = value[:-1]\n",
    "    unit = value[-1]\n",
    "\n",
    "    # decide based on the unit\n",
    "    if unit == \"M\":\n",
    "        return float(num) * 1000000\n",
    "    if unit == \"K\":\n",
    "        return float(num) * 1000\n",
    "\n",
    "    return \"ERROR\""
   ]
  },
  {
   "cell_type": "markdown",
   "metadata": {},
   "source": [
    "Now to the actual pre-process.\n",
    "\n",
    "Some actions are needed by legacy and modern both, whilst other are exclusive to either one."
   ]
  },
  {
   "cell_type": "code",
   "execution_count": 29,
   "metadata": {},
   "outputs": [],
   "source": [
    "# Extracting season from the player URL, as per previous cell\n",
    "pre_processed_modern_df = modern_df.withColumn(\n",
    "    \"season\", get_season_UDF(col(\"player_url\"))\n",
    ")\n",
    "pre_processed_legacy_df = legacy_df.withColumn(\n",
    "    \"season\", get_season_UDF(col(\"player_url\"))\n",
    ")\n",
    "\n",
    "# Taking only the players playing for teams in supported Leagues, \n",
    "# in the supported seasons\n",
    "pre_processed_modern_df = pre_processed_modern_df.where(\n",
    "    (pre_processed_modern_df.league_name.isin(leagues))\n",
    "    &\n",
    "    (pre_processed_modern_df.season.isin(seasons_modern))\n",
    ")\n",
    "pre_processed_legacy_df = pre_processed_legacy_df.where(\n",
    "    (pre_processed_legacy_df.league_name.isin(leagues))\n",
    "    &\n",
    "    (pre_processed_legacy_df.season.isin(seasons_legacy))\n",
    ")\n",
    "\n",
    "# Dropping duplicate players\n",
    "pre_processed_modern_df = pre_processed_modern_df.dropDuplicates([\"player_url\"])\n",
    "pre_processed_legacy_df = pre_processed_legacy_df.dropDuplicates([\"player_url\"])\n",
    "\n",
    "# Selected columns have been checked for absence of null/missing data.\n",
    "# Nevertheless, to ensure compatibility and reusability with other datasets, \n",
    "# a null-filling sweep is done\n",
    "pre_processed_modern_df = pre_processed_modern_df.na.fill(0)\n",
    "pre_processed_legacy_df = pre_processed_legacy_df.na.fill(0)\n",
    "\n",
    "# Getting the macro role of the player, according to its field position\n",
    "pre_processed_modern_df = pre_processed_modern_df.withColumn(\n",
    "    \"macro_role\", roles_to_macro_role_UDF(col(\"player_positions\"))\n",
    ")\n",
    "pre_processed_legacy_df = pre_processed_legacy_df.withColumn(\n",
    "    \"macro_role\", roles_to_macro_role_UDF(col(\"player_positions\"))\n",
    ")\n",
    "\n",
    "# Renaming the \"value_eur\" field to \"value\" to have compatiblity with legacy\n",
    "pre_processed_modern_df = pre_processed_modern_df.withColumnRenamed(\n",
    "    \"value_eur\", \"value\"\n",
    ")\n",
    "\n",
    "# Convert the monetary value to have compatibility with modern\n",
    "pre_processed_legacy_df = pre_processed_legacy_df.withColumn(\n",
    "    \"value\", expand_value_UDF(col(\"value\"))\n",
    ")\n",
    "\n",
    "# Renaming some legacy columns, so as they have the same name as in the modern\n",
    "pre_processed_legacy_df = pre_processed_legacy_df.withColumnRenamed(\n",
    "    \"pas\", \"passing\"\n",
    ")\n",
    "pre_processed_legacy_df = pre_processed_legacy_df.withColumnRenamed(\n",
    "    \"dri\", \"dribbling\"\n",
    ")\n",
    "pre_processed_legacy_df = pre_processed_legacy_df.drop(col(\"defending\"))\n",
    "pre_processed_legacy_df = pre_processed_legacy_df.withColumnRenamed(\n",
    "    \"def\", \"defending\"\n",
    ")\n",
    "pre_processed_legacy_df = pre_processed_legacy_df.withColumnRenamed(\n",
    "    \"phy\", \"physic\"\n",
    ")\n",
    "\n",
    "pre_processed_legacy_df = pre_processed_legacy_df.withColumnRenamed(\n",
    "    \"sho\", \"shooting\"\n",
    ")\n",
    "pre_processed_legacy_df = pre_processed_legacy_df.withColumnRenamed(\n",
    "    \"pac\", \"pace\"\n",
    ")\n",
    "pre_processed_legacy_df = pre_processed_legacy_df.withColumnRenamed(\n",
    "    \"bov\", \"overall\"\n",
    ")\n",
    "\n",
    "# Keeping only the needed columns.\n",
    "pre_processed_modern_df = pre_processed_modern_df.select(columns)\n",
    "pre_processed_legacy_df = pre_processed_legacy_df.select(columns)"
   ]
  },
  {
   "cell_type": "markdown",
   "metadata": {},
   "source": [
    "Checking whether some monetary values have not been successfully converted."
   ]
  },
  {
   "cell_type": "code",
   "execution_count": 30,
   "metadata": {},
   "outputs": [
    {
     "name": "stderr",
     "output_type": "stream",
     "text": [
      "                                                                                \r"
     ]
    }
   ],
   "source": [
    "if pre_processed_legacy_df.select(\"value\").where(col(\"value\") == \"ERROR\").count() > 0:\n",
    "    print(\"WARN: some abbreviated monetary values were not correctly expanded.\")"
   ]
  },
  {
   "cell_type": "markdown",
   "metadata": {},
   "source": [
    "After pre-processing, both dataframes have the same set of columns, so they can be concatenated together."
   ]
  },
  {
   "cell_type": "code",
   "execution_count": 31,
   "metadata": {},
   "outputs": [],
   "source": [
    "pre_processed_df = pre_processed_modern_df.unionByName(\n",
    "    pre_processed_legacy_df\n",
    ")"
   ]
  },
  {
   "cell_type": "markdown",
   "metadata": {},
   "source": [
    "## Cleaning up memory"
   ]
  },
  {
   "cell_type": "code",
   "execution_count": 32,
   "metadata": {},
   "outputs": [
    {
     "data": {
      "text/plain": [
       "674"
      ]
     },
     "execution_count": 32,
     "metadata": {},
     "output_type": "execute_result"
    }
   ],
   "source": [
    "del legacy_df\n",
    "del modern_df\n",
    "del pre_processed_legacy_df\n",
    "del pre_processed_modern_df\n",
    "gc.collect()"
   ]
  },
  {
   "cell_type": "markdown",
   "metadata": {},
   "source": [
    "This is the end result of this section.\n",
    "\n",
    "For graphical reasons, only a selection of the columns will be shown, just to give an idea of the structure."
   ]
  },
  {
   "cell_type": "code",
   "execution_count": 33,
   "metadata": {},
   "outputs": [
    {
     "name": "stderr",
     "output_type": "stream",
     "text": [
      "[Stage 10:==>               (1 + 6) / 7][Stage 11:==>               (1 + 7) / 8]\r"
     ]
    },
    {
     "name": "stdout",
     "output_type": "stream",
     "text": [
      "+-------------+--------------------+--------------------+------+----------------+----------+-------+--------+----+--------+\n",
      "|   short_name|           club_name|         league_name|season|player_positions|macro_role|overall|   value|pace|shooting|\n",
      "+-------------+--------------------+--------------------+------+----------------+----------+-------+--------+----+--------+\n",
      "|   D. Boateng|            SD Eibar|Spain Primera Div...|    14|         CDM, CM|       2.0|     71|  950000|  69|      60|\n",
      "|    S. Padoin|            Juventus|     Italian Serie A|    14|          RM, CM|       2.0|     73| 2100000|  73|      64|\n",
      "|    S. Padoin|            Juventus|     Italian Serie A|    15|      LB, RM, CM|       1.0|     75| 2600000|  73|      63|\n",
      "|    S. Padoin|            Cagliari|     Italian Serie A|    18|      RB, LM, CM|       1.0|     71|  675000|  68|      63|\n",
      "|     C. Terzi|             Palermo|     Italian Serie A|    14|              CB|       1.0|     70| 1100000|  60|      45|\n",
      "|  A. Aquilani|       UD Las Palmas|Spain Primera Div...|    17|         CM, CDM|       2.0|     75| 5000000|  54|      70|\n",
      "|      S. Pepe|            Juventus|     Italian Serie A|    14|          RM, LM|       2.0|     75| 2900000|  80|      72|\n",
      "|  R. Jarstein|          Hertha BSC|German 1. Bundesliga|    14|              GK|       0.0|     70| 1600000|   0|       0|\n",
      "|  R. Jarstein|          Hertha BSC|German 1. Bundesliga|    19|              GK|       0.0|     83|11500000|   0|       0|\n",
      "|         Xavi|        FC Barcelona|Spain Primera Div...|    14|              CM|       2.0|     86|15500000|  66|      72|\n",
      "|   F. Modesto|Sporting Club de ...|      French Ligue 1|    14|          CB, RB|       1.0|     72|  400000|  55|      51|\n",
      "|     A. Boruc|         Bournemouth|English Premier L...|    16|              GK|       0.0|     76| 2300000|   0|       0|\n",
      "|     A. Boruc|         Bournemouth|English Premier L...|    17|              GK|       0.0|     77|  600000|   0|       0|\n",
      "|       Aduriz|Athletic Club de ...|Spain Primera Div...|    15|              ST|       3.0|     82|10500000|  71|      83|\n",
      "|       Aduriz|Athletic Club de ...|Spain Primera Div...|    19|              ST|       3.0|     82| 6500000|  61|      82|\n",
      "|Victor Valdés|   Manchester United|English Premier L...|    15|              GK|       0.0|     82|14500000|   0|       0|\n",
      "|    G. Pegolo|            Sassuolo|     Italian Serie A|    16|              GK|       0.0|     72| 1200000|   0|       0|\n",
      "|    D. Brivio|               Genoa|     Italian Serie A|    16|              LB|       1.0|     73| 2200000|  68|      56|\n",
      "|      Y. Pelé|Olympique de Mars...|      French Ligue 1|    17|              GK|       0.0|     75| 2700000|   0|       0|\n",
      "|      Y. Pelé|Olympique de Mars...|      French Ligue 1|    18|              GK|       0.0|     75| 1600000|   0|       0|\n",
      "+-------------+--------------------+--------------------+------+----------------+----------+-------+--------+----+--------+\n",
      "only showing top 20 rows\n",
      "\n"
     ]
    },
    {
     "name": "stderr",
     "output_type": "stream",
     "text": [
      "                                                                                \r"
     ]
    }
   ],
   "source": [
    "pre_processed_df.select(*columns[0:10]).show()"
   ]
  },
  {
   "cell_type": "markdown",
   "metadata": {},
   "source": [
    "The complete list of columns is (again for graphical reasons) printed here in an horizontal format, where each item is a tuple of the form `(field_name, type)`."
   ]
  },
  {
   "cell_type": "code",
   "execution_count": 34,
   "metadata": {},
   "outputs": [
    {
     "name": "stdout",
     "output_type": "stream",
     "text": [
      "[('short_name', 'string'), ('club_name', 'string'), ('league_name', 'string'), ('season', 'string'), ('player_positions', 'string'), ('macro_role', 'string'), ('overall', 'int'), ('value', 'string'), ('pace', 'int'), ('shooting', 'int'), ('passing', 'int'), ('dribbling', 'int'), ('defending', 'int'), ('physic', 'int'), ('attacking_crossing', 'int'), ('attacking_finishing', 'int'), ('attacking_heading_accuracy', 'int'), ('attacking_short_passing', 'int'), ('skill_dribbling', 'int'), ('skill_fk_accuracy', 'int'), ('skill_long_passing', 'int'), ('skill_ball_control', 'int'), ('movement_acceleration', 'int'), ('movement_sprint_speed', 'int'), ('movement_reactions', 'int'), ('power_shot_power', 'int'), ('power_stamina', 'int'), ('power_strength', 'int'), ('power_long_shots', 'int'), ('mentality_aggression', 'int'), ('mentality_penalties', 'int'), ('defending_standing_tackle', 'int')]\n"
     ]
    }
   ],
   "source": [
    "print(pre_processed_df.dtypes)"
   ]
  },
  {
   "cell_type": "markdown",
   "metadata": {},
   "source": [
    "# Building football teams"
   ]
  },
  {
   "cell_type": "code",
   "execution_count": 35,
   "metadata": {},
   "outputs": [],
   "source": [
    "football_teams_df = pre_processed_df"
   ]
  },
  {
   "cell_type": "markdown",
   "metadata": {},
   "source": [
    "After having pre-processed the football players, it's time to build the football teams.\n",
    "\n",
    "For the sake of the learning stage of the project, **teams are differentiated across different seasons**; for example, Real Madrid of 2020 is **different** than Real Madrid of 2018.\n",
    "\n",
    "A football team is then modeled as **the set of the average of the features of all of its football players**."
   ]
  },
  {
   "cell_type": "code",
   "execution_count": 36,
   "metadata": {},
   "outputs": [],
   "source": [
    "# Columns that are considered as features\n",
    "PLAYER_FEATURES = [\n",
    "    \"overall\",\n",
    "    \"value\",\n",
    "    \"pace\",\n",
    "    \"shooting\",\n",
    "    \"passing\",\n",
    "    \"dribbling\",\n",
    "    \"defending\",\n",
    "    \"physic\",\n",
    "    \"attacking_crossing\",\n",
    "    \"attacking_finishing\",\n",
    "    \"attacking_heading_accuracy\",\n",
    "    \"attacking_short_passing\",\n",
    "    \"skill_dribbling\",\n",
    "    \"skill_fk_accuracy\",\n",
    "    \"skill_long_passing\",\n",
    "    \"skill_ball_control\",\n",
    "    \"movement_acceleration\",\n",
    "    \"movement_sprint_speed\",\n",
    "    \"movement_reactions\",\n",
    "    \"power_shot_power\",\n",
    "    \"power_stamina\",\n",
    "    \"power_strength\",\n",
    "    \"power_long_shots\",\n",
    "    \"mentality_aggression\",\n",
    "    \"mentality_penalties\",\n",
    "    \"defending_standing_tackle\"\n",
    "]\n",
    "\n",
    "# Apposing the avg pre-fix to features\n",
    "PLAYER_FEATURES_AVG = [\n",
    "    \"avg(\" + player_feature + \")\" for player_feature in PLAYER_FEATURES\n",
    "]\n",
    "\n",
    "# Target variable of the learning stage\n",
    "TARGET_VARIABLE = \"points\""
   ]
  },
  {
   "cell_type": "markdown",
   "metadata": {},
   "source": [
    "Composing the football team, as introduced before."
   ]
  },
  {
   "cell_type": "code",
   "execution_count": 37,
   "metadata": {},
   "outputs": [],
   "source": [
    "football_teams_df = football_teams_df.select(\n",
    "    \"season\", \"club_name\", *PLAYER_FEATURES\n",
    ").groupBy(\n",
    "    [\"season\", \"club_name\"]\n",
    ").agg(\n",
    "    { player_feature: \"avg\" for player_feature in PLAYER_FEATURES }\n",
    ")"
   ]
  },
  {
   "cell_type": "markdown",
   "metadata": {},
   "source": [
    "This is the end result of this section.\n",
    "\n",
    "For graphical reasons, only a selection of the columns will be shown, just to give an idea of the structure."
   ]
  },
  {
   "cell_type": "code",
   "execution_count": 38,
   "metadata": {},
   "outputs": [
    {
     "name": "stderr",
     "output_type": "stream",
     "text": [
      "[Stage 19:>                                                         (0 + 4) / 4]\r"
     ]
    },
    {
     "name": "stdout",
     "output_type": "stream",
     "text": [
      "+------+--------------------+-----------------+--------------------+------------------+------------------+------------------+\n",
      "|season|           club_name|     avg(overall)|          avg(value)|         avg(pace)|     avg(shooting)|      avg(passing)|\n",
      "+------+--------------------+-----------------+--------------------+------------------+------------------+------------------+\n",
      "|    18|        ADO Den Haag|66.33333333333333|  1114166.6666666667|            56.625|46.583333333333336|51.041666666666664|\n",
      "|    16|       Chievo Verona|             71.3|  2411666.6666666665|              55.9|              48.7| 52.13333333333333|\n",
      "|    17|Athletic Club de ...|            75.75|   9794642.857142856|59.214285714285715| 53.42857142857143|59.964285714285715|\n",
      "|    16|         Southampton|71.93939393939394|   5041060.606060606| 64.66666666666667| 51.09090909090909| 57.45454545454545|\n",
      "|    19|          Hertha BSC|71.75757575757575|   5872575.757575758| 63.84848484848485|52.696969696969695|56.515151515151516|\n",
      "|    15|         Bournemouth|69.89655172413794|   2162758.620689655| 65.10344827586206| 48.58620689655172| 55.03448275862069|\n",
      "|    15|   Manchester United|76.25925925925925|1.3582037037037037E7| 59.96296296296296|51.148148148148145|58.148148148148145|\n",
      "|    19|   Manchester United|76.84848484848484|1.5187121212121213E7| 67.03030303030303| 56.06060606060606| 62.63636363636363|\n",
      "|    20|FC Girondins de B...| 70.6896551724138|  3988620.6896551726| 55.44827586206897| 48.10344827586207|52.827586206896555|\n",
      "|    15|             Watford|71.32142857142857|  2790178.5714285714|62.785714285714285|49.535714285714285|54.535714285714285|\n",
      "|    18|    AS Saint-Étienne|70.11111111111111|   4653518.518518519| 63.51851851851852|52.111111111111114| 57.44444444444444|\n",
      "|    16|     West Ham United|72.54545454545455|   7179242.424242424| 66.93939393939394|54.515151515151516| 55.90909090909091|\n",
      "|    15|          1. FC Köln|71.79166666666667|  3654166.6666666665|62.666666666666664|            50.875|54.333333333333336|\n",
      "|    16|       SC Heerenveen|66.76666666666667|  1257333.3333333333|              59.4|              45.3|              50.9|\n",
      "|    14|Sporting Club de ...|66.21212121212122|   996363.6363636364| 60.93939393939394| 50.54545454545455| 53.84848484848485|\n",
      "|    15|     Atlético Madrid|            76.92|            1.2458E7|             64.84|              53.6|             59.24|\n",
      "|    17|    Stade Rennais FC|69.15151515151516|   3382575.757575758| 61.36363636363637| 50.03030303030303|              54.0|\n",
      "|    17|        Swansea City|71.24242424242425|   5101818.181818182| 58.06060606060606| 49.45454545454545| 53.63636363636363|\n",
      "|    17| Eintracht Frankfurt|72.33333333333333|   5289393.939393939| 64.27272727272727| 53.18181818181818|57.303030303030305|\n",
      "|    15|       VfB Stuttgart|70.79310344827586|  3495862.0689655175|62.206896551724135|50.275862068965516| 55.58620689655172|\n",
      "+------+--------------------+-----------------+--------------------+------------------+------------------+------------------+\n",
      "only showing top 20 rows\n",
      "\n"
     ]
    },
    {
     "name": "stderr",
     "output_type": "stream",
     "text": [
      "                                                                                \r"
     ]
    }
   ],
   "source": [
    "football_teams_df.select(\n",
    "    \"season\", \"club_name\", *PLAYER_FEATURES_AVG[0:5]\n",
    ").show()"
   ]
  },
  {
   "cell_type": "markdown",
   "metadata": {},
   "source": [
    "The complete list of columns with their type is (in a compact horizontal form):"
   ]
  },
  {
   "cell_type": "code",
   "execution_count": 39,
   "metadata": {},
   "outputs": [
    {
     "name": "stdout",
     "output_type": "stream",
     "text": [
      "[('season', 'string'), ('club_name', 'string'), ('avg(attacking_short_passing)', 'double'), ('avg(shooting)', 'double'), ('avg(power_stamina)', 'double'), ('avg(skill_long_passing)', 'double'), ('avg(power_strength)', 'double'), ('avg(defending_standing_tackle)', 'double'), ('avg(skill_fk_accuracy)', 'double'), ('avg(skill_dribbling)', 'double'), ('avg(dribbling)', 'double'), ('avg(pace)', 'double'), ('avg(mentality_aggression)', 'double'), ('avg(movement_reactions)', 'double'), ('avg(movement_sprint_speed)', 'double'), ('avg(passing)', 'double'), ('avg(movement_acceleration)', 'double'), ('avg(attacking_heading_accuracy)', 'double'), ('avg(attacking_finishing)', 'double'), ('avg(defending)', 'double'), ('avg(attacking_crossing)', 'double'), ('avg(power_long_shots)', 'double'), ('avg(mentality_penalties)', 'double'), ('avg(overall)', 'double'), ('avg(power_shot_power)', 'double'), ('avg(value)', 'double'), ('avg(physic)', 'double'), ('avg(skill_ball_control)', 'double')]\n"
     ]
    }
   ],
   "source": [
    "print(football_teams_df.dtypes)"
   ]
  },
  {
   "cell_type": "markdown",
   "metadata": {},
   "source": [
    "# Loading football teams seasonal scores"
   ]
  },
  {
   "cell_type": "markdown",
   "metadata": {},
   "source": [
    "After having dealt with the football players and composed them into football clubs, it's time to get **\"target\" data** for the learning stage: the final ranking, for every team of every year.\n",
    "\n",
    "First step is to load the data from disk, which has been taken from the [European Football Dataset](https://www.kaggle.com/datasets/josephvm/european-club-football-dataset)"
   ]
  },
  {
   "cell_type": "code",
   "execution_count": 40,
   "metadata": {},
   "outputs": [],
   "source": [
    "seasonal_scores_df = (\n",
    "    spark.read.csv(\n",
    "        \"data/all_tables_fixed_renamed_leagues.csv\",\n",
    "        sep=\",\",\n",
    "        inferSchema=True,\n",
    "        header=True,\n",
    "        multiLine=True,\n",
    "    )\n",
    "    .withColumnRenamed(\"Year\", \"season\")\n",
    "    .withColumnRenamed(\"Team\", \"club_name\")\n",
    "    .withColumnRenamed(\"P\", \"points\")\n",
    "    .withColumnRenamed(\"Place\", \"place\")\n",
    "    .withColumnRenamed(\"League\", \"league\")\n",
    ")"
   ]
  },
  {
   "cell_type": "markdown",
   "metadata": {},
   "source": [
    "# Pre-processing football teams seasonal scores"
   ]
  },
  {
   "cell_type": "markdown",
   "metadata": {},
   "source": [
    "Out of all the available columns, only the ones in `seasonal_scores_columns` will be taken into consideration."
   ]
  },
  {
   "cell_type": "code",
   "execution_count": 41,
   "metadata": {},
   "outputs": [],
   "source": [
    "seasonal_scores_columns = [\n",
    "    \"season\", \"league\", \"club_name\", \"points\", \"place\"\n",
    "]"
   ]
  },
  {
   "cell_type": "markdown",
   "metadata": {},
   "source": [
    "The seasonal scores dataset uses **abbreviated version of football team names** (for example: `BAR` for Barcelona, `LEI` for Leicester, etc.), which would cause **incompatibility** with modern and legacy FIFA datasets, which instead uses complete names.\n",
    "\n",
    "Furthermore, the abbreviations are **not standard**, so there are **conflicts** such as, among others:\n",
    "\n",
    "* `BAR` both for Barcelona and Bari (different leagues).\n",
    "* `HUE` both for Huelva and Huesca (same league).\n",
    "\n",
    "For this reason, a **custom** hand-made **mapping** procedure has been developed in order to resolve such conflicts.\n",
    "\n",
    "Another source of incompatibility originated from **inconsistencies** within FIFA datasets, from year to year; for example, some teams had slight variations in their names (e.g. Torino and Torino FC).\n",
    "\n",
    "All said inconsistencies have been **manually solved** and disambiguated at the dataset-level.\n",
    "\n",
    "Furthermore, the final **mapping** between abbreviations and FIFA names resulted into a **custom-made dataset** (also available in the linked dataset GitHub repo), which is the following form:\n",
    "\n",
    "|abbr|league|club_name|fifa_club_name|\n",
    "|---|---|---|---|\n",
    "|AAC|German Bundesliga|Aachen|Alemannia Aachen|\n",
    "|ADO|Dutch Eredivisie|Ado Den Haag|ADO Den Haag|\n",
    "|AJA|Dutch Eredivisie|Ajax|Ajax|\n",
    "|AJC|French Ligue 1|Ajaccio|AC Ajaccio|\n",
    "|ALB|Spanish La Liga|Albacete|Albacete BP|\n",
    "|...|...|...|...|\n",
    "\n",
    "Aforementioned mapping is then converted to **JSON** with an utility script in the same repository, and loaded here in a dataframe."
   ]
  },
  {
   "cell_type": "code",
   "execution_count": 42,
   "metadata": {},
   "outputs": [],
   "source": [
    "f = open(\"data/clubs_map.json\")\n",
    "club_name_abbr_to_ext = json.load(f)\n",
    "f.close()\n",
    "\n",
    "ABBREVIATED_CLUB_NAME_NOT_FOUD = \"ABBREVIATED_CLUB_NAME_NOT_FOUD\"\n",
    "GENERAL_EXCEPTION = \"GENERAL_EXCEPTION\"\n",
    "\n",
    "def extend_club_name(club_name_abbr):\n",
    "    try:\n",
    "        return club_name_abbr_to_ext[club_name_abbr]\n",
    "    except KeyError as e:\n",
    "        return ABBREVIATED_CLUB_NAME_NOT_FOUD\n",
    "    except Exception as e:\n",
    "        return GENERAL_EXCEPTION\n",
    "\n",
    "extend_club_name_UDF = udf(\n",
    "    lambda club_name_abbr: extend_club_name(str(club_name_abbr)),\n",
    "    StringType(),\n",
    ")"
   ]
  },
  {
   "cell_type": "markdown",
   "metadata": {},
   "source": [
    "In the rankings dataset the seasons are expressed as `YYYY`, whilst FIFA uses the `YY` encoding.\n",
    "\n",
    "For this reason, to guarantee compatibility, season values in the rankings dataset is abbreviated."
   ]
  },
  {
   "cell_type": "code",
   "execution_count": 43,
   "metadata": {},
   "outputs": [],
   "source": [
    "abbreviate_season_UDF = udf(\n",
    "    lambda season: str(season)[-2:],\n",
    "    StringType(),\n",
    ")"
   ]
  },
  {
   "cell_type": "markdown",
   "metadata": {},
   "source": [
    "The following is the actual **data pre-processing**."
   ]
  },
  {
   "cell_type": "code",
   "execution_count": 44,
   "metadata": {},
   "outputs": [],
   "source": [
    "pre_processed_seasonal_scores_df = seasonal_scores_df\n",
    "\n",
    "# Abbreviating season, as per previous cell\n",
    "pre_processed_seasonal_scores_df = pre_processed_seasonal_scores_df.withColumn(\n",
    "    \"season\", abbreviate_season_UDF(col(\"season\"))\n",
    ")\n",
    "\n",
    "# Keeping only supported leagues in supported seasons\n",
    "pre_processed_seasonal_scores_df = pre_processed_seasonal_scores_df.where(\n",
    "    (pre_processed_seasonal_scores_df.season.isin(seasons))\n",
    "    & \n",
    "    (pre_processed_seasonal_scores_df.league.isin(leagues))\n",
    ")\n",
    "\n",
    "# Selecting only the desired columns\n",
    "pre_processed_seasonal_scores_df = pre_processed_seasonal_scores_df.select(\n",
    "    seasonal_scores_columns\n",
    ")\n",
    "\n",
    "# Although data has been checked for duplicates and missing value, to ensure \n",
    "# operabiloty with other datasets, the pre-processing steps are still performed\n",
    "pre_processed_seasonal_scores_df = pre_processed_seasonal_scores_df.dropDuplicates(\n",
    "    seasonal_scores_columns\n",
    ")\n",
    "pre_processed_seasonal_scores_df = pre_processed_seasonal_scores_df.na.fill(0)\n",
    "\n",
    "# Extending club names, as per previous cell\n",
    "pre_processed_seasonal_scores_df = pre_processed_seasonal_scores_df.withColumn(\n",
    "    \"club_name\", extend_club_name_UDF(col(\"club_name\"))\n",
    ")\n",
    "# Checking whether club name expansions went all good or not\n",
    "if pre_processed_seasonal_scores_df.filter(\n",
    "    col(\"club_name\") == ABBREVIATED_CLUB_NAME_NOT_FOUD\n",
    ").count() > 0:\n",
    "    print(\"WARN: some clubs have NOT been found\")\n",
    "    print(\"Please check your data\")\n",
    "\n",
    "# Casting points to float, as required by learning procedures\n",
    "pre_processed_seasonal_scores_df = pre_processed_seasonal_scores_df.withColumn(\n",
    "    \"points\", pre_processed_seasonal_scores_df.points.cast(DoubleType())\n",
    ")"
   ]
  },
  {
   "cell_type": "markdown",
   "metadata": {},
   "source": [
    "This is the end result of this section:"
   ]
  },
  {
   "cell_type": "code",
   "execution_count": 45,
   "metadata": {},
   "outputs": [
    {
     "name": "stdout",
     "output_type": "stream",
     "text": [
      "+------+--------------------+--------------------+------+-----+\n",
      "|season|              league|           club_name|points|place|\n",
      "+------+--------------------+--------------------+------+-----+\n",
      "|    18|English Premier L...|   Tottenham Hotspur|  71.0|    4|\n",
      "|    18|English Premier L...|   Manchester United|  66.0|    6|\n",
      "|    08|Spain Primera Div...|RC Recreativo de ...|  33.0|   20|\n",
      "|    16|Spain Primera Div...|            RC Celta|  45.0|   13|\n",
      "|    16|Spain Primera Div...|       UD Las Palmas|  39.0|   14|\n",
      "|    15|     Italian Serie A|               Carpi|  38.0|   18|\n",
      "|    12|  Holland Eredivisie|        FC Groningen|  43.0|    7|\n",
      "|    13|  Holland Eredivisie|           FC Twente|  63.0|    3|\n",
      "|    12|      French Ligue 1|      Stade de Reims|  43.0|   14|\n",
      "|    16|      French Ligue 1|Sporting Club de ...|  34.0|   20|\n",
      "|    16|English Premier L...|   Tottenham Hotspur|  86.0|    2|\n",
      "|    07|Spain Primera Div...|          Sevilla FC|  64.0|    5|\n",
      "|    18|Spain Primera Div...|      Rayo Vallecano|  32.0|   20|\n",
      "|    17|German 1. Bundesliga|         Hannover 96|  39.0|   13|\n",
      "|    19|German 1. Bundesliga|   Borussia Dortmund|  69.0|    2|\n",
      "|    19|  Holland Eredivisie|                Ajax|  56.0|    1|\n",
      "|    09|      French Ligue 1|  Olympique Lyonnais|  72.0|    2|\n",
      "|    10|      French Ligue 1|            OGC Nice|  46.0|   17|\n",
      "|    12|      French Ligue 1|Olympique de Mars...|  71.0|    2|\n",
      "|    20|      French Ligue 1|           FC Nantes|  40.0|   18|\n",
      "+------+--------------------+--------------------+------+-----+\n",
      "only showing top 20 rows\n",
      "\n"
     ]
    }
   ],
   "source": [
    "pre_processed_seasonal_scores_df.show()"
   ]
  },
  {
   "cell_type": "markdown",
   "metadata": {},
   "source": [
    "# Joining football teams features with their seasonal scores"
   ]
  },
  {
   "cell_type": "markdown",
   "metadata": {},
   "source": [
    "The two dataframes (players and seasonal scores) need to be merged together to form a single dataframe.\n",
    "This can easily be done by joining on the key (`season`, `club_name`)."
   ]
  },
  {
   "cell_type": "code",
   "execution_count": 46,
   "metadata": {},
   "outputs": [],
   "source": [
    "df = football_teams_df.join(\n",
    "    pre_processed_seasonal_scores_df,\n",
    "    on = [\"season\", \"club_name\"],\n",
    ")"
   ]
  },
  {
   "cell_type": "markdown",
   "metadata": {},
   "source": [
    "In order to check whether some clubs were left out by the aforementioned join operation, two differences are computed:\n",
    "\n",
    "* Seasonal scores dataframe - joined dataframe.\n",
    "* Football teams dataframe - joined dataframe."
   ]
  },
  {
   "cell_type": "code",
   "execution_count": 47,
   "metadata": {},
   "outputs": [
    {
     "name": "stderr",
     "output_type": "stream",
     "text": [
      "                                                                                \r"
     ]
    }
   ],
   "source": [
    "diff = pre_processed_seasonal_scores_df.select(\"club_name\").subtract(df.select(\"club_name\")).distinct()\n",
    "\n",
    "if diff.count() > 0:\n",
    "    print(\"WARN: Some football teams have been left out the join (pre_processed_seasonal_scores_df)\")\n",
    "    diff.show()\n",
    "\n",
    "diff = football_teams_df.select(\"club_name\").subtract(df.select(\"club_name\")).distinct()\n",
    "if diff.count() > 0:\n",
    "    print(\"WARN: Some football teams have been left out the join (football_teams_df)\")\n",
    "    diff.show()\n",
    "\n",
    "del diff"
   ]
  },
  {
   "cell_type": "markdown",
   "metadata": {},
   "source": [
    "This is the end result of this section.\n",
    "\n",
    "For graphical reasons, only a selection of the columns will be shown, just to give an idea of the structure."
   ]
  },
  {
   "cell_type": "code",
   "execution_count": 48,
   "metadata": {},
   "outputs": [
    {
     "name": "stderr",
     "output_type": "stream",
     "text": [
      "                                                                                \r"
     ]
    },
    {
     "name": "stdout",
     "output_type": "stream",
     "text": [
      "+------+--------------------+--------------------+-----------------+------------------+------+-----+\n",
      "|season|              league|           club_name|     avg(overall)|         avg(pace)|points|place|\n",
      "+------+--------------------+--------------------+-----------------+------------------+------+-----+\n",
      "|    18|  Holland Eredivisie|        ADO Den Haag|66.33333333333333|            56.625|  45.0|    9|\n",
      "|    17|Spain Primera Div...|Athletic Club de ...|            75.75|59.214285714285715|  43.0|   16|\n",
      "|    16|     Italian Serie A|       Chievo Verona|             71.3|              55.9|  43.0|   14|\n",
      "|    16|English Premier L...|         Southampton|71.93939393939394| 64.66666666666667|  46.0|    8|\n",
      "|    19|German 1. Bundesliga|          Hertha BSC|71.75757575757575| 63.84848484848485|  41.0|   10|\n",
      "|    15|English Premier L...|         Bournemouth|69.89655172413794| 65.10344827586206|  42.0|   16|\n",
      "|    15|English Premier L...|   Manchester United|76.25925925925925| 59.96296296296296|  66.0|    5|\n",
      "|    20|      French Ligue 1|FC Girondins de B...| 70.6896551724138| 55.44827586206897|  45.0|   12|\n",
      "|    19|English Premier L...|   Manchester United|76.84848484848484| 67.03030303030303|  66.0|    3|\n",
      "|    15|English Premier L...|             Watford|71.32142857142857|62.785714285714285|  45.0|   13|\n",
      "|    16|  Holland Eredivisie|       SC Heerenveen|66.76666666666667|              59.4|  43.0|    9|\n",
      "|    16|English Premier L...|     West Ham United|72.54545454545455| 66.93939393939394|  45.0|   11|\n",
      "|    18|      French Ligue 1|    AS Saint-Étienne|70.11111111111111| 63.51851851851852|  66.0|    4|\n",
      "|    15|German 1. Bundesliga|          1. FC Köln|71.79166666666667|62.666666666666664|  43.0|    9|\n",
      "|    14|      French Ligue 1|Sporting Club de ...|66.21212121212122| 60.93939393939394|  47.0|   12|\n",
      "|    15|Spain Primera Div...|     Atlético Madrid|            76.92|             64.84|  88.0|    3|\n",
      "|    16|Spain Primera Div...|     Atlético Madrid|77.44827586206897|61.793103448275865|  78.0|    3|\n",
      "|    17|German 1. Bundesliga| Eintracht Frankfurt|72.33333333333333| 64.27272727272727|  49.0|    8|\n",
      "|    17|English Premier L...|        Swansea City|71.24242424242425| 58.06060606060606|  33.0|   18|\n",
      "|    17|      French Ligue 1|    Stade Rennais FC|69.15151515151516| 61.36363636363637|  58.0|    5|\n",
      "+------+--------------------+--------------------+-----------------+------------------+------+-----+\n",
      "only showing top 20 rows\n",
      "\n"
     ]
    }
   ],
   "source": [
    "df.select(\n",
    "    \"season\", \"league\", \"club_name\", \"avg(overall)\", \"avg(pace)\", \"points\", \"place\"\n",
    ").show()"
   ]
  },
  {
   "cell_type": "markdown",
   "metadata": {},
   "source": [
    "The full list of columns with their type is (in a compact horizontal form):"
   ]
  },
  {
   "cell_type": "code",
   "execution_count": 49,
   "metadata": {},
   "outputs": [
    {
     "name": "stdout",
     "output_type": "stream",
     "text": [
      "[('season', 'string'), ('club_name', 'string'), ('avg(attacking_short_passing)', 'double'), ('avg(shooting)', 'double'), ('avg(power_stamina)', 'double'), ('avg(skill_long_passing)', 'double'), ('avg(power_strength)', 'double'), ('avg(defending_standing_tackle)', 'double'), ('avg(skill_fk_accuracy)', 'double'), ('avg(skill_dribbling)', 'double'), ('avg(dribbling)', 'double'), ('avg(pace)', 'double'), ('avg(mentality_aggression)', 'double'), ('avg(movement_reactions)', 'double'), ('avg(movement_sprint_speed)', 'double'), ('avg(passing)', 'double'), ('avg(movement_acceleration)', 'double'), ('avg(attacking_heading_accuracy)', 'double'), ('avg(attacking_finishing)', 'double'), ('avg(defending)', 'double'), ('avg(attacking_crossing)', 'double'), ('avg(power_long_shots)', 'double'), ('avg(mentality_penalties)', 'double'), ('avg(overall)', 'double'), ('avg(power_shot_power)', 'double'), ('avg(value)', 'double'), ('avg(physic)', 'double'), ('avg(skill_ball_control)', 'double'), ('league', 'string'), ('points', 'double'), ('place', 'int')]\n"
     ]
    }
   ],
   "source": [
    "print(df.dtypes)"
   ]
  },
  {
   "cell_type": "code",
   "execution_count": 50,
   "metadata": {},
   "outputs": [],
   "source": [
    "NUM_MACRO_PLACES = 5\n",
    "\n",
    "def get_macro_place(place, league, complex=False):\n",
    "    if league in [\"Dutch Eredivisie\", \"German Bundesliga\"]:\n",
    "        if 1 <= place <= 3:\n",
    "            return 0.0\n",
    "        if 4 <= place <= 6:\n",
    "            return 1.0\n",
    "        if 7 <= place <= 10:\n",
    "            return 2.0\n",
    "        if 11 <= place <= 15:\n",
    "            return 3.0\n",
    "        if 16 <= place <= 18:\n",
    "            return 4.0\n",
    "    else:\n",
    "        if 1 <= place <= 4:\n",
    "            return 0.0\n",
    "        if 5 <= place <= 8:\n",
    "            return 1.0\n",
    "        if 9 <= place <= 12:\n",
    "            return 2.0\n",
    "        if 13 <= place <= 16:\n",
    "            return 3.0\n",
    "        if 17 <= place <= 20:\n",
    "            return 4.0\n",
    "\n",
    "    return None\n",
    "    \n",
    "get_macro_place_UDF = udf(\n",
    "    lambda place, league, complex: get_macro_place(float(place), league, complex),\n",
    "    DoubleType(),\n",
    ")"
   ]
  },
  {
   "cell_type": "code",
   "execution_count": 51,
   "metadata": {},
   "outputs": [],
   "source": [
    "df = df.withColumn(\n",
    "    \"macro_place\", get_macro_place_UDF(col(\"place\"), col(\"league\"), lit(False))\n",
    ")"
   ]
  },
  {
   "cell_type": "markdown",
   "metadata": {},
   "source": [
    "## Cleaning up memory"
   ]
  },
  {
   "cell_type": "code",
   "execution_count": 52,
   "metadata": {},
   "outputs": [
    {
     "data": {
      "text/plain": [
       "395"
      ]
     },
     "execution_count": 52,
     "metadata": {},
     "output_type": "execute_result"
    }
   ],
   "source": [
    "del seasonal_scores_df\n",
    "del pre_processed_seasonal_scores_df\n",
    "del football_teams_df\n",
    "gc.collect()"
   ]
  },
  {
   "cell_type": "markdown",
   "metadata": {},
   "source": [
    "# Visualizations"
   ]
  },
  {
   "cell_type": "markdown",
   "metadata": {},
   "source": [
    "A good practice whenever a data-driven task is being taclked is to first visualize the data.\n",
    "\n",
    "In fact, even just by simply looking at data we may find some useful information which may have a direct impact on the subsequent learning phase."
   ]
  },
  {
   "cell_type": "markdown",
   "metadata": {},
   "source": [
    "## Points distribution\n",
    "\n",
    "Kicking the visualization stage off with data distirbutions for the end-of-season points, across all supported seasons, for all supported leagues.\n",
    "\n",
    "Data distribution is very important to monitor: exposing a model too many or too few time to a value may be source of bias, which we want to avoid."
   ]
  },
  {
   "cell_type": "code",
   "execution_count": null,
   "metadata": {},
   "outputs": [],
   "source": [
    "p = sns.displot(df.select(\"points\").toPandas(), kde=True)\n",
    "p.fig.tight_layout(pad=1.5)\n",
    "plt.title(\"Points distribution across all leagues\")"
   ]
  },
  {
   "cell_type": "markdown",
   "metadata": {},
   "source": [
    "Some observations can be done:\n",
    "\n",
    "1. Data tends to approximatively follow a Gaussian/Normal distribution\n",
    "2. Said distribution appears to be slighlty skewed towards left\n",
    "\n",
    "These observations perfectly coincide with domain knowledge.\n",
    "1. In every league, there are just a few very strong teams (Champions League qualifiers), a limited number of very bad teams (fighting for relegation) and then a multitude of middle-table teams\n",
    "2. Some leagues do not have much talent in the middle part of the table, resulting in a general \"equilibrium\" between such team.\n",
    "As a result, scores of such teams not be high, but rather close to the mean value. "
   ]
  },
  {
   "cell_type": "markdown",
   "metadata": {},
   "source": [
    "The following density plot instead focuses on each league, showing again the points distribution."
   ]
  },
  {
   "cell_type": "code",
   "execution_count": null,
   "metadata": {},
   "outputs": [],
   "source": [
    "p = sns.displot(df.toPandas(), x=\"points\", hue=\"league\", kind=\"kde\", aspect=1.7, palette=\"tab10\")\n",
    "p.fig.tight_layout(pad=1.5)\n",
    "plt.title(\"Points distribution per league\")"
   ]
  },
  {
   "cell_type": "markdown",
   "metadata": {},
   "source": [
    "Some observations can be made:\n",
    "\n",
    "* The **French** and **Spanish** leagues are the less skewed among all leagues, possibly meaning that they are characterized by a majority of \"average\" teams.\n",
    "* The **Italian** and **English** leagues are very similar on low and middle points, but start to behave slightly different on the middle-high and high parts of the table.\n",
    "* The **Dutch** league is the most left-skewed, possibly hinting at the lower quality of the league, as suggested by the domain knowledge.\n",
    "* The **Spanish** league has a boost on high points, hinting at a consistent dominancy of one or more teams."
   ]
  },
  {
   "cell_type": "markdown",
   "metadata": {},
   "source": [
    "## Overall player quality distribution\n",
    "\n",
    "Similar visualizations can be done to analyze the overall player quality.\n",
    "\n",
    "The following plot shows the distribution of the player quality (`avg(overall)`) across all leagues."
   ]
  },
  {
   "cell_type": "code",
   "execution_count": null,
   "metadata": {},
   "outputs": [],
   "source": [
    "p = sns.displot(df.select(\"avg(overall)\").toPandas(), kde=True)\n",
    "p.fig.tight_layout(pad=1.5)\n",
    "plt.title(\"Player quality across all leagues\")"
   ]
  },
  {
   "cell_type": "markdown",
   "metadata": {},
   "source": [
    "Similarily to what observed for the points, the plot shows that:\n",
    "\n",
    "* A vast majority of the players are of average quality.\n",
    "* A minority of the players are below-average.\n",
    "* A minority of the players are above-average.\n",
    "\n",
    "The following plot focuses on the single leagues."
   ]
  },
  {
   "cell_type": "code",
   "execution_count": null,
   "metadata": {},
   "outputs": [],
   "source": [
    "p = sns.displot(df.toPandas(), x=\"avg(overall)\", hue=\"league\", kind=\"kde\", aspect=1.7, palette=\"tab10\")\n",
    "p.fig.tight_layout(pad=1.5)\n",
    "plt.title(\"Player quality per league\")"
   ]
  },
  {
   "cell_type": "markdown",
   "metadata": {},
   "source": [
    "From the plot it is possible to observe that:\n",
    "\n",
    "* The Dutch league hosts the majority of below-average players.\n",
    "* The French league follows the Dutch one in below-average players.\n",
    "* The German league has the highest amount of average players.\n",
    "* The German, Engligh, Italian and Spanish leagues have a peak of average players.\n",
    "* The same leagues have a considerable amount of above-average players.\n",
    "* The Spanish leagues dominates on the above-average players."
   ]
  },
  {
   "cell_type": "markdown",
   "metadata": {},
   "source": [
    "# Attempt 1: \"naive\" player features\n",
    "\n",
    "The following section represents the first attempt at building a model able to predict the points of a team, considering the features of its players.\n",
    "\n",
    "This attempt has been renamed as \"naive\", meaning that it simply consist of an analysis based on **all the features** that are related to a **player's technical abilities**."
   ]
  },
  {
   "cell_type": "code",
   "execution_count": 51,
   "metadata": {},
   "outputs": [],
   "source": [
    "# remove columns that do not inherently represent players abilities\n",
    "ALL_FEATURES = PLAYER_FEATURES_AVG\n",
    "ALL_FEATURES.remove(\"avg(overall)\")\n",
    "ALL_FEATURES.remove(\"avg(value)\")\n"
   ]
  },
  {
   "cell_type": "markdown",
   "metadata": {},
   "source": [
    "The learning procedures require that the considered features are assembled in a vector.\n",
    "\n",
    "The following cell performs this operation by adding a new \"assembled\" column to the main dataframe."
   ]
  },
  {
   "cell_type": "code",
   "execution_count": 52,
   "metadata": {},
   "outputs": [],
   "source": [
    "from pyspark.ml.feature import VectorAssembler\n",
    "\n",
    "assembler = VectorAssembler(\n",
    "    inputCols=ALL_FEATURES, outputCol=\"all_vec\"\n",
    ")\n",
    "\n",
    "df = assembler.transform(df)"
   ]
  },
  {
   "cell_type": "markdown",
   "metadata": {},
   "source": [
    "It is convenient to define a some custom utility functions to plot multiple figures, that will be called multiple times along the course of the project.\n",
    "\n",
    "The following cells contain the definition of said functions."
   ]
  },
  {
   "cell_type": "markdown",
   "metadata": {},
   "source": [
    "Before learning, it is good practice to first gather in-depth information on the structure of the data, as well as obtaining useful visualizations.\n",
    "\n",
    "In the following sections, multiple approaches at data visualization will be given."
   ]
  },
  {
   "cell_type": "markdown",
   "metadata": {},
   "source": [
    "## Raw data"
   ]
  },
  {
   "cell_type": "markdown",
   "metadata": {},
   "source": [
    "In this section a first analysis is performed on _raw_ data, meaning that no normalization or standardization is performed."
   ]
  },
  {
   "cell_type": "code",
   "execution_count": null,
   "metadata": {},
   "outputs": [],
   "source": [
    "# color to be used in the plots for raw data\n",
    "COLOR_RAW = \"#332FD0\""
   ]
  },
  {
   "cell_type": "code",
   "execution_count": null,
   "metadata": {},
   "outputs": [],
   "source": [
    "# use Pandas for easy plotting with Seaborn\n",
    "pdf = df.toPandas()"
   ]
  },
  {
   "cell_type": "markdown",
   "metadata": {},
   "source": [
    "### Feature-target correlation"
   ]
  },
  {
   "cell_type": "markdown",
   "metadata": {},
   "source": [
    "The **feature-target correlation** shows the correlation between each feature and the target variable (point).\n",
    "\n",
    "The idea is to immediately visualize whether there are specific features that are particularly correlated with the target variable."
   ]
  },
  {
   "cell_type": "code",
   "execution_count": null,
   "metadata": {},
   "outputs": [],
   "source": [
    "plot_feature_target_relation(\n",
    "    pdf, ALL_FEATURES, TARGET_VARIABLE, color=COLOR_RAW\n",
    ")"
   ]
  },
  {
   "cell_type": "markdown",
   "metadata": {},
   "source": [
    "Since there are too many datapoints, it is very hard to look at the plots. Let's see how visualizations change when focusing on some leagues or years, thus restricting the data scope."
   ]
  },
  {
   "cell_type": "code",
   "execution_count": null,
   "metadata": {},
   "outputs": [],
   "source": [
    "plot_feature_target_relation(\n",
    "    pdf[pdf[\"season\"] == \"20\"], ALL_FEATURES, TARGET_VARIABLE, color=COLOR_RAW\n",
    ")"
   ]
  },
  {
   "cell_type": "markdown",
   "metadata": {},
   "source": [
    "It can be observed that:\n",
    "\n",
    "1. There is a general phenomenon of linear relation between each feature and the final points.\n",
    "2. There is a generalized high variance across all features.\n",
    "   1. E.g. taking the very last feature (`avg(defending_standing_tackle`), players with a value close to `50` result to a wide range of points.\n",
    "   2. On the contrary, in extreme values (close to `40` or `90`), the resulting variable have a narrower range."
   ]
  },
  {
   "cell_type": "markdown",
   "metadata": {},
   "source": [
    "### Feature distribution"
   ]
  },
  {
   "cell_type": "markdown",
   "metadata": {},
   "source": [
    "The following plot shows the distribution of the player features in the analyzed dataframe."
   ]
  },
  {
   "cell_type": "code",
   "execution_count": null,
   "metadata": {},
   "outputs": [],
   "source": [
    "plot_feature_distribution(pdf, ALL_FEATURES, color = COLOR_RAW)"
   ]
  },
  {
   "cell_type": "markdown",
   "metadata": {},
   "source": [
    "From the plot it is possible to observe that:\n",
    "\n",
    "1. Most features have a symmetrical distribution.\n",
    "2. Most features are centered around the middle.\n",
    "3. Some features are more skewed towards left, hinting that they may be more \"rare\".\n",
    "4. Some features don't properly follow a Gaussian distribution (`avg(pace)`, `avg(physic)`).\n",
    "\n",
    "Furthermore, observation `2` is linked to the observation `2.2` of the previous plot:\n",
    "\n",
    "* A lot of features have an average value.\n",
    "* Around the average values, there is high variance.\n",
    "\n",
    "Hence, most likely, the system will be exposed multiple times to this issue, affecting performances."
   ]
  },
  {
   "cell_type": "markdown",
   "metadata": {},
   "source": [
    "### Pearson Correlation Matrix"
   ]
  },
  {
   "cell_type": "markdown",
   "metadata": {},
   "source": [
    "The **Pearson's Correlation Matrix** is a graphical tool to show a numerical value indicating the correlation between each variable.\n",
    "\n",
    "It is employed in the project, to find whether some features are correlated to each other, which can either be a problem for Linear Regression, but not so much for Tree-based models, since they by design perform a feature selection step."
   ]
  },
  {
   "cell_type": "code",
   "execution_count": null,
   "metadata": {},
   "outputs": [],
   "source": [
    "plot_correlation_matrix(pdf, ALL_FEATURES)"
   ]
  },
  {
   "cell_type": "markdown",
   "metadata": {},
   "source": [
    "There are:\n",
    "\n",
    "* A lot of positive correlations (red).\n",
    "* Some negative correlations (teal).\n",
    "* Some feature are tendentially not correlated to others (white).\n",
    "\n",
    "Using some domain knowledge, it is possible to further comment some correlations, like (among others):\n",
    "\n",
    "* The more a defender is good, the more aggressive they are.\n",
    "* The more a defender is good, the more able to perform standing tackles they are.\n",
    "* The more a player has good physical strenght, the more fast (pace) they are."
   ]
  },
  {
   "cell_type": "markdown",
   "metadata": {},
   "source": [
    "## Standardization"
   ]
  },
  {
   "cell_type": "markdown",
   "metadata": {},
   "source": [
    "Since we have some features with skewed distributions, it is needed to standardize, to see whether it helps to center feature distribution."
   ]
  },
  {
   "cell_type": "code",
   "execution_count": null,
   "metadata": {},
   "outputs": [],
   "source": [
    "# standardized_df = df"
   ]
  },
  {
   "cell_type": "markdown",
   "metadata": {},
   "source": [
    "It is needed to define a scaler which takes feature from `all_vec` and places scaled versions in `all_vec_std`.\n",
    "\n",
    "The configuration is of a standard z-score normalization."
   ]
  },
  {
   "cell_type": "code",
   "execution_count": null,
   "metadata": {},
   "outputs": [],
   "source": [
    "from pyspark.ml.feature import StandardScaler\n",
    "\n",
    "scaler = StandardScaler(\n",
    "    inputCol=\"all_vec\", \n",
    "    outputCol=\"all_vec_std\", \n",
    "    withStd=True, \n",
    "    withMean=True\n",
    ")\n",
    "\n",
    "df = scaler.fit(df).transform(df)"
   ]
  },
  {
   "cell_type": "code",
   "execution_count": null,
   "metadata": {},
   "outputs": [],
   "source": [
    "COLOR_STD = \"#9254C8\"\n",
    "\n",
    "ALL_FEATURES_STD = [\n",
    "    player_feature + \"_std\" for player_feature in ALL_FEATURES\n",
    "]"
   ]
  },
  {
   "cell_type": "code",
   "execution_count": null,
   "metadata": {},
   "outputs": [],
   "source": [
    "pdf = df.toPandas()"
   ]
  },
  {
   "cell_type": "markdown",
   "metadata": {},
   "source": [
    "Since the scaler grouped all features in a single field (feature vector), but plotting requires using different fields (one per features), it is needed to define a function to extract each feature and place it in a separate column."
   ]
  },
  {
   "cell_type": "code",
   "execution_count": null,
   "metadata": {},
   "outputs": [],
   "source": [
    "def feature_vec_to_cols(pdf, vec, columns):\n",
    "    tmp = pdf.reindex(\n",
    "        columns=list(pdf.columns) + columns\n",
    "    )\n",
    "\n",
    "    tmp[columns] = tmp[\n",
    "        vec\n",
    "    ].transform(\n",
    "        {\n",
    "            columns[i]: operator.itemgetter(i) for i, p in enumerate(columns)\n",
    "        }\n",
    "    )\n",
    "    return tmp"
   ]
  },
  {
   "cell_type": "code",
   "execution_count": null,
   "metadata": {},
   "outputs": [],
   "source": [
    "pdf = feature_vec_to_cols(pdf, \"all_vec_std\", ALL_FEATURES_STD)"
   ]
  },
  {
   "cell_type": "markdown",
   "metadata": {},
   "source": [
    "It is possible to see the effects of the function by looking at the columns list."
   ]
  },
  {
   "cell_type": "code",
   "execution_count": null,
   "metadata": {},
   "outputs": [],
   "source": [
    "pdf.columns"
   ]
  },
  {
   "cell_type": "markdown",
   "metadata": {},
   "source": [
    "### Feature-target correlation"
   ]
  },
  {
   "cell_type": "markdown",
   "metadata": {},
   "source": [
    "As done in the _raw data_ section, a feature-target correlation analysis is performed."
   ]
  },
  {
   "cell_type": "code",
   "execution_count": null,
   "metadata": {},
   "outputs": [],
   "source": [
    "plot_feature_target_relation(\n",
    "    pdf, ALL_FEATURES_STD, TARGET_VARIABLE, color=COLOR_STD\n",
    ")"
   ]
  },
  {
   "cell_type": "markdown",
   "metadata": {},
   "source": [
    "Let's again zoom on a single season."
   ]
  },
  {
   "cell_type": "code",
   "execution_count": null,
   "metadata": {},
   "outputs": [],
   "source": [
    "plot_feature_target_relation(\n",
    "    pdf[pdf[\"season\"] == \"20\"], ALL_FEATURES_STD, TARGET_VARIABLE, color=COLOR_STD\n",
    ")"
   ]
  },
  {
   "cell_type": "markdown",
   "metadata": {},
   "source": [
    "Standardization does not improve the variance issue."
   ]
  },
  {
   "cell_type": "markdown",
   "metadata": {},
   "source": [
    "#### Feature distribution"
   ]
  },
  {
   "cell_type": "code",
   "execution_count": null,
   "metadata": {},
   "outputs": [],
   "source": [
    "plot_feature_distribution(\n",
    "    pdf, ALL_FEATURES_STD, color = COLOR_STD\n",
    ")"
   ]
  },
  {
   "cell_type": "markdown",
   "metadata": {},
   "source": [
    "Standardization did not change the feature distribution.\n",
    "\n",
    "It is not needed to plot the correlation matrix again, since it is not affected by a change of scale."
   ]
  },
  {
   "cell_type": "markdown",
   "metadata": {},
   "source": [
    "## Log transformation"
   ]
  },
  {
   "cell_type": "markdown",
   "metadata": {},
   "source": [
    "A further attempt consists of apply Logarithmic Transformation, still trying to combat skewness."
   ]
  },
  {
   "cell_type": "code",
   "execution_count": null,
   "metadata": {},
   "outputs": [],
   "source": [
    "COLOR_LOG = \"#E15FED\"\n",
    "ALL_FEATURES_LOG = [\n",
    "    player_feature + \"_log\" for player_feature in ALL_FEATURES\n",
    "]\n"
   ]
  },
  {
   "cell_type": "markdown",
   "metadata": {},
   "source": [
    "The following function translates a value to its $log_2$."
   ]
  },
  {
   "cell_type": "code",
   "execution_count": null,
   "metadata": {},
   "outputs": [],
   "source": [
    "to_log_UDF = udf(\n",
    "    lambda value: float(np.log2(value)), DoubleType()\n",
    ")"
   ]
  },
  {
   "cell_type": "code",
   "execution_count": null,
   "metadata": {},
   "outputs": [],
   "source": [
    "for feature, feature_log in zip(ALL_FEATURES, ALL_FEATURES_LOG):\n",
    "    df = df.withColumn(feature_log, to_log_UDF(col(feature)))\n",
    "\n",
    "df = df.withColumn(\"points_log\", to_log_UDF(col(\"points\")))"
   ]
  },
  {
   "cell_type": "code",
   "execution_count": null,
   "metadata": {},
   "outputs": [],
   "source": [
    "pdf = df.toPandas()"
   ]
  },
  {
   "cell_type": "markdown",
   "metadata": {},
   "source": [
    "### Feature-target correlation"
   ]
  },
  {
   "cell_type": "code",
   "execution_count": null,
   "metadata": {},
   "outputs": [],
   "source": [
    "plot_feature_target_relation(\n",
    "    pdf, ALL_FEATURES_LOG, \"points_log\", color=COLOR_LOG\n",
    ")"
   ]
  },
  {
   "cell_type": "markdown",
   "metadata": {},
   "source": [
    "Also Logarithmic transformation did not help with the variance problem.\n",
    "\n",
    "Let's again see a zommed version."
   ]
  },
  {
   "cell_type": "code",
   "execution_count": null,
   "metadata": {},
   "outputs": [],
   "source": [
    "plot_feature_target_relation(\n",
    "    pdf[pdf[\"season\"] == \"20\"], ALL_FEATURES_LOG, \"points_log\", color=COLOR_LOG\n",
    ")"
   ]
  },
  {
   "cell_type": "markdown",
   "metadata": {},
   "source": [
    "Logarithmic transformation did not help with variance."
   ]
  },
  {
   "cell_type": "markdown",
   "metadata": {},
   "source": [
    "### Feature distribution"
   ]
  },
  {
   "cell_type": "code",
   "execution_count": null,
   "metadata": {},
   "outputs": [],
   "source": [
    "plot_feature_distribution(pdf, ALL_FEATURES_LOG, color = COLOR_LOG)"
   ]
  },
  {
   "cell_type": "markdown",
   "metadata": {},
   "source": [
    "Logarithmic transformation slightly moved the skewdness of all features towards right, still not solving it; as a consequence, centered or right-skewed features are not slightly worsened."
   ]
  },
  {
   "cell_type": "markdown",
   "metadata": {},
   "source": [
    "## Min-max transformation"
   ]
  },
  {
   "cell_type": "code",
   "execution_count": 53,
   "metadata": {},
   "outputs": [],
   "source": [
    "COLOR_MIN_MAX = \"#6EDCD9\"\n",
    "ALL_FEATURES_MIN_MAX = [\n",
    "    player_feature + \"_min_max\" for player_feature in ALL_FEATURES\n",
    "]\n"
   ]
  },
  {
   "cell_type": "code",
   "execution_count": 54,
   "metadata": {},
   "outputs": [
    {
     "name": "stderr",
     "output_type": "stream",
     "text": [
      "                                                                                \r"
     ]
    }
   ],
   "source": [
    "from pyspark.ml.feature import MinMaxScaler\n",
    "\n",
    "scaler = MinMaxScaler(\n",
    "    inputCol=\"all_vec\", \n",
    "    outputCol=\"all_vec_min_max\"\n",
    ")\n",
    "\n",
    "df = scaler.fit(df).transform(df)"
   ]
  },
  {
   "cell_type": "code",
   "execution_count": null,
   "metadata": {},
   "outputs": [],
   "source": [
    "pdf = df.toPandas()\n",
    "pdf = feature_vec_to_cols(pdf, vec=\"all_vec_min_max\", columns=ALL_FEATURES_MIN_MAX)"
   ]
  },
  {
   "cell_type": "markdown",
   "metadata": {},
   "source": [
    "### Feature-target relationship"
   ]
  },
  {
   "cell_type": "code",
   "execution_count": null,
   "metadata": {},
   "outputs": [],
   "source": [
    "plot_feature_target_relation(\n",
    "    pdf, ALL_FEATURES_MIN_MAX, TARGET_VARIABLE, color=COLOR_MIN_MAX\n",
    ")"
   ]
  },
  {
   "cell_type": "markdown",
   "metadata": {},
   "source": [
    "Zoomed view:"
   ]
  },
  {
   "cell_type": "code",
   "execution_count": null,
   "metadata": {},
   "outputs": [],
   "source": [
    "plot_feature_target_relation(\n",
    "    pdf[pdf[\"season\"] == \"20\"], ALL_FEATURES_MIN_MAX, TARGET_VARIABLE, color=COLOR_MIN_MAX\n",
    ")"
   ]
  },
  {
   "cell_type": "markdown",
   "metadata": {},
   "source": [
    "### Feature distribution"
   ]
  },
  {
   "cell_type": "code",
   "execution_count": null,
   "metadata": {},
   "outputs": [],
   "source": [
    "plot_feature_distribution(pdf, ALL_FEATURES_MIN_MAX, color=COLOR_MIN_MAX)"
   ]
  },
  {
   "cell_type": "markdown",
   "metadata": {},
   "source": [
    "The following GIF compares the previously plotted feature distributions.\n",
    "\n",
    "![GIF changes illustration](https://s8.gifyu.com/images/ezgif.com-gif-maker4847ef0cb3270edd.gif)"
   ]
  },
  {
   "cell_type": "markdown",
   "metadata": {},
   "source": [
    "Before learning, some further useful visualizations are given.\n",
    "\n",
    "**From now on, Min-Max transofrmed data will be used.**"
   ]
  },
  {
   "cell_type": "markdown",
   "metadata": {},
   "source": [
    "## PCA (on min-max normalized data)"
   ]
  },
  {
   "cell_type": "markdown",
   "metadata": {},
   "source": [
    "Actual PCA:"
   ]
  },
  {
   "cell_type": "code",
   "execution_count": null,
   "metadata": {},
   "outputs": [],
   "source": [
    "df, pca_model = perform_pca(\n",
    "    df=df,\n",
    "    num_components=PCA_NUM_COMPONENTS,\n",
    "    input_col=\"all_vec_min_max\",\n",
    "    output_col=\"all_vec_min_max_pcs\"\n",
    ")"
   ]
  },
  {
   "cell_type": "code",
   "execution_count": null,
   "metadata": {},
   "outputs": [],
   "source": [
    "plot_pca_explained_variance(\n",
    "    pca_model=pca_model\n",
    ")"
   ]
  },
  {
   "cell_type": "markdown",
   "metadata": {},
   "source": [
    "#### Visualization"
   ]
  },
  {
   "cell_type": "code",
   "execution_count": null,
   "metadata": {},
   "outputs": [],
   "source": [
    "pdf = df.toPandas()"
   ]
  },
  {
   "cell_type": "code",
   "execution_count": null,
   "metadata": {},
   "outputs": [],
   "source": []
  },
  {
   "cell_type": "code",
   "execution_count": null,
   "metadata": {},
   "outputs": [],
   "source": [
    "scatter_plot(\n",
    "    x=pdf.all_vec_min_max_pcs.map(lambda x: x[0]),\n",
    "    y=pdf.all_vec_min_max_pcs.map(lambda x: x[1]),\n",
    "    c=pdf.points,\n",
    "    x_label=\"Principal Component 0\",\n",
    "    y_label=\"Principal Component 1\",\n",
    ")  "
   ]
  },
  {
   "cell_type": "markdown",
   "metadata": {},
   "source": [
    "PCA result is quite underwhelming: teams with widely different end-of-the-season placement tend to be mixed-up.\n",
    "\n",
    "Notice that Principal Component Analysis is a linear model, so it is bounded to produce linear representations: usually, non-trivial problems present non-linear data.\n",
    "\n",
    "For this reason, adding some non-linearity may possibly lead to a better lower-dimensional embedding..."
   ]
  },
  {
   "cell_type": "code",
   "execution_count": null,
   "metadata": {},
   "outputs": [],
   "source": [
    "scatter_plot(\n",
    "    x=pdf.all_vec_min_max_pcs.map(lambda x: x[0]),\n",
    "    y=pdf.points,\n",
    "    x_label=\"Principal Component 0\",\n",
    "    y_label=\"Points\",\n",
    ")\n",
    "scatter_plot(\n",
    "    x=pdf.all_vec_min_max_pcs.map(lambda x: x[1]),\n",
    "    y=pdf.points,\n",
    "    x_label=\"Principal Component 1\",\n",
    "    y_label=\"Points\",\n",
    ")"
   ]
  },
  {
   "cell_type": "markdown",
   "metadata": {},
   "source": [
    "## t-SNE"
   ]
  },
  {
   "cell_type": "markdown",
   "metadata": {},
   "source": [
    "t-SNE is one of the most used tools, when assuming non-linearity in the data space.\n",
    "\n",
    "Implementation from SciKit Learn framework will be used, since PySpark does not provide any version of this tool.\n",
    "\n",
    "SciKit Learn works with NumPy structures, so the feature vector in PySpark DataFrame must be converted to a NDArray structure."
   ]
  },
  {
   "cell_type": "code",
   "execution_count": null,
   "metadata": {},
   "outputs": [],
   "source": [
    "all_vec_min_max_np = np.array(\n",
    "    list(\n",
    "        map(\n",
    "            lambda v: v[\"all_vec_min_max\"].toArray(), \n",
    "            df.select(\"all_vec_min_max\").collect()\n",
    "        )\n",
    "    )\n",
    ")\n",
    "\n",
    "points_np = np.array(\n",
    "    list(\n",
    "        map(\n",
    "            lambda v: v[\"points\"], \n",
    "            df.collect()\n",
    "        )\n",
    "    )\n",
    ").reshape(-1)"
   ]
  },
  {
   "cell_type": "markdown",
   "metadata": {},
   "source": [
    "Once data is ready, TNSE is called."
   ]
  },
  {
   "cell_type": "code",
   "execution_count": null,
   "metadata": {},
   "outputs": [],
   "source": [
    "from sklearn.manifold import TSNE\n",
    "\n",
    "tsne_embedding = TSNE(\n",
    "    n_components=2, learning_rate='auto', init='random', method=\"barnes_hut\"\n",
    ").fit_transform(all_vec_min_max_np)"
   ]
  },
  {
   "cell_type": "markdown",
   "metadata": {},
   "source": [
    "And, once the embedding space is populated, the result is plotted"
   ]
  },
  {
   "cell_type": "code",
   "execution_count": null,
   "metadata": {},
   "outputs": [],
   "source": [
    "scatter_plot(\n",
    "    x=tsne_embedding[:,0],\n",
    "    y=tsne_embedding[:,1],\n",
    "    c=points_np,\n",
    "    x_label=\"TSNE Embedding Dimension 0\",\n",
    "    y_label=\"TSNE Embedding Dimension 1\",\n",
    ")"
   ]
  },
  {
   "cell_type": "code",
   "execution_count": null,
   "metadata": {},
   "outputs": [],
   "source": [
    "scatter_plot(\n",
    "    x=tsne_embedding[:,0],\n",
    "    y=points_np,\n",
    "    x_label=\"TSNE Embedding Dimension 0\",\n",
    "    y_label=\"Points\",\n",
    ")\n",
    "scatter_plot(\n",
    "    x=tsne_embedding[:,1],\n",
    "    y=points_np,\n",
    "    x_label=\"TSNE Embedding Dimension 1\",\n",
    "    y_label=\"Points\",\n",
    ")"
   ]
  },
  {
   "cell_type": "markdown",
   "metadata": {},
   "source": [
    "Unfortunately, adding non-linearity does not seem to improve the situation.\n",
    "\n",
    "Not much progress has been made, w.r.t. PCA \n",
    "\n",
    "[TODO] comment on variance"
   ]
  },
  {
   "cell_type": "markdown",
   "metadata": {},
   "source": [
    "## Comments on visualizations\n",
    "\n",
    "Data seems to be:\n",
    "\n",
    "* Not linearly separable.\n",
    "* Suffering from high variance.\n",
    "* ..."
   ]
  },
  {
   "cell_type": "markdown",
   "metadata": {},
   "source": [
    "## Learning for attempt 1\n",
    "\n",
    "The problem has been treated in two different forms:\n",
    "\n",
    "* As **regression** on the **points**.\n",
    "* As **classification** on the table/ranking areas (macro places).\n",
    "\n",
    "In both cases, for all the different models will be used:\n",
    "\n",
    "* **K-Fold Cross Validation**, to perform validation tests on the model performances.\n",
    "* **Grid-search approach**, to perform hyperparameter tuning."
   ]
  },
  {
   "cell_type": "code",
   "execution_count": null,
   "metadata": {},
   "outputs": [],
   "source": [
    "train_df, test_df = df.randomSplit([0.9, 0.1], seed=random_seed)\n",
    "\n",
    "FEATURES_COL = \"all_vec_min_max\"\n"
   ]
  },
  {
   "cell_type": "markdown",
   "metadata": {},
   "source": [
    "### Regression"
   ]
  },
  {
   "cell_type": "code",
   "execution_count": null,
   "metadata": {},
   "outputs": [],
   "source": [
    "regression_evaluator_cv.setLabelCol(REGRESSION_LABEL_COL)"
   ]
  },
  {
   "cell_type": "markdown",
   "metadata": {},
   "source": [
    "#### Linear Regression"
   ]
  },
  {
   "cell_type": "code",
   "execution_count": null,
   "metadata": {},
   "outputs": [],
   "source": [
    "from pyspark.ml.regression import LinearRegression\n",
    "from pyspark.ml.regression import LinearRegressionModel\n",
    "\n",
    "PREDICTION_COL = \"attempt_1_regression_linear_regression_predictions\"\n",
    "\n",
    "if not model_exists(\n",
    "    TRAINED_MODELS_DIRS[\"Attempt 1\"][\"Regression\"][\"Linear Regression\"]\n",
    "):\n",
    "    print(\"Linear Regression model NOT found in disk, training...\")\n",
    "    regression_evaluator_cv.setPredictionCol(PREDICTION_COL)\n",
    "    \n",
    "    estimator = LinearRegression()\n",
    "\n",
    "    linear_regression_param_grid = (\n",
    "        ParamGridBuilder()\n",
    "        .addGrid(estimator.featuresCol, [FEATURES_COL])\n",
    "        .addGrid(estimator.labelCol, [REGRESSION_LABEL_COL])\n",
    "        .addGrid(estimator.predictionCol, [PREDICTION_COL])\n",
    "        .addGrid(estimator.regParam, [0.0, 0.001, 0.01, 0.1, 0.5, 1])\n",
    "        .addGrid(estimator.solver, [\"auto\", \"normal\"])\n",
    "        .addGrid(estimator.fitIntercept, [True, False])\n",
    "        .addGrid(estimator.elasticNetParam, [0.0, 0.5, 1.0])\n",
    "        .build()\n",
    "    )\n",
    "\n",
    "    cross_validated_models = learn_best_model(\n",
    "        estimator=estimator,\n",
    "        param_grid=linear_regression_param_grid,\n",
    "        evaluator_cv=regression_evaluator_cv\n",
    "    )\n",
    "else:\n",
    "    print(\"Linear Regression model found in disk, loading...\")\n",
    "    model = LinearRegressionModel.load(\n",
    "        TRAINED_MODELS_DIRS[\"Attempt 1\"][\"Regression\"][\"Linear Regression\"]\n",
    "    )"
   ]
  },
  {
   "cell_type": "code",
   "execution_count": null,
   "metadata": {},
   "outputs": [],
   "source": [
    "if not model_exists(\n",
    "    TRAINED_MODELS_DIRS[\"Attempt 1\"][\"Regression\"][\"Linear Regression\"]\n",
    "):\n",
    "    print(\"Evaluating Linear Regression model trained in previous cell...\")\n",
    "    evaluate_learning_models(\n",
    "        best_model=cross_validated_models.bestModel,\n",
    "        evaluators=get_evaluators(\n",
    "            cross_validated_models.bestModel, \n",
    "            label_col=REGRESSION_LABEL_COL, \n",
    "            prediction_col=PREDICTION_COL, \n",
    "            evaluation_metrics=REGRESSION_EVALUATION_METRICS\n",
    "        ),\n",
    "        save_training_result_path=\"./evaluation_results/attempt_1/regression/linear_regression.json\"\n",
    "    )\n",
    "else:\n",
    "    print(\"Printing evaluation loaded from disk...\")\n",
    "    print_model_evaluation(\n",
    "        model_evaluation_path=\"./evaluation_results/attempt_1/regression/linear_regression.json\"\n",
    "    )"
   ]
  },
  {
   "cell_type": "code",
   "execution_count": null,
   "metadata": {},
   "outputs": [],
   "source": [
    "if not model_exists(\n",
    "    TRAINED_MODELS_DIRS[\"Attempt 1\"][\"Regression\"][\"Linear Regression\"]\n",
    "):\n",
    "    print(\"Saving Linear Regression model on disk...\")\n",
    "    cross_validated_models.bestModel.save(\n",
    "        \"./trained_models/attempt_1/regression/linear_regression\"\n",
    "    )"
   ]
  },
  {
   "cell_type": "markdown",
   "metadata": {},
   "source": [
    "#### Prediction Tree"
   ]
  },
  {
   "cell_type": "code",
   "execution_count": null,
   "metadata": {},
   "outputs": [],
   "source": [
    "from pyspark.ml.regression import DecisionTreeRegressor\n",
    "from pyspark.ml.regression import DecisionTreeRegressionModel\n",
    "\n",
    "PREDICTION_COL = \"attempt_1_regression_decision_tree_predictions\"\n",
    "\n",
    "if not model_exists(\n",
    "    TRAINED_MODELS_DIRS[\"Attempt 1\"][\"Regression\"][\"Prediction Tree\"]\n",
    "):\n",
    "    print(\"Prediction Tree model NOT found in disk, training...\")\n",
    "    \n",
    "    regression_evaluator_cv.setPredictionCol(PREDICTION_COL)\n",
    "    \n",
    "    estimator = DecisionTreeRegressor()\n",
    "\n",
    "    param_grid = (\n",
    "        ParamGridBuilder()\n",
    "        .addGrid(estimator.featuresCol, [FEATURES_COL])\n",
    "        .addGrid(estimator.labelCol, [REGRESSION_LABEL_COL])\n",
    "        .addGrid(estimator.predictionCol, [PREDICTION_COL])\n",
    "        .addGrid(estimator.maxDepth, [5, 24])\n",
    "        .addGrid(estimator.maxBins, [16, 32, 64])\n",
    "        .addGrid(estimator.minInfoGain, [0, 0.1])\n",
    "        .build()\n",
    "    )\n",
    "\n",
    "    cross_validated_models = learn_best_model(\n",
    "        estimator=estimator,\n",
    "        param_grid=param_grid,\n",
    "        evaluator_cv=regression_evaluator_cv\n",
    "    )\n",
    "else:\n",
    "    print(\"Regression Decision Tree model found in disk, loading...\")\n",
    "    model = DecisionTreeRegressionModel.load(\n",
    "        TRAINED_MODELS_DIRS[\"Attempt 1\"][\"Regression\"][\"Prediction Tree\"]\n",
    "    )"
   ]
  },
  {
   "cell_type": "code",
   "execution_count": null,
   "metadata": {},
   "outputs": [],
   "source": [
    "if not model_exists(\n",
    "    TRAINED_MODELS_DIRS[\"Attempt 1\"][\"Regression\"][\"Prediction Tree\"]\n",
    "):\n",
    "    print(\n",
    "        \"Evaluating Prediction Tree model trained in previous cell...\"\n",
    "    )\n",
    "    evaluate_learning_models(\n",
    "        best_model=cross_validated_models.bestModel,\n",
    "        evaluators=get_evaluators(\n",
    "            cross_validated_models.bestModel, \n",
    "            label_col=REGRESSION_LABEL_COL, \n",
    "            prediction_col=PREDICTION_COL, \n",
    "            evaluation_metrics=REGRESSION_EVALUATION_METRICS\n",
    "        ),\n",
    "        save_training_result_path=\"./evaluation_results/attempt_1/regression/prediction_tree.json\"\n",
    "    )\n",
    "else:\n",
    "    print(\"Printing evaluation loaded from disk...\")\n",
    "    print_model_evaluation(\n",
    "        model_evaluation_path=\"./evaluation_results/attempt_1/regression/prediction_tree.json\"\n",
    "    )"
   ]
  },
  {
   "cell_type": "code",
   "execution_count": null,
   "metadata": {},
   "outputs": [],
   "source": [
    "if not model_exists(\n",
    "    TRAINED_MODELS_DIRS[\"Attempt 1\"][\"Regression\"][\"Prediction Tree\"]\n",
    "):\n",
    "    print(\"Saving Decision Tree Regressor model on disk...\")\n",
    "    cross_validated_models.bestModel.save(\n",
    "        \"./trained_models/attempt_1/regression/prediction_tree\"\n",
    "    )"
   ]
  },
  {
   "cell_type": "markdown",
   "metadata": {},
   "source": [
    "#### Gradient Boosted Tree Regression"
   ]
  },
  {
   "cell_type": "code",
   "execution_count": null,
   "metadata": {},
   "outputs": [],
   "source": [
    "from pyspark.ml.regression import GBTRegressor\n",
    "from pyspark.ml.regression import GBTRegressionModel\n",
    "\n",
    "PREDICTION_COL = \"attempt_1_regression_gradient_boosted_tree_predictions\"\n",
    "\n",
    "if not model_exists(\n",
    "    TRAINED_MODELS_DIRS[\"Attempt 1\"][\"Regression\"][\"Gradient Boosted Tree\"]\n",
    "):\n",
    "    print(\"Regression Gradient Boosted Tree model NOT found in disk, training...\")\n",
    "    \n",
    "    regression_evaluator_cv.setPredictionCol(PREDICTION_COL)\n",
    "    \n",
    "    estimator = GBTRegressor()\n",
    "\n",
    "    param_grid = (\n",
    "        ParamGridBuilder()\n",
    "        .addGrid(estimator.featuresCol, [FEATURES_COL])\n",
    "        .addGrid(estimator.labelCol, [REGRESSION_LABEL_COL])\n",
    "        .addGrid(estimator.predictionCol, [PREDICTION_COL])\n",
    "        .addGrid(estimator.maxDepth, [2, 5, 10])\n",
    "        .addGrid(estimator.maxBins, [16, 32, 64])\n",
    "        .addGrid(estimator.minInfoGain, [0, 0.1])\n",
    "        .addGrid(estimator.subsamplingRate, [0.5, 1])\n",
    "        .addGrid(estimator.lossType, [\"squared\", \"absolute\"])\n",
    "        .build()\n",
    "    )\n",
    "\n",
    "    cross_validated_models = learn_best_model(\n",
    "        estimator=estimator,\n",
    "        param_grid=param_grid,\n",
    "        evaluator_cv=regression_evaluator_cv\n",
    "    )\n",
    "else:\n",
    "    print(\"Regression Gradient Boosted Tree model found in disk, loading...\")\n",
    "    model = GBTRegressionModel.load(\n",
    "        TRAINED_MODELS_DIRS[\"Attempt 1\"][\"Regression\"][\"Gradient Boosted Tree\"]\n",
    "    )"
   ]
  },
  {
   "cell_type": "code",
   "execution_count": null,
   "metadata": {},
   "outputs": [],
   "source": [
    "if not model_exists(\n",
    "    TRAINED_MODELS_DIRS[\"Attempt 1\"][\"Regression\"][\"Gradient Boosted Tree\"]\n",
    "):\n",
    "    print(\n",
    "        \"Evaluating Gradient Boosted Tree model trained in previous cell...\"\n",
    "    )\n",
    "    evaluate_learning_models(\n",
    "        best_model=cross_validated_models.bestModel,\n",
    "        evaluators=get_evaluators(\n",
    "            cross_validated_models.bestModel, \n",
    "            label_col=REGRESSION_LABEL_COL, \n",
    "            prediction_col=PREDICTION_COL, \n",
    "            evaluation_metrics=REGRESSION_EVALUATION_METRICS\n",
    "        ),\n",
    "        save_training_result_path=\"./evaluation_results/attempt_1/regression/gradient_boosted_tree.json\"\n",
    "    )\n",
    "else:\n",
    "    print(\"Printing evaluation loaded from disk...\")\n",
    "    print_model_evaluation(\n",
    "        model_evaluation_path=\"./evaluation_results/attempt_1/regression/gradient_boosted_tree.json\"\n",
    "    )"
   ]
  },
  {
   "cell_type": "code",
   "execution_count": null,
   "metadata": {},
   "outputs": [],
   "source": [
    "if not model_exists(\n",
    "    TRAINED_MODELS_DIRS[\"Attempt 1\"][\"Regression\"][\"Gradient Boosted Tree\"]\n",
    "):\n",
    "    print(\"Saving Gradient Boosted Tree Regression model on disk...\")\n",
    "    cross_validated_models.bestModel.save(\n",
    "        \"./trained_models/attempt_1/regression/gradient_boosted_tree\"\n",
    "    )"
   ]
  },
  {
   "cell_type": "markdown",
   "metadata": {},
   "source": [
    "#### Random Forest Regression"
   ]
  },
  {
   "cell_type": "code",
   "execution_count": null,
   "metadata": {},
   "outputs": [],
   "source": [
    "from pyspark.ml.regression import RandomForestRegressor\n",
    "from pyspark.ml.regression import RandomForestRegressionModel\n",
    "\n",
    "PREDICTION_COL = \"attempt_1_regression_random_forest_predictions\"\n",
    "\n",
    "if not model_exists(\n",
    "    TRAINED_MODELS_DIRS[\"Attempt 1\"][\"Regression\"][\"Random Forest\"]\n",
    "):\n",
    "    print(\"Regression Random Forest model NOT found in disk, training...\")\n",
    "    \n",
    "    regression_evaluator_cv.setPredictionCol(PREDICTION_COL)\n",
    "    \n",
    "    estimator = RandomForestRegressor()\n",
    "\n",
    "    param_grid = (\n",
    "        ParamGridBuilder()\n",
    "        .addGrid(estimator.featuresCol, [FEATURES_COL])\n",
    "        .addGrid(estimator.labelCol, [REGRESSION_LABEL_COL])\n",
    "        .addGrid(estimator.predictionCol, [PREDICTION_COL])\n",
    "        .addGrid(estimator.maxDepth, [5, 24])\n",
    "        .addGrid(estimator.maxBins, [32, 64])\n",
    "        .addGrid(estimator.minInfoGain, [0, 0.1])\n",
    "        .addGrid(estimator.subsamplingRate, [0.5, 1])\n",
    "        .addGrid(estimator.lossType, [\"squared\", \"absolute\"])\n",
    "        .addGrid(estimator.numTrees, [20, 40])\n",
    "        .addGrid(\n",
    "            estimator.featureSubsetStrategy, \n",
    "            [\"auto\", \"onethird\", \"all\", \"log2\"]\n",
    "        )\n",
    "        .build()\n",
    "    )\n",
    "\n",
    "    cross_validated_models = learn_best_model(\n",
    "        estimator=estimator,\n",
    "        param_grid=param_grid,\n",
    "        evaluator_cv=regression_evaluator_cv\n",
    "    )\n",
    "else:\n",
    "    print(\"Regression Random Forest model found in disk, loading...\")\n",
    "    model = RandomForestRegressionModel.load(\n",
    "        TRAINED_MODELS_DIRS[\"Attempt 1\"][\"Regression\"][\"Random Forest\"]\n",
    "    )"
   ]
  },
  {
   "cell_type": "code",
   "execution_count": null,
   "metadata": {},
   "outputs": [],
   "source": [
    "if not model_exists(\n",
    "    TRAINED_MODELS_DIRS[\"Attempt 1\"][\"Regression\"][\"Random Forest\"]\n",
    "):\n",
    "    print(\n",
    "        \"Evaluating Random Forest model trained in previous cell...\"\n",
    "    )\n",
    "    evaluate_learning_models(\n",
    "        best_model=cross_validated_models.bestModel,\n",
    "        evaluators=get_evaluators(\n",
    "            cross_validated_models.bestModel, \n",
    "            label_col=REGRESSION_LABEL_COL, \n",
    "            prediction_col=PREDICTION_COL, \n",
    "            evaluation_metrics=REGRESSION_EVALUATION_METRICS\n",
    "        ),\n",
    "        save_training_result_path=\"./evaluation_results/attempt_1/regression/random_forest.json\"\n",
    "    )\n",
    "else:\n",
    "    print(\"Printing evaluation loaded from disk...\")\n",
    "    print_model_evaluation(\n",
    "        model_evaluation_path=\"./evaluation_results/attempt_1/regression/random_forest.json\"\n",
    "    )"
   ]
  },
  {
   "cell_type": "code",
   "execution_count": null,
   "metadata": {},
   "outputs": [],
   "source": [
    "if not model_exists(\n",
    "    TRAINED_MODELS_DIRS[\"Attempt 1\"][\"Regression\"][\"Random Forest\"]\n",
    "):\n",
    "    print(\"Saving Random Forest Regression model on disk...\")\n",
    "    cross_validated_models.bestModel.save(\n",
    "        \"./trained_models/attempt_1/regression/random_forest\"\n",
    "    )"
   ]
  },
  {
   "cell_type": "markdown",
   "metadata": {},
   "source": [
    "### Classification"
   ]
  },
  {
   "cell_type": "code",
   "execution_count": null,
   "metadata": {},
   "outputs": [],
   "source": [
    "classification_evaluator_cv.setLabelCol(CLASSIFICATION_LABEL_COL)"
   ]
  },
  {
   "cell_type": "code",
   "execution_count": null,
   "metadata": {},
   "outputs": [],
   "source": [
    "train_df, test_df = df.randomSplit([0.9, 0.1], seed=random_seed)"
   ]
  },
  {
   "cell_type": "markdown",
   "metadata": {},
   "source": [
    "#### Visualizations"
   ]
  },
  {
   "cell_type": "code",
   "execution_count": null,
   "metadata": {},
   "outputs": [],
   "source": [
    "plot_feature_distribution(\n",
    "    df.toPandas(), \n",
    "    CLASSIFICATION_LABEL_COL,\n",
    "    color=\"teal\",\n",
    "    n_cols=2,\n",
    "    figsize=(8,4)\n",
    ")"
   ]
  },
  {
   "cell_type": "markdown",
   "metadata": {},
   "source": [
    "In what follows comments:\n",
    "\n",
    "* **Naive approach**: sligh imbalancement against the low partition of the table.\n",
    "* **Compelx approach**: imbalancement in favor of the mid-table teams, confirming of course the visualizations in the beginning of the notebook."
   ]
  },
  {
   "cell_type": "markdown",
   "metadata": {},
   "source": [
    "#### SVM Classifier"
   ]
  },
  {
   "cell_type": "code",
   "execution_count": null,
   "metadata": {},
   "outputs": [],
   "source": [
    "from pyspark.ml.classification import OneVsRest\n",
    "from pyspark.ml.classification import OneVsRestModel\n",
    "from pyspark.ml.classification import LinearSVC\n",
    "\n",
    "PREDICTION_COL = \"attempt_1_classification_svm_predictions\"\n",
    "\n",
    "if not model_exists(\n",
    "    TRAINED_MODELS_DIRS[\"Attempt 1\"][\"Classification\"][\"SVM\"]\n",
    "):\n",
    "    print(\"SVM Classification model NOT found in disk, training...\")\n",
    "    classification_evaluator_cv.setPredictionCol(PREDICTION_COL)\n",
    "    \n",
    "    estimator = OneVsRest(\n",
    "        classifier=LinearSVC(\n",
    "            featuresCol=FEATURES_COL,\n",
    "            labelCol=CLASSIFICATION_LABEL_COL,\n",
    "            predictionCol=PREDICTION_COL,\n",
    "        ),\n",
    "        featuresCol=FEATURES_COL,\n",
    "        labelCol=CLASSIFICATION_LABEL_COL,\n",
    "        predictionCol=PREDICTION_COL\n",
    "    )\n",
    "\n",
    "    param_grid = (\n",
    "        ParamGridBuilder()\n",
    "        .addGrid(estimator.featuresCol, [FEATURES_COL])\n",
    "        .addGrid(estimator.labelCol, [CLASSIFICATION_LABEL_COL])\n",
    "        .addGrid(estimator.predictionCol, [PREDICTION_COL])\n",
    "        .build()\n",
    "    )\n",
    "\n",
    "    cross_validated_models = learn_best_model(\n",
    "        estimator=estimator,\n",
    "        param_grid=param_grid,\n",
    "        evaluator_cv=classification_evaluator_cv\n",
    "    )\n",
    "else:\n",
    "    print(\"SVM Classification model found in disk, loading...\")\n",
    "    model = OneVsRestModel.load(\n",
    "        TRAINED_MODELS_DIRS[\"Attempt 1\"][\"Classification\"][\"SVM\"]\n",
    "    )\n"
   ]
  },
  {
   "cell_type": "code",
   "execution_count": null,
   "metadata": {},
   "outputs": [],
   "source": [
    "if not model_exists(\n",
    "    TRAINED_MODELS_DIRS[\"Attempt 1\"][\"Classification\"][\"SVM\"]\n",
    "):\n",
    "    print(\n",
    "        \"Evaluating SVM Classifier model trained in previous cell...\"\n",
    "    )\n",
    "    evaluate_learning_models(\n",
    "        best_model=cross_validated_models.bestModel,\n",
    "        evaluators=get_evaluators(\n",
    "            cross_validated_models.bestModel, \n",
    "            label_col=CLASSIFICATION_LABEL_COL, \n",
    "            prediction_col=PREDICTION_COL, \n",
    "            evaluation_metrics=CLASSIFICATION_EVALUATION_METRICS\n",
    "        ),\n",
    "        save_training_result_path=\"./evaluation_results/attempt_1/classification/svm.json\"\n",
    "    )\n",
    "else:\n",
    "    print(\"Printing evaluation loaded from disk...\")\n",
    "    print_model_evaluation(\n",
    "        model_evaluation_path=\"./evaluation_results/attempt_1/classification/svm.json\"\n",
    "    )"
   ]
  },
  {
   "cell_type": "code",
   "execution_count": null,
   "metadata": {},
   "outputs": [],
   "source": [
    "if not model_exists(\n",
    "    TRAINED_MODELS_DIRS[\"Attempt 1\"][\"Classification\"][\"SVM\"]\n",
    "):\n",
    "    print(\"Saving SVM Classification model on disk...\")\n",
    "    cross_validated_models.bestModel.save(\n",
    "        \"./trained_models/attempt_1/classification/svm\"\n",
    "    )"
   ]
  },
  {
   "cell_type": "markdown",
   "metadata": {},
   "source": [
    "#### Logistic Regression"
   ]
  },
  {
   "cell_type": "code",
   "execution_count": null,
   "metadata": {},
   "outputs": [],
   "source": [
    "from pyspark.ml.classification import OneVsRest\n",
    "from pyspark.ml.classification import OneVsRestModel\n",
    "from pyspark.ml.classification import LogisticRegression\n",
    "\n",
    "PREDICTION_COL = \"attempt_1_classification_logistic_regression_predictions\"\n",
    "\n",
    "if not model_exists(\n",
    "    TRAINED_MODELS_DIRS[\"Attempt 1\"][\"Classification\"][\"Logistic Regression\"]\n",
    "):\n",
    "    print(\"Logistic Regression Classification model NOT found in disk, training...\")\n",
    "    classification_evaluator_cv.setPredictionCol(PREDICTION_COL)\n",
    "    \n",
    "    estimator = OneVsRest(\n",
    "        classifier=LogisticRegression(\n",
    "            featuresCol=FEATURES_COL,\n",
    "            labelCol=CLASSIFICATION_LABEL_COL,\n",
    "            predictionCol=PREDICTION_COL,\n",
    "        ),\n",
    "        featuresCol=FEATURES_COL,\n",
    "        labelCol=CLASSIFICATION_LABEL_COL,\n",
    "        predictionCol=PREDICTION_COL\n",
    "    )\n",
    "\n",
    "    param_grid = (\n",
    "        ParamGridBuilder()\n",
    "        .addGrid(estimator.featuresCol, [FEATURES_COL])\n",
    "        .addGrid(estimator.labelCol, [CLASSIFICATION_LABEL_COL])\n",
    "        .addGrid(estimator.predictionCol, [PREDICTION_COL])\n",
    "        .build()\n",
    "    )\n",
    "\n",
    "    cross_validated_models = learn_best_model(\n",
    "        estimator=estimator,\n",
    "        param_grid=param_grid,\n",
    "        evaluator_cv=classification_evaluator_cv\n",
    "    )\n",
    "else:\n",
    "    print(\"Logistic Regression Classification model found in disk, loading...\")\n",
    "    model = OneVsRestModel.load(\n",
    "        TRAINED_MODELS_DIRS[\"Attempt 1\"][\"Classification\"][\"Logistic Regression\"]\n",
    "    )\n"
   ]
  },
  {
   "cell_type": "code",
   "execution_count": null,
   "metadata": {},
   "outputs": [],
   "source": [
    "if not model_exists(\n",
    "    TRAINED_MODELS_DIRS[\"Attempt 1\"][\"Classification\"][\"Logistic Regression\"]\n",
    "):\n",
    "    print(\n",
    "        \"Evaluating Logistic Regression Classifier model trained in previous cell...\"\n",
    "    )\n",
    "    evaluate_learning_models(\n",
    "        best_model=cross_validated_models.bestModel,\n",
    "        evaluators=get_evaluators(\n",
    "            cross_validated_models.bestModel, \n",
    "            label_col=CLASSIFICATION_LABEL_COL, \n",
    "            prediction_col=PREDICTION_COL, \n",
    "            evaluation_metrics=CLASSIFICATION_EVALUATION_METRICS\n",
    "        ),\n",
    "        save_training_result_path=\"./evaluation_results/attempt_1/classification/logistic_regression.json\"\n",
    "    )\n",
    "else:\n",
    "    print(\"Printing evaluation loaded from disk...\")\n",
    "    print_model_evaluation(\n",
    "        model_evaluation_path=\"./evaluation_results/attempt_1/classification/logistic_regression.json\"\n",
    "    )"
   ]
  },
  {
   "cell_type": "code",
   "execution_count": null,
   "metadata": {},
   "outputs": [],
   "source": [
    "if not model_exists(\n",
    "    TRAINED_MODELS_DIRS[\"Attempt 1\"][\"Classification\"][\"Logistic Regression\"]\n",
    "):\n",
    "    print(\"Saving Logistic Regression Classification model on disk...\")\n",
    "    cross_validated_models.bestModel.save(\n",
    "        \"./trained_models/attempt_1/classification/logistic_regression\"\n",
    "    )"
   ]
  },
  {
   "cell_type": "markdown",
   "metadata": {},
   "source": [
    "#### Decision Tree"
   ]
  },
  {
   "cell_type": "code",
   "execution_count": null,
   "metadata": {},
   "outputs": [],
   "source": [
    "from pyspark.ml.classification import DecisionTreeClassifier\n",
    "from pyspark.ml.classification import DecisionTreeClassificationModel\n",
    "\n",
    "PREDICTION_COL = \"attempt_1_classification_decision_tree_predictions\"\n",
    "\n",
    "if not model_exists(\n",
    "    TRAINED_MODELS_DIRS[\"Attempt 1\"][\"Classification\"][\"Decision Tree\"]\n",
    "):\n",
    "    print(\"Classification Decision Tree model NOT found in disk, training...\")\n",
    "    classification_evaluator_cv.setPredictionCol(PREDICTION_COL)\n",
    "    \n",
    "    estimator = DecisionTreeClassifier()\n",
    "\n",
    "    param_grid = (\n",
    "        ParamGridBuilder()\n",
    "        .addGrid(estimator.featuresCol, [FEATURES_COL])\n",
    "        .addGrid(estimator.labelCol, [CLASSIFICATION_LABEL_COL])\n",
    "        .addGrid(estimator.predictionCol, [PREDICTION_COL])\n",
    "        .addGrid(estimator.maxDepth, [5, 24])\n",
    "        .addGrid(estimator.maxBins, [16, 32, 64])\n",
    "        .addGrid(estimator.minInfoGain, [0, 0.1])\n",
    "        .build()\n",
    "    )\n",
    "\n",
    "    cross_validated_models = learn_best_model(\n",
    "        estimator=estimator,\n",
    "        param_grid=param_grid,\n",
    "        evaluator_cv=classification_evaluator_cv\n",
    "    )\n",
    "else:\n",
    "    print(\"Classification Decision Tree model found in disk, loading...\")\n",
    "    model = DecisionTreeClassificationModel.load(\n",
    "        TRAINED_MODELS_DIRS[\"Attempt 1\"][\"Classification\"][\"Decision Tree\"]\n",
    "    )\n",
    "    evaluators = get_evaluators(\n",
    "        model, \n",
    "        label_col=CLASSIFICATION_LABEL_COL, \n",
    "        prediction_col=PREDICTION_COL, \n",
    "        evaluation_metrics=CLASSIFICATION_EVALUATION_METRICS\n",
    "    )"
   ]
  },
  {
   "cell_type": "code",
   "execution_count": null,
   "metadata": {},
   "outputs": [],
   "source": [
    "if not model_exists(\n",
    "    TRAINED_MODELS_DIRS[\"Attempt 1\"][\"Classification\"][\"Decision Tree\"]\n",
    "):\n",
    "    print(\n",
    "        \"Evaluating Decision Tree model trained in previous cell...\"\n",
    "    )\n",
    "    evaluate_learning_models(\n",
    "        best_model=cross_validated_models.bestModel,\n",
    "        evaluators=get_evaluators(\n",
    "            cross_validated_models.bestModel, \n",
    "            label_col=CLASSIFICATION_LABEL_COL, \n",
    "            prediction_col=PREDICTION_COL, \n",
    "            evaluation_metrics=CLASSIFICATION_EVALUATION_METRICS\n",
    "        ),\n",
    "        save_training_result_path=\"./evaluation_results/attempt_1/classification/decision_tree.json\"\n",
    "    )\n",
    "else:\n",
    "    print(\"Printing evaluation loaded from disk...\")\n",
    "    print_model_evaluation(\n",
    "        model_evaluation_path=\"./evaluation_results/attempt_1/classification/decision_tree.json\"\n",
    "    )"
   ]
  },
  {
   "cell_type": "code",
   "execution_count": null,
   "metadata": {},
   "outputs": [],
   "source": [
    "if not model_exists(\n",
    "    TRAINED_MODELS_DIRS[\"Attempt 1\"][\"Classification\"][\"Decision Tree\"]\n",
    "):\n",
    "    print(\"Saving Decision Tree model on disk...\")\n",
    "    cross_validated_models.bestModel.save(\n",
    "        \"./trained_models/attempt_1/classification/decision_tree\"\n",
    "    )"
   ]
  },
  {
   "cell_type": "markdown",
   "metadata": {},
   "source": [
    "#### Random Forest"
   ]
  },
  {
   "cell_type": "code",
   "execution_count": null,
   "metadata": {},
   "outputs": [],
   "source": [
    "from pyspark.ml.classification import RandomForestClassifier\n",
    "from pyspark.ml.classification import RandomForestClassificationModel\n",
    "\n",
    "PREDICTION_COL = \"attempt_1_classification_random_forest_predictions\"\n",
    "\n",
    "if not model_exists(\n",
    "    TRAINED_MODELS_DIRS[\"Attempt 1\"][\"Classification\"][\"Random Forest\"]\n",
    "):\n",
    "    print(\"Classification Random Forest model NOT found in disk, training...\")\n",
    "    \n",
    "    classification_evaluator_cv.setPredictionCol(PREDICTION_COL)\n",
    "    \n",
    "    estimator = RandomForestClassifier()\n",
    "\n",
    "    param_grid = (\n",
    "        ParamGridBuilder()\n",
    "        .addGrid(estimator.featuresCol, [FEATURES_COL])\n",
    "        .addGrid(estimator.labelCol, [CLASSIFICATION_LABEL_COL])\n",
    "        .addGrid(estimator.predictionCol, [PREDICTION_COL])\n",
    "        .addGrid(estimator.maxDepth, [5, 24])\n",
    "        .addGrid(estimator.maxBins, [32, 64])\n",
    "        .addGrid(estimator.minInfoGain, [0, 0.1])\n",
    "        .addGrid(estimator.subsamplingRate, [0.5, 1])\n",
    "        .addGrid(estimator.lossType, [\"squared\", \"absolute\"])\n",
    "        .addGrid(estimator.numTrees, [20, 40])\n",
    "        .addGrid(estimator.featureSubsetStrategy, [\"auto\", \"onethird\", \"all\", \"log2\"])\n",
    "        .build()\n",
    "    )\n",
    "\n",
    "    cross_validated_models = learn_best_model(\n",
    "        estimator=estimator,\n",
    "        param_grid=param_grid,\n",
    "        evaluator_cv=classification_evaluator_cv\n",
    "    )\n",
    "else:\n",
    "    print(\"Classification Random Forest model found in disk, loading...\")\n",
    "    model = RandomForestClassificationModel.load(\n",
    "        TRAINED_MODELS_DIRS[\"Attempt 1\"][\"Classification\"][\"Random Forest\"]\n",
    "    )"
   ]
  },
  {
   "cell_type": "code",
   "execution_count": null,
   "metadata": {},
   "outputs": [],
   "source": [
    "if not model_exists(\n",
    "    TRAINED_MODELS_DIRS[\"Attempt 1\"][\"Classification\"][\"Random Forest\"]\n",
    "):\n",
    "    print(\n",
    "        \"Evaluating Random Forest model trained in previous cell...\"\n",
    "    )\n",
    "    evaluate_learning_models(\n",
    "        best_model=cross_validated_models.bestModel,\n",
    "        evaluators=get_evaluators(\n",
    "            cross_validated_models.bestModel, \n",
    "            label_col=CLASSIFICATION_LABEL_COL, \n",
    "            prediction_col=PREDICTION_COL, \n",
    "            evaluation_metrics=CLASSIFICATION_EVALUATION_METRICS\n",
    "        ),\n",
    "        save_training_result_path=\"./evaluation_results/attempt_1/classification/random_forest.json\"\n",
    "    )\n",
    "else:\n",
    "    print(\"Printing evaluation loaded from disk...\")\n",
    "    print_model_evaluation(\n",
    "        model_evaluation_path=\"./evaluation_results/attempt_1/classification/random_forest.json\"\n",
    "    )"
   ]
  },
  {
   "cell_type": "code",
   "execution_count": null,
   "metadata": {},
   "outputs": [],
   "source": [
    "if not model_exists(\n",
    "    TRAINED_MODELS_DIRS[\"Attempt 1\"][\"Classification\"][\"Random Forest\"]\n",
    "):\n",
    "    print(\"Saving Random Forest Classification model on disk...\")\n",
    "    cross_validated_models.bestModel.save(\n",
    "        \"./trained_models/attempt_1/classification/random_forest\"\n",
    "    )"
   ]
  },
  {
   "cell_type": "markdown",
   "metadata": {},
   "source": [
    "#### MLP"
   ]
  },
  {
   "cell_type": "code",
   "execution_count": null,
   "metadata": {},
   "outputs": [],
   "source": [
    "from pyspark.ml.classification import MultilayerPerceptronClassifier\n",
    "from pyspark.ml.classification import MultilayerPerceptronClassificationModel\n",
    "\n",
    "PREDICTION_COL = \"attempt_1_classification_mlp_predictions\"\n",
    "\n",
    "if not model_exists(\n",
    "    TRAINED_MODELS_DIRS[\"Attempt 1\"][\"Classification\"][\"MLP\"]\n",
    "):\n",
    "    print(\"Classification MLP model NOT found in disk, training...\")\n",
    "    \n",
    "    classification_evaluator_cv.setPredictionCol(PREDICTION_COL)\n",
    "    \n",
    "    estimator = MultilayerPerceptronClassifier()\n",
    "\n",
    "    param_grid = (\n",
    "        ParamGridBuilder()\n",
    "        .addGrid(estimator.featuresCol, [FEATURES_COL])\n",
    "        .addGrid(estimator.labelCol, [CLASSIFICATION_LABEL_COL])\n",
    "        .addGrid(estimator.predictionCol, [PREDICTION_COL])\n",
    "        .addGrid(estimator.layers, [[24, NUM_MACRO_PLACES]])\n",
    "        .addGrid(estimator.solver, [\"gd\"])\n",
    "        .build()\n",
    "    )\n",
    "\n",
    "    cross_validated_models = learn_best_model(\n",
    "        estimator=estimator,\n",
    "        param_grid=param_grid,\n",
    "        evaluator_cv=classification_evaluator_cv\n",
    "    )\n",
    "else:\n",
    "    print(\"Classification MLP model found in disk, loading...\")\n",
    "    model = MultilayerPerceptronClassificationModel.load(\n",
    "        TRAINED_MODELS_DIRS[\"Attempt 1\"][\"Classification\"][\"MLP\"]\n",
    "    )"
   ]
  },
  {
   "cell_type": "code",
   "execution_count": null,
   "metadata": {},
   "outputs": [],
   "source": [
    "if not model_exists(\n",
    "    TRAINED_MODELS_DIRS[\"Attempt 1\"][\"Classification\"][\"MLP\"]\n",
    "):\n",
    "    print(\n",
    "        \"Evaluating MLP model trained in previous cell...\"\n",
    "    )\n",
    "    evaluate_learning_models(\n",
    "        best_model=cross_validated_models.bestModel,\n",
    "        evaluators=get_evaluators(\n",
    "            cross_validated_models.bestModel, \n",
    "            label_col=CLASSIFICATION_LABEL_COL, \n",
    "            prediction_col=PREDICTION_COL, \n",
    "            evaluation_metrics=CLASSIFICATION_EVALUATION_METRICS\n",
    "        ),\n",
    "        save_training_result_path=\"./evaluation_results/attempt_1/classification/mlp.json\"\n",
    "    )\n",
    "else:\n",
    "    print(\"Printing evaluation loaded from disk...\")\n",
    "    print_model_evaluation(\n",
    "        model_evaluation_path=\"./evaluation_results/attempt_1/classification/mlp.json\"\n",
    "    )"
   ]
  },
  {
   "cell_type": "code",
   "execution_count": null,
   "metadata": {},
   "outputs": [],
   "source": [
    "if not model_exists(\n",
    "    TRAINED_MODELS_DIRS[\"Attempt 1\"][\"Classification\"][\"MLP\"]\n",
    "):\n",
    "    print(\"Saving MLP Classification model on disk...\")\n",
    "    cross_validated_models.bestModel.save(\n",
    "        \"./trained_models/attempt_1/classification/mlp\"\n",
    "    )"
   ]
  },
  {
   "cell_type": "markdown",
   "metadata": {},
   "source": [
    "# Attempt 2: \"less is more\"\n",
    "\n",
    "Ok, considering all features gives trash results.\n",
    "\n",
    "What if we embrace the \"less is more idea\" and try to improve the results by means of using less features?\n",
    "\n",
    "Nevertheless, feature correlation is very high, so, intrinsicly, it already did NOT make much sense to consider them all."
   ]
  },
  {
   "cell_type": "markdown",
   "metadata": {},
   "source": [
    "## Univariate Feature Selection"
   ]
  },
  {
   "cell_type": "markdown",
   "metadata": {},
   "source": [
    "Log scaling reduces skewedness of \"avg(mentality_penalties)\" feature BUT it increases the skewedness of all the other features.\n",
    "The other scalings (z-score and min-max) do NOT appear to be different than the \"raw\" data distribution.\n",
    "\n",
    "For this reason and due to the limited amount of resources available on Google Colab, we decided to stick with the min-max scaled data.\n",
    "In fact, the min-max scaling places \"for free\" all the features in the same scale, which is a very important consideration for SVM, which will be used in the upcoming sections"
   ]
  },
  {
   "cell_type": "code",
   "execution_count": null,
   "metadata": {},
   "outputs": [],
   "source": [
    "from pyspark.ml.feature import UnivariateFeatureSelector"
   ]
  },
  {
   "cell_type": "code",
   "execution_count": null,
   "metadata": {},
   "outputs": [],
   "source": [
    "selector = UnivariateFeatureSelector(\n",
    "    featuresCol=\"all_vec_min_max\",\n",
    "    labelCol=TARGET_VARIABLE, \n",
    "    selectionMode=\"percentile\"\n",
    ").setFeatureType(\"continuous\").setLabelType(\n",
    "    \"categorical\"\n",
    ").setSelectionThreshold(0.08)\n",
    "\n",
    "NUM_FEATURES = [6, 12]\n",
    "THRESHOLDS = [num_features/24 for num_features in NUM_FEATURES]\n",
    "UFS_FEATURES = [\n",
    "    f\"all_vec_min_max_ufs_{num_features}\" for num_features in NUM_FEATURES\n",
    "]"
   ]
  },
  {
   "cell_type": "code",
   "execution_count": null,
   "metadata": {},
   "outputs": [],
   "source": [
    "# df = df.drop(\"all_vec_min_max_ufs_12\",\"all_vec_min_max_ufs_4\",\"all_vec_min_max_ufs_6\",\"all_vec_min_max_ufs_8\")"
   ]
  },
  {
   "cell_type": "code",
   "execution_count": null,
   "metadata": {},
   "outputs": [],
   "source": [
    "fit_result = dict()\n",
    "\n",
    "for num_features, thr, ufs_features in zip(\n",
    "    NUM_FEATURES, THRESHOLDS, UFS_FEATURES\n",
    "):\n",
    "    selector.setSelectionThreshold(thr)\n",
    "    selector.setOutputCol(ufs_features),\n",
    "    fit_result[str(num_features)] = selector.fit(df)\n",
    "    df = fit_result[str(num_features)].transform(df)"
   ]
  },
  {
   "cell_type": "code",
   "execution_count": null,
   "metadata": {},
   "outputs": [],
   "source": [
    "selected_features = dict()\n",
    "for num_features in NUM_FEATURES:\n",
    "    selected_features[str(num_features)] = list(\n",
    "        map(\n",
    "            lambda i: ALL_FEATURES[i], fit_result[str(num_features)].selectedFeatures\n",
    "        )\n",
    "    )\n",
    "    print(f\"Univariate Feature Selection selected these {num_features} features:\\n{selected_features[str(num_features)]}\")"
   ]
  },
  {
   "cell_type": "code",
   "execution_count": null,
   "metadata": {},
   "outputs": [],
   "source": [
    "pdf = df.toPandas()"
   ]
  },
  {
   "cell_type": "code",
   "execution_count": null,
   "metadata": {},
   "outputs": [],
   "source": [
    "scatter_plot(\n",
    "    x=pdf[\"all_vec_min_max_ufs_2\"].map(lambda x: x[0]),\n",
    "    y=pdf[\"all_vec_min_max_ufs_2\"].map(lambda x: x[1]),\n",
    "    c=pdf[\"points\"],\n",
    "    x_label=\"Feature 0\",\n",
    "    y_label=\"Feature 1\",\n",
    ")"
   ]
  },
  {
   "cell_type": "code",
   "execution_count": null,
   "metadata": {},
   "outputs": [],
   "source": [
    "max_key = list(selected_features.keys())[-1]\n",
    "\n",
    "plot_feature_distribution(\n",
    "    pdf,\n",
    "    selected_features[max_key], # last dictionary entry\n",
    "    figsize=(10,4),\n",
    "    color=\"orange\",\n",
    "    n_cols=(int(max_key) // 2)\n",
    ")"
   ]
  },
  {
   "cell_type": "markdown",
   "metadata": {},
   "source": [
    "### Feature-target relationship"
   ]
  },
  {
   "cell_type": "code",
   "execution_count": null,
   "metadata": {},
   "outputs": [],
   "source": [
    "plot_feature_target_relation(\n",
    "    pdf,\n",
    "    selected_features[max_key],\n",
    "    TARGET_VARIABLE,\n",
    "    figsize=(10,8), \n",
    "    color=COLOR_MIN_MAX,\n",
    "    n_cols=(int(max_key) // 4)\n",
    ")"
   ]
  },
  {
   "cell_type": "markdown",
   "metadata": {},
   "source": [
    "### Feature correlation"
   ]
  },
  {
   "cell_type": "markdown",
   "metadata": {},
   "source": [
    "look at it from the original pearson matrix"
   ]
  },
  {
   "cell_type": "markdown",
   "metadata": {},
   "source": [
    "state that these data distribs are trash.\n",
    "\n",
    "So, for this reason, talk about overall and value."
   ]
  },
  {
   "cell_type": "markdown",
   "metadata": {},
   "source": [
    "## Overall as feature (min-max normalized)"
   ]
  },
  {
   "cell_type": "markdown",
   "metadata": {},
   "source": [
    "Since the features are so correlated and performances of attempt 1 are trash, why not considering just the overall as a feature?\n",
    "\n",
    "Maybe, we're lucky and the overall captures some other characteristics thay may steer the prediction a little bit more"
   ]
  },
  {
   "cell_type": "code",
   "execution_count": null,
   "metadata": {},
   "outputs": [],
   "source": [
    "OVERALL = [\"avg(overall)\"]\n",
    "\n",
    "COLOR_OVERALL_MIN_MAX = \"green\""
   ]
  },
  {
   "cell_type": "code",
   "execution_count": null,
   "metadata": {},
   "outputs": [],
   "source": [
    "assembler = VectorAssembler(\n",
    "    inputCols=OVERALL, outputCol=\"overall_vec\"\n",
    ")\n",
    "\n",
    "# min_max_df = assembler.transform(min_max_df)\n",
    "df = assembler.transform(df)"
   ]
  },
  {
   "cell_type": "code",
   "execution_count": null,
   "metadata": {},
   "outputs": [],
   "source": [
    "OVERALL_MIN_MAX = [\"avg(overall)_min_max\"]"
   ]
  },
  {
   "cell_type": "code",
   "execution_count": null,
   "metadata": {},
   "outputs": [],
   "source": [
    "from pyspark.ml.feature import MinMaxScaler\n",
    "\n",
    "scaler = MinMaxScaler(\n",
    "    inputCol=\"overall_vec\", \n",
    "    outputCol=\"overall_vec_min_max\"\n",
    ")"
   ]
  },
  {
   "cell_type": "code",
   "execution_count": null,
   "metadata": {},
   "outputs": [],
   "source": [
    "df = scaler.fit(df).transform(df)"
   ]
  },
  {
   "cell_type": "code",
   "execution_count": null,
   "metadata": {},
   "outputs": [],
   "source": [
    "pdf = df.toPandas()\n",
    "\n",
    "pdf = feature_vec_to_cols(\n",
    "    pdf=pdf,\n",
    "    vec=\"overall_vec_min_max\",\n",
    "    columns=OVERALL_MIN_MAX\n",
    ")"
   ]
  },
  {
   "cell_type": "markdown",
   "metadata": {},
   "source": [
    "### Feature-target relationship"
   ]
  },
  {
   "cell_type": "code",
   "execution_count": null,
   "metadata": {},
   "outputs": [],
   "source": [
    "plot_feature_target_relation(\n",
    "    pdf,\n",
    "    OVERALL_MIN_MAX,\n",
    "    TARGET_VARIABLE,\n",
    "    figsize=(10,4),\n",
    "    color=\"chocolate\",\n",
    "    n_cols=1\n",
    ")"
   ]
  },
  {
   "cell_type": "markdown",
   "metadata": {},
   "source": [
    "### Feature distribution"
   ]
  },
  {
   "cell_type": "code",
   "execution_count": null,
   "metadata": {},
   "outputs": [],
   "source": [
    "plot_feature_distribution(\n",
    "    pdf,\n",
    "    OVERALL_MIN_MAX,\n",
    "    color=\"chocolate\",\n",
    "    figsize=(10,4),\n",
    "    n_cols=1\n",
    ")"
   ]
  },
  {
   "cell_type": "markdown",
   "metadata": {},
   "source": [
    "## Value as feature (min-max normalized)"
   ]
  },
  {
   "cell_type": "markdown",
   "metadata": {},
   "source": [
    "Oh, we found this paper: \n",
    "\n",
    "So, why not try their approach as well?"
   ]
  },
  {
   "cell_type": "code",
   "execution_count": null,
   "metadata": {},
   "outputs": [],
   "source": [
    "VALUE = [\"avg(value)\"]\n",
    "\n",
    "COLOR_VALUE_MIN_MAX = \"coral\"\n",
    "VALUE_MIN_MAX = [\"avg(value)_min_max\"]"
   ]
  },
  {
   "cell_type": "code",
   "execution_count": null,
   "metadata": {},
   "outputs": [],
   "source": [
    "assembler = VectorAssembler(\n",
    "    inputCols=VALUE, outputCol=\"value_vec\"\n",
    ")\n",
    "\n",
    "df = assembler.transform(df)"
   ]
  },
  {
   "cell_type": "code",
   "execution_count": null,
   "metadata": {},
   "outputs": [],
   "source": [
    "scaler = MinMaxScaler(\n",
    "    inputCol=\"value_vec\", \n",
    "    outputCol=\"value_vec_min_max\"\n",
    ")"
   ]
  },
  {
   "cell_type": "code",
   "execution_count": null,
   "metadata": {},
   "outputs": [],
   "source": [
    "df = scaler.fit(df).transform(df)"
   ]
  },
  {
   "cell_type": "code",
   "execution_count": null,
   "metadata": {},
   "outputs": [],
   "source": [
    "pdf = df.toPandas()\n",
    "pdf = feature_vec_to_cols(\n",
    "    pdf=pdf,\n",
    "    vec=\"value_vec_min_max\",\n",
    "    columns=VALUE_MIN_MAX\n",
    ")"
   ]
  },
  {
   "cell_type": "markdown",
   "metadata": {},
   "source": [
    "### Feature-target relationship"
   ]
  },
  {
   "cell_type": "code",
   "execution_count": null,
   "metadata": {},
   "outputs": [],
   "source": [
    "plot_feature_target_relation(\n",
    "    pdf,\n",
    "    VALUE_MIN_MAX,\n",
    "    TARGET_VARIABLE,\n",
    "    figsize=(10,4),\n",
    "    color=COLOR_VALUE_MIN_MAX,\n",
    "    n_cols=1\n",
    ")"
   ]
  },
  {
   "cell_type": "markdown",
   "metadata": {},
   "source": [
    "Look, they are basically the same. In fact, if we check their correlation, we get... [high correlation on pearson]"
   ]
  },
  {
   "cell_type": "markdown",
   "metadata": {},
   "source": [
    "### Feature distribution"
   ]
  },
  {
   "cell_type": "code",
   "execution_count": null,
   "metadata": {},
   "outputs": [],
   "source": [
    "plot_feature_distribution(\n",
    "    pdf,\n",
    "    [\"avg(value)\"],\n",
    "    color=COLOR_VALUE_MIN_MAX,\n",
    "    figsize=(10,4),\n",
    "    n_cols=1\n",
    ")"
   ]
  },
  {
   "cell_type": "markdown",
   "metadata": {},
   "source": [
    "Observe that there is a lot of skewness. We already know that the min_max normalization has the same exact curve.\n",
    "\n",
    "Let's try to see what happens by applying a $log_2$ transformation."
   ]
  },
  {
   "cell_type": "code",
   "execution_count": null,
   "metadata": {},
   "outputs": [],
   "source": [
    "df = df.withColumn(\"value_log\", to_log_UDF(\"avg(value)\"))\n",
    "pdf = df.toPandas()"
   ]
  },
  {
   "cell_type": "code",
   "execution_count": null,
   "metadata": {},
   "outputs": [],
   "source": [
    "plot_feature_distribution(\n",
    "    pdf,\n",
    "    [\"value_log\"],\n",
    "    color=COLOR_VALUE_MIN_MAX,\n",
    "    figsize=(10,4),\n",
    "    n_cols=1\n",
    ")"
   ]
  },
  {
   "cell_type": "code",
   "execution_count": null,
   "metadata": {},
   "outputs": [],
   "source": [
    "assembler = VectorAssembler(inputCols=[\"value_log\"], outputCol=\"value_log_vec\")\n",
    "df = assembler.transform(df)\n",
    "\n",
    "scaler = MinMaxScaler(\n",
    "    inputCol=\"value_log_vec\", \n",
    "    outputCol=\"value_log_vec_min_max\"\n",
    ")\n",
    "\n",
    "df = scaler.fit(df).transform(df)\n",
    "pdf = df.toPandas()"
   ]
  },
  {
   "cell_type": "code",
   "execution_count": null,
   "metadata": {},
   "outputs": [],
   "source": [
    "pdf = feature_vec_to_cols(\n",
    "    pdf=pdf,\n",
    "    vec=\"value_log_vec_min_max\",\n",
    "    columns=[\"value_log_min_max\"]\n",
    ")\n",
    "\n",
    "plot_feature_distribution(\n",
    "    pdf,\n",
    "    [\"value_log_min_max\"],\n",
    "    color=COLOR_VALUE_MIN_MAX,\n",
    "    figsize=(10,4),\n",
    "    n_cols=1\n",
    ")"
   ]
  },
  {
   "cell_type": "markdown",
   "metadata": {},
   "source": [
    "Hint at a very high correlation, then show it with pearson matrix..."
   ]
  },
  {
   "cell_type": "code",
   "execution_count": null,
   "metadata": {},
   "outputs": [],
   "source": [
    "pdf = feature_vec_to_cols(\n",
    "    pdf=pdf,\n",
    "    vec=\"overall_vec_min_max\",\n",
    "    columns=OVERALL_MIN_MAX\n",
    ")"
   ]
  },
  {
   "cell_type": "code",
   "execution_count": null,
   "metadata": {},
   "outputs": [],
   "source": [
    "pdf.columns"
   ]
  },
  {
   "cell_type": "code",
   "execution_count": null,
   "metadata": {},
   "outputs": [],
   "source": [
    "plot_correlation_matrix(\n",
    "    pdf, \n",
    "    [\"avg(overall)_min_max\", \"value_log_min_max\"],\n",
    "    figsize=(8,4)\n",
    ")"
   ]
  },
  {
   "cell_type": "markdown",
   "metadata": {},
   "source": [
    "Comment this correlation, and move on with life"
   ]
  },
  {
   "cell_type": "markdown",
   "metadata": {},
   "source": [
    "## Learning for attempt 2"
   ]
  },
  {
   "cell_type": "markdown",
   "metadata": {},
   "source": [
    "*[\n",
    "    state that via hyperparam grid we'll set the feature column, meaning that we'll try to train the models on all of the attemps\n",
    "\n",
    "[state expected results, according to correlations and similar stuff]\n",
    "\n",
    "]"
   ]
  },
  {
   "cell_type": "code",
   "execution_count": null,
   "metadata": {},
   "outputs": [],
   "source": [
    "train_df, test_df = df.randomSplit([0.9, 0.1], seed=random_seed)\n",
    "\n",
    "FEATURES_COL = [\"value_log_vec_min_max\"] + UFS_FEATURES\n"
   ]
  },
  {
   "cell_type": "markdown",
   "metadata": {},
   "source": [
    "### Regression"
   ]
  },
  {
   "cell_type": "code",
   "execution_count": null,
   "metadata": {},
   "outputs": [],
   "source": [
    "regression_evaluator_cv.setLabelCol(REGRESSION_LABEL_COL)"
   ]
  },
  {
   "cell_type": "markdown",
   "metadata": {},
   "source": [
    "#### Linear Regression"
   ]
  },
  {
   "cell_type": "code",
   "execution_count": null,
   "metadata": {},
   "outputs": [],
   "source": [
    "from pyspark.ml.regression import LinearRegression\n",
    "from pyspark.ml.regression import LinearRegressionModel\n",
    "\n",
    "PREDICTION_COL = \"attempt_2_regression_linear_regression_predictions\"\n",
    "\n",
    "if not model_exists(\n",
    "    TRAINED_MODELS_DIRS[\"Attempt 2\"][\"Regression\"][\"Linear Regression\"]\n",
    "):\n",
    "    print(\"Linear Regression model NOT found in disk, training...\")\n",
    "    regression_evaluator_cv.setPredictionCol(PREDICTION_COL)\n",
    "    \n",
    "    estimator = LinearRegression()\n",
    "\n",
    "    linear_regression_param_grid = (\n",
    "        ParamGridBuilder()\n",
    "        .addGrid(estimator.featuresCol, FEATURES_COL)\n",
    "        .addGrid(estimator.labelCol, [REGRESSION_LABEL_COL])\n",
    "        .addGrid(estimator.predictionCol, [PREDICTION_COL])\n",
    "        .addGrid(estimator.regParam, [0.0, 0.001, 0.01, 0.1, 0.5, 1])\n",
    "        .addGrid(estimator.solver, [\"auto\", \"normal\"])\n",
    "        .addGrid(estimator.fitIntercept, [True, False])\n",
    "        .addGrid(estimator.elasticNetParam, [0.0, 0.5, 1.0])\n",
    "        .build()\n",
    "    )\n",
    "\n",
    "    cross_validated_models = learn_best_model(\n",
    "        estimator=estimator,\n",
    "        param_grid=linear_regression_param_grid,\n",
    "        evaluator_cv=regression_evaluator_cv\n",
    "    )\n",
    "else:\n",
    "    print(\"Linear Regression model found in disk, loading...\")\n",
    "    model = LinearRegressionModel.load(\n",
    "        TRAINED_MODELS_DIRS[\"Attempt 2\"][\"Regression\"][\"Linear Regression\"]\n",
    "    )"
   ]
  },
  {
   "cell_type": "code",
   "execution_count": null,
   "metadata": {},
   "outputs": [],
   "source": [
    "if not model_exists(\n",
    "    TRAINED_MODELS_DIRS[\"Attempt 2\"][\"Regression\"][\"Linear Regression\"]\n",
    "):\n",
    "    print(\"Evaluating Linear Regression model trained in previous cell...\")\n",
    "    evaluate_learning_models(\n",
    "        best_model=cross_validated_models.bestModel,\n",
    "        evaluators=get_evaluators(\n",
    "            cross_validated_models.bestModel, \n",
    "            label_col=REGRESSION_LABEL_COL, \n",
    "            prediction_col=PREDICTION_COL, \n",
    "            evaluation_metrics=REGRESSION_EVALUATION_METRICS\n",
    "        ),\n",
    "        save_training_result_path=\"./evaluation_results/attempt_2/regression/linear_regression.json\"\n",
    "    )\n",
    "else:\n",
    "    print(\"Printing evaluation loaded from disk...\")\n",
    "    print_model_evaluation(\n",
    "        model_evaluation_path=\"./evaluation_results/attempt_2/regression/linear_regression.json\"\n",
    "    )"
   ]
  },
  {
   "cell_type": "code",
   "execution_count": null,
   "metadata": {},
   "outputs": [],
   "source": [
    "if not model_exists(\n",
    "    TRAINED_MODELS_DIRS[\"Attempt 2\"][\"Regression\"][\"Linear Regression\"]\n",
    "):\n",
    "    print(\"Saving Linear Regression model on disk...\")\n",
    "    cross_validated_models.bestModel.save(\n",
    "        \"./trained_models/attempt_2/regression/linear_regression\"\n",
    "    )"
   ]
  },
  {
   "cell_type": "markdown",
   "metadata": {},
   "source": [
    "#### Prediction Tree"
   ]
  },
  {
   "cell_type": "code",
   "execution_count": null,
   "metadata": {},
   "outputs": [],
   "source": [
    "from pyspark.ml.regression import DecisionTreeRegressor\n",
    "from pyspark.ml.regression import DecisionTreeRegressionModel\n",
    "\n",
    "PREDICTION_COL = \"attempt_2_regression_decision_tree_predictions\"\n",
    "\n",
    "if not model_exists(\n",
    "    TRAINED_MODELS_DIRS[\"Attempt 2\"][\"Regression\"][\"Prediction Tree\"]\n",
    "):\n",
    "    print(\"Prediction Tree model NOT found in disk, training...\")\n",
    "    \n",
    "    regression_evaluator_cv.setPredictionCol(PREDICTION_COL)\n",
    "    \n",
    "    estimator = DecisionTreeRegressor()\n",
    "\n",
    "    param_grid = (\n",
    "        ParamGridBuilder()\n",
    "        .addGrid(estimator.featuresCol, FEATURES_COL)\n",
    "        .addGrid(estimator.labelCol, [REGRESSION_LABEL_COL])\n",
    "        .addGrid(estimator.predictionCol, [PREDICTION_COL])\n",
    "        .addGrid(estimator.maxDepth, [5, 24])\n",
    "        .addGrid(estimator.maxBins, [16, 32, 64])\n",
    "        .addGrid(estimator.minInfoGain, [0, 0.1])\n",
    "        .build()\n",
    "    )\n",
    "\n",
    "    cross_validated_models = learn_best_model(\n",
    "        estimator=estimator,\n",
    "        param_grid=param_grid,\n",
    "        evaluator_cv=regression_evaluator_cv\n",
    "    )\n",
    "else:\n",
    "    print(\"Regression Decision Tree model found in disk, loading...\")\n",
    "    model = DecisionTreeRegressionModel.load(\n",
    "        TRAINED_MODELS_DIRS[\"Attempt 2\"][\"Regression\"][\"Prediction Tree\"]\n",
    "    )"
   ]
  },
  {
   "cell_type": "code",
   "execution_count": null,
   "metadata": {},
   "outputs": [],
   "source": [
    "if not model_exists(\n",
    "    TRAINED_MODELS_DIRS[\"Attempt 2\"][\"Regression\"][\"Prediction Tree\"]\n",
    "):\n",
    "    print(\n",
    "        \"Evaluating Prediction Tree model trained in previous cell...\"\n",
    "    )\n",
    "    evaluate_learning_models(\n",
    "        best_model=cross_validated_models.bestModel,\n",
    "        evaluators=get_evaluators(\n",
    "            cross_validated_models.bestModel, \n",
    "            label_col=REGRESSION_LABEL_COL, \n",
    "            prediction_col=PREDICTION_COL, \n",
    "            evaluation_metrics=REGRESSION_EVALUATION_METRICS\n",
    "        ),\n",
    "        save_training_result_path=\"./evaluation_results/attempt_2/regression/prediction_tree.json\"\n",
    "    )\n",
    "else:\n",
    "    print(\"Printing evaluation loaded from disk...\")\n",
    "    print_model_evaluation(\n",
    "        model_evaluation_path=\"./evaluation_results/attempt_2/regression/prediction_tree.json\"\n",
    "    )"
   ]
  },
  {
   "cell_type": "code",
   "execution_count": null,
   "metadata": {},
   "outputs": [],
   "source": [
    "if not model_exists(\n",
    "    TRAINED_MODELS_DIRS[\"Attempt 2\"][\"Regression\"][\"Prediction Tree\"]\n",
    "):\n",
    "    print(\"Saving Decision Tree Regressor model on disk...\")\n",
    "    cross_validated_models.bestModel.save(\n",
    "        \"./trained_models/attempt_2/regression/prediction_tree\"\n",
    "    )"
   ]
  },
  {
   "cell_type": "markdown",
   "metadata": {},
   "source": [
    "#### Gradient Boosted Tree Regression"
   ]
  },
  {
   "cell_type": "code",
   "execution_count": null,
   "metadata": {},
   "outputs": [],
   "source": [
    "from pyspark.ml.regression import GBTRegressor\n",
    "from pyspark.ml.regression import GBTRegressionModel\n",
    "\n",
    "PREDICTION_COL = \"attempt_2_regression_gradient_boosted_tree_predictions\"\n",
    "\n",
    "if not model_exists(\n",
    "    TRAINED_MODELS_DIRS[\"Attempt 2\"][\"Regression\"][\"Gradient Boosted Tree\"]\n",
    "):\n",
    "    print(\"Regression Gradient Boosted Tree model NOT found in disk, training...\")\n",
    "    \n",
    "    regression_evaluator_cv.setPredictionCol(PREDICTION_COL)\n",
    "    \n",
    "    estimator = GBTRegressor()\n",
    "\n",
    "    param_grid = (\n",
    "        ParamGridBuilder()\n",
    "        .addGrid(estimator.featuresCol, FEATURES_COL)\n",
    "        .addGrid(estimator.labelCol, [REGRESSION_LABEL_COL])\n",
    "        .addGrid(estimator.predictionCol, [PREDICTION_COL])\n",
    "        # .addGrid(estimator.maxDepth, [2, 5, 10])\n",
    "        # .addGrid(estimator.maxBins, [16, 32, 64])\n",
    "        # .addGrid(estimator.minInfoGain, [0, 0.1])\n",
    "        # .addGrid(estimator.subsamplingRate, [0.5, 1])\n",
    "        # .addGrid(estimator.lossType, [\"squared\", \"absolute\"])\n",
    "        .build()\n",
    "    )\n",
    "\n",
    "    cross_validated_models = learn_best_model(\n",
    "        estimator=estimator,\n",
    "        param_grid=param_grid,\n",
    "        evaluator_cv=regression_evaluator_cv\n",
    "    )\n",
    "else:\n",
    "    print(\"Regression Gradient Boosted Tree model found in disk, loading...\")\n",
    "    model = GBTRegressionModel.load(\n",
    "        TRAINED_MODELS_DIRS[\"Attempt 2\"][\"Regression\"][\"Gradient Boosted Tree\"]\n",
    "    )"
   ]
  },
  {
   "cell_type": "code",
   "execution_count": null,
   "metadata": {},
   "outputs": [],
   "source": [
    "if not model_exists(\n",
    "    TRAINED_MODELS_DIRS[\"Attempt 2\"][\"Regression\"][\"Gradient Boosted Tree\"]\n",
    "):\n",
    "    print(\n",
    "        \"Evaluating Gradient Boosted Tree model trained in previous cell...\"\n",
    "    )\n",
    "    evaluate_learning_models(\n",
    "        best_model=cross_validated_models.bestModel,\n",
    "        evaluators=get_evaluators(\n",
    "            cross_validated_models.bestModel, \n",
    "            label_col=REGRESSION_LABEL_COL, \n",
    "            prediction_col=PREDICTION_COL, \n",
    "            evaluation_metrics=REGRESSION_EVALUATION_METRICS\n",
    "        ),\n",
    "        save_training_result_path=\"./evaluation_results/attempt_2/regression/gradient_boosted_tree.json\"\n",
    "    )\n",
    "else:\n",
    "    print(\"Printing evaluation loaded from disk...\")\n",
    "    print_model_evaluation(\n",
    "        model_evaluation_path=\"./evaluation_results/attempt_2/regression/gradient_boosted_tree.json\"\n",
    "    )"
   ]
  },
  {
   "cell_type": "code",
   "execution_count": null,
   "metadata": {},
   "outputs": [],
   "source": [
    "if not model_exists(\n",
    "    TRAINED_MODELS_DIRS[\"Attempt 2\"][\"Regression\"][\"Gradient Boosted Tree\"]\n",
    "):\n",
    "    print(\"Saving Gradient Boosted Tree Regression model on disk...\")\n",
    "    cross_validated_models.bestModel.save(\n",
    "        \"./trained_models/attempt_2/regression/gradient_boosted_tree\"\n",
    "    )"
   ]
  },
  {
   "cell_type": "markdown",
   "metadata": {},
   "source": [
    "#### Random Forest Regression"
   ]
  },
  {
   "cell_type": "code",
   "execution_count": null,
   "metadata": {},
   "outputs": [],
   "source": [
    "from pyspark.ml.regression import RandomForestRegressor\n",
    "from pyspark.ml.regression import RandomForestRegressionModel\n",
    "\n",
    "PREDICTION_COL = \"attempt_2_regression_random_forest_predictions\"\n",
    "\n",
    "if not model_exists(\n",
    "    TRAINED_MODELS_DIRS[\"Attempt 2\"][\"Regression\"][\"Random Forest\"]\n",
    "):\n",
    "    print(\"Regression Random Forest model NOT found in disk, training...\")\n",
    "    \n",
    "    regression_evaluator_cv.setPredictionCol(PREDICTION_COL)\n",
    "    \n",
    "    estimator = RandomForestRegressor()\n",
    "\n",
    "    param_grid = (\n",
    "        ParamGridBuilder()\n",
    "        .addGrid(estimator.featuresCol, FEATURES_COL)\n",
    "        .addGrid(estimator.labelCol, [REGRESSION_LABEL_COL])\n",
    "        .addGrid(estimator.predictionCol, [PREDICTION_COL])\n",
    "        .addGrid(estimator.maxDepth, [5, 24])\n",
    "        .addGrid(estimator.maxBins, [32, 64])\n",
    "        .addGrid(estimator.minInfoGain, [0, 0.1])\n",
    "        .addGrid(estimator.subsamplingRate, [0.5, 1])\n",
    "        .addGrid(estimator.lossType, [\"squared\", \"absolute\"])\n",
    "        .addGrid(estimator.numTrees, [20, 40])\n",
    "        .addGrid(\n",
    "            estimator.featureSubsetStrategy, \n",
    "            [\"auto\", \"onethird\", \"all\", \"log2\"]\n",
    "        )\n",
    "        .build()\n",
    "    )\n",
    "\n",
    "    cross_validated_models = learn_best_model(\n",
    "        estimator=estimator,\n",
    "        param_grid=param_grid,\n",
    "        evaluator_cv=regression_evaluator_cv\n",
    "    )\n",
    "else:\n",
    "    print(\"Regression Random Forest model found in disk, loading...\")\n",
    "    model = RandomForestRegressionModel.load(\n",
    "        TRAINED_MODELS_DIRS[\"Attempt 2\"][\"Regression\"][\"Random Forest\"]\n",
    "    )"
   ]
  },
  {
   "cell_type": "code",
   "execution_count": null,
   "metadata": {},
   "outputs": [],
   "source": [
    "if not model_exists(\n",
    "    TRAINED_MODELS_DIRS[\"Attempt 2\"][\"Regression\"][\"Random Forest\"]\n",
    "):\n",
    "    print(\n",
    "        \"Evaluating Random Forest model trained in previous cell...\"\n",
    "    )\n",
    "    evaluate_learning_models(\n",
    "        best_model=cross_validated_models.bestModel,\n",
    "        evaluators=get_evaluators(\n",
    "            cross_validated_models.bestModel, \n",
    "            label_col=REGRESSION_LABEL_COL, \n",
    "            prediction_col=PREDICTION_COL, \n",
    "            evaluation_metrics=REGRESSION_EVALUATION_METRICS\n",
    "        ),\n",
    "        save_training_result_path=\"./evaluation_results/attempt_2/regression/random_forest.json\"\n",
    "    )\n",
    "else:\n",
    "    print(\"Printing evaluation loaded from disk...\")\n",
    "    print_model_evaluation(\n",
    "        model_evaluation_path=\"./evaluation_results/attempt_2/regression/random_forest.json\"\n",
    "    )"
   ]
  },
  {
   "cell_type": "code",
   "execution_count": null,
   "metadata": {},
   "outputs": [],
   "source": [
    "if not model_exists(\n",
    "    TRAINED_MODELS_DIRS[\"Attempt 2\"][\"Regression\"][\"Random Forest\"]\n",
    "):\n",
    "    print(\"Saving Random Forest Regression model on disk...\")\n",
    "    cross_validated_models.bestModel.save(\n",
    "        \"./trained_models/attempt_2/regression/random_forest\"\n",
    "    )"
   ]
  },
  {
   "cell_type": "markdown",
   "metadata": {},
   "source": [
    "### Classification"
   ]
  },
  {
   "cell_type": "code",
   "execution_count": null,
   "metadata": {},
   "outputs": [],
   "source": [
    "classification_evaluator_cv.setLabelCol(CLASSIFICATION_LABEL_COL)"
   ]
  },
  {
   "cell_type": "markdown",
   "metadata": {},
   "source": [
    "#### SVM Classifier"
   ]
  },
  {
   "cell_type": "code",
   "execution_count": null,
   "metadata": {},
   "outputs": [],
   "source": [
    "from pyspark.ml.classification import OneVsRest\n",
    "from pyspark.ml.classification import OneVsRestModel\n",
    "from pyspark.ml.classification import LinearSVC\n",
    "\n",
    "PREDICTION_COL = \"attempt_2_classification_svm_predictions\"\n",
    "\n",
    "if not model_exists(\n",
    "    TRAINED_MODELS_DIRS[\"Attempt 2\"][\"Classification\"][\"SVM\"]\n",
    "):\n",
    "    print(\"SVM Classification model NOT found in disk, training...\")\n",
    "    classification_evaluator_cv.setPredictionCol(PREDICTION_COL)\n",
    "    \n",
    "    estimator = OneVsRest(\n",
    "        classifier=LinearSVC(\n",
    "            featuresCol=FEATURES_COL,\n",
    "            labelCol=CLASSIFICATION_LABEL_COL,\n",
    "            predictionCol=PREDICTION_COL,\n",
    "        ),\n",
    "        featuresCol=FEATURES_COL,\n",
    "        labelCol=CLASSIFICATION_LABEL_COL,\n",
    "        predictionCol=PREDICTION_COL\n",
    "    )\n",
    "\n",
    "    param_grid = (\n",
    "        ParamGridBuilder()\n",
    "        .addGrid(estimator.featuresCol, [FEATURES_COL])\n",
    "        .addGrid(estimator.labelCol, [CLASSIFICATION_LABEL_COL])\n",
    "        .addGrid(estimator.predictionCol, [PREDICTION_COL])\n",
    "        .build()\n",
    "    )\n",
    "\n",
    "    cross_validated_models = learn_best_model(\n",
    "        estimator=estimator,\n",
    "        param_grid=param_grid,\n",
    "        evaluator_cv=classification_evaluator_cv\n",
    "    )\n",
    "else:\n",
    "    print(\"SVM Classification model found in disk, loading...\")\n",
    "    model = OneVsRestModel.load(\n",
    "        TRAINED_MODELS_DIRS[\"Attempt 2\"][\"Classification\"][\"SVM\"]\n",
    "    )\n"
   ]
  },
  {
   "cell_type": "code",
   "execution_count": null,
   "metadata": {},
   "outputs": [],
   "source": [
    "if not model_exists(\n",
    "    TRAINED_MODELS_DIRS[\"Attempt 2\"][\"Classification\"][\"SVM\"]\n",
    "):\n",
    "    print(\n",
    "        \"Evaluating SVM Classifier model trained in previous cell...\"\n",
    "    )\n",
    "    evaluate_learning_models(\n",
    "        best_model=cross_validated_models.bestModel,\n",
    "        evaluators=get_evaluators(\n",
    "            cross_validated_models.bestModel, \n",
    "            label_col=CLASSIFICATION_LABEL_COL, \n",
    "            prediction_col=PREDICTION_COL, \n",
    "            evaluation_metrics=CLASSIFICATION_EVALUATION_METRICS\n",
    "        ),\n",
    "        save_training_result_path=\"./evaluation_results/attempt_2/classification/svm.json\"\n",
    "    )\n",
    "else:\n",
    "    print(\"Printing evaluation loaded from disk...\")\n",
    "    print_model_evaluation(\n",
    "        model_evaluation_path=\"./evaluation_results/attempt_2/classification/svm.json\"\n",
    "    )"
   ]
  },
  {
   "cell_type": "code",
   "execution_count": null,
   "metadata": {},
   "outputs": [],
   "source": [
    "if not model_exists(\n",
    "    TRAINED_MODELS_DIRS[\"Attempt 2\"][\"Classification\"][\"SVM\"]\n",
    "):\n",
    "    print(\"Saving SVM Classification model on disk...\")\n",
    "    cross_validated_models.bestModel.save(\n",
    "        \"./trained_models/attempt_2/classification/svm\"\n",
    "    )"
   ]
  },
  {
   "cell_type": "markdown",
   "metadata": {},
   "source": [
    "#### Logistic Regression"
   ]
  },
  {
   "cell_type": "code",
   "execution_count": null,
   "metadata": {},
   "outputs": [],
   "source": [
    "from pyspark.ml.classification import OneVsRest\n",
    "from pyspark.ml.classification import OneVsRestModel\n",
    "from pyspark.ml.classification import LogisticRegression\n",
    "\n",
    "PREDICTION_COL = \"attempt_2_classification_logistic_regression_predictions\"\n",
    "\n",
    "if not model_exists(\n",
    "    TRAINED_MODELS_DIRS[\"Attempt 2\"][\"Classification\"][\"Logistic Regression\"]\n",
    "):\n",
    "    print(\"Logistic Regression Classification model NOT found in disk, training...\")\n",
    "    classification_evaluator_cv.setPredictionCol(PREDICTION_COL)\n",
    "    \n",
    "    estimator = OneVsRest(\n",
    "        classifier=LinearSVC(\n",
    "            featuresCol=FEATURES_COL,\n",
    "            labelCol=CLASSIFICATION_LABEL_COL,\n",
    "            predictionCol=PREDICTION_COL,\n",
    "        ),\n",
    "        featuresCol=FEATURES_COL,\n",
    "        labelCol=CLASSIFICATION_LABEL_COL,\n",
    "        predictionCol=PREDICTION_COL\n",
    "    )\n",
    "\n",
    "    param_grid = (\n",
    "        ParamGridBuilder()\n",
    "        .addGrid(estimator.featuresCol, [FEATURES_COL])\n",
    "        .addGrid(estimator.labelCol, [CLASSIFICATION_LABEL_COL])\n",
    "        .addGrid(estimator.predictionCol, [PREDICTION_COL])\n",
    "        .build()\n",
    "    )\n",
    "\n",
    "    cross_validated_models = learn_best_model(\n",
    "        estimator=estimator,\n",
    "        param_grid=param_grid,\n",
    "        evaluator_cv=classification_evaluator_cv\n",
    "    )\n",
    "else:\n",
    "    print(\"Logistic Regression Classification model found in disk, loading...\")\n",
    "    model = OneVsRestModel.load(\n",
    "        TRAINED_MODELS_DIRS[\"Attempt 2\"][\"Classification\"][\"Logistic Regression\"]\n",
    "    )\n"
   ]
  },
  {
   "cell_type": "code",
   "execution_count": null,
   "metadata": {},
   "outputs": [],
   "source": [
    "if not model_exists(\n",
    "    TRAINED_MODELS_DIRS[\"Attempt 2\"][\"Classification\"][\"Logistic Regression\"]\n",
    "):\n",
    "    print(\n",
    "        \"Evaluating Logistic Regression Classifier model trained in previous cell...\"\n",
    "    )\n",
    "    evaluate_learning_models(\n",
    "        best_model=cross_validated_models.bestModel,\n",
    "        evaluators=get_evaluators(\n",
    "            cross_validated_models.bestModel, \n",
    "            label_col=CLASSIFICATION_LABEL_COL, \n",
    "            prediction_col=PREDICTION_COL, \n",
    "            evaluation_metrics=CLASSIFICATION_EVALUATION_METRICS\n",
    "        ),\n",
    "        save_training_result_path=\"./evaluation_results/attempt_2/classification/logistic_regression.json\"\n",
    "    )\n",
    "else:\n",
    "    print(\"Printing evaluation loaded from disk...\")\n",
    "    print_model_evaluation(\n",
    "        model_evaluation_path=\"./evaluation_results/attempt_2/classification/logistic_regression.json\"\n",
    "    )"
   ]
  },
  {
   "cell_type": "code",
   "execution_count": null,
   "metadata": {},
   "outputs": [],
   "source": [
    "if not model_exists(\n",
    "    TRAINED_MODELS_DIRS[\"Attempt 2\"][\"Classification\"][\"Logistic Regression\"]\n",
    "):\n",
    "    print(\"Saving Logistic Regression Classification model on disk...\")\n",
    "    cross_validated_models.bestModel.save(\n",
    "        \"./trained_models/attempt_2/classification/logistic_regression\"\n",
    "    )"
   ]
  },
  {
   "cell_type": "markdown",
   "metadata": {},
   "source": [
    "#### Decision Tree"
   ]
  },
  {
   "cell_type": "code",
   "execution_count": null,
   "metadata": {},
   "outputs": [],
   "source": [
    "from pyspark.ml.classification import DecisionTreeClassifier\n",
    "from pyspark.ml.classification import DecisionTreeClassificationModel\n",
    "\n",
    "PREDICTION_COL = \"attempt_2_classification_decision_tree_predictions\"\n",
    "\n",
    "if not model_exists(\n",
    "    TRAINED_MODELS_DIRS[\"Attempt 2\"][\"Classification\"][\"Decision Tree\"]\n",
    "):\n",
    "    print(\"Classification Decision Tree model NOT found in disk, training...\")\n",
    "    classification_evaluator_cv.setPredictionCol(PREDICTION_COL)\n",
    "    \n",
    "    estimator = DecisionTreeClassifier()\n",
    "\n",
    "    param_grid = (\n",
    "        ParamGridBuilder()\n",
    "        .addGrid(estimator.featuresCol, FEATURES_COL)\n",
    "        .addGrid(estimator.labelCol, [CLASSIFICATION_LABEL_COL])\n",
    "        .addGrid(estimator.predictionCol, [PREDICTION_COL])\n",
    "        # .addGrid(estimator.maxDepth, [5, 24])\n",
    "        # .addGrid(estimator.maxBins, [16, 32, 64])\n",
    "        # .addGrid(estimator.minInfoGain, [0, 0.1])\n",
    "        .build()\n",
    "    )\n",
    "\n",
    "    cross_validated_models = learn_best_model(\n",
    "        estimator=estimator,\n",
    "        param_grid=param_grid,\n",
    "        evaluator_cv=classification_evaluator_cv\n",
    "    )\n",
    "else:\n",
    "    print(\"Classification Decision Tree model found in disk, loading...\")\n",
    "    model = DecisionTreeClassificationModel.load(\n",
    "        TRAINED_MODELS_DIRS[\"Attempt 2\"][\"Classification\"][\"Decision Tree\"]\n",
    "    )\n",
    "    evaluators = get_evaluators(\n",
    "        model, \n",
    "        label_col=CLASSIFICATION_LABEL_COL, \n",
    "        prediction_col=PREDICTION_COL, \n",
    "        evaluation_metrics=CLASSIFICATION_EVALUATION_METRICS\n",
    "    )"
   ]
  },
  {
   "cell_type": "code",
   "execution_count": null,
   "metadata": {},
   "outputs": [],
   "source": [
    "if not model_exists(\n",
    "    TRAINED_MODELS_DIRS[\"Attempt 2\"][\"Classification\"][\"Decision Tree\"]\n",
    "):\n",
    "    print(\n",
    "        \"Evaluating Decision Tree model trained in previous cell...\"\n",
    "    )\n",
    "    evaluate_learning_models(\n",
    "        best_model=cross_validated_models.bestModel,\n",
    "        evaluators=get_evaluators(\n",
    "            cross_validated_models.bestModel, \n",
    "            label_col=CLASSIFICATION_LABEL_COL, \n",
    "            prediction_col=PREDICTION_COL, \n",
    "            evaluation_metrics=CLASSIFICATION_EVALUATION_METRICS\n",
    "        ),\n",
    "        save_training_result_path=\"./evaluation_results/attempt_2/classification/decision_tree.json\"\n",
    "    )\n",
    "else:\n",
    "    print(\"Printing evaluation loaded from disk...\")\n",
    "    print_model_evaluation(\n",
    "        model_evaluation_path=\"./evaluation_results/attempt_2/classification/decision_tree.json\"\n",
    "    )"
   ]
  },
  {
   "cell_type": "code",
   "execution_count": null,
   "metadata": {},
   "outputs": [],
   "source": [
    "if not model_exists(\n",
    "    TRAINED_MODELS_DIRS[\"Attempt 2\"][\"Classification\"][\"Decision Tree\"]\n",
    "):\n",
    "    print(\"Saving Decision Tree model on disk...\")\n",
    "    cross_validated_models.bestModel.save(\n",
    "        \"./trained_models/attempt_2/classification/decision_tree\"\n",
    "    )"
   ]
  },
  {
   "cell_type": "markdown",
   "metadata": {},
   "source": [
    "#### Random Forest"
   ]
  },
  {
   "cell_type": "code",
   "execution_count": null,
   "metadata": {},
   "outputs": [],
   "source": [
    "from pyspark.ml.classification import RandomForestClassifier\n",
    "from pyspark.ml.classification import RandomForestClassificationModel\n",
    "\n",
    "PREDICTION_COL = \"attempt_2_classification_random_forest_predictions\"\n",
    "\n",
    "if not model_exists(\n",
    "    TRAINED_MODELS_DIRS[\"Attempt 2\"][\"Classification\"][\"Random Forest\"]\n",
    "):\n",
    "    print(\"Classification Random Forest model NOT found in disk, training...\")\n",
    "    \n",
    "    classification_evaluator_cv.setPredictionCol(PREDICTION_COL)\n",
    "    \n",
    "    estimator = RandomForestClassifier()\n",
    "\n",
    "    param_grid = (\n",
    "        ParamGridBuilder()\n",
    "        .addGrid(estimator.featuresCol, FEATURES_COL)\n",
    "        .addGrid(estimator.labelCol, [CLASSIFICATION_LABEL_COL])\n",
    "        .addGrid(estimator.predictionCol, [PREDICTION_COL])\n",
    "        # .addGrid(estimator.maxDepth, [5, 24])\n",
    "        # .addGrid(estimator.maxBins, [32, 64])\n",
    "        # .addGrid(estimator.minInfoGain, [0, 0.1])\n",
    "        # .addGrid(estimator.subsamplingRate, [0.5, 1])\n",
    "        # .addGrid(estimator.lossType, [\"squared\", \"absolute\"])\n",
    "        # .addGrid(estimator.numTrees, [20, 40])\n",
    "        # .addGrid(estimator.featureSubsetStrategy, [\"auto\", \"onethird\", \"all\", \"log2\"])\n",
    "        .build()\n",
    "    )\n",
    "\n",
    "    cross_validated_models = learn_best_model(\n",
    "        estimator=estimator,\n",
    "        param_grid=param_grid,\n",
    "        evaluator_cv=classification_evaluator_cv\n",
    "    )\n",
    "else:\n",
    "    print(\"Classification Random Forest model found in disk, loading...\")\n",
    "    model = RandomForestClassificationModel.load(\n",
    "        TRAINED_MODELS_DIRS[\"Attempt 2\"][\"Classification\"][\"Random Forest\"]\n",
    "    )"
   ]
  },
  {
   "cell_type": "code",
   "execution_count": null,
   "metadata": {},
   "outputs": [],
   "source": [
    "if not model_exists(\n",
    "    TRAINED_MODELS_DIRS[\"Attempt 2\"][\"Classification\"][\"Random Forest\"]\n",
    "):\n",
    "    print(\n",
    "        \"Evaluating Random Forest model trained in previous cell...\"\n",
    "    )\n",
    "    evaluate_learning_models(\n",
    "        best_model=cross_validated_models.bestModel,\n",
    "        evaluators=get_evaluators(\n",
    "            cross_validated_models.bestModel, \n",
    "            label_col=CLASSIFICATION_LABEL_COL, \n",
    "            prediction_col=PREDICTION_COL, \n",
    "            evaluation_metrics=CLASSIFICATION_EVALUATION_METRICS\n",
    "        ),\n",
    "        save_training_result_path=\"./evaluation_results/attempt_2/classification/random_forest.json\"\n",
    "    )\n",
    "else:\n",
    "    print(\"Printing evaluation loaded from disk...\")\n",
    "    print_model_evaluation(\n",
    "        model_evaluation_path=\"./evaluation_results/attempt_2/classification/random_forest.json\"\n",
    "    )"
   ]
  },
  {
   "cell_type": "code",
   "execution_count": null,
   "metadata": {},
   "outputs": [],
   "source": [
    "if not model_exists(\n",
    "    TRAINED_MODELS_DIRS[\"Attempt 2\"][\"Classification\"][\"Random Forest\"]\n",
    "):\n",
    "    print(\"Saving Random Forest Classification model on disk...\")\n",
    "    cross_validated_models.bestModel.save(\n",
    "        \"./trained_models/attempt_2/classification/random_forest\"\n",
    "    )"
   ]
  },
  {
   "cell_type": "markdown",
   "metadata": {},
   "source": [
    "# Attempt 3: clustering"
   ]
  },
  {
   "cell_type": "code",
   "execution_count": 55,
   "metadata": {},
   "outputs": [],
   "source": [
    "from pyspark.ml.clustering import KMeans\n",
    "from pyspark.ml.linalg import DenseVector, Vectors, VectorUDT\n",
    "from pyspark.ml.evaluation import ClusteringEvaluator"
   ]
  },
  {
   "cell_type": "code",
   "execution_count": 57,
   "metadata": {},
   "outputs": [],
   "source": [
    "def k_means(\n",
    "    dataset,\n",
    "    n_clusters,\n",
    "    distance_measure=\"euclidean\",\n",
    "    max_iter=20,\n",
    "    features_col=\"features\",\n",
    "    prediction_col=\"cluster\",\n",
    "    verbose=False,\n",
    "    season=-1\n",
    "):\n",
    "\n",
    "    if verbose:\n",
    "        # print(\n",
    "        #     f\"\"\"Training K-means clustering using the following parameters: \n",
    "        #     - K (n. of clusters) = {n_clusters}\n",
    "        #     - max_iter (max n. of iterations) = {max_iter}\n",
    "        #     - distance measure = {distance_measure}\n",
    "        #     \"\"\"\n",
    "        # )\n",
    "        print(f\"season: {season}, number of clusters: {n_clusters}\")\n",
    "\n",
    "    # if distance_measure == \"cosine\":\n",
    "\n",
    "        # NOTE we already start from normalized/std data, so, NO need to do it\n",
    "\n",
    "        # Normalize inputs to unit-length vectors\n",
    "        # dataset = Normalizer(\n",
    "        #     inputCol=features_col, outputCol=features_col + \"_norm\", p=1\n",
    "        # ).transform(dataset)\n",
    "\n",
    "        # features_col = features_col + \"_norm\"\n",
    "\n",
    "    # Train a K-means model\n",
    "    kmeans = KMeans(\n",
    "        featuresCol=features_col,\n",
    "        predictionCol=prediction_col,\n",
    "        k=n_clusters,\n",
    "        initMode=\"k-means||\",\n",
    "        initSteps=5,\n",
    "        tol=0.000001,\n",
    "        maxIter=max_iter,\n",
    "        distanceMeasure=distance_measure,\n",
    "    )\n",
    "\n",
    "    model = kmeans.fit(dataset)\n",
    "    # here there are all the relevant clustering information\n",
    "\n",
    "    # Make clusters\n",
    "    clusters_df = model.transform(dataset)\n",
    "\n",
    "    return model, clusters_df\n",
    "\n",
    "\n",
    "def evaluate_k_means(\n",
    "    clusters,\n",
    "    metric_name=\"silhouette\",\n",
    "    distance_measure=\"squaredEuclidean\",  # cosine\n",
    "    prediction_col=\"cluster\",\n",
    "    featuresCol = \"features\"\n",
    "):\n",
    "\n",
    "    # Evaluate clustering by computing Silhouette score\n",
    "    evaluator = ClusteringEvaluator(\n",
    "        metricName=metric_name,\n",
    "        distanceMeasure=distance_measure,\n",
    "        predictionCol=prediction_col,\n",
    "        featuresCol=featuresCol\n",
    "    )\n",
    "\n",
    "    return evaluator.evaluate(clusters)\n",
    "\n",
    "\n",
    "def do_clustering(\n",
    "    k_range, \n",
    "    input_df, \n",
    "    max_iter,\n",
    "    featuresCol,\n",
    "    clusterCol,\n",
    "    verbose=False,\n",
    "    season=-1\n",
    "):\n",
    "    clustering_results = {}\n",
    "\n",
    "    clusters_df = input_df\n",
    "\n",
    "    # for k in tqdm( range(5, max_k_clusters + 1, 5), desc = \"Performing clustering\" ):\n",
    "    # for k in tqdm(range(2, max_k_clusters + 1, 4), desc=\"Performing clustering\"):\n",
    "    for k in k_range:\n",
    "        if verbose:\n",
    "            print(f\"Running K-means using K = {k}\")\n",
    "\n",
    "        # model, clusters_df = k_means(tf_idf_df, k, max_iter=50, distance_measure=\"cosine\") # Alternatively, distance_measure=\"euclidean\"\n",
    "        # model, clusters_df = k_means(input_df, k, max_iter=max_iter, distance_measure=\"cosine\") # Alternatively, distance_measure=\"euclidean\"\n",
    "        model, clusters_df = k_means(\n",
    "            # input_df,\n",
    "            clusters_df, \n",
    "            k, \n",
    "            max_iter=max_iter, \n",
    "            distance_measure=\"cosine\", \n",
    "            features_col=featuresCol,\n",
    "            prediction_col=clusterCol + \"_k_\" + str(k),\n",
    "            verbose=True,\n",
    "            season=season\n",
    "        )  # Alternatively, distance_measure=\"euclidean\"\n",
    "        # silhouette_k = evaluate_k_means(clusters_df, distance_measure=\"cosine\") # Alternatively, distance_measure=\"squaredEuclidean\"\n",
    "        silhouette_k = evaluate_k_means(\n",
    "            clusters_df, \n",
    "            distance_measure=\"cosine\",\n",
    "            prediction_col=clusterCol + \"_k_\" + str(k),\n",
    "            featuresCol=featuresCol\n",
    "\n",
    "        )  # Alternatively, distance_measure=\"squaredEuclidean\"\n",
    "        wssd_k = model.summary.trainingCost\n",
    "        # wssd_k = model.summary\n",
    "\n",
    "        if verbose:\n",
    "\n",
    "            print(\n",
    "                \"Silhouette coefficient computed with cosine distance: {:.3f}\".format(\n",
    "                    silhouette_k\n",
    "                )\n",
    "            )\n",
    "            print(\n",
    "                \"Within-cluster Sum of Squared Distances (using cosine distance): {:.3f}\".format(\n",
    "                    wssd_k\n",
    "                )\n",
    "            )\n",
    "            print(\n",
    "                \"--------------------------------------------------------------------------------------\"\n",
    "            )\n",
    "\n",
    "        l = list(\n",
    "            enumerate(\n",
    "                model.clusterCenters()\n",
    "            )\n",
    "        )\n",
    "        l = [(ind, DenseVector(c)) for ind, c in l]\n",
    "        # print(l)\n",
    "        schema = [\"cluster_id\"  + \"_k_\" + str(k), \"centroid\"  + \"_k_\" + str(k)]\n",
    "\n",
    "        schema = StructType([ \n",
    "            StructField(\"cluster_id\" + \"_k_\" + str(k),IntegerType(),True), \n",
    "            StructField(\"centroid\" + \"_k_\" + str(k),VectorUDT(),True), \n",
    "        ])\n",
    "        centr_df = spark.createDataFrame(data=l, schema=schema)\n",
    "\n",
    "        # centr_df.show()\n",
    "\n",
    "        # df_with_centroids = clusters_df.join(\n",
    "        #     centr_df, on=[\"cluster_id\"]\n",
    "        # )\n",
    "\n",
    "        clusters_df = clusters_df.join(\n",
    "            centr_df, on=[\"cluster_id\" + \"_k_\" + str(k)]\n",
    "        )\n",
    "\n",
    "\n",
    "\n",
    "        clustering_results[str(k)] = {\n",
    "            \"silhouette_k\"      : silhouette_k,\n",
    "            \"wssd_k\"            : wssd_k,\n",
    "            # \"model\"             : model,\n",
    "            # \"df\"                : clusters_df,\n",
    "            # \"cluster_centroids\" : model.clusterCenters(),\n",
    "            # \"centr_df\" : centr_df,\n",
    "            # \"df_with_centroids\" : df_with_centroids\n",
    "        }\n",
    "\n",
    "        \n",
    "        \n",
    "\n",
    "        # Free up memory space at the end of each iteration\n",
    "        # del model\n",
    "        # del clusters_df\n",
    "        # gc.collect() # garbage collector\n",
    "    \n",
    "    # clustering_results[\"df_with_centroid_full\"] = clusters_df\n",
    "\n",
    "    return clustering_results, clusters_df\n",
    "\n",
    "\n",
    "def plot_clustering_results(\n",
    "    clustering_results, k_range, plot_title\n",
    "):\n",
    "\n",
    "    k_col = [str(x) for x in k_range]\n",
    "    wssd_col = [\n",
    "        clustering_results[k][\"wssd_k\"] for k in k_col \n",
    "    ]\n",
    "    silhouette_col = [\n",
    "        clustering_results[k][\"silhouette_k\"] for k in k_col \n",
    "    ]\n",
    "\n",
    "    plot_df_temp = pd.DataFrame([k_col, wssd_col, silhouette_col]).transpose()\n",
    "    plot_df_temp.columns = [\"K\", \"WSSD\", \"Silhouette\"]\n",
    "\n",
    "    fig, ax = plt.subplots(1, 1, figsize=(8, 6))\n",
    "\n",
    "    _ = sns.pointplot(\n",
    "        data=plot_df_temp, x=\"K\", y=\"WSSD\", ax=ax, color=\"navy\"\n",
    "    )\n",
    "    _ = ax.set_xlabel(\"Number of clusters\")\n",
    "    _ = ax.set_ylabel(\"WSSD (lower is better)\")\n",
    "    _ = ax.set_title(plot_title)\n"
   ]
  },
  {
   "cell_type": "code",
   "execution_count": 58,
   "metadata": {},
   "outputs": [],
   "source": [
    "import copy\n",
    "from pyspark.ml.feature import VectorAssembler\n",
    "\n",
    "CLUSTERING_FEATURES = copy.deepcopy(PLAYER_FEATURES)\n",
    "CLUSTERING_FEATURES.remove(\"value\")\n",
    "CLUSTERING_FEATURES.remove(\"overall\")\n",
    "\n",
    "assembler = VectorAssembler(\n",
    "    inputCols=CLUSTERING_FEATURES,\n",
    "    outputCol=\"clustering_features_vec\"\n",
    ")\n",
    "\n",
    "pre_processed_df = assembler.transform(pre_processed_df)"
   ]
  },
  {
   "cell_type": "code",
   "execution_count": 59,
   "metadata": {},
   "outputs": [
    {
     "name": "stderr",
     "output_type": "stream",
     "text": [
      "                                                                                \r"
     ]
    }
   ],
   "source": [
    "from pyspark.ml.feature import MinMaxScaler\n",
    "\n",
    "scaler = MinMaxScaler(\n",
    "    inputCol=\"clustering_features_vec\",\n",
    "    outputCol=\"clustering_features_vec_min_max\"    \n",
    ")\n",
    "\n",
    "pre_processed_df = scaler.fit(pre_processed_df).transform(pre_processed_df)"
   ]
  },
  {
   "cell_type": "code",
   "execution_count": 60,
   "metadata": {},
   "outputs": [],
   "source": [
    "df_dict = {\n",
    "    s: pre_processed_df.filter(col(\"season\") == s) for s in seasons\n",
    "}"
   ]
  },
  {
   "cell_type": "code",
   "execution_count": 61,
   "metadata": {},
   "outputs": [],
   "source": [
    "CLUSTERING_DF_PATH = \"./trained_models/clustering_df.parquet\"\n",
    "CLUSTERING_EVAL_PATH = \"./evaluation_results/attempt_3/clustering/clustering_eval.json\""
   ]
  },
  {
   "cell_type": "code",
   "execution_count": 62,
   "metadata": {},
   "outputs": [
    {
     "name": "stdout",
     "output_type": "stream",
     "text": [
      "clustering already done, data will be loaded from disk in the next cells\n"
     ]
    }
   ],
   "source": [
    "if not os.path.isdir(CLUSTERING_DF_PATH):\n",
    "    print(\"clustering NOT in disk, training...\")\n",
    "    clustering_results_dict = dict()\n",
    "    clustering_results_df = dict()\n",
    "\n",
    "    for s in seasons:\n",
    "        print(f\"Season: {s}\")\n",
    "        clustering_results_dict[s], clustering_results_df[s] = do_clustering(\n",
    "            k_range=k_range, \n",
    "            input_df=df_dict[s], \n",
    "            max_iter=MAX_ITER,\n",
    "            featuresCol=\"clustering_features_vec_min_max\",\n",
    "            clusterCol=\"cluster_id\",\n",
    "            verbose=False,\n",
    "            season=s\n",
    "        )\n",
    "else:\n",
    "    print(\n",
    "        \"clustering already done, data will be loaded from disk in the next cells\"\n",
    "    )\n"
   ]
  },
  {
   "cell_type": "code",
   "execution_count": 63,
   "metadata": {},
   "outputs": [
    {
     "name": "stdout",
     "output_type": "stream",
     "text": [
      "clustering data found on disk, will be loaded in next cells...\n"
     ]
    }
   ],
   "source": [
    "if not os.path.isdir(CLUSTERING_DF_PATH):\n",
    "\n",
    "    pre_processed_df = reduce(\n",
    "        DataFrame.unionAll, \n",
    "        [\n",
    "            clustering_results_df[s] for s in seasons\n",
    "        ]\n",
    "    )\n",
    "\n",
    "    print(\"saving clustering data on disk...\")\n",
    "    pre_processed_df.write.parquet(CLUSTERING_DF_PATH)\n",
    "\n",
    "else:\n",
    "    print(\"clustering data found on disk, will be loaded in next cells...\")"
   ]
  },
  {
   "cell_type": "markdown",
   "metadata": {},
   "source": [
    "## Clustering evaluation"
   ]
  },
  {
   "cell_type": "markdown",
   "metadata": {},
   "source": [
    "### Evalutating single seasons"
   ]
  },
  {
   "cell_type": "code",
   "execution_count": 68,
   "metadata": {},
   "outputs": [
    {
     "name": "stdout",
     "output_type": "stream",
     "text": [
      "clustering evaluation found on disk, loading...\n"
     ]
    }
   ],
   "source": [
    "if os.path.isfile(CLUSTERING_EVAL_PATH):\n",
    "\n",
    "    print(\"clustering evaluation found on disk, loading...\")\n",
    "    \n",
    "    with open(CLUSTERING_EVAL_PATH) as json_file:\n",
    "        clustering_results_dict = json.load(json_file)\n",
    "\n",
    "else:\n",
    "\n",
    "    print(\"clustering evaluation NOT in disk, exporting...\")\n",
    "\n",
    "    import json\n",
    "    with open(CLUSTERING_EVAL_PATH, 'w') as fp:\n",
    "        json.dump(clustering_results_dict, fp)"
   ]
  },
  {
   "cell_type": "code",
   "execution_count": null,
   "metadata": {},
   "outputs": [],
   "source": [
    "for s in seasons:\n",
    "    plot_clustering_results(\n",
    "        clustering_results_dict[s], \n",
    "        k_range=K_RANGE, \n",
    "        plot_title=f\"Elbow method evaluation for season {s}\"\n",
    "    )"
   ]
  },
  {
   "cell_type": "markdown",
   "metadata": {},
   "source": [
    "### Evaluating seasons all together"
   ]
  },
  {
   "cell_type": "code",
   "execution_count": 70,
   "metadata": {},
   "outputs": [],
   "source": [
    "clustering_results_dict[\"avg\"] = dict.fromkeys(K_RANGE)\n",
    "\n",
    "for k in clustering_results_dict[\"avg\"].keys():\n",
    "    clustering_results_dict[\"avg\"][k] = {\n",
    "        \"wssd_k\": 0,\n",
    "        \"silhouette_k\": 0\n",
    "    }\n",
    "\n",
    "sum_wssd = dict.fromkeys(K_RANGE, 0)\n",
    "sum_silhouette = dict.fromkeys(K_RANGE, 0)\n",
    "\n",
    "for s in seasons:\n",
    "    for k in K_RANGE:\n",
    "        sum_wssd[k] += clustering_results_dict[s][k][\"wssd_k\"]\n",
    "        sum_silhouette[k] += clustering_results_dict[s][k][\"silhouette_k\"]\n",
    "    \n",
    "avg_wssd = dict()\n",
    "avg_silhouette = dict()\n",
    "\n",
    "for k in K_RANGE:\n",
    "    avg_wssd[k] = sum_wssd[k] / len(k_range)\n",
    "    avg_silhouette[k] = sum_silhouette[k] / len(k_range)\n",
    "\n",
    "    clustering_results_dict[\"avg\"][k][\"wssd_k\"] = avg_wssd[k]\n",
    "    clustering_results_dict[\"avg\"][k][\"silhouette_k\"] = avg_silhouette[k]"
   ]
  },
  {
   "cell_type": "code",
   "execution_count": null,
   "metadata": {},
   "outputs": [],
   "source": [
    "plot_clustering_results(\n",
    "    clustering_results_dict[\"avg\"], \n",
    "    k_range=K_RANGE, \n",
    "    plot_title=\"Elbow method evaluation, average of all seasons\",\n",
    ")"
   ]
  },
  {
   "cell_type": "markdown",
   "metadata": {},
   "source": [
    "## Dataset composition"
   ]
  },
  {
   "cell_type": "markdown",
   "metadata": {},
   "source": [
    "### Compute distance between player and centroid of its cluster"
   ]
  },
  {
   "cell_type": "code",
   "execution_count": 64,
   "metadata": {},
   "outputs": [],
   "source": [
    "compute_distance_from_centroid_UDF = udf(\n",
    "    lambda player, centroid: float(\n",
    "        Vectors.squared_distance(\n",
    "            player, centroid\n",
    "        )\n",
    "    ), FloatType()\n",
    ")"
   ]
  },
  {
   "cell_type": "code",
   "execution_count": 65,
   "metadata": {},
   "outputs": [
    {
     "name": "stdout",
     "output_type": "stream",
     "text": [
      "clustering data found on disk, loading...\n"
     ]
    }
   ],
   "source": [
    "if os.path.isdir(CLUSTERING_DF_PATH):\n",
    "    print(\"clustering data found on disk, loading...\")\n",
    "    pre_processed_df = spark.read.parquet(CLUSTERING_DF_PATH)"
   ]
  },
  {
   "cell_type": "code",
   "execution_count": 66,
   "metadata": {},
   "outputs": [],
   "source": [
    "for k in K_RANGE:\n",
    "    pre_processed_df = pre_processed_df.withColumn(\n",
    "        \"distance_from_centroid\" + \"_k_\" + k,\n",
    "        compute_distance_from_centroid_UDF(\n",
    "            col(\"clustering_features_vec_min_max\"),\n",
    "            col(\"centroid\" + \"_k_\" + k)\n",
    "        )\n",
    "    )\n",
    "        "
   ]
  },
  {
   "cell_type": "markdown",
   "metadata": {},
   "source": [
    "### From players to teams"
   ]
  },
  {
   "cell_type": "code",
   "execution_count": 67,
   "metadata": {},
   "outputs": [],
   "source": [
    "teams_df = pre_processed_df.groupBy(\n",
    "    [\"season\", \"club_name\", \"macro_role\"]\n",
    ").agg(\n",
    "    {\n",
    "        \"distance_from_centroid\" + \"_k_\" + str(k): \"avg\" for k in K_RANGE \n",
    "    }\n",
    ")\n",
    "\n",
    "for k in K_RANGE:\n",
    "    teams_df = teams_df.withColumnRenamed(\n",
    "        \"avg(distance_from_centroid\" + \"_k_\" + str(k) + \")\",\n",
    "        \"avg_distance_from_centroid\" + \"_k_\" + str(k)\n",
    "    )"
   ]
  },
  {
   "cell_type": "code",
   "execution_count": 68,
   "metadata": {},
   "outputs": [],
   "source": [
    "def generate_subquery(macro_role, k):\n",
    "    return f\"\"\"(\n",
    "        case\n",
    "            when macro_role='{macro_role}' then avg_distance_from_centroid_k_{k} \n",
    "        else NULL\n",
    "        end\n",
    "    ) as avg_dist_macro_role_{int(macro_role)}_k_{k}\n",
    "    \"\"\""
   ]
  },
  {
   "cell_type": "code",
   "execution_count": 69,
   "metadata": {},
   "outputs": [],
   "source": [
    "teams_df.createOrReplaceTempView(\"t\")\n",
    "\n",
    "temp = dict()\n",
    "\n",
    "for k in K_RANGE:\n",
    "    temp[k] = (\n",
    "        spark.sql(\n",
    "            f\"\"\"\n",
    "                select season, club_name, {generate_subquery(0.0, k)}, {generate_subquery(1.0, k)}, {generate_subquery(2.0, k)}, {generate_subquery(3.0, k)}, {generate_subquery(4.0, k)}, {generate_subquery(5.0, k)}, {generate_subquery(6.0, k)}, {generate_subquery(7.0, k)}\n",
    "                from t\n",
    "            \"\"\"\n",
    "        )\n",
    "        .groupBy(\"season\", \"club_name\")\n",
    "        .agg(\n",
    "            # TODO use for loop as in second cell of \"from players to teams\"\n",
    "            sum(f\"avg_dist_macro_role_0_k_{k}\").alias(f\"avg_dist_macro_role_0_k_{k}\"),\n",
    "            sum(f\"avg_dist_macro_role_1_k_{k}\").alias(f\"avg_dist_macro_role_1_k_{k}\"),\n",
    "            sum(f\"avg_dist_macro_role_2_k_{k}\").alias(f\"avg_dist_macro_role_2_k_{k}\"),\n",
    "            sum(f\"avg_dist_macro_role_3_k_{k}\").alias(f\"avg_dist_macro_role_3_k_{k}\"),\n",
    "            sum(f\"avg_dist_macro_role_4_k_{k}\").alias(f\"avg_dist_macro_role_4_k_{k}\"),\n",
    "            sum(f\"avg_dist_macro_role_5_k_{k}\").alias(f\"avg_dist_macro_role_5_k_{k}\"),\n",
    "            sum(f\"avg_dist_macro_role_6_k_{k}\").alias(f\"avg_dist_macro_role_6_k_{k}\"),\n",
    "            sum(f\"avg_dist_macro_role_7_k_{k}\").alias(f\"avg_dist_macro_role_7_k_{k}\"),\n",
    "        )\n",
    "    )"
   ]
  },
  {
   "cell_type": "code",
   "execution_count": 70,
   "metadata": {},
   "outputs": [],
   "source": [
    "# NOTE executing this cell n times, w/o restoring teams_df --> \n",
    "# n copies of avg_dist_macro_role_[0:7]_k_[2, 6]\n",
    "\n",
    "teams_df = temp[K_RANGE[0]]\n",
    "\n",
    "for i in range(1, len(K_RANGE)):\n",
    "    teams_df = teams_df.join(\n",
    "        temp[K_RANGE[i]],\n",
    "        on=[\"season\", \"club_name\"]\n",
    "    )"
   ]
  },
  {
   "cell_type": "code",
   "execution_count": 71,
   "metadata": {},
   "outputs": [],
   "source": [
    "avg_distances_dict = dict()\n",
    "avg_distances_vec_dict = dict()\n",
    "\n",
    "for k in K_RANGE:\n",
    "    \n",
    "    avg_distances_dict[k] = [\n",
    "        f\"avg_dist_macro_role_{i}_k_{k}\" for i in range(0, NUM_MACRO_ROLES)\n",
    "    ]\n",
    "\n",
    "    avg_distances_vec_dict[k] = f\"avg_dist_vec_k_{k}\""
   ]
  },
  {
   "cell_type": "code",
   "execution_count": 72,
   "metadata": {},
   "outputs": [
    {
     "name": "stderr",
     "output_type": "stream",
     "text": [
      "/home/linuxbrew/.linuxbrew/Cellar/python@3.9/3.9.7_1/lib/python3.9/site-packages/pyspark/sql/pandas/conversion.py:202: PerformanceWarning: DataFrame is highly fragmented.  This is usually the result of calling `frame.insert` many times, which has poor performance.  Consider joining all columns at once using pd.concat(axis=1) instead.  To get a de-fragmented frame, use `newframe = frame.copy()`\n",
      "  df[column_name] = series\n"
     ]
    }
   ],
   "source": [
    "global_max = teams_df.toPandas()[\n",
    "    [ x for x in avg_distances_dict.values() for x in x ]\n",
    "].to_numpy().reshape(-1).max()"
   ]
  },
  {
   "cell_type": "code",
   "execution_count": 73,
   "metadata": {},
   "outputs": [],
   "source": [
    "teams_df = teams_df.fillna(global_max * 1.5)    "
   ]
  },
  {
   "cell_type": "code",
   "execution_count": 74,
   "metadata": {},
   "outputs": [],
   "source": [
    "for k in K_RANGE:\n",
    "    assembler = VectorAssembler(\n",
    "        inputCols=avg_distances_dict[k], outputCol=avg_distances_vec_dict[k]\n",
    "    )\n",
    "\n",
    "    teams_df = assembler.transform(teams_df)"
   ]
  },
  {
   "cell_type": "markdown",
   "metadata": {},
   "source": [
    "## Learning from clustering"
   ]
  },
  {
   "cell_type": "code",
   "execution_count": 75,
   "metadata": {},
   "outputs": [],
   "source": [
    "df = df.join(\n",
    "    teams_df,\n",
    "    on=[\"club_name\", \"season\"]\n",
    ")"
   ]
  },
  {
   "cell_type": "code",
   "execution_count": 79,
   "metadata": {},
   "outputs": [],
   "source": [
    "train_df, test_df = df.randomSplit([0.9, 0.1], seed=random_seed)\n",
    "\n",
    "FEATURES_COL = \"avg_dist_vec_k_18\""
   ]
  },
  {
   "cell_type": "markdown",
   "metadata": {},
   "source": [
    "### Regression"
   ]
  },
  {
   "cell_type": "code",
   "execution_count": null,
   "metadata": {},
   "outputs": [],
   "source": [
    "regression_evaluator_cv.setLabelCol(REGRESSION_LABEL_COL)"
   ]
  },
  {
   "cell_type": "markdown",
   "metadata": {},
   "source": [
    "#### Linear Regression"
   ]
  },
  {
   "cell_type": "code",
   "execution_count": null,
   "metadata": {},
   "outputs": [],
   "source": [
    "from pyspark.ml.regression import LinearRegression\n",
    "from pyspark.ml.regression import LinearRegressionModel\n",
    "\n",
    "PREDICTION_COL = \"attempt_3_regression_linear_regression_predictions\"\n",
    "\n",
    "if not model_exists(\n",
    "    TRAINED_MODELS_DIRS[\"Attempt 3\"][\"Regression\"][\"Linear Regression\"]\n",
    "):\n",
    "    print(\"Linear Regression model NOT found in disk, training...\")\n",
    "    regression_evaluator_cv.setPredictionCol(PREDICTION_COL)\n",
    "    \n",
    "    estimator = LinearRegression()\n",
    "\n",
    "    linear_regression_param_grid = (\n",
    "        ParamGridBuilder()\n",
    "        .addGrid(estimator.featuresCol, FEATURES_COL)\n",
    "        .addGrid(estimator.labelCol, [REGRESSION_LABEL_COL])\n",
    "        .addGrid(estimator.predictionCol, [PREDICTION_COL])\n",
    "        # .addGrid(estimator.regParam, [0.0, 0.001, 0.01, 0.1, 0.5, 1])\n",
    "        # .addGrid(estimator.solver, [\"auto\", \"normal\"])\n",
    "        # .addGrid(estimator.fitIntercept, [True, False])\n",
    "        # .addGrid(estimator.elasticNetParam, [0.0, 0.5, 1.0])\n",
    "        .build()\n",
    "    )\n",
    "\n",
    "    cross_validated_models = learn_best_model(\n",
    "        estimator=estimator,\n",
    "        param_grid=linear_regression_param_grid,\n",
    "        evaluator_cv=regression_evaluator_cv\n",
    "    )\n",
    "else:\n",
    "    print(\"Linear Regression model found in disk, loading...\")\n",
    "    model = LinearRegressionModel.load(\n",
    "        TRAINED_MODELS_DIRS[\"Attempt 3\"][\"Regression\"][\"Linear Regression\"]\n",
    "    )"
   ]
  },
  {
   "cell_type": "code",
   "execution_count": null,
   "metadata": {},
   "outputs": [],
   "source": [
    "if not model_exists(\n",
    "    TRAINED_MODELS_DIRS[\"Attempt 3\"][\"Regression\"][\"Linear Regression\"]\n",
    "):\n",
    "    print(\"Evaluating Linear Regression model trained in previous cell...\")\n",
    "    evaluate_learning_models(\n",
    "        best_model=cross_validated_models.bestModel,\n",
    "        evaluators=get_evaluators(\n",
    "            cross_validated_models.bestModel, \n",
    "            label_col=REGRESSION_LABEL_COL, \n",
    "            prediction_col=PREDICTION_COL, \n",
    "            evaluation_metrics=REGRESSION_EVALUATION_METRICS\n",
    "        ),\n",
    "        save_training_result_path=\"./evaluation_results/attempt_3/regression/linear_regression.json\"\n",
    "    )\n",
    "else:\n",
    "    print(\"Printing evaluation loaded from disk...\")\n",
    "    print_model_evaluation(\n",
    "        model_evaluation_path=\"./evaluation_results/attempt_3/regression/linear_regression.json\"\n",
    "    )"
   ]
  },
  {
   "cell_type": "code",
   "execution_count": null,
   "metadata": {},
   "outputs": [],
   "source": [
    "if not model_exists(\n",
    "    TRAINED_MODELS_DIRS[\"Attempt 3\"][\"Regression\"][\"Linear Regression\"]\n",
    "):\n",
    "    print(\"Saving Linear Regression model on disk...\")\n",
    "    cross_validated_models.bestModel.save(\n",
    "        \"./trained_models/attempt_3/regression/linear_regression\"\n",
    "    )"
   ]
  },
  {
   "cell_type": "markdown",
   "metadata": {},
   "source": [
    "#### Linear regression (multiple k)"
   ]
  },
  {
   "cell_type": "code",
   "execution_count": null,
   "metadata": {},
   "outputs": [],
   "source": [
    "cross_validated_models_dict = dict()"
   ]
  },
  {
   "cell_type": "code",
   "execution_count": null,
   "metadata": {},
   "outputs": [],
   "source": []
  },
  {
   "cell_type": "code",
   "execution_count": null,
   "metadata": {},
   "outputs": [],
   "source": []
  },
  {
   "cell_type": "code",
   "execution_count": null,
   "metadata": {},
   "outputs": [],
   "source": [
    "from pyspark.ml.regression import LinearRegression\n",
    "from pyspark.ml.regression import LinearRegressionModel\n",
    "\n",
    "for k in [\"4\", \"62\"]:\n",
    "    PREDICTION_COL = f\"attempt_3_regression_linear_regression_k_{k}_predictions\"\n",
    "\n",
    "    if not model_exists(\n",
    "        TRAINED_MODELS_DIRS[\"Attempt 3\"][\"Regression\"][\"Linear Regression multiple k\"][k]\n",
    "    ):\n",
    "        print(\n",
    "            f\"Linear Regression multiple k with k={k} model NOT found in disk, training...\"\n",
    "        )\n",
    "        regression_evaluator_cv.setPredictionCol(PREDICTION_COL)\n",
    "\n",
    "        estimator = LinearRegression()\n",
    "\n",
    "        param_grid = (\n",
    "            ParamGridBuilder()\n",
    "            .addGrid(estimator.featuresCol, [f\"avg_dist_vec_k_{k}\"])\n",
    "            .addGrid(estimator.labelCol, [REGRESSION_LABEL_COL])\n",
    "            .addGrid(estimator.predictionCol, [PREDICTION_COL])\n",
    "            # .addGrid(estimator.regParam, [0.0, 0.001, 0.01, 0.1, 0.5, 1])\n",
    "            # .addGrid(estimator.solver, [\"auto\", \"normal\"])\n",
    "            # .addGrid(estimator.fitIntercept, [True, False])\n",
    "            # .addGrid(estimator.elasticNetParam, [0.0, 0.5, 1.0])\n",
    "            .build()\n",
    "        )\n",
    "\n",
    "        cross_validated_models_dict[k] = learn_best_model(\n",
    "            estimator=estimator,\n",
    "            param_grid=param_grid,\n",
    "            evaluator_cv=regression_evaluator_cv\n",
    "        )\n",
    "    else:\n",
    "        print(\n",
    "            f\"Linear Regression multiple k with k={k} model found in disk, loading...\"\n",
    "        )\n",
    "        model = LinearRegressionModel.load(\n",
    "            TRAINED_MODELS_DIRS[\"Attempt 3\"][\"Regression\"][\"Linear Regression multiple k\"][k]\n",
    "        )"
   ]
  },
  {
   "cell_type": "code",
   "execution_count": null,
   "metadata": {},
   "outputs": [],
   "source": [
    "evals_dict = dict()\n",
    "\n",
    "for k in [\"2\", \"62\"]:\n",
    "    if not model_exists(\n",
    "        TRAINED_MODELS_DIRS[\"Attempt 3\"][\"Regression\"][\"Linear Regression multiple k\"][k]\n",
    "    ):\n",
    "        print(\n",
    "            f\"Evaluating Linear Regression multiple k with k={k} model trained in previous cell...\"\n",
    "        )\n",
    "        evals_dict[k] = evaluate_learning_models(\n",
    "            best_model=cross_validated_models_dict[k].bestModel,\n",
    "            evaluators=get_evaluators(\n",
    "                cross_validated_models_dict[k].bestModel, \n",
    "                label_col=REGRESSION_LABEL_COL, \n",
    "                prediction_col=f\"attempt_3_regression_linear_regression_k_{k}_predictions\", \n",
    "                evaluation_metrics=REGRESSION_EVALUATION_METRICS\n",
    "            ),\n",
    "            save_training_result_path=f\"./evaluation_results/attempt_3/regression/linear_regression_multiple_k/linear_regression_multiple_k_{k}.json\"\n",
    "        )\n",
    "    else:\n",
    "        print(f\"Linear Regression multiple k with k={k} found on disk\")\n",
    "        print(\"Printing evaluation loaded from disk...\")\n",
    "        evals_dict[k] = print_model_evaluation(\n",
    "            model_evaluation_path=\"./evaluation_results/attempt_3/regression/prediction_tree.json\"\n",
    "        )"
   ]
  },
  {
   "cell_type": "code",
   "execution_count": null,
   "metadata": {},
   "outputs": [],
   "source": [
    "for model in cross_validated_models_dict.values():\n",
    "    pprint.pprint(model.getEstimatorParamMaps())"
   ]
  },
  {
   "cell_type": "code",
   "execution_count": null,
   "metadata": {},
   "outputs": [],
   "source": [
    "evals_dict_pretty = {\n",
    "    k : v[\"test_set_evaluation\"][\"r2\"] for (k, v) in zip(evals_dict.keys(), evals_dict.values())\n",
    "}\n",
    "evals_dict_pretty"
   ]
  },
  {
   "cell_type": "code",
   "execution_count": null,
   "metadata": {},
   "outputs": [],
   "source": [
    "for k in K_RANGE:    \n",
    "    if not model_exists(\n",
    "        TRAINED_MODELS_DIRS[\"Attempt 3\"][\"Regression\"][\"Linear Regression multiple k\"][k]\n",
    "    ):\n",
    "        print(\n",
    "            f\"Saving Linear Regression multiple k with k={k} model on disk...\"\n",
    "        )\n",
    "        cross_validated_models_dict[k].bestModel.save(\n",
    "            f\"./trained_models/attempt_3/regression/linear_regression_multiple_k/{k}_clusters\"\n",
    "        )"
   ]
  },
  {
   "cell_type": "markdown",
   "metadata": {},
   "source": [
    "#### Prediction Tree"
   ]
  },
  {
   "cell_type": "code",
   "execution_count": null,
   "metadata": {},
   "outputs": [],
   "source": [
    "from pyspark.ml.regression import DecisionTreeRegressor\n",
    "from pyspark.ml.regression import DecisionTreeRegressionModel\n",
    "\n",
    "PREDICTION_COL = \"attempt_3_regression_decision_tree_predictions\"\n",
    "\n",
    "if not model_exists(\n",
    "    TRAINED_MODELS_DIRS[\"Attempt 3\"][\"Regression\"][\"Prediction Tree\"]\n",
    "):\n",
    "    print(\"Prediction Tree model NOT found in disk, training...\")\n",
    "    \n",
    "    regression_evaluator_cv.setPredictionCol(PREDICTION_COL)\n",
    "    \n",
    "    estimator = DecisionTreeRegressor()\n",
    "\n",
    "    param_grid = (\n",
    "        ParamGridBuilder()\n",
    "        .addGrid(estimator.featuresCol, FEATURES_COL)\n",
    "        .addGrid(estimator.labelCol, [REGRESSION_LABEL_COL])\n",
    "        .addGrid(estimator.predictionCol, [PREDICTION_COL])\n",
    "        # .addGrid(estimator.maxDepth, [5, 24])\n",
    "        # .addGrid(estimator.maxBins, [16, 32, 64])\n",
    "        # .addGrid(estimator.minInfoGain, [0, 0.1])\n",
    "        .build()\n",
    "    )\n",
    "\n",
    "    cross_validated_models = learn_best_model(\n",
    "        estimator=estimator,\n",
    "        param_grid=param_grid,\n",
    "        evaluator_cv=regression_evaluator_cv\n",
    "    )\n",
    "else:\n",
    "    print(\"Regression Decision Tree model found in disk, loading...\")\n",
    "    model = DecisionTreeRegressionModel.load(\n",
    "        TRAINED_MODELS_DIRS[\"Attempt 3\"][\"Regression\"][\"Prediction Tree\"]\n",
    "    )"
   ]
  },
  {
   "cell_type": "code",
   "execution_count": null,
   "metadata": {},
   "outputs": [],
   "source": [
    "if not model_exists(\n",
    "    TRAINED_MODELS_DIRS[\"Attempt 3\"][\"Regression\"][\"Prediction Tree\"]\n",
    "):\n",
    "    print(\n",
    "        \"Evaluating Prediction Tree model trained in previous cell...\"\n",
    "    )\n",
    "    evaluate_learning_models(\n",
    "        best_model=cross_validated_models.bestModel,\n",
    "        evaluators=get_evaluators(\n",
    "            cross_validated_models.bestModel, \n",
    "            label_col=REGRESSION_LABEL_COL, \n",
    "            prediction_col=PREDICTION_COL, \n",
    "            evaluation_metrics=REGRESSION_EVALUATION_METRICS\n",
    "        ),\n",
    "        save_training_result_path=\"./evaluation_results/attempt_3/regression/prediction_tree.json\"\n",
    "    )\n",
    "else:\n",
    "    print(\"Printing evaluation loaded from disk...\")\n",
    "    print_model_evaluation(\n",
    "        model_evaluation_path=\"./evaluation_results/attempt_3/regression/prediction_tree.json\"\n",
    "    )"
   ]
  },
  {
   "cell_type": "code",
   "execution_count": null,
   "metadata": {},
   "outputs": [],
   "source": [
    "if not model_exists(\n",
    "    TRAINED_MODELS_DIRS[\"Attempt 3\"][\"Regression\"][\"Prediction Tree\"]\n",
    "):\n",
    "    print(\"Saving Decision Tree Regressor model on disk...\")\n",
    "    cross_validated_models.bestModel.save(\n",
    "        \"./trained_models/attempt_3/regression/prediction_tree\"\n",
    "    )"
   ]
  },
  {
   "cell_type": "markdown",
   "metadata": {},
   "source": [
    "#### Gradient Boosted Tree Regression"
   ]
  },
  {
   "cell_type": "code",
   "execution_count": null,
   "metadata": {},
   "outputs": [],
   "source": [
    "from pyspark.ml.regression import GBTRegressor\n",
    "from pyspark.ml.regression import GBTRegressionModel\n",
    "\n",
    "PREDICTION_COL = \"attempt_3_regression_gradient_boosted_tree_predictions\"\n",
    "\n",
    "if not model_exists(\n",
    "    TRAINED_MODELS_DIRS[\"Attempt 3\"][\"Regression\"][\"Gradient Boosted Tree\"]\n",
    "):\n",
    "    print(\"Regression Gradient Boosted Tree model NOT found in disk, training...\")\n",
    "    \n",
    "    regression_evaluator_cv.setPredictionCol(PREDICTION_COL)\n",
    "    \n",
    "    estimator = GBTRegressor()\n",
    "\n",
    "    param_grid = (\n",
    "        ParamGridBuilder()\n",
    "        .addGrid(estimator.featuresCol, FEATURES_COL)\n",
    "        .addGrid(estimator.labelCol, [REGRESSION_LABEL_COL])\n",
    "        .addGrid(estimator.predictionCol, [PREDICTION_COL])\n",
    "        # .addGrid(estimator.maxDepth, [2, 5, 10])\n",
    "        # .addGrid(estimator.maxBins, [16, 32, 64])\n",
    "        # .addGrid(estimator.minInfoGain, [0, 0.1])\n",
    "        # .addGrid(estimator.subsamplingRate, [0.5, 1])\n",
    "        # .addGrid(estimator.lossType, [\"squared\", \"absolute\"])\n",
    "        .build()\n",
    "    )\n",
    "\n",
    "    cross_validated_models = learn_best_model(\n",
    "        estimator=estimator,\n",
    "        param_grid=param_grid,\n",
    "        evaluator_cv=regression_evaluator_cv\n",
    "    )\n",
    "else:\n",
    "    print(\"Regression Gradient Boosted Tree model found in disk, loading...\")\n",
    "    model = GBTRegressionModel.load(\n",
    "        TRAINED_MODELS_DIRS[\"Attempt 3\"][\"Regression\"][\"Gradient Boosted Tree\"]\n",
    "    )"
   ]
  },
  {
   "cell_type": "code",
   "execution_count": null,
   "metadata": {},
   "outputs": [],
   "source": [
    "if not model_exists(\n",
    "    TRAINED_MODELS_DIRS[\"Attempt 3\"][\"Regression\"][\"Gradient Boosted Tree\"]\n",
    "):\n",
    "    print(\n",
    "        \"Evaluating Gradient Boosted Tree model trained in previous cell...\"\n",
    "    )\n",
    "    evaluate_learning_models(\n",
    "        best_model=cross_validated_models.bestModel,\n",
    "        evaluators=get_evaluators(\n",
    "            cross_validated_models.bestModel, \n",
    "            label_col=REGRESSION_LABEL_COL, \n",
    "            prediction_col=PREDICTION_COL, \n",
    "            evaluation_metrics=REGRESSION_EVALUATION_METRICS\n",
    "        ),\n",
    "        save_training_result_path=\"./evaluation_results/attempt_3/regression/gradient_boosted_tree.json\"\n",
    "    )\n",
    "else:\n",
    "    print(\"Printing evaluation loaded from disk...\")\n",
    "    print_model_evaluation(\n",
    "        model_evaluation_path=\"./evaluation_results/attempt_3/regression/gradient_boosted_tree.json\"\n",
    "    )"
   ]
  },
  {
   "cell_type": "code",
   "execution_count": null,
   "metadata": {},
   "outputs": [],
   "source": [
    "if not model_exists(\n",
    "    TRAINED_MODELS_DIRS[\"Attempt 3\"][\"Regression\"][\"Gradient Boosted Tree\"]\n",
    "):\n",
    "    print(\"Saving Gradient Boosted Tree Regression model on disk...\")\n",
    "    cross_validated_models.bestModel.save(\n",
    "        \"./trained_models/attempt_3/regression/gradient_boosted_tree\"\n",
    "    )"
   ]
  },
  {
   "cell_type": "markdown",
   "metadata": {},
   "source": [
    "#### Random Forest Regression"
   ]
  },
  {
   "cell_type": "code",
   "execution_count": null,
   "metadata": {},
   "outputs": [],
   "source": [
    "from pyspark.ml.regression import RandomForestRegressor\n",
    "from pyspark.ml.regression import RandomForestRegressionModel\n",
    "\n",
    "PREDICTION_COL = \"attempt_3_regression_random_forest_predictions\"\n",
    "\n",
    "if not model_exists(\n",
    "    TRAINED_MODELS_DIRS[\"Attempt 3\"][\"Regression\"][\"Random Forest\"]\n",
    "):\n",
    "    print(\"Regression Random Forest model NOT found in disk, training...\")\n",
    "    \n",
    "    regression_evaluator_cv.setPredictionCol(PREDICTION_COL)\n",
    "    \n",
    "    estimator = RandomForestRegressor()\n",
    "\n",
    "    param_grid = (\n",
    "        ParamGridBuilder()\n",
    "        .addGrid(estimator.featuresCol, FEATURES_COL)\n",
    "        .addGrid(estimator.labelCol, [REGRESSION_LABEL_COL])\n",
    "        .addGrid(estimator.predictionCol, [PREDICTION_COL])\n",
    "        # .addGrid(estimator.maxDepth, [5, 24])\n",
    "        # .addGrid(estimator.maxBins, [32, 64])\n",
    "        # .addGrid(estimator.minInfoGain, [0, 0.1])\n",
    "        # .addGrid(estimator.subsamplingRate, [0.5, 1])\n",
    "        # .addGrid(estimator.lossType, [\"squared\", \"absolute\"])\n",
    "        # .addGrid(estimator.numTrees, [20, 40])\n",
    "        # .addGrid(\n",
    "        #     estimator.featureSubsetStrategy, \n",
    "        #     [\"auto\", \"onethird\", \"all\", \"log2\"]\n",
    "        # )\n",
    "        .build()\n",
    "    )\n",
    "\n",
    "    cross_validated_models = learn_best_model(\n",
    "        estimator=estimator,\n",
    "        param_grid=param_grid,\n",
    "        evaluator_cv=regression_evaluator_cv\n",
    "    )\n",
    "else:\n",
    "    print(\"Regression Random Forest model found in disk, loading...\")\n",
    "    model = RandomForestRegressionModel.load(\n",
    "        TRAINED_MODELS_DIRS[\"Attempt 3\"][\"Regression\"][\"Random Forest\"]\n",
    "    )"
   ]
  },
  {
   "cell_type": "code",
   "execution_count": null,
   "metadata": {},
   "outputs": [],
   "source": [
    "if not model_exists(\n",
    "    TRAINED_MODELS_DIRS[\"Attempt 3\"][\"Regression\"][\"Random Forest\"]\n",
    "):\n",
    "    print(\n",
    "        \"Evaluating Random Forest model trained in previous cell...\"\n",
    "    )\n",
    "    evaluate_learning_models(\n",
    "        best_model=cross_validated_models.bestModel,\n",
    "        evaluators=get_evaluators(\n",
    "            cross_validated_models.bestModel, \n",
    "            label_col=REGRESSION_LABEL_COL, \n",
    "            prediction_col=PREDICTION_COL, \n",
    "            evaluation_metrics=REGRESSION_EVALUATION_METRICS\n",
    "        ),\n",
    "        save_training_result_path=\"./evaluation_results/attempt_3/regression/random_forest.json\"\n",
    "    )\n",
    "else:\n",
    "    print(\"Printing evaluation loaded from disk...\")\n",
    "    print_model_evaluation(\n",
    "        model_evaluation_path=\"./evaluation_results/attempt_3/regression/random_forest.json\"\n",
    "    )"
   ]
  },
  {
   "cell_type": "code",
   "execution_count": null,
   "metadata": {},
   "outputs": [],
   "source": [
    "if not model_exists(\n",
    "    TRAINED_MODELS_DIRS[\"Attempt 3\"][\"Regression\"][\"Random Forest\"]\n",
    "):\n",
    "    print(\"Saving Random Forest Regression model on disk...\")\n",
    "    cross_validated_models.bestModel.save(\n",
    "        \"./trained_models/attempt_3/regression/random_forest\"\n",
    "    )"
   ]
  },
  {
   "cell_type": "markdown",
   "metadata": {},
   "source": [
    "### Classification"
   ]
  },
  {
   "cell_type": "code",
   "execution_count": 88,
   "metadata": {},
   "outputs": [
    {
     "data": {
      "text/plain": [
       "MulticlassClassificationEvaluator_c35f08fb45dc"
      ]
     },
     "execution_count": 88,
     "metadata": {},
     "output_type": "execute_result"
    }
   ],
   "source": [
    "classification_evaluator_cv.setLabelCol(CLASSIFICATION_LABEL_COL)"
   ]
  },
  {
   "cell_type": "code",
   "execution_count": 86,
   "metadata": {},
   "outputs": [],
   "source": [
    "train_df, test_df = df.randomSplit([0.9, 0.1], seed=random_seed)"
   ]
  },
  {
   "cell_type": "markdown",
   "metadata": {},
   "source": [
    "#### SVM Classifier"
   ]
  },
  {
   "cell_type": "code",
   "execution_count": 93,
   "metadata": {},
   "outputs": [
    {
     "name": "stdout",
     "output_type": "stream",
     "text": [
      "SVM Classification model found in disk, loading...\n"
     ]
    }
   ],
   "source": [
    "from pyspark.ml.classification import OneVsRest\n",
    "from pyspark.ml.classification import OneVsRestModel\n",
    "from pyspark.ml.classification import LinearSVC\n",
    "\n",
    "PREDICTION_COL = \"attempt_3_classification_svm_predictions\"\n",
    "\n",
    "if not model_exists(\n",
    "    TRAINED_MODELS_DIRS[\"Attempt 3\"][\"Classification\"][\"SVM\"]\n",
    "):\n",
    "    print(\"SVM Classification model NOT found in disk, training...\")\n",
    "    classification_evaluator_cv.setPredictionCol(PREDICTION_COL)\n",
    "    \n",
    "    estimator = OneVsRest(\n",
    "        classifier=LinearSVC(\n",
    "            featuresCol=FEATURES_COL[0],\n",
    "            labelCol=CLASSIFICATION_LABEL_COL,\n",
    "            predictionCol=PREDICTION_COL,\n",
    "        ),\n",
    "        featuresCol=FEATURES_COL[0],\n",
    "        labelCol=CLASSIFICATION_LABEL_COL,\n",
    "        predictionCol=PREDICTION_COL\n",
    "    )\n",
    "\n",
    "    param_grid = (\n",
    "        ParamGridBuilder()\n",
    "        .addGrid(estimator.featuresCol, FEATURES_COL)\n",
    "        .addGrid(estimator.labelCol, [CLASSIFICATION_LABEL_COL])\n",
    "        .addGrid(estimator.predictionCol, [PREDICTION_COL])\n",
    "        .build()\n",
    "    )\n",
    "\n",
    "    cross_validated_models = learn_best_model(\n",
    "        estimator=estimator,\n",
    "        param_grid=param_grid,\n",
    "        evaluator_cv=classification_evaluator_cv\n",
    "    )\n",
    "else:\n",
    "    print(\"SVM Classification model found in disk, loading...\")\n",
    "    model = OneVsRestModel.load(\n",
    "        TRAINED_MODELS_DIRS[\"Attempt 3\"][\"Classification\"][\"SVM\"]\n",
    "    )\n"
   ]
  },
  {
   "cell_type": "code",
   "execution_count": 92,
   "metadata": {},
   "outputs": [
    {
     "name": "stdout",
     "output_type": "stream",
     "text": [
      "Printing evaluation loaded from disk...\n",
      "{'test_set_evaluation': {'accuracy': 0.3151515151515151,\n",
      "                         'f1': 0.27774650504295406,\n",
      "                         'fMeasureByLabel': 0.6382978723404256,\n",
      "                         'falsePositiveRateByLabel': 0.2109375,\n",
      "                         'precisionByLabel': 0.5263157894736842,\n",
      "                         'recallByLabel': 0.8108108108108109,\n",
      "                         'truePositiveRateByLabel': 0.8108108108108109,\n",
      "                         'weightedFMeasure': 0.27774650504295406,\n",
      "                         'weightedFalsePositiveRate': 0.16813486230463842,\n",
      "                         'weightedPrecision': 0.29454464502997724,\n",
      "                         'weightedRecall': 0.3151515151515152,\n",
      "                         'weightedTruePositiveRate': 0.3151515151515152},\n",
      " 'train_set_evaluation': {'accuracy': 0.3002056202878684,\n",
      "                          'f1': 0.26910860258380126,\n",
      "                          'fMeasureByLabel': 0.5664160401002506,\n",
      "                          'falsePositiveRateByLabel': 0.2353448275862069,\n",
      "                          'precisionByLabel': 0.4529058116232465,\n",
      "                          'recallByLabel': 0.7558528428093646,\n",
      "                          'truePositiveRateByLabel': 0.7558528428093646,\n",
      "                          'weightedFMeasure': 0.26910860258380126,\n",
      "                          'weightedFalsePositiveRate': 0.18000225646835535,\n",
      "                          'weightedPrecision': 0.2907051091346521,\n",
      "                          'weightedRecall': 0.3002056202878684,\n",
      "                          'weightedTruePositiveRate': 0.3002056202878684}}\n"
     ]
    }
   ],
   "source": [
    "if not model_exists(\n",
    "    TRAINED_MODELS_DIRS[\"Attempt 3\"][\"Classification\"][\"SVM\"]\n",
    "):\n",
    "    print(\n",
    "        \"Evaluating SVM Classifier model trained in previous cell...\"\n",
    "    )\n",
    "    evaluate_learning_models(\n",
    "        best_model=cross_validated_models.bestModel,\n",
    "        evaluators=get_evaluators(\n",
    "            cross_validated_models.bestModel, \n",
    "            label_col=CLASSIFICATION_LABEL_COL, \n",
    "            prediction_col=PREDICTION_COL, \n",
    "            evaluation_metrics=CLASSIFICATION_EVALUATION_METRICS\n",
    "        ),\n",
    "        save_training_result_path=\"./evaluation_results/attempt_3/classification/svm.json\"\n",
    "    )\n",
    "else:\n",
    "    print(\"Printing evaluation loaded from disk...\")\n",
    "    print_model_evaluation(\n",
    "        model_evaluation_path=\"./evaluation_results/attempt_3/classification/svm.json\"\n",
    "    )"
   ]
  },
  {
   "cell_type": "code",
   "execution_count": 91,
   "metadata": {},
   "outputs": [],
   "source": [
    "if not model_exists(\n",
    "    TRAINED_MODELS_DIRS[\"Attempt 3\"][\"Classification\"][\"SVM\"]\n",
    "):\n",
    "    print(\"Saving SVM Classification model on disk...\")\n",
    "    cross_validated_models.bestModel.save(\n",
    "        \"./trained_models/attempt_3/classification/svm\"\n",
    "    )"
   ]
  },
  {
   "cell_type": "markdown",
   "metadata": {},
   "source": [
    "#### Logistic Regression"
   ]
  },
  {
   "cell_type": "code",
   "execution_count": 95,
   "metadata": {},
   "outputs": [
    {
     "name": "stdout",
     "output_type": "stream",
     "text": [
      "Logistic Regression Classification model found in disk, loading...\n"
     ]
    }
   ],
   "source": [
    "from pyspark.ml.classification import OneVsRest\n",
    "from pyspark.ml.classification import OneVsRestModel\n",
    "from pyspark.ml.classification import LogisticRegression\n",
    "\n",
    "PREDICTION_COL = \"attempt_3_classification_logistic_regression_predictions\"\n",
    "\n",
    "if not model_exists(\n",
    "    TRAINED_MODELS_DIRS[\"Attempt 3\"][\"Classification\"][\"Logistic Regression\"]\n",
    "):\n",
    "    print(\"Logistic Regression Classification model NOT found in disk, training...\")\n",
    "    classification_evaluator_cv.setPredictionCol(PREDICTION_COL)\n",
    "    \n",
    "    estimator = OneVsRest(\n",
    "        classifier=LogisticRegression(\n",
    "            featuresCol=FEATURES_COL,\n",
    "            labelCol=CLASSIFICATION_LABEL_COL,\n",
    "            predictionCol=PREDICTION_COL,\n",
    "        ),\n",
    "        featuresCol=FEATURES_COL,\n",
    "        labelCol=CLASSIFICATION_LABEL_COL,\n",
    "        predictionCol=PREDICTION_COL\n",
    "    )\n",
    "\n",
    "    param_grid = (\n",
    "        ParamGridBuilder()\n",
    "        .addGrid(estimator.featuresCol, [FEATURES_COL])\n",
    "        .addGrid(estimator.labelCol, [CLASSIFICATION_LABEL_COL])\n",
    "        .addGrid(estimator.predictionCol, [PREDICTION_COL])\n",
    "        .build()\n",
    "    )\n",
    "\n",
    "    cross_validated_models = learn_best_model(\n",
    "        estimator=estimator,\n",
    "        param_grid=param_grid,\n",
    "        evaluator_cv=classification_evaluator_cv\n",
    "    )\n",
    "else:\n",
    "    print(\"Logistic Regression Classification model found in disk, loading...\")\n",
    "    model = OneVsRestModel.load(\n",
    "        TRAINED_MODELS_DIRS[\"Attempt 3\"][\"Classification\"][\"Logistic Regression\"]\n",
    "    )\n"
   ]
  },
  {
   "cell_type": "code",
   "execution_count": 94,
   "metadata": {},
   "outputs": [
    {
     "name": "stdout",
     "output_type": "stream",
     "text": [
      "Printing evaluation loaded from disk...\n",
      "{'test_set_evaluation': {'accuracy': 0.37341772151898733,\n",
      "                         'f1': 0.3227396303449325,\n",
      "                         'fMeasureByLabel': 0.5714285714285714,\n",
      "                         'falsePositiveRateByLabel': 0.1889763779527559,\n",
      "                         'precisionByLabel': 0.4782608695652174,\n",
      "                         'recallByLabel': 0.7096774193548387,\n",
      "                         'truePositiveRateByLabel': 0.7096774193548387,\n",
      "                         'weightedFMeasure': 0.3227396303449325,\n",
      "                         'weightedFalsePositiveRate': 0.15997294341234222,\n",
      "                         'weightedPrecision': 0.35423382341379034,\n",
      "                         'weightedRecall': 0.3734177215189873,\n",
      "                         'weightedTruePositiveRate': 0.3734177215189873},\n",
      " 'train_set_evaluation': {'accuracy': 0.3567530695770805,\n",
      "                          'f1': 0.31552533412719413,\n",
      "                          'fMeasureByLabel': 0.5798969072164949,\n",
      "                          'falsePositiveRateByLabel': 0.21188630490956073,\n",
      "                          'precisionByLabel': 0.47770700636942676,\n",
      "                          'recallByLabel': 0.7377049180327869,\n",
      "                          'truePositiveRateByLabel': 0.7377049180327869,\n",
      "                          'weightedFMeasure': 0.31552533412719413,\n",
      "                          'weightedFalsePositiveRate': 0.16733636885943706,\n",
      "                          'weightedPrecision': 0.3606773775469474,\n",
      "                          'weightedRecall': 0.3567530695770804,\n",
      "                          'weightedTruePositiveRate': 0.3567530695770804}}\n"
     ]
    }
   ],
   "source": [
    "if not model_exists(\n",
    "    TRAINED_MODELS_DIRS[\"Attempt 3\"][\"Classification\"][\"Logistic Regression\"]\n",
    "):\n",
    "    print(\n",
    "        \"Evaluating Logistic Regression Classifier model trained in previous cell...\"\n",
    "    )\n",
    "    evaluate_learning_models(\n",
    "        best_model=cross_validated_models.bestModel,\n",
    "        evaluators=get_evaluators(\n",
    "            cross_validated_models.bestModel, \n",
    "            label_col=CLASSIFICATION_LABEL_COL, \n",
    "            prediction_col=PREDICTION_COL, \n",
    "            evaluation_metrics=CLASSIFICATION_EVALUATION_METRICS\n",
    "        ),\n",
    "        save_training_result_path=\"./evaluation_results/attempt_3/classification/logistic_regression.json\"\n",
    "    )\n",
    "else:\n",
    "    print(\"Printing evaluation loaded from disk...\")\n",
    "    print_model_evaluation(\n",
    "        model_evaluation_path=\"./evaluation_results/attempt_3/classification/logistic_regression.json\"\n",
    "    )"
   ]
  },
  {
   "cell_type": "code",
   "execution_count": 93,
   "metadata": {},
   "outputs": [],
   "source": [
    "if not model_exists(\n",
    "    TRAINED_MODELS_DIRS[\"Attempt 3\"][\"Classification\"][\"Logistic Regression\"]\n",
    "):\n",
    "    print(\"Saving Logistic Regression Classification model on disk...\")\n",
    "    cross_validated_models.bestModel.save(\n",
    "        \"./trained_models/attempt_3/classification/logistic_regression\"\n",
    "    )"
   ]
  },
  {
   "cell_type": "markdown",
   "metadata": {},
   "source": [
    "#### Decision Tree"
   ]
  },
  {
   "cell_type": "code",
   "execution_count": null,
   "metadata": {},
   "outputs": [],
   "source": [
    "from pyspark.ml.classification import DecisionTreeClassifier\n",
    "from pyspark.ml.classification import DecisionTreeClassificationModel\n",
    "\n",
    "PREDICTION_COL = \"attempt_3_classification_decision_tree_predictions\"\n",
    "\n",
    "if not model_exists(\n",
    "    TRAINED_MODELS_DIRS[\"Attempt 3\"][\"Classification\"][\"Decision Tree\"]\n",
    "):\n",
    "    print(\"Classification Decision Tree model NOT found in disk, training...\")\n",
    "    classification_evaluator_cv.setPredictionCol(PREDICTION_COL)\n",
    "    \n",
    "    estimator = DecisionTreeClassifier()\n",
    "\n",
    "    param_grid = (\n",
    "        ParamGridBuilder()\n",
    "        .addGrid(estimator.featuresCol, FEATURES_COL)\n",
    "        .addGrid(estimator.labelCol, [CLASSIFICATION_LABEL_COL])\n",
    "        .addGrid(estimator.predictionCol, [PREDICTION_COL])\n",
    "        # .addGrid(estimator.maxDepth, [5, 24])\n",
    "        # .addGrid(estimator.maxBins, [16, 32, 64])\n",
    "        # .addGrid(estimator.minInfoGain, [0, 0.1])\n",
    "        .build()\n",
    "    )\n",
    "\n",
    "    cross_validated_models = learn_best_model(\n",
    "        estimator=estimator,\n",
    "        param_grid=param_grid,\n",
    "        evaluator_cv=classification_evaluator_cv\n",
    "    )\n",
    "else:\n",
    "    print(\"Classification Decision Tree model found in disk, loading...\")\n",
    "    model = DecisionTreeClassificationModel.load(\n",
    "        TRAINED_MODELS_DIRS[\"Attempt 3\"][\"Classification\"][\"Decision Tree\"]\n",
    "    )\n",
    "    evaluators = get_evaluators(\n",
    "        model, \n",
    "        label_col=CLASSIFICATION_LABEL_COL, \n",
    "        prediction_col=PREDICTION_COL, \n",
    "        evaluation_metrics=CLASSIFICATION_EVALUATION_METRICS\n",
    "    )"
   ]
  },
  {
   "cell_type": "code",
   "execution_count": null,
   "metadata": {},
   "outputs": [],
   "source": [
    "if not model_exists(\n",
    "    TRAINED_MODELS_DIRS[\"Attempt 3\"][\"Classification\"][\"Decision Tree\"]\n",
    "):\n",
    "    print(\n",
    "        \"Evaluating Decision Tree model trained in previous cell...\"\n",
    "    )\n",
    "    evaluate_learning_models(\n",
    "        best_model=cross_validated_models.bestModel,\n",
    "        evaluators=get_evaluators(\n",
    "            cross_validated_models.bestModel, \n",
    "            label_col=CLASSIFICATION_LABEL_COL, \n",
    "            prediction_col=PREDICTION_COL, \n",
    "            evaluation_metrics=CLASSIFICATION_EVALUATION_METRICS\n",
    "        ),\n",
    "        save_training_result_path=\"./evaluation_results/attempt_3/classification/decision_tree.json\"\n",
    "    )\n",
    "else:\n",
    "    print(\"Printing evaluation loaded from disk...\")\n",
    "    print_model_evaluation(\n",
    "        model_evaluation_path=\"./evaluation_results/attempt_3/classification/decision_tree.json\"\n",
    "    )"
   ]
  },
  {
   "cell_type": "code",
   "execution_count": null,
   "metadata": {},
   "outputs": [],
   "source": [
    "if not model_exists(\n",
    "    TRAINED_MODELS_DIRS[\"Attempt 3\"][\"Classification\"][\"Decision Tree\"]\n",
    "):\n",
    "    print(\"Saving Decision Tree model on disk...\")\n",
    "    cross_validated_models.bestModel.save(\n",
    "        \"./trained_models/attempt_3/classification/decision_tree\"\n",
    "    )"
   ]
  },
  {
   "cell_type": "markdown",
   "metadata": {},
   "source": [
    "#### Random Forest"
   ]
  },
  {
   "cell_type": "code",
   "execution_count": null,
   "metadata": {},
   "outputs": [],
   "source": [
    "from pyspark.ml.classification import RandomForestClassifier\n",
    "from pyspark.ml.classification import RandomForestClassificationModel\n",
    "\n",
    "PREDICTION_COL = \"attempt_3_classification_random_forest_predictions\"\n",
    "\n",
    "if not model_exists(\n",
    "    TRAINED_MODELS_DIRS[\"Attempt 3\"][\"Classification\"][\"Random Forest\"]\n",
    "):\n",
    "    print(\"Classification Random Forest model NOT found in disk, training...\")\n",
    "    \n",
    "    classification_evaluator_cv.setPredictionCol(PREDICTION_COL)\n",
    "    \n",
    "    estimator = RandomForestClassifier()\n",
    "\n",
    "    param_grid = (\n",
    "        ParamGridBuilder()\n",
    "        .addGrid(estimator.featuresCol, FEATURES_COL)\n",
    "        .addGrid(estimator.labelCol, [CLASSIFICATION_LABEL_COL])\n",
    "        .addGrid(estimator.predictionCol, [PREDICTION_COL])\n",
    "        # .addGrid(estimator.maxDepth, [5, 24])\n",
    "        # .addGrid(estimator.maxBins, [32, 64])\n",
    "        # .addGrid(estimator.minInfoGain, [0, 0.1])\n",
    "        # .addGrid(estimator.subsamplingRate, [0.5, 1])\n",
    "        # .addGrid(estimator.lossType, [\"squared\", \"absolute\"])\n",
    "        # .addGrid(estimator.numTrees, [20, 40])\n",
    "        # .addGrid(estimator.featureSubsetStrategy, [\"auto\", \"onethird\", \"all\", \"log2\"])\n",
    "        .build()\n",
    "    )\n",
    "\n",
    "    cross_validated_models = learn_best_model(\n",
    "        estimator=estimator,\n",
    "        param_grid=param_grid,\n",
    "        evaluator_cv=classification_evaluator_cv\n",
    "    )\n",
    "else:\n",
    "    print(\"Classification Random Forest model found in disk, loading...\")\n",
    "    model = RandomForestClassificationModel.load(\n",
    "        TRAINED_MODELS_DIRS[\"Attempt 3\"][\"Classification\"][\"Random Forest\"]\n",
    "    )"
   ]
  },
  {
   "cell_type": "code",
   "execution_count": null,
   "metadata": {},
   "outputs": [],
   "source": [
    "if not model_exists(\n",
    "    TRAINED_MODELS_DIRS[\"Attempt 3\"][\"Classification\"][\"Random Forest\"]\n",
    "):\n",
    "    print(\n",
    "        \"Evaluating Random Forest model trained in previous cell...\"\n",
    "    )\n",
    "    evaluate_learning_models(\n",
    "        best_model=cross_validated_models.bestModel,\n",
    "        evaluators=get_evaluators(\n",
    "            cross_validated_models.bestModel, \n",
    "            label_col=CLASSIFICATION_LABEL_COL, \n",
    "            prediction_col=PREDICTION_COL, \n",
    "            evaluation_metrics=CLASSIFICATION_EVALUATION_METRICS\n",
    "        ),\n",
    "        save_training_result_path=\"./evaluation_results/attempt_3/classification/random_forest.json\"\n",
    "    )\n",
    "else:\n",
    "    print(\"Printing evaluation loaded from disk...\")\n",
    "    print_model_evaluation(\n",
    "        model_evaluation_path=\"./evaluation_results/attempt_3/classification/random_forest.json\"\n",
    "    )"
   ]
  },
  {
   "cell_type": "code",
   "execution_count": null,
   "metadata": {},
   "outputs": [],
   "source": [
    "if not model_exists(\n",
    "    TRAINED_MODELS_DIRS[\"Attempt 3\"][\"Classification\"][\"Random Forest\"]\n",
    "):\n",
    "    print(\"Saving Random Forest Classification model on disk...\")\n",
    "    cross_validated_models.bestModel.save(\n",
    "        \"./trained_models/attempt_3/classification/random_forest\"\n",
    "    )"
   ]
  },
  {
   "cell_type": "markdown",
   "metadata": {},
   "source": [
    "#### MLP"
   ]
  },
  {
   "cell_type": "code",
   "execution_count": null,
   "metadata": {},
   "outputs": [],
   "source": [
    "from pyspark.ml.classification import MultilayerPerceptronClassifier\n",
    "from pyspark.ml.classification import MultilayerPerceptronClassificationModel\n",
    "\n",
    "PREDICTION_COL = \"attempt_3_classification_mlp_predictions\"\n",
    "\n",
    "if not model_exists(\n",
    "    TRAINED_MODELS_DIRS[\"Attempt 3\"][\"Classification\"][\"MLP\"]\n",
    "):\n",
    "    print(\"Classification MLP model NOT found in disk, training...\")\n",
    "    \n",
    "    classification_evaluator_cv.setPredictionCol(PREDICTION_COL)\n",
    "    \n",
    "    estimator = MultilayerPerceptronClassifier()\n",
    "\n",
    "    param_grid = (\n",
    "        ParamGridBuilder()\n",
    "        .addGrid(estimator.featuresCol, FEATURES_COL)\n",
    "        .addGrid(estimator.labelCol, [CLASSIFICATION_LABEL_COL])\n",
    "        .addGrid(estimator.predictionCol, [PREDICTION_COL])\n",
    "        .addGrid(estimator.layers, [[NUM_MACRO_ROLES, NUM_MACRO_PLACES]])\n",
    "        .addGrid(estimator.solver, [\"gd\"])\n",
    "        .build()\n",
    "    )\n",
    "\n",
    "    cross_validated_models = learn_best_model(\n",
    "        estimator=estimator,\n",
    "        param_grid=param_grid,\n",
    "        evaluator_cv=classification_evaluator_cv\n",
    "    )\n",
    "else:\n",
    "    print(\"Classification MLP model found in disk, loading...\")\n",
    "    model = MultilayerPerceptronClassificationModel.load(\n",
    "        TRAINED_MODELS_DIRS[\"Attempt 3\"][\"Classification\"][\"MLP\"]\n",
    "    )"
   ]
  },
  {
   "cell_type": "code",
   "execution_count": null,
   "metadata": {},
   "outputs": [],
   "source": [
    "if not model_exists(\n",
    "    TRAINED_MODELS_DIRS[\"Attempt 3\"][\"Classification\"][\"MLP\"]\n",
    "):\n",
    "    print(\n",
    "        \"Evaluating MLP model trained in previous cell...\"\n",
    "    )\n",
    "    evaluate_learning_models(\n",
    "        best_model=cross_validated_models.bestModel,\n",
    "        evaluators=get_evaluators(\n",
    "            cross_validated_models.bestModel, \n",
    "            label_col=CLASSIFICATION_LABEL_COL, \n",
    "            prediction_col=PREDICTION_COL, \n",
    "            evaluation_metrics=CLASSIFICATION_EVALUATION_METRICS\n",
    "        ),\n",
    "        save_training_result_path=\"./evaluation_results/attempt_3/classification/mlp.json\"\n",
    "    )\n",
    "else:\n",
    "    print(\"Printing evaluation loaded from disk...\")\n",
    "    print_model_evaluation(\n",
    "        model_evaluation_path=\"./evaluation_results/attempt_3/classification/mlp.json\"\n",
    "    )"
   ]
  },
  {
   "cell_type": "code",
   "execution_count": null,
   "metadata": {},
   "outputs": [],
   "source": [
    "if not model_exists(\n",
    "    TRAINED_MODELS_DIRS[\"Attempt 3\"][\"Classification\"][\"MLP\"]\n",
    "):\n",
    "    print(\"Saving MLP Classification model on disk...\")\n",
    "    cross_validated_models.bestModel.save(\n",
    "        \"./trained_models/attempt_3/classification/mlp\"\n",
    "    )"
   ]
  },
  {
   "cell_type": "markdown",
   "metadata": {},
   "source": [
    "## Clustering-learning cross evaluation\n",
    "\n",
    "Classic left-right plot, with:\n",
    "Left Y --> elbow result\n",
    "Right Y --> accuracy\n",
    "X axis --> # clusters"
   ]
  },
  {
   "cell_type": "markdown",
   "metadata": {},
   "source": []
  },
  {
   "cell_type": "markdown",
   "metadata": {},
   "source": [
    "# Attempt 4: thinking \"Deep\", shallow injecting some priors"
   ]
  },
  {
   "cell_type": "code",
   "execution_count": 53,
   "metadata": {},
   "outputs": [],
   "source": [
    "rp_df = df"
   ]
  },
  {
   "cell_type": "code",
   "execution_count": 54,
   "metadata": {},
   "outputs": [],
   "source": [
    "MAX_PLACE = 21"
   ]
  },
  {
   "cell_type": "markdown",
   "metadata": {},
   "source": [
    "## Computing the prior (RP coefficient)"
   ]
  },
  {
   "cell_type": "code",
   "execution_count": 55,
   "metadata": {},
   "outputs": [],
   "source": [
    "rp_df.select(\"season\", \"club_name\", \"place\").createOrReplaceTempView(\"t\")"
   ]
  },
  {
   "cell_type": "code",
   "execution_count": 56,
   "metadata": {},
   "outputs": [],
   "source": [
    "rp_df = spark.sql(\n",
    "    f\"\"\"\n",
    "    select t.season, t.club_name,\n",
    "        avg(\n",
    "            (\n",
    "                select sub.place\n",
    "                where sub.season < t.season and sub.club_name == t.club_name\n",
    "            )\n",
    "        ) as rp_coeff\n",
    "    from t, t as sub\n",
    "    group by t.season, t.club_name\n",
    "    order by t.season desc\n",
    "    \"\"\"\n",
    ").fillna(MAX_PLACE)"
   ]
  },
  {
   "cell_type": "code",
   "execution_count": 57,
   "metadata": {},
   "outputs": [],
   "source": [
    "rp_df = rp_df.withColumn(\"rp_coeff\", MAX_PLACE - col(\"rp_coeff\"))"
   ]
  },
  {
   "cell_type": "code",
   "execution_count": 58,
   "metadata": {},
   "outputs": [],
   "source": [
    "add_normalize_by_rp_UDF = udf(\n",
    "    lambda points, rp, tradeoff: points + tradeoff * rp, DoubleType()\n",
    ")"
   ]
  },
  {
   "cell_type": "code",
   "execution_count": 59,
   "metadata": {},
   "outputs": [],
   "source": [
    "rp_df = rp_df.join(\n",
    "    df, on=[\"club_name\", \"season\"]\n",
    ")"
   ]
  },
  {
   "cell_type": "code",
   "execution_count": 60,
   "metadata": {},
   "outputs": [],
   "source": [
    "from pyspark.ml.feature import VectorAssembler\n",
    "\n",
    "RP_NORMALIZED_COLS = [\n",
    "    f\"avg(overall)_rp_normalized_tradeoff_{tradeoff}\".replace(\n",
    "        \".\", \"-\"\n",
    "    ) for tradeoff in ADD_RP_TRADEOFF\n",
    "]\n",
    "\n",
    "for tradeoff, col_name in zip(ADD_RP_TRADEOFF, RP_NORMALIZED_COLS):\n",
    "    rp_df = rp_df.withColumn(\n",
    "        col_name, add_normalize_by_rp_UDF(\n",
    "            col(\"avg(overall)\"), col(\"rp_coeff\"), lit(tradeoff)\n",
    "        )\n",
    "    )\n",
    "\n",
    "    assembler = VectorAssembler(\n",
    "        inputCols=[col_name], \n",
    "        outputCol=col_name + \"_vec\"\n",
    "    )\n",
    "\n",
    "    rp_df = assembler.transform(rp_df)"
   ]
  },
  {
   "cell_type": "markdown",
   "metadata": {},
   "source": [
    "## Learning"
   ]
  },
  {
   "cell_type": "code",
   "execution_count": 61,
   "metadata": {},
   "outputs": [],
   "source": [
    "train_df, test_df = rp_df.randomSplit([0.9, 0.1], seed=random_seed)\n",
    "\n",
    "FEATURES_COL = [\n",
    "    rp_normalized_col + \"_vec\" for rp_normalized_col in RP_NORMALIZED_COLS\n",
    "]"
   ]
  },
  {
   "cell_type": "markdown",
   "metadata": {},
   "source": [
    "### Regression"
   ]
  },
  {
   "cell_type": "code",
   "execution_count": 62,
   "metadata": {},
   "outputs": [
    {
     "data": {
      "text/plain": [
       "RegressionEvaluator_777fe58c5e45"
      ]
     },
     "execution_count": 62,
     "metadata": {},
     "output_type": "execute_result"
    }
   ],
   "source": [
    "regression_evaluator_cv.setLabelCol(REGRESSION_LABEL_COL)"
   ]
  },
  {
   "cell_type": "markdown",
   "metadata": {},
   "source": [
    "#### Linear Regression"
   ]
  },
  {
   "cell_type": "code",
   "execution_count": null,
   "metadata": {},
   "outputs": [],
   "source": [
    "from pyspark.ml.regression import LinearRegression\n",
    "from pyspark.ml.regression import LinearRegressionModel\n",
    "\n",
    "PREDICTION_COL = \"attempt_4_regression_linear_regression_predictions\"\n",
    "\n",
    "if not model_exists(\n",
    "    TRAINED_MODELS_DIRS[\"Attempt 4\"][\"Regression\"][\"Linear Regression\"]\n",
    "):\n",
    "    print(\"Linear Regression model NOT found in disk, training...\")\n",
    "    regression_evaluator_cv.setPredictionCol(PREDICTION_COL)\n",
    "    \n",
    "    estimator = LinearRegression()\n",
    "\n",
    "    linear_regression_param_grid = (\n",
    "        ParamGridBuilder()\n",
    "        .addGrid(estimator.featuresCol, FEATURES_COL)\n",
    "        .addGrid(estimator.labelCol, [REGRESSION_LABEL_COL])\n",
    "        .addGrid(estimator.predictionCol, [PREDICTION_COL])\n",
    "        # .addGrid(estimator.regParam, [0.0, 0.001, 0.01, 0.1, 0.5, 1])\n",
    "        # .addGrid(estimator.solver, [\"auto\", \"normal\"])\n",
    "        # .addGrid(estimator.fitIntercept, [True, False])\n",
    "        # .addGrid(estimator.elasticNetParam, [0.0, 0.5, 1.0])\n",
    "        .build()\n",
    "    )\n",
    "\n",
    "    cross_validated_models = learn_best_model(\n",
    "        estimator=estimator,\n",
    "        param_grid=linear_regression_param_grid,\n",
    "        evaluator_cv=regression_evaluator_cv\n",
    "    )\n",
    "else:\n",
    "    print(\"Linear Regression model found in disk, loading...\")\n",
    "    model = LinearRegressionModel.load(\n",
    "        TRAINED_MODELS_DIRS[\"Attempt 4\"][\"Regression\"][\"Linear Regression\"]\n",
    "    )"
   ]
  },
  {
   "cell_type": "code",
   "execution_count": null,
   "metadata": {},
   "outputs": [],
   "source": [
    "if not model_exists(\n",
    "    TRAINED_MODELS_DIRS[\"Attempt 4\"][\"Regression\"][\"Linear Regression\"]\n",
    "):\n",
    "    print(\"Evaluating Linear Regression model trained in previous cell...\")\n",
    "    evaluate_learning_models(\n",
    "        best_model=cross_validated_models.bestModel,\n",
    "        evaluators=get_evaluators(\n",
    "            cross_validated_models.bestModel, \n",
    "            label_col=REGRESSION_LABEL_COL, \n",
    "            prediction_col=PREDICTION_COL, \n",
    "            evaluation_metrics=REGRESSION_EVALUATION_METRICS\n",
    "        ),\n",
    "        save_training_result_path=\"./evaluation_results/attempt_4/regression/linear_regression.json\"\n",
    "    )\n",
    "else:\n",
    "    print(\"Printing evaluation loaded from disk...\")\n",
    "    print_model_evaluation(\n",
    "        model_evaluation_path=\"./evaluation_results/attempt_4/regression/linear_regression.json\"\n",
    "    )"
   ]
  },
  {
   "cell_type": "code",
   "execution_count": null,
   "metadata": {},
   "outputs": [],
   "source": [
    "if not model_exists(\n",
    "    TRAINED_MODELS_DIRS[\"Attempt 4\"][\"Regression\"][\"Linear Regression\"]\n",
    "):\n",
    "    print(\"Saving Linear Regression model on disk...\")\n",
    "    cross_validated_models.bestModel.save(\n",
    "        \"./trained_models/attempt_4/regression/linear_regression\"\n",
    "    )"
   ]
  },
  {
   "cell_type": "markdown",
   "metadata": {},
   "source": [
    "#### Linear Regression multiple rp tradeoffs"
   ]
  },
  {
   "cell_type": "code",
   "execution_count": 63,
   "metadata": {},
   "outputs": [],
   "source": [
    "cross_validated_models_dict = dict()"
   ]
  },
  {
   "cell_type": "code",
   "execution_count": 64,
   "metadata": {},
   "outputs": [
    {
     "name": "stdout",
     "output_type": "stream",
     "text": [
      "Linear Regression multiple tradeoffs with tradeoff=0.5 model found in disk, loading...\n",
      "Linear Regression multiple tradeoffs with tradeoff=1 model found in disk, loading...\n",
      "Linear Regression multiple tradeoffs with tradeoff=2 model found in disk, loading...\n",
      "Linear Regression multiple tradeoffs with tradeoff=4 model found in disk, loading...\n",
      "Linear Regression multiple tradeoffs with tradeoff=8 model found in disk, loading...\n"
     ]
    }
   ],
   "source": [
    "from pyspark.ml.regression import LinearRegression\n",
    "from pyspark.ml.regression import LinearRegressionModel\n",
    "\n",
    "for tradeoff, col_name in zip(ADD_RP_TRADEOFF, FEATURES_COL):\n",
    "    PREDICTION_COL = \"attempt_4_regression_linear_regression_multiple_tradeoffs_{tradeoff}_predictions\"\n",
    "\n",
    "    if not model_exists(\n",
    "        TRAINED_MODELS_DIRS[\"Attempt 4\"][\"Regression\"][\"Linear Regression multiple tradeoffs\"][tradeoff]\n",
    "    ):\n",
    "        print(\n",
    "            f\"Linear Regression multiple tradeoffs with tradeoff={tradeoff} model NOT found in disk, training...\"\n",
    "        )\n",
    "        regression_evaluator_cv.setPredictionCol(PREDICTION_COL)\n",
    "        \n",
    "        estimator = LinearRegression()\n",
    "\n",
    "        linear_regression_param_grid = (\n",
    "            ParamGridBuilder()\n",
    "            .addGrid(estimator.featuresCol, [col_name])\n",
    "            .addGrid(estimator.labelCol, [REGRESSION_LABEL_COL])\n",
    "            .addGrid(estimator.predictionCol, [PREDICTION_COL])\n",
    "            # .addGrid(estimator.regParam, [0.0, 0.001, 0.01, 0.1, 0.5, 1])\n",
    "            # .addGrid(estimator.solver, [\"auto\", \"normal\"])\n",
    "            # .addGrid(estimator.fitIntercept, [True, False])\n",
    "            # .addGrid(estimator.elasticNetParam, [0.0, 0.5, 1.0])\n",
    "            .build()\n",
    "        )\n",
    "\n",
    "        cross_validated_models_dict[tradeoff] = learn_best_model(\n",
    "            estimator=estimator,\n",
    "            param_grid=linear_regression_param_grid,\n",
    "            evaluator_cv=regression_evaluator_cv\n",
    "        )\n",
    "    else:\n",
    "        print(f\"Linear Regression multiple tradeoffs with tradeoff={tradeoff} model found in disk, loading...\")\n",
    "        model = LinearRegressionModel.load(\n",
    "            TRAINED_MODELS_DIRS[\"Attempt 4\"][\"Regression\"][\"Linear Regression multiple tradeoffs\"][tradeoff]\n",
    "        )"
   ]
  },
  {
   "cell_type": "code",
   "execution_count": 65,
   "metadata": {},
   "outputs": [],
   "source": [
    "model_evals_dict = dict()"
   ]
  },
  {
   "cell_type": "code",
   "execution_count": 66,
   "metadata": {},
   "outputs": [
    {
     "name": "stdout",
     "output_type": "stream",
     "text": [
      "Printing evaluation loaded from disk...\n",
      "{'test_set_evaluation': {'mae': 9.046497990917569,\n",
      "                         'mse': 127.45138451286398,\n",
      "                         'r2': 0.5407495801200213,\n",
      "                         'rmse': 11.289436855435438,\n",
      "                         'var': 141.19610738379856},\n",
      " 'train_set_evaluation': {'explainedVariance': 130.71833706165154,\n",
      "                          'meanAbsoluteError': 9.453983541957854,\n",
      "                          'meanSquaredError': 141.54407655169206,\n",
      "                          'r2': 0.4801189239704148,\n",
      "                          'r2adj': 0.47976622310472306,\n",
      "                          'rootMeanSquaredError': 11.897229784773094}}\n",
      "Printing evaluation loaded from disk...\n",
      "{'test_set_evaluation': {'mae': 9.117224308502532,\n",
      "                         'mse': 133.21169335981804,\n",
      "                         'r2': 0.519993240228437,\n",
      "                         'rmse': 11.541737016576754,\n",
      "                         'var': 127.86583418771075},\n",
      " 'train_set_evaluation': {'explainedVariance': 122.40620965189439,\n",
      "                          'meanAbsoluteError': 9.665757060243498,\n",
      "                          'meanSquaredError': 149.85620396139618,\n",
      "                          'r2': 0.4495890858653646,\n",
      "                          'r2adj': 0.44921567276215246,\n",
      "                          'rootMeanSquaredError': 12.241576857635465}}\n",
      "Printing evaluation loaded from disk...\n",
      "{'test_set_evaluation': {'mae': 9.449647002323404,\n",
      "                         'mse': 147.04464112742494,\n",
      "                         'r2': 0.47014845356933177,\n",
      "                         'rmse': 12.1261964823033,\n",
      "                         'var': 109.2914285024422},\n",
      " 'train_set_evaluation': {'explainedVariance': 108.03796964865506,\n",
      "                          'meanAbsoluteError': 10.083971493169205,\n",
      "                          'meanSquaredError': 164.2244439646372,\n",
      "                          'r2': 0.3968155876341737,\n",
      "                          'r2adj': 0.39640637161492953,\n",
      "                          'rootMeanSquaredError': 12.81500854329162}}\n",
      "Printing evaluation loaded from disk...\n",
      "{'test_set_evaluation': {'mae': 9.805304982788652,\n",
      "                         'mse': 160.0642520329508,\n",
      "                         'r2': 0.4232343945507482,\n",
      "                         'rmse': 12.65165017035133,\n",
      "                         'var': 94.91201830809744},\n",
      " 'train_set_evaluation': {'explainedVariance': 95.82778854209799,\n",
      "                          'meanAbsoluteError': 10.425820668065898,\n",
      "                          'meanSquaredError': 176.43462507120307,\n",
      "                          'r2': 0.35196848242960277,\n",
      "                          'r2adj': 0.3515288409658508,\n",
      "                          'rootMeanSquaredError': 13.282869609809586}}\n",
      "Printing evaluation loaded from disk...\n",
      "{'test_set_evaluation': {'mae': 10.049243413070544,\n",
      "                         'mse': 168.63338144689106,\n",
      "                         'r2': 0.39235692471078154,\n",
      "                         'rmse': 12.985891630800369,\n",
      "                         'var': 86.31809722490662},\n",
      " 'train_set_evaluation': {'explainedVariance': 88.1620114629711,\n",
      "                          'meanAbsoluteError': 10.648771436179599,\n",
      "                          'meanSquaredError': 184.10040215032183,\n",
      "                          'r2': 0.32381264197633053,\n",
      "                          'r2adj': 0.32335389885691146,\n",
      "                          'rootMeanSquaredError': 13.568360333891558}}\n"
     ]
    }
   ],
   "source": [
    "for tradeoff, col_name in zip(ADD_RP_TRADEOFF, FEATURES_COL):\n",
    "    if not model_exists(\n",
    "        TRAINED_MODELS_DIRS[\"Attempt 4\"][\"Regression\"][\"Linear Regression multiple tradeoffs\"][tradeoff]\n",
    "    ):\n",
    "        print(\n",
    "            f\"Evaluating Linear Regression multiple tradeoffs with tradeoff={tradeoff} model trained in previous cell...\")\n",
    "        evaluate_learning_models(\n",
    "            best_model=cross_validated_models_dict[tradeoff].bestModel,\n",
    "            evaluators=get_evaluators(\n",
    "                cross_validated_models_dict[tradeoff].bestModel, \n",
    "                label_col=REGRESSION_LABEL_COL, \n",
    "                prediction_col=PREDICTION_COL, \n",
    "                evaluation_metrics=REGRESSION_EVALUATION_METRICS\n",
    "            ),\n",
    "            save_training_result_path=f\"./evaluation_results/attempt_4/regression/linear_regression_multiple_tradeoffs/tradeoff_{tradeoff}.json\"\n",
    "        )\n",
    "    else:\n",
    "        print(\"Printing evaluation loaded from disk...\")\n",
    "        model_evals_dict[tradeoff] = print_model_evaluation(\n",
    "            model_evaluation_path=f\"./evaluation_results/attempt_4/regression/linear_regression_multiple_tradeoffs/tradeoff_{tradeoff}.json\"\n",
    "        )"
   ]
  },
  {
   "cell_type": "code",
   "execution_count": 74,
   "metadata": {},
   "outputs": [],
   "source": [
    "for tradeoff, col_name in zip(ADD_RP_TRADEOFF, FEATURES_COL):\n",
    "    if not model_exists(\n",
    "        TRAINED_MODELS_DIRS[\"Attempt 4\"][\"Regression\"][\"Linear Regression multiple tradeoffs\"][tradeoff]\n",
    "    ):\n",
    "        print(\n",
    "            f\"Saving Linear Regression multiple tradeoffs with tradeoff={tradeoff} model on disk...\"\n",
    "        )\n",
    "        cross_validated_models_dict[tradeoff].bestModel.save(\n",
    "            f\"./trained_models/attempt_4/regression/linear_regression_multiple_tradeoffs/tradeoff_{tradeoff}\"\n",
    "        )"
   ]
  },
  {
   "cell_type": "markdown",
   "metadata": {},
   "source": [
    "#### Prediction Tree"
   ]
  },
  {
   "cell_type": "code",
   "execution_count": null,
   "metadata": {},
   "outputs": [],
   "source": [
    "from pyspark.ml.regression import DecisionTreeRegressor\n",
    "from pyspark.ml.regression import DecisionTreeRegressionModel\n",
    "\n",
    "PREDICTION_COL = \"attempt_4_regression_decision_tree_predictions\"\n",
    "\n",
    "if not model_exists(\n",
    "    TRAINED_MODELS_DIRS[\"Attempt 4\"][\"Regression\"][\"Prediction Tree\"]\n",
    "):\n",
    "    print(\"Prediction Tree model NOT found in disk, training...\")\n",
    "    \n",
    "    regression_evaluator_cv.setPredictionCol(PREDICTION_COL)\n",
    "    \n",
    "    estimator = DecisionTreeRegressor()\n",
    "\n",
    "    param_grid = (\n",
    "        ParamGridBuilder()\n",
    "        .addGrid(estimator.featuresCol, FEATURES_COL)\n",
    "        .addGrid(estimator.labelCol, [REGRESSION_LABEL_COL])\n",
    "        .addGrid(estimator.predictionCol, [PREDICTION_COL])\n",
    "        # .addGrid(estimator.maxDepth, [5, 24])\n",
    "        # .addGrid(estimator.maxBins, [16, 32, 64])\n",
    "        # .addGrid(estimator.minInfoGain, [0, 0.1])\n",
    "        .build()\n",
    "    )\n",
    "\n",
    "    cross_validated_models = learn_best_model(\n",
    "        estimator=estimator,\n",
    "        param_grid=param_grid,\n",
    "        evaluator_cv=regression_evaluator_cv\n",
    "    )\n",
    "else:\n",
    "    print(\"Regression Decision Tree model found in disk, loading...\")\n",
    "    model = DecisionTreeRegressionModel.load(\n",
    "        TRAINED_MODELS_DIRS[\"Attempt 4\"][\"Regression\"][\"Prediction Tree\"]\n",
    "    )"
   ]
  },
  {
   "cell_type": "code",
   "execution_count": null,
   "metadata": {},
   "outputs": [],
   "source": [
    "if not model_exists(\n",
    "    TRAINED_MODELS_DIRS[\"Attempt 4\"][\"Regression\"][\"Prediction Tree\"]\n",
    "):\n",
    "    print(\n",
    "        \"Evaluating Prediction Tree model trained in previous cell...\"\n",
    "    )\n",
    "    evaluate_learning_models(\n",
    "        best_model=cross_validated_models.bestModel,\n",
    "        evaluators=get_evaluators(\n",
    "            cross_validated_models.bestModel, \n",
    "            label_col=REGRESSION_LABEL_COL, \n",
    "            prediction_col=PREDICTION_COL, \n",
    "            evaluation_metrics=REGRESSION_EVALUATION_METRICS\n",
    "        ),\n",
    "        save_training_result_path=\"./evaluation_results/attempt_4/regression/prediction_tree.json\"\n",
    "    )\n",
    "else:\n",
    "    print(\"Printing evaluation loaded from disk...\")\n",
    "    print_model_evaluation(\n",
    "        model_evaluation_path=\"./evaluation_results/attempt_4/regression/prediction_tree.json\"\n",
    "    )"
   ]
  },
  {
   "cell_type": "code",
   "execution_count": null,
   "metadata": {},
   "outputs": [],
   "source": [
    "if not model_exists(\n",
    "    TRAINED_MODELS_DIRS[\"Attempt 4\"][\"Regression\"][\"Prediction Tree\"]\n",
    "):\n",
    "    print(\"Saving Decision Tree Regressor model on disk...\")\n",
    "    cross_validated_models.bestModel.save(\n",
    "        \"./trained_models/attempt_4/regression/prediction_tree\"\n",
    "    )"
   ]
  },
  {
   "cell_type": "markdown",
   "metadata": {},
   "source": [
    "#### Gradient Boosted Tree Regression"
   ]
  },
  {
   "cell_type": "code",
   "execution_count": null,
   "metadata": {},
   "outputs": [],
   "source": [
    "from pyspark.ml.regression import GBTRegressor\n",
    "from pyspark.ml.regression import GBTRegressionModel\n",
    "\n",
    "PREDICTION_COL = \"attempt_4_regression_gradient_boosted_tree_predictions\"\n",
    "\n",
    "if not model_exists(\n",
    "    TRAINED_MODELS_DIRS[\"Attempt 4\"][\"Regression\"][\"Gradient Boosted Tree\"]\n",
    "):\n",
    "    print(\"Regression Gradient Boosted Tree model NOT found in disk, training...\")\n",
    "    \n",
    "    regression_evaluator_cv.setPredictionCol(PREDICTION_COL)\n",
    "    \n",
    "    estimator = GBTRegressor()\n",
    "\n",
    "    param_grid = (\n",
    "        ParamGridBuilder()\n",
    "        .addGrid(estimator.featuresCol, FEATURES_COL)\n",
    "        .addGrid(estimator.labelCol, [REGRESSION_LABEL_COL])\n",
    "        .addGrid(estimator.predictionCol, [PREDICTION_COL])\n",
    "        # .addGrid(estimator.maxDepth, [2, 5, 10])\n",
    "        # .addGrid(estimator.maxBins, [16, 32, 64])\n",
    "        # .addGrid(estimator.minInfoGain, [0, 0.1])\n",
    "        # .addGrid(estimator.subsamplingRate, [0.5, 1])\n",
    "        # .addGrid(estimator.lossType, [\"squared\", \"absolute\"])\n",
    "        .build()\n",
    "    )\n",
    "\n",
    "    cross_validated_models = learn_best_model(\n",
    "        estimator=estimator,\n",
    "        param_grid=param_grid,\n",
    "        evaluator_cv=regression_evaluator_cv\n",
    "    )\n",
    "else:\n",
    "    print(\"Regression Gradient Boosted Tree model found in disk, loading...\")\n",
    "    model = GBTRegressionModel.load(\n",
    "        TRAINED_MODELS_DIRS[\"Attempt 4\"][\"Regression\"][\"Gradient Boosted Tree\"]\n",
    "    )"
   ]
  },
  {
   "cell_type": "code",
   "execution_count": null,
   "metadata": {},
   "outputs": [],
   "source": [
    "if not model_exists(\n",
    "    TRAINED_MODELS_DIRS[\"Attempt 4\"][\"Regression\"][\"Gradient Boosted Tree\"]\n",
    "):\n",
    "    print(\n",
    "        \"Evaluating Gradient Boosted Tree model trained in previous cell...\"\n",
    "    )\n",
    "    evaluate_learning_models(\n",
    "        best_model=cross_validated_models.bestModel,\n",
    "        evaluators=get_evaluators(\n",
    "            cross_validated_models.bestModel, \n",
    "            label_col=REGRESSION_LABEL_COL, \n",
    "            prediction_col=PREDICTION_COL, \n",
    "            evaluation_metrics=REGRESSION_EVALUATION_METRICS\n",
    "        ),\n",
    "        save_training_result_path=\"./evaluation_results/attempt_4/regression/gradient_boosted_tree.json\"\n",
    "    )\n",
    "else:\n",
    "    print(\"Printing evaluation loaded from disk...\")\n",
    "    print_model_evaluation(\n",
    "        model_evaluation_path=\"./evaluation_results/attempt_4/regression/gradient_boosted_tree.json\"\n",
    "    )"
   ]
  },
  {
   "cell_type": "code",
   "execution_count": null,
   "metadata": {},
   "outputs": [],
   "source": [
    "if not model_exists(\n",
    "    TRAINED_MODELS_DIRS[\"Attempt 4\"][\"Regression\"][\"Gradient Boosted Tree\"]\n",
    "):\n",
    "    print(\"Saving Gradient Boosted Tree Regression model on disk...\")\n",
    "    cross_validated_models.bestModel.save(\n",
    "        \"./trained_models/attempt_4/regression/gradient_boosted_tree\"\n",
    "    )"
   ]
  },
  {
   "cell_type": "markdown",
   "metadata": {},
   "source": [
    "#### Random Forest Regression"
   ]
  },
  {
   "cell_type": "code",
   "execution_count": null,
   "metadata": {},
   "outputs": [],
   "source": [
    "from pyspark.ml.regression import RandomForestRegressor\n",
    "from pyspark.ml.regression import RandomForestRegressionModel\n",
    "\n",
    "PREDICTION_COL = \"attempt_4_regression_random_forest_predictions\"\n",
    "\n",
    "if not model_exists(\n",
    "    TRAINED_MODELS_DIRS[\"Attempt 4\"][\"Regression\"][\"Random Forest\"]\n",
    "):\n",
    "    print(\"Regression Random Forest model NOT found in disk, training...\")\n",
    "    \n",
    "    regression_evaluator_cv.setPredictionCol(PREDICTION_COL)\n",
    "    \n",
    "    estimator = RandomForestRegressor()\n",
    "\n",
    "    param_grid = (\n",
    "        ParamGridBuilder()\n",
    "        .addGrid(estimator.featuresCol, FEATURES_COL)\n",
    "        .addGrid(estimator.labelCol, [REGRESSION_LABEL_COL])\n",
    "        .addGrid(estimator.predictionCol, [PREDICTION_COL])\n",
    "        # .addGrid(estimator.maxDepth, [5, 24])\n",
    "        # .addGrid(estimator.maxBins, [32, 64])\n",
    "        # .addGrid(estimator.minInfoGain, [0, 0.1])\n",
    "        # .addGrid(estimator.subsamplingRate, [0.5, 1])\n",
    "        # .addGrid(estimator.lossType, [\"squared\", \"absolute\"])\n",
    "        # .addGrid(estimator.numTrees, [20, 40])\n",
    "        # .addGrid(\n",
    "        #     estimator.featureSubsetStrategy, \n",
    "        #     [\"auto\", \"onethird\", \"all\", \"log2\"]\n",
    "        # )\n",
    "        .build()\n",
    "    )\n",
    "\n",
    "    cross_validated_models = learn_best_model(\n",
    "        estimator=estimator,\n",
    "        param_grid=param_grid,\n",
    "        evaluator_cv=regression_evaluator_cv\n",
    "    )\n",
    "else:\n",
    "    print(\"Regression Random Forest model found in disk, loading...\")\n",
    "    model = RandomForestRegressionModel.load(\n",
    "        TRAINED_MODELS_DIRS[\"Attempt 4\"][\"Regression\"][\"Random Forest\"]\n",
    "    )"
   ]
  },
  {
   "cell_type": "code",
   "execution_count": null,
   "metadata": {},
   "outputs": [],
   "source": [
    "if not model_exists(\n",
    "    TRAINED_MODELS_DIRS[\"Attempt 4\"][\"Regression\"][\"Random Forest\"]\n",
    "):\n",
    "    print(\n",
    "        \"Evaluating Random Forest model trained in previous cell...\"\n",
    "    )\n",
    "    evaluate_learning_models(\n",
    "        best_model=cross_validated_models.bestModel,\n",
    "        evaluators=get_evaluators(\n",
    "            cross_validated_models.bestModel, \n",
    "            label_col=REGRESSION_LABEL_COL, \n",
    "            prediction_col=PREDICTION_COL, \n",
    "            evaluation_metrics=REGRESSION_EVALUATION_METRICS\n",
    "        ),\n",
    "        save_training_result_path=\"./evaluation_results/attempt_4/regression/random_forest.json\"\n",
    "    )\n",
    "else:\n",
    "    print(\"Printing evaluation loaded from disk...\")\n",
    "    print_model_evaluation(\n",
    "        model_evaluation_path=\"./evaluation_results/attempt_4/regression/random_forest.json\"\n",
    "    )"
   ]
  },
  {
   "cell_type": "code",
   "execution_count": null,
   "metadata": {},
   "outputs": [],
   "source": [
    "if not model_exists(\n",
    "    TRAINED_MODELS_DIRS[\"Attempt 4\"][\"Regression\"][\"Random Forest\"]\n",
    "):\n",
    "    print(\"Saving Random Forest Regression model on disk...\")\n",
    "    cross_validated_models.bestModel.save(\n",
    "        \"./trained_models/attempt_4/regression/random_forest\"\n",
    "    )"
   ]
  },
  {
   "cell_type": "markdown",
   "metadata": {},
   "source": [
    "### Classification"
   ]
  },
  {
   "cell_type": "code",
   "execution_count": null,
   "metadata": {},
   "outputs": [],
   "source": [
    "classification_evaluator_cv.setLabelCol(CLASSIFICATION_LABEL_COL)"
   ]
  },
  {
   "cell_type": "markdown",
   "metadata": {},
   "source": [
    "#### SVM Classifier"
   ]
  },
  {
   "cell_type": "code",
   "execution_count": null,
   "metadata": {},
   "outputs": [],
   "source": [
    "from pyspark.ml.classification import OneVsRest\n",
    "from pyspark.ml.classification import OneVsRestModel\n",
    "from pyspark.ml.classification import LinearSVC\n",
    "\n",
    "PREDICTION_COL = \"attempt_4_classification_svm_predictions\"\n",
    "\n",
    "if not model_exists(\n",
    "    TRAINED_MODELS_DIRS[\"Attempt 4\"][\"Classification\"][\"SVM\"]\n",
    "):\n",
    "    print(\"SVM Classification model NOT found in disk, training...\")\n",
    "    classification_evaluator_cv.setPredictionCol(PREDICTION_COL)\n",
    "    \n",
    "    estimator = OneVsRest(\n",
    "        classifier=LinearSVC(\n",
    "            featuresCol=FEATURES_COL,\n",
    "            labelCol=CLASSIFICATION_LABEL_COL,\n",
    "            predictionCol=PREDICTION_COL,\n",
    "        ),\n",
    "        featuresCol=FEATURES_COL[0],\n",
    "        labelCol=CLASSIFICATION_LABEL_COL,\n",
    "        predictionCol=PREDICTION_COL\n",
    "    )\n",
    "\n",
    "    param_grid = (\n",
    "        ParamGridBuilder()\n",
    "        .addGrid(estimator.featuresCol, [FEATURES_COL])\n",
    "        .addGrid(estimator.labelCol, [CLASSIFICATION_LABEL_COL])\n",
    "        .addGrid(estimator.predictionCol, [PREDICTION_COL])\n",
    "        .build()\n",
    "    )\n",
    "\n",
    "    cross_validated_models = learn_best_model(\n",
    "        estimator=estimator,\n",
    "        param_grid=param_grid,\n",
    "        evaluator_cv=classification_evaluator_cv\n",
    "    )\n",
    "else:\n",
    "    print(\"SVM Classification model found in disk, loading...\")\n",
    "    model = OneVsRestModel.load(\n",
    "        TRAINED_MODELS_DIRS[\"Attempt 4\"][\"Classification\"][\"SVM\"]\n",
    "    )\n"
   ]
  },
  {
   "cell_type": "code",
   "execution_count": null,
   "metadata": {},
   "outputs": [],
   "source": [
    "if not model_exists(\n",
    "    TRAINED_MODELS_DIRS[\"Attempt 4\"][\"Classification\"][\"SVM\"]\n",
    "):\n",
    "    print(\n",
    "        \"Evaluating SVM Classifier model trained in previous cell...\"\n",
    "    )\n",
    "    evaluate_learning_models(\n",
    "        best_model=cross_validated_models.bestModel,\n",
    "        evaluators=get_evaluators(\n",
    "            cross_validated_models.bestModel, \n",
    "            label_col=CLASSIFICATION_LABEL_COL, \n",
    "            prediction_col=PREDICTION_COL, \n",
    "            evaluation_metrics=CLASSIFICATION_EVALUATION_METRICS\n",
    "        ),\n",
    "        save_training_result_path=\"./evaluation_results/attempt_4/classification/svm.json\"\n",
    "    )\n",
    "else:\n",
    "    print(\"Printing evaluation loaded from disk...\")\n",
    "    print_model_evaluation(\n",
    "        model_evaluation_path=\"./evaluation_results/attempt_4/classification/svm.json\"\n",
    "    )"
   ]
  },
  {
   "cell_type": "code",
   "execution_count": null,
   "metadata": {},
   "outputs": [],
   "source": [
    "if not model_exists(\n",
    "    TRAINED_MODELS_DIRS[\"Attempt 4\"][\"Classification\"][\"SVM\"]\n",
    "):\n",
    "    print(\"Saving SVM Classification model on disk...\")\n",
    "    cross_validated_models.bestModel.save(\n",
    "        \"./trained_models/attempt_4/classification/svm\"\n",
    "    )"
   ]
  },
  {
   "cell_type": "markdown",
   "metadata": {},
   "source": [
    "#### Logistic Regression"
   ]
  },
  {
   "cell_type": "code",
   "execution_count": null,
   "metadata": {},
   "outputs": [],
   "source": [
    "from pyspark.ml.classification import OneVsRest\n",
    "from pyspark.ml.classification import OneVsRestModel\n",
    "from pyspark.ml.classification import LogisticRegression\n",
    "\n",
    "PREDICTION_COL = \"attempt_4_classification_logistic_regression_predictions\"\n",
    "\n",
    "if not model_exists(\n",
    "    TRAINED_MODELS_DIRS[\"Attempt 4\"][\"Classification\"][\"Logistic Regression\"]\n",
    "):\n",
    "    print(\"Logistic Regression Classification model NOT found in disk, training...\")\n",
    "    classification_evaluator_cv.setPredictionCol(PREDICTION_COL)\n",
    "    \n",
    "    estimator = OneVsRest(\n",
    "        classifier=LogisticRegression(\n",
    "            featuresCol=FEATURES_COL,\n",
    "            labelCol=CLASSIFICATION_LABEL_COL,\n",
    "            predictionCol=PREDICTION_COL,\n",
    "        ),\n",
    "        featuresCol=FEATURES_COL,\n",
    "        labelCol=CLASSIFICATION_LABEL_COL,\n",
    "        predictionCol=PREDICTION_COL\n",
    "    )\n",
    "\n",
    "    param_grid = (\n",
    "        ParamGridBuilder()\n",
    "        .addGrid(estimator.featuresCol, [FEATURES_COL])\n",
    "        .addGrid(estimator.labelCol, [CLASSIFICATION_LABEL_COL])\n",
    "        .addGrid(estimator.predictionCol, [PREDICTION_COL])\n",
    "        .build()\n",
    "    )\n",
    "\n",
    "    cross_validated_models = learn_best_model(\n",
    "        estimator=estimator,\n",
    "        param_grid=param_grid,\n",
    "        evaluator_cv=classification_evaluator_cv\n",
    "    )\n",
    "else:\n",
    "    print(\"Logistic Regression Classification model found in disk, loading...\")\n",
    "    model = OneVsRestModel.load(\n",
    "        TRAINED_MODELS_DIRS[\"Attempt 4\"][\"Classification\"][\"Logistic Regression\"]\n",
    "    )\n"
   ]
  },
  {
   "cell_type": "code",
   "execution_count": null,
   "metadata": {},
   "outputs": [],
   "source": [
    "if not model_exists(\n",
    "    TRAINED_MODELS_DIRS[\"Attempt 4\"][\"Classification\"][\"Logistic Regression\"]\n",
    "):\n",
    "    print(\n",
    "        \"Evaluating Logistic Regression Classifier model trained in previous cell...\"\n",
    "    )\n",
    "    evaluate_learning_models(\n",
    "        best_model=cross_validated_models.bestModel,\n",
    "        evaluators=get_evaluators(\n",
    "            cross_validated_models.bestModel, \n",
    "            label_col=CLASSIFICATION_LABEL_COL, \n",
    "            prediction_col=PREDICTION_COL, \n",
    "            evaluation_metrics=CLASSIFICATION_EVALUATION_METRICS\n",
    "        ),\n",
    "        save_training_result_path=\"./evaluation_results/attempt_4/classification/logistic_regression.json\"\n",
    "    )\n",
    "else:\n",
    "    print(\"Printing evaluation loaded from disk...\")\n",
    "    print_model_evaluation(\n",
    "        model_evaluation_path=\"./evaluation_results/attempt_4/classification/logistic_regression.json\"\n",
    "    )"
   ]
  },
  {
   "cell_type": "code",
   "execution_count": null,
   "metadata": {},
   "outputs": [],
   "source": [
    "if not model_exists(\n",
    "    TRAINED_MODELS_DIRS[\"Attempt 4\"][\"Classification\"][\"Logistic Regression\"]\n",
    "):\n",
    "    print(\"Saving Logistic Regression Classification model on disk...\")\n",
    "    cross_validated_models.bestModel.save(\n",
    "        \"./trained_models/attempt_4/classification/logistic_regression\"\n",
    "    )"
   ]
  },
  {
   "cell_type": "markdown",
   "metadata": {},
   "source": [
    "#### Decision Tree"
   ]
  },
  {
   "cell_type": "code",
   "execution_count": null,
   "metadata": {},
   "outputs": [],
   "source": [
    "from pyspark.ml.classification import DecisionTreeClassifier\n",
    "from pyspark.ml.classification import DecisionTreeClassificationModel\n",
    "\n",
    "PREDICTION_COL = \"attempt_4_classification_decision_tree_predictions\"\n",
    "\n",
    "if not model_exists(\n",
    "    TRAINED_MODELS_DIRS[\"Attempt 4\"][\"Classification\"][\"Decision Tree\"]\n",
    "):\n",
    "    print(\"Classification Decision Tree model NOT found in disk, training...\")\n",
    "    classification_evaluator_cv.setPredictionCol(PREDICTION_COL)\n",
    "    \n",
    "    estimator = DecisionTreeClassifier()\n",
    "\n",
    "    param_grid = (\n",
    "        ParamGridBuilder()\n",
    "        .addGrid(estimator.featuresCol, FEATURES_COL)\n",
    "        .addGrid(estimator.labelCol, [CLASSIFICATION_LABEL_COL])\n",
    "        .addGrid(estimator.predictionCol, [PREDICTION_COL])\n",
    "        # .addGrid(estimator.maxDepth, [5, 24])\n",
    "        # .addGrid(estimator.maxBins, [16, 32, 64])\n",
    "        # .addGrid(estimator.minInfoGain, [0, 0.1])\n",
    "        .build()\n",
    "    )\n",
    "\n",
    "    cross_validated_models = learn_best_model(\n",
    "        estimator=estimator,\n",
    "        param_grid=param_grid,\n",
    "        evaluator_cv=classification_evaluator_cv\n",
    "    )\n",
    "else:\n",
    "    print(\"Classification Decision Tree model found in disk, loading...\")\n",
    "    model = DecisionTreeClassificationModel.load(\n",
    "        TRAINED_MODELS_DIRS[\"Attempt 4\"][\"Classification\"][\"Decision Tree\"]\n",
    "    )\n",
    "    evaluators = get_evaluators(\n",
    "        model, \n",
    "        label_col=CLASSIFICATION_LABEL_COL, \n",
    "        prediction_col=PREDICTION_COL, \n",
    "        evaluation_metrics=CLASSIFICATION_EVALUATION_METRICS\n",
    "    )"
   ]
  },
  {
   "cell_type": "code",
   "execution_count": null,
   "metadata": {},
   "outputs": [],
   "source": [
    "if not model_exists(\n",
    "    TRAINED_MODELS_DIRS[\"Attempt 4\"][\"Classification\"][\"Decision Tree\"]\n",
    "):\n",
    "    print(\n",
    "        \"Evaluating Decision Tree model trained in previous cell...\"\n",
    "    )\n",
    "    evaluate_learning_models(\n",
    "        best_model=cross_validated_models.bestModel,\n",
    "        evaluators=get_evaluators(\n",
    "            cross_validated_models.bestModel, \n",
    "            label_col=CLASSIFICATION_LABEL_COL, \n",
    "            prediction_col=PREDICTION_COL, \n",
    "            evaluation_metrics=CLASSIFICATION_EVALUATION_METRICS\n",
    "        ),\n",
    "        save_training_result_path=\"./evaluation_results/attempt_4/classification/decision_tree.json\"\n",
    "    )\n",
    "else:\n",
    "    print(\"Printing evaluation loaded from disk...\")\n",
    "    print_model_evaluation(\n",
    "        model_evaluation_path=\"./evaluation_results/attempt_4/classification/decision_tree.json\"\n",
    "    )"
   ]
  },
  {
   "cell_type": "code",
   "execution_count": null,
   "metadata": {},
   "outputs": [],
   "source": [
    "if not model_exists(\n",
    "    TRAINED_MODELS_DIRS[\"Attempt 4\"][\"Classification\"][\"Decision Tree\"]\n",
    "):\n",
    "    print(\"Saving Decision Tree model on disk...\")\n",
    "    cross_validated_models.bestModel.save(\n",
    "        \"./trained_models/attempt_4/classification/decision_tree\"\n",
    "    )"
   ]
  },
  {
   "cell_type": "markdown",
   "metadata": {},
   "source": [
    "#### Random Forest"
   ]
  },
  {
   "cell_type": "code",
   "execution_count": null,
   "metadata": {},
   "outputs": [],
   "source": [
    "from pyspark.ml.classification import RandomForestClassifier\n",
    "from pyspark.ml.classification import RandomForestClassificationModel\n",
    "\n",
    "PREDICTION_COL = \"attempt_4_classification_random_forest_predictions\"\n",
    "\n",
    "if not model_exists(\n",
    "    TRAINED_MODELS_DIRS[\"Attempt 4\"][\"Classification\"][\"Random Forest\"]\n",
    "):\n",
    "    print(\"Classification Random Forest model NOT found in disk, training...\")\n",
    "    \n",
    "    classification_evaluator_cv.setPredictionCol(PREDICTION_COL)\n",
    "    \n",
    "    estimator = RandomForestClassifier()\n",
    "\n",
    "    param_grid = (\n",
    "        ParamGridBuilder()\n",
    "        .addGrid(estimator.featuresCol, FEATURES_COL)\n",
    "        .addGrid(estimator.labelCol, [CLASSIFICATION_LABEL_COL])\n",
    "        .addGrid(estimator.predictionCol, [PREDICTION_COL])\n",
    "        # .addGrid(estimator.maxDepth, [5, 24])\n",
    "        # .addGrid(estimator.maxBins, [32, 64])\n",
    "        # .addGrid(estimator.minInfoGain, [0, 0.1])\n",
    "        # .addGrid(estimator.subsamplingRate, [0.5, 1])\n",
    "        # .addGrid(estimator.lossType, [\"squared\", \"absolute\"])\n",
    "        # .addGrid(estimator.numTrees, [20, 40])\n",
    "        # .addGrid(estimator.featureSubsetStrategy, [\"auto\", \"onethird\", \"all\", \"log2\"])\n",
    "        .build()\n",
    "    )\n",
    "\n",
    "    cross_validated_models = learn_best_model(\n",
    "        estimator=estimator,\n",
    "        param_grid=param_grid,\n",
    "        evaluator_cv=classification_evaluator_cv\n",
    "    )\n",
    "else:\n",
    "    print(\"Classification Random Forest model found in disk, loading...\")\n",
    "    model = RandomForestClassificationModel.load(\n",
    "        TRAINED_MODELS_DIRS[\"Attempt 4\"][\"Classification\"][\"Random Forest\"]\n",
    "    )"
   ]
  },
  {
   "cell_type": "code",
   "execution_count": null,
   "metadata": {},
   "outputs": [],
   "source": [
    "if not model_exists(\n",
    "    TRAINED_MODELS_DIRS[\"Attempt 4\"][\"Classification\"][\"Random Forest\"]\n",
    "):\n",
    "    print(\n",
    "        \"Evaluating Random Forest model trained in previous cell...\"\n",
    "    )\n",
    "    evaluate_learning_models(\n",
    "        best_model=cross_validated_models.bestModel,\n",
    "        evaluators=get_evaluators(\n",
    "            cross_validated_models.bestModel, \n",
    "            label_col=CLASSIFICATION_LABEL_COL, \n",
    "            prediction_col=PREDICTION_COL, \n",
    "            evaluation_metrics=CLASSIFICATION_EVALUATION_METRICS\n",
    "        ),\n",
    "        save_training_result_path=\"./evaluation_results/attempt_4/classification/random_forest.json\"\n",
    "    )\n",
    "else:\n",
    "    print(\"Printing evaluation loaded from disk...\")\n",
    "    print_model_evaluation(\n",
    "        model_evaluation_path=\"./evaluation_results/attempt_4/classification/random_forest.json\"\n",
    "    )"
   ]
  },
  {
   "cell_type": "code",
   "execution_count": null,
   "metadata": {},
   "outputs": [],
   "source": [
    "if not model_exists(\n",
    "    TRAINED_MODELS_DIRS[\"Attempt 4\"][\"Classification\"][\"Random Forest\"]\n",
    "):\n",
    "    print(\"Saving Random Forest Classification model on disk...\")\n",
    "    cross_validated_models.bestModel.save(\n",
    "        \"./trained_models/attempt_4/classification/random_forest\"\n",
    "    )"
   ]
  },
  {
   "cell_type": "markdown",
   "metadata": {},
   "source": [
    "#### MLP"
   ]
  },
  {
   "cell_type": "code",
   "execution_count": null,
   "metadata": {},
   "outputs": [],
   "source": [
    "from pyspark.ml.classification import MultilayerPerceptronClassifier\n",
    "from pyspark.ml.classification import MultilayerPerceptronClassificationModel\n",
    "\n",
    "PREDICTION_COL = \"attempt_4_classification_mlp_predictions\"\n",
    "\n",
    "if not model_exists(\n",
    "    TRAINED_MODELS_DIRS[\"Attempt 4\"][\"Classification\"][\"MLP\"]\n",
    "):\n",
    "    print(\"Classification MLP model NOT found in disk, training...\")\n",
    "    \n",
    "    classification_evaluator_cv.setPredictionCol(PREDICTION_COL)\n",
    "    \n",
    "    estimator = MultilayerPerceptronClassifier()\n",
    "\n",
    "    param_grid = (\n",
    "        ParamGridBuilder()\n",
    "        .addGrid(estimator.featuresCol, FEATURES_COL)\n",
    "        .addGrid(estimator.labelCol, [CLASSIFICATION_LABEL_COL])\n",
    "        .addGrid(estimator.predictionCol, [PREDICTION_COL])\n",
    "        .addGrid(estimator.layers, [[1, NUM_MACRO_PLACES]])\n",
    "        .addGrid(estimator.solver, [\"gd\"])\n",
    "        .build()\n",
    "    )\n",
    "\n",
    "    cross_validated_models = learn_best_model(\n",
    "        estimator=estimator,\n",
    "        param_grid=param_grid,\n",
    "        evaluator_cv=classification_evaluator_cv\n",
    "    )\n",
    "else:\n",
    "    print(\"Classification MLP model found in disk, loading...\")\n",
    "    model = MultilayerPerceptronClassificationModel.load(\n",
    "        TRAINED_MODELS_DIRS[\"Attempt 4\"][\"Classification\"][\"MLP\"]\n",
    "    )"
   ]
  },
  {
   "cell_type": "code",
   "execution_count": null,
   "metadata": {},
   "outputs": [],
   "source": [
    "if not model_exists(\n",
    "    TRAINED_MODELS_DIRS[\"Attempt 4\"][\"Classification\"][\"MLP\"]\n",
    "):\n",
    "    print(\n",
    "        \"Evaluating MLP model trained in previous cell...\"\n",
    "    )\n",
    "    evaluate_learning_models(\n",
    "        best_model=cross_validated_models.bestModel,\n",
    "        evaluators=get_evaluators(\n",
    "            cross_validated_models.bestModel, \n",
    "            label_col=CLASSIFICATION_LABEL_COL, \n",
    "            prediction_col=PREDICTION_COL, \n",
    "            evaluation_metrics=CLASSIFICATION_EVALUATION_METRICS\n",
    "        ),\n",
    "        save_training_result_path=\"./evaluation_results/attempt_4/classification/mlp.json\"\n",
    "    )\n",
    "else:\n",
    "    print(\"Printing evaluation loaded from disk...\")\n",
    "    print_model_evaluation(\n",
    "        model_evaluation_path=\"./evaluation_results/attempt_4/classification/mlp.json\"\n",
    "    )"
   ]
  },
  {
   "cell_type": "code",
   "execution_count": null,
   "metadata": {},
   "outputs": [],
   "source": [
    "if not model_exists(\n",
    "    TRAINED_MODELS_DIRS[\"Attempt 4\"][\"Classification\"][\"MLP\"]\n",
    "):\n",
    "    print(\"Saving MLP Classification model on disk...\")\n",
    "    cross_validated_models.bestModel.save(\n",
    "        \"./trained_models/attempt_4/classification/mlp\"\n",
    "    )"
   ]
  },
  {
   "cell_type": "markdown",
   "metadata": {},
   "source": [
    "## RP impact\n",
    "\n",
    "plot showing that the more the weight of the RP coefficient is increased, the more the accuracy ofc goes up"
   ]
  },
  {
   "cell_type": "code",
   "execution_count": 71,
   "metadata": {},
   "outputs": [],
   "source": [
    "evals_dict_r2_only = {\n",
    "    k : v[\"train_set_evaluation\"][\"r2\"] for (k, v) in zip(model_evals_dict.keys(), model_evals_dict.values())\n",
    "}"
   ]
  },
  {
   "cell_type": "code",
   "execution_count": 80,
   "metadata": {},
   "outputs": [
    {
     "data": {
      "application/vnd.jupyter.widget-view+json": {
       "model_id": "c168e6a598524caab729afbef41f3f2b",
       "version_major": 2,
       "version_minor": 0
      },
      "image/png": "[encoded data removed]",
      "text/html": [
       "\n",
       "            <div style=\"display: inline-block;\">\n",
       "                <div class=\"jupyter-widgets widget-label\" style=\"text-align: center;\">\n",
       "                    Figure\n",
       "                </div>\n",
       "                <img src='data:image/png;base64,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' width=800.0/>\n",
       "            </div>\n",
       "        "
      ],
      "text/plain": [
       "Canvas(toolbar=Toolbar(toolitems=[('Home', 'Reset original view', 'home', 'home'), ('Back', 'Back to previous …"
      ]
     },
     "metadata": {},
     "output_type": "display_data"
    }
   ],
   "source": [
    "plot_df_temp = pd.DataFrame(\n",
    "    [\n",
    "        list(evals_dict_r2_only.keys()), \n",
    "        list(evals_dict_r2_only.values())\n",
    "    ]\n",
    ").transpose()\n",
    "plot_df_temp.columns = [\"rp_tradeoff\", \"r2\"]\n",
    "\n",
    "fig, ax = plt.subplots(1, 1, figsize=(8, 6))\n",
    "\n",
    "_ = sns.pointplot(\n",
    "    data=plot_df_temp, x=\"rp_tradeoff\", y=\"r2\", ax=ax, color=\"HotPink\"\n",
    ")\n",
    "\n",
    "_ = ax.set_xlabel(\"rp_tradeoff\")\n",
    "_ = ax.set_ylabel(\"r2 (higher is better)\")\n",
    "_ = ax.set_title(\"rp_tradeoff vs. r2\")"
   ]
  }
 ],
 "metadata": {
  "kernelspec": {
   "display_name": "Python 3.8.10 64-bit",
   "language": "python",
   "name": "python3"
  },
  "language_info": {
   "codemirror_mode": {
    "name": "ipython",
    "version": 3
   },
   "file_extension": ".py",
   "mimetype": "text/x-python",
   "name": "python",
   "nbconvert_exporter": "python",
   "pygments_lexer": "ipython3",
   "version": "3.8.10"
  },
  "orig_nbformat": 4,
  "vscode": {
   "interpreter": {
    "hash": "916dbcbb3f70747c44a77c7bcd40155683ae19c65e1c03b4aa3499c5328201f1"
   }
  }
 },
 "nbformat": 4,
 "nbformat_minor": 2
}
