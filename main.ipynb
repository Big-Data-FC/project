{
 "cells": [
  {
   "cell_type": "markdown",
   "metadata": {},
   "source": [
    "# Big Data FC"
   ]
  },
  {
   "cell_type": "markdown",
   "metadata": {},
   "source": [
    "The goal of Big Data FC project is to predict how many points a football team belonging to the principal European Football Associations will end the season with, according to the characteristics of its players.\n",
    "\n",
    "In order to reach the goal, data relative to the football players will first be loaded, in order to then compose the football teams.\n",
    "After that, a second dataset will be used to gather seasonal rankings, for every football team\n"
   ]
  },
  {
   "cell_type": "markdown",
   "metadata": {},
   "source": [
    "# Wall of imports"
   ]
  },
  {
   "cell_type": "markdown",
   "metadata": {},
   "source": [
    "Before getting started, a series of imports that will be used across the entire project"
   ]
  },
  {
   "cell_type": "code",
   "execution_count": 29,
   "metadata": {},
   "outputs": [],
   "source": [
    "#  PySpark\n",
    "from pyspark.sql import *\n",
    "from pyspark.sql.types import *\n",
    "from pyspark.sql.functions import *\n",
    "from pyspark import SparkContext, SparkConf\n",
    "\n",
    "import json\n",
    "\n",
    "import seaborn as sns\n",
    "import matplotlib.pyplot as plt\n",
    "# %matplotlib inline\n",
    "%matplotlib widget\n",
    "\n",
    "import pandas as pd\n",
    "\n",
    "# import numpy as np\n",
    "\n",
    "# import itertools\n",
    "\n",
    "\n",
    "# import copy\n",
    "\n",
    "# from pyspark.ml.feature import VectorAssembler\n",
    "# from pyspark.ml.feature import StringIndexer\n",
    "# from pyspark.ml.feature import StandardScaler\n",
    "# from pyspark.ml.feature import PCA\n",
    "\n",
    "\n",
    "# from tqdm import tqdm\n",
    "\n",
    "# from pyspark.ml.clustering import KMeans\n",
    "# from pyspark.ml.feature import Normalizer\n",
    "\n",
    "# RANDOM_SEED = None\n",
    "\n",
    "# from pyspark.ml.evaluation import ClusteringEvaluator\n",
    "\n",
    "# from pyspark.ml.linalg import Vectors\n",
    "\n",
    "# from functools import reduce\n",
    "\n",
    "# from pyspark.ml.regression import LinearRegression\n",
    "\n",
    "# from pyspark_dist_explore import hist\n",
    "\n",
    "# from pyspark.ml.regression import RandomForestRegressor\n",
    "\n",
    "# from pyspark.ml.regression import DecisionTreeRegressor\n",
    "\n",
    "# from pyspark.ml import Pipeline\n",
    "\n",
    "# from pyspark.ml.tuning import ParamGridBuilder\n",
    "\n",
    "# from pyspark.ml.tuning import CrossValidator\n",
    "# from pyspark.ml.evaluation import RegressionEvaluator\n",
    "\n",
    "# from pyspark.ml.regression import GBTRegressor\n",
    "\n",
    "# from pyspark.ml.classification import MultilayerPerceptronClassifier\n",
    "\n",
    "# from pyspark.ml.classification import LogisticRegression\n",
    "\n",
    "# from pyspark.ml.classification import LinearSVC, OneVsRest\n",
    "# from pyspark.ml.evaluation import MulticlassClassificationEvaluator\n",
    "\n",
    "# from pyspark.ml.classification import DecisionTreeClassifier\n",
    "# from pyspark.ml.classification import RandomForestClassifier\n",
    "\n",
    "# from operator import itemgetter\n",
    "\n",
    "# from pyspark.ml.feature import MinMaxScaler\n",
    "\n",
    "# from pyspark.ml.linalg import Vectors, VectorUDT\n",
    "\n",
    "# from pyspark.ml.stat import Summarizer\n",
    "\n",
    "# from sklearn.manifold import TSNE\n",
    "\n",
    "# from sklearn.decomposition import KernelPCA\n",
    "\n",
    "# from pyspark.ml.feature import UnivariateFeatureSelector\n",
    "# from pyspark.ml.linalg import DenseVector\n",
    "# import numpy as np\n",
    "# import pandas as pd\n",
    "# import matplotlib.pyplot as plt \n",
    "# import seaborn as sns\n",
    "# import re\n",
    "\n",
    "# import sklearn\n",
    "# from sklearn.model_selection import train_test_split\n",
    "# # from sklearn.preprocessing import MinMaxScaler\n",
    "# from sklearn.preprocessing import PolynomialFeatures\n",
    "# from sklearn.preprocessing import scale\n",
    "# from sklearn.feature_selection import RFE\n",
    "# # from sklearn.linear_model import LinearRegression\n",
    "# from sklearn.model_selection import cross_val_score\n",
    "# from sklearn.model_selection import KFold\n",
    "# from sklearn.model_selection import GridSearchCV\n",
    "# from sklearn.pipeline import make_pipeline\n",
    "\n",
    "# from sklearn.model_selection import cross_val_score\n",
    "\n",
    "# from sklearn.linear_model import Ridge\n",
    "# from sklearn.linear_model import Lasso\n",
    "# # from sklearn.tree import DecisionTreeRegressor\n",
    "# from sklearn.ensemble import GradientBoostingRegressor\n",
    "# # from sklearn.ensemble import RandomForestRegressor\n",
    "\n",
    "# from sklearn.preprocessing import FunctionTransformer\n",
    "\n",
    "\n",
    "# import warnings # supress warnings\n",
    "# warnings.filterwarnings('ignore')"
   ]
  },
  {
   "cell_type": "markdown",
   "metadata": {},
   "source": [
    "# Spark"
   ]
  },
  {
   "cell_type": "markdown",
   "metadata": {},
   "source": [
    "Let's initialize the Spark context, with a given configuration"
   ]
  },
  {
   "cell_type": "code",
   "execution_count": 2,
   "metadata": {},
   "outputs": [
    {
     "name": "stderr",
     "output_type": "stream",
     "text": [
      "22/06/16 17:44:18 WARN Utils: Your hostname, macchinario resolves to a loopback address: 127.0.1.1; using 192.168.1.12 instead (on interface enp0s31f6)\n",
      "22/06/16 17:44:18 WARN Utils: Set SPARK_LOCAL_IP if you need to bind to another address\n",
      "Using Spark's default log4j profile: org/apache/spark/log4j-defaults.properties\n",
      "Setting default log level to \"WARN\".\n",
      "To adjust logging level use sc.setLogLevel(newLevel). For SparkR, use setLogLevel(newLevel).\n",
      "22/06/16 17:44:19 WARN NativeCodeLoader: Unable to load native-hadoop library for your platform... using builtin-java classes where applicable\n"
     ]
    }
   ],
   "source": [
    "conf = (\n",
    "    SparkConf()\n",
    "    .set(\"spark.ui.port\", \"4050\")\n",
    "    .set(\"spark.executor.memory\", \"4G\")\n",
    "    .set(\"spark.driver.memory\", \"20G\")\n",
    "    .set(\"spark.driver.maxResultSize\", \"10G\")\n",
    ")\n",
    "# .set(\"spark.master\", \"spark://192.168.1.189:4050\")\n",
    "\n",
    "\n",
    "# create the context\n",
    "sc = SparkContext(conf=conf)\n",
    "sc.setLogLevel(\"ERROR\")\n",
    "\n",
    "\n",
    "spark = SparkSession.builder.getOrCreate()"
   ]
  },
  {
   "cell_type": "markdown",
   "metadata": {},
   "source": [
    "# Loading football players"
   ]
  },
  {
   "cell_type": "markdown",
   "metadata": {},
   "source": [
    "First step is to load football players data, which comes from to two different sources:\n",
    "\n",
    "* For the modern era (seasons starting from 2015 to 2020), [FIFA 15-21 complete dataset](https://www.kaggle.com/datasets/stefanoleone992/fifa-21-complete-player-dataset)\n",
    "\n",
    "* For the \"legacy\" era (seasons starting from 2007 to 2014), [sofifa.com](https://sofifa.com), a website specialized in storing data taken from EA Sports FIFA game, has been manually scraped.\n",
    "To do so, a [custom-made scraper](https://github.com/Big-Data-FC/scraper) has been developed. \n",
    "\n",
    "Scraped datasets are available [here](https://github.com/Big-Data-FC/datasets) \n",
    "\n",
    "From now on, \"modern\" will be used for seasons between 2015 and 2020, whilst \"legacy\" for all the previous years.\n",
    "\n",
    "Two different dataframes for modern and legacy will be used, there are substancial differences in the structures, among these different years"
   ]
  },
  {
   "cell_type": "code",
   "execution_count": 3,
   "metadata": {},
   "outputs": [
    {
     "name": "stderr",
     "output_type": "stream",
     "text": [
      "                                                                                \r"
     ]
    }
   ],
   "source": [
    "modern_df = spark.read.csv(\n",
    "    \"data/players_*.csv\", sep=\",\", inferSchema=True, header=True, multiLine=True\n",
    ")\n",
    "\n",
    "legacy_df = spark.read.csv(\n",
    "    \"data/scraped_players_*.csv\", sep=\",\", inferSchema=True, header=True, \n",
    "    multiLine=True\n",
    ")"
   ]
  },
  {
   "cell_type": "markdown",
   "metadata": {},
   "source": [
    "# Pre-processing football players"
   ]
  },
  {
   "cell_type": "code",
   "execution_count": 4,
   "metadata": {},
   "outputs": [],
   "source": [
    "# These are the European Leagues supported by Big-Data-FC\n",
    "leagues = [\n",
    "    \"Spain Primera Division\",\n",
    "    \"German 1. Bundesliga\",\n",
    "    \"French Ligue 1\",\n",
    "    \"English Premier League\",\n",
    "    \"Italian Serie A\",\n",
    "    \"Holland Eredivisie\",\n",
    "]\n",
    "\n",
    "# These are the seasons supported by Big-Data-FC\n",
    "seasons_modern = [\"20\", \"19\", \"18\", \"17\", \"16\", \"15\", \"14\"] \n",
    "# seasons_modern = [\"20\", \"19\"] \n",
    "seasons_legacy = [\"13\", \"12\", \"11\", \"10\", \"09\", \"08\", \"07\"]\n",
    "# seasons_legacy = [ ]\n",
    "seasons = seasons_legacy + seasons_modern"
   ]
  },
  {
   "cell_type": "markdown",
   "metadata": {},
   "source": [
    "The idea behing \"macro role\" is pretty simple: basically, a macro role is a collection of \"affine\" football roles.\n",
    "\n",
    "For example, \"central midfielder\", \"advanced midfielder\", \"left|right wing\" roles can be grouped together in the same macro_role, \"midfielder\", according to the position in the field that the role covers.\n",
    "\n",
    "Macro roles will be used later on, in a subsequent learning phase.\n",
    "For this reason, much more about them will be touched in future points"
   ]
  },
  {
   "cell_type": "code",
   "execution_count": 5,
   "metadata": {},
   "outputs": [],
   "source": [
    "macro_roles = [\"0.0\", \"1.0\", \"2.0\", \"3.0\"]\n",
    "\n",
    "roles_to_macro_roles_dict = {\n",
    "    \"GK\": \"0\",\n",
    "    \"LB\": \"1\",\n",
    "    \"RB\": \"1\",\n",
    "    \"RWB\": \"1\",\n",
    "    \"LWB\": \"1\",\n",
    "    \"CB\": \"1\",\n",
    "    \"CDM\": \"2\",\n",
    "    \"CM\": \"2\",\n",
    "    \"RM\": \"2\",\n",
    "    \"LM\": \"2\",\n",
    "    \"CAM\": \"2\",\n",
    "    \"RW\": \"3\",\n",
    "    \"LW\": \"3\",\n",
    "    \"ST\": \"3\",\n",
    "    \"LF\": \"3\",\n",
    "    \"RF\": \"3\",\n",
    "    \"CF\": \"3\",\n",
    "}\n",
    "\n",
    "NUM_MACRO_ROLES = 4\n",
    "\n",
    "roles_to_macro_role_UDF = udf(\n",
    "    lambda roles: float(\n",
    "        roles_to_macro_roles_dict[roles.split(\",\")[0]]\n",
    "    ), \n",
    "    StringType()\n",
    ")"
   ]
  },
  {
   "cell_type": "markdown",
   "metadata": {},
   "source": [
    "Out of all available columns in the various datasets, only the ones in `columuns` will be taken into considerations, because they are the only ones that can be used as features.\n",
    "\n",
    "In fact, the other columns include either graphical or non-informative information, such as jersey number, celebration moves, etc."
   ]
  },
  {
   "cell_type": "code",
   "execution_count": 6,
   "metadata": {},
   "outputs": [],
   "source": [
    "columns = [\n",
    "    \"short_name\",\n",
    "    \"club_name\",\n",
    "    \"league_name\",\n",
    "    \"season\",\n",
    "    \"player_positions\",\n",
    "    \"macro_role\",\n",
    "    \"overall\",\n",
    "    \"value\",\n",
    "    \"pace\",\n",
    "    \"shooting\",\n",
    "    \"passing\",\n",
    "    \"dribbling\",\n",
    "    \"defending\",\n",
    "    \"physic\",\n",
    "    \"attacking_crossing\",\n",
    "    \"attacking_finishing\",\n",
    "    \"attacking_heading_accuracy\",\n",
    "    \"attacking_short_passing\",\n",
    "    \"skill_dribbling\",\n",
    "    \"skill_fk_accuracy\",\n",
    "    \"skill_long_passing\",\n",
    "    \"skill_ball_control\",\n",
    "    \"movement_acceleration\",\n",
    "    \"movement_sprint_speed\",\n",
    "    \"movement_reactions\",\n",
    "    \"power_shot_power\",\n",
    "    \"power_stamina\",\n",
    "    \"power_strength\",\n",
    "    \"power_long_shots\",\n",
    "    \"mentality_aggression\",\n",
    "    \"mentality_penalties\",\n",
    "    \"defending_standing_tackle\"\n",
    "]"
   ]
  },
  {
   "cell_type": "markdown",
   "metadata": {},
   "source": [
    "Datasets do **not** explicitly include the year to which the record refers to.\n",
    "\n",
    "Rather, this information is implicitly stored in a URL, which has its own field.\n",
    "For this reason, a function to extract such information from aforementioned field is needed."
   ]
  },
  {
   "cell_type": "code",
   "execution_count": 7,
   "metadata": {},
   "outputs": [],
   "source": [
    "def get_season(url):\n",
    "    url_split = url.split(\"/\")\n",
    "\n",
    "    # FIFA years must be scaled by a negative factor of one (i.e. 2021 has to be 2020, etc.)\n",
    "    # This is needed to ensure compatibility with the seasonal score dataset\n",
    "    return str(\n",
    "        (int(url_split[-2 if url_split[-1] == \"\" else -1][0:2]) - 1)\n",
    "    ).zfill(2)\n",
    "\n",
    "get_season_UDF = udf(lambda url: get_season(url), StringType())"
   ]
  },
  {
   "cell_type": "markdown",
   "metadata": {},
   "source": [
    "The format of the monetary value of players is different among the modern and legacy dataset.\n",
    "Specifically, the legacy one abbreviates the values into value of the form `€10M` to represent `€10000000`.\n",
    "The following function is used to convert it into the extended one."
   ]
  },
  {
   "cell_type": "code",
   "execution_count": 8,
   "metadata": {},
   "outputs": [],
   "source": [
    "@udf\n",
    "def expand_value_UDF(value):\n",
    "    value = value.replace(\"€\", \"\")\n",
    "    if value[-1] not in (\"K\", \"M\"):\n",
    "        return value\n",
    "\n",
    "    num = value[:-1]\n",
    "    unit = value[-1]\n",
    "    if unit == \"M\":\n",
    "        return float(num) * 1000000\n",
    "    if unit == \"K\":\n",
    "        return float(num) * 1000\n",
    "\n",
    "    return \"ERROR\""
   ]
  },
  {
   "cell_type": "markdown",
   "metadata": {},
   "source": [
    "Now to the actual pre-process.\n",
    "\n",
    "Some actions are needed by legacy and modern both, whilst other are exclusive to either one"
   ]
  },
  {
   "cell_type": "code",
   "execution_count": 9,
   "metadata": {},
   "outputs": [],
   "source": [
    "# Extracting season from the player URL, as per previous cell\n",
    "pre_processed_modern_df = modern_df.withColumn(\n",
    "    \"season\", get_season_UDF(col(\"player_url\"))\n",
    ")\n",
    "pre_processed_legacy_df = legacy_df.withColumn(\n",
    "    \"season\", get_season_UDF(col(\"player_url\"))\n",
    ")\n",
    "\n",
    "# Taking only the players playing for teams in supported Leagues, \n",
    "# in the supported seasons\n",
    "pre_processed_modern_df = pre_processed_modern_df.where(\n",
    "    (pre_processed_modern_df.league_name.isin(leagues))\n",
    "    &\n",
    "    (pre_processed_modern_df.season.isin(seasons_modern))\n",
    ")\n",
    "pre_processed_legacy_df = pre_processed_legacy_df.where(\n",
    "    (pre_processed_legacy_df.league_name.isin(leagues))\n",
    "    &\n",
    "    (pre_processed_legacy_df.season.isin(seasons_legacy))\n",
    ")\n",
    "\n",
    "# Dropping duplicate players\n",
    "pre_processed_modern_df = pre_processed_modern_df.dropDuplicates([\"player_url\"])\n",
    "pre_processed_legacy_df = pre_processed_legacy_df.dropDuplicates([\"player_url\"])\n",
    "\n",
    "# Selected columns have been checked for absence of null/missing data.\n",
    "# Nevertheless, to ensure compatibility and reusability with other datasets, \n",
    "# a null-filling sweep is done\n",
    "pre_processed_modern_df = pre_processed_modern_df.na.fill(0)\n",
    "pre_processed_legacy_df = pre_processed_legacy_df.na.fill(0)\n",
    "\n",
    "# Getting the macro role of the player, according to its field position\n",
    "pre_processed_modern_df = pre_processed_modern_df.withColumn(\n",
    "    \"macro_role\", roles_to_macro_role_UDF(col(\"player_positions\"))\n",
    ")\n",
    "pre_processed_legacy_df = pre_processed_legacy_df.withColumn(\n",
    "    \"macro_role\", roles_to_macro_role_UDF(col(\"player_positions\"))\n",
    ")\n",
    "\n",
    "# Renaming the \"value_eur\" field to \"value\" to have compatiblity with legacy\n",
    "pre_processed_modern_df = pre_processed_modern_df.withColumnRenamed(\n",
    "    \"value_eur\", \"value\"\n",
    ")\n",
    "\n",
    "# Convert the monetary value to have compatibility with modern\n",
    "pre_processed_legacy_df = pre_processed_legacy_df.withColumn(\n",
    "    \"value\", expand_value_UDF(col(\"value\"))\n",
    ")\n",
    "\n",
    "# Renaming some legacy columns, so as they have the same name as in the modern\n",
    "pre_processed_legacy_df = pre_processed_legacy_df.withColumnRenamed(\n",
    "    \"pas\", \"passing\"\n",
    ")\n",
    "pre_processed_legacy_df = pre_processed_legacy_df.withColumnRenamed(\n",
    "    \"dri\", \"dribbling\"\n",
    ")\n",
    "pre_processed_legacy_df = pre_processed_legacy_df.drop(col(\"defending\"))\n",
    "pre_processed_legacy_df = pre_processed_legacy_df.withColumnRenamed(\n",
    "    \"def\", \"defending\"\n",
    ")\n",
    "pre_processed_legacy_df = pre_processed_legacy_df.withColumnRenamed(\n",
    "    \"phy\", \"physic\"\n",
    ")\n",
    "\n",
    "pre_processed_legacy_df = pre_processed_legacy_df.withColumnRenamed(\n",
    "    \"sho\", \"shooting\"\n",
    ")\n",
    "pre_processed_legacy_df = pre_processed_legacy_df.withColumnRenamed(\n",
    "    \"pac\", \"pace\"\n",
    ")\n",
    "pre_processed_legacy_df = pre_processed_legacy_df.withColumnRenamed(\n",
    "    \"bov\", \"overall\"\n",
    ")\n",
    "\n",
    "# Keeping only the needed columns.\n",
    "pre_processed_modern_df = pre_processed_modern_df.select(columns)\n",
    "pre_processed_legacy_df = pre_processed_legacy_df.select(columns)"
   ]
  },
  {
   "cell_type": "markdown",
   "metadata": {},
   "source": [
    "After pre-processing, both dataframes have the same set of columns, so they can be concatenated together"
   ]
  },
  {
   "cell_type": "code",
   "execution_count": 10,
   "metadata": {},
   "outputs": [],
   "source": [
    "pre_processed_df = pre_processed_modern_df.unionByName(\n",
    "    pre_processed_legacy_df\n",
    ")"
   ]
  },
  {
   "cell_type": "markdown",
   "metadata": {},
   "source": [
    "This is the end result.\n",
    "\n",
    "For graphical reasons, only a selection of the columns will be shown, just to give an idea of the structure."
   ]
  },
  {
   "cell_type": "code",
   "execution_count": 11,
   "metadata": {},
   "outputs": [
    {
     "name": "stderr",
     "output_type": "stream",
     "text": [
      "[Stage 5:============================================>              (3 + 1) / 4]\r"
     ]
    },
    {
     "name": "stdout",
     "output_type": "stream",
     "text": [
      "+-------------+--------------------+--------------------+------+----------------+----------+-------+\n",
      "|   short_name|           club_name|         league_name|season|player_positions|macro_role|overall|\n",
      "+-------------+--------------------+--------------------+------+----------------+----------+-------+\n",
      "|   D. Boateng|            SD Eibar|Spain Primera Div...|    14|         CDM, CM|       2.0|     71|\n",
      "|    S. Padoin|            Juventus|     Italian Serie A|    14|          RM, CM|       2.0|     73|\n",
      "|    S. Padoin|            Juventus|     Italian Serie A|    15|      LB, RM, CM|       1.0|     75|\n",
      "|    S. Padoin|            Cagliari|     Italian Serie A|    18|      RB, LM, CM|       1.0|     71|\n",
      "|  A. Aquilani|       UD Las Palmas|Spain Primera Div...|    17|         CM, CDM|       2.0|     75|\n",
      "|      S. Pepe|            Juventus|     Italian Serie A|    14|          RM, LM|       2.0|     75|\n",
      "|         Xavi|        FC Barcelona|Spain Primera Div...|    14|              CM|       2.0|     86|\n",
      "|   F. Modesto|Sporting Club de ...|      French Ligue 1|    14|          CB, RB|       1.0|     72|\n",
      "|     A. Boruc|         Bournemouth|English Premier L...|    17|              GK|       0.0|     77|\n",
      "|       Aduriz|Athletic Club de ...|Spain Primera Div...|    15|              ST|       3.0|     82|\n",
      "|       Aduriz|Athletic Club de ...|Spain Primera Div...|    19|              ST|       3.0|     82|\n",
      "|Victor Valdés|   Manchester United|English Premier L...|    15|              GK|       0.0|     82|\n",
      "|    G. Pegolo|            Sassuolo|     Italian Serie A|    16|              GK|       0.0|     72|\n",
      "|    D. Brivio|               Genoa|     Italian Serie A|    16|              LB|       1.0|     73|\n",
      "|      Y. Pelé|Olympique de Mars...|      French Ligue 1|    17|              GK|       0.0|     75|\n",
      "| M. Tacalfred|      Stade de Reims|      French Ligue 1|    14|              CB|       1.0|     71|\n",
      "| M. Tacalfred|      Stade de Reims|      French Ligue 1|    15|              CB|       1.0|     73|\n",
      "|     J. Audel|           FC Nantes|      French Ligue 1|    15|      LM, RM, ST|       2.0|     71|\n",
      "|     C. Maury|         GFC Ajaccio|      French Ligue 1|    15|              GK|       0.0|     68|\n",
      "|    T. Starke|   FC Bayern München|German 1. Bundesliga|    14|              GK|       0.0|     76|\n",
      "+-------------+--------------------+--------------------+------+----------------+----------+-------+\n",
      "only showing top 20 rows\n",
      "\n"
     ]
    },
    {
     "name": "stderr",
     "output_type": "stream",
     "text": [
      "                                                                                \r"
     ]
    }
   ],
   "source": [
    "pre_processed_df.select(*columns[0:7]).show()"
   ]
  },
  {
   "cell_type": "markdown",
   "metadata": {},
   "source": [
    "# Building football teams"
   ]
  },
  {
   "cell_type": "code",
   "execution_count": 12,
   "metadata": {},
   "outputs": [],
   "source": [
    "football_teams_df = pre_processed_df"
   ]
  },
  {
   "cell_type": "markdown",
   "metadata": {},
   "source": [
    "After having pre-processed the football players, it's time to build the football teams.\n",
    "\n",
    "For the sake of the learning stage of the project, teams are differenciated across different seasons. So, for example, Real Madrid of season 2020 is **different** than Real Madrid of season 2018.\n",
    "\n",
    "A football team is the set of the average of the features of all of its football players."
   ]
  },
  {
   "cell_type": "code",
   "execution_count": 13,
   "metadata": {},
   "outputs": [],
   "source": [
    "# Columns that are considered as features\n",
    "PLAYER_FEATURES = [\n",
    "    \"overall\",\n",
    "    \"value\",\n",
    "    \"pace\",\n",
    "    \"shooting\",\n",
    "    \"passing\",\n",
    "    \"dribbling\",\n",
    "    \"defending\",\n",
    "    \"physic\",\n",
    "    \"attacking_crossing\",\n",
    "    \"attacking_finishing\",\n",
    "    \"attacking_heading_accuracy\",\n",
    "    \"attacking_short_passing\",\n",
    "    \"skill_dribbling\",\n",
    "    \"skill_fk_accuracy\",\n",
    "    \"skill_long_passing\",\n",
    "    \"skill_ball_control\",\n",
    "    \"movement_acceleration\",\n",
    "    \"movement_sprint_speed\",\n",
    "    \"movement_reactions\",\n",
    "    \"power_shot_power\",\n",
    "    \"power_stamina\",\n",
    "    \"power_strength\",\n",
    "    \"power_long_shots\",\n",
    "    \"mentality_aggression\",\n",
    "    \"mentality_penalties\",\n",
    "    \"defending_standing_tackle\"\n",
    "]\n",
    "\n",
    "# Apposing the avg pre-fix to features\n",
    "PLAYER_FEATURES_AVG = [\n",
    "    \"avg(\" + player_feature + \")\" for player_feature in PLAYER_FEATURES\n",
    "]\n",
    "\n",
    "# Target variable of the learning stage\n",
    "TARGET_VARIABLE = \"points\""
   ]
  },
  {
   "cell_type": "markdown",
   "metadata": {},
   "source": [
    "Composing the football team, as introduced before."
   ]
  },
  {
   "cell_type": "code",
   "execution_count": 14,
   "metadata": {},
   "outputs": [],
   "source": [
    "football_teams_df = football_teams_df.select(\n",
    "    \"season\", \"club_name\", *PLAYER_FEATURES\n",
    ").groupBy(\n",
    "    [\"season\", \"club_name\"]\n",
    ").agg(\n",
    "    { player_feature: \"avg\" for player_feature in PLAYER_FEATURES }\n",
    ")"
   ]
  },
  {
   "cell_type": "markdown",
   "metadata": {},
   "source": [
    "This is the end result.\n",
    "\n",
    "For graphical reasons, only a selection of the columns will be shown, just to give an idea of the structure."
   ]
  },
  {
   "cell_type": "code",
   "execution_count": 15,
   "metadata": {},
   "outputs": [
    {
     "name": "stderr",
     "output_type": "stream",
     "text": [
      "[Stage 13:======================================>                   (4 + 2) / 6]\r"
     ]
    },
    {
     "name": "stdout",
     "output_type": "stream",
     "text": [
      "+------+--------------------+-----------------+--------------------+------------------+\n",
      "|season|           club_name|     avg(overall)|          avg(value)|         avg(pace)|\n",
      "+------+--------------------+-----------------+--------------------+------------------+\n",
      "|    18|        ADO Den Haag|66.33333333333333|  1114166.6666666667|            56.625|\n",
      "|    16|       Chievo Verona|             71.3|  2411666.6666666665|              55.9|\n",
      "|    16|         Southampton|71.93939393939394|   5041060.606060606| 64.66666666666667|\n",
      "|    17|Athletic Club de ...|            75.75|   9794642.857142856|59.214285714285715|\n",
      "|    15|   Manchester United|76.25925925925925|1.3582037037037037E7| 59.96296296296296|\n",
      "|    19|   Manchester United|76.84848484848484|1.5187121212121213E7| 67.03030303030303|\n",
      "|    19|          Hertha BSC|71.75757575757575|   5872575.757575758| 63.84848484848485|\n",
      "|    15|         Bournemouth|69.89655172413794|   2162758.620689655| 65.10344827586206|\n",
      "|    20|FC Girondins de B...| 70.6896551724138|  3988620.6896551726| 55.44827586206897|\n",
      "|    15|             Watford|71.32142857142857|  2790178.5714285714|62.785714285714285|\n",
      "|    16|     West Ham United|72.54545454545455|   7179242.424242424| 66.93939393939394|\n",
      "|    15|          1. FC Köln|71.79166666666667|  3654166.6666666665|62.666666666666664|\n",
      "|    16|       SC Heerenveen|66.76666666666667|  1257333.3333333333|              59.4|\n",
      "|    18|    AS Saint-Étienne|70.11111111111111|   4653518.518518519| 63.51851851851852|\n",
      "|    14|Sporting Club de ...|66.21212121212122|   996363.6363636364| 60.93939393939394|\n",
      "|    15|     Atlético Madrid|            76.92|            1.2458E7|             64.84|\n",
      "|    17|    Stade Rennais FC|69.15151515151516|   3382575.757575758| 61.36363636363637|\n",
      "|    17|        Swansea City|71.24242424242425|   5101818.181818182| 58.06060606060606|\n",
      "|    17| Eintracht Frankfurt|72.33333333333333|   5289393.939393939| 64.27272727272727|\n",
      "|    15|       VfB Stuttgart|70.79310344827586|  3495862.0689655175|62.206896551724135|\n",
      "+------+--------------------+-----------------+--------------------+------------------+\n",
      "only showing top 20 rows\n",
      "\n"
     ]
    },
    {
     "name": "stderr",
     "output_type": "stream",
     "text": [
      "                                                                                \r"
     ]
    }
   ],
   "source": [
    "football_teams_df.select(\n",
    "    \"season\", \"club_name\", *PLAYER_FEATURES_AVG[0:3]\n",
    ").show()"
   ]
  },
  {
   "cell_type": "markdown",
   "metadata": {},
   "source": [
    "# Loading football teams seasonal scores"
   ]
  },
  {
   "cell_type": "markdown",
   "metadata": {},
   "source": [
    "After having dealt with the football players and composed them into football clubs, it's time to get \"target\" data for the learning stage: the final ranking, for every team of every year.\n",
    "\n",
    "First step is to load the data from disk, which has been taken from the [European Football Dataset](https://www.kaggle.com/datasets/josephvm/european-club-football-dataset)"
   ]
  },
  {
   "cell_type": "code",
   "execution_count": 16,
   "metadata": {},
   "outputs": [],
   "source": [
    "seasonal_scores_df = (\n",
    "    spark.read.csv(\n",
    "        \"data/all_tables_fixed_renamed_leagues.csv\",\n",
    "        sep=\",\",\n",
    "        inferSchema=True,\n",
    "        header=True,\n",
    "        multiLine=True,\n",
    "    )\n",
    "    .withColumnRenamed(\"Year\", \"season\")\n",
    "    .withColumnRenamed(\"Team\", \"club_name\")\n",
    "    .withColumnRenamed(\"P\", \"points\")\n",
    "    .withColumnRenamed(\"Place\", \"place\")\n",
    "    .withColumnRenamed(\"League\", \"league\")\n",
    ")"
   ]
  },
  {
   "cell_type": "markdown",
   "metadata": {},
   "source": [
    "# Pre-processing football teams seasonal scores"
   ]
  },
  {
   "cell_type": "markdown",
   "metadata": {},
   "source": [
    "Out of all the available columns, only the ones in `seasonal_scores_columns` will be taken into consideration"
   ]
  },
  {
   "cell_type": "code",
   "execution_count": 17,
   "metadata": {},
   "outputs": [],
   "source": [
    "seasonal_scores_columns = [\n",
    "    \"season\", \"club_name\", \"points\", \"place\", \"league\"\n",
    "]"
   ]
  },
  {
   "cell_type": "markdown",
   "metadata": {},
   "source": [
    "Seasonal score dataset uses abbreviated version of football team names (for example: \"BAR\" for Barcelona, \"LEI\" for Leicester, etc.), which would cause incompatibility with modern and legacy FIFA datasets.\n",
    "\n",
    "For this reason, a custom, hand-made, mapping procedure has been developed, so as every contracted name can successfully be expanded to the correct FIFA name.\n",
    "\n",
    "Furthermore, name inconsistencies (for example, \"Torino\" and \"Torino FC\") have been solved, by hand, in this step too.\n"
   ]
  },
  {
   "cell_type": "code",
   "execution_count": 18,
   "metadata": {},
   "outputs": [],
   "source": [
    "f = open(\"data/clubs_map.json\")\n",
    "club_name_abbr_to_ext = json.load(f)\n",
    "f.close()\n",
    "\n",
    "ABBREVIATED_CLUB_NAME_NOT_FOUD = \"ABBREVIATED_CLUB_NAME_NOT_FOUD\"\n",
    "GENERAL_EXCEPTION = \"GENERAL_EXCEPTION\"\n",
    "\n",
    "def extend_club_name(club_name_abbr):\n",
    "    try:\n",
    "        return club_name_abbr_to_ext[club_name_abbr]\n",
    "    except KeyError as e:\n",
    "        return ABBREVIATED_CLUB_NAME_NOT_FOUD\n",
    "    except Exception as e:\n",
    "        return GENERAL_EXCEPTION\n",
    "\n",
    "extend_club_name_UDF = udf(\n",
    "    lambda club_name_abbr: extend_club_name(str(club_name_abbr)),\n",
    "    StringType(),\n",
    ")"
   ]
  },
  {
   "cell_type": "markdown",
   "metadata": {},
   "source": [
    "In the rankings dataset the seasons are expressed as YYYY, whilst FIFA uses the YY encoding.\n",
    "\n",
    "For this reason, to guarantee compatibility, season value in rankings dataset is abbreviated."
   ]
  },
  {
   "cell_type": "code",
   "execution_count": 19,
   "metadata": {},
   "outputs": [],
   "source": [
    "abbreviate_season_UDF = udf(\n",
    "    lambda season: str(season)[-2:],\n",
    "    StringType(),\n",
    ")"
   ]
  },
  {
   "cell_type": "markdown",
   "metadata": {},
   "source": [
    "Actual data pre-processing"
   ]
  },
  {
   "cell_type": "code",
   "execution_count": 20,
   "metadata": {},
   "outputs": [],
   "source": [
    "pre_processed_seasonal_scores_df = seasonal_scores_df\n",
    "\n",
    "# Abbreviating season, as per previous cell\n",
    "pre_processed_seasonal_scores_df = pre_processed_seasonal_scores_df.withColumn(\n",
    "    \"season\", abbreviate_season_UDF(col(\"season\"))\n",
    ")\n",
    "\n",
    "# Keeping only supported leagues in supported seasons\n",
    "pre_processed_seasonal_scores_df = pre_processed_seasonal_scores_df.where(\n",
    "    (pre_processed_seasonal_scores_df.season.isin(seasons))\n",
    "    & \n",
    "    (pre_processed_seasonal_scores_df.league.isin(leagues))\n",
    ")\n",
    "\n",
    "# Selecting only the desired columns\n",
    "pre_processed_seasonal_scores_df = pre_processed_seasonal_scores_df.select(\n",
    "    seasonal_scores_columns\n",
    ")\n",
    "\n",
    "# Although data has been checked for duplicates and missing value, to ensure \n",
    "# operabiloty with other datasets, the pre-processing steps are still performed\n",
    "pre_processed_seasonal_scores_df = pre_processed_seasonal_scores_df.dropDuplicates(\n",
    "    seasonal_scores_columns\n",
    ")\n",
    "pre_processed_seasonal_scores_df = pre_processed_seasonal_scores_df.na.fill(0)\n",
    "\n",
    "# Extending club names, as per previous cell\n",
    "pre_processed_seasonal_scores_df = pre_processed_seasonal_scores_df.withColumn(\n",
    "    \"club_name\", extend_club_name_UDF(col(\"club_name\"))\n",
    ")\n",
    "# Checking whether club name expansions went all good or not\n",
    "if pre_processed_seasonal_scores_df.filter(\n",
    "    col(\"club_name\") == ABBREVIATED_CLUB_NAME_NOT_FOUD\n",
    ").count() > 0:\n",
    "    print(\"WARN: some clubs have NOT been found\")\n",
    "    print(\"Please check your data\")\n",
    "\n",
    "# Casting points to float, as required by learning procedures\n",
    "pre_processed_seasonal_scores_df = pre_processed_seasonal_scores_df.withColumn(\n",
    "    \"points\", pre_processed_seasonal_scores_df.points.cast(DoubleType())\n",
    ")"
   ]
  },
  {
   "cell_type": "markdown",
   "metadata": {},
   "source": [
    "This is the end result"
   ]
  },
  {
   "cell_type": "code",
   "execution_count": 21,
   "metadata": {},
   "outputs": [
    {
     "name": "stdout",
     "output_type": "stream",
     "text": [
      "+------+--------------------+------+-----+--------------------+\n",
      "|season|           club_name|points|place|              league|\n",
      "+------+--------------------+------+-----+--------------------+\n",
      "|    18|   Tottenham Hotspur|  71.0|    4|English Premier L...|\n",
      "|    18|   Manchester United|  66.0|    6|English Premier L...|\n",
      "|    08|RC Recreativo de ...|  33.0|   20|Spain Primera Div...|\n",
      "|    16|            RC Celta|  45.0|   13|Spain Primera Div...|\n",
      "|    16|       UD Las Palmas|  39.0|   14|Spain Primera Div...|\n",
      "|    15|               Carpi|  38.0|   18|     Italian Serie A|\n",
      "|    12|        FC Groningen|  43.0|    7|  Holland Eredivisie|\n",
      "|    13|           FC Twente|  63.0|    3|  Holland Eredivisie|\n",
      "|    12|      Stade de Reims|  43.0|   14|      French Ligue 1|\n",
      "|    16|Sporting Club de ...|  34.0|   20|      French Ligue 1|\n",
      "|    16|   Tottenham Hotspur|  86.0|    2|English Premier L...|\n",
      "|    07|          Sevilla FC|  64.0|    5|Spain Primera Div...|\n",
      "|    18|      Rayo Vallecano|  32.0|   20|Spain Primera Div...|\n",
      "|    17|         Hannover 96|  39.0|   13|German 1. Bundesliga|\n",
      "|    19|   Borussia Dortmund|  69.0|    2|German 1. Bundesliga|\n",
      "|    19|                Ajax|  56.0|    1|  Holland Eredivisie|\n",
      "|    09|  Olympique Lyonnais|  72.0|    2|      French Ligue 1|\n",
      "|    10|            OGC Nice|  46.0|   17|      French Ligue 1|\n",
      "|    12|Olympique de Mars...|  71.0|    2|      French Ligue 1|\n",
      "|    20|           FC Nantes|  40.0|   18|      French Ligue 1|\n",
      "+------+--------------------+------+-----+--------------------+\n",
      "only showing top 20 rows\n",
      "\n"
     ]
    }
   ],
   "source": [
    "pre_processed_seasonal_scores_df.show()"
   ]
  },
  {
   "cell_type": "markdown",
   "metadata": {},
   "source": [
    "# Joining football teams features with their seasonal scores"
   ]
  },
  {
   "cell_type": "markdown",
   "metadata": {},
   "source": [
    "The two dataframes (players and seasonal scores) need to be merged together to form a single dataframe.\n",
    "This can easily be done by joining on the key (`season`, `club_name`)."
   ]
  },
  {
   "cell_type": "code",
   "execution_count": 22,
   "metadata": {},
   "outputs": [],
   "source": [
    "df = football_teams_df.join(\n",
    "    pre_processed_seasonal_scores_df,\n",
    "    on = [\"season\", \"club_name\"],\n",
    ")"
   ]
  },
  {
   "cell_type": "markdown",
   "metadata": {},
   "source": [
    "In order to check whether some clubs were left out by the aforementioned join operation, two differences are computed:\n",
    "\n",
    "* Seasonal scores dataframe - joined dataframe.\n",
    "* Football teams dataframe - joined dataframe."
   ]
  },
  {
   "cell_type": "code",
   "execution_count": 23,
   "metadata": {},
   "outputs": [
    {
     "name": "stderr",
     "output_type": "stream",
     "text": [
      "                                                                                \r"
     ]
    }
   ],
   "source": [
    "diff = pre_processed_seasonal_scores_df.select(\"club_name\").subtract(df.select(\"club_name\")).distinct()\n",
    "\n",
    "if diff.count() > 0:\n",
    "    print(\"WARN: Some football teams have been left out the join (pre_processed_seasonal_scores_df)\")\n",
    "    diff.show()\n",
    "\n",
    "diff = football_teams_df.select(\"club_name\").subtract(df.select(\"club_name\")).distinct()\n",
    "if diff.count() > 0:\n",
    "    print(\"WARN: Some football teams have been left out the join (football_teams_df)\")\n",
    "    diff.show()\n",
    "\n",
    "del diff"
   ]
  },
  {
   "cell_type": "markdown",
   "metadata": {},
   "source": [
    "This is the end result.\n",
    "\n",
    "For graphical reasons, only a selection of the columns will be shown, just to give an idea of the structure."
   ]
  },
  {
   "cell_type": "code",
   "execution_count": 24,
   "metadata": {},
   "outputs": [
    {
     "name": "stderr",
     "output_type": "stream",
     "text": [
      "                                                                                \r"
     ]
    },
    {
     "name": "stdout",
     "output_type": "stream",
     "text": [
      "+------+--------------------+--------------------+-----------------+------------------+------+-----+\n",
      "|season|              league|           club_name|     avg(overall)|         avg(pace)|points|place|\n",
      "+------+--------------------+--------------------+-----------------+------------------+------+-----+\n",
      "|    18|  Holland Eredivisie|        ADO Den Haag|66.33333333333333|            56.625|  45.0|    9|\n",
      "|    16|     Italian Serie A|       Chievo Verona|             71.3|              55.9|  43.0|   14|\n",
      "|    16|English Premier L...|         Southampton|71.93939393939394| 64.66666666666667|  46.0|    8|\n",
      "|    17|Spain Primera Div...|Athletic Club de ...|            75.75|59.214285714285715|  43.0|   16|\n",
      "|    15|English Premier L...|   Manchester United|76.25925925925925| 59.96296296296296|  66.0|    5|\n",
      "|    19|English Premier L...|   Manchester United|76.84848484848484| 67.03030303030303|  66.0|    3|\n",
      "|    19|German 1. Bundesliga|          Hertha BSC|71.75757575757575| 63.84848484848485|  41.0|   10|\n",
      "|    15|English Premier L...|         Bournemouth|69.89655172413794| 65.10344827586206|  42.0|   16|\n",
      "|    20|      French Ligue 1|FC Girondins de B...| 70.6896551724138| 55.44827586206897|  45.0|   12|\n",
      "|    15|English Premier L...|             Watford|71.32142857142857|62.785714285714285|  45.0|   13|\n",
      "|    18|      French Ligue 1|    AS Saint-Étienne|70.11111111111111| 63.51851851851852|  66.0|    4|\n",
      "|    16|English Premier L...|     West Ham United|72.54545454545455| 66.93939393939394|  45.0|   11|\n",
      "|    15|German 1. Bundesliga|          1. FC Köln|71.79166666666667|62.666666666666664|  43.0|    9|\n",
      "|    16|  Holland Eredivisie|       SC Heerenveen|66.76666666666667|              59.4|  43.0|    9|\n",
      "|    14|      French Ligue 1|Sporting Club de ...|66.21212121212122| 60.93939393939394|  47.0|   12|\n",
      "|    15|Spain Primera Div...|     Atlético Madrid|            76.92|             64.84|  88.0|    3|\n",
      "|    17|      French Ligue 1|    Stade Rennais FC|69.15151515151516| 61.36363636363637|  58.0|    5|\n",
      "|    17|English Premier L...|        Swansea City|71.24242424242425| 58.06060606060606|  33.0|   18|\n",
      "|    17|German 1. Bundesliga| Eintracht Frankfurt|72.33333333333333| 64.27272727272727|  49.0|    8|\n",
      "|    15|German 1. Bundesliga|       VfB Stuttgart|70.79310344827586|62.206896551724135|  33.0|   17|\n",
      "+------+--------------------+--------------------+-----------------+------------------+------+-----+\n",
      "only showing top 20 rows\n",
      "\n"
     ]
    },
    {
     "name": "stderr",
     "output_type": "stream",
     "text": [
      "                                                                                \r"
     ]
    }
   ],
   "source": [
    "df.select(\n",
    "    \"season\", \"league\", \"club_name\", \"avg(overall)\", \"avg(pace)\", \"points\", \"place\"\n",
    ").show()"
   ]
  },
  {
   "cell_type": "markdown",
   "metadata": {},
   "source": [
    "# Visualizations"
   ]
  },
  {
   "cell_type": "markdown",
   "metadata": {},
   "source": [
    "## Points distribution\n",
    "\n",
    "The following is the distribution of points across all leagues."
   ]
  },
  {
   "cell_type": "code",
   "execution_count": 35,
   "metadata": {},
   "outputs": [
    {
     "name": "stderr",
     "output_type": "stream",
     "text": [
      "                                                                                \r"
     ]
    },
    {
     "data": {
      "application/vnd.jupyter.widget-view+json": {
       "model_id": "3e652b799f064b5db9249242561e5519",
       "version_major": 2,
       "version_minor": 0
      },
      "image/png": "[encoded data removed]",
      "text/html": [
       "\n",
       "            <div style=\"display: inline-block;\">\n",
       "                <div class=\"jupyter-widgets widget-label\" style=\"text-align: center;\">\n",
       "                    Figure\n",
       "                </div>\n",
       "                <img src='data:image/png;base64,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' width=592.625/>\n",
       "            </div>\n",
       "        "
      ],
      "text/plain": [
       "Canvas(toolbar=Toolbar(toolitems=[('Home', 'Reset original view', 'home', 'home'), ('Back', 'Back to previous …"
      ]
     },
     "metadata": {},
     "output_type": "display_data"
    }
   ],
   "source": [
    "p = sns.displot(df.select(\"points\").toPandas(), kde=True)\n",
    "p.fig.tight_layout(pad=1.5)\n",
    "plt.title(\"Points distribution across all leagues\")"
   ]
  },
  {
   "cell_type": "markdown",
   "metadata": {},
   "source": [
    "Some observations can be done:\n",
    "\n",
    "* There is a skewness towards lowest points, which correspond to the bottom leage tables.\n",
    "* The vast majority of points are in the middle.\n",
    "* A few points are on the high part of the tables.\n",
    "\n",
    "Said observations correspond to the expectations, which are from the domain knowledge."
   ]
  },
  {
   "cell_type": "markdown",
   "metadata": {},
   "source": [
    "The following density plot instead focuses on each league, showing again the points distribution."
   ]
  },
  {
   "cell_type": "code",
   "execution_count": 36,
   "metadata": {},
   "outputs": [
    {
     "data": {
      "text/plain": [
       "Text(0.5, 1.0, 'Points distribution per league')"
      ]
     },
     "execution_count": 36,
     "metadata": {},
     "output_type": "execute_result"
    },
    {
     "data": {
      "application/vnd.jupyter.widget-view+json": {
       "model_id": "e736cf581c4847ecaa37ad9ddf57f978",
       "version_major": 2,
       "version_minor": 0
      },
      "image/png": "[encoded data removed]",
      "text/html": [
       "\n",
       "            <div style=\"display: inline-block;\">\n",
       "                <div class=\"jupyter-widgets widget-label\" style=\"text-align: center;\">\n",
       "                    Figure\n",
       "                </div>\n",
       "                <img src='data:image/png;base64,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' width=1063.25/>\n",
       "            </div>\n",
       "        "
      ],
      "text/plain": [
       "Canvas(toolbar=Toolbar(toolitems=[('Home', 'Reset original view', 'home', 'home'), ('Back', 'Back to previous …"
      ]
     },
     "metadata": {},
     "output_type": "display_data"
    }
   ],
   "source": [
    "p = sns.displot(df.toPandas(), x=\"points\", hue=\"league\", kind=\"kde\", aspect=1.7, palette=\"tab10\")\n",
    "p.fig.tight_layout(pad=1.5)\n",
    "plt.title(\"Points distribution per league\")"
   ]
  },
  {
   "cell_type": "markdown",
   "metadata": {},
   "source": [
    "Some observations can be made:\n",
    "\n",
    "* The **French** and **Spanish** leagues are the less skewed among all leagues, possibly meaning that they are characterized by a majority of \"average\" teams.\n",
    "* The **Italian** and **English** leagues are very similar on low and middle points, but start to behave slightly different on the middle-high and high parts of the table.\n",
    "* The **Dutch** league is the most left-skewed, possibly hinting at the lower quality of the league, as suggested by the domain knowledge.\n",
    "* The **Spanish** league has a boost on high points, hinting at a consistent dominancy of one or more teams."
   ]
  },
  {
   "cell_type": "markdown",
   "metadata": {},
   "source": [
    "## Overall player quality distribution\n",
    "\n",
    "Similar visualizations can be done to analyze the overall player quality.\n",
    "\n",
    "The following plot shows the distribution of the player quality (`avg(overall)`) across all leagues."
   ]
  },
  {
   "cell_type": "code",
   "execution_count": 38,
   "metadata": {},
   "outputs": [
    {
     "name": "stderr",
     "output_type": "stream",
     "text": [
      "                                                                                \r"
     ]
    },
    {
     "data": {
      "text/plain": [
       "Text(0.5, 1.0, 'Players strength across all leagues')"
      ]
     },
     "execution_count": 38,
     "metadata": {},
     "output_type": "execute_result"
    },
    {
     "data": {
      "application/vnd.jupyter.widget-view+json": {
       "model_id": "b80be0dc60f94e11aac4782f1f15adef",
       "version_major": 2,
       "version_minor": 0
      },
      "image/png": "[encoded data removed]",
      "text/html": [
       "\n",
       "            <div style=\"display: inline-block;\">\n",
       "                <div class=\"jupyter-widgets widget-label\" style=\"text-align: center;\">\n",
       "                    Figure\n",
       "                </div>\n",
       "                <img src='data:image/png;base64,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' width=634.0/>\n",
       "            </div>\n",
       "        "
      ],
      "text/plain": [
       "Canvas(toolbar=Toolbar(toolitems=[('Home', 'Reset original view', 'home', 'home'), ('Back', 'Back to previous …"
      ]
     },
     "metadata": {},
     "output_type": "display_data"
    }
   ],
   "source": [
    "p = sns.displot(df.select(\"avg(overall)\").toPandas(), kde=True)\n",
    "p.fig.tight_layout(pad=1.5)\n",
    "plt.title(\"Player quality across all leagues\")"
   ]
  },
  {
   "cell_type": "markdown",
   "metadata": {},
   "source": [
    "Similarily to what observed for the points, the plot shows that:\n",
    "\n",
    "* A vast majority of the players are of average quality.\n",
    "* A minority of the players are below-average.\n",
    "* A minority of the players are among-average.\n",
    "\n",
    "The following plot focuses on the single leagues."
   ]
  },
  {
   "cell_type": "code",
   "execution_count": 39,
   "metadata": {},
   "outputs": [
    {
     "data": {
      "text/plain": [
       "Text(0.5, 1.0, 'Player quality per league')"
      ]
     },
     "execution_count": 39,
     "metadata": {},
     "output_type": "execute_result"
    },
    {
     "data": {
      "application/vnd.jupyter.widget-view+json": {
       "model_id": "5b8aeba6b54645c480b9fc0bd511240b",
       "version_major": 2,
       "version_minor": 0
      },
      "image/png": "[encoded data removed]",
      "text/html": [
       "\n",
       "            <div style=\"display: inline-block;\">\n",
       "                <div class=\"jupyter-widgets widget-label\" style=\"text-align: center;\">\n",
       "                    Figure\n",
       "                </div>\n",
       "                <img src='data:image/png;base64,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' width=1063.25/>\n",
       "            </div>\n",
       "        "
      ],
      "text/plain": [
       "Canvas(toolbar=Toolbar(toolitems=[('Home', 'Reset original view', 'home', 'home'), ('Back', 'Back to previous …"
      ]
     },
     "metadata": {},
     "output_type": "display_data"
    }
   ],
   "source": [
    "p = sns.displot(df.toPandas(), x=\"avg(overall)\", hue=\"league\", kind=\"kde\", aspect=1.7, palette=\"tab10\")\n",
    "p.fig.tight_layout(pad=1.5)\n",
    "plt.title(\"Player quality per league\")"
   ]
  },
  {
   "cell_type": "markdown",
   "metadata": {},
   "source": [
    "From the plot it is possible to observe that:\n",
    "\n",
    "* The Dutch league hosts the majority of below-average players.\n",
    "* The French league follows the Dutch one in below-average players.\n",
    "* The German league has the highest amount of average players.\n",
    "* The German, Engligh, Italian and Spanish leagues have a peak of average players.\n",
    "* The same leagues have a considerable amount of above-average players.\n",
    "* The Spanish leagues dominates on the above-average players."
   ]
  },
  {
   "cell_type": "markdown",
   "metadata": {},
   "source": [
    "# Attempt 1: \"naive\" player features\n",
    "\n",
    "Naive --> simply take the given features and NOT crafting them from other learning processes (i.e. NO clustering or stuff)"
   ]
  },
  {
   "cell_type": "code",
   "execution_count": null,
   "metadata": {},
   "outputs": [],
   "source": [
    "ALL_FEATURES = PLAYER_FEATURES_AVG\n",
    "ALL_FEATURES.remove(\"avg(overall)\")\n",
    "ALL_FEATURES.remove(\"avg(value)\")\n"
   ]
  },
  {
   "cell_type": "code",
   "execution_count": null,
   "metadata": {},
   "outputs": [],
   "source": [
    "assembler = VectorAssembler(\n",
    "    inputCols=ALL_FEATURES, outputCol=\"all_vec\"\n",
    ")\n",
    "\n",
    "df = assembler.transform(df)"
   ]
  },
  {
   "cell_type": "code",
   "execution_count": null,
   "metadata": {},
   "outputs": [],
   "source": [
    "def plot_feature_target_relation(\n",
    "    data, x, y, n_rows = 12, n_cols = 2, figsize = (20, 40), color = \"#000000\"\n",
    "):\n",
    "\n",
    "    fig, axes = plt.subplots(n_rows, n_cols, figsize=figsize)\n",
    "\n",
    "    for x_ind, x_value in enumerate(x):\n",
    "        ax = sns.regplot(\n",
    "            data=pdf,\n",
    "            x=x_value,\n",
    "            y=y,\n",
    "            color = color,\n",
    "            ax=axes[x_ind // n_cols, x_ind % n_cols],\n",
    "        )\n",
    "\n",
    "\n",
    "    fig.tight_layout(pad=1.5)"
   ]
  },
  {
   "cell_type": "code",
   "execution_count": null,
   "metadata": {},
   "outputs": [],
   "source": [
    "def plot_feature_distribution(\n",
    "    data, features, figsize = (20, 40), \n",
    "    color = \"#000000\"\n",
    "):\n",
    "\n",
    "    n_cols = 2\n",
    "    n_rows = int(len(features) / n_cols) if len(features) >= n_cols else n_cols\n",
    "\n",
    "    fig, axes = plt.subplots(n_rows, n_cols, figsize=(10, 30))\n",
    "\n",
    "    for feature_ind, feature in enumerate(features):\n",
    "        _ = sns.histplot(\n",
    "            data[feature],\n",
    "            kde=True,\n",
    "            color=color,\n",
    "            facecolor=color,\n",
    "            ax=axes[feature_ind // n_cols, feature_ind % n_cols],\n",
    "        )\n",
    "\n",
    "    fig.tight_layout(pad=1.5)"
   ]
  },
  {
   "cell_type": "code",
   "execution_count": null,
   "metadata": {},
   "outputs": [],
   "source": [
    "def plot_correlation_matrix(\n",
    "    data, features, title = \"Pearson Correlation Matrix\", figsize = (16,12)\n",
    "):\n",
    "\n",
    "    mask = np.zeros_like(data[features].corr(), dtype=bool)\n",
    "    mask[np.triu_indices_from(mask)] = True\n",
    "\n",
    "    with sns.axes_style(\"white\"):  # Temporarily set the background to white\n",
    "        fig, ax = plt.subplots(figsize=figsize)\n",
    "        plt.title(title, fontsize=24)\n",
    "\n",
    "        cmap = sns.diverging_palette(220, 10, as_cmap=True)\n",
    "\n",
    "        _ = sns.heatmap(\n",
    "            data[features].corr(),\n",
    "            linewidths=0.25,\n",
    "            vmax=0.7,\n",
    "            square=True,\n",
    "            ax=ax,\n",
    "            cmap=cmap,\n",
    "            linecolor=\"w\",\n",
    "            annot=True,\n",
    "            annot_kws={\"size\": 8},\n",
    "            mask=mask,\n",
    "            cbar_kws={\"shrink\": 0.9},\n",
    "        )"
   ]
  },
  {
   "cell_type": "markdown",
   "metadata": {},
   "source": [
    "## Raw data"
   ]
  },
  {
   "cell_type": "markdown",
   "metadata": {},
   "source": [
    "*[explain what does \"raw\" mean]*"
   ]
  },
  {
   "cell_type": "code",
   "execution_count": null,
   "metadata": {},
   "outputs": [],
   "source": [
    "COLOR_RAW = \"#332FD0\""
   ]
  },
  {
   "cell_type": "code",
   "execution_count": null,
   "metadata": {},
   "outputs": [],
   "source": [
    "pdf = df.toPandas()"
   ]
  },
  {
   "cell_type": "markdown",
   "metadata": {},
   "source": [
    "### Feature-target correlation"
   ]
  },
  {
   "cell_type": "code",
   "execution_count": null,
   "metadata": {},
   "outputs": [],
   "source": [
    "#TODO set an appropriate figsize for Google Colab\n",
    "plot_feature_target_relation(\n",
    "    pdf, ALL_FEATURES, TARGET_VARIABLE, figsize=(4,4), color=COLOR_RAW\n",
    ")"
   ]
  },
  {
   "cell_type": "markdown",
   "metadata": {},
   "source": [
    "### Feature distribution"
   ]
  },
  {
   "cell_type": "code",
   "execution_count": null,
   "metadata": {},
   "outputs": [],
   "source": [
    "plot_feature_distribution(pdf, ALL_FEATURES, color = COLOR_RAW, figsize=(4,4))"
   ]
  },
  {
   "cell_type": "markdown",
   "metadata": {},
   "source": [
    "### Pearson Correlation Matrix"
   ]
  },
  {
   "cell_type": "code",
   "execution_count": null,
   "metadata": {},
   "outputs": [],
   "source": [
    "plot_correlation_matrix(pdf, ALL_FEATURES)"
   ]
  },
  {
   "cell_type": "markdown",
   "metadata": {},
   "source": [
    "## Standardization"
   ]
  },
  {
   "cell_type": "markdown",
   "metadata": {},
   "source": [
    "Since we have some features with skewed distributions, we'll try to standardize, to see whether it helps with feature skewness or not"
   ]
  },
  {
   "cell_type": "code",
   "execution_count": null,
   "metadata": {},
   "outputs": [],
   "source": [
    "# standardized_df = df"
   ]
  },
  {
   "cell_type": "code",
   "execution_count": null,
   "metadata": {},
   "outputs": [],
   "source": [
    "scaler = StandardScaler(\n",
    "    inputCol=\"all_vec\", \n",
    "    outputCol=\"all_vec_std\", \n",
    "    withStd=True, \n",
    "    withMean=True\n",
    ")"
   ]
  },
  {
   "cell_type": "code",
   "execution_count": null,
   "metadata": {},
   "outputs": [],
   "source": [
    "# standardized_df = scaler.fit(standardized_df).transform(standardized_df)\n",
    "df = scaler.fit(df).transform(df)"
   ]
  },
  {
   "cell_type": "code",
   "execution_count": null,
   "metadata": {},
   "outputs": [],
   "source": [
    "COLOR_STD = \"#9254C8\"\n",
    "\n",
    "ALL_FEATURES_STD = [\n",
    "    player_feature + \"_std\" for player_feature in ALL_FEATURES\n",
    "]"
   ]
  },
  {
   "cell_type": "code",
   "execution_count": null,
   "metadata": {},
   "outputs": [],
   "source": [
    "# pdf = standardized_df.toPandas()\n",
    "pdf = df.toPandas()"
   ]
  },
  {
   "cell_type": "code",
   "execution_count": null,
   "metadata": {},
   "outputs": [],
   "source": [
    "#TODO make a commodity function, because it will be used in other normalizations as well\n",
    "\n",
    "pdf = pdf.reindex(\n",
    "    columns=list(pdf.columns) + ALL_FEATURES_STD\n",
    ")\n",
    "\n",
    "pdf[ALL_FEATURES_STD] = pdf[\n",
    "    \"all_vec_std\"\n",
    "].transform(\n",
    "    {\n",
    "        ALL_FEATURES_STD[i]: itemgetter(i) for i, p in enumerate(ALL_FEATURES_STD)\n",
    "    }\n",
    "\n",
    "    \n",
    ")"
   ]
  },
  {
   "cell_type": "markdown",
   "metadata": {},
   "source": [
    "### Feature-target correlation"
   ]
  },
  {
   "cell_type": "code",
   "execution_count": null,
   "metadata": {},
   "outputs": [],
   "source": [
    "#TODO set an appropriate figsize for Google Colab\n",
    "plot_feature_target_relation(\n",
    "    pdf, ALL_FEATURES_STD, TARGET_VARIABLE, figsize=(4,4), color=COLOR_STD\n",
    ")"
   ]
  },
  {
   "cell_type": "markdown",
   "metadata": {},
   "source": [
    "#### Feature distribution"
   ]
  },
  {
   "cell_type": "code",
   "execution_count": null,
   "metadata": {},
   "outputs": [],
   "source": [
    "plot_feature_distribution(\n",
    "    pdf, ALL_FEATURES_STD, color = COLOR_STD, figsize=(10,10)\n",
    ")"
   ]
  },
  {
   "cell_type": "markdown",
   "metadata": {},
   "source": [
    "*[state why pearson correlation matrix does NOT make sense to be plotted again]*"
   ]
  },
  {
   "cell_type": "markdown",
   "metadata": {},
   "source": [
    "## Log transformation"
   ]
  },
  {
   "cell_type": "code",
   "execution_count": null,
   "metadata": {},
   "outputs": [],
   "source": [
    "# log_df = df"
   ]
  },
  {
   "cell_type": "code",
   "execution_count": null,
   "metadata": {},
   "outputs": [],
   "source": [
    "ALL_FEATURES_LOG = [\n",
    "    player_feature + \"_log\" for player_feature in ALL_FEATURES\n",
    "]\n",
    "\n",
    "COLOR_LOG = \"#E15FED\""
   ]
  },
  {
   "cell_type": "code",
   "execution_count": null,
   "metadata": {},
   "outputs": [],
   "source": [
    "to_log_UDF = udf(\n",
    "    lambda value: float(np.log2(value)), DoubleType()\n",
    ")"
   ]
  },
  {
   "cell_type": "code",
   "execution_count": null,
   "metadata": {},
   "outputs": [],
   "source": [
    "for f, fl in zip(ALL_FEATURES, ALL_FEATURES_LOG):\n",
    "    # log_df = log_df.withColumn(fl, to_log_UDF(col(f)))\n",
    "    df = df.withColumn(fl, to_log_UDF(col(f)))"
   ]
  },
  {
   "cell_type": "code",
   "execution_count": null,
   "metadata": {},
   "outputs": [],
   "source": [
    "# pdf = log_df.toPandas()\n",
    "pdf = df.toPandas()"
   ]
  },
  {
   "cell_type": "markdown",
   "metadata": {},
   "source": [
    "### Feature-target correlation"
   ]
  },
  {
   "cell_type": "code",
   "execution_count": null,
   "metadata": {},
   "outputs": [],
   "source": [
    "#TODO set an appropriate figsize for Google Colab\n",
    "plot_feature_target_relation(\n",
    "    pdf, ALL_FEATURES_LOG, TARGET_VARIABLE, figsize=(4,4), color=COLOR_LOG\n",
    ")"
   ]
  },
  {
   "cell_type": "markdown",
   "metadata": {},
   "source": [
    "### Feature distribution"
   ]
  },
  {
   "cell_type": "code",
   "execution_count": null,
   "metadata": {},
   "outputs": [],
   "source": [
    "plot_feature_distribution(pdf, ALL_FEATURES_LOG, color = COLOR_LOG, figsize=(10,10))"
   ]
  },
  {
   "cell_type": "markdown",
   "metadata": {},
   "source": [
    "## Min-max transformation"
   ]
  },
  {
   "cell_type": "code",
   "execution_count": null,
   "metadata": {},
   "outputs": [],
   "source": [
    "# min_max_df = df"
   ]
  },
  {
   "cell_type": "code",
   "execution_count": null,
   "metadata": {},
   "outputs": [],
   "source": [
    "ALL_FEATURES_MIN_MAX = [\n",
    "    player_feature + \"_min_max\" for player_feature in ALL_FEATURES\n",
    "]\n",
    "\n",
    "COLOR_MIN_MAX = \"#6EDCD9\""
   ]
  },
  {
   "cell_type": "code",
   "execution_count": null,
   "metadata": {},
   "outputs": [],
   "source": [
    "scaler = MinMaxScaler(\n",
    "    inputCol=\"all_vec\", \n",
    "    outputCol=\"all_vec_min_max\"\n",
    ")"
   ]
  },
  {
   "cell_type": "code",
   "execution_count": null,
   "metadata": {},
   "outputs": [],
   "source": [
    "# min_max_df = scaler.fit(min_max_df).transform(min_max_df)\n",
    "df = scaler.fit(df).transform(df)"
   ]
  },
  {
   "cell_type": "code",
   "execution_count": null,
   "metadata": {},
   "outputs": [],
   "source": [
    "# pdf = min_max_df.toPandas()\n",
    "pdf = df.toPandas()"
   ]
  },
  {
   "cell_type": "code",
   "execution_count": null,
   "metadata": {},
   "outputs": [],
   "source": [
    "#TODO make a commodity function, because it will be used in other normalizations as well\n",
    "\n",
    "pdf = pdf.reindex(\n",
    "    columns=list(pdf.columns) + ALL_FEATURES_MIN_MAX\n",
    ")\n",
    "\n",
    "pdf[ALL_FEATURES_MIN_MAX] = pdf[\n",
    "    \"all_vec_min_max\"\n",
    "].transform(\n",
    "    {\n",
    "        ALL_FEATURES_MIN_MAX[i]: itemgetter(i) for i, p in enumerate(ALL_FEATURES_MIN_MAX)\n",
    "    }\n",
    ")"
   ]
  },
  {
   "cell_type": "markdown",
   "metadata": {},
   "source": [
    "### Feature-target relationship"
   ]
  },
  {
   "cell_type": "code",
   "execution_count": null,
   "metadata": {},
   "outputs": [],
   "source": [
    "#TODO set an appropriate figsize for Google Colab\n",
    "plot_feature_target_relation(\n",
    "    pdf, ALL_FEATURES_MIN_MAX, TARGET_VARIABLE, figsize=(4,4), color=COLOR_MIN_MAX\n",
    ")"
   ]
  },
  {
   "cell_type": "markdown",
   "metadata": {},
   "source": [
    "### Feature distribution"
   ]
  },
  {
   "cell_type": "code",
   "execution_count": null,
   "metadata": {},
   "outputs": [],
   "source": [
    "plot_feature_distribution(pdf, ALL_FEATURES_MIN_MAX, color = COLOR_MIN_MAX, figsize=(10,10))"
   ]
  },
  {
   "cell_type": "code",
   "execution_count": null,
   "metadata": {},
   "outputs": [],
   "source": [
    "#TODO place learning on ## titles here"
   ]
  },
  {
   "cell_type": "markdown",
   "metadata": {},
   "source": [
    "# Attempt 2: \"less is more\"\n",
    "\n",
    "Ok, considering all features gives trash results.\n",
    "\n",
    "What if we embrace the \"less is more idea\" and try to improve the results by means of using less features?\n",
    "\n",
    "Nevertheless, feature correlation is very high, so, intrinsicly, it already did NOT make much sense to consider them all."
   ]
  },
  {
   "cell_type": "markdown",
   "metadata": {},
   "source": [
    "## PCA (on min-max normalized data)"
   ]
  },
  {
   "cell_type": "code",
   "execution_count": null,
   "metadata": {},
   "outputs": [],
   "source": [
    "# pca_df = min_max_df\n",
    "# pca_df = df\n",
    "\n",
    "PCA_NUM_COMPONENTS = 5\n",
    "PCA_NUM_COMPONENTS_TO_PLOT = 2\n",
    "\n",
    "pca = PCA(\n",
    "    k=PCA_NUM_COMPONENTS, \n",
    "    inputCol=\"all_vec_min_max\", \n",
    "    outputCol=\"all_vec_min_max_pcs\"\n",
    ")\n",
    "\n",
    "# pca_model = pca.fit(pca_df)\n",
    "# pca_df = pca_model.transform(pca_df)\n",
    "pca_model = pca.fit(df)\n",
    "df = pca_model.transform(df)"
   ]
  },
  {
   "cell_type": "code",
   "execution_count": null,
   "metadata": {},
   "outputs": [],
   "source": [
    "fig, ax = plt.subplots(1, 1, figsize=(8, 6))\n",
    "_ = sns.barplot(\n",
    "    x=[i for i in range(PCA_NUM_COMPONENTS_TO_PLOT)],\n",
    "    y=pca_model.explainedVariance.values[0:PCA_NUM_COMPONENTS_TO_PLOT],\n",
    "    ax=ax,\n",
    ")\n",
    "\n",
    "_ = ax.set_xlabel(\"Eigenvalues\", labelpad=16, fontsize=16)\n",
    "_ = ax.set_ylabel(\"Proportion of Variance\", fontsize=16)\n",
    "_ = ax.set_xticklabels(\n",
    "    [f\"Principal Component {i}\" for i in range(PCA_NUM_COMPONENTS_TO_PLOT)], \n",
    "    rotation=0\n",
    ")\n",
    "_ = ax.set_title(\"Explained variance of each Principal Component\")"
   ]
  },
  {
   "cell_type": "code",
   "execution_count": null,
   "metadata": {},
   "outputs": [],
   "source": [
    "def scatter_plot(data, x, y, c, x_label, y_label):\n",
    "\n",
    "    fig, ax = plt.subplots(1, 1, figsize=(12, 8))\n",
    "\n",
    "    _ = plt.scatter(\n",
    "        x = x,\n",
    "        y = y,\n",
    "        c = c,\n",
    "        edgecolor=\"none\",\n",
    "        alpha=1,\n",
    "        cmap=\"rainbow\",\n",
    "        axes=ax\n",
    "    )\n",
    "\n",
    "    _ = ax.set_xlabel(x_label, labelpad=20, fontsize=16)\n",
    "    _ = ax.set_ylabel(y_label, fontsize=16)\n",
    "\n",
    "    plt.colorbar()\n",
    "    plt.show()"
   ]
  },
  {
   "cell_type": "code",
   "execution_count": null,
   "metadata": {},
   "outputs": [],
   "source": [
    "# pca_pdf = pca_df.toPandas()\n",
    "pca_pdf = df.toPandas()"
   ]
  },
  {
   "cell_type": "code",
   "execution_count": null,
   "metadata": {},
   "outputs": [],
   "source": [
    "scatter_plot(\n",
    "    pca_pdf, \n",
    "    pca_pdf.all_vec_min_max_pcs.map(lambda x: x[0]),\n",
    "    pca_pdf.all_vec_min_max_pcs.map(lambda x: x[1]),\n",
    "    pca_pdf.points,\n",
    "    \"Principal Component 0\",\n",
    "    \"Principal Component 1\"\n",
    ")"
   ]
  },
  {
   "cell_type": "code",
   "execution_count": null,
   "metadata": {},
   "outputs": [],
   "source": [
    "# TODO evaluate whether points should be normlized to same scale as PCA values\n",
    "scatter_plot(\n",
    "    pca_pdf, \n",
    "    pca_pdf.all_vec_min_max_pcs.map(lambda x: x[0]),\n",
    "    pca_pdf.points,\n",
    "    pca_pdf.points,\n",
    "    \"Principal Component 0\",\n",
    "    \"Points\"\n",
    ")"
   ]
  },
  {
   "cell_type": "code",
   "execution_count": null,
   "metadata": {},
   "outputs": [],
   "source": [
    "# TODO evaluate whether points should be normlized to same scale as PCA values\n",
    "scatter_plot(\n",
    "    pca_pdf, \n",
    "    pca_pdf.all_vec_min_max_pcs.map(lambda x: x[1]),\n",
    "    pca_pdf.points,\n",
    "    pca_pdf.points,\n",
    "    \"Principal Component 1\",\n",
    "    \"Points\"\n",
    ")"
   ]
  },
  {
   "cell_type": "markdown",
   "metadata": {},
   "source": [
    "### Feature-target relationship"
   ]
  },
  {
   "cell_type": "markdown",
   "metadata": {},
   "source": [
    "### Feature distribution"
   ]
  },
  {
   "cell_type": "markdown",
   "metadata": {},
   "source": [
    "*[bridge between this and Feature selection]*"
   ]
  },
  {
   "cell_type": "markdown",
   "metadata": {},
   "source": [
    "## Chi-squared"
   ]
  },
  {
   "cell_type": "markdown",
   "metadata": {},
   "source": [
    "## TNSE"
   ]
  },
  {
   "cell_type": "markdown",
   "metadata": {},
   "source": [
    "## Univariate Feature Selection"
   ]
  },
  {
   "cell_type": "markdown",
   "metadata": {},
   "source": [
    "Log scaling reduces skewedness of \"avg(mentality_penalties)\" feature BUT it increases the skewedness of all the other features.\n",
    "The other scalings (z-score and min-max) do NOT appear to be different than the \"raw\" data distribution.\n",
    "\n",
    "For this reason and due to the limited amount of resources available on Google Colab, we decided to stick with the min-max scaled data.\n",
    "In fact, the min-max scaling places \"for free\" all the features in the same scale, which is a very important consideration for SVM, which will be used in the upcoming sections"
   ]
  },
  {
   "cell_type": "code",
   "execution_count": null,
   "metadata": {},
   "outputs": [],
   "source": [
    "# feature_selection_df = min_max_df"
   ]
  },
  {
   "cell_type": "code",
   "execution_count": null,
   "metadata": {},
   "outputs": [],
   "source": [
    "selector = UnivariateFeatureSelector(\n",
    "    featuresCol=\"all_vec\",\n",
    "    labelCol=TARGET_VARIABLE, \n",
    "    selectionMode=\"percentile\"\n",
    ").setFeatureType(\"continuous\").setLabelType(\"categorical\").setSelectionThreshold(0.08)"
   ]
  },
  {
   "cell_type": "code",
   "execution_count": null,
   "metadata": {},
   "outputs": [],
   "source": [
    "NUM_FEATURES = 2"
   ]
  },
  {
   "cell_type": "code",
   "execution_count": null,
   "metadata": {},
   "outputs": [],
   "source": [
    "fit_result = dict()\n",
    "\n",
    "# for thr in range(0.1, 1.1, 0.1):\n",
    "# for thr in np.linspace(1, 1, 1):\n",
    "for thr in [0.1]:\n",
    "\n",
    "    selector.setSelectionThreshold(thr)\n",
    "    selector.setOutputCol(\"ufs_\" + str(thr).replace(\".\", \"-\")),\n",
    "    fit_result[str(thr)] = selector.fit(df)\n",
    "    # feature_selection_df = fit_result[str(thr)].transform(\n",
    "    #     feature_selection_df\n",
    "    # )\n",
    "    df = fit_result[str(thr)].transform(df)\n"
   ]
  },
  {
   "cell_type": "code",
   "execution_count": null,
   "metadata": {},
   "outputs": [],
   "source": [
    "# feature_selection_pdf = feature_selection_df.toPandas()\n",
    "feature_selection_pdf = df.toPandas()"
   ]
  },
  {
   "cell_type": "code",
   "execution_count": null,
   "metadata": {},
   "outputs": [],
   "source": [
    "scatter_plot(\n",
    "    feature_selection_pdf,\n",
    "    feature_selection_pdf[\"ufs_0-1\"].map(lambda x: x[0]),\n",
    "    feature_selection_pdf[\"ufs_0-1\"].map(lambda x: x[1]),\n",
    "    feature_selection_pdf.points,\n",
    "    \"Feature 0\",\n",
    "    \"Feature 1\"\n",
    "    \n",
    ")"
   ]
  },
  {
   "cell_type": "code",
   "execution_count": null,
   "metadata": {},
   "outputs": [],
   "source": [
    "scatter_plot(\n",
    "    feature_selection_pdf,\n",
    "    feature_selection_pdf[\"ufs_0-1\"].map(lambda x: x[0]),\n",
    "    feature_selection_pdf.points,\n",
    "    feature_selection_pdf.points,\n",
    "    \"Feature 0\",\n",
    "    \"Points\"\n",
    "    \n",
    ")"
   ]
  },
  {
   "cell_type": "code",
   "execution_count": null,
   "metadata": {},
   "outputs": [],
   "source": [
    "scatter_plot(\n",
    "    feature_selection_pdf,\n",
    "    feature_selection_pdf[\"ufs_0-1\"].map(lambda x: x[1]),\n",
    "    feature_selection_pdf.points,\n",
    "    feature_selection_pdf.points,\n",
    "    \"Feature 1\",\n",
    "    \"Points\"\n",
    "    \n",
    ")"
   ]
  },
  {
   "cell_type": "code",
   "execution_count": null,
   "metadata": {},
   "outputs": [],
   "source": [
    "pdf = df.toPandas()"
   ]
  },
  {
   "cell_type": "code",
   "execution_count": null,
   "metadata": {},
   "outputs": [],
   "source": [
    "selected_features = list(\n",
    "    map(\n",
    "        lambda i: ALL_FEATURES[i], fit_result[\"0.1\"].selectedFeatures\n",
    "    )\n",
    ")"
   ]
  },
  {
   "cell_type": "markdown",
   "metadata": {},
   "source": [
    "### Feature-target relationship"
   ]
  },
  {
   "cell_type": "code",
   "execution_count": null,
   "metadata": {},
   "outputs": [],
   "source": [
    "#TODO set an appropriate figsize for Google Colab\n",
    "plot_feature_target_relation(\n",
    "    pdf, selected_features, TARGET_VARIABLE, figsize=(4,4), \n",
    "    color=COLOR_MIN_MAX\n",
    ")"
   ]
  },
  {
   "cell_type": "markdown",
   "metadata": {},
   "source": [
    "### Feature correlation"
   ]
  },
  {
   "cell_type": "markdown",
   "metadata": {},
   "source": [
    "look at it from the original pearson matrix"
   ]
  },
  {
   "cell_type": "markdown",
   "metadata": {},
   "source": [
    "state that these data distribs are trash.\n",
    "\n",
    "So, for this reason, talk about overall and value."
   ]
  },
  {
   "cell_type": "markdown",
   "metadata": {},
   "source": [
    "## Overall as feature (min-max normalized)"
   ]
  },
  {
   "cell_type": "markdown",
   "metadata": {},
   "source": [
    "Since the features are so correlated and performances of attempt 1 are trash, why not considering just the overall as a feature?\n",
    "\n",
    "Maybe, we're lucky and the overall captures some other characteristics thay may steer the prediction a little bit more"
   ]
  },
  {
   "cell_type": "code",
   "execution_count": null,
   "metadata": {},
   "outputs": [],
   "source": [
    "OVERALL = [\"avg(overall)\"]\n",
    "\n",
    "COLOR_OVERALL_MIN_MAX = \"green\""
   ]
  },
  {
   "cell_type": "code",
   "execution_count": null,
   "metadata": {},
   "outputs": [],
   "source": [
    "assembler = VectorAssembler(\n",
    "    inputCols=OVERALL, outputCol=\"overall_vec\"\n",
    ")\n",
    "\n",
    "# min_max_df = assembler.transform(min_max_df)\n",
    "df = assembler.transform(df)"
   ]
  },
  {
   "cell_type": "code",
   "execution_count": null,
   "metadata": {},
   "outputs": [],
   "source": [
    "OVERALL_MIN_MAX = [\"avg(overall)_min_max\"]"
   ]
  },
  {
   "cell_type": "code",
   "execution_count": null,
   "metadata": {},
   "outputs": [],
   "source": [
    "scaler = MinMaxScaler(\n",
    "    inputCol=\"overall_vec\", \n",
    "    outputCol=\"overall_vec_min_max\"\n",
    ")"
   ]
  },
  {
   "cell_type": "code",
   "execution_count": null,
   "metadata": {},
   "outputs": [],
   "source": [
    "# min_max_df = scaler.fit(min_max_df).transform(min_max_df)\n",
    "df = scaler.fit(df).transform(df)"
   ]
  },
  {
   "cell_type": "code",
   "execution_count": null,
   "metadata": {},
   "outputs": [],
   "source": [
    "# pdf = min_max_df.toPandas()\n",
    "pdf = df.toPandas()"
   ]
  },
  {
   "cell_type": "code",
   "execution_count": null,
   "metadata": {},
   "outputs": [],
   "source": [
    "#TODO make a commodity function, because it will be used in other normalizations as well\n",
    "\n",
    "pdf = pdf.reindex(\n",
    "    columns=list(pdf.columns) + OVERALL_MIN_MAX\n",
    ")\n",
    "\n",
    "pdf[OVERALL_MIN_MAX] = pdf[\n",
    "    \"overall_vec_min_max\"\n",
    "].transform(\n",
    "    {\n",
    "        OVERALL_MIN_MAX[i]: itemgetter(i) for i, p in enumerate(OVERALL_MIN_MAX)\n",
    "    }\n",
    ")"
   ]
  },
  {
   "cell_type": "markdown",
   "metadata": {},
   "source": [
    "### Feature-target relationship"
   ]
  },
  {
   "cell_type": "code",
   "execution_count": null,
   "metadata": {},
   "outputs": [],
   "source": [
    "#TODO set an appropriate figsize for Google Colab\n",
    "plot_feature_target_relation(\n",
    "    pdf, OVERALL_MIN_MAX, TARGET_VARIABLE, figsize=(4,4), color=COLOR_OVERALL_MIN_MAX\n",
    ")"
   ]
  },
  {
   "cell_type": "markdown",
   "metadata": {},
   "source": [
    "Look, they are basically the same. In fact, if we check their correlation, we get... [high correlation on pearson]"
   ]
  },
  {
   "cell_type": "markdown",
   "metadata": {},
   "source": [
    "### Feature distribution"
   ]
  },
  {
   "cell_type": "code",
   "execution_count": null,
   "metadata": {},
   "outputs": [],
   "source": [
    "plot_feature_distribution(pdf, OVERALL_MIN_MAX, color = COLOR_OVERALL_MIN_MAX, figsize=(10,10))"
   ]
  },
  {
   "cell_type": "markdown",
   "metadata": {},
   "source": [
    "## Value as feature (min-max normalized)"
   ]
  },
  {
   "cell_type": "markdown",
   "metadata": {},
   "source": [
    "Oh, we found this paper: \n",
    "\n",
    "So, why not try their approach as well?"
   ]
  },
  {
   "cell_type": "code",
   "execution_count": null,
   "metadata": {},
   "outputs": [],
   "source": [
    "VALUE = [\"avg(value)\"]\n",
    "\n",
    "COLOR_VALUE_MIN_MAX = \"lime\""
   ]
  },
  {
   "cell_type": "code",
   "execution_count": null,
   "metadata": {},
   "outputs": [],
   "source": [
    "assembler = VectorAssembler(\n",
    "    inputCols=VALUE, outputCol=\"value_vec\"\n",
    ")\n",
    "\n",
    "# min_max_df = assembler.transform(min_max_df)\n",
    "df = assembler.transform(df)"
   ]
  },
  {
   "cell_type": "code",
   "execution_count": null,
   "metadata": {},
   "outputs": [],
   "source": [
    "# IT BREAKS HERE, if using legacy data as well :C\n",
    "\n",
    "# TODO handle value attribute in legacy datasets\n",
    "# in legacy datasets it's encoded as \"ValueMagnitudeCurrency\" (i.e. 70M€)\n",
    "# gotta convert it to full length, to be compatible with modern (and actually usable!)\n",
    "\n",
    "# df.show() "
   ]
  },
  {
   "cell_type": "code",
   "execution_count": null,
   "metadata": {},
   "outputs": [],
   "source": [
    "VALUE_MIN_MAX = [\"avg(value)_min_max\"]"
   ]
  },
  {
   "cell_type": "code",
   "execution_count": null,
   "metadata": {},
   "outputs": [],
   "source": [
    "scaler = MinMaxScaler(\n",
    "    inputCol=\"value_vec\", \n",
    "    outputCol=\"value_vec_min_max\"\n",
    ")"
   ]
  },
  {
   "cell_type": "code",
   "execution_count": null,
   "metadata": {},
   "outputs": [],
   "source": [
    "# min_max_df = scaler.fit(min_max_df).transform(min_max_df)\n",
    "df = scaler.fit(df).transform(df)"
   ]
  },
  {
   "cell_type": "code",
   "execution_count": null,
   "metadata": {},
   "outputs": [],
   "source": [
    "# pdf = min_max_df.toPandas()\n",
    "# NOTE keep the following line disabled!\n",
    "# gotta accumulate overall and value in the same pandas DF, so as we can use it\n",
    "# for the Pearson correlation matrix!\n",
    "pdf = df.toPandas()"
   ]
  },
  {
   "cell_type": "code",
   "execution_count": null,
   "metadata": {},
   "outputs": [],
   "source": [
    "#TODO make a commodity function, because it will be used in other normalizations as well\n",
    "\n",
    "pdf = pdf.reindex(\n",
    "    columns=list(pdf.columns) + VALUE_MIN_MAX\n",
    ")\n",
    "\n",
    "pdf[VALUE_MIN_MAX] = pdf[\n",
    "    \"value_vec_min_max\"\n",
    "].transform(\n",
    "    {\n",
    "        VALUE_MIN_MAX[i]: itemgetter(i) for i, p in enumerate(VALUE_MIN_MAX)\n",
    "    }\n",
    ")"
   ]
  },
  {
   "cell_type": "markdown",
   "metadata": {},
   "source": [
    "### Feature-target relationship"
   ]
  },
  {
   "cell_type": "code",
   "execution_count": null,
   "metadata": {},
   "outputs": [],
   "source": [
    "#TODO set an appropriate figsize for Google Colab\n",
    "plot_feature_target_relation(\n",
    "    pdf, VALUE_MIN_MAX, TARGET_VARIABLE, figsize=(4,4), color=COLOR_VALUE_MIN_MAX\n",
    ")"
   ]
  },
  {
   "cell_type": "markdown",
   "metadata": {},
   "source": [
    "### Feature distribution"
   ]
  },
  {
   "cell_type": "code",
   "execution_count": null,
   "metadata": {},
   "outputs": [],
   "source": [
    "plot_feature_distribution(pdf, VALUE_MIN_MAX, color = COLOR_VALUE_MIN_MAX, figsize=(10,10))"
   ]
  },
  {
   "cell_type": "markdown",
   "metadata": {},
   "source": [
    "Hint at a very high correlation, then show it with pearson matrix..."
   ]
  },
  {
   "cell_type": "code",
   "execution_count": null,
   "metadata": {},
   "outputs": [],
   "source": [
    "pdf = df.select(\"overall_vec_min_max\", \"value_vec_min_max\").toPandas()\n",
    "\n",
    "# need to flat every element of the columns, because they are in vectors\n",
    "pdf[\"overall_vec_min_max\"] = pdf[\"overall_vec_min_max\"].map(\n",
    "    lambda x: x[0]\n",
    ")\n",
    "pdf[\"value_vec_min_max\"] = pdf[\"value_vec_min_max\"].map(\n",
    "    lambda x: x[0]\n",
    ")\n",
    "\n",
    "plot_correlation_matrix(\n",
    "    pdf, \n",
    "    [\"overall_vec_min_max\", \"value_vec_min_max\"]\n",
    ")"
   ]
  },
  {
   "cell_type": "markdown",
   "metadata": {},
   "source": [
    "Comment this correlation, and move on with life"
   ]
  },
  {
   "cell_type": "markdown",
   "metadata": {},
   "source": [
    "## Learning for attempt 2"
   ]
  },
  {
   "cell_type": "markdown",
   "metadata": {},
   "source": [
    "*[\n",
    "    state that via hyperparam grid we'll set the feature column, meaning that we'll try to train the models on all of the attemps\n",
    "\n",
    "[state expected results, according to correlations and similar stuff]\n",
    "\n",
    "]"
   ]
  },
  {
   "cell_type": "code",
   "execution_count": null,
   "metadata": {},
   "outputs": [],
   "source": [
    "# feature_selection_learning_df = feature_selection_df"
   ]
  },
  {
   "cell_type": "code",
   "execution_count": null,
   "metadata": {},
   "outputs": [],
   "source": [
    "# feature_selection_train_df, feature_selection_test_df = feature_selection_learning_df.randomSplit(\n",
    "#     # [0.9, 0.1]\n",
    "#     [0.7, 0.3]\n",
    "# )\n",
    "\n",
    "learning_train_df, learning_test_df = df.randomSplit(\n",
    "    # [0.9,0.1]\n",
    "    # NOTE reactive 90/10 split, keep 70/30 just when using one league\n",
    "    [0.7,0.3]\n",
    ")"
   ]
  },
  {
   "cell_type": "code",
   "execution_count": null,
   "metadata": {},
   "outputs": [],
   "source": [
    "NUM_FOLDS_CV = 4"
   ]
  },
  {
   "cell_type": "code",
   "execution_count": null,
   "metadata": {},
   "outputs": [],
   "source": [
    "def find_best_regressor(\n",
    "    train_df,\n",
    "    test_df,\n",
    "    regressor,\n",
    "    regressor_evaluation_metrics,\n",
    "    cv_evaluation_metrics,\n",
    "    hyperparams_grid\n",
    "):\n",
    "\n",
    "    cv_evaluators = {\n",
    "        metric: RegressionEvaluator(\n",
    "            labelCol=\"points\",\n",
    "            metricName=metric,\n",
    "        )\n",
    "        for metric in cv_evaluation_metrics\n",
    "    }\n",
    "\n",
    "    regressor_evaluators = {\n",
    "        metric: RegressionEvaluator(\n",
    "            labelCol=\"points\",\n",
    "            metricName=metric,\n",
    "        )\n",
    "        for metric in regressor_evaluation_metrics\n",
    "    }\n",
    "\n",
    "    cross_validations = {\n",
    "        metric: CrossValidator(\n",
    "            estimator=regressor,\n",
    "            estimatorParamMaps=hyperparams_grid,\n",
    "            evaluator=cv_evaluators[metric],\n",
    "            numFolds=NUM_FOLDS_CV,\n",
    "            collectSubModels=True\n",
    "        )\n",
    "        for metric in cv_evaluation_metrics\n",
    "    }\n",
    "\n",
    "    cross_validated = dict()\n",
    "\n",
    "    for metric in cv_evaluation_metrics:\n",
    "\n",
    "        cross_validated[metric] = cross_validations[\n",
    "            metric\n",
    "        ].fit(train_df)\n",
    "\n",
    "    if (isinstance(regressor, LinearRegression)):\n",
    "        \n",
    "        for metric in cv_evaluation_metrics:\n",
    "\n",
    "            training_result = cross_validated[\n",
    "                metric\n",
    "            ].bestModel.summary\n",
    "\n",
    "            print(\n",
    "                \"***** Evaluating Training Set, (Linear Regression, best model according to metric {}) *****\".format(\n",
    "                    metric\n",
    "                )\n",
    "            )\n",
    "            print(\"RMSE: {:.3f}\".format(training_result.rootMeanSquaredError))\n",
    "            print(\"R2: {:.3f}\".format(training_result.r2))\n",
    "            print(\"Adjusted R2: {:.3f}\".format(training_result.r2adj))\n",
    "            print()\n",
    "\n",
    "        predictions = {\n",
    "            metric: cross_validated[\n",
    "                metric\n",
    "            ].bestModel.transform(test_df)\n",
    "            for metric in cv_evaluation_metrics\n",
    "        }\n",
    "\n",
    "        for m, model in cross_validated.items():\n",
    "\n",
    "                print(\n",
    "                    \"*** {} Set, (rf, best model elected by {}) ***\".format(\n",
    "                        \"Test\", m\n",
    "                    )\n",
    "                )\n",
    "\n",
    "                for e, evaluator in regressor_evaluators.items():\n",
    "\n",
    "                    print(\n",
    "                        \"{}: {}\".format(\n",
    "                            evaluator.getMetricName(), evaluator.evaluate(\n",
    "                                predictions[m]\n",
    "                            )\n",
    "                        )\n",
    "                    )\n",
    "\n",
    "                print(\"*******************************\")\n",
    "\n",
    "    else:\n",
    "\n",
    "        for stage_name, stage_df in zip([\"Train\", \"Test\"], [train_df, test_df]):\n",
    "            predictions = {\n",
    "                metric: cross_validated[\n",
    "                    metric\n",
    "                ].bestModel.transform(stage_df)\n",
    "                for metric in cv_evaluation_metrics\n",
    "            }\n",
    "\n",
    "            for m, model in cross_validated.items():\n",
    "\n",
    "                print(\n",
    "                    \"*** {} Set, (rf, best model elected by {}) ***\".format(\n",
    "                        stage_name, m\n",
    "                    )\n",
    "                )\n",
    "\n",
    "                for e, evaluator in regressor_evaluators.items():\n",
    "\n",
    "                    print(\n",
    "                        \"{}: {}\".format(\n",
    "                            evaluator.getMetricName(), evaluator.evaluate(\n",
    "                                predictions[m]\n",
    "                            )\n",
    "                        )\n",
    "                    )\n",
    "\n",
    "                print(\"*******************************\")\n",
    "\n"
   ]
  },
  {
   "cell_type": "code",
   "execution_count": null,
   "metadata": {},
   "outputs": [],
   "source": [
    "def find_best_classifier(\n",
    "    train_df,\n",
    "    test_df,\n",
    "    classifier,\n",
    "    classifier_evaluation_metrics,\n",
    "    cv_evaluation_metrics,\n",
    "    hyperparams_grid\n",
    "):\n",
    "\n",
    "    cv_evaluators = {\n",
    "        metric: MulticlassClassificationEvaluator(\n",
    "            labelCol=\"macro_place\",\n",
    "            metricName=metric,\n",
    "        )\n",
    "        for metric in cv_evaluation_metrics\n",
    "    }\n",
    "\n",
    "    classifier_evaluators = {\n",
    "        metric: MulticlassClassificationEvaluator(\n",
    "            labelCol=\"macro_place\",\n",
    "            metricName=metric,\n",
    "        )\n",
    "        for metric in classifier_evaluation_metrics\n",
    "    }\n",
    "\n",
    "    cross_validations = {\n",
    "        metric: CrossValidator(\n",
    "            estimator=classifier,\n",
    "            estimatorParamMaps=hyperparams_grid,\n",
    "            evaluator=cv_evaluators[metric],\n",
    "            numFolds=NUM_FOLDS_CV,\n",
    "            collectSubModels=True\n",
    "        )\n",
    "        for metric in cv_evaluation_metrics\n",
    "    }\n",
    "\n",
    "    cross_validated = dict()\n",
    "\n",
    "    for metric in cv_evaluation_metrics:\n",
    "\n",
    "        cross_validated[metric] = cross_validations[\n",
    "            metric\n",
    "        ].fit(train_df)\n",
    "\n",
    "    if (isinstance(classifier, LinearRegression)):\n",
    "        \n",
    "        for metric in cv_evaluation_metrics:\n",
    "\n",
    "            training_result = cross_validated[\n",
    "                metric\n",
    "            ].bestModel.summary\n",
    "\n",
    "            print(\n",
    "                \"***** Evaluating Training Set, (Linear Regression, best model according to metric {}) *****\".format(\n",
    "                    metric\n",
    "                )\n",
    "            )\n",
    "            print(\"RMSE: {:.3f}\".format(training_result.rootMeanSquaredError))\n",
    "            print(\"R2: {:.3f}\".format(training_result.r2))\n",
    "            print(\"Adjusted R2: {:.3f}\".format(training_result.r2adj))\n",
    "            print()\n",
    "\n",
    "        predictions = {\n",
    "            metric: cross_validated[\n",
    "                metric\n",
    "            ].bestModel.transform(test_df)\n",
    "            for metric in cv_evaluation_metrics\n",
    "        }\n",
    "\n",
    "        for m, model in cross_validated.items():\n",
    "\n",
    "                print(\n",
    "                    \"*** {} Set, (rf, best model elected by {}) ***\".format(\n",
    "                        \"Test\", m\n",
    "                    )\n",
    "                )\n",
    "\n",
    "                for e, evaluator in classifier_evaluators.items():\n",
    "\n",
    "                    print(\n",
    "                        \"{}: {}\".format(\n",
    "                            evaluator.getMetricName(), evaluator.evaluate(\n",
    "                                predictions[m]\n",
    "                            )\n",
    "                        )\n",
    "                    )\n",
    "\n",
    "                print(\"*******************************\")\n",
    "\n",
    "    else:\n",
    "\n",
    "        for stage_name, stage_df in zip([\"Train\", \"Test\"], [train_df, test_df]):\n",
    "            predictions = {\n",
    "                metric: cross_validated[\n",
    "                    metric\n",
    "                ].bestModel.transform(stage_df)\n",
    "                for metric in cv_evaluation_metrics\n",
    "            }\n",
    "\n",
    "            for m, model in cross_validated.items():\n",
    "\n",
    "                print(\n",
    "                    \"*** {} Set, (rf, best model elected by {}) ***\".format(\n",
    "                        stage_name, m\n",
    "                    )\n",
    "                )\n",
    "\n",
    "                for e, evaluator in classifier_evaluators.items():\n",
    "\n",
    "                    print(\n",
    "                        \"{}: {}\".format(\n",
    "                            evaluator.getMetricName(), evaluator.evaluate(\n",
    "                                predictions[m]\n",
    "                            )\n",
    "                        )\n",
    "                    )\n",
    "\n",
    "                print(\"*******************************\")\n",
    "\n"
   ]
  },
  {
   "cell_type": "markdown",
   "metadata": {},
   "source": [
    "### Regression"
   ]
  },
  {
   "cell_type": "markdown",
   "metadata": {},
   "source": [
    "#### Linear Regression"
   ]
  },
  {
   "cell_type": "code",
   "execution_count": null,
   "metadata": {},
   "outputs": [],
   "source": [
    "# lr_train_df, lr_test_df = feature_selection_train_df, feature_selection_test_df\n",
    "lr_train_df, lr_test_df = learning_train_df, learning_test_df"
   ]
  },
  {
   "cell_type": "code",
   "execution_count": null,
   "metadata": {},
   "outputs": [],
   "source": [
    "lr = LinearRegression(\n",
    "    # featuresCol=\"feature_vec_ufs_0.1\", \n",
    "    labelCol=\"points\"\n",
    ")\n",
    "\n",
    "lr_evaluation_metrics = [\"r2\", \"mse\"]\n",
    "lr_evaluation_metrics_cv = [\"r2\"]\n",
    "\n",
    "lr_param_grid = (\n",
    "    ParamGridBuilder()\n",
    "    .addGrid(\n",
    "        lr.featuresCol, [\n",
    "            \"ufs_0-1\", \n",
    "            # \"value_vec_min_max\",\n",
    "            # \"all_vec_min_max_pcs\",\n",
    "            # \"all_vec_min_max\"\n",
    "        ]\n",
    "    )\n",
    "    #TODO add intermediate values: prof uses [0.0, 0.5, 1]\n",
    "    .addGrid(lr.elasticNetParam, [0.0, 1])\n",
    "    #TODO add intermediate values: prof uses [0.0, 0.05, 0.1]\n",
    "    # .addGrid(lr.regParam, [0.0, 0.1])\n",
    "    # .addGrid(lr.fitIntercept, [True, False])\n",
    "    .build()\n",
    ")\n",
    "\n",
    "find_best_regressor(\n",
    "    train_df=lr_train_df, \n",
    "    test_df=lr_test_df, \n",
    "    regressor=lr,\n",
    "    regressor_evaluation_metrics=lr_evaluation_metrics,\n",
    "    cv_evaluation_metrics=lr_evaluation_metrics_cv,\n",
    "    hyperparams_grid=lr_param_grid\n",
    ")"
   ]
  },
  {
   "cell_type": "markdown",
   "metadata": {},
   "source": [
    "#### Decision Tree Regressor"
   ]
  },
  {
   "cell_type": "code",
   "execution_count": null,
   "metadata": {},
   "outputs": [],
   "source": [
    "# dt_train_df, dt_test_df = feature_selection_train_df, feature_selection_test_df\n",
    "dt_train_df, dt_test_df = learning_train_df, learning_test_df"
   ]
  },
  {
   "cell_type": "code",
   "execution_count": null,
   "metadata": {},
   "outputs": [],
   "source": [
    "dt = DecisionTreeRegressor(\n",
    "    # featuresCol=\"feature_vec\", \n",
    "    labelCol=\"points\"\n",
    ")\n",
    "\n",
    "dt_evaluation_metrics = [\"r2\", \"mse\"]\n",
    "dt_evaluation_metrics_cv = [\"r2\"]\n",
    "\n",
    "dt_param_grid = (\n",
    "    ParamGridBuilder()\n",
    "    .addGrid(\n",
    "        dt.featuresCol, [\n",
    "            \"ufs_0-1\", \n",
    "            # \"value_vec_min_max\",\n",
    "            # \"all_vec_min_max_pcs\",\n",
    "            # \"all_vec_min_max\"\n",
    "        ]\n",
    "    )\n",
    "    # .addGrid(dt.standardization, [True, False])\n",
    "    .build()\n",
    ")\n",
    "\n",
    "find_best_regressor(\n",
    "    train_df=dt_train_df, \n",
    "    test_df=dt_test_df, \n",
    "    regressor=dt,\n",
    "    regressor_evaluation_metrics=dt_evaluation_metrics,\n",
    "    cv_evaluation_metrics=dt_evaluation_metrics_cv,\n",
    "    hyperparams_grid=dt_param_grid\n",
    ")"
   ]
  },
  {
   "cell_type": "markdown",
   "metadata": {},
   "source": [
    "#### Random Forest Regressor"
   ]
  },
  {
   "cell_type": "code",
   "execution_count": null,
   "metadata": {},
   "outputs": [],
   "source": [
    "rf_train_df, rf_test_df = learning_train_df, learning_test_df"
   ]
  },
  {
   "cell_type": "code",
   "execution_count": null,
   "metadata": {},
   "outputs": [],
   "source": [
    "rf = RandomForestRegressor(\n",
    "    # featuresCol=\"feature_vec\", \n",
    "    labelCol=\"points\"\n",
    ")\n",
    "\n",
    "rf_evaluation_metrics = [\"r2\", \"mse\"]\n",
    "rf_evaluation_metrics_cv = [\"r2\"]\n",
    "\n",
    "rf_param_grid = (\n",
    "    ParamGridBuilder()\n",
    "    .addGrid(\n",
    "        rf.featuresCol, [\n",
    "            \"ufs_0-1\", \n",
    "            # \"value_vec_min_max\",\n",
    "            # \"all_vec_min_max_pcs\",\n",
    "            # \"all_vec_min_max\"\n",
    "        ]\n",
    "    )\n",
    "    # .addGrid(rf.standardization, [True, False])\n",
    "    .build()\n",
    ")\n"
   ]
  },
  {
   "cell_type": "code",
   "execution_count": null,
   "metadata": {},
   "outputs": [],
   "source": [
    "find_best_regressor(\n",
    "    train_df=rf_train_df, \n",
    "    test_df=rf_test_df, \n",
    "    regressor=rf,\n",
    "    regressor_evaluation_metrics=rf_evaluation_metrics,\n",
    "    cv_evaluation_metrics=rf_evaluation_metrics_cv,\n",
    "    hyperparams_grid=rf_param_grid\n",
    ")"
   ]
  },
  {
   "cell_type": "markdown",
   "metadata": {},
   "source": [
    "#### Gradient Boosted Tree Regressor"
   ]
  },
  {
   "cell_type": "code",
   "execution_count": null,
   "metadata": {},
   "outputs": [],
   "source": [
    "gbt_train_df, gbt_test_df = learning_train_df, learning_test_df"
   ]
  },
  {
   "cell_type": "code",
   "execution_count": null,
   "metadata": {},
   "outputs": [],
   "source": [
    "gbt = GBTRegressor(\n",
    "    # featuresCol=\"feature_vec\", \n",
    "    labelCol=\"points\"\n",
    ")\n",
    "\n",
    "gbt_evaluation_metrics = [\"r2\", \"mse\"]\n",
    "gbt_evaluation_metrics_cv = [\"r2\"]\n",
    "\n",
    "gbt_param_grid = (\n",
    "    ParamGridBuilder()\n",
    "    .addGrid(\n",
    "        gbt.featuresCol, [\n",
    "            \"ufs_0-1\", \n",
    "            # \"value_vec_min_max\",\n",
    "            # \"all_vec_min_max_pcs\",\n",
    "            # \"all_vec_min_max\"\n",
    "        ]\n",
    "    )\n",
    "    # .addGrid(gbt.standardization, [True, False])\n",
    "    .build()\n",
    ")\n"
   ]
  },
  {
   "cell_type": "code",
   "execution_count": null,
   "metadata": {},
   "outputs": [],
   "source": [
    "find_best_regressor(\n",
    "    train_df=gbt_train_df, \n",
    "    test_df=gbt_test_df, \n",
    "    regressor=gbt,\n",
    "    regressor_evaluation_metrics=gbt_evaluation_metrics,\n",
    "    cv_evaluation_metrics=gbt_evaluation_metrics_cv,\n",
    "    hyperparams_grid=gbt_param_grid\n",
    ")"
   ]
  },
  {
   "cell_type": "markdown",
   "metadata": {},
   "source": [
    "### Classification"
   ]
  },
  {
   "cell_type": "code",
   "execution_count": null,
   "metadata": {},
   "outputs": [],
   "source": [
    "# TODO evaluate more advanced, dynamic macro placements\n",
    "def get_macro_place(place, league):\n",
    "\n",
    "    if league == \"German Bundesliga\":\n",
    "        if 1 <= place <= 4:\n",
    "            return 0.0\n",
    "        if 5 <= place <= 7:\n",
    "            return 1.0\n",
    "        if 8 <= place <= 10:\n",
    "            return 2.0\n",
    "        if 11 <= place <= 15:\n",
    "            return 3.0\n",
    "        if 16 <= place <= 18:\n",
    "            return 4.0\n",
    "\n",
    "    elif league == \"Holland Eredivise\":\n",
    "        if place == 1:\n",
    "            return 0.0\n",
    "        if 2 <= place <= 3:\n",
    "            return 1.0\n",
    "        if 4 <= place <= 9:\n",
    "            return 2.0\n",
    "        if 10 <= place <= 15:\n",
    "            return 3.0\n",
    "        if 16 <= place <= 18:\n",
    "            return 4.0\n",
    "\n",
    "\n",
    "    elif league == \"French League 1\":\n",
    "        if 1 <= place <= 2:\n",
    "            return 0.0\n",
    "        if 3 <= place <= 5:\n",
    "            return 1.0\n",
    "        if 6 <= place <= 11:\n",
    "            return 2.0\n",
    "        if 12 <= place <= 17:\n",
    "            return 3.0\n",
    "        if 18 <= place <= 20:\n",
    "            return  4.0\n",
    "    \n",
    "    else: #It, Sp, En\n",
    "        if 1 <= place <= 4:\n",
    "            return 0.0\n",
    "        if 5 <= place <= 7:\n",
    "            return 1.0\n",
    "        if 8 <= place <= 12:\n",
    "            return 2.0\n",
    "        if 13 <= place <= 17:\n",
    "            return 3.0\n",
    "        if 18 <= place <= 20:\n",
    "            return 4.0\n",
    "\n",
    "    return None\n",
    "\n",
    "get_macro_place_UDF = udf(\n",
    "    lambda place, league: get_macro_place(float(place), league),\n",
    "    DoubleType(),\n",
    ")\n",
    "\n",
    "NUM_MACRO_PLACES = 5"
   ]
  },
  {
   "cell_type": "code",
   "execution_count": null,
   "metadata": {},
   "outputs": [],
   "source": [
    "# classification_df = feature_selection_learning_df\n",
    "classification_df = df"
   ]
  },
  {
   "cell_type": "code",
   "execution_count": null,
   "metadata": {},
   "outputs": [],
   "source": [
    "classification_df = classification_df.withColumn(\n",
    "    \"macro_place\", get_macro_place_UDF(col(\"place\"), col(\"League\"))\n",
    ")"
   ]
  },
  {
   "cell_type": "code",
   "execution_count": null,
   "metadata": {},
   "outputs": [],
   "source": [
    "classification_train_df, classification_test_df = classification_df.randomSplit(\n",
    "    # [0.9,0.1]\n",
    "    # NOTE reactive 90/10 split, keep 70/30 just when using one league\n",
    "    [0.7,0.3]\n",
    ")"
   ]
  },
  {
   "cell_type": "markdown",
   "metadata": {},
   "source": [
    "#### Data visualizations"
   ]
  },
  {
   "cell_type": "code",
   "execution_count": null,
   "metadata": {},
   "outputs": [],
   "source": [
    "plot_feature_distribution(\n",
    "    classification_df.toPandas(), \n",
    "    [\"macro_place\"], \n",
    "    color = \"teal\", \n",
    "    figsize=(10,10)\n",
    ")"
   ]
  },
  {
   "cell_type": "markdown",
   "metadata": {},
   "source": [
    "#### SVM Classifier"
   ]
  },
  {
   "cell_type": "code",
   "execution_count": null,
   "metadata": {},
   "outputs": [],
   "source": [
    "svm_train_df, svm_test_df = classification_train_df, classification_test_df"
   ]
  },
  {
   "cell_type": "code",
   "execution_count": null,
   "metadata": {},
   "outputs": [],
   "source": [
    "svm = LinearSVC(\n",
    "    featuresCol=\"ufs_0-1\", \n",
    "    labelCol=\"macro_place\"\n",
    ")\n",
    "\n",
    "ovr = OneVsRest(\n",
    "    classifier=svm,\n",
    "    featuresCol=\"feature_vec_ufs_0-1\", \n",
    "    labelCol=\"macro_place\"\n",
    ")\n",
    "\n",
    "svm_evaluation_metrics = [\"accuracy\"]\n",
    "svm_evaluation_metrics_cv = [\"accuracy\"]\n",
    "\n",
    "svm_param_grid = (\n",
    "    ParamGridBuilder()\n",
    "    .addGrid(\n",
    "        ovr.featuresCol, [\n",
    "            \"ufs_0-1\", \n",
    "            \"value_vec_min_max\",\n",
    "            # \"all_vec_min_max_pcs\",\n",
    "            # \"all_vec_min_max\"\n",
    "        ]\n",
    "    )\n",
    "    .build()\n",
    ")\n"
   ]
  },
  {
   "cell_type": "code",
   "execution_count": null,
   "metadata": {},
   "outputs": [],
   "source": [
    "# find_best_classifier(\n",
    "#     train_df=svm_train_df, \n",
    "#     test_df=svm_test_df, \n",
    "#     classifier=ovr,\n",
    "#     classifier_evaluation_metrics=svm_evaluation_metrics,\n",
    "#     cv_evaluation_metrics=svm_evaluation_metrics_cv,\n",
    "#     hyperparams_grid=svm_param_grid\n",
    "# )"
   ]
  },
  {
   "cell_type": "markdown",
   "metadata": {},
   "source": [
    "#### Logistic Regression"
   ]
  },
  {
   "cell_type": "code",
   "execution_count": null,
   "metadata": {},
   "outputs": [],
   "source": [
    "lor_train_df, lor_test_df = classification_train_df, classification_test_df"
   ]
  },
  {
   "cell_type": "code",
   "execution_count": null,
   "metadata": {},
   "outputs": [],
   "source": [
    "# TODO same as SVM\n",
    "\n",
    "lor = LogisticRegression(\n",
    "    # featuresCol=\"ufs_0-1\", \n",
    "    labelCol=\"macro_place\"\n",
    ")\n",
    "\n",
    "ovr = OneVsRest(\n",
    "    classifier=lor,\n",
    "    # featuresCol=\"ufs_0-1\", \n",
    "    labelCol=\"macro_place\"\n",
    ")\n",
    "\n",
    "lor_evaluation_metrics = [\"accuracy\"]\n",
    "lor_evaluation_metrics_cv = [\"accuracy\"]\n",
    "\n",
    "lor_param_grid = (\n",
    "    ParamGridBuilder()\n",
    "    .addGrid(\n",
    "        ovr.featuresCol, [\n",
    "            \"ufs_0-1\", \n",
    "            \"value_vec_min_max\",\n",
    "            # \"all_vec_min_max_pcs\",\n",
    "            # \"all_vec_min_max\"\n",
    "        ]\n",
    "    )\n",
    "    .build()\n",
    ")\n"
   ]
  },
  {
   "cell_type": "code",
   "execution_count": null,
   "metadata": {},
   "outputs": [],
   "source": [
    "find_best_classifier(\n",
    "    train_df=lor_train_df, \n",
    "    test_df=lor_test_df, \n",
    "    classifier=ovr,\n",
    "    classifier_evaluation_metrics=lor_evaluation_metrics,\n",
    "    cv_evaluation_metrics=lor_evaluation_metrics_cv,\n",
    "    hyperparams_grid=lor_param_grid\n",
    ")"
   ]
  },
  {
   "cell_type": "markdown",
   "metadata": {},
   "source": [
    "#### Classification Tree"
   ]
  },
  {
   "cell_type": "code",
   "execution_count": null,
   "metadata": {},
   "outputs": [],
   "source": [
    "ct_train_df, ct_test_df = classification_train_df, classification_test_df"
   ]
  },
  {
   "cell_type": "code",
   "execution_count": null,
   "metadata": {},
   "outputs": [],
   "source": [
    "ct = DecisionTreeClassifier(\n",
    "    # featuresCol=\"ufs_0-1\", \n",
    "    labelCol=\"macro_place\"\n",
    ")\n",
    "\n",
    "# ovr = OneVsRest(\n",
    "#     classifier=ct,\n",
    "#     featuresCol=\"feature_vec_ufs_0-1\", \n",
    "#     labelCol=\"macro_place\"\n",
    "# )\n",
    "\n",
    "ct_evaluation_metrics = [\"accuracy\"]\n",
    "ct_evaluation_metrics_cv = [\"accuracy\"]\n",
    "\n",
    "ct_param_grid = (\n",
    "    ParamGridBuilder()\n",
    "    .addGrid(\n",
    "        ct.featuresCol, [\n",
    "            \"ufs_0-1\", \n",
    "            # \"value_vec_min_max\",\n",
    "            # \"all_vec_min_max_pcs\",\n",
    "            # \"all_vec_min_max\"\n",
    "        ]\n",
    "    )\n",
    "    .build()\n",
    ")\n"
   ]
  },
  {
   "cell_type": "code",
   "execution_count": null,
   "metadata": {},
   "outputs": [],
   "source": [
    "find_best_classifier(\n",
    "    train_df=ct_train_df, \n",
    "    test_df=ct_test_df, \n",
    "    classifier=ct,\n",
    "    classifier_evaluation_metrics=ct_evaluation_metrics,\n",
    "    cv_evaluation_metrics=ct_evaluation_metrics_cv,\n",
    "    hyperparams_grid=ct_param_grid\n",
    ")\n"
   ]
  },
  {
   "cell_type": "markdown",
   "metadata": {},
   "source": [
    "#### Random Forest"
   ]
  },
  {
   "cell_type": "code",
   "execution_count": null,
   "metadata": {},
   "outputs": [],
   "source": [
    "rfc_train_df, rfc_test_df = classification_train_df, classification_test_df"
   ]
  },
  {
   "cell_type": "code",
   "execution_count": null,
   "metadata": {},
   "outputs": [],
   "source": [
    "rfc = RandomForestClassifier(\n",
    "    # featuresCol=\"feature_vec_ufs_0-1\", \n",
    "    labelCol=\"macro_place\"\n",
    ")\n",
    "\n",
    "# ovr = OneVsRest(\n",
    "#     classifier=rfc,\n",
    "#     featuresCol=\"feature_vec_ufs_0-1\", \n",
    "#     labelCol=\"macro_place\"\n",
    "# )\n",
    "\n",
    "rfc_evaluation_metrics = [\"accuracy\"]\n",
    "rfc_evaluation_metrics_cv = [\"accuracy\"]\n",
    "\n",
    "rfc_param_grid = (\n",
    "    ParamGridBuilder()\n",
    "    .addGrid(\n",
    "        rfc.featuresCol, [\n",
    "            \"ufs_0-1\", \n",
    "            # \"value_vec_min_max\",\n",
    "            # \"all_vec_min_max_pcs\",\n",
    "            # \"all_vec_min_max\"\n",
    "        ]\n",
    "    )\n",
    "    .build()\n",
    ")\n"
   ]
  },
  {
   "cell_type": "code",
   "execution_count": null,
   "metadata": {},
   "outputs": [],
   "source": [
    "find_best_classifier(\n",
    "    train_df=rfc_train_df, \n",
    "    test_df=rfc_test_df, \n",
    "    classifier=rfc,\n",
    "    classifier_evaluation_metrics=rfc_evaluation_metrics,\n",
    "    cv_evaluation_metrics=rfc_evaluation_metrics_cv,\n",
    "    hyperparams_grid=rfc_param_grid\n",
    ")"
   ]
  },
  {
   "cell_type": "markdown",
   "metadata": {},
   "source": [
    "#### MLP"
   ]
  },
  {
   "cell_type": "code",
   "execution_count": null,
   "metadata": {},
   "outputs": [],
   "source": [
    "mlp_train_df, mlp_test_df = classification_train_df, classification_test_df"
   ]
  },
  {
   "cell_type": "code",
   "execution_count": null,
   "metadata": {},
   "outputs": [],
   "source": [
    "mlp = MultilayerPerceptronClassifier(\n",
    "    # featuresCol=\"feature_vec_ufs_0-1\", \n",
    "    labelCol=\"macro_place\"\n",
    ")\n",
    "\n",
    "# ovr = OneVsRest(\n",
    "#     classifier=mlp,\n",
    "#     featuresCol=\"feature_vec_ufs_0-1\", \n",
    "#     labelCol=\"macro_place\"\n",
    "# )\n",
    "\n",
    "mlp_evaluation_metrics = [\"accuracy\"]\n",
    "mlp_evaluation_metrics_cv = [\"accuracy\"]\n",
    "\n",
    "mlp_param_grid = (\n",
    "    ParamGridBuilder()\n",
    "    .addGrid(mlp.layers, [[NUM_FEATURES, 4, 4, 2, NUM_MACRO_PLACES]])\n",
    "    .addGrid(\n",
    "        mlp.featuresCol, [\n",
    "            \"ufs_0-1\", \n",
    "            # \"value_vec_min_max\",\n",
    "            # \"all_vec_min_max_pcs\",\n",
    "            # \"all_vec_min_max\"\n",
    "        ]\n",
    "    )\n",
    "    .build()\n",
    ")\n"
   ]
  },
  {
   "cell_type": "code",
   "execution_count": null,
   "metadata": {},
   "outputs": [],
   "source": [
    "find_best_classifier(\n",
    "    train_df=mlp_train_df, \n",
    "    test_df=mlp_test_df, \n",
    "    classifier=mlp,\n",
    "    classifier_evaluation_metrics=mlp_evaluation_metrics,\n",
    "    cv_evaluation_metrics=mlp_evaluation_metrics_cv,\n",
    "    hyperparams_grid=mlp_param_grid\n",
    ")"
   ]
  },
  {
   "cell_type": "markdown",
   "metadata": {},
   "source": [
    "## Custom ranking-based evaluation"
   ]
  },
  {
   "cell_type": "code",
   "execution_count": null,
   "metadata": {},
   "outputs": [],
   "source": [
    "## compare ranking of prediction value with actual ranking"
   ]
  },
  {
   "cell_type": "markdown",
   "metadata": {},
   "source": [
    "# Attempt 3: clustering"
   ]
  },
  {
   "cell_type": "code",
   "execution_count": null,
   "metadata": {},
   "outputs": [],
   "source": [
    "clustering_df = pre_processed_df\n",
    "\n",
    "CLUSTERING_FEATURES = copy.deepcopy(PLAYER_FEATURES)\n",
    "CLUSTERING_FEATURES.remove(\"overall\")\n",
    "CLUSTERING_FEATURES.remove(\"value\")\n",
    "\n",
    "\n",
    "assembler = VectorAssembler(\n",
    "    inputCols=CLUSTERING_FEATURES, outputCol=\"all_vec\"\n",
    ")\n",
    "\n",
    "clustering_df = assembler.transform(clustering_df)\n",
    "\n",
    "scaler = MinMaxScaler(\n",
    "    inputCol=\"all_vec\", outputCol=\"all_vec_min_max\"\n",
    ")\n",
    "\n",
    "clustering_df = scaler.fit(clustering_df).transform(clustering_df)"
   ]
  },
  {
   "cell_type": "code",
   "execution_count": null,
   "metadata": {},
   "outputs": [],
   "source": [
    "def k_means(\n",
    "    dataset,\n",
    "    n_clusters,\n",
    "    distance_measure=\"euclidean\",\n",
    "    max_iter=20,\n",
    "    features_col=\"features\",\n",
    "    prediction_col=\"cluster\",\n",
    "    random_seed=RANDOM_SEED,\n",
    "):\n",
    "\n",
    "    print(\n",
    "        f\"\"\"Training K-means clustering using the following parameters: \n",
    "        - K (n. of clusters) = {n_clusters}\n",
    "        - max_iter (max n. of iterations) = {max_iter}\n",
    "        - distance measure = {distance_measure}\n",
    "        - random seed = {random_seed if random_seed is not None else \"NONE USED!\"}\n",
    "        \"\"\"\n",
    "    )\n",
    "\n",
    "    # if distance_measure == \"cosine\":\n",
    "\n",
    "        # NOTE we already start from normalized/std data, so, NO need to do it\n",
    "\n",
    "        # Normalize inputs to unit-length vectors\n",
    "        # dataset = Normalizer(\n",
    "        #     inputCol=features_col, outputCol=features_col + \"_norm\", p=1\n",
    "        # ).transform(dataset)\n",
    "\n",
    "        # features_col = features_col + \"_norm\"\n",
    "\n",
    "    # Train a K-means model\n",
    "    kmeans = KMeans(\n",
    "        featuresCol=features_col,\n",
    "        predictionCol=prediction_col,\n",
    "        k=n_clusters,\n",
    "        initMode=\"k-means||\",\n",
    "        initSteps=5,\n",
    "        tol=0.000001,\n",
    "        maxIter=max_iter,\n",
    "        # seed=random_seed,\n",
    "        distanceMeasure=distance_measure,\n",
    "    )\n",
    "\n",
    "    model = kmeans.fit(dataset)\n",
    "    # here there are all the relevant clustering information\n",
    "\n",
    "    # Make clusters\n",
    "    clusters_df = model.transform(dataset)\n",
    "\n",
    "    return model, clusters_df\n",
    "\n",
    "\n",
    "def evaluate_k_means(\n",
    "    clusters,\n",
    "    metric_name=\"silhouette\",\n",
    "    distance_measure=\"squaredEuclidean\",  # cosine\n",
    "    prediction_col=\"cluster\",\n",
    "    featuresCol = \"features\"\n",
    "):\n",
    "\n",
    "    # Evaluate clustering by computing Silhouette score\n",
    "    evaluator = ClusteringEvaluator(\n",
    "        metricName=metric_name,\n",
    "        distanceMeasure=distance_measure,\n",
    "        predictionCol=prediction_col,\n",
    "        featuresCol=featuresCol\n",
    "    )\n",
    "\n",
    "    return evaluator.evaluate(clusters)\n",
    "\n",
    "\n",
    "def do_clustering(\n",
    "    k_range, \n",
    "    input_df, \n",
    "    max_iter,\n",
    "    featuresCol,\n",
    "    clusterCol\n",
    "):\n",
    "    clustering_results = {}\n",
    "\n",
    "    clusters_df = input_df\n",
    "\n",
    "    # for k in tqdm( range(5, max_k_clusters + 1, 5), desc = \"Performing clustering\" ):\n",
    "    # for k in tqdm(range(2, max_k_clusters + 1, 4), desc=\"Performing clustering\"):\n",
    "    for k in tqdm(k_range, desc=\"Performing clustering\"):\n",
    "\n",
    "        print(f\"Running K-means using K = {k}\")\n",
    "\n",
    "        # model, clusters_df = k_means(tf_idf_df, k, max_iter=50, distance_measure=\"cosine\") # Alternatively, distance_measure=\"euclidean\"\n",
    "        # model, clusters_df = k_means(input_df, k, max_iter=max_iter, distance_measure=\"cosine\") # Alternatively, distance_measure=\"euclidean\"\n",
    "        model, clusters_df = k_means(\n",
    "            # input_df,\n",
    "            clusters_df, \n",
    "            k, \n",
    "            max_iter=max_iter, \n",
    "            distance_measure=\"cosine\", \n",
    "            features_col=featuresCol,\n",
    "            prediction_col=clusterCol + \"_k_\" + str(k),\n",
    "        )  # Alternatively, distance_measure=\"euclidean\"\n",
    "        # silhouette_k = evaluate_k_means(clusters_df, distance_measure=\"cosine\") # Alternatively, distance_measure=\"squaredEuclidean\"\n",
    "        silhouette_k = evaluate_k_means(\n",
    "            clusters_df, \n",
    "            distance_measure=\"cosine\",\n",
    "            prediction_col=clusterCol + \"_k_\" + str(k),\n",
    "            featuresCol=featuresCol\n",
    "\n",
    "        )  # Alternatively, distance_measure=\"squaredEuclidean\"\n",
    "        # wssd_k = model.summary.trainingCost\n",
    "        wssd_k = model.summary\n",
    "\n",
    "        print(\n",
    "            \"Silhouette coefficient computed with cosine distance: {:.3f}\".format(\n",
    "                silhouette_k\n",
    "            )\n",
    "        )\n",
    "        print(\n",
    "            \"Within-cluster Sum of Squared Distances (using cosine distance): {:.3f}\".format(\n",
    "                wssd_k.trainingCost\n",
    "            )\n",
    "        )\n",
    "        print(\n",
    "            \"--------------------------------------------------------------------------------------\"\n",
    "        )\n",
    "\n",
    "        l = list(\n",
    "            enumerate(\n",
    "                model.clusterCenters()\n",
    "            )\n",
    "        )\n",
    "        l = [(ind, DenseVector(c)) for ind, c in l]\n",
    "        # print(l)\n",
    "        schema = [\"cluster_id\"  + \"_k_\" + str(k), \"centroid\"  + \"_k_\" + str(k)]\n",
    "\n",
    "        schema = StructType([ \n",
    "            StructField(\"cluster_id\" + \"_k_\" + str(k),IntegerType(),True), \n",
    "            StructField(\"centroid\" + \"_k_\" + str(k),VectorUDT(),True), \n",
    "        ])\n",
    "        centr_df = spark.createDataFrame(data=l, schema=schema)\n",
    "\n",
    "        # centr_df.show()\n",
    "\n",
    "        # df_with_centroids = clusters_df.join(\n",
    "        #     centr_df, on=[\"cluster_id\"]\n",
    "        # )\n",
    "\n",
    "        clusters_df = clusters_df.join(\n",
    "            centr_df, on=[\"cluster_id\" + \"_k_\" + str(k)]\n",
    "        )\n",
    "\n",
    "\n",
    "\n",
    "        clustering_results[str(k)] = {\n",
    "            \"silhouette_k\"      : silhouette_k,\n",
    "            \"wssd_k\"            : wssd_k,\n",
    "            \"model\"             : model,\n",
    "            \"df\"                : clusters_df,\n",
    "            # \"cluster_centroids\" : model.clusterCenters(),\n",
    "            # \"centr_df\" : centr_df,\n",
    "            # \"df_with_centroids\" : df_with_centroids\n",
    "        }\n",
    "\n",
    "        \n",
    "        \n",
    "\n",
    "        # Free up memory space at the end of each iteration\n",
    "        # del model\n",
    "        # del clusters_df\n",
    "        # gc.collect() # garbage collector\n",
    "    \n",
    "    clustering_results[\"df_with_centroid_full\"] = clusters_df\n",
    "\n",
    "    return clustering_results\n",
    "\n",
    "\n",
    "def plot_clustering_results(clustering_results):\n",
    "\n",
    "    # print(clustering_results)\n",
    "\n",
    "    k_col = list(clustering_results.keys())[:-1]\n",
    "    wssd_col = [\n",
    "        clustering_results[k][\"wssd_k\"].trainingCost for k in k_col \n",
    "    ]\n",
    "    silhouette_col = [\n",
    "        clustering_results[k][\"silhouette_k\"] for k in k_col \n",
    "    ]\n",
    "\n",
    "    # print(k_col)\n",
    "    # print(wssd_col)\n",
    "    # print(silhouette_col)\n",
    "\n",
    "    plot_df_temp = pd.DataFrame([k_col, wssd_col, silhouette_col]).transpose()\n",
    "    plot_df_temp.columns = [\"K\", \"WSSD\", \"Silhouette\"]\n",
    "    # print(plot_df_temp)\n",
    "\n",
    "    # Create a 1x1 figure\n",
    "    fig, ax = plt.subplots(1, 1, figsize=(8, 6))\n",
    "\n",
    "    _ = sns.pointplot(\n",
    "        data=plot_df_temp, x=\"K\", y=\"WSSD\", ax=ax, color=\"orangered\"\n",
    "    )\n",
    "    _ = ax.set_xlabel(\"K\")\n",
    "    _ = ax.set_ylabel(\"WSSD\")\n",
    "    \n",
    "    # Create a 1x1 figure\n",
    "    fig, ax = plt.subplots(1, 1, figsize=(8, 6))\n",
    "\n",
    "    _ = sns.pointplot(\n",
    "        data=plot_df_temp, x=\"K\", y=\"Silhouette\", ax=ax, color=\"orangered\"\n",
    "    )\n",
    "    _ = ax.set_xlabel(\"K\")\n",
    "    _ = ax.set_ylabel(\"Silhouette\")"
   ]
  },
  {
   "cell_type": "code",
   "execution_count": null,
   "metadata": {},
   "outputs": [],
   "source": [
    "clustering_df_dict = {\n",
    "    s: clustering_df.filter(col(\"season\") == s) for s in seasons\n",
    "}\n",
    "\n",
    "MAX_K_CLUSTERS = 8\n",
    "MAX_ITER = 20\n",
    "\n",
    "k_range = range(2, MAX_K_CLUSTERS, 4)"
   ]
  },
  {
   "cell_type": "code",
   "execution_count": null,
   "metadata": {},
   "outputs": [],
   "source": [
    "clustering_results_dict = dict()\n",
    "\n",
    "for s in [\"20\"]:\n",
    "    clustering_results_dict[s] = do_clustering(\n",
    "        k_range, \n",
    "        clustering_df_dict[s], \n",
    "        MAX_ITER,\n",
    "        \"all_vec_min_max\",\n",
    "        \"cluster_id\"\n",
    "    )\n"
   ]
  },
  {
   "cell_type": "code",
   "execution_count": null,
   "metadata": {},
   "outputs": [],
   "source": [
    "all_together_df = reduce(\n",
    "    DataFrame.unionAll, \n",
    "    [\n",
    "        clustering_results_dict[s][\"df_with_centroid_full\"] for s in [\"20\"]\n",
    "    ]\n",
    ")"
   ]
  },
  {
   "cell_type": "markdown",
   "metadata": {},
   "source": [
    "## Clustering evaluation"
   ]
  },
  {
   "cell_type": "markdown",
   "metadata": {},
   "source": [
    "### Evalutating single seasons"
   ]
  },
  {
   "cell_type": "code",
   "execution_count": null,
   "metadata": {},
   "outputs": [],
   "source": [
    "for s in [\"20\"]:\n",
    "    plot_clustering_results(clustering_results_dict[s])\n",
    "    \n",
    "    "
   ]
  },
  {
   "cell_type": "markdown",
   "metadata": {},
   "source": [
    "### Evaluating seasons all together"
   ]
  },
  {
   "cell_type": "markdown",
   "metadata": {},
   "source": [
    "## Dataset composition"
   ]
  },
  {
   "cell_type": "code",
   "execution_count": null,
   "metadata": {},
   "outputs": [],
   "source": [
    "# TODO select K according to clustering evaluation\n",
    "K = [str(k) for k in k_range]\n",
    "# K = [\"2\",\"6\"]"
   ]
  },
  {
   "cell_type": "markdown",
   "metadata": {},
   "source": [
    "### Compute distance between player and centroid of its cluster"
   ]
  },
  {
   "cell_type": "code",
   "execution_count": null,
   "metadata": {},
   "outputs": [],
   "source": [
    "compute_distance_from_centroid_UDF = udf(\n",
    "    lambda player, centroid: float(\n",
    "        Vectors.squared_distance(\n",
    "            player, centroid\n",
    "        )\n",
    "    ), FloatType()\n",
    ")"
   ]
  },
  {
   "cell_type": "code",
   "execution_count": null,
   "metadata": {},
   "outputs": [],
   "source": [
    "for k in K:\n",
    "    all_together_df = all_together_df.withColumn(\n",
    "        \"distance_from_centroid\" + \"_k_\" + str(k),\n",
    "        compute_distance_from_centroid_UDF(\n",
    "            col(\"all_vec_min_max\"),\n",
    "            col(\"centroid\" + \"_k_\" + str(k))\n",
    "        )\n",
    "    )\n",
    "        "
   ]
  },
  {
   "cell_type": "markdown",
   "metadata": {},
   "source": [
    "### From players to teams"
   ]
  },
  {
   "cell_type": "code",
   "execution_count": null,
   "metadata": {},
   "outputs": [],
   "source": [
    "teams_df = all_together_df.groupBy(\n",
    "    [\"season\", \"club_name\", \"macro_role\"]\n",
    ").agg(\n",
    "    { \n",
    "        \"distance_from_centroid\" + \"_k_\" + str(k): \"avg\" for k in K \n",
    "    }\n",
    ")\n",
    "\n",
    "for k in K:\n",
    "    teams_df = teams_df.withColumnRenamed(\n",
    "        \"avg(distance_from_centroid\" + \"_k_\" + str(k) + \")\",\n",
    "        \"avg_distance_from_centroid\" + \"_k_\" + str(k)\n",
    "    )"
   ]
  },
  {
   "cell_type": "code",
   "execution_count": null,
   "metadata": {},
   "outputs": [],
   "source": [
    "def generate_subquery(macro_role, k):\n",
    "    return f\"\"\"(\n",
    "        case\n",
    "            when macro_role='{macro_role}' then avg_distance_from_centroid_k_{k} \n",
    "        else NULL\n",
    "        end\n",
    "    ) as avg_dist_macro_role_{int(macro_role)}_k_{k}\n",
    "    \"\"\""
   ]
  },
  {
   "cell_type": "code",
   "execution_count": null,
   "metadata": {},
   "outputs": [],
   "source": [
    "teams_df.createOrReplaceTempView(\"t\")\n",
    "\n",
    "temp = dict()\n",
    "\n",
    "for k in K:\n",
    "\n",
    "    temp[k] = (\n",
    "        spark.sql(\n",
    "            f\"\"\"\n",
    "                select season, club_name, {generate_subquery(0.0, k)}, {generate_subquery(1.0, k)}, {generate_subquery(2.0, k)}, {generate_subquery(3.0, k)}, {generate_subquery(4.0, k)}, {generate_subquery(5.0, k)}, {generate_subquery(6.0, k)}, {generate_subquery(7.0, k)}\n",
    "                from t\n",
    "            \"\"\"\n",
    "        )\n",
    "        .groupBy(\"season\", \"club_name\")\n",
    "        .agg(\n",
    "            # TODO use for loop as in second cell of \"from players to teams\"\n",
    "            sum(f\"avg_dist_macro_role_0_k_{k}\").alias(f\"avg_dist_macro_role_0_k_{k}\"),\n",
    "            sum(f\"avg_dist_macro_role_1_k_{k}\").alias(f\"avg_dist_macro_role_1_k_{k}\"),\n",
    "            sum(f\"avg_dist_macro_role_2_k_{k}\").alias(f\"avg_dist_macro_role_2_k_{k}\"),\n",
    "            sum(f\"avg_dist_macro_role_3_k_{k}\").alias(f\"avg_dist_macro_role_3_k_{k}\"),\n",
    "            sum(f\"avg_dist_macro_role_4_k_{k}\").alias(f\"avg_dist_macro_role_4_k_{k}\"),\n",
    "            sum(f\"avg_dist_macro_role_5_k_{k}\").alias(f\"avg_dist_macro_role_5_k_{k}\"),\n",
    "            sum(f\"avg_dist_macro_role_6_k_{k}\").alias(f\"avg_dist_macro_role_6_k_{k}\"),\n",
    "            sum(f\"avg_dist_macro_role_7_k_{k}\").alias(f\"avg_dist_macro_role_7_k_{k}\"),\n",
    "        )\n",
    "    )"
   ]
  },
  {
   "cell_type": "code",
   "execution_count": null,
   "metadata": {},
   "outputs": [],
   "source": [
    "# NOTE executing this cell n times, w/o restoring teams_df --> \n",
    "# n copies of avg_dist_macro_role_[0:7]_k_[2, 6]\n",
    "\n",
    "teams_df = temp[str(K[0])]\n",
    "\n",
    "for i in range(1, len(K)):\n",
    "    teams_df = teams_df.join(\n",
    "        temp[str(K[i])], on=[\"season\", \"club_name\"]\n",
    "    )"
   ]
  },
  {
   "cell_type": "code",
   "execution_count": null,
   "metadata": {},
   "outputs": [],
   "source": [
    "avg_distances_dict = dict()\n",
    "avg_distances_vec_dict = dict()\n",
    "\n",
    "for k in K:\n",
    "    \n",
    "    avg_distances_dict[k] = [\n",
    "        f\"avg_dist_macro_role_{i}_k_{k}\" for i in range(0, NUM_MACRO_ROLES)\n",
    "    ]\n",
    "\n",
    "    avg_distances_vec_dict[k] = f\"avg_dist_vec_k_{k}\""
   ]
  },
  {
   "cell_type": "code",
   "execution_count": null,
   "metadata": {},
   "outputs": [],
   "source": [
    "import builtins\n",
    "\n",
    "global_max = teams_df.select(\n",
    "    greatest(\n",
    "        *list(\n",
    "            itertools.chain.from_iterable(\n",
    "                avg_distances_dict.values()\n",
    "            )\n",
    "        )\n",
    "    ).alias(\"row_wise_max\")\n",
    ").collect()\n",
    "\n",
    "global_max = [row[\"row_wise_max\"] for row in global_max]\n",
    "\n",
    "global_max = builtins.max(global_max)\n"
   ]
  },
  {
   "cell_type": "code",
   "execution_count": null,
   "metadata": {},
   "outputs": [],
   "source": [
    "teams_df = teams_df.fillna(global_max * 1.5)    "
   ]
  },
  {
   "cell_type": "code",
   "execution_count": null,
   "metadata": {},
   "outputs": [],
   "source": [
    "for k in K:\n",
    "\n",
    "    assembler = VectorAssembler(\n",
    "        inputCols=avg_distances_dict[k], outputCol=avg_distances_vec_dict[k]\n",
    "    )\n",
    "\n",
    "    teams_df = assembler.transform(teams_df)"
   ]
  },
  {
   "cell_type": "markdown",
   "metadata": {},
   "source": [
    "## Learning from clustering"
   ]
  },
  {
   "cell_type": "code",
   "execution_count": null,
   "metadata": {},
   "outputs": [],
   "source": [
    "clustering_learning_df = teams_df"
   ]
  },
  {
   "cell_type": "code",
   "execution_count": null,
   "metadata": {},
   "outputs": [],
   "source": [
    "clustering_learning_df.printSchema()"
   ]
  },
  {
   "cell_type": "code",
   "execution_count": null,
   "metadata": {},
   "outputs": [],
   "source": [
    "clustering_learning_df = clustering_learning_df.join(\n",
    "    df, \n",
    "    on=[\"club_name\", \"season\"]\n",
    ")"
   ]
  },
  {
   "cell_type": "code",
   "execution_count": null,
   "metadata": {},
   "outputs": [],
   "source": [
    "clustering_learning_df.printSchema()"
   ]
  },
  {
   "cell_type": "code",
   "execution_count": null,
   "metadata": {},
   "outputs": [],
   "source": [
    "clustering_learning_df_train_df, clustering_learning_df_test_df = clustering_learning_df.randomSplit(\n",
    "    # [0.9,0.1]\n",
    "    # NOTE reactive 90/10 split, keep 70/30 just when using one league\n",
    "    [0.7,0.3]\n",
    ")"
   ]
  },
  {
   "cell_type": "code",
   "execution_count": null,
   "metadata": {},
   "outputs": [],
   "source": [
    "NUM_FOLDS_CV = 4"
   ]
  },
  {
   "cell_type": "markdown",
   "metadata": {},
   "source": [
    "### Regression"
   ]
  },
  {
   "cell_type": "markdown",
   "metadata": {},
   "source": [
    "#### Linear Regression"
   ]
  },
  {
   "cell_type": "code",
   "execution_count": null,
   "metadata": {},
   "outputs": [],
   "source": [
    "lr_train_df, lr_test_df = clustering_learning_df_train_df, clustering_learning_df_test_df"
   ]
  },
  {
   "cell_type": "code",
   "execution_count": null,
   "metadata": {},
   "outputs": [],
   "source": [
    "lr = LinearRegression(\n",
    "    # featuresCol=\"feature_vec_ufs_0.1\", \n",
    "    labelCol=\"points\"\n",
    ")\n",
    "\n",
    "# lr_evaluation_metrics = [\"r2\", \"mse\"]\n",
    "lr_evaluation_metrics = [\"r2\"]\n",
    "lr_evaluation_metrics_cv = [\"r2\"]\n",
    "\n",
    "lr_param_grid = (\n",
    "    ParamGridBuilder()\n",
    "    .addGrid(\n",
    "        lr.featuresCol,\n",
    "         [\"avg_dist_vec_k_2\"]\n",
    "        # avg_distances_vec_dict\n",
    "    )\n",
    "    #TODO add intermediate values: prof uses [0.0, 0.5, 1]\n",
    "    # .addGrid(lr.elasticNetParam, [0.0, 1])\n",
    "    #TODO add intermediate values: prof uses [0.0, 0.05, 0.1]\n",
    "    # .addGrid(lr.regParam, [0.0, 0.1])\n",
    "    # .addGrid(lr.fitIntercept, [True, False])\n",
    "    .build()\n",
    ")\n",
    "\n",
    "find_best_regressor(\n",
    "    train_df=lr_train_df, \n",
    "    test_df=lr_test_df, \n",
    "    regressor=lr,\n",
    "    regressor_evaluation_metrics=lr_evaluation_metrics,\n",
    "    cv_evaluation_metrics=lr_evaluation_metrics_cv,\n",
    "    hyperparams_grid=lr_param_grid\n",
    ")"
   ]
  },
  {
   "cell_type": "markdown",
   "metadata": {},
   "source": [
    "#### Decision Tree Regressor"
   ]
  },
  {
   "cell_type": "markdown",
   "metadata": {},
   "source": [
    "## Clustering-learning cross evaluation\n",
    "\n",
    "Classic left-right plot, with:\n",
    "Left Y --> elbow result\n",
    "Right Y --> accuracy\n",
    "X axis --> # clusters"
   ]
  },
  {
   "cell_type": "markdown",
   "metadata": {},
   "source": []
  },
  {
   "cell_type": "markdown",
   "metadata": {},
   "source": [
    "# Attempt 4: thinking \"Deep\", shallow injecting some priors"
   ]
  },
  {
   "cell_type": "code",
   "execution_count": null,
   "metadata": {},
   "outputs": [],
   "source": [
    "rp_df = df"
   ]
  },
  {
   "cell_type": "code",
   "execution_count": null,
   "metadata": {},
   "outputs": [],
   "source": [
    "MAX_PLACE = 21"
   ]
  },
  {
   "cell_type": "markdown",
   "metadata": {},
   "source": [
    "## Computing the prior (RP coefficient)"
   ]
  },
  {
   "cell_type": "code",
   "execution_count": null,
   "metadata": {},
   "outputs": [],
   "source": [
    "rp_df.select(\"season\", \"club_name\", \"place\").createOrReplaceTempView(\"t\")"
   ]
  },
  {
   "cell_type": "code",
   "execution_count": null,
   "metadata": {},
   "outputs": [],
   "source": [
    "rp_df = spark.sql(\n",
    "    f\"\"\"\n",
    "    select t.season, t.club_name,\n",
    "        avg(\n",
    "            (\n",
    "                select sub.place\n",
    "                where sub.season < t.season and sub.club_name == t.club_name\n",
    "            )\n",
    "        ) as rp_coeff\n",
    "    from t, t as sub\n",
    "    group by t.season, t.club_name\n",
    "    order by t.season desc\n",
    "    \"\"\"\n",
    ").fillna(MAX_PLACE)"
   ]
  },
  {
   "cell_type": "code",
   "execution_count": null,
   "metadata": {},
   "outputs": [],
   "source": [
    "rp_df = rp_df.withColumn(\"rp_coeff\", MAX_PLACE - col(\"rp_coeff\"))"
   ]
  },
  {
   "cell_type": "code",
   "execution_count": null,
   "metadata": {},
   "outputs": [],
   "source": [
    "rp_df.select(\"club_name\", \"season\", \"rp_coeff\").show()"
   ]
  },
  {
   "cell_type": "code",
   "execution_count": null,
   "metadata": {},
   "outputs": [],
   "source": [
    "ADD_RP_TRADEOFF = 1\n",
    "\n",
    "add_normalize_by_rp_UDF = udf(\n",
    "    lambda points, rp: points + ADD_RP_TRADEOFF * rp, DoubleType()\n",
    ")"
   ]
  },
  {
   "cell_type": "code",
   "execution_count": null,
   "metadata": {},
   "outputs": [],
   "source": [
    "rp_df = rp_df.join(\n",
    "    df, on=[\"club_name\", \"season\"]\n",
    ")"
   ]
  },
  {
   "cell_type": "code",
   "execution_count": null,
   "metadata": {},
   "outputs": [],
   "source": [
    "rp_df = rp_df.withColumn(\n",
    "    \"avg(overall)_rp_normalized\", add_normalize_by_rp_UDF(\n",
    "        col(\"avg(overall)\"), col(\"rp_coeff\")\n",
    "    )\n",
    ")"
   ]
  },
  {
   "cell_type": "code",
   "execution_count": null,
   "metadata": {},
   "outputs": [],
   "source": [
    "assembler = VectorAssembler(\n",
    "    inputCols=[\"avg(overall)_rp_normalized\"], \n",
    "    outputCol=\"feature_vec\"\n",
    ")\n",
    "\n",
    "rp_df = assembler.transform(rp_df)"
   ]
  },
  {
   "cell_type": "markdown",
   "metadata": {},
   "source": [
    "## Learning"
   ]
  },
  {
   "cell_type": "code",
   "execution_count": null,
   "metadata": {},
   "outputs": [],
   "source": [
    "NUM_FOLDS_CV = 4"
   ]
  },
  {
   "cell_type": "code",
   "execution_count": null,
   "metadata": {},
   "outputs": [],
   "source": [
    "learning_rp_df = rp_df"
   ]
  },
  {
   "cell_type": "code",
   "execution_count": null,
   "metadata": {},
   "outputs": [],
   "source": [
    "learning_rp_train_df, learning_rp_test_df = learning_rp_df.randomSplit(\n",
    "    # [0.9, 0.1]\n",
    "    [0.7, 0.3]\n",
    ")"
   ]
  },
  {
   "cell_type": "markdown",
   "metadata": {},
   "source": [
    "### Regression"
   ]
  },
  {
   "cell_type": "markdown",
   "metadata": {},
   "source": [
    "#### Linear Regression"
   ]
  },
  {
   "cell_type": "code",
   "execution_count": null,
   "metadata": {},
   "outputs": [],
   "source": [
    "lr_train_df, lr_test_df = learning_rp_train_df, learning_rp_test_df"
   ]
  },
  {
   "cell_type": "code",
   "execution_count": null,
   "metadata": {},
   "outputs": [],
   "source": [
    "lr = LinearRegression(\n",
    "    # featuresCol=\"feature_vec_ufs_0.1\", \n",
    "    labelCol=\"points\"\n",
    ")\n",
    "\n",
    "lr_evaluation_metrics = [\"r2\", \"mse\"]\n",
    "lr_evaluation_metrics_cv = [\"r2\"]\n",
    "\n",
    "lr_param_grid = (\n",
    "    ParamGridBuilder()\n",
    "    .addGrid(\n",
    "        lr.featuresCol, [\n",
    "            \"feature_vec\", \n",
    "        ]\n",
    "    )\n",
    "    #TODO add intermediate values: prof uses [0.0, 0.5, 1]\n",
    "    # .addGrid(lr.elasticNetParam, [0.0, 1])\n",
    "    #TODO add intermediate values: prof uses [0.0, 0.05, 0.1]\n",
    "    # .addGrid(lr.regParam, [0.0, 0.1])\n",
    "    # .addGrid(lr.fitIntercept, [True, False])\n",
    "    .build()\n",
    ")\n",
    "\n",
    "find_best_regressor(\n",
    "    train_df=lr_train_df, \n",
    "    test_df=lr_test_df, \n",
    "    regressor=lr,\n",
    "    regressor_evaluation_metrics=lr_evaluation_metrics,\n",
    "    cv_evaluation_metrics=lr_evaluation_metrics_cv,\n",
    "    hyperparams_grid=lr_param_grid\n",
    ")"
   ]
  },
  {
   "cell_type": "markdown",
   "metadata": {},
   "source": [
    "## RP impact\n",
    "\n",
    "plot showing that the more the weight of the RP coefficient is increased, the more the accuracy ofc goes up"
   ]
  },
  {
   "cell_type": "markdown",
   "metadata": {},
   "source": []
  }
 ],
 "metadata": {
  "kernelspec": {
   "display_name": "Python 3.9.7 ('bdc-scraper')",
   "language": "python",
   "name": "python3"
  },
  "language_info": {
   "codemirror_mode": {
    "name": "ipython",
    "version": 3
   },
   "file_extension": ".py",
   "mimetype": "text/x-python",
   "name": "python",
   "nbconvert_exporter": "python",
   "pygments_lexer": "ipython3",
   "version": "3.9.7"
  },
  "orig_nbformat": 4,
  "vscode": {
   "interpreter": {
    "hash": "8dbee12c48506d0ea52066729cdbd5c841c92d7e5282187c802887604930b19f"
   }
  }
 },
 "nbformat": 4,
 "nbformat_minor": 2
}
